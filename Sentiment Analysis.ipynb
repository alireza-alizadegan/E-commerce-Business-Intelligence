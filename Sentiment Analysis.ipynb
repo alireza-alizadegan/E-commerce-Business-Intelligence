{
 "cells": [
  {
   "cell_type": "markdown",
   "metadata": {
    "colab_type": "text",
    "id": "Jt0xup6UbzIH"
   },
   "source": [
    "<img src='Cover Photo/Sentiment Analysis.png' style='height:450px'/>"
   ]
  },
  {
   "cell_type": "markdown",
   "metadata": {
    "colab_type": "text",
    "id": "zJDSLsvWbzIJ",
    "toc": true
   },
   "source": [
    "<h1>Table of Contents<span class=\"tocSkip\"></span></h1>\n",
    "<div class=\"toc\"><ul class=\"toc-item\"><li><span><a href=\"#Problem-Statement\" data-toc-modified-id=\"Problem-Statement-1\"><span class=\"toc-item-num\">1&nbsp;&nbsp;</span>Problem Statement</a></span></li><li><span><a href=\"#Data-Cleaning\" data-toc-modified-id=\"Data-Cleaning-2\"><span class=\"toc-item-num\">2&nbsp;&nbsp;</span>Data Cleaning</a></span><ul class=\"toc-item\"><li><span><a href=\"#Order-Database\" data-toc-modified-id=\"Order-Database-2.1\"><span class=\"toc-item-num\">2.1&nbsp;&nbsp;</span>Order Database</a></span></li><li><span><a href=\"#Customer-Database\" data-toc-modified-id=\"Customer-Database-2.2\"><span class=\"toc-item-num\">2.2&nbsp;&nbsp;</span>Customer Database</a></span></li><li><span><a href=\"#Payment-Database\" data-toc-modified-id=\"Payment-Database-2.3\"><span class=\"toc-item-num\">2.3&nbsp;&nbsp;</span>Payment Database</a></span></li><li><span><a href=\"#Review-Database\" data-toc-modified-id=\"Review-Database-2.4\"><span class=\"toc-item-num\">2.4&nbsp;&nbsp;</span>Review Database</a></span></li><li><span><a href=\"#Item-Database\" data-toc-modified-id=\"Item-Database-2.5\"><span class=\"toc-item-num\">2.5&nbsp;&nbsp;</span>Item Database</a></span></li><li><span><a href=\"#Product-Database\" data-toc-modified-id=\"Product-Database-2.6\"><span class=\"toc-item-num\">2.6&nbsp;&nbsp;</span>Product Database</a></span></li><li><span><a href=\"#Translation-Database\" data-toc-modified-id=\"Translation-Database-2.7\"><span class=\"toc-item-num\">2.7&nbsp;&nbsp;</span>Translation Database</a></span></li><li><span><a href=\"#Seller-Database\" data-toc-modified-id=\"Seller-Database-2.8\"><span class=\"toc-item-num\">2.8&nbsp;&nbsp;</span>Seller Database</a></span></li><li><span><a href=\"#Database-Joins\" data-toc-modified-id=\"Database-Joins-2.9\"><span class=\"toc-item-num\">2.9&nbsp;&nbsp;</span>Database Joins</a></span></li></ul></li><li><span><a href=\"#Feature-Engineering\" data-toc-modified-id=\"Feature-Engineering-3\"><span class=\"toc-item-num\">3&nbsp;&nbsp;</span>Feature Engineering</a></span><ul class=\"toc-item\"><li><span><a href=\"#Delivery-Delay\" data-toc-modified-id=\"Delivery-Delay-3.1\"><span class=\"toc-item-num\">3.1&nbsp;&nbsp;</span>Delivery Delay</a></span></li><li><span><a href=\"#Extra-Charge\" data-toc-modified-id=\"Extra-Charge-3.2\"><span class=\"toc-item-num\">3.2&nbsp;&nbsp;</span>Extra Charge</a></span></li></ul></li><li><span><a href=\"#Exploratory-Data-Analytics\" data-toc-modified-id=\"Exploratory-Data-Analytics-4\"><span class=\"toc-item-num\">4&nbsp;&nbsp;</span>Exploratory Data Analytics</a></span><ul class=\"toc-item\"><li><span><a href=\"#Score-Distribution\" data-toc-modified-id=\"Score-Distribution-4.1\"><span class=\"toc-item-num\">4.1&nbsp;&nbsp;</span>Score Distribution</a></span></li><li><span><a href=\"#Delivery-Delay\" data-toc-modified-id=\"Delivery-Delay-4.2\"><span class=\"toc-item-num\">4.2&nbsp;&nbsp;</span>Delivery Delay</a></span></li><li><span><a href=\"#Overcharge\" data-toc-modified-id=\"Overcharge-4.3\"><span class=\"toc-item-num\">4.3&nbsp;&nbsp;</span>Overcharge</a></span></li><li><span><a href=\"#Review-Comment\" data-toc-modified-id=\"Review-Comment-4.4\"><span class=\"toc-item-num\">4.4&nbsp;&nbsp;</span>Review Comment</a></span></li><li><span><a href=\"#Price\" data-toc-modified-id=\"Price-4.5\"><span class=\"toc-item-num\">4.5&nbsp;&nbsp;</span>Price</a></span></li><li><span><a href=\"#Freight\" data-toc-modified-id=\"Freight-4.6\"><span class=\"toc-item-num\">4.6&nbsp;&nbsp;</span>Freight</a></span></li></ul></li><li><span><a href=\"#Correlation-Analysis\" data-toc-modified-id=\"Correlation-Analysis-5\"><span class=\"toc-item-num\">5&nbsp;&nbsp;</span>Correlation Analysis</a></span></li><li><span><a href=\"#Logistic-Regression\" data-toc-modified-id=\"Logistic-Regression-6\"><span class=\"toc-item-num\">6&nbsp;&nbsp;</span>Logistic Regression</a></span><ul class=\"toc-item\"><li><span><a href=\"#Baseline-model\" data-toc-modified-id=\"Baseline-model-6.1\"><span class=\"toc-item-num\">6.1&nbsp;&nbsp;</span>Baseline model</a></span></li><li><span><a href=\"#Variance-Inflation-Factor\" data-toc-modified-id=\"Variance-Inflation-Factor-6.2\"><span class=\"toc-item-num\">6.2&nbsp;&nbsp;</span>Variance Inflation Factor</a></span></li><li><span><a href=\"#L1-Regularization\" data-toc-modified-id=\"L1-Regularization-6.3\"><span class=\"toc-item-num\">6.3&nbsp;&nbsp;</span>L1 Regularization</a></span></li></ul></li><li><span><a href=\"#Natural-Language-Processing\" data-toc-modified-id=\"Natural-Language-Processing-7\"><span class=\"toc-item-num\">7&nbsp;&nbsp;</span>Natural Language Processing</a></span><ul class=\"toc-item\"><li><span><a href=\"#Text-Cleaning\" data-toc-modified-id=\"Text-Cleaning-7.1\"><span class=\"toc-item-num\">7.1&nbsp;&nbsp;</span>Text Cleaning</a></span></li><li><span><a href=\"#Logistic-Regression\" data-toc-modified-id=\"Logistic-Regression-7.2\"><span class=\"toc-item-num\">7.2&nbsp;&nbsp;</span>Logistic Regression</a></span></li><li><span><a href=\"#Random-Forest-Model\" data-toc-modified-id=\"Random-Forest-Model-7.3\"><span class=\"toc-item-num\">7.3&nbsp;&nbsp;</span>Random Forest Model</a></span></li><li><span><a href=\"#XGBoost-Model\" data-toc-modified-id=\"XGBoost-Model-7.4\"><span class=\"toc-item-num\">7.4&nbsp;&nbsp;</span>XGBoost Model</a></span></li><li><span><a href=\"#Multilayer-Perceptron\" data-toc-modified-id=\"Multilayer-Perceptron-7.5\"><span class=\"toc-item-num\">7.5&nbsp;&nbsp;</span>Multilayer Perceptron</a></span></li><li><span><a href=\"#Feed-Forward-Neural-Network\" data-toc-modified-id=\"Feed-Forward-Neural-Network-7.6\"><span class=\"toc-item-num\">7.6&nbsp;&nbsp;</span>Feed-Forward Neural Network</a></span></li><li><span><a href=\"#Recurrent-Neural-Network\" data-toc-modified-id=\"Recurrent-Neural-Network-7.7\"><span class=\"toc-item-num\">7.7&nbsp;&nbsp;</span>Recurrent Neural Network</a></span></li></ul></li><li><span><a href=\"#Conclusion\" data-toc-modified-id=\"Conclusion-8\"><span class=\"toc-item-num\">8&nbsp;&nbsp;</span>Conclusion</a></span></li></ul></div>"
   ]
  },
  {
   "cell_type": "markdown",
   "metadata": {
    "colab_type": "text",
    "id": "ptWAjFXHbzIL"
   },
   "source": [
    "# Problem Statement"
   ]
  },
  {
   "cell_type": "markdown",
   "metadata": {
    "colab_type": "text",
    "id": "SnME7oE0bzIM"
   },
   "source": [
    "This report presents a interpretable model to identify factors associated with positive or negative sentiment of customers about their orders left as a review score in an e-commerce setting. These factors can be used to improve business processes and strategies. The data is obtained from a [public repository](https://www.kaggle.com/olistbr/brazilian-ecommerce) where information about the data can be found."
   ]
  },
  {
   "cell_type": "markdown",
   "metadata": {
    "colab_type": "text",
    "id": "glW2Cqn6bzIO"
   },
   "source": [
    "# Data Cleaning"
   ]
  },
  {
   "cell_type": "code",
   "execution_count": 3,
   "metadata": {
    "colab": {},
    "colab_type": "code",
    "id": "SzFK8NOKbzIP",
    "scrolled": true
   },
   "outputs": [],
   "source": [
    "# frequently used python libraries\n",
    "import numpy as np\n",
    "import pandas as pd\n",
    "import matplotlib.pyplot as plt\n",
    "import warnings\n",
    "warnings.filterwarnings('ignore')\n",
    "\n",
    "from sklearn.model_selection import train_test_split\n"
   ]
  },
  {
   "cell_type": "markdown",
   "metadata": {
    "colab_type": "text",
    "id": "p-tXbLVdbzIb"
   },
   "source": [
    "## Order Database"
   ]
  },
  {
   "cell_type": "code",
   "execution_count": 70,
   "metadata": {
    "colab": {
     "base_uri": "https://localhost:8080/",
     "height": 281
    },
    "colab_type": "code",
    "id": "gA6kh9GybzIc",
    "outputId": "1a6d74c9-2f76-4cfb-dbf8-0e61a69b595b",
    "scrolled": true
   },
   "outputs": [
    {
     "name": "stdout",
     "output_type": "stream",
     "text": [
      "<class 'pandas.core.frame.DataFrame'>\n",
      "RangeIndex: 99441 entries, 0 to 99440\n",
      "Data columns (total 8 columns):\n",
      " #   Column                         Non-Null Count  Dtype \n",
      "---  ------                         --------------  ----- \n",
      " 0   order_id                       99441 non-null  object\n",
      " 1   customer_id                    99441 non-null  object\n",
      " 2   order_status                   99441 non-null  object\n",
      " 3   order_purchase_timestamp       99441 non-null  object\n",
      " 4   order_approved_at              99281 non-null  object\n",
      " 5   order_delivered_carrier_date   97658 non-null  object\n",
      " 6   order_delivered_customer_date  96476 non-null  object\n",
      " 7   order_estimated_delivery_date  99441 non-null  object\n",
      "dtypes: object(8)\n",
      "memory usage: 6.1+ MB\n"
     ]
    }
   ],
   "source": [
    "# read data and show its high-level information\n",
    "order_df = pd.read_csv('olist_orders_dataset.csv')\n",
    "order_df.info()"
   ]
  },
  {
   "cell_type": "code",
   "execution_count": 71,
   "metadata": {
    "colab": {
     "base_uri": "https://localhost:8080/",
     "height": 70
    },
    "colab_type": "code",
    "id": "pOD5YmfebzIr",
    "outputId": "a103db14-6682-4ec0-a705-82dbb5be5d50",
    "scrolled": true
   },
   "outputs": [
    {
     "data": {
      "text/plain": [
       "Index(['order_id', 'customer_id', 'order_delivered_customer_date',\n",
       "       'order_estimated_delivery_date'],\n",
       "      dtype='object')"
      ]
     },
     "execution_count": 71,
     "metadata": {
      "tags": []
     },
     "output_type": "execute_result"
    }
   ],
   "source": [
    "# drop irrelevant columns\n",
    "order_df.drop(['order_status',\n",
    "               'order_delivered_carrier_date',\n",
    "               'order_approved_at',\n",
    "               'order_purchase_timestamp'], axis='columns', inplace=True)\n",
    "order_df.columns"
   ]
  },
  {
   "cell_type": "code",
   "execution_count": 72,
   "metadata": {
    "colab": {
     "base_uri": "https://localhost:8080/",
     "height": 105
    },
    "colab_type": "code",
    "id": "isFDY7ukbzIy",
    "outputId": "10b67afd-d197-4518-a4dc-b99d9ecf8489"
   },
   "outputs": [
    {
     "data": {
      "text/plain": [
       "order_id                                 object\n",
       "customer_id                              object\n",
       "order_delivered_customer_date    datetime64[ns]\n",
       "order_estimated_delivery_date    datetime64[ns]\n",
       "dtype: object"
      ]
     },
     "execution_count": 72,
     "metadata": {
      "tags": []
     },
     "output_type": "execute_result"
    }
   ],
   "source": [
    "# assign datetime data type for date/time columns  \n",
    "from datetime import datetime, date\n",
    "for column in ['order_delivered_customer_date', 'order_estimated_delivery_date']:\n",
    "    order_df[column] = pd.to_datetime(order_df[column])\n",
    "order_df.dtypes"
   ]
  },
  {
   "cell_type": "code",
   "execution_count": 73,
   "metadata": {
    "colab": {
     "base_uri": "https://localhost:8080/",
     "height": 47
    },
    "colab_type": "code",
    "id": "0pEAvgIBbzI-",
    "outputId": "efcdae6d-729d-43d4-b3ee-a7cdbf77f070",
    "scrolled": true
   },
   "outputs": [
    {
     "data": {
      "text/html": [
       "<div>\n",
       "<style scoped>\n",
       "    .dataframe tbody tr th:only-of-type {\n",
       "        vertical-align: middle;\n",
       "    }\n",
       "\n",
       "    .dataframe tbody tr th {\n",
       "        vertical-align: top;\n",
       "    }\n",
       "\n",
       "    .dataframe thead th {\n",
       "        text-align: right;\n",
       "    }\n",
       "</style>\n",
       "<table border=\"1\" class=\"dataframe\">\n",
       "  <thead>\n",
       "    <tr style=\"text-align: right;\">\n",
       "      <th></th>\n",
       "      <th>order_id</th>\n",
       "      <th>customer_id</th>\n",
       "      <th>order_delivered_customer_date</th>\n",
       "      <th>order_estimated_delivery_date</th>\n",
       "    </tr>\n",
       "  </thead>\n",
       "  <tbody>\n",
       "  </tbody>\n",
       "</table>\n",
       "</div>"
      ],
      "text/plain": [
       "Empty DataFrame\n",
       "Columns: [order_id, customer_id, order_delivered_customer_date, order_estimated_delivery_date]\n",
       "Index: []"
      ]
     },
     "execution_count": 73,
     "metadata": {
      "tags": []
     },
     "output_type": "execute_result"
    }
   ],
   "source": [
    "# duplicate rows of dataframe\n",
    "order_df[order_df.duplicated()]"
   ]
  },
  {
   "cell_type": "code",
   "execution_count": 74,
   "metadata": {
    "colab": {
     "base_uri": "https://localhost:8080/",
     "height": 195
    },
    "colab_type": "code",
    "id": "ZHAtJcCdbzJF",
    "outputId": "e33f9692-91c8-4e6b-9fe6-a70cb3c83662"
   },
   "outputs": [
    {
     "data": {
      "text/html": [
       "<div>\n",
       "<style scoped>\n",
       "    .dataframe tbody tr th:only-of-type {\n",
       "        vertical-align: middle;\n",
       "    }\n",
       "\n",
       "    .dataframe tbody tr th {\n",
       "        vertical-align: top;\n",
       "    }\n",
       "\n",
       "    .dataframe thead th {\n",
       "        text-align: right;\n",
       "    }\n",
       "</style>\n",
       "<table border=\"1\" class=\"dataframe\">\n",
       "  <thead>\n",
       "    <tr style=\"text-align: right;\">\n",
       "      <th></th>\n",
       "      <th>order_id</th>\n",
       "      <th>customer_id</th>\n",
       "      <th>order_delivered_customer_date</th>\n",
       "      <th>order_estimated_delivery_date</th>\n",
       "    </tr>\n",
       "  </thead>\n",
       "  <tbody>\n",
       "    <tr>\n",
       "      <th>0</th>\n",
       "      <td>e481f51cbdc54678b7cc49136f2d6af7</td>\n",
       "      <td>9ef432eb6251297304e76186b10a928d</td>\n",
       "      <td>2017-10-10 21:25:13</td>\n",
       "      <td>2017-10-18</td>\n",
       "    </tr>\n",
       "    <tr>\n",
       "      <th>1</th>\n",
       "      <td>53cdb2fc8bc7dce0b6741e2150273451</td>\n",
       "      <td>b0830fb4747a6c6d20dea0b8c802d7ef</td>\n",
       "      <td>2018-08-07 15:27:45</td>\n",
       "      <td>2018-08-13</td>\n",
       "    </tr>\n",
       "    <tr>\n",
       "      <th>2</th>\n",
       "      <td>47770eb9100c2d0c44946d9cf07ec65d</td>\n",
       "      <td>41ce2a54c0b03bf3443c3d931a367089</td>\n",
       "      <td>2018-08-17 18:06:29</td>\n",
       "      <td>2018-09-04</td>\n",
       "    </tr>\n",
       "    <tr>\n",
       "      <th>3</th>\n",
       "      <td>949d5b44dbf5de918fe9c16f97b45f8a</td>\n",
       "      <td>f88197465ea7920adcdbec7375364d82</td>\n",
       "      <td>2017-12-02 00:28:42</td>\n",
       "      <td>2017-12-15</td>\n",
       "    </tr>\n",
       "    <tr>\n",
       "      <th>4</th>\n",
       "      <td>ad21c59c0840e6cb83a9ceb5573f8159</td>\n",
       "      <td>8ab97904e6daea8866dbdbc4fb7aad2c</td>\n",
       "      <td>2018-02-16 18:17:02</td>\n",
       "      <td>2018-02-26</td>\n",
       "    </tr>\n",
       "  </tbody>\n",
       "</table>\n",
       "</div>"
      ],
      "text/plain": [
       "                           order_id  ... order_estimated_delivery_date\n",
       "0  e481f51cbdc54678b7cc49136f2d6af7  ...                    2017-10-18\n",
       "1  53cdb2fc8bc7dce0b6741e2150273451  ...                    2018-08-13\n",
       "2  47770eb9100c2d0c44946d9cf07ec65d  ...                    2018-09-04\n",
       "3  949d5b44dbf5de918fe9c16f97b45f8a  ...                    2017-12-15\n",
       "4  ad21c59c0840e6cb83a9ceb5573f8159  ...                    2018-02-26\n",
       "\n",
       "[5 rows x 4 columns]"
      ]
     },
     "execution_count": 74,
     "metadata": {
      "tags": []
     },
     "output_type": "execute_result"
    }
   ],
   "source": [
    "# head of values\n",
    "order_df.head()"
   ]
  },
  {
   "cell_type": "markdown",
   "metadata": {
    "colab_type": "text",
    "id": "I0RbphIhbzJO"
   },
   "source": [
    "## Customer Database"
   ]
  },
  {
   "cell_type": "code",
   "execution_count": 75,
   "metadata": {
    "colab": {
     "base_uri": "https://localhost:8080/",
     "height": 228
    },
    "colab_type": "code",
    "id": "fJeBVdJsbzJP",
    "outputId": "031c6073-34e8-47bd-b78f-0d03cff2e609",
    "scrolled": true
   },
   "outputs": [
    {
     "name": "stdout",
     "output_type": "stream",
     "text": [
      "<class 'pandas.core.frame.DataFrame'>\n",
      "RangeIndex: 99441 entries, 0 to 99440\n",
      "Data columns (total 5 columns):\n",
      " #   Column                    Non-Null Count  Dtype \n",
      "---  ------                    --------------  ----- \n",
      " 0   customer_id               99441 non-null  object\n",
      " 1   customer_unique_id        99441 non-null  object\n",
      " 2   customer_zip_code_prefix  99441 non-null  int64 \n",
      " 3   customer_city             99441 non-null  object\n",
      " 4   customer_state            99441 non-null  object\n",
      "dtypes: int64(1), object(4)\n",
      "memory usage: 3.8+ MB\n"
     ]
    }
   ],
   "source": [
    "# read data and show its high-level information\n",
    "customer_df = pd.read_csv('olist_customers_dataset.csv')\n",
    "customer_df.info()"
   ]
  },
  {
   "cell_type": "code",
   "execution_count": 76,
   "metadata": {
    "colab": {},
    "colab_type": "code",
    "id": "ouwLHr7ubzJV"
   },
   "outputs": [],
   "source": [
    "# drop irrelevant columns\n",
    "customer_df.drop(['customer_zip_code_prefix',\n",
    "                  'customer_city'], axis='columns', inplace=True)"
   ]
  },
  {
   "cell_type": "code",
   "execution_count": 77,
   "metadata": {
    "colab": {
     "base_uri": "https://localhost:8080/",
     "height": 87
    },
    "colab_type": "code",
    "id": "NqIkvsDIbzJd",
    "outputId": "5b1e95a8-0903-47cc-c9c8-89168fdb4ff8",
    "scrolled": true
   },
   "outputs": [
    {
     "data": {
      "text/plain": [
       "customer_id           99441\n",
       "customer_unique_id    96096\n",
       "customer_state           27\n",
       "dtype: int64"
      ]
     },
     "execution_count": 77,
     "metadata": {
      "tags": []
     },
     "output_type": "execute_result"
    }
   ],
   "source": [
    "customer_df.nunique()"
   ]
  },
  {
   "cell_type": "code",
   "execution_count": 78,
   "metadata": {
    "colab": {
     "base_uri": "https://localhost:8080/",
     "height": 47
    },
    "colab_type": "code",
    "id": "YOXe1n-RbzJm",
    "outputId": "e3c74c49-7a11-4c35-97fc-43e16b3cb163",
    "scrolled": true
   },
   "outputs": [
    {
     "data": {
      "text/html": [
       "<div>\n",
       "<style scoped>\n",
       "    .dataframe tbody tr th:only-of-type {\n",
       "        vertical-align: middle;\n",
       "    }\n",
       "\n",
       "    .dataframe tbody tr th {\n",
       "        vertical-align: top;\n",
       "    }\n",
       "\n",
       "    .dataframe thead th {\n",
       "        text-align: right;\n",
       "    }\n",
       "</style>\n",
       "<table border=\"1\" class=\"dataframe\">\n",
       "  <thead>\n",
       "    <tr style=\"text-align: right;\">\n",
       "      <th></th>\n",
       "      <th>customer_id</th>\n",
       "      <th>customer_unique_id</th>\n",
       "      <th>customer_state</th>\n",
       "    </tr>\n",
       "  </thead>\n",
       "  <tbody>\n",
       "  </tbody>\n",
       "</table>\n",
       "</div>"
      ],
      "text/plain": [
       "Empty DataFrame\n",
       "Columns: [customer_id, customer_unique_id, customer_state]\n",
       "Index: []"
      ]
     },
     "execution_count": 78,
     "metadata": {
      "tags": []
     },
     "output_type": "execute_result"
    }
   ],
   "source": [
    "# duplicate rows of dataframe\n",
    "customer_df[customer_df.duplicated()]"
   ]
  },
  {
   "cell_type": "code",
   "execution_count": 79,
   "metadata": {
    "colab": {
     "base_uri": "https://localhost:8080/",
     "height": 195
    },
    "colab_type": "code",
    "id": "e_6_yGwGbzJx",
    "outputId": "4f557b2d-9ae3-48d8-cdb1-fb2c651a333a",
    "scrolled": true
   },
   "outputs": [
    {
     "data": {
      "text/html": [
       "<div>\n",
       "<style scoped>\n",
       "    .dataframe tbody tr th:only-of-type {\n",
       "        vertical-align: middle;\n",
       "    }\n",
       "\n",
       "    .dataframe tbody tr th {\n",
       "        vertical-align: top;\n",
       "    }\n",
       "\n",
       "    .dataframe thead th {\n",
       "        text-align: right;\n",
       "    }\n",
       "</style>\n",
       "<table border=\"1\" class=\"dataframe\">\n",
       "  <thead>\n",
       "    <tr style=\"text-align: right;\">\n",
       "      <th></th>\n",
       "      <th>customer_id</th>\n",
       "      <th>customer_unique_id</th>\n",
       "      <th>customer_state</th>\n",
       "    </tr>\n",
       "  </thead>\n",
       "  <tbody>\n",
       "    <tr>\n",
       "      <th>0</th>\n",
       "      <td>06b8999e2fba1a1fbc88172c00ba8bc7</td>\n",
       "      <td>861eff4711a542e4b93843c6dd7febb0</td>\n",
       "      <td>SP</td>\n",
       "    </tr>\n",
       "    <tr>\n",
       "      <th>1</th>\n",
       "      <td>18955e83d337fd6b2def6b18a428ac77</td>\n",
       "      <td>290c77bc529b7ac935b93aa66c333dc3</td>\n",
       "      <td>SP</td>\n",
       "    </tr>\n",
       "    <tr>\n",
       "      <th>2</th>\n",
       "      <td>4e7b3e00288586ebd08712fdd0374a03</td>\n",
       "      <td>060e732b5b29e8181a18229c7b0b2b5e</td>\n",
       "      <td>SP</td>\n",
       "    </tr>\n",
       "    <tr>\n",
       "      <th>3</th>\n",
       "      <td>b2b6027bc5c5109e529d4dc6358b12c3</td>\n",
       "      <td>259dac757896d24d7702b9acbbff3f3c</td>\n",
       "      <td>SP</td>\n",
       "    </tr>\n",
       "    <tr>\n",
       "      <th>4</th>\n",
       "      <td>4f2d8ab171c80ec8364f7c12e35b23ad</td>\n",
       "      <td>345ecd01c38d18a9036ed96c73b8d066</td>\n",
       "      <td>SP</td>\n",
       "    </tr>\n",
       "  </tbody>\n",
       "</table>\n",
       "</div>"
      ],
      "text/plain": [
       "                        customer_id  ... customer_state\n",
       "0  06b8999e2fba1a1fbc88172c00ba8bc7  ...             SP\n",
       "1  18955e83d337fd6b2def6b18a428ac77  ...             SP\n",
       "2  4e7b3e00288586ebd08712fdd0374a03  ...             SP\n",
       "3  b2b6027bc5c5109e529d4dc6358b12c3  ...             SP\n",
       "4  4f2d8ab171c80ec8364f7c12e35b23ad  ...             SP\n",
       "\n",
       "[5 rows x 3 columns]"
      ]
     },
     "execution_count": 79,
     "metadata": {
      "tags": []
     },
     "output_type": "execute_result"
    }
   ],
   "source": [
    "# head of values\n",
    "customer_df.head()"
   ]
  },
  {
   "cell_type": "markdown",
   "metadata": {
    "colab_type": "text",
    "id": "MUq8Z4-ibzJ3"
   },
   "source": [
    "## Payment Database"
   ]
  },
  {
   "cell_type": "code",
   "execution_count": 80,
   "metadata": {
    "colab": {
     "base_uri": "https://localhost:8080/",
     "height": 228
    },
    "colab_type": "code",
    "id": "tNpTZRY3bzJ6",
    "outputId": "91ab6bc7-0e20-45a7-fd4d-0d83ea53058c"
   },
   "outputs": [
    {
     "name": "stdout",
     "output_type": "stream",
     "text": [
      "<class 'pandas.core.frame.DataFrame'>\n",
      "RangeIndex: 103886 entries, 0 to 103885\n",
      "Data columns (total 5 columns):\n",
      " #   Column                Non-Null Count   Dtype  \n",
      "---  ------                --------------   -----  \n",
      " 0   order_id              103886 non-null  object \n",
      " 1   payment_sequential    103886 non-null  int64  \n",
      " 2   payment_type          103886 non-null  object \n",
      " 3   payment_installments  103886 non-null  int64  \n",
      " 4   payment_value         103886 non-null  float64\n",
      "dtypes: float64(1), int64(2), object(2)\n",
      "memory usage: 4.0+ MB\n"
     ]
    }
   ],
   "source": [
    "# read data and show its high-level information\n",
    "payment_df = pd.read_csv('olist_order_payments_dataset.csv')\n",
    "payment_df.info()"
   ]
  },
  {
   "cell_type": "code",
   "execution_count": 81,
   "metadata": {
    "colab": {
     "base_uri": "https://localhost:8080/",
     "height": 34
    },
    "colab_type": "code",
    "id": "1zvmzB7bbzKA",
    "outputId": "a1415bf8-f284-48e2-9f07-df7db4b5c807"
   },
   "outputs": [
    {
     "data": {
      "text/plain": [
       "99440"
      ]
     },
     "execution_count": 81,
     "metadata": {
      "tags": []
     },
     "output_type": "execute_result"
    }
   ],
   "source": [
    "payment_df.order_id.nunique()"
   ]
  },
  {
   "cell_type": "code",
   "execution_count": 82,
   "metadata": {
    "colab": {
     "base_uri": "https://localhost:8080/",
     "height": 195
    },
    "colab_type": "code",
    "id": "gZUMC17ObzKG",
    "outputId": "62afbcbc-3cb9-422c-c0eb-b74ff8e21b33"
   },
   "outputs": [
    {
     "data": {
      "text/html": [
       "<div>\n",
       "<style scoped>\n",
       "    .dataframe tbody tr th:only-of-type {\n",
       "        vertical-align: middle;\n",
       "    }\n",
       "\n",
       "    .dataframe tbody tr th {\n",
       "        vertical-align: top;\n",
       "    }\n",
       "\n",
       "    .dataframe thead th {\n",
       "        text-align: right;\n",
       "    }\n",
       "</style>\n",
       "<table border=\"1\" class=\"dataframe\">\n",
       "  <thead>\n",
       "    <tr style=\"text-align: right;\">\n",
       "      <th></th>\n",
       "      <th>order_id</th>\n",
       "      <th>payment_sequential</th>\n",
       "      <th>payment_type</th>\n",
       "      <th>payment_installments</th>\n",
       "      <th>payment_value</th>\n",
       "    </tr>\n",
       "  </thead>\n",
       "  <tbody>\n",
       "    <tr>\n",
       "      <th>0</th>\n",
       "      <td>b81ef226f3fe1789b1e8b2acac839d17</td>\n",
       "      <td>1</td>\n",
       "      <td>credit_card</td>\n",
       "      <td>8</td>\n",
       "      <td>99.33</td>\n",
       "    </tr>\n",
       "    <tr>\n",
       "      <th>1</th>\n",
       "      <td>a9810da82917af2d9aefd1278f1dcfa0</td>\n",
       "      <td>1</td>\n",
       "      <td>credit_card</td>\n",
       "      <td>1</td>\n",
       "      <td>24.39</td>\n",
       "    </tr>\n",
       "    <tr>\n",
       "      <th>2</th>\n",
       "      <td>25e8ea4e93396b6fa0d3dd708e76c1bd</td>\n",
       "      <td>1</td>\n",
       "      <td>credit_card</td>\n",
       "      <td>1</td>\n",
       "      <td>65.71</td>\n",
       "    </tr>\n",
       "    <tr>\n",
       "      <th>3</th>\n",
       "      <td>ba78997921bbcdc1373bb41e913ab953</td>\n",
       "      <td>1</td>\n",
       "      <td>credit_card</td>\n",
       "      <td>8</td>\n",
       "      <td>107.78</td>\n",
       "    </tr>\n",
       "    <tr>\n",
       "      <th>4</th>\n",
       "      <td>42fdf880ba16b47b59251dd489d4441a</td>\n",
       "      <td>1</td>\n",
       "      <td>credit_card</td>\n",
       "      <td>2</td>\n",
       "      <td>128.45</td>\n",
       "    </tr>\n",
       "  </tbody>\n",
       "</table>\n",
       "</div>"
      ],
      "text/plain": [
       "                           order_id  ...  payment_value\n",
       "0  b81ef226f3fe1789b1e8b2acac839d17  ...          99.33\n",
       "1  a9810da82917af2d9aefd1278f1dcfa0  ...          24.39\n",
       "2  25e8ea4e93396b6fa0d3dd708e76c1bd  ...          65.71\n",
       "3  ba78997921bbcdc1373bb41e913ab953  ...         107.78\n",
       "4  42fdf880ba16b47b59251dd489d4441a  ...         128.45\n",
       "\n",
       "[5 rows x 5 columns]"
      ]
     },
     "execution_count": 82,
     "metadata": {
      "tags": []
     },
     "output_type": "execute_result"
    }
   ],
   "source": [
    "# head of values\n",
    "payment_df.head()"
   ]
  },
  {
   "cell_type": "code",
   "execution_count": 83,
   "metadata": {
    "colab": {
     "base_uri": "https://localhost:8080/",
     "height": 284
    },
    "colab_type": "code",
    "id": "3YcjFkHIbzKO",
    "outputId": "379ef506-ae56-49f3-e277-5cc3896d904f",
    "scrolled": true
   },
   "outputs": [
    {
     "data": {
      "text/html": [
       "<div>\n",
       "<style scoped>\n",
       "    .dataframe tbody tr th:only-of-type {\n",
       "        vertical-align: middle;\n",
       "    }\n",
       "\n",
       "    .dataframe tbody tr th {\n",
       "        vertical-align: top;\n",
       "    }\n",
       "\n",
       "    .dataframe thead th {\n",
       "        text-align: right;\n",
       "    }\n",
       "</style>\n",
       "<table border=\"1\" class=\"dataframe\">\n",
       "  <thead>\n",
       "    <tr style=\"text-align: right;\">\n",
       "      <th></th>\n",
       "      <th>payment_sequential</th>\n",
       "      <th>payment_installments</th>\n",
       "      <th>payment_value</th>\n",
       "    </tr>\n",
       "  </thead>\n",
       "  <tbody>\n",
       "    <tr>\n",
       "      <th>count</th>\n",
       "      <td>103886.000000</td>\n",
       "      <td>103886.000000</td>\n",
       "      <td>103886.000000</td>\n",
       "    </tr>\n",
       "    <tr>\n",
       "      <th>mean</th>\n",
       "      <td>1.092679</td>\n",
       "      <td>2.853349</td>\n",
       "      <td>154.100380</td>\n",
       "    </tr>\n",
       "    <tr>\n",
       "      <th>std</th>\n",
       "      <td>0.706584</td>\n",
       "      <td>2.687051</td>\n",
       "      <td>217.494064</td>\n",
       "    </tr>\n",
       "    <tr>\n",
       "      <th>min</th>\n",
       "      <td>1.000000</td>\n",
       "      <td>0.000000</td>\n",
       "      <td>0.000000</td>\n",
       "    </tr>\n",
       "    <tr>\n",
       "      <th>25%</th>\n",
       "      <td>1.000000</td>\n",
       "      <td>1.000000</td>\n",
       "      <td>56.790000</td>\n",
       "    </tr>\n",
       "    <tr>\n",
       "      <th>50%</th>\n",
       "      <td>1.000000</td>\n",
       "      <td>1.000000</td>\n",
       "      <td>100.000000</td>\n",
       "    </tr>\n",
       "    <tr>\n",
       "      <th>75%</th>\n",
       "      <td>1.000000</td>\n",
       "      <td>4.000000</td>\n",
       "      <td>171.837500</td>\n",
       "    </tr>\n",
       "    <tr>\n",
       "      <th>max</th>\n",
       "      <td>29.000000</td>\n",
       "      <td>24.000000</td>\n",
       "      <td>13664.080000</td>\n",
       "    </tr>\n",
       "  </tbody>\n",
       "</table>\n",
       "</div>"
      ],
      "text/plain": [
       "       payment_sequential  payment_installments  payment_value\n",
       "count       103886.000000         103886.000000  103886.000000\n",
       "mean             1.092679              2.853349     154.100380\n",
       "std              0.706584              2.687051     217.494064\n",
       "min              1.000000              0.000000       0.000000\n",
       "25%              1.000000              1.000000      56.790000\n",
       "50%              1.000000              1.000000     100.000000\n",
       "75%              1.000000              4.000000     171.837500\n",
       "max             29.000000             24.000000   13664.080000"
      ]
     },
     "execution_count": 83,
     "metadata": {
      "tags": []
     },
     "output_type": "execute_result"
    }
   ],
   "source": [
    "payment_df.describe()"
   ]
  },
  {
   "cell_type": "code",
   "execution_count": 84,
   "metadata": {
    "colab": {
     "base_uri": "https://localhost:8080/",
     "height": 122
    },
    "colab_type": "code",
    "id": "Zm_9tgTzbzKU",
    "outputId": "9357ee80-2ab3-4854-94bf-f1c3d50d0b4a"
   },
   "outputs": [
    {
     "data": {
      "text/plain": [
       "order_id                99440\n",
       "payment_sequential         29\n",
       "payment_type                5\n",
       "payment_installments       24\n",
       "payment_value           29077\n",
       "dtype: int64"
      ]
     },
     "execution_count": 84,
     "metadata": {
      "tags": []
     },
     "output_type": "execute_result"
    }
   ],
   "source": [
    "payment_df.nunique()"
   ]
  },
  {
   "cell_type": "code",
   "execution_count": 86,
   "metadata": {
    "colab": {
     "base_uri": "https://localhost:8080/",
     "height": 47
    },
    "colab_type": "code",
    "id": "Fpng4l44bzKl",
    "outputId": "15996bca-847f-4577-ed0c-c25285ced603",
    "scrolled": true
   },
   "outputs": [
    {
     "data": {
      "text/html": [
       "<div>\n",
       "<style scoped>\n",
       "    .dataframe tbody tr th:only-of-type {\n",
       "        vertical-align: middle;\n",
       "    }\n",
       "\n",
       "    .dataframe tbody tr th {\n",
       "        vertical-align: top;\n",
       "    }\n",
       "\n",
       "    .dataframe thead th {\n",
       "        text-align: right;\n",
       "    }\n",
       "</style>\n",
       "<table border=\"1\" class=\"dataframe\">\n",
       "  <thead>\n",
       "    <tr style=\"text-align: right;\">\n",
       "      <th></th>\n",
       "      <th>order_id</th>\n",
       "      <th>payment_sequential</th>\n",
       "      <th>payment_type</th>\n",
       "      <th>payment_installments</th>\n",
       "      <th>payment_value</th>\n",
       "    </tr>\n",
       "  </thead>\n",
       "  <tbody>\n",
       "  </tbody>\n",
       "</table>\n",
       "</div>"
      ],
      "text/plain": [
       "Empty DataFrame\n",
       "Columns: [order_id, payment_sequential, payment_type, payment_installments, payment_value]\n",
       "Index: []"
      ]
     },
     "execution_count": 86,
     "metadata": {
      "tags": []
     },
     "output_type": "execute_result"
    }
   ],
   "source": [
    "# duplicate rows of dataframe\n",
    "payment_df[payment_df.duplicated()]"
   ]
  },
  {
   "cell_type": "markdown",
   "metadata": {
    "colab_type": "text",
    "id": "53RZIvVxbzKq"
   },
   "source": [
    "## Review Database"
   ]
  },
  {
   "cell_type": "code",
   "execution_count": 87,
   "metadata": {
    "colab": {
     "base_uri": "https://localhost:8080/",
     "height": 263
    },
    "colab_type": "code",
    "id": "IYiMSJvkbzKs",
    "outputId": "2d9c9fb1-0018-43a2-ef18-47bb0616254d"
   },
   "outputs": [
    {
     "name": "stdout",
     "output_type": "stream",
     "text": [
      "<class 'pandas.core.frame.DataFrame'>\n",
      "RangeIndex: 100000 entries, 0 to 99999\n",
      "Data columns (total 7 columns):\n",
      " #   Column                   Non-Null Count   Dtype \n",
      "---  ------                   --------------   ----- \n",
      " 0   review_id                100000 non-null  object\n",
      " 1   order_id                 100000 non-null  object\n",
      " 2   review_score             100000 non-null  int64 \n",
      " 3   review_comment_title     11715 non-null   object\n",
      " 4   review_comment_message   41753 non-null   object\n",
      " 5   review_creation_date     100000 non-null  object\n",
      " 6   review_answer_timestamp  100000 non-null  object\n",
      "dtypes: int64(1), object(6)\n",
      "memory usage: 5.3+ MB\n"
     ]
    }
   ],
   "source": [
    "# read data and show its high-level information\n",
    "review_df = pd.read_csv('olist_order_reviews_dataset.csv')\n",
    "review_df.info()"
   ]
  },
  {
   "cell_type": "code",
   "execution_count": 88,
   "metadata": {
    "colab": {
     "base_uri": "https://localhost:8080/",
     "height": 70
    },
    "colab_type": "code",
    "id": "u4wfc0vtbzKy",
    "outputId": "9f66b24b-030c-4bf3-ba3f-bb95cad4f2c6",
    "scrolled": true
   },
   "outputs": [
    {
     "data": {
      "text/plain": [
       "Index(['order_id', 'review_score', 'review_comment_title',\n",
       "       'review_comment_message'],\n",
       "      dtype='object')"
      ]
     },
     "execution_count": 88,
     "metadata": {
      "tags": []
     },
     "output_type": "execute_result"
    }
   ],
   "source": [
    "# drop irrelevant columns\n",
    "review_df.drop(['review_id',\n",
    "                'review_creation_date',\n",
    "                'review_answer_timestamp'], axis='columns', inplace=True)\n",
    "review_df.columns"
   ]
  },
  {
   "cell_type": "code",
   "execution_count": 89,
   "metadata": {
    "colab": {
     "base_uri": "https://localhost:8080/",
     "height": 210
    },
    "colab_type": "code",
    "id": "YpNhra2QbzK4",
    "outputId": "0f414470-0167-42b8-8115-58dd33ba0e27",
    "scrolled": true
   },
   "outputs": [
    {
     "name": "stdout",
     "output_type": "stream",
     "text": [
      "<class 'pandas.core.frame.DataFrame'>\n",
      "RangeIndex: 100000 entries, 0 to 99999\n",
      "Data columns (total 4 columns):\n",
      " #   Column                  Non-Null Count   Dtype \n",
      "---  ------                  --------------   ----- \n",
      " 0   order_id                100000 non-null  object\n",
      " 1   review_score            100000 non-null  int64 \n",
      " 2   review_comment_title    100000 non-null  object\n",
      " 3   review_comment_message  100000 non-null  object\n",
      "dtypes: int64(1), object(3)\n",
      "memory usage: 3.1+ MB\n"
     ]
    }
   ],
   "source": [
    "for columns in ['review_comment_title', 'review_comment_message']:\n",
    "    # replace present values with 1\n",
    "    review_df.loc[review_df[columns].notnull(), columns] = 1\n",
    "    # replace null values with 0\n",
    "    review_df.loc[review_df[columns].isna(), columns] = 0\n",
    "review_df.info()"
   ]
  },
  {
   "cell_type": "code",
   "execution_count": 90,
   "metadata": {
    "colab": {
     "base_uri": "https://localhost:8080/",
     "height": 402
    },
    "colab_type": "code",
    "id": "VYxvi5rabzK_",
    "outputId": "4f10ddbb-ab2f-4d5a-b341-2b9e88213842",
    "scrolled": true
   },
   "outputs": [
    {
     "data": {
      "text/html": [
       "<div>\n",
       "<style scoped>\n",
       "    .dataframe tbody tr th:only-of-type {\n",
       "        vertical-align: middle;\n",
       "    }\n",
       "\n",
       "    .dataframe tbody tr th {\n",
       "        vertical-align: top;\n",
       "    }\n",
       "\n",
       "    .dataframe thead th {\n",
       "        text-align: right;\n",
       "    }\n",
       "</style>\n",
       "<table border=\"1\" class=\"dataframe\">\n",
       "  <thead>\n",
       "    <tr style=\"text-align: right;\">\n",
       "      <th></th>\n",
       "      <th>order_id</th>\n",
       "      <th>review_score</th>\n",
       "      <th>review_comment_title</th>\n",
       "      <th>review_comment_message</th>\n",
       "    </tr>\n",
       "  </thead>\n",
       "  <tbody>\n",
       "    <tr>\n",
       "      <th>1128</th>\n",
       "      <td>5040757d4e06a4be96d3827b860b4e7c</td>\n",
       "      <td>5</td>\n",
       "      <td>0</td>\n",
       "      <td>0</td>\n",
       "    </tr>\n",
       "    <tr>\n",
       "      <th>3127</th>\n",
       "      <td>cf73e2cb1f4a9480ed70c154da3d954a</td>\n",
       "      <td>5</td>\n",
       "      <td>0</td>\n",
       "      <td>0</td>\n",
       "    </tr>\n",
       "    <tr>\n",
       "      <th>9128</th>\n",
       "      <td>c7cfea0c153e6382e32e84c2a9dd7d2e</td>\n",
       "      <td>5</td>\n",
       "      <td>0</td>\n",
       "      <td>0</td>\n",
       "    </tr>\n",
       "    <tr>\n",
       "      <th>10652</th>\n",
       "      <td>0715dfcf2383aa72c181d8b47f6cb589</td>\n",
       "      <td>5</td>\n",
       "      <td>0</td>\n",
       "      <td>0</td>\n",
       "    </tr>\n",
       "    <tr>\n",
       "      <th>12682</th>\n",
       "      <td>f63a31c3349b87273468ff7e66852056</td>\n",
       "      <td>5</td>\n",
       "      <td>0</td>\n",
       "      <td>0</td>\n",
       "    </tr>\n",
       "    <tr>\n",
       "      <th>...</th>\n",
       "      <td>...</td>\n",
       "      <td>...</td>\n",
       "      <td>...</td>\n",
       "      <td>...</td>\n",
       "    </tr>\n",
       "    <tr>\n",
       "      <th>99422</th>\n",
       "      <td>1de86d094f7dd41cca13d246d3b7fd07</td>\n",
       "      <td>5</td>\n",
       "      <td>0</td>\n",
       "      <td>0</td>\n",
       "    </tr>\n",
       "    <tr>\n",
       "      <th>99445</th>\n",
       "      <td>baed56f3eda9223b74c6cf175f05678e</td>\n",
       "      <td>5</td>\n",
       "      <td>0</td>\n",
       "      <td>0</td>\n",
       "    </tr>\n",
       "    <tr>\n",
       "      <th>99536</th>\n",
       "      <td>f2f99bdf2e5cc73abc5e135a2ab1767e</td>\n",
       "      <td>5</td>\n",
       "      <td>0</td>\n",
       "      <td>1</td>\n",
       "    </tr>\n",
       "    <tr>\n",
       "      <th>99762</th>\n",
       "      <td>c0db7d31ace61fc360a3eaa34dd3457c</td>\n",
       "      <td>5</td>\n",
       "      <td>0</td>\n",
       "      <td>0</td>\n",
       "    </tr>\n",
       "    <tr>\n",
       "      <th>99939</th>\n",
       "      <td>c5334d330e36d2a810a7a13c72e135ee</td>\n",
       "      <td>5</td>\n",
       "      <td>0</td>\n",
       "      <td>1</td>\n",
       "    </tr>\n",
       "  </tbody>\n",
       "</table>\n",
       "<p>308 rows × 4 columns</p>\n",
       "</div>"
      ],
      "text/plain": [
       "                               order_id  ...  review_comment_message\n",
       "1128   5040757d4e06a4be96d3827b860b4e7c  ...                       0\n",
       "3127   cf73e2cb1f4a9480ed70c154da3d954a  ...                       0\n",
       "9128   c7cfea0c153e6382e32e84c2a9dd7d2e  ...                       0\n",
       "10652  0715dfcf2383aa72c181d8b47f6cb589  ...                       0\n",
       "12682  f63a31c3349b87273468ff7e66852056  ...                       0\n",
       "...                                 ...  ...                     ...\n",
       "99422  1de86d094f7dd41cca13d246d3b7fd07  ...                       0\n",
       "99445  baed56f3eda9223b74c6cf175f05678e  ...                       0\n",
       "99536  f2f99bdf2e5cc73abc5e135a2ab1767e  ...                       1\n",
       "99762  c0db7d31ace61fc360a3eaa34dd3457c  ...                       0\n",
       "99939  c5334d330e36d2a810a7a13c72e135ee  ...                       1\n",
       "\n",
       "[308 rows x 4 columns]"
      ]
     },
     "execution_count": 90,
     "metadata": {
      "tags": []
     },
     "output_type": "execute_result"
    }
   ],
   "source": [
    "# duplicate rows of dataframe\n",
    "review_df[review_df.duplicated()]"
   ]
  },
  {
   "cell_type": "code",
   "execution_count": 91,
   "metadata": {
    "colab": {
     "base_uri": "https://localhost:8080/",
     "height": 195
    },
    "colab_type": "code",
    "id": "YJSmQwrPbzLE",
    "outputId": "1b07af46-6dcd-4aba-d977-3d973d6b5c06",
    "scrolled": true
   },
   "outputs": [
    {
     "data": {
      "text/html": [
       "<div>\n",
       "<style scoped>\n",
       "    .dataframe tbody tr th:only-of-type {\n",
       "        vertical-align: middle;\n",
       "    }\n",
       "\n",
       "    .dataframe tbody tr th {\n",
       "        vertical-align: top;\n",
       "    }\n",
       "\n",
       "    .dataframe thead th {\n",
       "        text-align: right;\n",
       "    }\n",
       "</style>\n",
       "<table border=\"1\" class=\"dataframe\">\n",
       "  <thead>\n",
       "    <tr style=\"text-align: right;\">\n",
       "      <th></th>\n",
       "      <th>order_id</th>\n",
       "      <th>review_score</th>\n",
       "      <th>review_comment_title</th>\n",
       "      <th>review_comment_message</th>\n",
       "    </tr>\n",
       "  </thead>\n",
       "  <tbody>\n",
       "    <tr>\n",
       "      <th>0</th>\n",
       "      <td>73fc7af87114b39712e6da79b0a377eb</td>\n",
       "      <td>4</td>\n",
       "      <td>0</td>\n",
       "      <td>0</td>\n",
       "    </tr>\n",
       "    <tr>\n",
       "      <th>1</th>\n",
       "      <td>a548910a1c6147796b98fdf73dbeba33</td>\n",
       "      <td>5</td>\n",
       "      <td>0</td>\n",
       "      <td>0</td>\n",
       "    </tr>\n",
       "    <tr>\n",
       "      <th>2</th>\n",
       "      <td>f9e4b658b201a9f2ecdecbb34bed034b</td>\n",
       "      <td>5</td>\n",
       "      <td>0</td>\n",
       "      <td>0</td>\n",
       "    </tr>\n",
       "    <tr>\n",
       "      <th>3</th>\n",
       "      <td>658677c97b385a9be170737859d3511b</td>\n",
       "      <td>5</td>\n",
       "      <td>0</td>\n",
       "      <td>1</td>\n",
       "    </tr>\n",
       "    <tr>\n",
       "      <th>4</th>\n",
       "      <td>8e6bfb81e283fa7e4f11123a3fb894f1</td>\n",
       "      <td>5</td>\n",
       "      <td>0</td>\n",
       "      <td>1</td>\n",
       "    </tr>\n",
       "  </tbody>\n",
       "</table>\n",
       "</div>"
      ],
      "text/plain": [
       "                           order_id  ...  review_comment_message\n",
       "0  73fc7af87114b39712e6da79b0a377eb  ...                       0\n",
       "1  a548910a1c6147796b98fdf73dbeba33  ...                       0\n",
       "2  f9e4b658b201a9f2ecdecbb34bed034b  ...                       0\n",
       "3  658677c97b385a9be170737859d3511b  ...                       1\n",
       "4  8e6bfb81e283fa7e4f11123a3fb894f1  ...                       1\n",
       "\n",
       "[5 rows x 4 columns]"
      ]
     },
     "execution_count": 91,
     "metadata": {
      "tags": []
     },
     "output_type": "execute_result"
    }
   ],
   "source": [
    "# head of values\n",
    "review_df.head()"
   ]
  },
  {
   "cell_type": "markdown",
   "metadata": {
    "colab_type": "text",
    "id": "4sMOWnuLbzLL"
   },
   "source": [
    "## Item Database"
   ]
  },
  {
   "cell_type": "code",
   "execution_count": 92,
   "metadata": {
    "colab": {
     "base_uri": "https://localhost:8080/",
     "height": 263
    },
    "colab_type": "code",
    "id": "t2PincgKbzLM",
    "outputId": "b43eaa12-0324-4966-9d7d-9c3f609b646f",
    "scrolled": true
   },
   "outputs": [
    {
     "name": "stdout",
     "output_type": "stream",
     "text": [
      "<class 'pandas.core.frame.DataFrame'>\n",
      "RangeIndex: 112650 entries, 0 to 112649\n",
      "Data columns (total 7 columns):\n",
      " #   Column               Non-Null Count   Dtype  \n",
      "---  ------               --------------   -----  \n",
      " 0   order_id             112650 non-null  object \n",
      " 1   order_item_id        112650 non-null  int64  \n",
      " 2   product_id           112650 non-null  object \n",
      " 3   seller_id            112650 non-null  object \n",
      " 4   shipping_limit_date  112650 non-null  object \n",
      " 5   price                112650 non-null  float64\n",
      " 6   freight_value        112650 non-null  float64\n",
      "dtypes: float64(2), int64(1), object(4)\n",
      "memory usage: 6.0+ MB\n"
     ]
    }
   ],
   "source": [
    "# read data and show its high-level information\n",
    "item_df = pd.read_csv('olist_order_items_dataset.csv')\n",
    "item_df.info()"
   ]
  },
  {
   "cell_type": "code",
   "execution_count": 93,
   "metadata": {
    "colab": {
     "base_uri": "https://localhost:8080/",
     "height": 47
    },
    "colab_type": "code",
    "id": "XQ-_mxvDbzLS",
    "outputId": "7da77935-28c3-46dc-b7fc-c7ae40b3a611"
   },
   "outputs": [
    {
     "data": {
      "text/html": [
       "<div>\n",
       "<style scoped>\n",
       "    .dataframe tbody tr th:only-of-type {\n",
       "        vertical-align: middle;\n",
       "    }\n",
       "\n",
       "    .dataframe tbody tr th {\n",
       "        vertical-align: top;\n",
       "    }\n",
       "\n",
       "    .dataframe thead th {\n",
       "        text-align: right;\n",
       "    }\n",
       "</style>\n",
       "<table border=\"1\" class=\"dataframe\">\n",
       "  <thead>\n",
       "    <tr style=\"text-align: right;\">\n",
       "      <th></th>\n",
       "      <th>order_id</th>\n",
       "      <th>order_item_id</th>\n",
       "      <th>product_id</th>\n",
       "      <th>seller_id</th>\n",
       "      <th>shipping_limit_date</th>\n",
       "      <th>price</th>\n",
       "      <th>freight_value</th>\n",
       "    </tr>\n",
       "  </thead>\n",
       "  <tbody>\n",
       "  </tbody>\n",
       "</table>\n",
       "</div>"
      ],
      "text/plain": [
       "Empty DataFrame\n",
       "Columns: [order_id, order_item_id, product_id, seller_id, shipping_limit_date, price, freight_value]\n",
       "Index: []"
      ]
     },
     "execution_count": 93,
     "metadata": {
      "tags": []
     },
     "output_type": "execute_result"
    }
   ],
   "source": [
    "# duplicate rows of dataframe\n",
    "item_df[item_df.duplicated()]"
   ]
  },
  {
   "cell_type": "code",
   "execution_count": 94,
   "metadata": {
    "colab": {
     "base_uri": "https://localhost:8080/",
     "height": 215
    },
    "colab_type": "code",
    "id": "oycXCVWhbzLY",
    "outputId": "4c2a4c21-76de-4edb-cd12-cedabd96cbc1",
    "scrolled": true
   },
   "outputs": [
    {
     "data": {
      "text/html": [
       "<div>\n",
       "<style scoped>\n",
       "    .dataframe tbody tr th:only-of-type {\n",
       "        vertical-align: middle;\n",
       "    }\n",
       "\n",
       "    .dataframe tbody tr th {\n",
       "        vertical-align: top;\n",
       "    }\n",
       "\n",
       "    .dataframe thead th {\n",
       "        text-align: right;\n",
       "    }\n",
       "</style>\n",
       "<table border=\"1\" class=\"dataframe\">\n",
       "  <thead>\n",
       "    <tr style=\"text-align: right;\">\n",
       "      <th></th>\n",
       "      <th>order_id</th>\n",
       "      <th>order_item_id</th>\n",
       "      <th>product_id</th>\n",
       "      <th>seller_id</th>\n",
       "      <th>shipping_limit_date</th>\n",
       "      <th>price</th>\n",
       "      <th>freight_value</th>\n",
       "    </tr>\n",
       "  </thead>\n",
       "  <tbody>\n",
       "    <tr>\n",
       "      <th>0</th>\n",
       "      <td>00010242fe8c5a6d1ba2dd792cb16214</td>\n",
       "      <td>1</td>\n",
       "      <td>4244733e06e7ecb4970a6e2683c13e61</td>\n",
       "      <td>48436dade18ac8b2bce089ec2a041202</td>\n",
       "      <td>2017-09-19 09:45:35</td>\n",
       "      <td>58.90</td>\n",
       "      <td>13.29</td>\n",
       "    </tr>\n",
       "    <tr>\n",
       "      <th>1</th>\n",
       "      <td>00018f77f2f0320c557190d7a144bdd3</td>\n",
       "      <td>1</td>\n",
       "      <td>e5f2d52b802189ee658865ca93d83a8f</td>\n",
       "      <td>dd7ddc04e1b6c2c614352b383efe2d36</td>\n",
       "      <td>2017-05-03 11:05:13</td>\n",
       "      <td>239.90</td>\n",
       "      <td>19.93</td>\n",
       "    </tr>\n",
       "    <tr>\n",
       "      <th>2</th>\n",
       "      <td>000229ec398224ef6ca0657da4fc703e</td>\n",
       "      <td>1</td>\n",
       "      <td>c777355d18b72b67abbeef9df44fd0fd</td>\n",
       "      <td>5b51032eddd242adc84c38acab88f23d</td>\n",
       "      <td>2018-01-18 14:48:30</td>\n",
       "      <td>199.00</td>\n",
       "      <td>17.87</td>\n",
       "    </tr>\n",
       "    <tr>\n",
       "      <th>3</th>\n",
       "      <td>00024acbcdf0a6daa1e931b038114c75</td>\n",
       "      <td>1</td>\n",
       "      <td>7634da152a4610f1595efa32f14722fc</td>\n",
       "      <td>9d7a1d34a5052409006425275ba1c2b4</td>\n",
       "      <td>2018-08-15 10:10:18</td>\n",
       "      <td>12.99</td>\n",
       "      <td>12.79</td>\n",
       "    </tr>\n",
       "    <tr>\n",
       "      <th>4</th>\n",
       "      <td>00042b26cf59d7ce69dfabb4e55b4fd9</td>\n",
       "      <td>1</td>\n",
       "      <td>ac6c3623068f30de03045865e4e10089</td>\n",
       "      <td>df560393f3a51e74553ab94004ba5c87</td>\n",
       "      <td>2017-02-13 13:57:51</td>\n",
       "      <td>199.90</td>\n",
       "      <td>18.14</td>\n",
       "    </tr>\n",
       "  </tbody>\n",
       "</table>\n",
       "</div>"
      ],
      "text/plain": [
       "                           order_id  order_item_id  ...   price freight_value\n",
       "0  00010242fe8c5a6d1ba2dd792cb16214              1  ...   58.90         13.29\n",
       "1  00018f77f2f0320c557190d7a144bdd3              1  ...  239.90         19.93\n",
       "2  000229ec398224ef6ca0657da4fc703e              1  ...  199.00         17.87\n",
       "3  00024acbcdf0a6daa1e931b038114c75              1  ...   12.99         12.79\n",
       "4  00042b26cf59d7ce69dfabb4e55b4fd9              1  ...  199.90         18.14\n",
       "\n",
       "[5 rows x 7 columns]"
      ]
     },
     "execution_count": 94,
     "metadata": {
      "tags": []
     },
     "output_type": "execute_result"
    }
   ],
   "source": [
    "# head of values\n",
    "item_df.head()"
   ]
  },
  {
   "cell_type": "markdown",
   "metadata": {
    "colab_type": "text",
    "id": "niWHCRbWbzLe"
   },
   "source": [
    "## Product Database"
   ]
  },
  {
   "cell_type": "code",
   "execution_count": 95,
   "metadata": {
    "colab": {
     "base_uri": "https://localhost:8080/",
     "height": 298
    },
    "colab_type": "code",
    "id": "Vps1lgYEbzLf",
    "outputId": "78d7755d-c57b-46e1-cf3e-7dd008eda833",
    "scrolled": true
   },
   "outputs": [
    {
     "name": "stdout",
     "output_type": "stream",
     "text": [
      "<class 'pandas.core.frame.DataFrame'>\n",
      "RangeIndex: 32951 entries, 0 to 32950\n",
      "Data columns (total 9 columns):\n",
      " #   Column                      Non-Null Count  Dtype  \n",
      "---  ------                      --------------  -----  \n",
      " 0   product_id                  32951 non-null  object \n",
      " 1   product_category_name       32341 non-null  object \n",
      " 2   product_name_lenght         32341 non-null  float64\n",
      " 3   product_description_lenght  32341 non-null  float64\n",
      " 4   product_photos_qty          32341 non-null  float64\n",
      " 5   product_weight_g            32949 non-null  float64\n",
      " 6   product_length_cm           32949 non-null  float64\n",
      " 7   product_height_cm           32949 non-null  float64\n",
      " 8   product_width_cm            32949 non-null  float64\n",
      "dtypes: float64(7), object(2)\n",
      "memory usage: 2.3+ MB\n"
     ]
    }
   ],
   "source": [
    "# read data and show its high-level information\n",
    "product_df = pd.read_csv('olist_products_dataset.csv')\n",
    "product_df.info()"
   ]
  },
  {
   "cell_type": "code",
   "execution_count": 96,
   "metadata": {
    "colab": {
     "base_uri": "https://localhost:8080/",
     "height": 298
    },
    "colab_type": "code",
    "id": "-UjJa6brbzLl",
    "outputId": "3f50a01c-a47e-4562-bd9f-81226c4cb6d7",
    "scrolled": true
   },
   "outputs": [
    {
     "name": "stdout",
     "output_type": "stream",
     "text": [
      "<class 'pandas.core.frame.DataFrame'>\n",
      "RangeIndex: 32951 entries, 0 to 32950\n",
      "Data columns (total 9 columns):\n",
      " #   Column                      Non-Null Count  Dtype  \n",
      "---  ------                      --------------  -----  \n",
      " 0   product_id                  32951 non-null  object \n",
      " 1   product_category_name       32341 non-null  object \n",
      " 2   product_name_lenght         32951 non-null  float64\n",
      " 3   product_description_lenght  32951 non-null  float64\n",
      " 4   product_photos_qty          32951 non-null  float64\n",
      " 5   product_weight_g            32951 non-null  float64\n",
      " 6   product_length_cm           32951 non-null  float64\n",
      " 7   product_height_cm           32951 non-null  float64\n",
      " 8   product_width_cm            32951 non-null  float64\n",
      "dtypes: float64(7), object(2)\n",
      "memory usage: 2.3+ MB\n"
     ]
    }
   ],
   "source": [
    "product_df.fillna(product_df.median(), inplace=True)\n",
    "product_df.info()"
   ]
  },
  {
   "cell_type": "code",
   "execution_count": 97,
   "metadata": {
    "colab": {
     "base_uri": "https://localhost:8080/",
     "height": 298
    },
    "colab_type": "code",
    "id": "NkM3jgAybzLq",
    "outputId": "27bbe286-831c-4323-817e-f27ef72c0186",
    "scrolled": true
   },
   "outputs": [
    {
     "name": "stdout",
     "output_type": "stream",
     "text": [
      "<class 'pandas.core.frame.DataFrame'>\n",
      "RangeIndex: 32951 entries, 0 to 32950\n",
      "Data columns (total 9 columns):\n",
      " #   Column                      Non-Null Count  Dtype  \n",
      "---  ------                      --------------  -----  \n",
      " 0   product_id                  32951 non-null  object \n",
      " 1   product_category_name       32951 non-null  object \n",
      " 2   product_name_lenght         32951 non-null  float64\n",
      " 3   product_description_lenght  32951 non-null  float64\n",
      " 4   product_photos_qty          32951 non-null  float64\n",
      " 5   product_weight_g            32951 non-null  float64\n",
      " 6   product_length_cm           32951 non-null  float64\n",
      " 7   product_height_cm           32951 non-null  float64\n",
      " 8   product_width_cm            32951 non-null  float64\n",
      "dtypes: float64(7), object(2)\n",
      "memory usage: 2.3+ MB\n"
     ]
    }
   ],
   "source": [
    "product_df.fillna('other', inplace=True)\n",
    "product_df.info()"
   ]
  },
  {
   "cell_type": "code",
   "execution_count": 98,
   "metadata": {
    "colab": {
     "base_uri": "https://localhost:8080/",
     "height": 67
    },
    "colab_type": "code",
    "id": "i6-91g1WbzLy",
    "outputId": "9618f120-a901-45f5-aba4-bf54cf98f415"
   },
   "outputs": [
    {
     "data": {
      "text/html": [
       "<div>\n",
       "<style scoped>\n",
       "    .dataframe tbody tr th:only-of-type {\n",
       "        vertical-align: middle;\n",
       "    }\n",
       "\n",
       "    .dataframe tbody tr th {\n",
       "        vertical-align: top;\n",
       "    }\n",
       "\n",
       "    .dataframe thead th {\n",
       "        text-align: right;\n",
       "    }\n",
       "</style>\n",
       "<table border=\"1\" class=\"dataframe\">\n",
       "  <thead>\n",
       "    <tr style=\"text-align: right;\">\n",
       "      <th></th>\n",
       "      <th>product_id</th>\n",
       "      <th>product_category_name</th>\n",
       "      <th>product_name_lenght</th>\n",
       "      <th>product_description_lenght</th>\n",
       "      <th>product_photos_qty</th>\n",
       "      <th>product_weight_g</th>\n",
       "      <th>product_length_cm</th>\n",
       "      <th>product_height_cm</th>\n",
       "      <th>product_width_cm</th>\n",
       "    </tr>\n",
       "  </thead>\n",
       "  <tbody>\n",
       "  </tbody>\n",
       "</table>\n",
       "</div>"
      ],
      "text/plain": [
       "Empty DataFrame\n",
       "Columns: [product_id, product_category_name, product_name_lenght, product_description_lenght, product_photos_qty, product_weight_g, product_length_cm, product_height_cm, product_width_cm]\n",
       "Index: []"
      ]
     },
     "execution_count": 98,
     "metadata": {
      "tags": []
     },
     "output_type": "execute_result"
    }
   ],
   "source": [
    "# duplicate rows of dataframe\n",
    "product_df[product_df.duplicated()]"
   ]
  },
  {
   "cell_type": "code",
   "execution_count": 99,
   "metadata": {
    "colab": {
     "base_uri": "https://localhost:8080/",
     "height": 215
    },
    "colab_type": "code",
    "id": "j-R7RdaybzL5",
    "outputId": "24bad960-c8a1-4aae-f399-96ca4c30bf0c",
    "scrolled": true
   },
   "outputs": [
    {
     "data": {
      "text/html": [
       "<div>\n",
       "<style scoped>\n",
       "    .dataframe tbody tr th:only-of-type {\n",
       "        vertical-align: middle;\n",
       "    }\n",
       "\n",
       "    .dataframe tbody tr th {\n",
       "        vertical-align: top;\n",
       "    }\n",
       "\n",
       "    .dataframe thead th {\n",
       "        text-align: right;\n",
       "    }\n",
       "</style>\n",
       "<table border=\"1\" class=\"dataframe\">\n",
       "  <thead>\n",
       "    <tr style=\"text-align: right;\">\n",
       "      <th></th>\n",
       "      <th>product_id</th>\n",
       "      <th>product_category_name</th>\n",
       "      <th>product_name_lenght</th>\n",
       "      <th>product_description_lenght</th>\n",
       "      <th>product_photos_qty</th>\n",
       "      <th>product_weight_g</th>\n",
       "      <th>product_length_cm</th>\n",
       "      <th>product_height_cm</th>\n",
       "      <th>product_width_cm</th>\n",
       "    </tr>\n",
       "  </thead>\n",
       "  <tbody>\n",
       "    <tr>\n",
       "      <th>0</th>\n",
       "      <td>1e9e8ef04dbcff4541ed26657ea517e5</td>\n",
       "      <td>perfumaria</td>\n",
       "      <td>40.0</td>\n",
       "      <td>287.0</td>\n",
       "      <td>1.0</td>\n",
       "      <td>225.0</td>\n",
       "      <td>16.0</td>\n",
       "      <td>10.0</td>\n",
       "      <td>14.0</td>\n",
       "    </tr>\n",
       "    <tr>\n",
       "      <th>1</th>\n",
       "      <td>3aa071139cb16b67ca9e5dea641aaa2f</td>\n",
       "      <td>artes</td>\n",
       "      <td>44.0</td>\n",
       "      <td>276.0</td>\n",
       "      <td>1.0</td>\n",
       "      <td>1000.0</td>\n",
       "      <td>30.0</td>\n",
       "      <td>18.0</td>\n",
       "      <td>20.0</td>\n",
       "    </tr>\n",
       "    <tr>\n",
       "      <th>2</th>\n",
       "      <td>96bd76ec8810374ed1b65e291975717f</td>\n",
       "      <td>esporte_lazer</td>\n",
       "      <td>46.0</td>\n",
       "      <td>250.0</td>\n",
       "      <td>1.0</td>\n",
       "      <td>154.0</td>\n",
       "      <td>18.0</td>\n",
       "      <td>9.0</td>\n",
       "      <td>15.0</td>\n",
       "    </tr>\n",
       "    <tr>\n",
       "      <th>3</th>\n",
       "      <td>cef67bcfe19066a932b7673e239eb23d</td>\n",
       "      <td>bebes</td>\n",
       "      <td>27.0</td>\n",
       "      <td>261.0</td>\n",
       "      <td>1.0</td>\n",
       "      <td>371.0</td>\n",
       "      <td>26.0</td>\n",
       "      <td>4.0</td>\n",
       "      <td>26.0</td>\n",
       "    </tr>\n",
       "    <tr>\n",
       "      <th>4</th>\n",
       "      <td>9dc1a7de274444849c219cff195d0b71</td>\n",
       "      <td>utilidades_domesticas</td>\n",
       "      <td>37.0</td>\n",
       "      <td>402.0</td>\n",
       "      <td>4.0</td>\n",
       "      <td>625.0</td>\n",
       "      <td>20.0</td>\n",
       "      <td>17.0</td>\n",
       "      <td>13.0</td>\n",
       "    </tr>\n",
       "  </tbody>\n",
       "</table>\n",
       "</div>"
      ],
      "text/plain": [
       "                         product_id  ... product_width_cm\n",
       "0  1e9e8ef04dbcff4541ed26657ea517e5  ...             14.0\n",
       "1  3aa071139cb16b67ca9e5dea641aaa2f  ...             20.0\n",
       "2  96bd76ec8810374ed1b65e291975717f  ...             15.0\n",
       "3  cef67bcfe19066a932b7673e239eb23d  ...             26.0\n",
       "4  9dc1a7de274444849c219cff195d0b71  ...             13.0\n",
       "\n",
       "[5 rows x 9 columns]"
      ]
     },
     "execution_count": 99,
     "metadata": {
      "tags": []
     },
     "output_type": "execute_result"
    }
   ],
   "source": [
    "product_df.head()"
   ]
  },
  {
   "cell_type": "markdown",
   "metadata": {
    "colab_type": "text",
    "id": "beRRctlNbzL-"
   },
   "source": [
    "## Translation Database"
   ]
  },
  {
   "cell_type": "code",
   "execution_count": 100,
   "metadata": {
    "colab": {
     "base_uri": "https://localhost:8080/",
     "height": 354
    },
    "colab_type": "code",
    "id": "UUieIxJWbzMA",
    "outputId": "8fea2be0-e9e9-4505-ca23-9c0c8cdb17dc",
    "scrolled": true
   },
   "outputs": [
    {
     "name": "stdout",
     "output_type": "stream",
     "text": [
      "<class 'pandas.core.frame.DataFrame'>\n",
      "RangeIndex: 71 entries, 0 to 70\n",
      "Data columns (total 2 columns):\n",
      " #   Column                         Non-Null Count  Dtype \n",
      "---  ------                         --------------  ----- \n",
      " 0   product_category_name          71 non-null     object\n",
      " 1   product_category_name_english  71 non-null     object\n",
      "dtypes: object(2)\n",
      "memory usage: 1.2+ KB\n"
     ]
    },
    {
     "data": {
      "text/html": [
       "<div>\n",
       "<style scoped>\n",
       "    .dataframe tbody tr th:only-of-type {\n",
       "        vertical-align: middle;\n",
       "    }\n",
       "\n",
       "    .dataframe tbody tr th {\n",
       "        vertical-align: top;\n",
       "    }\n",
       "\n",
       "    .dataframe thead th {\n",
       "        text-align: right;\n",
       "    }\n",
       "</style>\n",
       "<table border=\"1\" class=\"dataframe\">\n",
       "  <thead>\n",
       "    <tr style=\"text-align: right;\">\n",
       "      <th></th>\n",
       "      <th>product_category_name</th>\n",
       "      <th>product_category_name_english</th>\n",
       "    </tr>\n",
       "  </thead>\n",
       "  <tbody>\n",
       "    <tr>\n",
       "      <th>0</th>\n",
       "      <td>beleza_saude</td>\n",
       "      <td>health_beauty</td>\n",
       "    </tr>\n",
       "    <tr>\n",
       "      <th>1</th>\n",
       "      <td>informatica_acessorios</td>\n",
       "      <td>computers_accessories</td>\n",
       "    </tr>\n",
       "    <tr>\n",
       "      <th>2</th>\n",
       "      <td>automotivo</td>\n",
       "      <td>auto</td>\n",
       "    </tr>\n",
       "    <tr>\n",
       "      <th>3</th>\n",
       "      <td>cama_mesa_banho</td>\n",
       "      <td>bed_bath_table</td>\n",
       "    </tr>\n",
       "    <tr>\n",
       "      <th>4</th>\n",
       "      <td>moveis_decoracao</td>\n",
       "      <td>furniture_decor</td>\n",
       "    </tr>\n",
       "  </tbody>\n",
       "</table>\n",
       "</div>"
      ],
      "text/plain": [
       "    product_category_name product_category_name_english\n",
       "0            beleza_saude                 health_beauty\n",
       "1  informatica_acessorios         computers_accessories\n",
       "2              automotivo                          auto\n",
       "3         cama_mesa_banho                bed_bath_table\n",
       "4        moveis_decoracao               furniture_decor"
      ]
     },
     "execution_count": 100,
     "metadata": {
      "tags": []
     },
     "output_type": "execute_result"
    }
   ],
   "source": [
    "# read data and show its high-level information\n",
    "translation_df = pd.read_csv('product_category_name_translation.csv')\n",
    "translation_df.info()\n",
    "\n",
    "# head of values\n",
    "translation_df.head()"
   ]
  },
  {
   "cell_type": "markdown",
   "metadata": {
    "colab_type": "text",
    "id": "Yv14Wkz7bzMF"
   },
   "source": [
    "## Seller Database"
   ]
  },
  {
   "cell_type": "code",
   "execution_count": 101,
   "metadata": {
    "colab": {
     "base_uri": "https://localhost:8080/",
     "height": 210
    },
    "colab_type": "code",
    "id": "vY50M0ZBbzMG",
    "outputId": "562ac282-465d-47fb-a801-c2467d3dea99",
    "scrolled": true
   },
   "outputs": [
    {
     "name": "stdout",
     "output_type": "stream",
     "text": [
      "<class 'pandas.core.frame.DataFrame'>\n",
      "RangeIndex: 3095 entries, 0 to 3094\n",
      "Data columns (total 4 columns):\n",
      " #   Column                  Non-Null Count  Dtype \n",
      "---  ------                  --------------  ----- \n",
      " 0   seller_id               3095 non-null   object\n",
      " 1   seller_zip_code_prefix  3095 non-null   int64 \n",
      " 2   seller_city             3095 non-null   object\n",
      " 3   seller_state            3095 non-null   object\n",
      "dtypes: int64(1), object(3)\n",
      "memory usage: 96.8+ KB\n"
     ]
    }
   ],
   "source": [
    "# read data and show its high-level information\n",
    "seller_df = pd.read_csv('olist_sellers_dataset.csv')\n",
    "seller_df.info()"
   ]
  },
  {
   "cell_type": "code",
   "execution_count": 102,
   "metadata": {
    "colab": {
     "base_uri": "https://localhost:8080/",
     "height": 34
    },
    "colab_type": "code",
    "id": "NGEDmucabzMM",
    "outputId": "46c0bccb-7757-4f5f-b010-9117a90b7672",
    "scrolled": true
   },
   "outputs": [
    {
     "data": {
      "text/plain": [
       "Index(['seller_id', 'seller_state'], dtype='object')"
      ]
     },
     "execution_count": 102,
     "metadata": {
      "tags": []
     },
     "output_type": "execute_result"
    }
   ],
   "source": [
    "# drop irrelevant columns\n",
    "seller_df.drop(['seller_zip_code_prefix',\n",
    "                'seller_city'], axis='columns', inplace=True)\n",
    "seller_df.columns"
   ]
  },
  {
   "cell_type": "markdown",
   "metadata": {
    "colab_type": "text",
    "id": "4WDSFE0AbzMa"
   },
   "source": [
    "## Database Joins"
   ]
  },
  {
   "cell_type": "code",
   "execution_count": 103,
   "metadata": {
    "colab": {
     "base_uri": "https://localhost:8080/",
     "height": 462
    },
    "colab_type": "code",
    "id": "RvmhIGMfbzMb",
    "outputId": "37166d72-267f-4658-9d3a-a66213fa5a6d",
    "scrolled": true
   },
   "outputs": [
    {
     "name": "stdout",
     "output_type": "stream",
     "text": [
      "<class 'pandas.core.frame.DataFrame'>\n",
      "Int64Index: 100000 entries, 0 to 99999\n",
      "Data columns (total 7 columns):\n",
      " #   Column                         Non-Null Count   Dtype         \n",
      "---  ------                         --------------   -----         \n",
      " 0   order_id                       100000 non-null  object        \n",
      " 1   review_score                   100000 non-null  int64         \n",
      " 2   review_comment_title           100000 non-null  object        \n",
      " 3   review_comment_message         100000 non-null  object        \n",
      " 4   customer_id                    100000 non-null  object        \n",
      " 5   order_delivered_customer_date  97013 non-null   datetime64[ns]\n",
      " 6   order_estimated_delivery_date  100000 non-null  datetime64[ns]\n",
      "dtypes: datetime64[ns](2), int64(1), object(4)\n",
      "memory usage: 6.1+ MB\n"
     ]
    },
    {
     "data": {
      "text/html": [
       "<div>\n",
       "<style scoped>\n",
       "    .dataframe tbody tr th:only-of-type {\n",
       "        vertical-align: middle;\n",
       "    }\n",
       "\n",
       "    .dataframe tbody tr th {\n",
       "        vertical-align: top;\n",
       "    }\n",
       "\n",
       "    .dataframe thead th {\n",
       "        text-align: right;\n",
       "    }\n",
       "</style>\n",
       "<table border=\"1\" class=\"dataframe\">\n",
       "  <thead>\n",
       "    <tr style=\"text-align: right;\">\n",
       "      <th></th>\n",
       "      <th>order_id</th>\n",
       "      <th>review_score</th>\n",
       "      <th>review_comment_title</th>\n",
       "      <th>review_comment_message</th>\n",
       "      <th>customer_id</th>\n",
       "      <th>order_delivered_customer_date</th>\n",
       "      <th>order_estimated_delivery_date</th>\n",
       "    </tr>\n",
       "  </thead>\n",
       "  <tbody>\n",
       "    <tr>\n",
       "      <th>0</th>\n",
       "      <td>73fc7af87114b39712e6da79b0a377eb</td>\n",
       "      <td>4</td>\n",
       "      <td>0</td>\n",
       "      <td>0</td>\n",
       "      <td>41dcb106f807e993532d446263290104</td>\n",
       "      <td>2018-01-17 18:42:41</td>\n",
       "      <td>2018-02-02</td>\n",
       "    </tr>\n",
       "    <tr>\n",
       "      <th>1</th>\n",
       "      <td>a548910a1c6147796b98fdf73dbeba33</td>\n",
       "      <td>5</td>\n",
       "      <td>0</td>\n",
       "      <td>0</td>\n",
       "      <td>8a2e7ef9053dea531e4dc76bd6d853e6</td>\n",
       "      <td>2018-03-09 23:17:20</td>\n",
       "      <td>2018-03-14</td>\n",
       "    </tr>\n",
       "    <tr>\n",
       "      <th>2</th>\n",
       "      <td>f9e4b658b201a9f2ecdecbb34bed034b</td>\n",
       "      <td>5</td>\n",
       "      <td>0</td>\n",
       "      <td>0</td>\n",
       "      <td>e226dfed6544df5b7b87a48208690feb</td>\n",
       "      <td>2018-02-16 17:28:48</td>\n",
       "      <td>2018-03-09</td>\n",
       "    </tr>\n",
       "    <tr>\n",
       "      <th>3</th>\n",
       "      <td>658677c97b385a9be170737859d3511b</td>\n",
       "      <td>5</td>\n",
       "      <td>0</td>\n",
       "      <td>1</td>\n",
       "      <td>de6dff97e5f1ba84a3cd9a3bc97df5f6</td>\n",
       "      <td>2017-04-20 09:08:35</td>\n",
       "      <td>2017-05-10</td>\n",
       "    </tr>\n",
       "    <tr>\n",
       "      <th>4</th>\n",
       "      <td>8e6bfb81e283fa7e4f11123a3fb894f1</td>\n",
       "      <td>5</td>\n",
       "      <td>0</td>\n",
       "      <td>1</td>\n",
       "      <td>5986b333ca0d44534a156a52a8e33a83</td>\n",
       "      <td>2018-02-28 16:33:35</td>\n",
       "      <td>2018-03-09</td>\n",
       "    </tr>\n",
       "  </tbody>\n",
       "</table>\n",
       "</div>"
      ],
      "text/plain": [
       "                           order_id  ...  order_estimated_delivery_date\n",
       "0  73fc7af87114b39712e6da79b0a377eb  ...                     2018-02-02\n",
       "1  a548910a1c6147796b98fdf73dbeba33  ...                     2018-03-14\n",
       "2  f9e4b658b201a9f2ecdecbb34bed034b  ...                     2018-03-09\n",
       "3  658677c97b385a9be170737859d3511b  ...                     2017-05-10\n",
       "4  8e6bfb81e283fa7e4f11123a3fb894f1  ...                     2018-03-09\n",
       "\n",
       "[5 rows x 7 columns]"
      ]
     },
     "execution_count": 103,
     "metadata": {
      "tags": []
     },
     "output_type": "execute_result"
    }
   ],
   "source": [
    "ro_df = pd.merge(review_df, order_df, how='left', on='order_id')\n",
    "ro_df.info()\n",
    "ro_df.head()"
   ]
  },
  {
   "cell_type": "code",
   "execution_count": 104,
   "metadata": {
    "colab": {
     "base_uri": "https://localhost:8080/",
     "height": 462
    },
    "colab_type": "code",
    "id": "sT37ZnRSbzMj",
    "outputId": "2540ed9a-6ea0-47fc-86ed-f2e54abaaf17"
   },
   "outputs": [
    {
     "name": "stdout",
     "output_type": "stream",
     "text": [
      "<class 'pandas.core.frame.DataFrame'>\n",
      "Int64Index: 100000 entries, 0 to 99999\n",
      "Data columns (total 7 columns):\n",
      " #   Column                         Non-Null Count   Dtype         \n",
      "---  ------                         --------------   -----         \n",
      " 0   order_id                       100000 non-null  object        \n",
      " 1   review_score                   100000 non-null  int64         \n",
      " 2   review_comment_title           100000 non-null  object        \n",
      " 3   review_comment_message         100000 non-null  object        \n",
      " 4   order_delivered_customer_date  97013 non-null   datetime64[ns]\n",
      " 5   order_estimated_delivery_date  100000 non-null  datetime64[ns]\n",
      " 6   customer_state                 100000 non-null  object        \n",
      "dtypes: datetime64[ns](2), int64(1), object(4)\n",
      "memory usage: 6.1+ MB\n"
     ]
    },
    {
     "data": {
      "text/html": [
       "<div>\n",
       "<style scoped>\n",
       "    .dataframe tbody tr th:only-of-type {\n",
       "        vertical-align: middle;\n",
       "    }\n",
       "\n",
       "    .dataframe tbody tr th {\n",
       "        vertical-align: top;\n",
       "    }\n",
       "\n",
       "    .dataframe thead th {\n",
       "        text-align: right;\n",
       "    }\n",
       "</style>\n",
       "<table border=\"1\" class=\"dataframe\">\n",
       "  <thead>\n",
       "    <tr style=\"text-align: right;\">\n",
       "      <th></th>\n",
       "      <th>order_id</th>\n",
       "      <th>review_score</th>\n",
       "      <th>review_comment_title</th>\n",
       "      <th>review_comment_message</th>\n",
       "      <th>order_delivered_customer_date</th>\n",
       "      <th>order_estimated_delivery_date</th>\n",
       "      <th>customer_state</th>\n",
       "    </tr>\n",
       "  </thead>\n",
       "  <tbody>\n",
       "    <tr>\n",
       "      <th>0</th>\n",
       "      <td>73fc7af87114b39712e6da79b0a377eb</td>\n",
       "      <td>4</td>\n",
       "      <td>0</td>\n",
       "      <td>0</td>\n",
       "      <td>2018-01-17 18:42:41</td>\n",
       "      <td>2018-02-02</td>\n",
       "      <td>SP</td>\n",
       "    </tr>\n",
       "    <tr>\n",
       "      <th>1</th>\n",
       "      <td>a548910a1c6147796b98fdf73dbeba33</td>\n",
       "      <td>5</td>\n",
       "      <td>0</td>\n",
       "      <td>0</td>\n",
       "      <td>2018-03-09 23:17:20</td>\n",
       "      <td>2018-03-14</td>\n",
       "      <td>SP</td>\n",
       "    </tr>\n",
       "    <tr>\n",
       "      <th>2</th>\n",
       "      <td>f9e4b658b201a9f2ecdecbb34bed034b</td>\n",
       "      <td>5</td>\n",
       "      <td>0</td>\n",
       "      <td>0</td>\n",
       "      <td>2018-02-16 17:28:48</td>\n",
       "      <td>2018-03-09</td>\n",
       "      <td>BA</td>\n",
       "    </tr>\n",
       "    <tr>\n",
       "      <th>3</th>\n",
       "      <td>658677c97b385a9be170737859d3511b</td>\n",
       "      <td>5</td>\n",
       "      <td>0</td>\n",
       "      <td>1</td>\n",
       "      <td>2017-04-20 09:08:35</td>\n",
       "      <td>2017-05-10</td>\n",
       "      <td>SC</td>\n",
       "    </tr>\n",
       "    <tr>\n",
       "      <th>4</th>\n",
       "      <td>8e6bfb81e283fa7e4f11123a3fb894f1</td>\n",
       "      <td>5</td>\n",
       "      <td>0</td>\n",
       "      <td>1</td>\n",
       "      <td>2018-02-28 16:33:35</td>\n",
       "      <td>2018-03-09</td>\n",
       "      <td>SC</td>\n",
       "    </tr>\n",
       "  </tbody>\n",
       "</table>\n",
       "</div>"
      ],
      "text/plain": [
       "                           order_id  ...  customer_state\n",
       "0  73fc7af87114b39712e6da79b0a377eb  ...              SP\n",
       "1  a548910a1c6147796b98fdf73dbeba33  ...              SP\n",
       "2  f9e4b658b201a9f2ecdecbb34bed034b  ...              BA\n",
       "3  658677c97b385a9be170737859d3511b  ...              SC\n",
       "4  8e6bfb81e283fa7e4f11123a3fb894f1  ...              SC\n",
       "\n",
       "[5 rows x 7 columns]"
      ]
     },
     "execution_count": 104,
     "metadata": {
      "tags": []
     },
     "output_type": "execute_result"
    }
   ],
   "source": [
    "roc_df = pd.merge(ro_df, customer_df, how='left', on='customer_id')\n",
    "roc_df.drop(['customer_id', 'customer_unique_id'], axis='columns', inplace=True)\n",
    "roc_df.info()\n",
    "roc_df.head()"
   ]
  },
  {
   "cell_type": "code",
   "execution_count": 105,
   "metadata": {
    "colab": {
     "base_uri": "https://localhost:8080/",
     "height": 514
    },
    "colab_type": "code",
    "id": "TpAZ69xTbzMp",
    "outputId": "aa8cf139-1fba-4b2c-9bfb-d25bfe3796a3"
   },
   "outputs": [
    {
     "name": "stdout",
     "output_type": "stream",
     "text": [
      "<class 'pandas.core.frame.DataFrame'>\n",
      "Int64Index: 104485 entries, 0 to 104484\n",
      "Data columns (total 10 columns):\n",
      " #   Column                         Non-Null Count   Dtype         \n",
      "---  ------                         --------------   -----         \n",
      " 0   order_id                       104485 non-null  object        \n",
      " 1   review_score                   104485 non-null  int64         \n",
      " 2   review_comment_title           104485 non-null  object        \n",
      " 3   review_comment_message         104485 non-null  object        \n",
      " 4   order_delivered_customer_date  101331 non-null  datetime64[ns]\n",
      " 5   order_estimated_delivery_date  104485 non-null  datetime64[ns]\n",
      " 6   customer_state                 104485 non-null  object        \n",
      " 7   payment_type                   104485 non-null  object        \n",
      " 8   payment_installments           104485 non-null  int64         \n",
      " 9   payment_value                  104485 non-null  float64       \n",
      "dtypes: datetime64[ns](2), float64(1), int64(2), object(5)\n",
      "memory usage: 8.8+ MB\n"
     ]
    },
    {
     "data": {
      "text/html": [
       "<div>\n",
       "<style scoped>\n",
       "    .dataframe tbody tr th:only-of-type {\n",
       "        vertical-align: middle;\n",
       "    }\n",
       "\n",
       "    .dataframe tbody tr th {\n",
       "        vertical-align: top;\n",
       "    }\n",
       "\n",
       "    .dataframe thead th {\n",
       "        text-align: right;\n",
       "    }\n",
       "</style>\n",
       "<table border=\"1\" class=\"dataframe\">\n",
       "  <thead>\n",
       "    <tr style=\"text-align: right;\">\n",
       "      <th></th>\n",
       "      <th>order_id</th>\n",
       "      <th>review_score</th>\n",
       "      <th>review_comment_title</th>\n",
       "      <th>review_comment_message</th>\n",
       "      <th>order_delivered_customer_date</th>\n",
       "      <th>order_estimated_delivery_date</th>\n",
       "      <th>customer_state</th>\n",
       "      <th>payment_type</th>\n",
       "      <th>payment_installments</th>\n",
       "      <th>payment_value</th>\n",
       "    </tr>\n",
       "  </thead>\n",
       "  <tbody>\n",
       "    <tr>\n",
       "      <th>0</th>\n",
       "      <td>73fc7af87114b39712e6da79b0a377eb</td>\n",
       "      <td>4</td>\n",
       "      <td>0</td>\n",
       "      <td>0</td>\n",
       "      <td>2018-01-17 18:42:41</td>\n",
       "      <td>2018-02-02</td>\n",
       "      <td>SP</td>\n",
       "      <td>credit_card</td>\n",
       "      <td>8</td>\n",
       "      <td>397.26</td>\n",
       "    </tr>\n",
       "    <tr>\n",
       "      <th>1</th>\n",
       "      <td>a548910a1c6147796b98fdf73dbeba33</td>\n",
       "      <td>5</td>\n",
       "      <td>0</td>\n",
       "      <td>0</td>\n",
       "      <td>2018-03-09 23:17:20</td>\n",
       "      <td>2018-03-14</td>\n",
       "      <td>SP</td>\n",
       "      <td>credit_card</td>\n",
       "      <td>1</td>\n",
       "      <td>88.09</td>\n",
       "    </tr>\n",
       "    <tr>\n",
       "      <th>2</th>\n",
       "      <td>f9e4b658b201a9f2ecdecbb34bed034b</td>\n",
       "      <td>5</td>\n",
       "      <td>0</td>\n",
       "      <td>0</td>\n",
       "      <td>2018-02-16 17:28:48</td>\n",
       "      <td>2018-03-09</td>\n",
       "      <td>BA</td>\n",
       "      <td>credit_card</td>\n",
       "      <td>1</td>\n",
       "      <td>194.12</td>\n",
       "    </tr>\n",
       "    <tr>\n",
       "      <th>3</th>\n",
       "      <td>658677c97b385a9be170737859d3511b</td>\n",
       "      <td>5</td>\n",
       "      <td>0</td>\n",
       "      <td>1</td>\n",
       "      <td>2017-04-20 09:08:35</td>\n",
       "      <td>2017-05-10</td>\n",
       "      <td>SC</td>\n",
       "      <td>credit_card</td>\n",
       "      <td>1</td>\n",
       "      <td>222.84</td>\n",
       "    </tr>\n",
       "    <tr>\n",
       "      <th>4</th>\n",
       "      <td>8e6bfb81e283fa7e4f11123a3fb894f1</td>\n",
       "      <td>5</td>\n",
       "      <td>0</td>\n",
       "      <td>1</td>\n",
       "      <td>2018-02-28 16:33:35</td>\n",
       "      <td>2018-03-09</td>\n",
       "      <td>SC</td>\n",
       "      <td>credit_card</td>\n",
       "      <td>10</td>\n",
       "      <td>1333.25</td>\n",
       "    </tr>\n",
       "  </tbody>\n",
       "</table>\n",
       "</div>"
      ],
      "text/plain": [
       "                           order_id  ...  payment_value\n",
       "0  73fc7af87114b39712e6da79b0a377eb  ...         397.26\n",
       "1  a548910a1c6147796b98fdf73dbeba33  ...          88.09\n",
       "2  f9e4b658b201a9f2ecdecbb34bed034b  ...         194.12\n",
       "3  658677c97b385a9be170737859d3511b  ...         222.84\n",
       "4  8e6bfb81e283fa7e4f11123a3fb894f1  ...        1333.25\n",
       "\n",
       "[5 rows x 10 columns]"
      ]
     },
     "execution_count": 105,
     "metadata": {
      "tags": []
     },
     "output_type": "execute_result"
    }
   ],
   "source": [
    "rocp_df = pd.merge(roc_df, payment_df, on='order_id')\n",
    "rocp_df.drop('payment_sequential', axis='columns', inplace=True)\n",
    "rocp_df.info()\n",
    "rocp_df.head()"
   ]
  },
  {
   "cell_type": "code",
   "execution_count": 106,
   "metadata": {
    "colab": {
     "base_uri": "https://localhost:8080/",
     "height": 585
    },
    "colab_type": "code",
    "id": "2hUkpRYIbzM3",
    "outputId": "e389a155-bd9d-4128-eab2-09777d9ddc37",
    "scrolled": true
   },
   "outputs": [
    {
     "name": "stdout",
     "output_type": "stream",
     "text": [
      "<class 'pandas.core.frame.DataFrame'>\n",
      "Int64Index: 118315 entries, 0 to 118314\n",
      "Data columns (total 14 columns):\n",
      " #   Column                         Non-Null Count   Dtype         \n",
      "---  ------                         --------------   -----         \n",
      " 0   order_id                       118315 non-null  object        \n",
      " 1   review_score                   118315 non-null  int64         \n",
      " 2   review_comment_title           118315 non-null  object        \n",
      " 3   review_comment_message         118315 non-null  object        \n",
      " 4   order_delivered_customer_date  115727 non-null  datetime64[ns]\n",
      " 5   order_estimated_delivery_date  118315 non-null  datetime64[ns]\n",
      " 6   customer_state                 118315 non-null  object        \n",
      " 7   payment_type                   118315 non-null  object        \n",
      " 8   payment_installments           118315 non-null  int64         \n",
      " 9   payment_value                  118315 non-null  float64       \n",
      " 10  product_id                     118315 non-null  object        \n",
      " 11  seller_id                      118315 non-null  object        \n",
      " 12  price                          118315 non-null  float64       \n",
      " 13  freight_value                  118315 non-null  float64       \n",
      "dtypes: datetime64[ns](2), float64(3), int64(2), object(7)\n",
      "memory usage: 13.5+ MB\n"
     ]
    },
    {
     "data": {
      "text/html": [
       "<div>\n",
       "<style scoped>\n",
       "    .dataframe tbody tr th:only-of-type {\n",
       "        vertical-align: middle;\n",
       "    }\n",
       "\n",
       "    .dataframe tbody tr th {\n",
       "        vertical-align: top;\n",
       "    }\n",
       "\n",
       "    .dataframe thead th {\n",
       "        text-align: right;\n",
       "    }\n",
       "</style>\n",
       "<table border=\"1\" class=\"dataframe\">\n",
       "  <thead>\n",
       "    <tr style=\"text-align: right;\">\n",
       "      <th></th>\n",
       "      <th>order_id</th>\n",
       "      <th>review_score</th>\n",
       "      <th>review_comment_title</th>\n",
       "      <th>review_comment_message</th>\n",
       "      <th>order_delivered_customer_date</th>\n",
       "      <th>order_estimated_delivery_date</th>\n",
       "      <th>customer_state</th>\n",
       "      <th>payment_type</th>\n",
       "      <th>payment_installments</th>\n",
       "      <th>payment_value</th>\n",
       "      <th>product_id</th>\n",
       "      <th>seller_id</th>\n",
       "      <th>price</th>\n",
       "      <th>freight_value</th>\n",
       "    </tr>\n",
       "  </thead>\n",
       "  <tbody>\n",
       "    <tr>\n",
       "      <th>0</th>\n",
       "      <td>73fc7af87114b39712e6da79b0a377eb</td>\n",
       "      <td>4</td>\n",
       "      <td>0</td>\n",
       "      <td>0</td>\n",
       "      <td>2018-01-17 18:42:41</td>\n",
       "      <td>2018-02-02</td>\n",
       "      <td>SP</td>\n",
       "      <td>credit_card</td>\n",
       "      <td>8</td>\n",
       "      <td>397.26</td>\n",
       "      <td>fd25ab760bfbba13c198fa3b4f1a0cd3</td>\n",
       "      <td>6d803cb79cc31c41c4c789a75933b3c7</td>\n",
       "      <td>185.00</td>\n",
       "      <td>13.63</td>\n",
       "    </tr>\n",
       "    <tr>\n",
       "      <th>1</th>\n",
       "      <td>73fc7af87114b39712e6da79b0a377eb</td>\n",
       "      <td>4</td>\n",
       "      <td>0</td>\n",
       "      <td>0</td>\n",
       "      <td>2018-01-17 18:42:41</td>\n",
       "      <td>2018-02-02</td>\n",
       "      <td>SP</td>\n",
       "      <td>credit_card</td>\n",
       "      <td>8</td>\n",
       "      <td>397.26</td>\n",
       "      <td>fd25ab760bfbba13c198fa3b4f1a0cd3</td>\n",
       "      <td>6d803cb79cc31c41c4c789a75933b3c7</td>\n",
       "      <td>185.00</td>\n",
       "      <td>13.63</td>\n",
       "    </tr>\n",
       "    <tr>\n",
       "      <th>2</th>\n",
       "      <td>a548910a1c6147796b98fdf73dbeba33</td>\n",
       "      <td>5</td>\n",
       "      <td>0</td>\n",
       "      <td>0</td>\n",
       "      <td>2018-03-09 23:17:20</td>\n",
       "      <td>2018-03-14</td>\n",
       "      <td>SP</td>\n",
       "      <td>credit_card</td>\n",
       "      <td>1</td>\n",
       "      <td>88.09</td>\n",
       "      <td>be0dbdc3d67d55727a65d4cd696ca73c</td>\n",
       "      <td>8e6d7754bc7e0f22c96d255ebda59eba</td>\n",
       "      <td>79.79</td>\n",
       "      <td>8.30</td>\n",
       "    </tr>\n",
       "    <tr>\n",
       "      <th>3</th>\n",
       "      <td>f9e4b658b201a9f2ecdecbb34bed034b</td>\n",
       "      <td>5</td>\n",
       "      <td>0</td>\n",
       "      <td>0</td>\n",
       "      <td>2018-02-16 17:28:48</td>\n",
       "      <td>2018-03-09</td>\n",
       "      <td>BA</td>\n",
       "      <td>credit_card</td>\n",
       "      <td>1</td>\n",
       "      <td>194.12</td>\n",
       "      <td>d1c427060a0f73f6b889a5c7c61f2ac4</td>\n",
       "      <td>a1043bafd471dff536d0c462352beb48</td>\n",
       "      <td>149.00</td>\n",
       "      <td>45.12</td>\n",
       "    </tr>\n",
       "    <tr>\n",
       "      <th>4</th>\n",
       "      <td>658677c97b385a9be170737859d3511b</td>\n",
       "      <td>5</td>\n",
       "      <td>0</td>\n",
       "      <td>1</td>\n",
       "      <td>2017-04-20 09:08:35</td>\n",
       "      <td>2017-05-10</td>\n",
       "      <td>SC</td>\n",
       "      <td>credit_card</td>\n",
       "      <td>1</td>\n",
       "      <td>222.84</td>\n",
       "      <td>52c80cedd4e90108bf4fa6a206ef6b03</td>\n",
       "      <td>a1043bafd471dff536d0c462352beb48</td>\n",
       "      <td>179.99</td>\n",
       "      <td>42.85</td>\n",
       "    </tr>\n",
       "  </tbody>\n",
       "</table>\n",
       "</div>"
      ],
      "text/plain": [
       "                           order_id  review_score  ...   price freight_value\n",
       "0  73fc7af87114b39712e6da79b0a377eb             4  ...  185.00         13.63\n",
       "1  73fc7af87114b39712e6da79b0a377eb             4  ...  185.00         13.63\n",
       "2  a548910a1c6147796b98fdf73dbeba33             5  ...   79.79          8.30\n",
       "3  f9e4b658b201a9f2ecdecbb34bed034b             5  ...  149.00         45.12\n",
       "4  658677c97b385a9be170737859d3511b             5  ...  179.99         42.85\n",
       "\n",
       "[5 rows x 14 columns]"
      ]
     },
     "execution_count": 106,
     "metadata": {
      "tags": []
     },
     "output_type": "execute_result"
    }
   ],
   "source": [
    "rocpi_df = pd.merge(rocp_df, item_df, on='order_id')\n",
    "rocpi_df.drop(['shipping_limit_date', 'order_item_id'], axis='columns', inplace=True)\n",
    "rocpi_df.info()\n",
    "rocpi_df.head()"
   ]
  },
  {
   "cell_type": "code",
   "execution_count": 107,
   "metadata": {
    "colab": {
     "base_uri": "https://localhost:8080/",
     "height": 708
    },
    "colab_type": "code",
    "id": "WE6PhtrubzNB",
    "outputId": "a4c1f483-6972-4727-b66f-569fd1d933d6",
    "scrolled": true
   },
   "outputs": [
    {
     "name": "stdout",
     "output_type": "stream",
     "text": [
      "<class 'pandas.core.frame.DataFrame'>\n",
      "Int64Index: 118315 entries, 0 to 118314\n",
      "Data columns (total 21 columns):\n",
      " #   Column                         Non-Null Count   Dtype         \n",
      "---  ------                         --------------   -----         \n",
      " 0   order_id                       118315 non-null  object        \n",
      " 1   review_score                   118315 non-null  int64         \n",
      " 2   review_comment_title           118315 non-null  object        \n",
      " 3   review_comment_message         118315 non-null  object        \n",
      " 4   order_delivered_customer_date  115727 non-null  datetime64[ns]\n",
      " 5   order_estimated_delivery_date  118315 non-null  datetime64[ns]\n",
      " 6   customer_state                 118315 non-null  object        \n",
      " 7   payment_type                   118315 non-null  object        \n",
      " 8   payment_installments           118315 non-null  int64         \n",
      " 9   payment_value                  118315 non-null  float64       \n",
      " 10  seller_id                      118315 non-null  object        \n",
      " 11  price                          118315 non-null  float64       \n",
      " 12  freight_value                  118315 non-null  float64       \n",
      " 13  product_category_name          118315 non-null  object        \n",
      " 14  product_name_lenght            118315 non-null  float64       \n",
      " 15  product_description_lenght     118315 non-null  float64       \n",
      " 16  product_photos_qty             118315 non-null  float64       \n",
      " 17  product_weight_g               118315 non-null  float64       \n",
      " 18  product_length_cm              118315 non-null  float64       \n",
      " 19  product_height_cm              118315 non-null  float64       \n",
      " 20  product_width_cm               118315 non-null  float64       \n",
      "dtypes: datetime64[ns](2), float64(10), int64(2), object(7)\n",
      "memory usage: 19.9+ MB\n"
     ]
    },
    {
     "data": {
      "text/html": [
       "<div>\n",
       "<style scoped>\n",
       "    .dataframe tbody tr th:only-of-type {\n",
       "        vertical-align: middle;\n",
       "    }\n",
       "\n",
       "    .dataframe tbody tr th {\n",
       "        vertical-align: top;\n",
       "    }\n",
       "\n",
       "    .dataframe thead th {\n",
       "        text-align: right;\n",
       "    }\n",
       "</style>\n",
       "<table border=\"1\" class=\"dataframe\">\n",
       "  <thead>\n",
       "    <tr style=\"text-align: right;\">\n",
       "      <th></th>\n",
       "      <th>order_id</th>\n",
       "      <th>review_score</th>\n",
       "      <th>review_comment_title</th>\n",
       "      <th>review_comment_message</th>\n",
       "      <th>order_delivered_customer_date</th>\n",
       "      <th>order_estimated_delivery_date</th>\n",
       "      <th>customer_state</th>\n",
       "      <th>payment_type</th>\n",
       "      <th>payment_installments</th>\n",
       "      <th>payment_value</th>\n",
       "      <th>seller_id</th>\n",
       "      <th>price</th>\n",
       "      <th>freight_value</th>\n",
       "      <th>product_category_name</th>\n",
       "      <th>product_name_lenght</th>\n",
       "      <th>product_description_lenght</th>\n",
       "      <th>product_photos_qty</th>\n",
       "      <th>product_weight_g</th>\n",
       "      <th>product_length_cm</th>\n",
       "      <th>product_height_cm</th>\n",
       "      <th>product_width_cm</th>\n",
       "    </tr>\n",
       "  </thead>\n",
       "  <tbody>\n",
       "    <tr>\n",
       "      <th>0</th>\n",
       "      <td>73fc7af87114b39712e6da79b0a377eb</td>\n",
       "      <td>4</td>\n",
       "      <td>0</td>\n",
       "      <td>0</td>\n",
       "      <td>2018-01-17 18:42:41</td>\n",
       "      <td>2018-02-02</td>\n",
       "      <td>SP</td>\n",
       "      <td>credit_card</td>\n",
       "      <td>8</td>\n",
       "      <td>397.26</td>\n",
       "      <td>6d803cb79cc31c41c4c789a75933b3c7</td>\n",
       "      <td>185.00</td>\n",
       "      <td>13.63</td>\n",
       "      <td>esporte_lazer</td>\n",
       "      <td>42.0</td>\n",
       "      <td>858.0</td>\n",
       "      <td>1.0</td>\n",
       "      <td>1300.0</td>\n",
       "      <td>30.0</td>\n",
       "      <td>30.0</td>\n",
       "      <td>35.0</td>\n",
       "    </tr>\n",
       "    <tr>\n",
       "      <th>1</th>\n",
       "      <td>73fc7af87114b39712e6da79b0a377eb</td>\n",
       "      <td>4</td>\n",
       "      <td>0</td>\n",
       "      <td>0</td>\n",
       "      <td>2018-01-17 18:42:41</td>\n",
       "      <td>2018-02-02</td>\n",
       "      <td>SP</td>\n",
       "      <td>credit_card</td>\n",
       "      <td>8</td>\n",
       "      <td>397.26</td>\n",
       "      <td>6d803cb79cc31c41c4c789a75933b3c7</td>\n",
       "      <td>185.00</td>\n",
       "      <td>13.63</td>\n",
       "      <td>esporte_lazer</td>\n",
       "      <td>42.0</td>\n",
       "      <td>858.0</td>\n",
       "      <td>1.0</td>\n",
       "      <td>1300.0</td>\n",
       "      <td>30.0</td>\n",
       "      <td>30.0</td>\n",
       "      <td>35.0</td>\n",
       "    </tr>\n",
       "    <tr>\n",
       "      <th>2</th>\n",
       "      <td>19721d59a9764437477eff0730b48665</td>\n",
       "      <td>5</td>\n",
       "      <td>0</td>\n",
       "      <td>0</td>\n",
       "      <td>2018-04-09 21:53:23</td>\n",
       "      <td>2018-04-27</td>\n",
       "      <td>RS</td>\n",
       "      <td>credit_card</td>\n",
       "      <td>3</td>\n",
       "      <td>205.26</td>\n",
       "      <td>6d803cb79cc31c41c4c789a75933b3c7</td>\n",
       "      <td>185.00</td>\n",
       "      <td>20.26</td>\n",
       "      <td>esporte_lazer</td>\n",
       "      <td>42.0</td>\n",
       "      <td>858.0</td>\n",
       "      <td>1.0</td>\n",
       "      <td>1300.0</td>\n",
       "      <td>30.0</td>\n",
       "      <td>30.0</td>\n",
       "      <td>35.0</td>\n",
       "    </tr>\n",
       "    <tr>\n",
       "      <th>3</th>\n",
       "      <td>efd626e6a12a82d76e456e34093f8356</td>\n",
       "      <td>5</td>\n",
       "      <td>0</td>\n",
       "      <td>0</td>\n",
       "      <td>2017-12-27 18:19:53</td>\n",
       "      <td>2018-01-08</td>\n",
       "      <td>MG</td>\n",
       "      <td>credit_card</td>\n",
       "      <td>2</td>\n",
       "      <td>202.05</td>\n",
       "      <td>6d803cb79cc31c41c4c789a75933b3c7</td>\n",
       "      <td>185.00</td>\n",
       "      <td>17.05</td>\n",
       "      <td>esporte_lazer</td>\n",
       "      <td>42.0</td>\n",
       "      <td>858.0</td>\n",
       "      <td>1.0</td>\n",
       "      <td>1300.0</td>\n",
       "      <td>30.0</td>\n",
       "      <td>30.0</td>\n",
       "      <td>35.0</td>\n",
       "    </tr>\n",
       "    <tr>\n",
       "      <th>4</th>\n",
       "      <td>a548910a1c6147796b98fdf73dbeba33</td>\n",
       "      <td>5</td>\n",
       "      <td>0</td>\n",
       "      <td>0</td>\n",
       "      <td>2018-03-09 23:17:20</td>\n",
       "      <td>2018-03-14</td>\n",
       "      <td>SP</td>\n",
       "      <td>credit_card</td>\n",
       "      <td>1</td>\n",
       "      <td>88.09</td>\n",
       "      <td>8e6d7754bc7e0f22c96d255ebda59eba</td>\n",
       "      <td>79.79</td>\n",
       "      <td>8.30</td>\n",
       "      <td>informatica_acessorios</td>\n",
       "      <td>47.0</td>\n",
       "      <td>493.0</td>\n",
       "      <td>1.0</td>\n",
       "      <td>245.0</td>\n",
       "      <td>19.0</td>\n",
       "      <td>14.0</td>\n",
       "      <td>14.0</td>\n",
       "    </tr>\n",
       "  </tbody>\n",
       "</table>\n",
       "</div>"
      ],
      "text/plain": [
       "                           order_id  ...  product_width_cm\n",
       "0  73fc7af87114b39712e6da79b0a377eb  ...              35.0\n",
       "1  73fc7af87114b39712e6da79b0a377eb  ...              35.0\n",
       "2  19721d59a9764437477eff0730b48665  ...              35.0\n",
       "3  efd626e6a12a82d76e456e34093f8356  ...              35.0\n",
       "4  a548910a1c6147796b98fdf73dbeba33  ...              14.0\n",
       "\n",
       "[5 rows x 21 columns]"
      ]
     },
     "execution_count": 107,
     "metadata": {
      "tags": []
     },
     "output_type": "execute_result"
    }
   ],
   "source": [
    "rocpip_df = pd.merge(rocpi_df, product_df, on='product_id')\n",
    "rocpip_df.drop('product_id', axis='columns', inplace=True)\n",
    "rocpip_df.info()\n",
    "rocpip_df.head()"
   ]
  },
  {
   "cell_type": "code",
   "execution_count": 108,
   "metadata": {
    "colab": {
     "base_uri": "https://localhost:8080/",
     "height": 708
    },
    "colab_type": "code",
    "id": "ZBLcZlXPbzNJ",
    "outputId": "641b451d-0c00-4c7d-d039-eae90239af46",
    "scrolled": true
   },
   "outputs": [
    {
     "name": "stdout",
     "output_type": "stream",
     "text": [
      "<class 'pandas.core.frame.DataFrame'>\n",
      "Int64Index: 118315 entries, 0 to 118314\n",
      "Data columns (total 21 columns):\n",
      " #   Column                         Non-Null Count   Dtype         \n",
      "---  ------                         --------------   -----         \n",
      " 0   order_id                       118315 non-null  object        \n",
      " 1   review_score                   118315 non-null  int64         \n",
      " 2   review_comment_title           118315 non-null  object        \n",
      " 3   review_comment_message         118315 non-null  object        \n",
      " 4   order_delivered_customer_date  115727 non-null  datetime64[ns]\n",
      " 5   order_estimated_delivery_date  118315 non-null  datetime64[ns]\n",
      " 6   customer_state                 118315 non-null  object        \n",
      " 7   payment_type                   118315 non-null  object        \n",
      " 8   payment_installments           118315 non-null  int64         \n",
      " 9   payment_value                  118315 non-null  float64       \n",
      " 10  price                          118315 non-null  float64       \n",
      " 11  freight_value                  118315 non-null  float64       \n",
      " 12  product_category_name          118315 non-null  object        \n",
      " 13  product_name_lenght            118315 non-null  float64       \n",
      " 14  product_description_lenght     118315 non-null  float64       \n",
      " 15  product_photos_qty             118315 non-null  float64       \n",
      " 16  product_weight_g               118315 non-null  float64       \n",
      " 17  product_length_cm              118315 non-null  float64       \n",
      " 18  product_height_cm              118315 non-null  float64       \n",
      " 19  product_width_cm               118315 non-null  float64       \n",
      " 20  seller_state                   118315 non-null  object        \n",
      "dtypes: datetime64[ns](2), float64(10), int64(2), object(7)\n",
      "memory usage: 19.9+ MB\n"
     ]
    },
    {
     "data": {
      "text/html": [
       "<div>\n",
       "<style scoped>\n",
       "    .dataframe tbody tr th:only-of-type {\n",
       "        vertical-align: middle;\n",
       "    }\n",
       "\n",
       "    .dataframe tbody tr th {\n",
       "        vertical-align: top;\n",
       "    }\n",
       "\n",
       "    .dataframe thead th {\n",
       "        text-align: right;\n",
       "    }\n",
       "</style>\n",
       "<table border=\"1\" class=\"dataframe\">\n",
       "  <thead>\n",
       "    <tr style=\"text-align: right;\">\n",
       "      <th></th>\n",
       "      <th>order_id</th>\n",
       "      <th>review_score</th>\n",
       "      <th>review_comment_title</th>\n",
       "      <th>review_comment_message</th>\n",
       "      <th>order_delivered_customer_date</th>\n",
       "      <th>order_estimated_delivery_date</th>\n",
       "      <th>customer_state</th>\n",
       "      <th>payment_type</th>\n",
       "      <th>payment_installments</th>\n",
       "      <th>payment_value</th>\n",
       "      <th>price</th>\n",
       "      <th>freight_value</th>\n",
       "      <th>product_category_name</th>\n",
       "      <th>product_name_lenght</th>\n",
       "      <th>product_description_lenght</th>\n",
       "      <th>product_photos_qty</th>\n",
       "      <th>product_weight_g</th>\n",
       "      <th>product_length_cm</th>\n",
       "      <th>product_height_cm</th>\n",
       "      <th>product_width_cm</th>\n",
       "      <th>seller_state</th>\n",
       "    </tr>\n",
       "  </thead>\n",
       "  <tbody>\n",
       "    <tr>\n",
       "      <th>0</th>\n",
       "      <td>73fc7af87114b39712e6da79b0a377eb</td>\n",
       "      <td>4</td>\n",
       "      <td>0</td>\n",
       "      <td>0</td>\n",
       "      <td>2018-01-17 18:42:41</td>\n",
       "      <td>2018-02-02</td>\n",
       "      <td>SP</td>\n",
       "      <td>credit_card</td>\n",
       "      <td>8</td>\n",
       "      <td>397.26</td>\n",
       "      <td>185.0</td>\n",
       "      <td>13.63</td>\n",
       "      <td>esporte_lazer</td>\n",
       "      <td>42.0</td>\n",
       "      <td>858.0</td>\n",
       "      <td>1.0</td>\n",
       "      <td>1300.0</td>\n",
       "      <td>30.0</td>\n",
       "      <td>30.0</td>\n",
       "      <td>35.0</td>\n",
       "      <td>SP</td>\n",
       "    </tr>\n",
       "    <tr>\n",
       "      <th>1</th>\n",
       "      <td>73fc7af87114b39712e6da79b0a377eb</td>\n",
       "      <td>4</td>\n",
       "      <td>0</td>\n",
       "      <td>0</td>\n",
       "      <td>2018-01-17 18:42:41</td>\n",
       "      <td>2018-02-02</td>\n",
       "      <td>SP</td>\n",
       "      <td>credit_card</td>\n",
       "      <td>8</td>\n",
       "      <td>397.26</td>\n",
       "      <td>185.0</td>\n",
       "      <td>13.63</td>\n",
       "      <td>esporte_lazer</td>\n",
       "      <td>42.0</td>\n",
       "      <td>858.0</td>\n",
       "      <td>1.0</td>\n",
       "      <td>1300.0</td>\n",
       "      <td>30.0</td>\n",
       "      <td>30.0</td>\n",
       "      <td>35.0</td>\n",
       "      <td>SP</td>\n",
       "    </tr>\n",
       "    <tr>\n",
       "      <th>2</th>\n",
       "      <td>19721d59a9764437477eff0730b48665</td>\n",
       "      <td>5</td>\n",
       "      <td>0</td>\n",
       "      <td>0</td>\n",
       "      <td>2018-04-09 21:53:23</td>\n",
       "      <td>2018-04-27</td>\n",
       "      <td>RS</td>\n",
       "      <td>credit_card</td>\n",
       "      <td>3</td>\n",
       "      <td>205.26</td>\n",
       "      <td>185.0</td>\n",
       "      <td>20.26</td>\n",
       "      <td>esporte_lazer</td>\n",
       "      <td>42.0</td>\n",
       "      <td>858.0</td>\n",
       "      <td>1.0</td>\n",
       "      <td>1300.0</td>\n",
       "      <td>30.0</td>\n",
       "      <td>30.0</td>\n",
       "      <td>35.0</td>\n",
       "      <td>SP</td>\n",
       "    </tr>\n",
       "    <tr>\n",
       "      <th>3</th>\n",
       "      <td>efd626e6a12a82d76e456e34093f8356</td>\n",
       "      <td>5</td>\n",
       "      <td>0</td>\n",
       "      <td>0</td>\n",
       "      <td>2017-12-27 18:19:53</td>\n",
       "      <td>2018-01-08</td>\n",
       "      <td>MG</td>\n",
       "      <td>credit_card</td>\n",
       "      <td>2</td>\n",
       "      <td>202.05</td>\n",
       "      <td>185.0</td>\n",
       "      <td>17.05</td>\n",
       "      <td>esporte_lazer</td>\n",
       "      <td>42.0</td>\n",
       "      <td>858.0</td>\n",
       "      <td>1.0</td>\n",
       "      <td>1300.0</td>\n",
       "      <td>30.0</td>\n",
       "      <td>30.0</td>\n",
       "      <td>35.0</td>\n",
       "      <td>SP</td>\n",
       "    </tr>\n",
       "    <tr>\n",
       "      <th>4</th>\n",
       "      <td>b0bc656fed47584c160f8cff2d7b8bbd</td>\n",
       "      <td>5</td>\n",
       "      <td>0</td>\n",
       "      <td>0</td>\n",
       "      <td>2018-03-16 14:16:19</td>\n",
       "      <td>2018-03-23</td>\n",
       "      <td>MG</td>\n",
       "      <td>credit_card</td>\n",
       "      <td>1</td>\n",
       "      <td>306.40</td>\n",
       "      <td>135.0</td>\n",
       "      <td>18.20</td>\n",
       "      <td>esporte_lazer</td>\n",
       "      <td>47.0</td>\n",
       "      <td>858.0</td>\n",
       "      <td>1.0</td>\n",
       "      <td>1600.0</td>\n",
       "      <td>30.0</td>\n",
       "      <td>30.0</td>\n",
       "      <td>35.0</td>\n",
       "      <td>SP</td>\n",
       "    </tr>\n",
       "  </tbody>\n",
       "</table>\n",
       "</div>"
      ],
      "text/plain": [
       "                           order_id  ...  seller_state\n",
       "0  73fc7af87114b39712e6da79b0a377eb  ...            SP\n",
       "1  73fc7af87114b39712e6da79b0a377eb  ...            SP\n",
       "2  19721d59a9764437477eff0730b48665  ...            SP\n",
       "3  efd626e6a12a82d76e456e34093f8356  ...            SP\n",
       "4  b0bc656fed47584c160f8cff2d7b8bbd  ...            SP\n",
       "\n",
       "[5 rows x 21 columns]"
      ]
     },
     "execution_count": 108,
     "metadata": {
      "tags": []
     },
     "output_type": "execute_result"
    }
   ],
   "source": [
    "rocpips_df = pd.merge(rocpip_df, seller_df, on='seller_id')\n",
    "rocpips_df.drop('seller_id', axis='columns', inplace=True)\n",
    "rocpips_df.info()\n",
    "rocpips_df.head()"
   ]
  },
  {
   "cell_type": "markdown",
   "metadata": {
    "colab_type": "text",
    "id": "n6N9E9GhbzNb"
   },
   "source": [
    "# Feature Engineering"
   ]
  },
  {
   "cell_type": "markdown",
   "metadata": {
    "colab_type": "text",
    "id": "O2eiUyFLbzNc"
   },
   "source": [
    "## Delivery Delay"
   ]
  },
  {
   "cell_type": "code",
   "execution_count": 110,
   "metadata": {
    "colab": {
     "base_uri": "https://localhost:8080/",
     "height": 343
    },
    "colab_type": "code",
    "id": "f8Z4GY1LbzNd",
    "outputId": "a28113b0-7f79-48ce-d9e3-cdc33d34588e",
    "scrolled": true
   },
   "outputs": [
    {
     "ename": "AttributeError",
     "evalue": "ignored",
     "output_type": "error",
     "traceback": [
      "\u001b[0;31m---------------------------------------------------------------------------\u001b[0m",
      "\u001b[0;31mAttributeError\u001b[0m                            Traceback (most recent call last)",
      "\u001b[0;32m<ipython-input-110-dc4c9d66994d>\u001b[0m in \u001b[0;36m<module>\u001b[0;34m()\u001b[0m\n\u001b[1;32m      1\u001b[0m \u001b[0;31m# create features and drop columns they were built on\u001b[0m\u001b[0;34m\u001b[0m\u001b[0;34m\u001b[0m\u001b[0;34m\u001b[0m\u001b[0m\n\u001b[0;32m----> 2\u001b[0;31m \u001b[0mrocpips_df\u001b[0m\u001b[0;34m[\u001b[0m\u001b[0;34m'delay'\u001b[0m\u001b[0;34m]\u001b[0m \u001b[0;34m=\u001b[0m \u001b[0;34m(\u001b[0m\u001b[0mrocpips_df\u001b[0m\u001b[0;34m.\u001b[0m\u001b[0morder_delivered_customer_date\u001b[0m \u001b[0;34m-\u001b[0m \u001b[0mrocpips_df\u001b[0m\u001b[0;34m.\u001b[0m\u001b[0morder_estimated_delivery_date\u001b[0m\u001b[0;34m)\u001b[0m\u001b[0;34m.\u001b[0m\u001b[0mdt\u001b[0m\u001b[0;34m.\u001b[0m\u001b[0mdays\u001b[0m\u001b[0;34m\u001b[0m\u001b[0;34m\u001b[0m\u001b[0m\n\u001b[0m\u001b[1;32m      3\u001b[0m \u001b[0mrocpips_df\u001b[0m\u001b[0;34m.\u001b[0m\u001b[0mdrop\u001b[0m\u001b[0;34m(\u001b[0m\u001b[0;34m[\u001b[0m\u001b[0;34m'order_delivered_customer_date'\u001b[0m\u001b[0;34m,\u001b[0m \u001b[0;34m'order_estimated_delivery_date'\u001b[0m\u001b[0;34m]\u001b[0m\u001b[0;34m,\u001b[0m \u001b[0maxis\u001b[0m\u001b[0;34m=\u001b[0m\u001b[0;34m'columns'\u001b[0m\u001b[0;34m,\u001b[0m \u001b[0minplace\u001b[0m\u001b[0;34m=\u001b[0m\u001b[0;32mTrue\u001b[0m\u001b[0;34m)\u001b[0m\u001b[0;34m\u001b[0m\u001b[0;34m\u001b[0m\u001b[0m\n\u001b[1;32m      4\u001b[0m \u001b[0mrocpips_df\u001b[0m\u001b[0;34m.\u001b[0m\u001b[0mfillna\u001b[0m\u001b[0;34m(\u001b[0m\u001b[0mrocpips_df\u001b[0m\u001b[0;34m.\u001b[0m\u001b[0mmedian\u001b[0m\u001b[0;34m(\u001b[0m\u001b[0;34m)\u001b[0m\u001b[0;34m,\u001b[0m \u001b[0minplace\u001b[0m\u001b[0;34m=\u001b[0m\u001b[0;32mTrue\u001b[0m\u001b[0;34m)\u001b[0m\u001b[0;34m\u001b[0m\u001b[0;34m\u001b[0m\u001b[0m\n",
      "\u001b[0;32m/usr/local/lib/python3.6/dist-packages/pandas/core/generic.py\u001b[0m in \u001b[0;36m__getattr__\u001b[0;34m(self, name)\u001b[0m\n\u001b[1;32m   5272\u001b[0m             \u001b[0;32mif\u001b[0m \u001b[0mself\u001b[0m\u001b[0;34m.\u001b[0m\u001b[0m_info_axis\u001b[0m\u001b[0;34m.\u001b[0m\u001b[0m_can_hold_identifiers_and_holds_name\u001b[0m\u001b[0;34m(\u001b[0m\u001b[0mname\u001b[0m\u001b[0;34m)\u001b[0m\u001b[0;34m:\u001b[0m\u001b[0;34m\u001b[0m\u001b[0;34m\u001b[0m\u001b[0m\n\u001b[1;32m   5273\u001b[0m                 \u001b[0;32mreturn\u001b[0m \u001b[0mself\u001b[0m\u001b[0;34m[\u001b[0m\u001b[0mname\u001b[0m\u001b[0;34m]\u001b[0m\u001b[0;34m\u001b[0m\u001b[0;34m\u001b[0m\u001b[0m\n\u001b[0;32m-> 5274\u001b[0;31m             \u001b[0;32mreturn\u001b[0m \u001b[0mobject\u001b[0m\u001b[0;34m.\u001b[0m\u001b[0m__getattribute__\u001b[0m\u001b[0;34m(\u001b[0m\u001b[0mself\u001b[0m\u001b[0;34m,\u001b[0m \u001b[0mname\u001b[0m\u001b[0;34m)\u001b[0m\u001b[0;34m\u001b[0m\u001b[0;34m\u001b[0m\u001b[0m\n\u001b[0m\u001b[1;32m   5275\u001b[0m \u001b[0;34m\u001b[0m\u001b[0m\n\u001b[1;32m   5276\u001b[0m     \u001b[0;32mdef\u001b[0m \u001b[0m__setattr__\u001b[0m\u001b[0;34m(\u001b[0m\u001b[0mself\u001b[0m\u001b[0;34m,\u001b[0m \u001b[0mname\u001b[0m\u001b[0;34m:\u001b[0m \u001b[0mstr\u001b[0m\u001b[0;34m,\u001b[0m \u001b[0mvalue\u001b[0m\u001b[0;34m)\u001b[0m \u001b[0;34m->\u001b[0m \u001b[0;32mNone\u001b[0m\u001b[0;34m:\u001b[0m\u001b[0;34m\u001b[0m\u001b[0;34m\u001b[0m\u001b[0m\n",
      "\u001b[0;31mAttributeError\u001b[0m: 'DataFrame' object has no attribute 'order_delivered_customer_date'"
     ]
    }
   ],
   "source": [
    "# create features and drop columns they were built on\n",
    "rocpips_df['delay'] = (rocpips_df.order_delivered_customer_date - rocpips_df.order_estimated_delivery_date).dt.days\n",
    "rocpips_df.drop(['order_delivered_customer_date', 'order_estimated_delivery_date'], axis='columns', inplace=True)\n",
    "rocpips_df.fillna(rocpips_df.median(), inplace=True)"
   ]
  },
  {
   "cell_type": "code",
   "execution_count": 111,
   "metadata": {
    "colab": {
     "base_uri": "https://localhost:8080/",
     "height": 422
    },
    "colab_type": "code",
    "id": "_MDy7085bzNj",
    "outputId": "a8c4e44a-5e77-4cce-8705-11a3e062ae13"
   },
   "outputs": [
    {
     "data": {
      "text/html": [
       "<div>\n",
       "<style scoped>\n",
       "    .dataframe tbody tr th:only-of-type {\n",
       "        vertical-align: middle;\n",
       "    }\n",
       "\n",
       "    .dataframe tbody tr th {\n",
       "        vertical-align: top;\n",
       "    }\n",
       "\n",
       "    .dataframe thead th {\n",
       "        text-align: right;\n",
       "    }\n",
       "</style>\n",
       "<table border=\"1\" class=\"dataframe\">\n",
       "  <thead>\n",
       "    <tr style=\"text-align: right;\">\n",
       "      <th></th>\n",
       "      <th>order_id</th>\n",
       "      <th>review_score</th>\n",
       "      <th>review_comment_title</th>\n",
       "      <th>review_comment_message</th>\n",
       "      <th>customer_state</th>\n",
       "      <th>payment_type</th>\n",
       "      <th>payment_installments</th>\n",
       "      <th>payment_value</th>\n",
       "      <th>price</th>\n",
       "      <th>freight_value</th>\n",
       "      <th>product_category_name</th>\n",
       "      <th>product_name_lenght</th>\n",
       "      <th>product_description_lenght</th>\n",
       "      <th>product_photos_qty</th>\n",
       "      <th>product_weight_g</th>\n",
       "      <th>product_length_cm</th>\n",
       "      <th>product_height_cm</th>\n",
       "      <th>product_width_cm</th>\n",
       "      <th>seller_state</th>\n",
       "      <th>delay</th>\n",
       "    </tr>\n",
       "  </thead>\n",
       "  <tbody>\n",
       "    <tr>\n",
       "      <th>0</th>\n",
       "      <td>73fc7af87114b39712e6da79b0a377eb</td>\n",
       "      <td>4</td>\n",
       "      <td>0</td>\n",
       "      <td>0</td>\n",
       "      <td>SP</td>\n",
       "      <td>credit_card</td>\n",
       "      <td>8</td>\n",
       "      <td>397.26</td>\n",
       "      <td>185.0</td>\n",
       "      <td>13.63</td>\n",
       "      <td>esporte_lazer</td>\n",
       "      <td>42.0</td>\n",
       "      <td>858.0</td>\n",
       "      <td>1.0</td>\n",
       "      <td>1300.0</td>\n",
       "      <td>30.0</td>\n",
       "      <td>30.0</td>\n",
       "      <td>35.0</td>\n",
       "      <td>SP</td>\n",
       "      <td>-16.0</td>\n",
       "    </tr>\n",
       "    <tr>\n",
       "      <th>1</th>\n",
       "      <td>73fc7af87114b39712e6da79b0a377eb</td>\n",
       "      <td>4</td>\n",
       "      <td>0</td>\n",
       "      <td>0</td>\n",
       "      <td>SP</td>\n",
       "      <td>credit_card</td>\n",
       "      <td>8</td>\n",
       "      <td>397.26</td>\n",
       "      <td>185.0</td>\n",
       "      <td>13.63</td>\n",
       "      <td>esporte_lazer</td>\n",
       "      <td>42.0</td>\n",
       "      <td>858.0</td>\n",
       "      <td>1.0</td>\n",
       "      <td>1300.0</td>\n",
       "      <td>30.0</td>\n",
       "      <td>30.0</td>\n",
       "      <td>35.0</td>\n",
       "      <td>SP</td>\n",
       "      <td>-16.0</td>\n",
       "    </tr>\n",
       "    <tr>\n",
       "      <th>2</th>\n",
       "      <td>19721d59a9764437477eff0730b48665</td>\n",
       "      <td>5</td>\n",
       "      <td>0</td>\n",
       "      <td>0</td>\n",
       "      <td>RS</td>\n",
       "      <td>credit_card</td>\n",
       "      <td>3</td>\n",
       "      <td>205.26</td>\n",
       "      <td>185.0</td>\n",
       "      <td>20.26</td>\n",
       "      <td>esporte_lazer</td>\n",
       "      <td>42.0</td>\n",
       "      <td>858.0</td>\n",
       "      <td>1.0</td>\n",
       "      <td>1300.0</td>\n",
       "      <td>30.0</td>\n",
       "      <td>30.0</td>\n",
       "      <td>35.0</td>\n",
       "      <td>SP</td>\n",
       "      <td>-18.0</td>\n",
       "    </tr>\n",
       "    <tr>\n",
       "      <th>3</th>\n",
       "      <td>efd626e6a12a82d76e456e34093f8356</td>\n",
       "      <td>5</td>\n",
       "      <td>0</td>\n",
       "      <td>0</td>\n",
       "      <td>MG</td>\n",
       "      <td>credit_card</td>\n",
       "      <td>2</td>\n",
       "      <td>202.05</td>\n",
       "      <td>185.0</td>\n",
       "      <td>17.05</td>\n",
       "      <td>esporte_lazer</td>\n",
       "      <td>42.0</td>\n",
       "      <td>858.0</td>\n",
       "      <td>1.0</td>\n",
       "      <td>1300.0</td>\n",
       "      <td>30.0</td>\n",
       "      <td>30.0</td>\n",
       "      <td>35.0</td>\n",
       "      <td>SP</td>\n",
       "      <td>-12.0</td>\n",
       "    </tr>\n",
       "    <tr>\n",
       "      <th>4</th>\n",
       "      <td>b0bc656fed47584c160f8cff2d7b8bbd</td>\n",
       "      <td>5</td>\n",
       "      <td>0</td>\n",
       "      <td>0</td>\n",
       "      <td>MG</td>\n",
       "      <td>credit_card</td>\n",
       "      <td>1</td>\n",
       "      <td>306.40</td>\n",
       "      <td>135.0</td>\n",
       "      <td>18.20</td>\n",
       "      <td>esporte_lazer</td>\n",
       "      <td>47.0</td>\n",
       "      <td>858.0</td>\n",
       "      <td>1.0</td>\n",
       "      <td>1600.0</td>\n",
       "      <td>30.0</td>\n",
       "      <td>30.0</td>\n",
       "      <td>35.0</td>\n",
       "      <td>SP</td>\n",
       "      <td>-7.0</td>\n",
       "    </tr>\n",
       "    <tr>\n",
       "      <th>...</th>\n",
       "      <td>...</td>\n",
       "      <td>...</td>\n",
       "      <td>...</td>\n",
       "      <td>...</td>\n",
       "      <td>...</td>\n",
       "      <td>...</td>\n",
       "      <td>...</td>\n",
       "      <td>...</td>\n",
       "      <td>...</td>\n",
       "      <td>...</td>\n",
       "      <td>...</td>\n",
       "      <td>...</td>\n",
       "      <td>...</td>\n",
       "      <td>...</td>\n",
       "      <td>...</td>\n",
       "      <td>...</td>\n",
       "      <td>...</td>\n",
       "      <td>...</td>\n",
       "      <td>...</td>\n",
       "      <td>...</td>\n",
       "    </tr>\n",
       "    <tr>\n",
       "      <th>118310</th>\n",
       "      <td>8c1d27c10cc60cc369a428813bb71350</td>\n",
       "      <td>4</td>\n",
       "      <td>1</td>\n",
       "      <td>1</td>\n",
       "      <td>MG</td>\n",
       "      <td>credit_card</td>\n",
       "      <td>1</td>\n",
       "      <td>108.63</td>\n",
       "      <td>89.9</td>\n",
       "      <td>18.73</td>\n",
       "      <td>moveis_decoracao</td>\n",
       "      <td>50.0</td>\n",
       "      <td>1141.0</td>\n",
       "      <td>2.0</td>\n",
       "      <td>450.0</td>\n",
       "      <td>16.0</td>\n",
       "      <td>16.0</td>\n",
       "      <td>16.0</td>\n",
       "      <td>SP</td>\n",
       "      <td>-14.0</td>\n",
       "    </tr>\n",
       "    <tr>\n",
       "      <th>118311</th>\n",
       "      <td>80ba449ea98f8e879a829759b5a66294</td>\n",
       "      <td>5</td>\n",
       "      <td>0</td>\n",
       "      <td>0</td>\n",
       "      <td>GO</td>\n",
       "      <td>credit_card</td>\n",
       "      <td>4</td>\n",
       "      <td>327.25</td>\n",
       "      <td>289.9</td>\n",
       "      <td>37.35</td>\n",
       "      <td>beleza_saude</td>\n",
       "      <td>47.0</td>\n",
       "      <td>696.0</td>\n",
       "      <td>1.0</td>\n",
       "      <td>692.0</td>\n",
       "      <td>15.0</td>\n",
       "      <td>12.0</td>\n",
       "      <td>14.0</td>\n",
       "      <td>PR</td>\n",
       "      <td>-15.0</td>\n",
       "    </tr>\n",
       "    <tr>\n",
       "      <th>118312</th>\n",
       "      <td>5fd71cc4eb69ae6f65ac3acfcbc17ab5</td>\n",
       "      <td>5</td>\n",
       "      <td>0</td>\n",
       "      <td>0</td>\n",
       "      <td>RJ</td>\n",
       "      <td>credit_card</td>\n",
       "      <td>2</td>\n",
       "      <td>98.34</td>\n",
       "      <td>79.9</td>\n",
       "      <td>18.44</td>\n",
       "      <td>sinalizacao_e_seguranca</td>\n",
       "      <td>36.0</td>\n",
       "      <td>609.0</td>\n",
       "      <td>2.0</td>\n",
       "      <td>575.0</td>\n",
       "      <td>45.0</td>\n",
       "      <td>21.0</td>\n",
       "      <td>23.0</td>\n",
       "      <td>SP</td>\n",
       "      <td>-14.0</td>\n",
       "    </tr>\n",
       "    <tr>\n",
       "      <th>118313</th>\n",
       "      <td>61d5f1dcdf9b023ea7622b65d2362e4f</td>\n",
       "      <td>1</td>\n",
       "      <td>0</td>\n",
       "      <td>1</td>\n",
       "      <td>SP</td>\n",
       "      <td>credit_card</td>\n",
       "      <td>8</td>\n",
       "      <td>767.69</td>\n",
       "      <td>750.0</td>\n",
       "      <td>17.69</td>\n",
       "      <td>relogios_presentes</td>\n",
       "      <td>43.0</td>\n",
       "      <td>381.0</td>\n",
       "      <td>4.0</td>\n",
       "      <td>350.0</td>\n",
       "      <td>20.0</td>\n",
       "      <td>20.0</td>\n",
       "      <td>20.0</td>\n",
       "      <td>SP</td>\n",
       "      <td>-7.0</td>\n",
       "    </tr>\n",
       "    <tr>\n",
       "      <th>118314</th>\n",
       "      <td>5f4a120717a4d152577d7d2ec66c45be</td>\n",
       "      <td>5</td>\n",
       "      <td>0</td>\n",
       "      <td>0</td>\n",
       "      <td>RJ</td>\n",
       "      <td>credit_card</td>\n",
       "      <td>3</td>\n",
       "      <td>201.34</td>\n",
       "      <td>161.0</td>\n",
       "      <td>40.34</td>\n",
       "      <td>moveis_cozinha_area_de_servico_jantar_e_jardim</td>\n",
       "      <td>38.0</td>\n",
       "      <td>245.0</td>\n",
       "      <td>1.0</td>\n",
       "      <td>4000.0</td>\n",
       "      <td>31.0</td>\n",
       "      <td>42.0</td>\n",
       "      <td>43.0</td>\n",
       "      <td>PR</td>\n",
       "      <td>-24.0</td>\n",
       "    </tr>\n",
       "  </tbody>\n",
       "</table>\n",
       "<p>118315 rows × 20 columns</p>\n",
       "</div>"
      ],
      "text/plain": [
       "                                order_id  review_score  ...  seller_state  delay\n",
       "0       73fc7af87114b39712e6da79b0a377eb             4  ...            SP  -16.0\n",
       "1       73fc7af87114b39712e6da79b0a377eb             4  ...            SP  -16.0\n",
       "2       19721d59a9764437477eff0730b48665             5  ...            SP  -18.0\n",
       "3       efd626e6a12a82d76e456e34093f8356             5  ...            SP  -12.0\n",
       "4       b0bc656fed47584c160f8cff2d7b8bbd             5  ...            SP   -7.0\n",
       "...                                  ...           ...  ...           ...    ...\n",
       "118310  8c1d27c10cc60cc369a428813bb71350             4  ...            SP  -14.0\n",
       "118311  80ba449ea98f8e879a829759b5a66294             5  ...            PR  -15.0\n",
       "118312  5fd71cc4eb69ae6f65ac3acfcbc17ab5             5  ...            SP  -14.0\n",
       "118313  61d5f1dcdf9b023ea7622b65d2362e4f             1  ...            SP   -7.0\n",
       "118314  5f4a120717a4d152577d7d2ec66c45be             5  ...            PR  -24.0\n",
       "\n",
       "[118315 rows x 20 columns]"
      ]
     },
     "execution_count": 111,
     "metadata": {
      "tags": []
     },
     "output_type": "execute_result"
    }
   ],
   "source": [
    "rocpips_df"
   ]
  },
  {
   "cell_type": "markdown",
   "metadata": {
    "colab_type": "text",
    "id": "HJrYq6p4bzNw"
   },
   "source": [
    "## Extra Charge"
   ]
  },
  {
   "cell_type": "code",
   "execution_count": 112,
   "metadata": {
    "colab": {
     "base_uri": "https://localhost:8080/",
     "height": 431
    },
    "colab_type": "code",
    "id": "Wv8qmynSbzNx",
    "outputId": "3dc567fe-9232-4796-be52-893fcbf69194"
   },
   "outputs": [
    {
     "data": {
      "text/html": [
       "<div>\n",
       "<style scoped>\n",
       "    .dataframe tbody tr th:only-of-type {\n",
       "        vertical-align: middle;\n",
       "    }\n",
       "\n",
       "    .dataframe tbody tr th {\n",
       "        vertical-align: top;\n",
       "    }\n",
       "\n",
       "    .dataframe thead th {\n",
       "        text-align: right;\n",
       "    }\n",
       "</style>\n",
       "<table border=\"1\" class=\"dataframe\">\n",
       "  <thead>\n",
       "    <tr style=\"text-align: right;\">\n",
       "      <th></th>\n",
       "      <th>payment_value</th>\n",
       "    </tr>\n",
       "    <tr>\n",
       "      <th>order_id</th>\n",
       "      <th></th>\n",
       "    </tr>\n",
       "  </thead>\n",
       "  <tbody>\n",
       "    <tr>\n",
       "      <th>00010242fe8c5a6d1ba2dd792cb16214</th>\n",
       "      <td>72.19</td>\n",
       "    </tr>\n",
       "    <tr>\n",
       "      <th>00018f77f2f0320c557190d7a144bdd3</th>\n",
       "      <td>259.83</td>\n",
       "    </tr>\n",
       "    <tr>\n",
       "      <th>000229ec398224ef6ca0657da4fc703e</th>\n",
       "      <td>216.87</td>\n",
       "    </tr>\n",
       "    <tr>\n",
       "      <th>00024acbcdf0a6daa1e931b038114c75</th>\n",
       "      <td>25.78</td>\n",
       "    </tr>\n",
       "    <tr>\n",
       "      <th>00042b26cf59d7ce69dfabb4e55b4fd9</th>\n",
       "      <td>218.04</td>\n",
       "    </tr>\n",
       "    <tr>\n",
       "      <th>...</th>\n",
       "      <td>...</td>\n",
       "    </tr>\n",
       "    <tr>\n",
       "      <th>fffc94f6ce00a00581880bf54a75a037</th>\n",
       "      <td>343.40</td>\n",
       "    </tr>\n",
       "    <tr>\n",
       "      <th>fffcd46ef2263f404302a634eb57f7eb</th>\n",
       "      <td>386.53</td>\n",
       "    </tr>\n",
       "    <tr>\n",
       "      <th>fffce4705a9662cd70adb13d4a31832d</th>\n",
       "      <td>116.85</td>\n",
       "    </tr>\n",
       "    <tr>\n",
       "      <th>fffe18544ffabc95dfada21779c9644f</th>\n",
       "      <td>64.71</td>\n",
       "    </tr>\n",
       "    <tr>\n",
       "      <th>fffe41c64501cc87c801fd61db3f6244</th>\n",
       "      <td>55.79</td>\n",
       "    </tr>\n",
       "  </tbody>\n",
       "</table>\n",
       "<p>99440 rows × 1 columns</p>\n",
       "</div>"
      ],
      "text/plain": [
       "                                  payment_value\n",
       "order_id                                       \n",
       "00010242fe8c5a6d1ba2dd792cb16214          72.19\n",
       "00018f77f2f0320c557190d7a144bdd3         259.83\n",
       "000229ec398224ef6ca0657da4fc703e         216.87\n",
       "00024acbcdf0a6daa1e931b038114c75          25.78\n",
       "00042b26cf59d7ce69dfabb4e55b4fd9         218.04\n",
       "...                                         ...\n",
       "fffc94f6ce00a00581880bf54a75a037         343.40\n",
       "fffcd46ef2263f404302a634eb57f7eb         386.53\n",
       "fffce4705a9662cd70adb13d4a31832d         116.85\n",
       "fffe18544ffabc95dfada21779c9644f          64.71\n",
       "fffe41c64501cc87c801fd61db3f6244          55.79\n",
       "\n",
       "[99440 rows x 1 columns]"
      ]
     },
     "execution_count": 112,
     "metadata": {
      "tags": []
     },
     "output_type": "execute_result"
    }
   ],
   "source": [
    "# cumulative payment of multiple installments for order\n",
    "payment_value_df = pd.DataFrame(payment_df.groupby('order_id')['payment_value'].sum())\n",
    "payment_value_df"
   ]
  },
  {
   "cell_type": "code",
   "execution_count": 113,
   "metadata": {
    "colab": {
     "base_uri": "https://localhost:8080/",
     "height": 431
    },
    "colab_type": "code",
    "id": "zkE1MUV6bzN-",
    "outputId": "6d8b0bb4-1aca-451e-f633-5b5e72bc4c4f",
    "scrolled": true
   },
   "outputs": [
    {
     "data": {
      "text/html": [
       "<div>\n",
       "<style scoped>\n",
       "    .dataframe tbody tr th:only-of-type {\n",
       "        vertical-align: middle;\n",
       "    }\n",
       "\n",
       "    .dataframe tbody tr th {\n",
       "        vertical-align: top;\n",
       "    }\n",
       "\n",
       "    .dataframe thead th {\n",
       "        text-align: right;\n",
       "    }\n",
       "</style>\n",
       "<table border=\"1\" class=\"dataframe\">\n",
       "  <thead>\n",
       "    <tr style=\"text-align: right;\">\n",
       "      <th></th>\n",
       "      <th>price</th>\n",
       "    </tr>\n",
       "    <tr>\n",
       "      <th>order_id</th>\n",
       "      <th></th>\n",
       "    </tr>\n",
       "  </thead>\n",
       "  <tbody>\n",
       "    <tr>\n",
       "      <th>00010242fe8c5a6d1ba2dd792cb16214</th>\n",
       "      <td>58.90</td>\n",
       "    </tr>\n",
       "    <tr>\n",
       "      <th>00018f77f2f0320c557190d7a144bdd3</th>\n",
       "      <td>239.90</td>\n",
       "    </tr>\n",
       "    <tr>\n",
       "      <th>000229ec398224ef6ca0657da4fc703e</th>\n",
       "      <td>199.00</td>\n",
       "    </tr>\n",
       "    <tr>\n",
       "      <th>00024acbcdf0a6daa1e931b038114c75</th>\n",
       "      <td>12.99</td>\n",
       "    </tr>\n",
       "    <tr>\n",
       "      <th>00042b26cf59d7ce69dfabb4e55b4fd9</th>\n",
       "      <td>199.90</td>\n",
       "    </tr>\n",
       "    <tr>\n",
       "      <th>...</th>\n",
       "      <td>...</td>\n",
       "    </tr>\n",
       "    <tr>\n",
       "      <th>fffc94f6ce00a00581880bf54a75a037</th>\n",
       "      <td>299.99</td>\n",
       "    </tr>\n",
       "    <tr>\n",
       "      <th>fffcd46ef2263f404302a634eb57f7eb</th>\n",
       "      <td>350.00</td>\n",
       "    </tr>\n",
       "    <tr>\n",
       "      <th>fffce4705a9662cd70adb13d4a31832d</th>\n",
       "      <td>99.90</td>\n",
       "    </tr>\n",
       "    <tr>\n",
       "      <th>fffe18544ffabc95dfada21779c9644f</th>\n",
       "      <td>55.99</td>\n",
       "    </tr>\n",
       "    <tr>\n",
       "      <th>fffe41c64501cc87c801fd61db3f6244</th>\n",
       "      <td>43.00</td>\n",
       "    </tr>\n",
       "  </tbody>\n",
       "</table>\n",
       "<p>98666 rows × 1 columns</p>\n",
       "</div>"
      ],
      "text/plain": [
       "                                   price\n",
       "order_id                                \n",
       "00010242fe8c5a6d1ba2dd792cb16214   58.90\n",
       "00018f77f2f0320c557190d7a144bdd3  239.90\n",
       "000229ec398224ef6ca0657da4fc703e  199.00\n",
       "00024acbcdf0a6daa1e931b038114c75   12.99\n",
       "00042b26cf59d7ce69dfabb4e55b4fd9  199.90\n",
       "...                                  ...\n",
       "fffc94f6ce00a00581880bf54a75a037  299.99\n",
       "fffcd46ef2263f404302a634eb57f7eb  350.00\n",
       "fffce4705a9662cd70adb13d4a31832d   99.90\n",
       "fffe18544ffabc95dfada21779c9644f   55.99\n",
       "fffe41c64501cc87c801fd61db3f6244   43.00\n",
       "\n",
       "[98666 rows x 1 columns]"
      ]
     },
     "execution_count": 113,
     "metadata": {
      "tags": []
     },
     "output_type": "execute_result"
    }
   ],
   "source": [
    "# cumulative price of multiple items in order\n",
    "price_df = pd.DataFrame(item_df.groupby('order_id')['price'].sum())\n",
    "price_df"
   ]
  },
  {
   "cell_type": "code",
   "execution_count": 114,
   "metadata": {
    "colab": {
     "base_uri": "https://localhost:8080/",
     "height": 431
    },
    "colab_type": "code",
    "id": "nMhQ3XG4bzOU",
    "outputId": "f9a53b5d-5e65-4f68-aaa3-6911a2d224a2",
    "scrolled": true
   },
   "outputs": [
    {
     "data": {
      "text/html": [
       "<div>\n",
       "<style scoped>\n",
       "    .dataframe tbody tr th:only-of-type {\n",
       "        vertical-align: middle;\n",
       "    }\n",
       "\n",
       "    .dataframe tbody tr th {\n",
       "        vertical-align: top;\n",
       "    }\n",
       "\n",
       "    .dataframe thead th {\n",
       "        text-align: right;\n",
       "    }\n",
       "</style>\n",
       "<table border=\"1\" class=\"dataframe\">\n",
       "  <thead>\n",
       "    <tr style=\"text-align: right;\">\n",
       "      <th></th>\n",
       "      <th>payment_value</th>\n",
       "      <th>price</th>\n",
       "      <th>overcharge</th>\n",
       "    </tr>\n",
       "    <tr>\n",
       "      <th>order_id</th>\n",
       "      <th></th>\n",
       "      <th></th>\n",
       "      <th></th>\n",
       "    </tr>\n",
       "  </thead>\n",
       "  <tbody>\n",
       "    <tr>\n",
       "      <th>00010242fe8c5a6d1ba2dd792cb16214</th>\n",
       "      <td>72.19</td>\n",
       "      <td>58.90</td>\n",
       "      <td>13.29</td>\n",
       "    </tr>\n",
       "    <tr>\n",
       "      <th>00018f77f2f0320c557190d7a144bdd3</th>\n",
       "      <td>259.83</td>\n",
       "      <td>239.90</td>\n",
       "      <td>19.93</td>\n",
       "    </tr>\n",
       "    <tr>\n",
       "      <th>000229ec398224ef6ca0657da4fc703e</th>\n",
       "      <td>216.87</td>\n",
       "      <td>199.00</td>\n",
       "      <td>17.87</td>\n",
       "    </tr>\n",
       "    <tr>\n",
       "      <th>00024acbcdf0a6daa1e931b038114c75</th>\n",
       "      <td>25.78</td>\n",
       "      <td>12.99</td>\n",
       "      <td>12.79</td>\n",
       "    </tr>\n",
       "    <tr>\n",
       "      <th>00042b26cf59d7ce69dfabb4e55b4fd9</th>\n",
       "      <td>218.04</td>\n",
       "      <td>199.90</td>\n",
       "      <td>18.14</td>\n",
       "    </tr>\n",
       "    <tr>\n",
       "      <th>...</th>\n",
       "      <td>...</td>\n",
       "      <td>...</td>\n",
       "      <td>...</td>\n",
       "    </tr>\n",
       "    <tr>\n",
       "      <th>fffc94f6ce00a00581880bf54a75a037</th>\n",
       "      <td>343.40</td>\n",
       "      <td>299.99</td>\n",
       "      <td>43.41</td>\n",
       "    </tr>\n",
       "    <tr>\n",
       "      <th>fffcd46ef2263f404302a634eb57f7eb</th>\n",
       "      <td>386.53</td>\n",
       "      <td>350.00</td>\n",
       "      <td>36.53</td>\n",
       "    </tr>\n",
       "    <tr>\n",
       "      <th>fffce4705a9662cd70adb13d4a31832d</th>\n",
       "      <td>116.85</td>\n",
       "      <td>99.90</td>\n",
       "      <td>16.95</td>\n",
       "    </tr>\n",
       "    <tr>\n",
       "      <th>fffe18544ffabc95dfada21779c9644f</th>\n",
       "      <td>64.71</td>\n",
       "      <td>55.99</td>\n",
       "      <td>8.72</td>\n",
       "    </tr>\n",
       "    <tr>\n",
       "      <th>fffe41c64501cc87c801fd61db3f6244</th>\n",
       "      <td>55.79</td>\n",
       "      <td>43.00</td>\n",
       "      <td>12.79</td>\n",
       "    </tr>\n",
       "  </tbody>\n",
       "</table>\n",
       "<p>99440 rows × 3 columns</p>\n",
       "</div>"
      ],
      "text/plain": [
       "                                  payment_value   price  overcharge\n",
       "order_id                                                           \n",
       "00010242fe8c5a6d1ba2dd792cb16214          72.19   58.90       13.29\n",
       "00018f77f2f0320c557190d7a144bdd3         259.83  239.90       19.93\n",
       "000229ec398224ef6ca0657da4fc703e         216.87  199.00       17.87\n",
       "00024acbcdf0a6daa1e931b038114c75          25.78   12.99       12.79\n",
       "00042b26cf59d7ce69dfabb4e55b4fd9         218.04  199.90       18.14\n",
       "...                                         ...     ...         ...\n",
       "fffc94f6ce00a00581880bf54a75a037         343.40  299.99       43.41\n",
       "fffcd46ef2263f404302a634eb57f7eb         386.53  350.00       36.53\n",
       "fffce4705a9662cd70adb13d4a31832d         116.85   99.90       16.95\n",
       "fffe18544ffabc95dfada21779c9644f          64.71   55.99        8.72\n",
       "fffe41c64501cc87c801fd61db3f6244          55.79   43.00       12.79\n",
       "\n",
       "[99440 rows x 3 columns]"
      ]
     },
     "execution_count": 114,
     "metadata": {
      "tags": []
     },
     "output_type": "execute_result"
    }
   ],
   "source": [
    "# difference between payment and price in order\n",
    "payment_price_df = pd.merge(payment_value_df, price_df, how='left', left_index=True, right_index=True)\n",
    "payment_price_df['overcharge'] = payment_price_df.payment_value - payment_price_df.price\n",
    "payment_price_df"
   ]
  },
  {
   "cell_type": "code",
   "execution_count": 115,
   "metadata": {
    "colab": {
     "base_uri": "https://localhost:8080/",
     "height": 193
    },
    "colab_type": "code",
    "id": "sdVBIVqIbzOj",
    "outputId": "d69c92bb-a84a-4ec3-b6f5-eb15c872f05d",
    "scrolled": true
   },
   "outputs": [
    {
     "name": "stdout",
     "output_type": "stream",
     "text": [
      "<class 'pandas.core.frame.DataFrame'>\n",
      "Index: 99440 entries, 00010242fe8c5a6d1ba2dd792cb16214 to fffe41c64501cc87c801fd61db3f6244\n",
      "Data columns (total 3 columns):\n",
      " #   Column         Non-Null Count  Dtype  \n",
      "---  ------         --------------  -----  \n",
      " 0   payment_value  99440 non-null  float64\n",
      " 1   price          98665 non-null  float64\n",
      " 2   overcharge     98665 non-null  float64\n",
      "dtypes: float64(3)\n",
      "memory usage: 5.5+ MB\n"
     ]
    }
   ],
   "source": [
    "payment_price_df.info()"
   ]
  },
  {
   "cell_type": "code",
   "execution_count": 116,
   "metadata": {
    "colab": {
     "base_uri": "https://localhost:8080/",
     "height": 422
    },
    "colab_type": "code",
    "id": "MRZcW1KFbzOs",
    "outputId": "fde369e2-8ead-4961-8d7c-8250d9e4fafe",
    "scrolled": true
   },
   "outputs": [
    {
     "data": {
      "text/html": [
       "<div>\n",
       "<style scoped>\n",
       "    .dataframe tbody tr th:only-of-type {\n",
       "        vertical-align: middle;\n",
       "    }\n",
       "\n",
       "    .dataframe tbody tr th {\n",
       "        vertical-align: top;\n",
       "    }\n",
       "\n",
       "    .dataframe thead th {\n",
       "        text-align: right;\n",
       "    }\n",
       "</style>\n",
       "<table border=\"1\" class=\"dataframe\">\n",
       "  <thead>\n",
       "    <tr style=\"text-align: right;\">\n",
       "      <th></th>\n",
       "      <th>order_id</th>\n",
       "      <th>review_score</th>\n",
       "      <th>review_comment_title</th>\n",
       "      <th>review_comment_message</th>\n",
       "      <th>customer_state</th>\n",
       "      <th>payment_type</th>\n",
       "      <th>payment_installments</th>\n",
       "      <th>payment_value</th>\n",
       "      <th>price</th>\n",
       "      <th>freight_value</th>\n",
       "      <th>product_category_name</th>\n",
       "      <th>product_name_lenght</th>\n",
       "      <th>product_description_lenght</th>\n",
       "      <th>product_photos_qty</th>\n",
       "      <th>product_weight_g</th>\n",
       "      <th>product_length_cm</th>\n",
       "      <th>product_height_cm</th>\n",
       "      <th>product_width_cm</th>\n",
       "      <th>seller_state</th>\n",
       "      <th>delay</th>\n",
       "      <th>overcharge</th>\n",
       "    </tr>\n",
       "  </thead>\n",
       "  <tbody>\n",
       "    <tr>\n",
       "      <th>0</th>\n",
       "      <td>73fc7af87114b39712e6da79b0a377eb</td>\n",
       "      <td>4</td>\n",
       "      <td>0</td>\n",
       "      <td>0</td>\n",
       "      <td>SP</td>\n",
       "      <td>credit_card</td>\n",
       "      <td>8</td>\n",
       "      <td>397.26</td>\n",
       "      <td>185.0</td>\n",
       "      <td>13.63</td>\n",
       "      <td>esporte_lazer</td>\n",
       "      <td>42.0</td>\n",
       "      <td>858.0</td>\n",
       "      <td>1.0</td>\n",
       "      <td>1300.0</td>\n",
       "      <td>30.0</td>\n",
       "      <td>30.0</td>\n",
       "      <td>35.0</td>\n",
       "      <td>SP</td>\n",
       "      <td>-16.0</td>\n",
       "      <td>27.26</td>\n",
       "    </tr>\n",
       "    <tr>\n",
       "      <th>1</th>\n",
       "      <td>73fc7af87114b39712e6da79b0a377eb</td>\n",
       "      <td>4</td>\n",
       "      <td>0</td>\n",
       "      <td>0</td>\n",
       "      <td>SP</td>\n",
       "      <td>credit_card</td>\n",
       "      <td>8</td>\n",
       "      <td>397.26</td>\n",
       "      <td>185.0</td>\n",
       "      <td>13.63</td>\n",
       "      <td>esporte_lazer</td>\n",
       "      <td>42.0</td>\n",
       "      <td>858.0</td>\n",
       "      <td>1.0</td>\n",
       "      <td>1300.0</td>\n",
       "      <td>30.0</td>\n",
       "      <td>30.0</td>\n",
       "      <td>35.0</td>\n",
       "      <td>SP</td>\n",
       "      <td>-16.0</td>\n",
       "      <td>27.26</td>\n",
       "    </tr>\n",
       "    <tr>\n",
       "      <th>2</th>\n",
       "      <td>19721d59a9764437477eff0730b48665</td>\n",
       "      <td>5</td>\n",
       "      <td>0</td>\n",
       "      <td>0</td>\n",
       "      <td>RS</td>\n",
       "      <td>credit_card</td>\n",
       "      <td>3</td>\n",
       "      <td>205.26</td>\n",
       "      <td>185.0</td>\n",
       "      <td>20.26</td>\n",
       "      <td>esporte_lazer</td>\n",
       "      <td>42.0</td>\n",
       "      <td>858.0</td>\n",
       "      <td>1.0</td>\n",
       "      <td>1300.0</td>\n",
       "      <td>30.0</td>\n",
       "      <td>30.0</td>\n",
       "      <td>35.0</td>\n",
       "      <td>SP</td>\n",
       "      <td>-18.0</td>\n",
       "      <td>20.26</td>\n",
       "    </tr>\n",
       "    <tr>\n",
       "      <th>3</th>\n",
       "      <td>efd626e6a12a82d76e456e34093f8356</td>\n",
       "      <td>5</td>\n",
       "      <td>0</td>\n",
       "      <td>0</td>\n",
       "      <td>MG</td>\n",
       "      <td>credit_card</td>\n",
       "      <td>2</td>\n",
       "      <td>202.05</td>\n",
       "      <td>185.0</td>\n",
       "      <td>17.05</td>\n",
       "      <td>esporte_lazer</td>\n",
       "      <td>42.0</td>\n",
       "      <td>858.0</td>\n",
       "      <td>1.0</td>\n",
       "      <td>1300.0</td>\n",
       "      <td>30.0</td>\n",
       "      <td>30.0</td>\n",
       "      <td>35.0</td>\n",
       "      <td>SP</td>\n",
       "      <td>-12.0</td>\n",
       "      <td>17.05</td>\n",
       "    </tr>\n",
       "    <tr>\n",
       "      <th>4</th>\n",
       "      <td>b0bc656fed47584c160f8cff2d7b8bbd</td>\n",
       "      <td>5</td>\n",
       "      <td>0</td>\n",
       "      <td>0</td>\n",
       "      <td>MG</td>\n",
       "      <td>credit_card</td>\n",
       "      <td>1</td>\n",
       "      <td>306.40</td>\n",
       "      <td>135.0</td>\n",
       "      <td>18.20</td>\n",
       "      <td>esporte_lazer</td>\n",
       "      <td>47.0</td>\n",
       "      <td>858.0</td>\n",
       "      <td>1.0</td>\n",
       "      <td>1600.0</td>\n",
       "      <td>30.0</td>\n",
       "      <td>30.0</td>\n",
       "      <td>35.0</td>\n",
       "      <td>SP</td>\n",
       "      <td>-7.0</td>\n",
       "      <td>36.40</td>\n",
       "    </tr>\n",
       "    <tr>\n",
       "      <th>...</th>\n",
       "      <td>...</td>\n",
       "      <td>...</td>\n",
       "      <td>...</td>\n",
       "      <td>...</td>\n",
       "      <td>...</td>\n",
       "      <td>...</td>\n",
       "      <td>...</td>\n",
       "      <td>...</td>\n",
       "      <td>...</td>\n",
       "      <td>...</td>\n",
       "      <td>...</td>\n",
       "      <td>...</td>\n",
       "      <td>...</td>\n",
       "      <td>...</td>\n",
       "      <td>...</td>\n",
       "      <td>...</td>\n",
       "      <td>...</td>\n",
       "      <td>...</td>\n",
       "      <td>...</td>\n",
       "      <td>...</td>\n",
       "      <td>...</td>\n",
       "    </tr>\n",
       "    <tr>\n",
       "      <th>118310</th>\n",
       "      <td>8c1d27c10cc60cc369a428813bb71350</td>\n",
       "      <td>4</td>\n",
       "      <td>1</td>\n",
       "      <td>1</td>\n",
       "      <td>MG</td>\n",
       "      <td>credit_card</td>\n",
       "      <td>1</td>\n",
       "      <td>108.63</td>\n",
       "      <td>89.9</td>\n",
       "      <td>18.73</td>\n",
       "      <td>moveis_decoracao</td>\n",
       "      <td>50.0</td>\n",
       "      <td>1141.0</td>\n",
       "      <td>2.0</td>\n",
       "      <td>450.0</td>\n",
       "      <td>16.0</td>\n",
       "      <td>16.0</td>\n",
       "      <td>16.0</td>\n",
       "      <td>SP</td>\n",
       "      <td>-14.0</td>\n",
       "      <td>18.73</td>\n",
       "    </tr>\n",
       "    <tr>\n",
       "      <th>118311</th>\n",
       "      <td>80ba449ea98f8e879a829759b5a66294</td>\n",
       "      <td>5</td>\n",
       "      <td>0</td>\n",
       "      <td>0</td>\n",
       "      <td>GO</td>\n",
       "      <td>credit_card</td>\n",
       "      <td>4</td>\n",
       "      <td>327.25</td>\n",
       "      <td>289.9</td>\n",
       "      <td>37.35</td>\n",
       "      <td>beleza_saude</td>\n",
       "      <td>47.0</td>\n",
       "      <td>696.0</td>\n",
       "      <td>1.0</td>\n",
       "      <td>692.0</td>\n",
       "      <td>15.0</td>\n",
       "      <td>12.0</td>\n",
       "      <td>14.0</td>\n",
       "      <td>PR</td>\n",
       "      <td>-15.0</td>\n",
       "      <td>37.35</td>\n",
       "    </tr>\n",
       "    <tr>\n",
       "      <th>118312</th>\n",
       "      <td>5fd71cc4eb69ae6f65ac3acfcbc17ab5</td>\n",
       "      <td>5</td>\n",
       "      <td>0</td>\n",
       "      <td>0</td>\n",
       "      <td>RJ</td>\n",
       "      <td>credit_card</td>\n",
       "      <td>2</td>\n",
       "      <td>98.34</td>\n",
       "      <td>79.9</td>\n",
       "      <td>18.44</td>\n",
       "      <td>sinalizacao_e_seguranca</td>\n",
       "      <td>36.0</td>\n",
       "      <td>609.0</td>\n",
       "      <td>2.0</td>\n",
       "      <td>575.0</td>\n",
       "      <td>45.0</td>\n",
       "      <td>21.0</td>\n",
       "      <td>23.0</td>\n",
       "      <td>SP</td>\n",
       "      <td>-14.0</td>\n",
       "      <td>18.44</td>\n",
       "    </tr>\n",
       "    <tr>\n",
       "      <th>118313</th>\n",
       "      <td>61d5f1dcdf9b023ea7622b65d2362e4f</td>\n",
       "      <td>1</td>\n",
       "      <td>0</td>\n",
       "      <td>1</td>\n",
       "      <td>SP</td>\n",
       "      <td>credit_card</td>\n",
       "      <td>8</td>\n",
       "      <td>767.69</td>\n",
       "      <td>750.0</td>\n",
       "      <td>17.69</td>\n",
       "      <td>relogios_presentes</td>\n",
       "      <td>43.0</td>\n",
       "      <td>381.0</td>\n",
       "      <td>4.0</td>\n",
       "      <td>350.0</td>\n",
       "      <td>20.0</td>\n",
       "      <td>20.0</td>\n",
       "      <td>20.0</td>\n",
       "      <td>SP</td>\n",
       "      <td>-7.0</td>\n",
       "      <td>17.69</td>\n",
       "    </tr>\n",
       "    <tr>\n",
       "      <th>118314</th>\n",
       "      <td>5f4a120717a4d152577d7d2ec66c45be</td>\n",
       "      <td>5</td>\n",
       "      <td>0</td>\n",
       "      <td>0</td>\n",
       "      <td>RJ</td>\n",
       "      <td>credit_card</td>\n",
       "      <td>3</td>\n",
       "      <td>201.34</td>\n",
       "      <td>161.0</td>\n",
       "      <td>40.34</td>\n",
       "      <td>moveis_cozinha_area_de_servico_jantar_e_jardim</td>\n",
       "      <td>38.0</td>\n",
       "      <td>245.0</td>\n",
       "      <td>1.0</td>\n",
       "      <td>4000.0</td>\n",
       "      <td>31.0</td>\n",
       "      <td>42.0</td>\n",
       "      <td>43.0</td>\n",
       "      <td>PR</td>\n",
       "      <td>-24.0</td>\n",
       "      <td>40.34</td>\n",
       "    </tr>\n",
       "  </tbody>\n",
       "</table>\n",
       "<p>118315 rows × 21 columns</p>\n",
       "</div>"
      ],
      "text/plain": [
       "                                order_id  review_score  ...  delay  overcharge\n",
       "0       73fc7af87114b39712e6da79b0a377eb             4  ...  -16.0       27.26\n",
       "1       73fc7af87114b39712e6da79b0a377eb             4  ...  -16.0       27.26\n",
       "2       19721d59a9764437477eff0730b48665             5  ...  -18.0       20.26\n",
       "3       efd626e6a12a82d76e456e34093f8356             5  ...  -12.0       17.05\n",
       "4       b0bc656fed47584c160f8cff2d7b8bbd             5  ...   -7.0       36.40\n",
       "...                                  ...           ...  ...    ...         ...\n",
       "118310  8c1d27c10cc60cc369a428813bb71350             4  ...  -14.0       18.73\n",
       "118311  80ba449ea98f8e879a829759b5a66294             5  ...  -15.0       37.35\n",
       "118312  5fd71cc4eb69ae6f65ac3acfcbc17ab5             5  ...  -14.0       18.44\n",
       "118313  61d5f1dcdf9b023ea7622b65d2362e4f             1  ...   -7.0       17.69\n",
       "118314  5f4a120717a4d152577d7d2ec66c45be             5  ...  -24.0       40.34\n",
       "\n",
       "[118315 rows x 21 columns]"
      ]
     },
     "execution_count": 116,
     "metadata": {
      "tags": []
     },
     "output_type": "execute_result"
    }
   ],
   "source": [
    "rocpipso_df = pd.merge(rocpips_df, pd.DataFrame(payment_price_df.overcharge), how='left', left_on='order_id', right_index=True)\n",
    "rocpipso_df"
   ]
  },
  {
   "cell_type": "code",
   "execution_count": 117,
   "metadata": {
    "colab": {},
    "colab_type": "code",
    "id": "i7XKXxgWbzOy",
    "scrolled": true
   },
   "outputs": [],
   "source": [
    "df = rocpipso_df.drop('order_id', axis='columns')\n"
   ]
  },
  {
   "cell_type": "code",
   "execution_count": 118,
   "metadata": {
    "colab": {
     "base_uri": "https://localhost:8080/",
     "height": 422
    },
    "colab_type": "code",
    "id": "OC1wvVWCbzO4",
    "outputId": "3e4b3dce-f44a-48bf-e4f3-a89a9e35f0d8",
    "scrolled": true
   },
   "outputs": [
    {
     "data": {
      "text/html": [
       "<div>\n",
       "<style scoped>\n",
       "    .dataframe tbody tr th:only-of-type {\n",
       "        vertical-align: middle;\n",
       "    }\n",
       "\n",
       "    .dataframe tbody tr th {\n",
       "        vertical-align: top;\n",
       "    }\n",
       "\n",
       "    .dataframe thead th {\n",
       "        text-align: right;\n",
       "    }\n",
       "</style>\n",
       "<table border=\"1\" class=\"dataframe\">\n",
       "  <thead>\n",
       "    <tr style=\"text-align: right;\">\n",
       "      <th></th>\n",
       "      <th>review_score</th>\n",
       "      <th>review_comment_title</th>\n",
       "      <th>review_comment_message</th>\n",
       "      <th>customer_state</th>\n",
       "      <th>payment_type</th>\n",
       "      <th>payment_installments</th>\n",
       "      <th>payment_value</th>\n",
       "      <th>price</th>\n",
       "      <th>freight_value</th>\n",
       "      <th>product_category_name</th>\n",
       "      <th>product_name_lenght</th>\n",
       "      <th>product_description_lenght</th>\n",
       "      <th>product_photos_qty</th>\n",
       "      <th>product_weight_g</th>\n",
       "      <th>product_length_cm</th>\n",
       "      <th>product_height_cm</th>\n",
       "      <th>product_width_cm</th>\n",
       "      <th>seller_state</th>\n",
       "      <th>delay</th>\n",
       "      <th>overcharge</th>\n",
       "    </tr>\n",
       "  </thead>\n",
       "  <tbody>\n",
       "    <tr>\n",
       "      <th>0</th>\n",
       "      <td>4</td>\n",
       "      <td>0</td>\n",
       "      <td>0</td>\n",
       "      <td>SP</td>\n",
       "      <td>credit_card</td>\n",
       "      <td>8</td>\n",
       "      <td>397.26</td>\n",
       "      <td>185.0</td>\n",
       "      <td>13.63</td>\n",
       "      <td>esporte_lazer</td>\n",
       "      <td>42.0</td>\n",
       "      <td>858.0</td>\n",
       "      <td>1.0</td>\n",
       "      <td>1300.0</td>\n",
       "      <td>30.0</td>\n",
       "      <td>30.0</td>\n",
       "      <td>35.0</td>\n",
       "      <td>SP</td>\n",
       "      <td>-16.0</td>\n",
       "      <td>27.26</td>\n",
       "    </tr>\n",
       "    <tr>\n",
       "      <th>1</th>\n",
       "      <td>4</td>\n",
       "      <td>0</td>\n",
       "      <td>0</td>\n",
       "      <td>SP</td>\n",
       "      <td>credit_card</td>\n",
       "      <td>8</td>\n",
       "      <td>397.26</td>\n",
       "      <td>185.0</td>\n",
       "      <td>13.63</td>\n",
       "      <td>esporte_lazer</td>\n",
       "      <td>42.0</td>\n",
       "      <td>858.0</td>\n",
       "      <td>1.0</td>\n",
       "      <td>1300.0</td>\n",
       "      <td>30.0</td>\n",
       "      <td>30.0</td>\n",
       "      <td>35.0</td>\n",
       "      <td>SP</td>\n",
       "      <td>-16.0</td>\n",
       "      <td>27.26</td>\n",
       "    </tr>\n",
       "    <tr>\n",
       "      <th>2</th>\n",
       "      <td>5</td>\n",
       "      <td>0</td>\n",
       "      <td>0</td>\n",
       "      <td>RS</td>\n",
       "      <td>credit_card</td>\n",
       "      <td>3</td>\n",
       "      <td>205.26</td>\n",
       "      <td>185.0</td>\n",
       "      <td>20.26</td>\n",
       "      <td>esporte_lazer</td>\n",
       "      <td>42.0</td>\n",
       "      <td>858.0</td>\n",
       "      <td>1.0</td>\n",
       "      <td>1300.0</td>\n",
       "      <td>30.0</td>\n",
       "      <td>30.0</td>\n",
       "      <td>35.0</td>\n",
       "      <td>SP</td>\n",
       "      <td>-18.0</td>\n",
       "      <td>20.26</td>\n",
       "    </tr>\n",
       "    <tr>\n",
       "      <th>3</th>\n",
       "      <td>5</td>\n",
       "      <td>0</td>\n",
       "      <td>0</td>\n",
       "      <td>MG</td>\n",
       "      <td>credit_card</td>\n",
       "      <td>2</td>\n",
       "      <td>202.05</td>\n",
       "      <td>185.0</td>\n",
       "      <td>17.05</td>\n",
       "      <td>esporte_lazer</td>\n",
       "      <td>42.0</td>\n",
       "      <td>858.0</td>\n",
       "      <td>1.0</td>\n",
       "      <td>1300.0</td>\n",
       "      <td>30.0</td>\n",
       "      <td>30.0</td>\n",
       "      <td>35.0</td>\n",
       "      <td>SP</td>\n",
       "      <td>-12.0</td>\n",
       "      <td>17.05</td>\n",
       "    </tr>\n",
       "    <tr>\n",
       "      <th>4</th>\n",
       "      <td>5</td>\n",
       "      <td>0</td>\n",
       "      <td>0</td>\n",
       "      <td>MG</td>\n",
       "      <td>credit_card</td>\n",
       "      <td>1</td>\n",
       "      <td>306.40</td>\n",
       "      <td>135.0</td>\n",
       "      <td>18.20</td>\n",
       "      <td>esporte_lazer</td>\n",
       "      <td>47.0</td>\n",
       "      <td>858.0</td>\n",
       "      <td>1.0</td>\n",
       "      <td>1600.0</td>\n",
       "      <td>30.0</td>\n",
       "      <td>30.0</td>\n",
       "      <td>35.0</td>\n",
       "      <td>SP</td>\n",
       "      <td>-7.0</td>\n",
       "      <td>36.40</td>\n",
       "    </tr>\n",
       "    <tr>\n",
       "      <th>...</th>\n",
       "      <td>...</td>\n",
       "      <td>...</td>\n",
       "      <td>...</td>\n",
       "      <td>...</td>\n",
       "      <td>...</td>\n",
       "      <td>...</td>\n",
       "      <td>...</td>\n",
       "      <td>...</td>\n",
       "      <td>...</td>\n",
       "      <td>...</td>\n",
       "      <td>...</td>\n",
       "      <td>...</td>\n",
       "      <td>...</td>\n",
       "      <td>...</td>\n",
       "      <td>...</td>\n",
       "      <td>...</td>\n",
       "      <td>...</td>\n",
       "      <td>...</td>\n",
       "      <td>...</td>\n",
       "      <td>...</td>\n",
       "    </tr>\n",
       "    <tr>\n",
       "      <th>118310</th>\n",
       "      <td>4</td>\n",
       "      <td>1</td>\n",
       "      <td>1</td>\n",
       "      <td>MG</td>\n",
       "      <td>credit_card</td>\n",
       "      <td>1</td>\n",
       "      <td>108.63</td>\n",
       "      <td>89.9</td>\n",
       "      <td>18.73</td>\n",
       "      <td>moveis_decoracao</td>\n",
       "      <td>50.0</td>\n",
       "      <td>1141.0</td>\n",
       "      <td>2.0</td>\n",
       "      <td>450.0</td>\n",
       "      <td>16.0</td>\n",
       "      <td>16.0</td>\n",
       "      <td>16.0</td>\n",
       "      <td>SP</td>\n",
       "      <td>-14.0</td>\n",
       "      <td>18.73</td>\n",
       "    </tr>\n",
       "    <tr>\n",
       "      <th>118311</th>\n",
       "      <td>5</td>\n",
       "      <td>0</td>\n",
       "      <td>0</td>\n",
       "      <td>GO</td>\n",
       "      <td>credit_card</td>\n",
       "      <td>4</td>\n",
       "      <td>327.25</td>\n",
       "      <td>289.9</td>\n",
       "      <td>37.35</td>\n",
       "      <td>beleza_saude</td>\n",
       "      <td>47.0</td>\n",
       "      <td>696.0</td>\n",
       "      <td>1.0</td>\n",
       "      <td>692.0</td>\n",
       "      <td>15.0</td>\n",
       "      <td>12.0</td>\n",
       "      <td>14.0</td>\n",
       "      <td>PR</td>\n",
       "      <td>-15.0</td>\n",
       "      <td>37.35</td>\n",
       "    </tr>\n",
       "    <tr>\n",
       "      <th>118312</th>\n",
       "      <td>5</td>\n",
       "      <td>0</td>\n",
       "      <td>0</td>\n",
       "      <td>RJ</td>\n",
       "      <td>credit_card</td>\n",
       "      <td>2</td>\n",
       "      <td>98.34</td>\n",
       "      <td>79.9</td>\n",
       "      <td>18.44</td>\n",
       "      <td>sinalizacao_e_seguranca</td>\n",
       "      <td>36.0</td>\n",
       "      <td>609.0</td>\n",
       "      <td>2.0</td>\n",
       "      <td>575.0</td>\n",
       "      <td>45.0</td>\n",
       "      <td>21.0</td>\n",
       "      <td>23.0</td>\n",
       "      <td>SP</td>\n",
       "      <td>-14.0</td>\n",
       "      <td>18.44</td>\n",
       "    </tr>\n",
       "    <tr>\n",
       "      <th>118313</th>\n",
       "      <td>1</td>\n",
       "      <td>0</td>\n",
       "      <td>1</td>\n",
       "      <td>SP</td>\n",
       "      <td>credit_card</td>\n",
       "      <td>8</td>\n",
       "      <td>767.69</td>\n",
       "      <td>750.0</td>\n",
       "      <td>17.69</td>\n",
       "      <td>relogios_presentes</td>\n",
       "      <td>43.0</td>\n",
       "      <td>381.0</td>\n",
       "      <td>4.0</td>\n",
       "      <td>350.0</td>\n",
       "      <td>20.0</td>\n",
       "      <td>20.0</td>\n",
       "      <td>20.0</td>\n",
       "      <td>SP</td>\n",
       "      <td>-7.0</td>\n",
       "      <td>17.69</td>\n",
       "    </tr>\n",
       "    <tr>\n",
       "      <th>118314</th>\n",
       "      <td>5</td>\n",
       "      <td>0</td>\n",
       "      <td>0</td>\n",
       "      <td>RJ</td>\n",
       "      <td>credit_card</td>\n",
       "      <td>3</td>\n",
       "      <td>201.34</td>\n",
       "      <td>161.0</td>\n",
       "      <td>40.34</td>\n",
       "      <td>moveis_cozinha_area_de_servico_jantar_e_jardim</td>\n",
       "      <td>38.0</td>\n",
       "      <td>245.0</td>\n",
       "      <td>1.0</td>\n",
       "      <td>4000.0</td>\n",
       "      <td>31.0</td>\n",
       "      <td>42.0</td>\n",
       "      <td>43.0</td>\n",
       "      <td>PR</td>\n",
       "      <td>-24.0</td>\n",
       "      <td>40.34</td>\n",
       "    </tr>\n",
       "  </tbody>\n",
       "</table>\n",
       "<p>118315 rows × 20 columns</p>\n",
       "</div>"
      ],
      "text/plain": [
       "        review_score  review_comment_title  ...  delay overcharge\n",
       "0                  4                     0  ...  -16.0      27.26\n",
       "1                  4                     0  ...  -16.0      27.26\n",
       "2                  5                     0  ...  -18.0      20.26\n",
       "3                  5                     0  ...  -12.0      17.05\n",
       "4                  5                     0  ...   -7.0      36.40\n",
       "...              ...                   ...  ...    ...        ...\n",
       "118310             4                     1  ...  -14.0      18.73\n",
       "118311             5                     0  ...  -15.0      37.35\n",
       "118312             5                     0  ...  -14.0      18.44\n",
       "118313             1                     0  ...   -7.0      17.69\n",
       "118314             5                     0  ...  -24.0      40.34\n",
       "\n",
       "[118315 rows x 20 columns]"
      ]
     },
     "execution_count": 118,
     "metadata": {
      "tags": []
     },
     "output_type": "execute_result"
    }
   ],
   "source": [
    "df"
   ]
  },
  {
   "cell_type": "code",
   "execution_count": 119,
   "metadata": {
    "colab": {
     "base_uri": "https://localhost:8080/",
     "height": 215
    },
    "colab_type": "code",
    "id": "j_EEVwQkbzPC",
    "outputId": "aaba5475-bb15-48f6-ea2e-5e23e6549172",
    "scrolled": true
   },
   "outputs": [
    {
     "data": {
      "text/html": [
       "<div>\n",
       "<style scoped>\n",
       "    .dataframe tbody tr th:only-of-type {\n",
       "        vertical-align: middle;\n",
       "    }\n",
       "\n",
       "    .dataframe tbody tr th {\n",
       "        vertical-align: top;\n",
       "    }\n",
       "\n",
       "    .dataframe thead th {\n",
       "        text-align: right;\n",
       "    }\n",
       "</style>\n",
       "<table border=\"1\" class=\"dataframe\">\n",
       "  <thead>\n",
       "    <tr style=\"text-align: right;\">\n",
       "      <th></th>\n",
       "      <th>review_comment_title</th>\n",
       "      <th>review_comment_message</th>\n",
       "      <th>customer_state</th>\n",
       "      <th>payment_type</th>\n",
       "      <th>payment_installments</th>\n",
       "      <th>payment_value</th>\n",
       "      <th>price</th>\n",
       "      <th>freight_value</th>\n",
       "      <th>product_category_name</th>\n",
       "      <th>product_name_lenght</th>\n",
       "      <th>product_description_lenght</th>\n",
       "      <th>product_photos_qty</th>\n",
       "      <th>product_weight_g</th>\n",
       "      <th>product_length_cm</th>\n",
       "      <th>product_height_cm</th>\n",
       "      <th>product_width_cm</th>\n",
       "      <th>seller_state</th>\n",
       "      <th>delay</th>\n",
       "      <th>overcharge</th>\n",
       "      <th>review_score</th>\n",
       "    </tr>\n",
       "  </thead>\n",
       "  <tbody>\n",
       "    <tr>\n",
       "      <th>0</th>\n",
       "      <td>0</td>\n",
       "      <td>0</td>\n",
       "      <td>SP</td>\n",
       "      <td>credit_card</td>\n",
       "      <td>8</td>\n",
       "      <td>397.26</td>\n",
       "      <td>185.0</td>\n",
       "      <td>13.63</td>\n",
       "      <td>esporte_lazer</td>\n",
       "      <td>42.0</td>\n",
       "      <td>858.0</td>\n",
       "      <td>1.0</td>\n",
       "      <td>1300.0</td>\n",
       "      <td>30.0</td>\n",
       "      <td>30.0</td>\n",
       "      <td>35.0</td>\n",
       "      <td>SP</td>\n",
       "      <td>-16.0</td>\n",
       "      <td>27.26</td>\n",
       "      <td>4</td>\n",
       "    </tr>\n",
       "    <tr>\n",
       "      <th>1</th>\n",
       "      <td>0</td>\n",
       "      <td>0</td>\n",
       "      <td>SP</td>\n",
       "      <td>credit_card</td>\n",
       "      <td>8</td>\n",
       "      <td>397.26</td>\n",
       "      <td>185.0</td>\n",
       "      <td>13.63</td>\n",
       "      <td>esporte_lazer</td>\n",
       "      <td>42.0</td>\n",
       "      <td>858.0</td>\n",
       "      <td>1.0</td>\n",
       "      <td>1300.0</td>\n",
       "      <td>30.0</td>\n",
       "      <td>30.0</td>\n",
       "      <td>35.0</td>\n",
       "      <td>SP</td>\n",
       "      <td>-16.0</td>\n",
       "      <td>27.26</td>\n",
       "      <td>4</td>\n",
       "    </tr>\n",
       "    <tr>\n",
       "      <th>2</th>\n",
       "      <td>0</td>\n",
       "      <td>0</td>\n",
       "      <td>RS</td>\n",
       "      <td>credit_card</td>\n",
       "      <td>3</td>\n",
       "      <td>205.26</td>\n",
       "      <td>185.0</td>\n",
       "      <td>20.26</td>\n",
       "      <td>esporte_lazer</td>\n",
       "      <td>42.0</td>\n",
       "      <td>858.0</td>\n",
       "      <td>1.0</td>\n",
       "      <td>1300.0</td>\n",
       "      <td>30.0</td>\n",
       "      <td>30.0</td>\n",
       "      <td>35.0</td>\n",
       "      <td>SP</td>\n",
       "      <td>-18.0</td>\n",
       "      <td>20.26</td>\n",
       "      <td>5</td>\n",
       "    </tr>\n",
       "    <tr>\n",
       "      <th>3</th>\n",
       "      <td>0</td>\n",
       "      <td>0</td>\n",
       "      <td>MG</td>\n",
       "      <td>credit_card</td>\n",
       "      <td>2</td>\n",
       "      <td>202.05</td>\n",
       "      <td>185.0</td>\n",
       "      <td>17.05</td>\n",
       "      <td>esporte_lazer</td>\n",
       "      <td>42.0</td>\n",
       "      <td>858.0</td>\n",
       "      <td>1.0</td>\n",
       "      <td>1300.0</td>\n",
       "      <td>30.0</td>\n",
       "      <td>30.0</td>\n",
       "      <td>35.0</td>\n",
       "      <td>SP</td>\n",
       "      <td>-12.0</td>\n",
       "      <td>17.05</td>\n",
       "      <td>5</td>\n",
       "    </tr>\n",
       "    <tr>\n",
       "      <th>4</th>\n",
       "      <td>0</td>\n",
       "      <td>0</td>\n",
       "      <td>MG</td>\n",
       "      <td>credit_card</td>\n",
       "      <td>1</td>\n",
       "      <td>306.40</td>\n",
       "      <td>135.0</td>\n",
       "      <td>18.20</td>\n",
       "      <td>esporte_lazer</td>\n",
       "      <td>47.0</td>\n",
       "      <td>858.0</td>\n",
       "      <td>1.0</td>\n",
       "      <td>1600.0</td>\n",
       "      <td>30.0</td>\n",
       "      <td>30.0</td>\n",
       "      <td>35.0</td>\n",
       "      <td>SP</td>\n",
       "      <td>-7.0</td>\n",
       "      <td>36.40</td>\n",
       "      <td>5</td>\n",
       "    </tr>\n",
       "  </tbody>\n",
       "</table>\n",
       "</div>"
      ],
      "text/plain": [
       "   review_comment_title  review_comment_message  ... overcharge review_score\n",
       "0                     0                       0  ...      27.26            4\n",
       "1                     0                       0  ...      27.26            4\n",
       "2                     0                       0  ...      20.26            5\n",
       "3                     0                       0  ...      17.05            5\n",
       "4                     0                       0  ...      36.40            5\n",
       "\n",
       "[5 rows x 20 columns]"
      ]
     },
     "execution_count": 119,
     "metadata": {
      "tags": []
     },
     "output_type": "execute_result"
    }
   ],
   "source": [
    "target = df.review_score\n",
    "df = df.drop('review_score', axis='columns')\n",
    "df['review_score'] = target\n",
    "df.head()"
   ]
  },
  {
   "cell_type": "markdown",
   "metadata": {
    "colab_type": "text",
    "id": "brx1hB2YbzPY"
   },
   "source": [
    "# Exploratory Data Analytics"
   ]
  },
  {
   "cell_type": "markdown",
   "metadata": {
    "colab_type": "text",
    "id": "dxkcpFq1bzPa"
   },
   "source": [
    "<a id='score'></a>\n",
    "## Score Distribution"
   ]
  },
  {
   "cell_type": "code",
   "execution_count": 120,
   "metadata": {
    "colab": {
     "base_uri": "https://localhost:8080/",
     "height": 279
    },
    "colab_type": "code",
    "id": "I3rZ4F_HbzPb",
    "outputId": "02b85bf2-b7e2-4e3a-e68d-ed3af454b500"
   },
   "outputs": [
    {
     "data": {
      "image/png": "[encoded data removed]",
      "text/plain": [
       "<Figure size 432x288 with 1 Axes>"
      ]
     },
     "metadata": {
      "needs_background": "light",
      "tags": []
     },
     "output_type": "display_data"
    }
   ],
   "source": [
    "plt.bar(df.review_score.value_counts().index, df.review_score.value_counts().values)\n",
    "plt.xlabel('rating')\n",
    "plt.ylabel('count');"
   ]
  },
  {
   "cell_type": "markdown",
   "metadata": {
    "colab_type": "text",
    "id": "3k8EDb9VbzPs"
   },
   "source": [
    "Score distribution is neither uniform nor normal. Most customers have rated their order with maximum rating while a few have lower rating. This indicates that customers tend not to rate low unless there has been a deficiency in order either with the product or the service."
   ]
  },
  {
   "cell_type": "markdown",
   "metadata": {
    "colab_type": "text",
    "id": "FobrUqnMbzPt"
   },
   "source": [
    "Based on the results and discussion of the review score in [Score Distribution](#score) and given that the business goal is to identify the deficincy factors in orders it makes sense to bin ratings into binary classes with criteria being five or less than five."
   ]
  },
  {
   "cell_type": "code",
   "execution_count": 121,
   "metadata": {
    "colab": {
     "base_uri": "https://localhost:8080/",
     "height": 279
    },
    "colab_type": "code",
    "id": "FoAbTyQabzPw",
    "outputId": "a13f54bf-bd71-487d-9eaf-ea9ac5d8e9f8",
    "scrolled": true
   },
   "outputs": [
    {
     "data": {
      "image/png": "[encoded data removed]",
      "text/plain": [
       "<Figure size 432x288 with 1 Axes>"
      ]
     },
     "metadata": {
      "needs_background": "light",
      "tags": []
     },
     "output_type": "display_data"
    }
   ],
   "source": [
    "# bin review scores to binary classes\n",
    "df.loc[df.review_score < 5, 'review_score'] = 0\n",
    "df.loc[df.review_score == 5, 'review_score'] = 1\n",
    "plt.bar(df.review_score.value_counts().index, df.review_score.value_counts().values)\n",
    "plt.xlabel('rating')\n",
    "plt.ylabel('count');"
   ]
  },
  {
   "cell_type": "markdown",
   "metadata": {
    "colab_type": "text",
    "id": "M2t6MKYUbzP3"
   },
   "source": [
    "The secondary advantage of binning in this problem is that it reduced class imbalance. Even though there is still slight class imbalance between the two, it is good enough to proceed for an initial round of descriptive modeling."
   ]
  },
  {
   "cell_type": "markdown",
   "metadata": {
    "colab_type": "text",
    "id": "dl7ewPphbzQE"
   },
   "source": [
    "<a id='delay'></a>\n",
    "## Delivery Delay"
   ]
  },
  {
   "cell_type": "code",
   "execution_count": 122,
   "metadata": {
    "colab": {
     "base_uri": "https://localhost:8080/",
     "height": 279
    },
    "colab_type": "code",
    "id": "46OIyGcFbzQF",
    "outputId": "e676442e-98b7-4264-c938-952178298c9a",
    "scrolled": true
   },
   "outputs": [
    {
     "data": {
      "image/png": "[encoded data removed]",
      "text/plain": [
       "<Figure size 432x288 with 1 Axes>"
      ]
     },
     "metadata": {
      "needs_background": "light",
      "tags": []
     },
     "output_type": "display_data"
    }
   ],
   "source": [
    "plt.hist(df.delay, bins=100)\n",
    "plt.xlabel('delay (days)')\n",
    "plt.ylabel('count');"
   ]
  },
  {
   "cell_type": "code",
   "execution_count": 123,
   "metadata": {
    "colab": {
     "base_uri": "https://localhost:8080/",
     "height": 87
    },
    "colab_type": "code",
    "id": "1duCJ8M-bzQN",
    "outputId": "c9280bef-afae-4bd0-84de-bfa10aa07ae1"
   },
   "outputs": [
    {
     "data": {
      "text/plain": [
       "review_score\n",
       "0   -10.323380\n",
       "1   -13.438406\n",
       "Name: delay, dtype: float64"
      ]
     },
     "execution_count": 123,
     "metadata": {
      "tags": []
     },
     "output_type": "execute_result"
    }
   ],
   "source": [
    "df.groupby('review_score')['delay'].mean()"
   ]
  },
  {
   "cell_type": "markdown",
   "metadata": {
    "colab_type": "text",
    "id": "zivVCh_kbzQS"
   },
   "source": [
    "Negative values for delay means that the order has been delivered to the customer sooner than the estimated delivery date."
   ]
  },
  {
   "cell_type": "code",
   "execution_count": 124,
   "metadata": {
    "colab": {
     "base_uri": "https://localhost:8080/",
     "height": 279
    },
    "colab_type": "code",
    "id": "i6URWayxbzQS",
    "outputId": "faf97ea7-8223-498d-ac82-62ebb2552dd4"
   },
   "outputs": [
    {
     "data": {
      "image/png": "[encoded data removed]",
      "text/plain": [
       "<Figure size 432x288 with 1 Axes>"
      ]
     },
     "metadata": {
      "needs_background": "light",
      "tags": []
     },
     "output_type": "display_data"
    }
   ],
   "source": [
    "for review_score in range(2):\n",
    "    plt.hist(df.loc[df['review_score']==review_score, 'delay'], bins=100, label=review_score)\n",
    "plt.legend()\n",
    "plt.xlabel('delay (days)')\n",
    "plt.ylabel('count');"
   ]
  },
  {
   "cell_type": "markdown",
   "metadata": {
    "colab_type": "text",
    "id": "nScU5k9YbzQX"
   },
   "source": [
    "It is observed that the average delay is larger for lower ratings because more delay has negative impact in customer sentiment."
   ]
  },
  {
   "cell_type": "markdown",
   "metadata": {
    "colab_type": "text",
    "id": "8r_eA80IbzQX"
   },
   "source": [
    "<a id='overcharge'></a>\n",
    "## Overcharge"
   ]
  },
  {
   "cell_type": "code",
   "execution_count": 126,
   "metadata": {
    "colab": {
     "base_uri": "https://localhost:8080/",
     "height": 282
    },
    "colab_type": "code",
    "id": "ro4dhk7wbzQY",
    "outputId": "f71a2a47-9d5a-4c5f-a829-9454a54d24c0"
   },
   "outputs": [
    {
     "data": {
      "image/png": "[encoded data removed]",
      "text/plain": [
       "<Figure size 432x288 with 1 Axes>"
      ]
     },
     "metadata": {
      "needs_background": "light",
      "tags": []
     },
     "output_type": "display_data"
    }
   ],
   "source": [
    "plt.scatter(payment_price_df.payment_value, payment_price_df.price)\n",
    "plt.xlabel('price')\n",
    "plt.ylabel('payment');"
   ]
  },
  {
   "cell_type": "markdown",
   "metadata": {
    "colab_type": "text",
    "id": "TySjwPkTbzQi"
   },
   "source": [
    "Even though there exists a high-correlation linear relationship between payment and price, they are not exactly the same in most cases. More specifically, the following histogram shows range and distribution of this difference."
   ]
  },
  {
   "cell_type": "code",
   "execution_count": 125,
   "metadata": {
    "colab": {
     "base_uri": "https://localhost:8080/",
     "height": 279
    },
    "colab_type": "code",
    "id": "Qpjk0DUNbzQj",
    "outputId": "bd70a2f1-16f3-4d9f-8553-66355ee09c12",
    "scrolled": true
   },
   "outputs": [
    {
     "data": {
      "image/png": "[encoded data removed]",
      "text/plain": [
       "<Figure size 432x288 with 1 Axes>"
      ]
     },
     "metadata": {
      "needs_background": "light",
      "tags": []
     },
     "output_type": "display_data"
    }
   ],
   "source": [
    "plt.hist(df.overcharge, bins=100);\n",
    "plt.xlabel('overcharge')\n",
    "plt.ylabel('count');"
   ]
  },
  {
   "cell_type": "markdown",
   "metadata": {
    "colab_type": "text",
    "id": "03GJR_c_bzQz"
   },
   "source": [
    "A large number of orders have small difference between price and payment; however, there are a few orders with very large differece. More specifically, the minimum and maximum values of these differences are:"
   ]
  },
  {
   "cell_type": "code",
   "execution_count": 127,
   "metadata": {
    "colab": {
     "base_uri": "https://localhost:8080/",
     "height": 52
    },
    "colab_type": "code",
    "id": "4_F0QdFVbzQ0",
    "outputId": "d9454a5c-4c6e-4081-dbba-5e67ac8bc610",
    "scrolled": true
   },
   "outputs": [
    {
     "name": "stdout",
     "output_type": "stream",
     "text": [
      "-5.170000000000016\n",
      "1794.96\n"
     ]
    }
   ],
   "source": [
    "print(payment_price_df.overcharge.min())\n",
    "print(payment_price_df.overcharge.max())"
   ]
  },
  {
   "cell_type": "markdown",
   "metadata": {
    "colab_type": "text",
    "id": "t3vBTpdObzQ8"
   },
   "source": [
    "Based on the observed difference between price and payment as well as the intuition that extra charge may cause a negative sentiment of customers about their order, the difference is included as a feature to investigate potential association between the two. "
   ]
  },
  {
   "cell_type": "code",
   "execution_count": 128,
   "metadata": {
    "colab": {
     "base_uri": "https://localhost:8080/",
     "height": 87
    },
    "colab_type": "code",
    "id": "l1zBL9kXbzQ-",
    "outputId": "f169f576-66b1-4ebf-bf78-d716a5151b8e"
   },
   "outputs": [
    {
     "data": {
      "text/plain": [
       "review_score\n",
       "0   -10.323380\n",
       "1   -13.438406\n",
       "Name: delay, dtype: float64"
      ]
     },
     "execution_count": 128,
     "metadata": {
      "tags": []
     },
     "output_type": "execute_result"
    }
   ],
   "source": [
    "df.groupby('review_score')['delay'].mean()"
   ]
  },
  {
   "cell_type": "code",
   "execution_count": 129,
   "metadata": {
    "colab": {
     "base_uri": "https://localhost:8080/",
     "height": 279
    },
    "colab_type": "code",
    "id": "Elc2F_DXbzRD",
    "outputId": "f38a4c4b-1279-4996-b758-020bf8df1239"
   },
   "outputs": [
    {
     "data": {
      "image/png": "[encoded data removed]",
      "text/plain": [
       "<Figure size 432x288 with 1 Axes>"
      ]
     },
     "metadata": {
      "needs_background": "light",
      "tags": []
     },
     "output_type": "display_data"
    }
   ],
   "source": [
    "for review_score in np.arange(2):\n",
    "    plt.hist(df.loc[df['review_score']==review_score, 'delay'], bins=100, label=review_score)\n",
    "plt.legend()\n",
    "plt.xlabel('delay (days)')\n",
    "plt.ylabel('count')\n",
    "plt.xlim(-50, 50);"
   ]
  },
  {
   "cell_type": "markdown",
   "metadata": {
    "colab_type": "text",
    "id": "38Dnx2XebzRJ"
   },
   "source": [
    "<a id='comment'></a>\n",
    "## Review Comment"
   ]
  },
  {
   "cell_type": "code",
   "execution_count": 130,
   "metadata": {
    "colab": {
     "base_uri": "https://localhost:8080/",
     "height": 279
    },
    "colab_type": "code",
    "id": "7l-wphZObzRJ",
    "outputId": "2e45cf9e-9a89-4d87-c5b0-4d544cb50ec4",
    "scrolled": true
   },
   "outputs": [
    {
     "data": {
      "image/png": "[encoded data removed]",
      "text/plain": [
       "<Figure size 432x288 with 1 Axes>"
      ]
     },
     "metadata": {
      "needs_background": "light",
      "tags": []
     },
     "output_type": "display_data"
    }
   ],
   "source": [
    "avg_message = df.groupby('review_score')['review_comment_message'].mean()\n",
    "plt.bar(avg_message.index, avg_message.values)\n",
    "plt.xlabel('rating')\n",
    "plt.ylabel('average messages');"
   ]
  },
  {
   "cell_type": "markdown",
   "metadata": {
    "colab_type": "text",
    "id": "wOauyHQebzRW"
   },
   "source": [
    "The bar chart shows that customers leave messages more for orders that they were not satisfied with. Specifically, about half of orders with bad reviews have a message associated with them."
   ]
  },
  {
   "cell_type": "code",
   "execution_count": 131,
   "metadata": {
    "colab": {
     "base_uri": "https://localhost:8080/",
     "height": 279
    },
    "colab_type": "code",
    "id": "WuMqBjU2bzRX",
    "outputId": "40181aac-6042-4d01-f140-5fe0d89c9302"
   },
   "outputs": [
    {
     "data": {
      "image/png": "[encoded data removed]",
      "text/plain": [
       "<Figure size 432x288 with 1 Axes>"
      ]
     },
     "metadata": {
      "needs_background": "light",
      "tags": []
     },
     "output_type": "display_data"
    }
   ],
   "source": [
    "avg_title = df.groupby('review_score')['review_comment_title'].mean()\n",
    "plt.bar(avg_title.index, avg_title.values)\n",
    "plt.xlabel('rating')\n",
    "plt.ylabel('average titles');"
   ]
  },
  {
   "cell_type": "markdown",
   "metadata": {
    "colab_type": "text",
    "id": "gwUe6crtbzRy"
   },
   "source": [
    "<a id='price'></a>\n",
    "## Price"
   ]
  },
  {
   "cell_type": "code",
   "execution_count": 132,
   "metadata": {
    "colab": {
     "base_uri": "https://localhost:8080/",
     "height": 279
    },
    "colab_type": "code",
    "id": "FWEH6OQpbzR0",
    "outputId": "49f9b536-e941-4f82-f0a8-705bfad1e99d"
   },
   "outputs": [
    {
     "data": {
      "image/png": "[encoded data removed]",
      "text/plain": [
       "<Figure size 432x288 with 1 Axes>"
      ]
     },
     "metadata": {
      "needs_background": "light",
      "tags": []
     },
     "output_type": "display_data"
    }
   ],
   "source": [
    "avg_price = df.groupby('review_score')['price'].mean()\n",
    "plt.bar(avg_price.index, avg_price.values)\n",
    "plt.xlabel('rating')\n",
    "plt.ylabel('average price');"
   ]
  },
  {
   "cell_type": "code",
   "execution_count": 133,
   "metadata": {
    "colab": {
     "base_uri": "https://localhost:8080/",
     "height": 279
    },
    "colab_type": "code",
    "id": "asxR6K4vbzR4",
    "outputId": "3a9a1d36-dcd4-41ec-c487-f5eaf7779528",
    "scrolled": true
   },
   "outputs": [
    {
     "data": {
      "image/png": "[encoded data removed]",
      "text/plain": [
       "<Figure size 432x288 with 1 Axes>"
      ]
     },
     "metadata": {
      "needs_background": "light",
      "tags": []
     },
     "output_type": "display_data"
    }
   ],
   "source": [
    "for review_score in np.arange(2):\n",
    "    plt.hist(df.loc[df['review_score']==review_score, 'price'], bins=100, label=review_score)\n",
    "plt.legend()\n",
    "plt.xlabel('price')\n",
    "plt.ylabel('count');"
   ]
  },
  {
   "cell_type": "markdown",
   "metadata": {
    "colab_type": "text",
    "id": "MDdw95VBbzR8"
   },
   "source": [
    "<a id='freight'></a>\n",
    "## Freight"
   ]
  },
  {
   "cell_type": "code",
   "execution_count": null,
   "metadata": {
    "colab": {},
    "colab_type": "code",
    "id": "ulaKJONFdFUt"
   },
   "outputs": [],
   "source": [
    "from google.colab import drive\n",
    "drive.mount('/content/drive')"
   ]
  },
  {
   "cell_type": "markdown",
   "metadata": {
    "colab_type": "text",
    "id": "v67iBb3obzR9"
   },
   "source": [
    "Freight value is the cost for shipping items of an order from the seller to the customer."
   ]
  },
  {
   "cell_type": "code",
   "execution_count": 135,
   "metadata": {
    "colab": {
     "base_uri": "https://localhost:8080/",
     "height": 279
    },
    "colab_type": "code",
    "id": "r-uXZeQbbzR9",
    "outputId": "79f90d9d-1058-41b1-db0f-09ded702048d"
   },
   "outputs": [
    {
     "data": {
      "image/png": "[encoded data removed]",
      "text/plain": [
       "<Figure size 432x288 with 1 Axes>"
      ]
     },
     "metadata": {
      "needs_background": "light",
      "tags": []
     },
     "output_type": "display_data"
    }
   ],
   "source": [
    "avg_freight = df.groupby('review_score')['freight_value'].mean()\n",
    "plt.bar(avg_freight.index, avg_freight.values)\n",
    "plt.xlabel('rating')\n",
    "plt.ylabel('average freight');"
   ]
  },
  {
   "cell_type": "code",
   "execution_count": 136,
   "metadata": {
    "colab": {
     "base_uri": "https://localhost:8080/",
     "height": 279
    },
    "colab_type": "code",
    "id": "tlU-sn0AbzSB",
    "outputId": "0b4cd16c-6460-4735-b104-2a8cbc675516",
    "scrolled": true
   },
   "outputs": [
    {
     "data": {
      "image/png": "[encoded data removed]",
      "text/plain": [
       "<Figure size 432x288 with 1 Axes>"
      ]
     },
     "metadata": {
      "needs_background": "light",
      "tags": []
     },
     "output_type": "display_data"
    }
   ],
   "source": [
    "for review_score in np.arange(2):\n",
    "    plt.hist(df.loc[df['review_score']==review_score, 'freight_value'], bins=100, label=review_score)\n",
    "plt.legend()\n",
    "plt.xlabel('freight')\n",
    "plt.ylabel('count');"
   ]
  },
  {
   "cell_type": "markdown",
   "metadata": {
    "colab_type": "text",
    "id": "VGlRKfHHbzSJ"
   },
   "source": [
    "For price and freight it is hard to predict from raw data wether there is a relationship between them and review score."
   ]
  },
  {
   "cell_type": "code",
   "execution_count": 137,
   "metadata": {
    "colab": {
     "base_uri": "https://localhost:8080/",
     "height": 279
    },
    "colab_type": "code",
    "id": "8B3Q_HtdbzSJ",
    "outputId": "6c619070-b7fd-42fa-caa4-d3e0b280ab4e"
   },
   "outputs": [
    {
     "data": {
      "image/png": "[encoded data removed]",
      "text/plain": [
       "<Figure size 432x288 with 1 Axes>"
      ]
     },
     "metadata": {
      "needs_background": "light",
      "tags": []
     },
     "output_type": "display_data"
    }
   ],
   "source": [
    "product_name_lenght_avg = df.groupby('review_score')['product_name_lenght'].mean()\n",
    "plt.bar(product_name_lenght_avg.index, product_name_lenght_avg.values)\n",
    "plt.xlabel('rating')\n",
    "plt.ylabel('average product name lenght');"
   ]
  },
  {
   "cell_type": "code",
   "execution_count": 138,
   "metadata": {
    "colab": {
     "base_uri": "https://localhost:8080/",
     "height": 280
    },
    "colab_type": "code",
    "id": "arUTQsZEbzSM",
    "outputId": "2959c5f9-64cd-432d-8507-08651c754d4b",
    "scrolled": true
   },
   "outputs": [
    {
     "data": {
      "image/png": "[encoded data removed]",
      "text/plain": [
       "<Figure size 432x288 with 1 Axes>"
      ]
     },
     "metadata": {
      "needs_background": "light",
      "tags": []
     },
     "output_type": "display_data"
    }
   ],
   "source": [
    "for review_score in np.arange(2):\n",
    "    plt.hist(df.loc[df['review_score']==review_score, 'product_name_lenght'], bins=100, label=review_score)\n",
    "plt.legend()\n",
    "plt.xlabel('freight')\n",
    "plt.ylabel('count');"
   ]
  },
  {
   "cell_type": "markdown",
   "metadata": {
    "colab_type": "text",
    "id": "k5Ee-CzVbzST"
   },
   "source": [
    "# Correlation Analysis"
   ]
  },
  {
   "cell_type": "code",
   "execution_count": null,
   "metadata": {
    "colab": {},
    "colab_type": "code",
    "id": "k21rLTd-bzST",
    "scrolled": true
   },
   "outputs": [],
   "source": [
    "# format dataframe for algorithmic consumption \n",
    "df = pd.get_dummies(df)\n",
    "target = df.review_score\n",
    "df = df.drop('review_score', axis='columns')\n",
    "df['review_score'] = target"
   ]
  },
  {
   "cell_type": "code",
   "execution_count": null,
   "metadata": {
    "colab": {},
    "colab_type": "code",
    "id": "DLiwszvsbzSg",
    "outputId": "da4d5f32-18fd-4238-b4a1-e532038befbc",
    "scrolled": true
   },
   "outputs": [
    {
     "data": {
      "text/html": [
       "<div>\n",
       "<style scoped>\n",
       "    .dataframe tbody tr th:only-of-type {\n",
       "        vertical-align: middle;\n",
       "    }\n",
       "\n",
       "    .dataframe tbody tr th {\n",
       "        vertical-align: top;\n",
       "    }\n",
       "\n",
       "    .dataframe thead th {\n",
       "        text-align: right;\n",
       "    }\n",
       "</style>\n",
       "<table border=\"1\" class=\"dataframe\">\n",
       "  <thead>\n",
       "    <tr style=\"text-align: right;\">\n",
       "      <th></th>\n",
       "      <th>feature</th>\n",
       "      <th>abs_corr</th>\n",
       "      <th>corr</th>\n",
       "      <th>p_value</th>\n",
       "    </tr>\n",
       "  </thead>\n",
       "  <tbody>\n",
       "    <tr>\n",
       "      <td>0</td>\n",
       "      <td>review_comment_message</td>\n",
       "      <td>0.160737</td>\n",
       "      <td>-0.160737</td>\n",
       "      <td>0.000000e+00</td>\n",
       "    </tr>\n",
       "    <tr>\n",
       "      <td>1</td>\n",
       "      <td>delay</td>\n",
       "      <td>0.153813</td>\n",
       "      <td>-0.153813</td>\n",
       "      <td>0.000000e+00</td>\n",
       "    </tr>\n",
       "    <tr>\n",
       "      <td>2</td>\n",
       "      <td>overcharge</td>\n",
       "      <td>0.091952</td>\n",
       "      <td>-0.091952</td>\n",
       "      <td>1.785200e-220</td>\n",
       "    </tr>\n",
       "    <tr>\n",
       "      <td>3</td>\n",
       "      <td>payment_value</td>\n",
       "      <td>0.049704</td>\n",
       "      <td>-0.049704</td>\n",
       "      <td>1.317843e-65</td>\n",
       "    </tr>\n",
       "    <tr>\n",
       "      <td>4</td>\n",
       "      <td>product_category_name_moveis_escritorio</td>\n",
       "      <td>0.045928</td>\n",
       "      <td>-0.045928</td>\n",
       "      <td>2.830051e-56</td>\n",
       "    </tr>\n",
       "    <tr>\n",
       "      <td>...</td>\n",
       "      <td>...</td>\n",
       "      <td>...</td>\n",
       "      <td>...</td>\n",
       "      <td>...</td>\n",
       "    </tr>\n",
       "    <tr>\n",
       "      <td>138</td>\n",
       "      <td>product_category_name_sinalizacao_e_seguranca</td>\n",
       "      <td>0.000311</td>\n",
       "      <td>-0.000311</td>\n",
       "      <td>9.147002e-01</td>\n",
       "    </tr>\n",
       "    <tr>\n",
       "      <td>139</td>\n",
       "      <td>seller_state_RO</td>\n",
       "      <td>0.000229</td>\n",
       "      <td>0.000229</td>\n",
       "      <td>9.370874e-01</td>\n",
       "    </tr>\n",
       "    <tr>\n",
       "      <td>140</td>\n",
       "      <td>product_category_name_artigos_de_festas</td>\n",
       "      <td>0.000169</td>\n",
       "      <td>0.000169</td>\n",
       "      <td>9.535951e-01</td>\n",
       "    </tr>\n",
       "    <tr>\n",
       "      <td>141</td>\n",
       "      <td>product_category_name_moveis_quarto</td>\n",
       "      <td>0.000167</td>\n",
       "      <td>0.000167</td>\n",
       "      <td>9.543074e-01</td>\n",
       "    </tr>\n",
       "    <tr>\n",
       "      <td>142</td>\n",
       "      <td>customer_state_RO</td>\n",
       "      <td>0.000151</td>\n",
       "      <td>-0.000151</td>\n",
       "      <td>9.586517e-01</td>\n",
       "    </tr>\n",
       "  </tbody>\n",
       "</table>\n",
       "<p>143 rows × 4 columns</p>\n",
       "</div>"
      ],
      "text/plain": [
       "                                           feature  abs_corr      corr  \\\n",
       "0                           review_comment_message  0.160737 -0.160737   \n",
       "1                                            delay  0.153813 -0.153813   \n",
       "2                                       overcharge  0.091952 -0.091952   \n",
       "3                                    payment_value  0.049704 -0.049704   \n",
       "4          product_category_name_moveis_escritorio  0.045928 -0.045928   \n",
       "..                                             ...       ...       ...   \n",
       "138  product_category_name_sinalizacao_e_seguranca  0.000311 -0.000311   \n",
       "139                                seller_state_RO  0.000229  0.000229   \n",
       "140        product_category_name_artigos_de_festas  0.000169  0.000169   \n",
       "141            product_category_name_moveis_quarto  0.000167  0.000167   \n",
       "142                              customer_state_RO  0.000151 -0.000151   \n",
       "\n",
       "           p_value  \n",
       "0     0.000000e+00  \n",
       "1     0.000000e+00  \n",
       "2    1.785200e-220  \n",
       "3     1.317843e-65  \n",
       "4     2.830051e-56  \n",
       "..             ...  \n",
       "138   9.147002e-01  \n",
       "139   9.370874e-01  \n",
       "140   9.535951e-01  \n",
       "141   9.543074e-01  \n",
       "142   9.586517e-01  \n",
       "\n",
       "[143 rows x 4 columns]"
      ]
     },
     "execution_count": 70,
     "metadata": {
      "tags": []
     },
     "output_type": "execute_result"
    }
   ],
   "source": [
    "# dataframe of feature correlations with target sorted by absolute value\n",
    "from scipy import stats\n",
    "corr_array=[]\n",
    "for i in range(df.shape[1]-1):  \n",
    "    corr_array.append([df.columns[i],\n",
    "                       np.abs(stats.pearsonr(df[df.columns[i]], df[df.columns[-1]])[0]),\n",
    "                       stats.pearsonr(df[df.columns[i]], df[df.columns[-1]])[0],\n",
    "                       stats.pearsonr(df[df.columns[i]], df[df.columns[-1]])[1]])\n",
    "    \n",
    "corr_df = pd.DataFrame(corr_array, columns = ['feature', 'abs_corr', 'corr', 'p_value'])\n",
    "corr_df.sort_values(by='abs_corr', ascending=False, inplace=True)\n",
    "corr_df.reset_index(drop=True, inplace=True)\n",
    "corr_df"
   ]
  },
  {
   "cell_type": "code",
   "execution_count": null,
   "metadata": {
    "colab": {},
    "colab_type": "code",
    "id": "vpRmBkcTbzSl",
    "outputId": "51630fb0-859f-4cea-c21f-b792c2c22605"
   },
   "outputs": [
    {
     "data": {
      "text/html": [
       "<div>\n",
       "<style scoped>\n",
       "    .dataframe tbody tr th:only-of-type {\n",
       "        vertical-align: middle;\n",
       "    }\n",
       "\n",
       "    .dataframe tbody tr th {\n",
       "        vertical-align: top;\n",
       "    }\n",
       "\n",
       "    .dataframe thead th {\n",
       "        text-align: right;\n",
       "    }\n",
       "</style>\n",
       "<table border=\"1\" class=\"dataframe\">\n",
       "  <thead>\n",
       "    <tr style=\"text-align: right;\">\n",
       "      <th></th>\n",
       "      <th>feature</th>\n",
       "      <th>abs_corr</th>\n",
       "      <th>corr</th>\n",
       "      <th>p_value</th>\n",
       "    </tr>\n",
       "  </thead>\n",
       "  <tbody>\n",
       "    <tr>\n",
       "      <td>67</td>\n",
       "      <td>product_category_name_portateis_casa_forno_e_cafe</td>\n",
       "      <td>0.005471</td>\n",
       "      <td>0.005471</td>\n",
       "      <td>0.059863</td>\n",
       "    </tr>\n",
       "    <tr>\n",
       "      <td>68</td>\n",
       "      <td>customer_state_SE</td>\n",
       "      <td>0.005213</td>\n",
       "      <td>-0.005213</td>\n",
       "      <td>0.072949</td>\n",
       "    </tr>\n",
       "    <tr>\n",
       "      <td>69</td>\n",
       "      <td>product_category_name_fashion_roupa_infanto_ju...</td>\n",
       "      <td>0.005204</td>\n",
       "      <td>0.005204</td>\n",
       "      <td>0.073473</td>\n",
       "    </tr>\n",
       "    <tr>\n",
       "      <td>70</td>\n",
       "      <td>product_category_name_portateis_cozinha_e_prep...</td>\n",
       "      <td>0.005165</td>\n",
       "      <td>-0.005165</td>\n",
       "      <td>0.075643</td>\n",
       "    </tr>\n",
       "    <tr>\n",
       "      <td>71</td>\n",
       "      <td>seller_state_RN</td>\n",
       "      <td>0.005157</td>\n",
       "      <td>0.005157</td>\n",
       "      <td>0.076082</td>\n",
       "    </tr>\n",
       "    <tr>\n",
       "      <td>...</td>\n",
       "      <td>...</td>\n",
       "      <td>...</td>\n",
       "      <td>...</td>\n",
       "      <td>...</td>\n",
       "    </tr>\n",
       "    <tr>\n",
       "      <td>138</td>\n",
       "      <td>product_category_name_sinalizacao_e_seguranca</td>\n",
       "      <td>0.000311</td>\n",
       "      <td>-0.000311</td>\n",
       "      <td>0.914700</td>\n",
       "    </tr>\n",
       "    <tr>\n",
       "      <td>139</td>\n",
       "      <td>seller_state_RO</td>\n",
       "      <td>0.000229</td>\n",
       "      <td>0.000229</td>\n",
       "      <td>0.937087</td>\n",
       "    </tr>\n",
       "    <tr>\n",
       "      <td>140</td>\n",
       "      <td>product_category_name_artigos_de_festas</td>\n",
       "      <td>0.000169</td>\n",
       "      <td>0.000169</td>\n",
       "      <td>0.953595</td>\n",
       "    </tr>\n",
       "    <tr>\n",
       "      <td>141</td>\n",
       "      <td>product_category_name_moveis_quarto</td>\n",
       "      <td>0.000167</td>\n",
       "      <td>0.000167</td>\n",
       "      <td>0.954307</td>\n",
       "    </tr>\n",
       "    <tr>\n",
       "      <td>142</td>\n",
       "      <td>customer_state_RO</td>\n",
       "      <td>0.000151</td>\n",
       "      <td>-0.000151</td>\n",
       "      <td>0.958652</td>\n",
       "    </tr>\n",
       "  </tbody>\n",
       "</table>\n",
       "<p>76 rows × 4 columns</p>\n",
       "</div>"
      ],
      "text/plain": [
       "                                               feature  abs_corr      corr  \\\n",
       "67   product_category_name_portateis_casa_forno_e_cafe  0.005471  0.005471   \n",
       "68                                   customer_state_SE  0.005213 -0.005213   \n",
       "69   product_category_name_fashion_roupa_infanto_ju...  0.005204  0.005204   \n",
       "70   product_category_name_portateis_cozinha_e_prep...  0.005165 -0.005165   \n",
       "71                                     seller_state_RN  0.005157  0.005157   \n",
       "..                                                 ...       ...       ...   \n",
       "138      product_category_name_sinalizacao_e_seguranca  0.000311 -0.000311   \n",
       "139                                    seller_state_RO  0.000229  0.000229   \n",
       "140            product_category_name_artigos_de_festas  0.000169  0.000169   \n",
       "141                product_category_name_moveis_quarto  0.000167  0.000167   \n",
       "142                                  customer_state_RO  0.000151 -0.000151   \n",
       "\n",
       "      p_value  \n",
       "67   0.059863  \n",
       "68   0.072949  \n",
       "69   0.073473  \n",
       "70   0.075643  \n",
       "71   0.076082  \n",
       "..        ...  \n",
       "138  0.914700  \n",
       "139  0.937087  \n",
       "140  0.953595  \n",
       "141  0.954307  \n",
       "142  0.958652  \n",
       "\n",
       "[76 rows x 4 columns]"
      ]
     },
     "execution_count": 71,
     "metadata": {
      "tags": []
     },
     "output_type": "execute_result"
    }
   ],
   "source": [
    "# statically insignificant correlations\n",
    "corr_df[corr_df['p_value']>=0.05]"
   ]
  },
  {
   "cell_type": "markdown",
   "metadata": {
    "colab_type": "text",
    "id": "2AozQ0ndbzSp"
   },
   "source": [
    "# Logistic Regression"
   ]
  },
  {
   "cell_type": "markdown",
   "metadata": {
    "colab_type": "text",
    "id": "FSbjoRtZbzSq"
   },
   "source": [
    "## Baseline model"
   ]
  },
  {
   "cell_type": "code",
   "execution_count": 72,
   "metadata": {
    "scrolled": false
   },
   "outputs": [
    {
     "name": "stdout",
     "output_type": "stream",
     "text": [
      "Warning: Maximum number of iterations has been exceeded.\n",
      "         Current function value: 0.649428\n",
      "         Iterations: 35\n"
     ]
    },
    {
     "name": "stderr",
     "output_type": "stream",
     "text": [
      "C:\\Users\\arali\\Anaconda3\\lib\\site-packages\\statsmodels\\base\\model.py:512: ConvergenceWarning: Maximum Likelihood optimization failed to converge. Check mle_retvals\n",
      "  \"Check mle_retvals\", ConvergenceWarning)\n"
     ]
    },
    {
     "data": {
      "text/html": [
       "<table class=\"simpletable\">\n",
       "<caption>Logit Regression Results</caption>\n",
       "<tr>\n",
       "  <th>Dep. Variable:</th>     <td>review_score</td>   <th>  No. Observations:  </th>  <td>118315</td> \n",
       "</tr>\n",
       "<tr>\n",
       "  <th>Model:</th>                 <td>Logit</td>      <th>  Df Residuals:      </th>  <td>118175</td> \n",
       "</tr>\n",
       "<tr>\n",
       "  <th>Method:</th>                 <td>MLE</td>       <th>  Df Model:          </th>  <td>   139</td> \n",
       "</tr>\n",
       "<tr>\n",
       "  <th>Date:</th>            <td>Fri, 03 Apr 2020</td> <th>  Pseudo R-squ.:     </th>  <td>0.05289</td>\n",
       "</tr>\n",
       "<tr>\n",
       "  <th>Time:</th>                <td>14:33:09</td>     <th>  Log-Likelihood:    </th> <td> -76837.</td>\n",
       "</tr>\n",
       "<tr>\n",
       "  <th>converged:</th>             <td>False</td>      <th>  LL-Null:           </th> <td> -81128.</td>\n",
       "</tr>\n",
       "<tr>\n",
       "  <th>Covariance Type:</th>     <td>nonrobust</td>    <th>  LLR p-value:       </th>  <td> 0.000</td> \n",
       "</tr>\n",
       "</table>"
      ],
      "text/plain": [
       "<class 'statsmodels.iolib.table.SimpleTable'>"
      ]
     },
     "metadata": {},
     "output_type": "display_data"
    },
    {
     "data": {
      "image/png": "[encoded data removed]",
      "text/plain": [
       "<Figure size 360x288 with 1 Axes>"
      ]
     },
     "metadata": {
      "needs_background": "light"
     },
     "output_type": "display_data"
    }
   ],
   "source": [
    "# seperate target from features\n",
    "X = df[df.columns[:-1]]\n",
    "y = df[df.columns[-1]]\n",
    "\n",
    "# scale data with standard scaler\n",
    "from sklearn.preprocessing import StandardScaler\n",
    "scaler = StandardScaler()\n",
    "X = pd.DataFrame(data=scaler.fit_transform(X), columns=X.columns)\n",
    "\n",
    "# fit logit function \n",
    "import statsmodels.api as sm\n",
    "X_withconstant = sm.add_constant(X)\n",
    "logit = sm.Logit(y, X_withconstant).fit()\n",
    "display(logit.summary().tables[0]) \n",
    "\n",
    "# table of significant coefficinets sorted by absolute value\n",
    "coef_table = logit.summary().tables[1]\n",
    "coef_df = pd.DataFrame(data=coef_table.data[1:], columns=coef_table.data[0])\n",
    "coef_df['coef'] = coef_df['coef'].astype(float)\n",
    "coef_df['P>|z|'] = coef_df['P>|z|'].astype(float)\n",
    "coef_df['abs_coef'] = np.abs(coef_df['coef'])\n",
    "coef_df.drop(0, axis='index', inplace=True)\n",
    "coefs_by_mag = coef_df.sort_values(by='abs_coef', ascending=False)\n",
    "coefs_by_mag = coefs_by_mag[coefs_by_mag['P>|z|'] <= 0.05]\n",
    "\n",
    "# bar chart of feature coefficients\n",
    "bar_names = coefs_by_mag['']\n",
    "bar_heights = coefs_by_mag['coef']\n",
    "bar_colors = np.where(bar_heights>0, 'blue', 'red')\n",
    "plt.figure(figsize=(5.0, 4.0))\n",
    "plt.barh(bar_names, bar_heights, color=bar_colors)\n",
    "plt.xlabel('normalized coefficient');"
   ]
  },
  {
   "cell_type": "markdown",
   "metadata": {
    "colab_type": "text",
    "id": "axjPqQ9lbzSw"
   },
   "source": [
    "Figure above shows the important factors in positive (blue) or negative (red) sentiment of a customer. Delivery delay and overcharge are the most important factors in negative sentiment because they are associated with a low quality purchase experience which is consistent with analytics in [Delivery Delay](#delay) and [Overcharge](#overcharge) sections. On the other hand, price and frieght value are the most important factors in positive sentiment because they are associated with a high quality product or service even though it was hard to guess from analytics results in [Price](#price) and [Freight](#freight) sections. \n",
    "\n",
    "Furthermore, it is notable that review message has a large negative coefficient while review title has a large positive coefficient. This indicates that customers only write messages when they have a negative sentiment; otherwise, they just leave a title.\n",
    "\n",
    "A surprising observation is that even though price, payment value, and overcharge are extremely correlated with one another, they all show up as a statistically significant factor in the results. To consider the high VIF of payment value, it has been dropped and logit function was refitted.\n",
    "\n",
    "By comparing degrees of freedom of the model from the results table with number of features in the figure it is shown that a large number of features do not have statistical significance which can be due to multicolinearity in large numbr of features. In the following sections, multicolinearity is dealt with two different approaches."
   ]
  },
  {
   "cell_type": "markdown",
   "metadata": {
    "colab_type": "text",
    "id": "uIbjiuGnbzSx"
   },
   "source": [
    "## Variance Inflation Factor"
   ]
  },
  {
   "cell_type": "code",
   "execution_count": null,
   "metadata": {
    "colab": {},
    "colab_type": "code",
    "id": "UuFqCDiTbzSy",
    "scrolled": true
   },
   "outputs": [],
   "source": [
    "# seperate target from features\n",
    "X = df[df.columns[:-1]]\n",
    "y = df[df.columns[-1]]\n",
    "\n",
    "# variance inflation factors\n",
    "from statsmodels.stats.outliers_influence import variance_inflation_factor\n",
    "VIF_series = pd.Series([variance_inflation_factor(X.values, i) for i in range(X.shape[1])], index=X.columns)\n",
    "VIF_series.sort_values(ascending=False, inplace=True)\n",
    "VIF_series.to_csv('VIF_series.csv', index=True);"
   ]
  },
  {
   "cell_type": "code",
   "execution_count": null,
   "metadata": {
    "colab": {},
    "colab_type": "code",
    "id": "__FLmnGqbzS1"
   },
   "outputs": [],
   "source": [
    "VIF_df = pd.DataFrame(VIF_series, columns=['vif'])\n",
    "VIF_df"
   ]
  },
  {
   "cell_type": "code",
   "execution_count": null,
   "metadata": {
    "colab": {},
    "colab_type": "code",
    "id": "RMKFsvqYbzS9"
   },
   "outputs": [],
   "source": [
    "# write/read computationally expensive data to/from csv\n",
    "#VIF_df.to_csv('VIF_df.csv', index=True);\n",
    "VIF_df = pd.read_csv('VIF_df.csv', index_col=0)\n",
    "VIF_df"
   ]
  },
  {
   "cell_type": "code",
   "execution_count": null,
   "metadata": {
    "colab": {},
    "colab_type": "code",
    "id": "PsE6dJfwbzTM"
   },
   "outputs": [],
   "source": [
    "# remove infinity VIF one by one \n",
    "while (VIF_series.values==float('inf')).any:\n",
    "    VIF_series = pd.Series([variance_inflation_factor(X.values, i) for i in range(X.shape[1])], index=X.columns)\n",
    "    VIF_series.sort_values(ascending=False, inplace=True)\n",
    "\n",
    "VIF_df = pd.DataFrame(VIF_series, columns=['vif'])\n",
    "VIF_df"
   ]
  },
  {
   "cell_type": "code",
   "execution_count": null,
   "metadata": {
    "colab": {},
    "colab_type": "code",
    "id": "B-ST1X_3bzTY"
   },
   "outputs": [],
   "source": [
    "# finite variance inflation factors\n",
    "VIF_df[VIF_df.vif!=float('inf')]"
   ]
  },
  {
   "cell_type": "code",
   "execution_count": null,
   "metadata": {
    "colab": {},
    "colab_type": "code",
    "id": "CLvRCAtkbzTa"
   },
   "outputs": [],
   "source": [
    "# seperate target from features\n",
    "X = df[VIF_df[VIF_df.vif!=float('inf')].index]\n",
    "y = df[df.columns[-1]]\n",
    "\n",
    "# scale data with standard scaler\n",
    "from sklearn.preprocessing import StandardScaler\n",
    "scaler = StandardScaler()\n",
    "X = pd.DataFrame(data=scaler.fit_transform(X), columns=X.columns)\n",
    "\n",
    "# fit logit function \n",
    "import statsmodels.api as sm\n",
    "X_withconstant = sm.add_constant(X)\n",
    "logit = sm.Logit(y, X_withconstant).fit()\n",
    "display(logit.summary()) \n",
    "\n",
    "# table of significant coefficinets sorted by absolute value\n",
    "coef_table = logit.summary().tables[1]\n",
    "coef_df = pd.DataFrame(data=coef_table.data[1:], columns=coef_table.data[0])\n",
    "coef_df['coef'] = coef_df['coef'].astype(float)\n",
    "coef_df['P>|z|'] = coef_df['P>|z|'].astype(float)\n",
    "coef_df['abs_coef'] = np.abs(coef_df['coef'])\n",
    "coef_df.drop(0, axis='index', inplace=True)\n",
    "coefs_by_mag = coef_df.sort_values(by='abs_coef', ascending=False)\n",
    "coefs_by_mag = coefs_by_mag[coefs_by_mag['P>|z|'] <= 0.05]\n",
    "\n",
    "# bar chart of feature coefficients\n",
    "bar_names = coefs_by_mag['']\n",
    "bar_heights = coefs_by_mag['coef']\n",
    "bar_colors = np.where(bar_heights>0, 'blue', 'red')\n",
    "plt.figure(figsize=(5.0, 4.0))\n",
    "plt.barh(bar_names, bar_heights, color=bar_colors)\n",
    "plt.xlabel('normalized coefficient')"
   ]
  },
  {
   "cell_type": "markdown",
   "metadata": {
    "colab_type": "text",
    "id": "LMM0_DjYbzTf"
   },
   "source": [
    "The number of descriptive factors has increase by one; however, the predictive performance of the model is slightly decreased."
   ]
  },
  {
   "cell_type": "code",
   "execution_count": null,
   "metadata": {
    "colab": {},
    "colab_type": "code",
    "id": "_Eti-XEAbzTg"
   },
   "outputs": [],
   "source": [
    "# seperate target from features\n",
    "X = df[VIF_df[VIF_df.vif!=float('inf')].index].drop('payment_value', axis='columns')\n",
    "y = df[df.columns[-1]]\n",
    "\n",
    "# scale data with standard scaler\n",
    "from sklearn.preprocessing import StandardScaler\n",
    "scaler = StandardScaler()\n",
    "X = pd.DataFrame(data=scaler.fit_transform(X), columns=X.columns)\n",
    "\n",
    "# fit logit function \n",
    "import statsmodels.api as sm\n",
    "X_withconstant = sm.add_constant(X)\n",
    "logit = sm.Logit(y, X_withconstant).fit()\n",
    "display(logit.summary().tables[0]) \n",
    "\n",
    "# table of significant coefficinets sorted by absolute value\n",
    "coef_table = logit.summary().tables[1]\n",
    "coef_df = pd.DataFrame(data=coef_table.data[1:], columns=coef_table.data[0])\n",
    "coef_df['coef'] = coef_df['coef'].astype(float)\n",
    "coef_df['P>|z|'] = coef_df['P>|z|'].astype(float)\n",
    "coef_df['abs_coef'] = np.abs(coef_df['coef'])\n",
    "coef_df.drop(0, axis='index', inplace=True)\n",
    "coefs_by_mag = coef_df.sort_values(by='abs_coef', ascending=False)\n",
    "coefs_by_mag = coefs_by_mag[coefs_by_mag['P>|z|'] <= 0.05]\n",
    "\n",
    "# bar chart of feature coefficients\n",
    "plt.barh(coefs_by_mag[''], coefs_by_mag['coef'], color=np.where(coefs_by_mag['coef']>0, 'blue', 'red'))\n",
    "plt.xlabel('normalized coefficient');"
   ]
  },
  {
   "cell_type": "markdown",
   "metadata": {
    "colab_type": "text",
    "id": "hLkxYi3SbzTm"
   },
   "source": [
    "Figure shows that overcharge and price become more important by removal of payment value due to removal of colinearity."
   ]
  },
  {
   "cell_type": "markdown",
   "metadata": {
    "colab_type": "text",
    "id": "ofc4nBgHbzTn"
   },
   "source": [
    "## L1 Regularization"
   ]
  },
  {
   "cell_type": "code",
   "execution_count": null,
   "metadata": {
    "colab": {},
    "colab_type": "code",
    "id": "nhrk03jIbzTo"
   },
   "outputs": [],
   "source": [
    "# seperate target from features\n",
    "X = df[df.columns[:-1]].drop('payment_value', axis='columns')\n",
    "y = df[df.columns[-1]]\n",
    "\n",
    "# scale data with standard scaler\n",
    "from sklearn.preprocessing import StandardScaler\n",
    "scaler = StandardScaler()\n",
    "X = pd.DataFrame(data=scaler.fit_transform(X), columns=X.columns)\n",
    "\n",
    "# fit regularized logit function \n",
    "import statsmodels.api as sm\n",
    "X_withconstant = sm.add_constant(X)\n",
    "logit = sm.Logit(y, X_withconstant).fit_regularized(method='l1')\n",
    "display(logit.summary().tables[0]) \n",
    "\n",
    "# table of significant coefficinets sorted by absolute value\n",
    "coef_table = logit.summary().tables[1]\n",
    "coef_df = pd.DataFrame(data=coef_table.data[1:], columns=coef_table.data[0])\n",
    "coef_df['coef'] = coef_df['coef'].astype(float)\n",
    "coef_df['P>|z|'] = coef_df['P>|z|'].astype(float)\n",
    "coef_df['abs_coef'] = np.abs(coef_df['coef'])\n",
    "coef_df.drop(0, axis='index', inplace=True)\n",
    "coefs_by_mag = coef_df.sort_values(by='abs_coef', ascending=False)\n",
    "coefs_by_mag = coefs_by_mag[coefs_by_mag['P>|z|'] <= 0.05]\n",
    "\n",
    "# bar chart of feature coefficients\n",
    "plt.barh(coefs_by_mag[''], coefs_by_mag['coef'], color=np.where(coefs_by_mag['coef']>0, 'blue', 'red'))\n",
    "plt.xlabel('normalized coefficient')"
   ]
  },
  {
   "cell_type": "markdown",
   "metadata": {
    "colab_type": "text",
    "id": "caRWGmDGbzTu"
   },
   "source": [
    "This approach can preserve the predictive performance of the baseline model and the descriptive factors are in general inline with VIF-based results; however, the number of descriptive factors is decreased back to the baseline model."
   ]
  },
  {
   "cell_type": "markdown",
   "metadata": {
    "colab_type": "text",
    "id": "WERB7af8bzTu"
   },
   "source": [
    "The features identified by l1 regularization are in general similar to ones identified by VIF; however, there are slight differences in the features involved and their order. The VIF-based model has 10 statistically significant features while l1-based model has 9. Product description length and weight exist in VIF-based model while they do not appear in l1-based model. Product height appears in l1 model while it is not statistically significant in VIF-basd model. Eventhough, the order of a few features has changed, it should be noted that the values for these features are very close to their neighbors. For this problem it is better to use VIF results becuase VIF is more tailored for descriptive problems while l1 regularization is more for predictive problems."
   ]
  },
  {
   "cell_type": "markdown",
   "metadata": {
    "colab_type": "text",
    "id": "zpr4SS_TbzTv"
   },
   "source": [
    "# Natural Language Processing "
   ]
  },
  {
   "cell_type": "code",
   "execution_count": 1,
   "metadata": {
    "colab": {
     "base_uri": "https://localhost:8080/",
     "height": 74,
     "resources": {
      "http://localhost:8080/nbextensions/google.colab/files.js": {
       "data": "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",
       "headers": [
        [
         "content-type",
         "application/javascript"
        ]
       ],
       "ok": true,
       "status": 200,
       "status_text": ""
      }
     }
    },
    "colab_type": "code",
    "id": "6_F0KMnzgkT1",
    "outputId": "34a6db1b-388a-4e44-c3fd-2973a6aabdd6"
   },
   "outputs": [
    {
     "data": {
      "text/html": [
       "\n",
       "     <input type=\"file\" id=\"files-19a7354a-612f-40ee-895c-516d42056cef\" name=\"files[]\" multiple disabled\n",
       "        style=\"border:none\" />\n",
       "     <output id=\"result-19a7354a-612f-40ee-895c-516d42056cef\">\n",
       "      Upload widget is only available when the cell has been executed in the\n",
       "      current browser session. Please rerun this cell to enable.\n",
       "      </output>\n",
       "      <script src=\"/nbextensions/google.colab/files.js\"></script> "
      ],
      "text/plain": [
       "<IPython.core.display.HTML object>"
      ]
     },
     "metadata": {
      "tags": []
     },
     "output_type": "display_data"
    },
    {
     "name": "stdout",
     "output_type": "stream",
     "text": [
      "Saving olist_order_reviews_dataset.csv to olist_order_reviews_dataset.csv\n"
     ]
    }
   ],
   "source": [
    "from google.colab import files\n",
    "uploaded = files.upload()"
   ]
  },
  {
   "cell_type": "markdown",
   "metadata": {
    "colab_type": "text",
    "id": "pFMYJ_pPbzTw"
   },
   "source": [
    "## Text Cleaning "
   ]
  },
  {
   "cell_type": "code",
   "execution_count": 5,
   "metadata": {
    "colab": {
     "base_uri": "https://localhost:8080/",
     "height": 263
    },
    "colab_type": "code",
    "id": "1yOW0beebzTx",
    "outputId": "f1b88ed0-eb75-462b-ef66-8975c3b76ba6"
   },
   "outputs": [
    {
     "name": "stdout",
     "output_type": "stream",
     "text": [
      "<class 'pandas.core.frame.DataFrame'>\n",
      "Int64Index: 9986 entries, 9 to 99975\n",
      "Data columns (total 7 columns):\n",
      " #   Column                   Non-Null Count  Dtype \n",
      "---  ------                   --------------  ----- \n",
      " 0   review_id                9986 non-null   object\n",
      " 1   order_id                 9986 non-null   object\n",
      " 2   review_score             9986 non-null   int64 \n",
      " 3   review_comment_title     9986 non-null   object\n",
      " 4   review_comment_message   9986 non-null   object\n",
      " 5   review_creation_date     9986 non-null   object\n",
      " 6   review_answer_timestamp  9986 non-null   object\n",
      "dtypes: int64(1), object(6)\n",
      "memory usage: 624.1+ KB\n"
     ]
    }
   ],
   "source": [
    "# read data and show its high-level information\n",
    "order_reviews_df = pd.read_csv('olist_order_reviews_dataset.csv')\n",
    "order_reviews_df.dropna(how = 'any', inplace = True)\n",
    "order_reviews_df.info()"
   ]
  },
  {
   "cell_type": "markdown",
   "metadata": {
    "colab_type": "text",
    "id": "sP63sK3rbzT4"
   },
   "source": [
    "The count of each word in comment messages is obtained using the count vectorizer as:"
   ]
  },
  {
   "cell_type": "code",
   "execution_count": 6,
   "metadata": {
    "colab": {
     "base_uri": "https://localhost:8080/",
     "height": 195
    },
    "colab_type": "code",
    "id": "qGZw9nMkbzT6",
    "outputId": "c775c0d4-e2fe-4cae-f73a-f70aa518292e",
    "scrolled": true
   },
   "outputs": [
    {
     "data": {
      "text/html": [
       "<div>\n",
       "<style scoped>\n",
       "    .dataframe tbody tr th:only-of-type {\n",
       "        vertical-align: middle;\n",
       "    }\n",
       "\n",
       "    .dataframe tbody tr th {\n",
       "        vertical-align: top;\n",
       "    }\n",
       "\n",
       "    .dataframe thead th {\n",
       "        text-align: right;\n",
       "    }\n",
       "</style>\n",
       "<table border=\"1\" class=\"dataframe\">\n",
       "  <thead>\n",
       "    <tr style=\"text-align: right;\">\n",
       "      <th></th>\n",
       "      <th>word</th>\n",
       "      <th>frequency</th>\n",
       "    </tr>\n",
       "  </thead>\n",
       "  <tbody>\n",
       "    <tr>\n",
       "      <th>0</th>\n",
       "      <td>produto</td>\n",
       "      <td>4573</td>\n",
       "    </tr>\n",
       "    <tr>\n",
       "      <th>1</th>\n",
       "      <td>não</td>\n",
       "      <td>2401</td>\n",
       "    </tr>\n",
       "    <tr>\n",
       "      <th>2</th>\n",
       "      <td>muito</td>\n",
       "      <td>2079</td>\n",
       "    </tr>\n",
       "    <tr>\n",
       "      <th>3</th>\n",
       "      <td>prazo</td>\n",
       "      <td>2064</td>\n",
       "    </tr>\n",
       "    <tr>\n",
       "      <th>4</th>\n",
       "      <td>que</td>\n",
       "      <td>2007</td>\n",
       "    </tr>\n",
       "  </tbody>\n",
       "</table>\n",
       "</div>"
      ],
      "text/plain": [
       "      word  frequency\n",
       "0  produto       4573\n",
       "1      não       2401\n",
       "2    muito       2079\n",
       "3    prazo       2064\n",
       "4      que       2007"
      ]
     },
     "execution_count": 6,
     "metadata": {
      "tags": []
     },
     "output_type": "execute_result"
    }
   ],
   "source": [
    "from sklearn.feature_extraction.text import CountVectorizer\n",
    "cv = CountVectorizer(stop_words = 'english')\n",
    "words = cv.fit_transform(order_reviews_df['review_comment_message']) #learn a vocabulary\n",
    "words_sum = words.sum(axis=0)\n",
    "\n",
    "\n",
    "words_freq = [(word, words_sum[0, index]) for word, index in cv.vocabulary_.items()]\n",
    "words_freq = sorted(words_freq, key = lambda x: x[1], reverse = True)\n",
    "words_frequency = pd.DataFrame(words_freq, columns=['word', 'frequency'])\n",
    "words_frequency.head()"
   ]
  },
  {
   "cell_type": "code",
   "execution_count": 7,
   "metadata": {
    "colab": {
     "base_uri": "https://localhost:8080/",
     "height": 280
    },
    "colab_type": "code",
    "id": "JzpjPF8YbzT_",
    "outputId": "2b1df829-9ddc-4452-ed8b-fe756a39e25e"
   },
   "outputs": [
    {
     "data": {
      "text/plain": [
       "<matplotlib.axes._subplots.AxesSubplot at 0x7f86ee396978>"
      ]
     },
     "execution_count": 7,
     "metadata": {
      "tags": []
     },
     "output_type": "execute_result"
    },
    {
     "data": {
      "image/png": "[encoded data removed]",
      "text/plain": [
       "<Figure size 432x288 with 1 Axes>"
      ]
     },
     "metadata": {
      "needs_background": "light",
      "tags": []
     },
     "output_type": "display_data"
    }
   ],
   "source": [
    "words_frequency[:10].plot(kind='bar')"
   ]
  },
  {
   "cell_type": "code",
   "execution_count": 8,
   "metadata": {
    "colab": {
     "base_uri": "https://localhost:8080/",
     "height": 635
    },
    "colab_type": "code",
    "id": "Ha_7L_r2bzUB",
    "outputId": "b2cf80be-c91c-4165-8472-564dd7dff31b",
    "scrolled": true
   },
   "outputs": [
    {
     "name": "stdout",
     "output_type": "stream",
     "text": [
      "[nltk_data] Downloading package stopwords to /root/nltk_data...\n",
      "[nltk_data]   Unzipping corpora/stopwords.zip.\n",
      "Collecting en_core_web_md==2.2.5\n",
      "\u001b[?25l  Downloading https://github.com/explosion/spacy-models/releases/download/en_core_web_md-2.2.5/en_core_web_md-2.2.5.tar.gz (96.4MB)\n",
      "\u001b[K     |████████████████████████████████| 96.4MB 52.9MB/s \n",
      "\u001b[?25hRequirement already satisfied: spacy>=2.2.2 in /usr/local/lib/python3.6/dist-packages (from en_core_web_md==2.2.5) (2.2.4)\n",
      "Requirement already satisfied: requests<3.0.0,>=2.13.0 in /usr/local/lib/python3.6/dist-packages (from spacy>=2.2.2->en_core_web_md==2.2.5) (2.23.0)\n",
      "Requirement already satisfied: cymem<2.1.0,>=2.0.2 in /usr/local/lib/python3.6/dist-packages (from spacy>=2.2.2->en_core_web_md==2.2.5) (2.0.3)\n",
      "Requirement already satisfied: thinc==7.4.0 in /usr/local/lib/python3.6/dist-packages (from spacy>=2.2.2->en_core_web_md==2.2.5) (7.4.0)\n",
      "Requirement already satisfied: setuptools in /usr/local/lib/python3.6/dist-packages (from spacy>=2.2.2->en_core_web_md==2.2.5) (49.1.0)\n",
      "Requirement already satisfied: catalogue<1.1.0,>=0.0.7 in /usr/local/lib/python3.6/dist-packages (from spacy>=2.2.2->en_core_web_md==2.2.5) (1.0.0)\n",
      "Requirement already satisfied: numpy>=1.15.0 in /usr/local/lib/python3.6/dist-packages (from spacy>=2.2.2->en_core_web_md==2.2.5) (1.18.5)\n",
      "Requirement already satisfied: srsly<1.1.0,>=1.0.2 in /usr/local/lib/python3.6/dist-packages (from spacy>=2.2.2->en_core_web_md==2.2.5) (1.0.2)\n",
      "Requirement already satisfied: murmurhash<1.1.0,>=0.28.0 in /usr/local/lib/python3.6/dist-packages (from spacy>=2.2.2->en_core_web_md==2.2.5) (1.0.2)\n",
      "Requirement already satisfied: preshed<3.1.0,>=3.0.2 in /usr/local/lib/python3.6/dist-packages (from spacy>=2.2.2->en_core_web_md==2.2.5) (3.0.2)\n",
      "Requirement already satisfied: plac<1.2.0,>=0.9.6 in /usr/local/lib/python3.6/dist-packages (from spacy>=2.2.2->en_core_web_md==2.2.5) (1.1.3)\n",
      "Requirement already satisfied: wasabi<1.1.0,>=0.4.0 in /usr/local/lib/python3.6/dist-packages (from spacy>=2.2.2->en_core_web_md==2.2.5) (0.7.0)\n",
      "Requirement already satisfied: tqdm<5.0.0,>=4.38.0 in /usr/local/lib/python3.6/dist-packages (from spacy>=2.2.2->en_core_web_md==2.2.5) (4.41.1)\n",
      "Requirement already satisfied: blis<0.5.0,>=0.4.0 in /usr/local/lib/python3.6/dist-packages (from spacy>=2.2.2->en_core_web_md==2.2.5) (0.4.1)\n",
      "Requirement already satisfied: certifi>=2017.4.17 in /usr/local/lib/python3.6/dist-packages (from requests<3.0.0,>=2.13.0->spacy>=2.2.2->en_core_web_md==2.2.5) (2020.6.20)\n",
      "Requirement already satisfied: chardet<4,>=3.0.2 in /usr/local/lib/python3.6/dist-packages (from requests<3.0.0,>=2.13.0->spacy>=2.2.2->en_core_web_md==2.2.5) (3.0.4)\n",
      "Requirement already satisfied: idna<3,>=2.5 in /usr/local/lib/python3.6/dist-packages (from requests<3.0.0,>=2.13.0->spacy>=2.2.2->en_core_web_md==2.2.5) (2.10)\n",
      "Requirement already satisfied: urllib3!=1.25.0,!=1.25.1,<1.26,>=1.21.1 in /usr/local/lib/python3.6/dist-packages (from requests<3.0.0,>=2.13.0->spacy>=2.2.2->en_core_web_md==2.2.5) (1.24.3)\n",
      "Requirement already satisfied: importlib-metadata>=0.20; python_version < \"3.8\" in /usr/local/lib/python3.6/dist-packages (from catalogue<1.1.0,>=0.0.7->spacy>=2.2.2->en_core_web_md==2.2.5) (1.7.0)\n",
      "Requirement already satisfied: zipp>=0.5 in /usr/local/lib/python3.6/dist-packages (from importlib-metadata>=0.20; python_version < \"3.8\"->catalogue<1.1.0,>=0.0.7->spacy>=2.2.2->en_core_web_md==2.2.5) (3.1.0)\n",
      "Building wheels for collected packages: en-core-web-md\n",
      "  Building wheel for en-core-web-md (setup.py) ... \u001b[?25l\u001b[?25hdone\n",
      "  Created wheel for en-core-web-md: filename=en_core_web_md-2.2.5-cp36-none-any.whl size=98051305 sha256=fe69b8531b53d2c60432b8af17f3b465fe461195597827a984bc71a23fc8b470\n",
      "  Stored in directory: /tmp/pip-ephem-wheel-cache-36jsvjc5/wheels/df/94/ad/f5cf59224cea6b5686ac4fd1ad19c8a07bc026e13c36502d81\n",
      "Successfully built en-core-web-md\n",
      "Installing collected packages: en-core-web-md\n",
      "Successfully installed en-core-web-md-2.2.5\n",
      "\u001b[38;5;2m✔ Download and installation successful\u001b[0m\n",
      "You can now load the model via spacy.load('en_core_web_md')\n"
     ]
    }
   ],
   "source": [
    "import spacy\n",
    "import string\n",
    "import re\n",
    "import nltk\n",
    "nltk.download('stopwords')\n",
    "from nltk.corpus import stopwords\n",
    "\n",
    "!python -m spacy download en_core_web_md\n",
    "\n",
    "stopwords = stopwords.words('english')\n",
    "punctuations = string.punctuation\n",
    "import en_core_web_sm\n",
    "nlp = en_core_web_sm.load()\n"
   ]
  },
  {
   "cell_type": "markdown",
   "metadata": {
    "colab_type": "text",
    "id": "-PTGHm9FbzUL"
   },
   "source": [
    "A function is defined to clean the text for training through steps that are commented in the code below: "
   ]
  },
  {
   "cell_type": "code",
   "execution_count": 9,
   "metadata": {
    "colab": {},
    "colab_type": "code",
    "id": "IsMf8C3obzUM"
   },
   "outputs": [],
   "source": [
    "def cleanup_text(docs, logging=False):\n",
    "    texts = []\n",
    "    counter = 1\n",
    "    \n",
    "    # remove punctuation marks   \n",
    "    table = str.maketrans({key: None for key in string.punctuation})\n",
    "\n",
    "    for doc in docs:\n",
    "        if counter % 1000 == 0 and logging:\n",
    "            print(\"Processed %d out of %d documents.\" % (counter, len(docs)))\n",
    "        counter += 1\n",
    "        doc = nlp(doc, disable=['parser', 'ner'])\n",
    "        \n",
    "        # convert to lowercase, strip whitespace, and remove personal pronouns\n",
    "        tokens = [tok.lemma_.lower().strip() for tok in doc if tok.lemma_ != '-PRON-']\n",
    "        \n",
    "        # remove stopwords\n",
    "        tokens = [tok.translate(table) for tok in tokens if tok not in stopwords ]\n",
    "        tokens = ' '.join(tokens)\n",
    "        \n",
    "        # remove whitespace\n",
    "        tokens = ' '.join(tokens.split())\n",
    "        texts.append(tokens)\n",
    "    return pd.Series(texts)"
   ]
  },
  {
   "cell_type": "code",
   "execution_count": 10,
   "metadata": {
    "colab": {
     "base_uri": "https://localhost:8080/",
     "height": 175
    },
    "colab_type": "code",
    "id": "7-Ov0a0nbzUT",
    "outputId": "53cd226b-a124-40e1-fd81-29ca3b293f7e"
   },
   "outputs": [
    {
     "name": "stdout",
     "output_type": "stream",
     "text": [
      "Processed 1000 out of 9986 documents.\n",
      "Processed 2000 out of 9986 documents.\n",
      "Processed 3000 out of 9986 documents.\n",
      "Processed 4000 out of 9986 documents.\n",
      "Processed 5000 out of 9986 documents.\n",
      "Processed 6000 out of 9986 documents.\n",
      "Processed 7000 out of 9986 documents.\n",
      "Processed 8000 out of 9986 documents.\n",
      "Processed 9000 out of 9986 documents.\n"
     ]
    }
   ],
   "source": [
    "comment_series = cleanup_text(order_reviews_df[\"review_comment_message\"], logging=True)"
   ]
  },
  {
   "cell_type": "code",
   "execution_count": 11,
   "metadata": {
    "colab": {
     "base_uri": "https://localhost:8080/",
     "height": 228
    },
    "colab_type": "code",
    "id": "aoPhVCLKbzUV",
    "outputId": "c193cebb-ee8d-4948-c5fb-4536ffbd18f9"
   },
   "outputs": [
    {
     "data": {
      "text/plain": [
       "0       aparelho eficiente site marca aparelho esta im...\n",
       "1       vendedor confiável produto ok e entrega ante p...\n",
       "2                                                 péssimo\n",
       "3                                            loja nota 10\n",
       "4       recebi exatamente que esperava demais encomend...\n",
       "                              ...                        \n",
       "9981    muito obrigado excelente atendimento baratheon...\n",
       "9982                                             aprovado\n",
       "9983    ficamos muito satisfeito com produto atende às...\n",
       "9984    bom dia das 6 unidade compradas só recebi 4 un...\n",
       "9985    foto muito diferente principalmente graninha s...\n",
       "Length: 9986, dtype: object"
      ]
     },
     "execution_count": 11,
     "metadata": {
      "tags": []
     },
     "output_type": "execute_result"
    }
   ],
   "source": [
    "comment_series"
   ]
  },
  {
   "cell_type": "code",
   "execution_count": 12,
   "metadata": {
    "colab": {},
    "colab_type": "code",
    "id": "lEPmPzzmbzUc"
   },
   "outputs": [],
   "source": [
    "y = order_reviews_df['review_score'].values"
   ]
  },
  {
   "cell_type": "code",
   "execution_count": 13,
   "metadata": {
    "colab": {},
    "colab_type": "code",
    "id": "pPAvDW50bzUe"
   },
   "outputs": [],
   "source": [
    "from sklearn.feature_extraction.text import CountVectorizer\n",
    "counter_vectorizer_model = CountVectorizer(max_features=4000, min_df=5, max_df=0.7)\n",
    "X_cv = counter_vectorizer_model.fit_transform(comment_series).toarray()"
   ]
  },
  {
   "cell_type": "code",
   "execution_count": 14,
   "metadata": {
    "colab": {
     "base_uri": "https://localhost:8080/",
     "height": 34
    },
    "colab_type": "code",
    "id": "ADKv1LDgbzUr",
    "outputId": "6ad09ae2-38c1-46ab-8ad5-15f64e61d063"
   },
   "outputs": [
    {
     "data": {
      "text/plain": [
       "(9986, 1555)"
      ]
     },
     "execution_count": 14,
     "metadata": {
      "tags": []
     },
     "output_type": "execute_result"
    }
   ],
   "source": [
    "X_cv.shape"
   ]
  },
  {
   "cell_type": "code",
   "execution_count": 15,
   "metadata": {
    "colab": {
     "base_uri": "https://localhost:8080/",
     "height": 343
    },
    "colab_type": "code",
    "id": "0yBnzJ7vbzUw",
    "outputId": "4a9b0e77-3e45-4d97-da3f-5c744c57c28d"
   },
   "outputs": [
    {
     "data": {
      "text/html": [
       "<div>\n",
       "<style scoped>\n",
       "    .dataframe tbody tr th:only-of-type {\n",
       "        vertical-align: middle;\n",
       "    }\n",
       "\n",
       "    .dataframe tbody tr th {\n",
       "        vertical-align: top;\n",
       "    }\n",
       "\n",
       "    .dataframe thead th {\n",
       "        text-align: right;\n",
       "    }\n",
       "</style>\n",
       "<table border=\"1\" class=\"dataframe\">\n",
       "  <thead>\n",
       "    <tr style=\"text-align: right;\">\n",
       "      <th></th>\n",
       "      <th>word</th>\n",
       "      <th>count</th>\n",
       "    </tr>\n",
       "  </thead>\n",
       "  <tbody>\n",
       "    <tr>\n",
       "      <th>1159</th>\n",
       "      <td>produto</td>\n",
       "      <td>4671</td>\n",
       "    </tr>\n",
       "    <tr>\n",
       "      <th>416</th>\n",
       "      <td>de</td>\n",
       "      <td>2773</td>\n",
       "    </tr>\n",
       "    <tr>\n",
       "      <th>968</th>\n",
       "      <td>não</td>\n",
       "      <td>2397</td>\n",
       "    </tr>\n",
       "    <tr>\n",
       "      <th>923</th>\n",
       "      <td>muito</td>\n",
       "      <td>2072</td>\n",
       "    </tr>\n",
       "    <tr>\n",
       "      <th>1126</th>\n",
       "      <td>prazo</td>\n",
       "      <td>2061</td>\n",
       "    </tr>\n",
       "    <tr>\n",
       "      <th>1194</th>\n",
       "      <td>que</td>\n",
       "      <td>2007</td>\n",
       "    </tr>\n",
       "    <tr>\n",
       "      <th>538</th>\n",
       "      <td>entrega</td>\n",
       "      <td>1557</td>\n",
       "    </tr>\n",
       "    <tr>\n",
       "      <th>296</th>\n",
       "      <td>com</td>\n",
       "      <td>1493</td>\n",
       "    </tr>\n",
       "    <tr>\n",
       "      <th>99</th>\n",
       "      <td>ante</td>\n",
       "      <td>1401</td>\n",
       "    </tr>\n",
       "    <tr>\n",
       "      <th>269</th>\n",
       "      <td>chegou</td>\n",
       "      <td>1352</td>\n",
       "    </tr>\n",
       "  </tbody>\n",
       "</table>\n",
       "</div>"
      ],
      "text/plain": [
       "         word  count\n",
       "1159  produto   4671\n",
       "416        de   2773\n",
       "968       não   2397\n",
       "923     muito   2072\n",
       "1126    prazo   2061\n",
       "1194      que   2007\n",
       "538   entrega   1557\n",
       "296       com   1493\n",
       "99       ante   1401\n",
       "269    chegou   1352"
      ]
     },
     "execution_count": 15,
     "metadata": {
      "tags": []
     },
     "output_type": "execute_result"
    }
   ],
   "source": [
    "word_counts = np.array(np.sum(X_cv, axis=0)).reshape((-1,))\n",
    "words = np.array(counter_vectorizer_model.get_feature_names())\n",
    "words_df = pd.DataFrame({\"word\":words, \n",
    "                         \"count\":word_counts})\n",
    "words_df.sort_values(by=\"count\", ascending=False).head(10)"
   ]
  },
  {
   "cell_type": "markdown",
   "metadata": {
    "colab_type": "text",
    "id": "3UicNqhNbzVA"
   },
   "source": [
    "## Logistic Regression"
   ]
  },
  {
   "cell_type": "code",
   "execution_count": 16,
   "metadata": {
    "colab": {
     "base_uri": "https://localhost:8080/",
     "height": 0
    },
    "colab_type": "code",
    "id": "rSMzF-dUbzVA",
    "outputId": "406f5328-040d-4f00-c600-bec8b3c10caf"
   },
   "outputs": [
    {
     "data": {
      "text/html": [
       "<table class=\"simpletable\">\n",
       "<caption>OLS Regression Results</caption>\n",
       "<tr>\n",
       "  <th>Dep. Variable:</th>            <td>y</td>        <th>  R-squared:         </th> <td>   0.701</td> \n",
       "</tr>\n",
       "<tr>\n",
       "  <th>Model:</th>                   <td>OLS</td>       <th>  Adj. R-squared:    </th> <td>   0.646</td> \n",
       "</tr>\n",
       "<tr>\n",
       "  <th>Method:</th>             <td>Least Squares</td>  <th>  F-statistic:       </th> <td>   12.71</td> \n",
       "</tr>\n",
       "<tr>\n",
       "  <th>Date:</th>             <td>Sun, 19 Jul 2020</td> <th>  Prob (F-statistic):</th>  <td>  0.00</td>  \n",
       "</tr>\n",
       "<tr>\n",
       "  <th>Time:</th>                 <td>21:29:31</td>     <th>  Log-Likelihood:    </th> <td> -12646.</td> \n",
       "</tr>\n",
       "<tr>\n",
       "  <th>No. Observations:</th>      <td>  9986</td>      <th>  AIC:               </th> <td>2.840e+04</td>\n",
       "</tr>\n",
       "<tr>\n",
       "  <th>Df Residuals:</th>          <td>  8431</td>      <th>  BIC:               </th> <td>3.961e+04</td>\n",
       "</tr>\n",
       "<tr>\n",
       "  <th>Df Model:</th>              <td>  1554</td>      <th>                     </th>     <td> </td>    \n",
       "</tr>\n",
       "<tr>\n",
       "  <th>Covariance Type:</th>      <td>nonrobust</td>    <th>                     </th>     <td> </td>    \n",
       "</tr>\n",
       "</table>"
      ],
      "text/plain": [
       "<class 'statsmodels.iolib.table.SimpleTable'>"
      ]
     },
     "metadata": {
      "tags": []
     },
     "output_type": "display_data"
    },
    {
     "data": {
      "image/png": "[encoded data removed]",
      "text/plain": [
       "<Figure size 432x288 with 1 Axes>"
      ]
     },
     "metadata": {
      "needs_background": "light",
      "tags": []
     },
     "output_type": "display_data"
    }
   ],
   "source": [
    "# scale data with standard scaler\n",
    "from sklearn.preprocessing import StandardScaler\n",
    "scaler = StandardScaler()\n",
    "X = pd.DataFrame(data=scaler.fit_transform(X_cv), columns=counter_vectorizer_model.get_feature_names())\n",
    "\n",
    "# fit OLS function \n",
    "import statsmodels.api as sm\n",
    "X_withconstant = sm.add_constant(X)\n",
    "lr = sm.OLS(y, X_withconstant).fit()\n",
    "display(lr.summary().tables[0])\n",
    "\n",
    "# table of significant coefficinets sorted by absolute value\n",
    "coef_table = lr.summary().tables[1]\n",
    "coef_df = pd.DataFrame(data=coef_table.data[1:], columns=coef_table.data[0])\n",
    "coef_df['coef'] = coef_df['coef'].astype(float)\n",
    "coef_df['P>|t|'] = coef_df['P>|t|'].astype(float)\n",
    "coef_df['abs_coef'] = np.abs(coef_df['coef'])\n",
    "coef_df.drop(0, axis='index', inplace=True)\n",
    "coefs_by_mag = coef_df.sort_values(by='abs_coef', ascending=False)\n",
    "coefs_by_mag = coefs_by_mag[coefs_by_mag['P>|t|'] <= 0.05]\n",
    "\n",
    "# bar chart of feature coefficients\n",
    "plt.barh(coefs_by_mag[''][:10], coefs_by_mag['coef'][:10], color=np.where(coefs_by_mag['coef']>0, 'blue', 'red'))\n",
    "plt.xlabel('normalized coefficient');"
   ]
  },
  {
   "cell_type": "markdown",
   "metadata": {
    "colab_type": "text",
    "id": "VoG9oIEJbzVD"
   },
   "source": [
    "The negative sentiments are associated with negative words such as not (nao) but more importantly related to delivery (recebi) and product (produto). Positive sentiments are associated with positive comments such as excelente (excellent) and bom (good), but more importantly related to speed possible of delivery (rapida) and service (prazo)."
   ]
  },
  {
   "cell_type": "code",
   "execution_count": 17,
   "metadata": {
    "colab": {
     "base_uri": "https://localhost:8080/",
     "height": 0
    },
    "colab_type": "code",
    "id": "cpnAcPx0bzVE",
    "outputId": "57c923c6-19cd-4be9-8904-d4df4500ea6c"
   },
   "outputs": [
    {
     "name": "stdout",
     "output_type": "stream",
     "text": [
      "(7988, 1555)\n",
      "(7988,)\n",
      "(1998, 1555)\n",
      "(1998,)\n"
     ]
    }
   ],
   "source": [
    "#training and testing\n",
    "X_train_cv, X_test_cv, y_train_cv, y_test_cv = train_test_split(X_cv, y, test_size = 0.2, random_state = 0)\n",
    "\n",
    "print(X_train_cv.shape)\n",
    "print(y_train_cv.shape)\n",
    "print(X_test_cv.shape)\n",
    "print(y_test_cv.shape)"
   ]
  },
  {
   "cell_type": "markdown",
   "metadata": {
    "colab_type": "text",
    "id": "_yoouQ9QbzVK"
   },
   "source": [
    "## Random Forest Model"
   ]
  },
  {
   "cell_type": "markdown",
   "metadata": {
    "colab_type": "text",
    "id": "SP2vn0x1bzVK"
   },
   "source": [
    "A random forest model is used to predict the review scores based on the review comments:"
   ]
  },
  {
   "cell_type": "code",
   "execution_count": 18,
   "metadata": {
    "colab": {
     "base_uri": "https://localhost:8080/",
     "height": 238
    },
    "colab_type": "code",
    "id": "1dfew3CZbzVL",
    "outputId": "e8d378dc-b627-46dd-cfae-9163d5b93db1"
   },
   "outputs": [
    {
     "ename": "NameError",
     "evalue": "ignored",
     "output_type": "error",
     "traceback": [
      "\u001b[0;31m---------------------------------------------------------------------------\u001b[0m",
      "\u001b[0;31mNameError\u001b[0m                                 Traceback (most recent call last)",
      "\u001b[0;32m<ipython-input-18-70032111c9bd>\u001b[0m in \u001b[0;36m<module>\u001b[0;34m()\u001b[0m\n\u001b[0;32m----> 1\u001b[0;31m \u001b[0mrandom_forest_model\u001b[0m \u001b[0;34m=\u001b[0m \u001b[0mRandomForestClassifier\u001b[0m\u001b[0;34m(\u001b[0m\u001b[0;34m)\u001b[0m\u001b[0;34m\u001b[0m\u001b[0;34m\u001b[0m\u001b[0m\n\u001b[0m\u001b[1;32m      2\u001b[0m \u001b[0mrandom_forest_model\u001b[0m\u001b[0;34m.\u001b[0m\u001b[0mfit\u001b[0m\u001b[0;34m(\u001b[0m\u001b[0mX_train_cv\u001b[0m\u001b[0;34m,\u001b[0m \u001b[0my_train_cv\u001b[0m\u001b[0;34m)\u001b[0m\u001b[0;34m\u001b[0m\u001b[0;34m\u001b[0m\u001b[0m\n\u001b[1;32m      3\u001b[0m \u001b[0;34m\u001b[0m\u001b[0m\n\u001b[1;32m      4\u001b[0m \u001b[0my_pred_cv\u001b[0m \u001b[0;34m=\u001b[0m \u001b[0mrandom_forest_model\u001b[0m\u001b[0;34m.\u001b[0m\u001b[0mpredict\u001b[0m\u001b[0;34m(\u001b[0m\u001b[0mX_test_cv\u001b[0m\u001b[0;34m)\u001b[0m\u001b[0;34m\u001b[0m\u001b[0;34m\u001b[0m\u001b[0m\n\u001b[1;32m      5\u001b[0m \u001b[0;34m\u001b[0m\u001b[0m\n",
      "\u001b[0;31mNameError\u001b[0m: name 'RandomForestClassifier' is not defined"
     ]
    }
   ],
   "source": [
    "random_forest_model = RandomForestClassifier()\n",
    "random_forest_model.fit(X_train_cv, y_train_cv)\n",
    "\n",
    "y_pred_cv = random_forest_model.predict(X_test_cv)\n",
    "\n",
    "print(\"Training Accuracy using Counter Vectorizer :\", random_forest_model.score(X_train_cv, y_train_cv))\n",
    "print(\"Testing Accuracy using Counter Vectorizer:\", random_forest_model.score(X_test_cv, y_test_cv))\n",
    "\n",
    "conf_matrix = confusion_matrix(y_test_cv, y_pred_cv)\n",
    "print(conf_matrix)"
   ]
  },
  {
   "cell_type": "markdown",
   "metadata": {
    "colab_type": "text",
    "id": "1q-0fmQFbzVO"
   },
   "source": [
    "We set the max_features parameter to 4000, which means that we want to use 4000 most occurring words (half of the whole datapoints) as features for training our classifier.  Because the words that have a very low frequency of occurrence are not a good parameter for classifying documents. min_df is corresponding to the minumum number of documents that should contain this feature and max_df means that we should include only those words that occur in a maximum of 70% of all the documents.  "
   ]
  },
  {
   "cell_type": "markdown",
   "metadata": {
    "colab_type": "text",
    "id": "p9Scf9WTbzVP"
   },
   "source": [
    "TF-IDF method is employed to count term frequency while giving more weight to special terms that appear that does not appear in many documents."
   ]
  },
  {
   "cell_type": "code",
   "execution_count": null,
   "metadata": {
    "colab": {},
    "colab_type": "code",
    "id": "oFitUwv-bzVP"
   },
   "outputs": [],
   "source": [
    "from sklearn.feature_extraction.text import TfidfTransformer\n",
    "tfidfconverter = TfidfTransformer()\n",
    "X_tfidf = tfidfconverter.fit_transform(X_cv).toarray()"
   ]
  },
  {
   "cell_type": "code",
   "execution_count": null,
   "metadata": {
    "colab": {},
    "colab_type": "code",
    "id": "qQHUIy57bzVY"
   },
   "outputs": [],
   "source": [
    "#training and testing\n",
    "X_train_tfidf, X_test_tfidf, y_train_tfidf, y_test_tfidf = train_test_split(X_tfidf, y, test_size = 0.2, random_state = 0)\n",
    "\n",
    "print(X_train_tfidf.shape)\n",
    "print(y_train_tfidf.shape)\n",
    "print(X_test_tfidf.shape)\n",
    "print(y_test_tfidf.shape)"
   ]
  },
  {
   "cell_type": "code",
   "execution_count": null,
   "metadata": {
    "colab": {},
    "colab_type": "code",
    "id": "nVYBh8lMbzVc"
   },
   "outputs": [],
   "source": [
    "random_forest_model = RandomForestClassifier()\n",
    "random_forest_model.fit(X_train_tfidf, y_train_tfidf)\n",
    "\n",
    "y_pred_tfidf = random_forest_model.predict(X_test_tfidf)\n",
    "\n",
    "print(\"Training Accuracy using TFIDF :\", random_forest_model.score(X_train_tfidf, y_train_tfidf))\n",
    "print(\"Testing Accuracy using TFIDF:\", random_forest_model.score(X_test_tfidf, y_test_tfidf))\n",
    "\n",
    "conf_matrix = confusion_matrix(y_test_tfidf, y_pred_tfidf)\n",
    "print(conf_matrix)\n"
   ]
  },
  {
   "cell_type": "markdown",
   "metadata": {
    "colab_type": "text",
    "id": "0rbyHpaJbzVf"
   },
   "source": [
    "To enhance the accuracy, the problem is modefied from a 5-class to a binary classification problem by combining reviews with score less than 3 to class 0 and others to class 1."
   ]
  },
  {
   "cell_type": "code",
   "execution_count": null,
   "metadata": {
    "colab": {},
    "colab_type": "code",
    "id": "idEBhtMobzVg"
   },
   "outputs": [],
   "source": [
    "order_reviews_df['rating_binary'] = np.where(order_reviews_df['review_score'] >= 3, 1, 0)"
   ]
  },
  {
   "cell_type": "code",
   "execution_count": null,
   "metadata": {
    "colab": {},
    "colab_type": "code",
    "id": "lAZMLjtVbzVj"
   },
   "outputs": [],
   "source": [
    "y_binary = order_reviews_df['rating_binary']"
   ]
  },
  {
   "cell_type": "code",
   "execution_count": null,
   "metadata": {
    "colab": {},
    "colab_type": "code",
    "id": "o1YExWU8bzVm"
   },
   "outputs": [],
   "source": [
    "#training and testing\n",
    "X_train_cv, X_test_cv, y_train_cv, y_test_cv = train_test_split(X_cv, y_binary, test_size = 0.2, random_state = 0)\n",
    "\n",
    "print(X_train_cv.shape)\n",
    "print(y_train_cv.shape)\n",
    "print(X_test_cv.shape)\n",
    "print(y_test_cv.shape)"
   ]
  },
  {
   "cell_type": "code",
   "execution_count": null,
   "metadata": {
    "colab": {},
    "colab_type": "code",
    "id": "R8mIK8x2bzVr"
   },
   "outputs": [],
   "source": [
    "random_forest_model = RandomForestClassifier()\n",
    "random_forest_model.fit(X_train_cv, y_train_cv)\n",
    "\n",
    "y_pred_cv = random_forest_model.predict(X_test_cv)\n",
    "\n",
    "print(\"Training Accuracy using Counter Vectorizer :\", random_forest_model.score(X_train_cv, y_train_cv))\n",
    "print(\"Testing Accuracy using Counter Vectorizer:\", random_forest_model.score(X_test_cv, y_test_cv))"
   ]
  },
  {
   "cell_type": "markdown",
   "metadata": {
    "colab_type": "text",
    "id": "N3UmiBlxbzVz"
   },
   "source": [
    "The accuracis are improved significantly by this redefinition of the problem. The model is able use review comments to predict wether the user sentiment is good or bad with test accuracy of 89%!"
   ]
  },
  {
   "cell_type": "code",
   "execution_count": null,
   "metadata": {
    "colab": {},
    "colab_type": "code",
    "id": "VPpi5WZ4bzV0"
   },
   "outputs": [],
   "source": [
    "conf_matrix = confusion_matrix(y_test_cv, y_pred_cv)\n",
    "print(conf_matrix)"
   ]
  },
  {
   "cell_type": "code",
   "execution_count": null,
   "metadata": {
    "colab": {},
    "colab_type": "code",
    "id": "27qq3e_4bzV3"
   },
   "outputs": [],
   "source": [
    "plt.figure(figsize = (10, 10));\n",
    "ax = sns.heatmap(conf_matrix, annot = True, fmt = '.2f', linewidths = 1, square = True, cmap = 'RdPu');\n",
    "plt.xlabel('Predicted Value');\n",
    "plt.ylabel('Actual Value');\n",
    "plt.title(f\"Accuracy score on testing data: {random_forest_model.score(X_test_cv, y_test_cv) : 0.3}\", size = 15)\n",
    "bottom, top = ax.get_ylim();\n",
    "ax.set_ylim(bottom + 0.5, top - 0.5);"
   ]
  },
  {
   "cell_type": "code",
   "execution_count": null,
   "metadata": {
    "colab": {},
    "colab_type": "code",
    "id": "qb_ZE4iSbzWB"
   },
   "outputs": [],
   "source": [
    "#training and testing\n",
    "X_train_tfidf, X_test_tfidf, y_train_tfidf, y_test_tfidf = train_test_split(X_tfidf, y_binary, test_size = 0.2, random_state = 0)\n",
    "\n",
    "print(X_train_tfidf.shape)\n",
    "print(y_train_tfidf.shape)\n",
    "print(X_test_tfidf.shape)\n",
    "print(y_test_tfidf.shape)"
   ]
  },
  {
   "cell_type": "code",
   "execution_count": null,
   "metadata": {
    "colab": {},
    "colab_type": "code",
    "id": "nwb9FXY6bzWF"
   },
   "outputs": [],
   "source": [
    "random_forest_model = RandomForestClassifier()\n",
    "random_forest_model.fit(X_train_tfidf, y_train_tfidf)\n",
    "\n",
    "y_pred_tfidf = random_forest_model.predict(X_test_tfidf)\n",
    "\n",
    "print(\"Training Accuracy using TFIDF :\", random_forest_model.score(X_train_tfidf, y_train_tfidf))\n",
    "print(\"Testing Accuracy using TFIDF :\", random_forest_model.score(X_test_tfidf, y_test_tfidf))"
   ]
  },
  {
   "cell_type": "code",
   "execution_count": null,
   "metadata": {
    "colab": {},
    "colab_type": "code",
    "id": "URAmR6_obzWI"
   },
   "outputs": [],
   "source": [
    "conf_matrix = confusion_matrix(y_test_tfidf, y_pred_tfidf)\n",
    "print(conf_matrix)"
   ]
  },
  {
   "cell_type": "code",
   "execution_count": null,
   "metadata": {
    "colab": {},
    "colab_type": "code",
    "id": "5CfpSdDvbzWL"
   },
   "outputs": [],
   "source": [
    "plt.figure(figsize = (10, 10));\n",
    "ax = sns.heatmap(conf_matrix, annot = True, fmt = '.2f', linewidths = 1, square = True, cmap = 'RdPu');\n",
    "plt.xlabel('Predicted Value');\n",
    "plt.ylabel('Actual Value');\n",
    "plt.title(f\"Accuracy score on testing data: {random_forest_model.score(X_test_tfidf, y_test_tfidf) : 0.3}\", size = 15)\n",
    "bottom, top = ax.get_ylim();\n",
    "ax.set_ylim(bottom + 0.5, top - 0.5);"
   ]
  },
  {
   "cell_type": "markdown",
   "metadata": {
    "colab_type": "text",
    "id": "sqfkiPtBbzWO"
   },
   "source": [
    "## XGBoost Model"
   ]
  },
  {
   "cell_type": "code",
   "execution_count": null,
   "metadata": {
    "colab": {},
    "colab_type": "code",
    "id": "REIZoJ_9bzWO"
   },
   "outputs": [],
   "source": [
    "xgb = XGBClassifier()\n",
    "xgb.fit(X_train_cv, y_train_cv)"
   ]
  },
  {
   "cell_type": "code",
   "execution_count": null,
   "metadata": {
    "colab": {},
    "colab_type": "code",
    "id": "td-LPirIbzWR",
    "scrolled": true
   },
   "outputs": [],
   "source": [
    "print(xgb.score(X_train_cv, y_train_cv))\n",
    "print(xgb.score(X_test_cv, y_test_cv))"
   ]
  },
  {
   "cell_type": "markdown",
   "metadata": {
    "colab_type": "text",
    "id": "1yEnoHqCbzWU"
   },
   "source": [
    "The test accuracy for the out-of-the-box xgboost is slightly better than that of random forest."
   ]
  },
  {
   "cell_type": "markdown",
   "metadata": {
    "colab_type": "text",
    "id": "kB3NXO_kbzWV"
   },
   "source": [
    "## Multilayer Perceptron"
   ]
  },
  {
   "cell_type": "markdown",
   "metadata": {
    "colab_type": "text",
    "id": "sHFXW51-bzWW"
   },
   "source": [
    "Deep learning is employed to enhance the prediction accuracy. The simplest model is used as the first step to evaluate achievable improvements through deep learning. This model consists of a simple multi-layer perceptron with one hidden layer as:"
   ]
  },
  {
   "cell_type": "code",
   "execution_count": null,
   "metadata": {
    "colab": {},
    "colab_type": "code",
    "id": "09IUg8l0bzWW"
   },
   "outputs": [],
   "source": [
    "from sklearn.neural_network import MLPClassifier\n",
    "mlpc = MLPClassifier(hidden_layer_sizes=(1))\n",
    "mlpc.fit(X_train_cv, y_train_cv)\n",
    "print(mlpc.score(X_train_cv, y_train_cv))\n",
    "print(mlpc.score(X_test_cv, y_test_cv))"
   ]
  },
  {
   "cell_type": "markdown",
   "metadata": {
    "colab_type": "text",
    "id": "dkh_xbzMbzWf"
   },
   "source": [
    "The accuracy of this model makes sense. The model performs better than baseline logistic regression, but its performance is not as good as the logistic regression with hyperparameter optimization. To evaluate improvements in accuracies with addition of hidden layers, a model with three layers is built as:"
   ]
  },
  {
   "cell_type": "code",
   "execution_count": null,
   "metadata": {
    "colab": {},
    "colab_type": "code",
    "id": "g_vYzZvobzWg",
    "scrolled": true
   },
   "outputs": [],
   "source": [
    "from sklearn.neural_network import MLPClassifier\n",
    "mlpc = MLPClassifier(hidden_layer_sizes=(5, 10, 5))\n",
    "mlpc.fit(X_train_cv, y_train_cv)\n",
    "print(mlpc.score(X_train_cv, y_train_cv))\n",
    "print(mlpc.score(X_test_cv, y_test_cv))"
   ]
  },
  {
   "cell_type": "markdown",
   "metadata": {
    "colab_type": "text",
    "id": "a7JaUj5VbzWm"
   },
   "source": [
    "To achieve an optimal model, the multi-layer perceptron is optimized in a three fold cross validated grid search with optimization parameters selected as:"
   ]
  },
  {
   "cell_type": "code",
   "execution_count": null,
   "metadata": {
    "colab": {},
    "colab_type": "code",
    "id": "EuDTctn_bzWn"
   },
   "outputs": [],
   "source": [
    "from sklearn.model_selection import GridSearchCV\n",
    "\n",
    "params = {'hidden_layer_sizes': [(5, 10, 5),\n",
    "                                 (50, 100, 50),\n",
    "                                 (5, 10, 10, 10, 5),\n",
    "                                 (50, 100, 100, 100, 50), \n",
    "                                 (5, 10, 10, 10, 10, 10, 5),\n",
    "                                 (10, 25, 25, 25, 25, 25, 10)],\n",
    "          'solver': ['lbfgs', 'sgd', 'adam'],\n",
    "          'activation': ['tanh', 'relu'],\n",
    "          'alpha': [0.0001, 0.01, 1, 100, 1000],\n",
    "          'learning_rate_init': [0.00001, 0.001, 0.1, 10],\n",
    "          'learning_rate': ['adaptive', 'invscaling'],\n",
    "          'momentum': [0.3, 0.6, 0.9]\n",
    "         }\n",
    "\n",
    "gsmlpc = GridSearchCV(MLPClassifier(), params, cv=3, n_jobs=-1, verbose=1)\n",
    "gsmlpc_results = gridsearch.fit(X, y)"
   ]
  },
  {
   "cell_type": "markdown",
   "metadata": {
    "colab_type": "text",
    "id": "8_ZPDhftbzWp"
   },
   "source": [
    "The best score achieved by grid search is significantly higher than the initial models used for evaluation. Furthermore, the best parameters found through grid search show that the best performance is achieved at an intermediat level for most of the hyperparameters which is consistent with basic hyperparameter optimization concept."
   ]
  },
  {
   "cell_type": "code",
   "execution_count": null,
   "metadata": {
    "colab": {},
    "colab_type": "code",
    "id": "wG3PU1k3bzWp"
   },
   "outputs": [],
   "source": [
    "gsmlpc_results.best_score_"
   ]
  },
  {
   "cell_type": "code",
   "execution_count": null,
   "metadata": {
    "colab": {},
    "colab_type": "code",
    "id": "dUqr59FtbzW2",
    "scrolled": true
   },
   "outputs": [],
   "source": [
    "gsmlpc_results.best_params_"
   ]
  },
  {
   "cell_type": "markdown",
   "metadata": {
    "colab_type": "text",
    "id": "ripquTAVbzW5"
   },
   "source": [
    "A model is built based on the best parameters to evaluate the perfromance on the train and test sets that were chosen to represent the real world scenario"
   ]
  },
  {
   "cell_type": "code",
   "execution_count": null,
   "metadata": {
    "colab": {},
    "colab_type": "code",
    "id": "Fa9vk2YwbzW6"
   },
   "outputs": [],
   "source": [
    "omlpc = MLPClassifier(hidden_layer_sizes=gsmlpc_results.best_params_['hidden_layer_sizes'],\n",
    "                      activation=gsmlpc_results.best_params_['activation'], \n",
    "                      alpha=gsmlpc_results.best_params_['alpha'],\n",
    "                      learning_rate=gsmlpc_results.best_params_['learning_rate'],\n",
    "                      learning_rate_init=gsmlpc_results.best_params_['learning_rate_init'],\n",
    "                      momentum=gsmlpc_results.best_params_['momentum'],\n",
    "                      solver=gsmlpc_results.best_params_['solver'])\n",
    "omlpc.fit(X_train, y_train)\n",
    "print(omlpc.score(X_train, y_train))\n",
    "print(omlpc.score(X_test, y_test))"
   ]
  },
  {
   "cell_type": "markdown",
   "metadata": {
    "colab_type": "text",
    "id": "ft1ziU7ybzW-"
   },
   "source": [
    "The train accuracy is larger than the best score while the test accuracy is less verifying that the values are correct. Furthermore, the accuracies are slightly better than the baseline linear model which confirms performance improvement through deep learning."
   ]
  },
  {
   "cell_type": "markdown",
   "metadata": {
    "colab_type": "text",
    "id": "30K2t6bhbzW-"
   },
   "source": [
    "The accuracies for both train and test sets have improved with about two percent. "
   ]
  },
  {
   "cell_type": "markdown",
   "metadata": {
    "colab_type": "text",
    "id": "vcJAyBuKbzW_"
   },
   "source": [
    "## Feed-Forward Neural Network"
   ]
  },
  {
   "cell_type": "code",
   "execution_count": null,
   "metadata": {
    "colab": {},
    "colab_type": "code",
    "id": "rjyAu4BHbzW_"
   },
   "outputs": [],
   "source": [
    "# recurrent neural network\n",
    "from tensorflow.keras.layers import Dense, Dropout, BatchNormalization\n",
    "from tensorflow.keras.optimizers import SGD\n",
    "from tensorflow.keras.utils import plot_model\n",
    "from tensorflow.keras.models import model_from_json\n",
    "from tensorflow.keras.models import Sequential"
   ]
  },
  {
   "cell_type": "code",
   "execution_count": null,
   "metadata": {
    "colab": {},
    "colab_type": "code",
    "id": "YFFtC44TbzXC"
   },
   "outputs": [],
   "source": [
    "FNN_model = Sequential()\n",
    "\n",
    "FNN_model.add(Dense(1024, activation='relu', input_shape=(X_cv.shape[1:])))\n",
    "FNN_model.add(Dropout(0.2))\n",
    "FNN_model.add(BatchNormalization())\n",
    "\n",
    "FNN_model.add(Dense(612, activation='relu'))\n",
    "FNN_model.add(Dropout(0.2))\n",
    "FNN_model.add(BatchNormalization())\n",
    "\n",
    "FNN_model.add(Dense(32, activation='relu'))\n",
    "FNN_model.add(Dropout(0.1))\n",
    "\n",
    "FNN_model.add(Dense(6, activation='softmax'))\n",
    "\n",
    "\n",
    "# Compile model\n",
    "FNN_model.compile(loss='sparse_categorical_crossentropy',\n",
    "                  optimizer='Adam',\n",
    "                  metrics=['accuracy'])\n",
    "\n",
    "# Save an image of its architecture to file\n",
    "plot_model(FNN_model, to_file='FNN_model.png', show_shapes=True, show_layer_names=True)"
   ]
  },
  {
   "cell_type": "code",
   "execution_count": null,
   "metadata": {
    "colab": {},
    "colab_type": "code",
    "id": "O8yXP4cnbzXE"
   },
   "outputs": [],
   "source": [
    "FNN_model.fit(X_cv, y, batch_size=480, epochs=40, verbose=1, validation_data = (X_cv, y))"
   ]
  },
  {
   "cell_type": "code",
   "execution_count": null,
   "metadata": {
    "colab": {},
    "colab_type": "code",
    "id": "c5u5s6XqbzXH"
   },
   "outputs": [],
   "source": [
    "loss_score, accuracy_score = FNN_model.evaluate(X_cv, y, batch_size=480, verbose=1)\n",
    "print(\"Accuracy score: \"+str(round(accuracy_score*100,2))+\"%\")"
   ]
  },
  {
   "cell_type": "markdown",
   "metadata": {
    "colab_type": "text",
    "id": "P1MWgPfNbzXK"
   },
   "source": [
    "The neural network achieves incredible accuracy of 96% highlighting the effectiveness of deep learning in the world of data."
   ]
  },
  {
   "cell_type": "markdown",
   "metadata": {
    "colab_type": "text",
    "id": "mk3aeBFjbzXM"
   },
   "source": [
    "## Recurrent Neural Network"
   ]
  },
  {
   "cell_type": "markdown",
   "metadata": {
    "colab_type": "text",
    "id": "YGHnz4RPbzXN"
   },
   "source": [
    "The data in this problem is review comments which is text data. Text data is a common type of ordered dependent data. This order may be utilized to enhance prediction accuracies. More specifically, it is possible for each neoron in neural network learn not only from each word but also from the words prior to it as they carry information in text data like review comments while they have no further info to add in generic dataset where data points are independent (e.g., outcome of coin flips)."
   ]
  },
  {
   "cell_type": "code",
   "execution_count": 19,
   "metadata": {
    "colab": {},
    "colab_type": "code",
    "id": "qXBLmpL8JRJ_"
   },
   "outputs": [],
   "source": [
    "# recurrent neural network\n",
    "from tensorflow.keras.layers import Dense, Dropout, BatchNormalization, LSTM, Embedding\n",
    "from tensorflow.keras.optimizers import SGD\n",
    "from tensorflow.keras.utils import plot_model\n",
    "from tensorflow.keras.models import model_from_json\n",
    "from tensorflow.keras.models import Sequential"
   ]
  },
  {
   "cell_type": "code",
   "execution_count": 20,
   "metadata": {
    "colab": {
     "base_uri": "https://localhost:8080/",
     "height": 72
    },
    "colab_type": "code",
    "id": "zP2lRPJRJRKU",
    "outputId": "b24c09fa-b122-405f-a4e3-a2b4b8f5ffbb"
   },
   "outputs": [
    {
     "name": "stdout",
     "output_type": "stream",
     "text": [
      "WARNING:tensorflow:Layer lstm will not use cuDNN kernel since it doesn't meet the cuDNN kernel criteria. It will use generic GPU kernel as fallback when running on GPU\n",
      "WARNING:tensorflow:Layer lstm_1 will not use cuDNN kernel since it doesn't meet the cuDNN kernel criteria. It will use generic GPU kernel as fallback when running on GPU\n"
     ]
    }
   ],
   "source": [
    "n_class = 5\n",
    "\n",
    "rnn = Sequential()\n",
    "\n",
    "rnn.add(LSTM(1024, activation='relu', return_sequences=True))\n",
    "rnn.add(Dropout(0.2))\n",
    "rnn.add(BatchNormalization())\n",
    "\n",
    "rnn.add(LSTM(612, activation='relu'))\n",
    "rnn.add(Dropout(0.2))\n",
    "rnn.add(BatchNormalization())\n",
    "\n",
    "rnn.add(Dense(32, activation='relu'))\n",
    "rnn.add(Dropout(0.1))\n",
    "\n",
    "rnn.add(Dense(n_class, activation='softmax'))"
   ]
  },
  {
   "cell_type": "code",
   "execution_count": 22,
   "metadata": {
    "colab": {},
    "colab_type": "code",
    "id": "d7FOUsm0JRKX"
   },
   "outputs": [],
   "source": [
    "rnn.compile(loss='sparse_categorical_crossentropy', \n",
    "            optimizer=SGD(lr=0.01, decay=0.0, clipnorm=2.0),\n",
    "            metrics=['accuracy'])"
   ]
  },
  {
   "cell_type": "code",
   "execution_count": 23,
   "metadata": {
    "colab": {},
    "colab_type": "code",
    "id": "0askQ9jkJRKc"
   },
   "outputs": [],
   "source": [
    "# reshape data to 3D for RNN consumption\n",
    "X_cv_3d = X_cv.reshape((X_cv.shape[0], X_cv.shape[1], 1))"
   ]
  },
  {
   "cell_type": "code",
   "execution_count": 24,
   "metadata": {
    "colab": {
     "base_uri": "https://localhost:8080/",
     "height": 34
    },
    "colab_type": "code",
    "id": "TSJHvNMsrxy8",
    "outputId": "5bd65336-8547-4f17-98f9-3be1c4259f7f"
   },
   "outputs": [
    {
     "data": {
      "text/plain": [
       "(9986, 1555, 1)"
      ]
     },
     "execution_count": 24,
     "metadata": {
      "tags": []
     },
     "output_type": "execute_result"
    }
   ],
   "source": [
    "X_cv_3d.shape"
   ]
  },
  {
   "cell_type": "code",
   "execution_count": 25,
   "metadata": {
    "colab": {
     "base_uri": "https://localhost:8080/",
     "height": 122
    },
    "colab_type": "code",
    "id": "JvpFEuDAe3T-",
    "outputId": "c758e7c5-7e14-40b4-8e7a-def470e9bd64"
   },
   "outputs": [
    {
     "name": "stdout",
     "output_type": "stream",
     "text": [
      "X^T: [[0 0 0 ... 0 0 0]]\n",
      "y: 4\n",
      "*******\n",
      "X^T: [[0 0 0 ... 0 0 0]]\n",
      "y: 5\n",
      "*******\n"
     ]
    }
   ],
   "source": [
    "for i in range(2):\n",
    "    print('X^T:', np.transpose(X_cv_3d[i]))\n",
    "    print('y:', y[i])\n",
    "    print(\"*******\")"
   ]
  },
  {
   "cell_type": "code",
   "execution_count": 26,
   "metadata": {
    "colab": {},
    "colab_type": "code",
    "id": "muTrkwUaMj-9"
   },
   "outputs": [],
   "source": [
    "X_cv_3d = X_cv_3d.astype(float)\n",
    "y = y.astype(float)"
   ]
  },
  {
   "cell_type": "code",
   "execution_count": 27,
   "metadata": {
    "colab": {},
    "colab_type": "code",
    "id": "YS-uazteTcgz"
   },
   "outputs": [],
   "source": [
    "    EPOCHS = 40       # NNs operate in epochs, meaning this is how many times the neural network will go through \n",
    "                      # the entire data\n",
    "    BATCH_SIZE = 480   # at each epoch, it will split the data into units of 48 samples, and train on those\n",
    "\n",
    "    n=50\n",
    "#    rnn.fit(X_cv_3d, y, batch_size=BATCH_SIZE, epochs=EPOCHS, validation_data=(X_cv, y))"
   ]
  },
  {
   "cell_type": "code",
   "execution_count": 28,
   "metadata": {
    "colab": {},
    "colab_type": "code",
    "id": "laPzCSPvuPOV"
   },
   "outputs": [],
   "source": [
    "import re\n",
    "all_words = []\n",
    "dataset = []\n",
    "\n",
    "# cycle through all the comments\n",
    "for comment in comment_series:\n",
    "    comment = comment.lower()\n",
    "    \n",
    "    # Regex method for removing special characters from a string.\n",
    "    # [^A-Za-z0-9 \\n]+ matches all characters that are NOT alphanumeric, a space, or '\\n'\n",
    "    # https://stackoverflow.com/questions/5843518/remove-all-special-characters-punctuation-and-spaces-from-string\n",
    "    comment_transformed = re.sub('[^A-Za-z \\n]+', '', comment)\n",
    "        \n",
    "    # Notice now we are splitting by spaces rather than turning the comment into a list of characters\n",
    "    comment_transformed = comment_transformed.replace('\\n', ' \\n ').replace('  ', ' ')\n",
    "    # split the comment into its individual words\n",
    "    comment_words = comment_transformed.split(' ')\n",
    "    dataset.append(comment_words)\n",
    "    \n",
    "    # Also create a list of all unique words we saw\n",
    "    for word in comment_words:\n",
    "        if word not in all_words:\n",
    "            all_words.append(word)\n"
   ]
  },
  {
   "cell_type": "code",
   "execution_count": 29,
   "metadata": {
    "colab": {
     "base_uri": "https://localhost:8080/",
     "height": 54
    },
    "colab_type": "code",
    "id": "s13wHfqn2VT0",
    "outputId": "3158ba4a-0339-4c18-842c-d566dfe0c717"
   },
   "outputs": [
    {
     "name": "stdout",
     "output_type": "stream",
     "text": [
      "['aparelho', 'eficiente', 'site', 'marca', 'aparelho', 'esta', 'impresso', 'como', 'desinfector', 'e', 'ao', 'chegar', 'esta', 'com', 'outro', 'nome', 'atualizar', 'com', 'marca', 'correta', 'uma', 'vez', 'que', 'mesmo', 'aparelho']\n"
     ]
    }
   ],
   "source": [
    "print(dataset[0])"
   ]
  },
  {
   "cell_type": "code",
   "execution_count": 30,
   "metadata": {
    "colab": {
     "base_uri": "https://localhost:8080/",
     "height": 34
    },
    "colab_type": "code",
    "id": "n6HT10nWwTkL",
    "outputId": "86967af5-a84b-483d-f619-3243ed256055"
   },
   "outputs": [
    {
     "name": "stdout",
     "output_type": "stream",
     "text": [
      "class number when splitting into words: 7370\n"
     ]
    }
   ],
   "source": [
    "print(\"class number when splitting into words:\", len(all_words))"
   ]
  },
  {
   "cell_type": "code",
   "execution_count": 31,
   "metadata": {
    "colab": {},
    "colab_type": "code",
    "id": "fCu-KsxCsyRK"
   },
   "outputs": [],
   "source": [
    "from collections import deque\n",
    "SEQUENCE_LENGTH = 10\n",
    "\n",
    "X_deq = []\n",
    "y_deq = []\n",
    "\n",
    "# for each comment\n",
    "for comment in dataset:\n",
    "    word_deque = deque(maxlen=SEQUENCE_LENGTH)\n",
    "    \n",
    "    # go through the words and place them in a deque, once the deque fills up and we try to add\n",
    "    # another word, the oldest word will be thrown out\n",
    "    for i in range(len(comment)-1):\n",
    "        word = comment[i]\n",
    "        word_deque.append(word)\n",
    "        \n",
    "        if (len(word_deque) == SEQUENCE_LENGTH):\n",
    "            X_deq.append(list(word_deque))\n",
    "            y_deq.append(y[i])"
   ]
  },
  {
   "cell_type": "code",
   "execution_count": 32,
   "metadata": {
    "colab": {
     "base_uri": "https://localhost:8080/",
     "height": 122
    },
    "colab_type": "code",
    "id": "gveyaJwuu6IO",
    "outputId": "24c1ae5d-8bb9-4a54-d49f-e8736c0f66c8",
    "scrolled": true
   },
   "outputs": [
    {
     "name": "stdout",
     "output_type": "stream",
     "text": [
      "X_deq: ['aparelho', 'eficiente', 'site', 'marca', 'aparelho', 'esta', 'impresso', 'como', 'desinfector', 'e']\n",
      "y_deq: 5.0\n",
      "*******\n",
      "X_deq: ['eficiente', 'site', 'marca', 'aparelho', 'esta', 'impresso', 'como', 'desinfector', 'e', 'ao']\n",
      "y_deq: 5.0\n",
      "*******\n"
     ]
    }
   ],
   "source": [
    "for i in range(2):\n",
    "    print(\"X_deq:\", X_deq[i])\n",
    "    print(\"y_deq:\", y_deq[i])\n",
    "    print(\"*******\")"
   ]
  },
  {
   "cell_type": "code",
   "execution_count": 33,
   "metadata": {
    "colab": {
     "base_uri": "https://localhost:8080/",
     "height": 34
    },
    "colab_type": "code",
    "id": "9cDiDntybzYJ",
    "outputId": "dd2ed35f-06bd-44dd-dcb5-09d91abb74b9"
   },
   "outputs": [
    {
     "data": {
      "text/plain": [
       "34048"
      ]
     },
     "execution_count": 33,
     "metadata": {
      "tags": []
     },
     "output_type": "execute_result"
    }
   ],
   "source": [
    "len(y_deq)"
   ]
  },
  {
   "cell_type": "code",
   "execution_count": 34,
   "metadata": {
    "colab": {},
    "colab_type": "code",
    "id": "d84PC8kJwak9"
   },
   "outputs": [],
   "source": [
    "number_to_word = {i: j for i,j in enumerate(all_words)}\n",
    "word_to_number = {j: i for i,j in enumerate(all_words)}"
   ]
  },
  {
   "cell_type": "code",
   "execution_count": 35,
   "metadata": {
    "colab": {},
    "colab_type": "code",
    "id": "hIAFoJFFw1gy"
   },
   "outputs": [],
   "source": [
    "X_num = X_deq.copy()\n",
    "for i in range(len(X_deq)):\n",
    "    for j in range(SEQUENCE_LENGTH):\n",
    "        if X_deq[i][j]==0:\n",
    "            print(X_deq[i][j])\n",
    "        X_num[i][j] = word_to_number[X_deq[i][j]]"
   ]
  },
  {
   "cell_type": "code",
   "execution_count": 36,
   "metadata": {
    "colab": {
     "base_uri": "https://localhost:8080/",
     "height": 122
    },
    "colab_type": "code",
    "id": "2kSCH8WEbzYY",
    "outputId": "821a627f-253b-443d-bd27-4944e5b4b8d0",
    "scrolled": true
   },
   "outputs": [
    {
     "name": "stdout",
     "output_type": "stream",
     "text": [
      "X_num: [0, 1, 2, 3, 0, 4, 5, 6, 7, 8]\n",
      "y_deq: 5.0\n",
      "*******\n",
      "X_num: [1, 2, 3, 0, 4, 5, 6, 7, 8, 9]\n",
      "y_deq: 5.0\n",
      "*******\n"
     ]
    }
   ],
   "source": [
    "for i in range(2):\n",
    "    print(\"X_num:\", X_num[i])\n",
    "    print(\"y_deq:\", y_deq[i])\n",
    "    print(\"*******\")"
   ]
  },
  {
   "cell_type": "code",
   "execution_count": 37,
   "metadata": {
    "colab": {
     "base_uri": "https://localhost:8080/",
     "height": 70
    },
    "colab_type": "code",
    "id": "eYharW4AAiPS",
    "outputId": "e79bfefd-82c8-404a-f3da-e786a15057e2"
   },
   "outputs": [
    {
     "name": "stdout",
     "output_type": "stream",
     "text": [
      "(34048, 10)\n",
      "(34048,)\n",
      "(34048, 10, 1)\n"
     ]
    }
   ],
   "source": [
    "X_arr = np.array(X_num)\n",
    "y_arr = np.array(y_deq)\n",
    "print(X_arr.shape)\n",
    "print(y_arr.shape)\n",
    "\n",
    "X_3d = X_arr.reshape((X_arr.shape[0], X_arr.shape[1], 1))\n",
    "print(X_3d.shape)"
   ]
  },
  {
   "cell_type": "code",
   "execution_count": 38,
   "metadata": {
    "colab": {
     "base_uri": "https://localhost:8080/",
     "height": 34
    },
    "colab_type": "code",
    "id": "aimQ6mxobzYl",
    "outputId": "538fa8b3-27f0-426b-bba5-3854991d37d6"
   },
   "outputs": [
    {
     "name": "stdout",
     "output_type": "stream",
     "text": [
      "[5. 5. 5. ... 5. 5. 5.]\n"
     ]
    }
   ],
   "source": [
    "print(y_arr)"
   ]
  },
  {
   "cell_type": "code",
   "execution_count": 39,
   "metadata": {
    "colab": {
     "base_uri": "https://localhost:8080/",
     "height": 402
    },
    "colab_type": "code",
    "id": "K9l_MICBbzYn",
    "outputId": "b2752aa1-d47c-435e-9e4a-21c1da38f923",
    "scrolled": true
   },
   "outputs": [
    {
     "data": {
      "text/html": [
       "<div>\n",
       "<style scoped>\n",
       "    .dataframe tbody tr th:only-of-type {\n",
       "        vertical-align: middle;\n",
       "    }\n",
       "\n",
       "    .dataframe tbody tr th {\n",
       "        vertical-align: top;\n",
       "    }\n",
       "\n",
       "    .dataframe thead th {\n",
       "        text-align: right;\n",
       "    }\n",
       "</style>\n",
       "<table border=\"1\" class=\"dataframe\">\n",
       "  <thead>\n",
       "    <tr style=\"text-align: right;\">\n",
       "      <th></th>\n",
       "      <th>0</th>\n",
       "      <th>1</th>\n",
       "      <th>2</th>\n",
       "      <th>3</th>\n",
       "      <th>4</th>\n",
       "      <th>5</th>\n",
       "      <th>6</th>\n",
       "      <th>7</th>\n",
       "      <th>8</th>\n",
       "      <th>9</th>\n",
       "      <th>10</th>\n",
       "    </tr>\n",
       "  </thead>\n",
       "  <tbody>\n",
       "    <tr>\n",
       "      <th>0</th>\n",
       "      <td>0.0</td>\n",
       "      <td>1.0</td>\n",
       "      <td>2.0</td>\n",
       "      <td>3.0</td>\n",
       "      <td>0.0</td>\n",
       "      <td>4.0</td>\n",
       "      <td>5.0</td>\n",
       "      <td>6.0</td>\n",
       "      <td>7.0</td>\n",
       "      <td>8.0</td>\n",
       "      <td>5.0</td>\n",
       "    </tr>\n",
       "    <tr>\n",
       "      <th>1</th>\n",
       "      <td>1.0</td>\n",
       "      <td>2.0</td>\n",
       "      <td>3.0</td>\n",
       "      <td>0.0</td>\n",
       "      <td>4.0</td>\n",
       "      <td>5.0</td>\n",
       "      <td>6.0</td>\n",
       "      <td>7.0</td>\n",
       "      <td>8.0</td>\n",
       "      <td>9.0</td>\n",
       "      <td>5.0</td>\n",
       "    </tr>\n",
       "    <tr>\n",
       "      <th>2</th>\n",
       "      <td>2.0</td>\n",
       "      <td>3.0</td>\n",
       "      <td>0.0</td>\n",
       "      <td>4.0</td>\n",
       "      <td>5.0</td>\n",
       "      <td>6.0</td>\n",
       "      <td>7.0</td>\n",
       "      <td>8.0</td>\n",
       "      <td>9.0</td>\n",
       "      <td>10.0</td>\n",
       "      <td>5.0</td>\n",
       "    </tr>\n",
       "    <tr>\n",
       "      <th>3</th>\n",
       "      <td>3.0</td>\n",
       "      <td>0.0</td>\n",
       "      <td>4.0</td>\n",
       "      <td>5.0</td>\n",
       "      <td>6.0</td>\n",
       "      <td>7.0</td>\n",
       "      <td>8.0</td>\n",
       "      <td>9.0</td>\n",
       "      <td>10.0</td>\n",
       "      <td>4.0</td>\n",
       "      <td>5.0</td>\n",
       "    </tr>\n",
       "    <tr>\n",
       "      <th>4</th>\n",
       "      <td>0.0</td>\n",
       "      <td>4.0</td>\n",
       "      <td>5.0</td>\n",
       "      <td>6.0</td>\n",
       "      <td>7.0</td>\n",
       "      <td>8.0</td>\n",
       "      <td>9.0</td>\n",
       "      <td>10.0</td>\n",
       "      <td>4.0</td>\n",
       "      <td>11.0</td>\n",
       "      <td>3.0</td>\n",
       "    </tr>\n",
       "    <tr>\n",
       "      <th>...</th>\n",
       "      <td>...</td>\n",
       "      <td>...</td>\n",
       "      <td>...</td>\n",
       "      <td>...</td>\n",
       "      <td>...</td>\n",
       "      <td>...</td>\n",
       "      <td>...</td>\n",
       "      <td>...</td>\n",
       "      <td>...</td>\n",
       "      <td>...</td>\n",
       "      <td>...</td>\n",
       "    </tr>\n",
       "    <tr>\n",
       "      <th>34043</th>\n",
       "      <td>2528.0</td>\n",
       "      <td>48.0</td>\n",
       "      <td>295.0</td>\n",
       "      <td>11.0</td>\n",
       "      <td>22.0</td>\n",
       "      <td>1180.0</td>\n",
       "      <td>71.0</td>\n",
       "      <td>5849.0</td>\n",
       "      <td>1322.0</td>\n",
       "      <td>11.0</td>\n",
       "      <td>5.0</td>\n",
       "    </tr>\n",
       "    <tr>\n",
       "      <th>34044</th>\n",
       "      <td>48.0</td>\n",
       "      <td>295.0</td>\n",
       "      <td>11.0</td>\n",
       "      <td>22.0</td>\n",
       "      <td>1180.0</td>\n",
       "      <td>71.0</td>\n",
       "      <td>5849.0</td>\n",
       "      <td>1322.0</td>\n",
       "      <td>11.0</td>\n",
       "      <td>614.0</td>\n",
       "      <td>5.0</td>\n",
       "    </tr>\n",
       "    <tr>\n",
       "      <th>34045</th>\n",
       "      <td>295.0</td>\n",
       "      <td>11.0</td>\n",
       "      <td>22.0</td>\n",
       "      <td>1180.0</td>\n",
       "      <td>71.0</td>\n",
       "      <td>5849.0</td>\n",
       "      <td>1322.0</td>\n",
       "      <td>11.0</td>\n",
       "      <td>614.0</td>\n",
       "      <td>1683.0</td>\n",
       "      <td>5.0</td>\n",
       "    </tr>\n",
       "    <tr>\n",
       "      <th>34046</th>\n",
       "      <td>49.0</td>\n",
       "      <td>143.0</td>\n",
       "      <td>977.0</td>\n",
       "      <td>469.0</td>\n",
       "      <td>7368.0</td>\n",
       "      <td>71.0</td>\n",
       "      <td>31.0</td>\n",
       "      <td>469.0</td>\n",
       "      <td>121.0</td>\n",
       "      <td>470.0</td>\n",
       "      <td>5.0</td>\n",
       "    </tr>\n",
       "    <tr>\n",
       "      <th>34047</th>\n",
       "      <td>315.0</td>\n",
       "      <td>48.0</td>\n",
       "      <td>359.0</td>\n",
       "      <td>1074.0</td>\n",
       "      <td>7369.0</td>\n",
       "      <td>5263.0</td>\n",
       "      <td>48.0</td>\n",
       "      <td>6671.0</td>\n",
       "      <td>359.0</td>\n",
       "      <td>76.0</td>\n",
       "      <td>5.0</td>\n",
       "    </tr>\n",
       "  </tbody>\n",
       "</table>\n",
       "<p>34048 rows × 11 columns</p>\n",
       "</div>"
      ],
      "text/plain": [
       "           0      1      2       3   ...      7       8       9    10\n",
       "0         0.0    1.0    2.0     3.0  ...     6.0     7.0     8.0  5.0\n",
       "1         1.0    2.0    3.0     0.0  ...     7.0     8.0     9.0  5.0\n",
       "2         2.0    3.0    0.0     4.0  ...     8.0     9.0    10.0  5.0\n",
       "3         3.0    0.0    4.0     5.0  ...     9.0    10.0     4.0  5.0\n",
       "4         0.0    4.0    5.0     6.0  ...    10.0     4.0    11.0  3.0\n",
       "...       ...    ...    ...     ...  ...     ...     ...     ...  ...\n",
       "34043  2528.0   48.0  295.0    11.0  ...  5849.0  1322.0    11.0  5.0\n",
       "34044    48.0  295.0   11.0    22.0  ...  1322.0    11.0   614.0  5.0\n",
       "34045   295.0   11.0   22.0  1180.0  ...    11.0   614.0  1683.0  5.0\n",
       "34046    49.0  143.0  977.0   469.0  ...   469.0   121.0   470.0  5.0\n",
       "34047   315.0   48.0  359.0  1074.0  ...  6671.0   359.0    76.0  5.0\n",
       "\n",
       "[34048 rows x 11 columns]"
      ]
     },
     "execution_count": 39,
     "metadata": {
      "tags": []
     },
     "output_type": "execute_result"
    }
   ],
   "source": [
    "num_df = pd.DataFrame(data=np.concatenate((X_arr, y_arr.reshape((y_arr.shape[0], 1))), axis=1))\n",
    "num_df"
   ]
  },
  {
   "cell_type": "code",
   "execution_count": 40,
   "metadata": {
    "colab": {
     "base_uri": "https://localhost:8080/",
     "height": 402
    },
    "colab_type": "code",
    "id": "xVHSo0bcbzYv",
    "outputId": "e323b041-75fb-42ef-b12c-c410e3d2d7d4",
    "scrolled": true
   },
   "outputs": [
    {
     "data": {
      "text/html": [
       "<div>\n",
       "<style scoped>\n",
       "    .dataframe tbody tr th:only-of-type {\n",
       "        vertical-align: middle;\n",
       "    }\n",
       "\n",
       "    .dataframe tbody tr th {\n",
       "        vertical-align: top;\n",
       "    }\n",
       "\n",
       "    .dataframe thead th {\n",
       "        text-align: right;\n",
       "    }\n",
       "</style>\n",
       "<table border=\"1\" class=\"dataframe\">\n",
       "  <thead>\n",
       "    <tr style=\"text-align: right;\">\n",
       "      <th></th>\n",
       "      <th>0</th>\n",
       "      <th>1</th>\n",
       "      <th>2</th>\n",
       "      <th>3</th>\n",
       "      <th>4</th>\n",
       "      <th>5</th>\n",
       "      <th>6</th>\n",
       "      <th>7</th>\n",
       "      <th>8</th>\n",
       "      <th>9</th>\n",
       "      <th>10</th>\n",
       "    </tr>\n",
       "  </thead>\n",
       "  <tbody>\n",
       "    <tr>\n",
       "      <th>14838</th>\n",
       "      <td>40.0</td>\n",
       "      <td>3587.0</td>\n",
       "      <td>3913.0</td>\n",
       "      <td>18.0</td>\n",
       "      <td>136.0</td>\n",
       "      <td>1080.0</td>\n",
       "      <td>2489.0</td>\n",
       "      <td>209.0</td>\n",
       "      <td>76.0</td>\n",
       "      <td>4610.0</td>\n",
       "      <td>5.0</td>\n",
       "    </tr>\n",
       "    <tr>\n",
       "      <th>11915</th>\n",
       "      <td>387.0</td>\n",
       "      <td>89.0</td>\n",
       "      <td>166.0</td>\n",
       "      <td>132.0</td>\n",
       "      <td>292.0</td>\n",
       "      <td>670.0</td>\n",
       "      <td>498.0</td>\n",
       "      <td>18.0</td>\n",
       "      <td>1942.0</td>\n",
       "      <td>1902.0</td>\n",
       "      <td>5.0</td>\n",
       "    </tr>\n",
       "    <tr>\n",
       "      <th>29480</th>\n",
       "      <td>259.0</td>\n",
       "      <td>66.0</td>\n",
       "      <td>3954.0</td>\n",
       "      <td>688.0</td>\n",
       "      <td>845.0</td>\n",
       "      <td>36.0</td>\n",
       "      <td>1915.0</td>\n",
       "      <td>2722.0</td>\n",
       "      <td>8.0</td>\n",
       "      <td>258.0</td>\n",
       "      <td>4.0</td>\n",
       "    </tr>\n",
       "    <tr>\n",
       "      <th>23787</th>\n",
       "      <td>66.0</td>\n",
       "      <td>455.0</td>\n",
       "      <td>456.0</td>\n",
       "      <td>9.0</td>\n",
       "      <td>2358.0</td>\n",
       "      <td>18.0</td>\n",
       "      <td>137.0</td>\n",
       "      <td>324.0</td>\n",
       "      <td>22.0</td>\n",
       "      <td>11.0</td>\n",
       "      <td>5.0</td>\n",
       "    </tr>\n",
       "    <tr>\n",
       "      <th>18540</th>\n",
       "      <td>66.0</td>\n",
       "      <td>970.0</td>\n",
       "      <td>1057.0</td>\n",
       "      <td>89.0</td>\n",
       "      <td>18.0</td>\n",
       "      <td>83.0</td>\n",
       "      <td>11.0</td>\n",
       "      <td>132.0</td>\n",
       "      <td>697.0</td>\n",
       "      <td>226.0</td>\n",
       "      <td>4.0</td>\n",
       "    </tr>\n",
       "    <tr>\n",
       "      <th>...</th>\n",
       "      <td>...</td>\n",
       "      <td>...</td>\n",
       "      <td>...</td>\n",
       "      <td>...</td>\n",
       "      <td>...</td>\n",
       "      <td>...</td>\n",
       "      <td>...</td>\n",
       "      <td>...</td>\n",
       "      <td>...</td>\n",
       "      <td>...</td>\n",
       "      <td>...</td>\n",
       "    </tr>\n",
       "    <tr>\n",
       "      <th>5568</th>\n",
       "      <td>125.0</td>\n",
       "      <td>1318.0</td>\n",
       "      <td>1021.0</td>\n",
       "      <td>71.0</td>\n",
       "      <td>18.0</td>\n",
       "      <td>742.0</td>\n",
       "      <td>16.0</td>\n",
       "      <td>1893.0</td>\n",
       "      <td>36.0</td>\n",
       "      <td>2612.0</td>\n",
       "      <td>1.0</td>\n",
       "    </tr>\n",
       "    <tr>\n",
       "      <th>19818</th>\n",
       "      <td>24.0</td>\n",
       "      <td>26.0</td>\n",
       "      <td>210.0</td>\n",
       "      <td>23.0</td>\n",
       "      <td>57.0</td>\n",
       "      <td>1725.0</td>\n",
       "      <td>2475.0</td>\n",
       "      <td>2428.0</td>\n",
       "      <td>425.0</td>\n",
       "      <td>63.0</td>\n",
       "      <td>5.0</td>\n",
       "    </tr>\n",
       "    <tr>\n",
       "      <th>9507</th>\n",
       "      <td>3578.0</td>\n",
       "      <td>437.0</td>\n",
       "      <td>3144.0</td>\n",
       "      <td>11.0</td>\n",
       "      <td>57.0</td>\n",
       "      <td>3579.0</td>\n",
       "      <td>84.0</td>\n",
       "      <td>3580.0</td>\n",
       "      <td>604.0</td>\n",
       "      <td>372.0</td>\n",
       "      <td>3.0</td>\n",
       "    </tr>\n",
       "    <tr>\n",
       "      <th>4207</th>\n",
       "      <td>802.0</td>\n",
       "      <td>36.0</td>\n",
       "      <td>2222.0</td>\n",
       "      <td>2223.0</td>\n",
       "      <td>91.0</td>\n",
       "      <td>11.0</td>\n",
       "      <td>897.0</td>\n",
       "      <td>1220.0</td>\n",
       "      <td>84.0</td>\n",
       "      <td>1006.0</td>\n",
       "      <td>5.0</td>\n",
       "    </tr>\n",
       "    <tr>\n",
       "      <th>7104</th>\n",
       "      <td>3034.0</td>\n",
       "      <td>22.0</td>\n",
       "      <td>66.0</td>\n",
       "      <td>67.0</td>\n",
       "      <td>87.0</td>\n",
       "      <td>1879.0</td>\n",
       "      <td>89.0</td>\n",
       "      <td>1365.0</td>\n",
       "      <td>764.0</td>\n",
       "      <td>559.0</td>\n",
       "      <td>5.0</td>\n",
       "    </tr>\n",
       "  </tbody>\n",
       "</table>\n",
       "<p>3405 rows × 11 columns</p>\n",
       "</div>"
      ],
      "text/plain": [
       "           0       1       2       3   ...      7       8       9    10\n",
       "14838    40.0  3587.0  3913.0    18.0  ...   209.0    76.0  4610.0  5.0\n",
       "11915   387.0    89.0   166.0   132.0  ...    18.0  1942.0  1902.0  5.0\n",
       "29480   259.0    66.0  3954.0   688.0  ...  2722.0     8.0   258.0  4.0\n",
       "23787    66.0   455.0   456.0     9.0  ...   324.0    22.0    11.0  5.0\n",
       "18540    66.0   970.0  1057.0    89.0  ...   132.0   697.0   226.0  4.0\n",
       "...       ...     ...     ...     ...  ...     ...     ...     ...  ...\n",
       "5568    125.0  1318.0  1021.0    71.0  ...  1893.0    36.0  2612.0  1.0\n",
       "19818    24.0    26.0   210.0    23.0  ...  2428.0   425.0    63.0  5.0\n",
       "9507   3578.0   437.0  3144.0    11.0  ...  3580.0   604.0   372.0  3.0\n",
       "4207    802.0    36.0  2222.0  2223.0  ...  1220.0    84.0  1006.0  5.0\n",
       "7104   3034.0    22.0    66.0    67.0  ...  1365.0   764.0   559.0  5.0\n",
       "\n",
       "[3405 rows x 11 columns]"
      ]
     },
     "execution_count": 40,
     "metadata": {
      "tags": []
     },
     "output_type": "execute_result"
    }
   ],
   "source": [
    "sample_df = num_df.sample(frac=0.1)\n",
    "sample_df"
   ]
  },
  {
   "cell_type": "code",
   "execution_count": 46,
   "metadata": {
    "colab": {},
    "colab_type": "code",
    "id": "ABBcMXAEbzY1"
   },
   "outputs": [],
   "source": [
    "sample_arr = np.array(num_df.iloc[:, 0:10])\n",
    "X_rnn = sample_arr.reshape((sample_arr.shape[0], sample_arr.shape[1], 1))\n",
    "y_rnn = np.array(num_df.iloc[:, 10])"
   ]
  },
  {
   "cell_type": "code",
   "execution_count": 47,
   "metadata": {
    "colab": {
     "base_uri": "https://localhost:8080/",
     "height": 52
    },
    "colab_type": "code",
    "id": "lxaoUl-GCU96",
    "outputId": "343802da-3a1a-4b19-f305-09e94cb5efc2",
    "scrolled": true
   },
   "outputs": [
    {
     "name": "stdout",
     "output_type": "stream",
     "text": [
      "(30644, 10, 1)\n",
      "(3404, 10, 1)\n"
     ]
    }
   ],
   "source": [
    "# Create train, validate, and test data\n",
    "validate_set_size = int(0.1 * X_rnn.shape[0])\n",
    "\n",
    "train_set_limit = X_rnn.shape[0] - validate_set_size\n",
    "\n",
    "# Split train\n",
    "train_X = X_rnn[:train_set_limit]\n",
    "train_y = y_rnn[:train_set_limit]\n",
    "\n",
    "# Split validation\n",
    "validation_X = X_rnn[train_set_limit : ]\n",
    "validation_y = y_rnn[train_set_limit : ]\n",
    "\n",
    "print(train_X.shape)      \n",
    "print(validation_X.shape)"
   ]
  },
  {
   "cell_type": "code",
   "execution_count": 48,
   "metadata": {
    "colab": {
     "base_uri": "https://localhost:8080/",
     "height": 72
    },
    "colab_type": "code",
    "id": "buZPD-VACma-",
    "outputId": "c6720aa2-1605-4c33-c7cd-f4ca1334e654"
   },
   "outputs": [
    {
     "name": "stdout",
     "output_type": "stream",
     "text": [
      "WARNING:tensorflow:Layer lstm_4 will not use cuDNN kernel since it doesn't meet the cuDNN kernel criteria. It will use generic GPU kernel as fallback when running on GPU\n",
      "WARNING:tensorflow:Layer lstm_5 will not use cuDNN kernel since it doesn't meet the cuDNN kernel criteria. It will use generic GPU kernel as fallback when running on GPU\n"
     ]
    }
   ],
   "source": [
    "class_number = len(all_words)\n",
    "\n",
    "    \n",
    "RNN_model3 = Sequential()\n",
    "# This time we will embed the words into a higher dimensional space, 300-dimensional\n",
    "RNN_model3.add(Embedding(len(all_words), 300, input_length=SEQUENCE_LENGTH))\n",
    "\n",
    "RNN_model3.add(LSTM(1024, activation='relu', return_sequences=True))\n",
    "RNN_model3.add(Dropout(0.2))\n",
    "RNN_model3.add(BatchNormalization())\n",
    "\n",
    "RNN_model3.add(LSTM(612, activation='relu'))\n",
    "RNN_model3.add(Dropout(0.2))\n",
    "RNN_model3.add(BatchNormalization())\n",
    "\n",
    "RNN_model3.add(Dense(32, activation='relu'))\n",
    "RNN_model3.add(Dropout(0.1))\n",
    "\n",
    "RNN_model3.add(Dense(class_number, activation='softmax'))\n",
    "\n",
    "# Compile model\n",
    "RNN_model3.compile(loss='sparse_categorical_crossentropy',\n",
    "                  optimizer='Adam',\n",
    "                  metrics=['accuracy'])"
   ]
  },
  {
   "cell_type": "code",
   "execution_count": 49,
   "metadata": {
    "colab": {
     "base_uri": "https://localhost:8080/",
     "height": 1000
    },
    "colab_type": "code",
    "id": "zU34oSx4DNiC",
    "outputId": "f7db2ea5-af2c-41bd-b0c0-cce95fe8a0c1"
   },
   "outputs": [
    {
     "name": "stdout",
     "output_type": "stream",
     "text": [
      "Epoch 1/40\n",
      "64/64 [==============================] - 8s 125ms/step - loss: 3.0706 - accuracy: 0.5239 - val_loss: 1.0244 - val_accuracy: 0.6425\n",
      "Epoch 2/40\n",
      "64/64 [==============================] - 8s 119ms/step - loss: 1.0319 - accuracy: 0.6320 - val_loss: 1.2359 - val_accuracy: 0.6425\n",
      "Epoch 3/40\n",
      "64/64 [==============================] - 8s 120ms/step - loss: 1.0018 - accuracy: 0.6339 - val_loss: 1.4771 - val_accuracy: 0.6425\n",
      "Epoch 4/40\n",
      "64/64 [==============================] - 8s 121ms/step - loss: 0.9737 - accuracy: 0.6345 - val_loss: 1.2480 - val_accuracy: 0.6425\n",
      "Epoch 5/40\n",
      "64/64 [==============================] - 8s 121ms/step - loss: 0.9509 - accuracy: 0.6348 - val_loss: 1.2036 - val_accuracy: 0.6425\n",
      "Epoch 6/40\n",
      "64/64 [==============================] - 8s 122ms/step - loss: 0.9199 - accuracy: 0.6418 - val_loss: 1.1515 - val_accuracy: 0.6425\n",
      "Epoch 7/40\n",
      "64/64 [==============================] - 8s 123ms/step - loss: 0.8721 - accuracy: 0.6505 - val_loss: 1.0455 - val_accuracy: 0.6425\n",
      "Epoch 8/40\n",
      "64/64 [==============================] - 8s 124ms/step - loss: 0.8079 - accuracy: 0.6685 - val_loss: 1.0367 - val_accuracy: 0.6407\n",
      "Epoch 9/40\n",
      "64/64 [==============================] - 8s 124ms/step - loss: 0.7378 - accuracy: 0.6977 - val_loss: 1.0816 - val_accuracy: 0.6369\n",
      "Epoch 10/40\n",
      "64/64 [==============================] - 8s 124ms/step - loss: 0.6247 - accuracy: 0.7506 - val_loss: 1.2089 - val_accuracy: 0.5961\n",
      "Epoch 11/40\n",
      "64/64 [==============================] - 8s 123ms/step - loss: 0.5196 - accuracy: 0.8012 - val_loss: 1.3099 - val_accuracy: 0.5972\n",
      "Epoch 12/40\n",
      "64/64 [==============================] - 8s 122ms/step - loss: 0.4143 - accuracy: 0.8470 - val_loss: 1.5885 - val_accuracy: 0.5344\n",
      "Epoch 13/40\n",
      "64/64 [==============================] - 8s 122ms/step - loss: 0.3431 - accuracy: 0.8775 - val_loss: 1.7438 - val_accuracy: 0.5532\n",
      "Epoch 14/40\n",
      "64/64 [==============================] - 8s 122ms/step - loss: 0.2909 - accuracy: 0.8958 - val_loss: 1.8559 - val_accuracy: 0.5596\n",
      "Epoch 15/40\n",
      "64/64 [==============================] - 8s 122ms/step - loss: 0.2375 - accuracy: 0.9143 - val_loss: 1.8497 - val_accuracy: 0.5341\n",
      "Epoch 16/40\n",
      "64/64 [==============================] - 8s 123ms/step - loss: 0.1950 - accuracy: 0.9316 - val_loss: 2.1019 - val_accuracy: 0.5458\n",
      "Epoch 17/40\n",
      "64/64 [==============================] - 8s 123ms/step - loss: 0.1725 - accuracy: 0.9401 - val_loss: 2.1489 - val_accuracy: 0.5311\n",
      "Epoch 18/40\n",
      "64/64 [==============================] - 8s 123ms/step - loss: 0.1451 - accuracy: 0.9511 - val_loss: 2.3702 - val_accuracy: 0.5012\n",
      "Epoch 19/40\n",
      "64/64 [==============================] - 8s 124ms/step - loss: 0.1181 - accuracy: 0.9593 - val_loss: 2.4369 - val_accuracy: 0.5541\n",
      "Epoch 20/40\n",
      "64/64 [==============================] - 8s 123ms/step - loss: 0.1176 - accuracy: 0.9592 - val_loss: 2.4132 - val_accuracy: 0.5144\n",
      "Epoch 21/40\n",
      "64/64 [==============================] - 8s 123ms/step - loss: 0.0934 - accuracy: 0.9679 - val_loss: 2.5502 - val_accuracy: 0.5341\n",
      "Epoch 22/40\n",
      "64/64 [==============================] - 8s 123ms/step - loss: 0.0796 - accuracy: 0.9731 - val_loss: 2.6342 - val_accuracy: 0.5185\n",
      "Epoch 23/40\n",
      "64/64 [==============================] - 8s 123ms/step - loss: 0.0628 - accuracy: 0.9797 - val_loss: 2.8506 - val_accuracy: 0.5432\n",
      "Epoch 24/40\n",
      "64/64 [==============================] - 8s 122ms/step - loss: 0.0573 - accuracy: 0.9816 - val_loss: 2.7919 - val_accuracy: 0.5229\n",
      "Epoch 25/40\n",
      "64/64 [==============================] - 8s 123ms/step - loss: 0.0570 - accuracy: 0.9810 - val_loss: 3.0616 - val_accuracy: 0.5159\n",
      "Epoch 26/40\n",
      "64/64 [==============================] - 8s 123ms/step - loss: 0.0554 - accuracy: 0.9826 - val_loss: 2.8699 - val_accuracy: 0.5241\n",
      "Epoch 27/40\n",
      "64/64 [==============================] - 8s 122ms/step - loss: 0.0443 - accuracy: 0.9858 - val_loss: 2.9239 - val_accuracy: 0.5535\n",
      "Epoch 28/40\n",
      "64/64 [==============================] - 8s 123ms/step - loss: 0.0355 - accuracy: 0.9888 - val_loss: 3.1146 - val_accuracy: 0.5358\n",
      "Epoch 29/40\n",
      "64/64 [==============================] - 8s 122ms/step - loss: 0.0314 - accuracy: 0.9899 - val_loss: 3.1138 - val_accuracy: 0.5185\n",
      "Epoch 30/40\n",
      "64/64 [==============================] - 8s 123ms/step - loss: 0.0330 - accuracy: 0.9901 - val_loss: 3.3211 - val_accuracy: 0.5358\n",
      "Epoch 31/40\n",
      "64/64 [==============================] - 8s 122ms/step - loss: 0.0350 - accuracy: 0.9891 - val_loss: 3.2512 - val_accuracy: 0.5294\n",
      "Epoch 32/40\n",
      "64/64 [==============================] - 8s 122ms/step - loss: 0.0331 - accuracy: 0.9902 - val_loss: 3.2976 - val_accuracy: 0.5353\n",
      "Epoch 33/40\n",
      "64/64 [==============================] - 8s 122ms/step - loss: 0.0304 - accuracy: 0.9906 - val_loss: 3.2201 - val_accuracy: 0.5279\n",
      "Epoch 34/40\n",
      "64/64 [==============================] - 8s 122ms/step - loss: 0.0207 - accuracy: 0.9937 - val_loss: 3.1449 - val_accuracy: 0.5420\n",
      "Epoch 35/40\n",
      "64/64 [==============================] - 8s 122ms/step - loss: 0.0210 - accuracy: 0.9938 - val_loss: 3.3854 - val_accuracy: 0.5388\n",
      "Epoch 36/40\n",
      "64/64 [==============================] - 8s 123ms/step - loss: 0.0195 - accuracy: 0.9939 - val_loss: 3.5091 - val_accuracy: 0.5259\n",
      "Epoch 37/40\n",
      "64/64 [==============================] - 8s 123ms/step - loss: 0.0232 - accuracy: 0.9932 - val_loss: 3.3700 - val_accuracy: 0.5261\n",
      "Epoch 38/40\n",
      "64/64 [==============================] - 8s 122ms/step - loss: 0.0229 - accuracy: 0.9930 - val_loss: 3.5344 - val_accuracy: 0.5261\n",
      "Epoch 39/40\n",
      "64/64 [==============================] - 8s 122ms/step - loss: 0.0218 - accuracy: 0.9934 - val_loss: 3.3900 - val_accuracy: 0.5382\n",
      "Epoch 40/40\n",
      "64/64 [==============================] - 8s 122ms/step - loss: 0.0222 - accuracy: 0.9929 - val_loss: 3.3590 - val_accuracy: 0.5344\n"
     ]
    }
   ],
   "source": [
    "import os\n",
    "if not os.path.exists('RNN_model3.json'):\n",
    "    EPOCHS = 40       # NNs operate in epochs, meaning this is how many times the neural network will go through \n",
    "                      # the entire data\n",
    "    BATCH_SIZE = 480   # at each epoch, it will split the data into units of 48 samples, and train on those\n",
    "\n",
    "    train_X = train_X.reshape((-1, SEQUENCE_LENGTH))\n",
    "    RNN_model3.fit(train_X, train_y,\n",
    "                   batch_size=BATCH_SIZE,\n",
    "                   epochs=EPOCHS,\n",
    "                   validation_data=(validation_X.reshape((-1, SEQUENCE_LENGTH)), validation_y))\n",
    "else:\n",
    "    print(\"Loading weights from h5 file\")\n",
    "    RNN_model3.load_weights('RNN_model3.h5')\n",
    "    print(\"Loaded weights from disk\")\n",
    "    print(\"No need to train, model is fully trained\")\n",
    "    loss_score, accuracy_score = RNN_model3.evaluate(validation_X.reshape((-1, SEQUENCE_LENGTH)), \n",
    "                                                     validation_y, \n",
    "                                                     batch_size=480, \n",
    "                                                     verbose=1)\n",
    "    print(\"Accuracy score: \"+str(round(accuracy_score*100,2))+\"%\")\n",
    "    "
   ]
  },
  {
   "cell_type": "code",
   "execution_count": 54,
   "metadata": {
    "colab": {
     "base_uri": "https://localhost:8080/",
     "height": 72
    },
    "colab_type": "code",
    "id": "t5EjCuOkCNln",
    "outputId": "e1ee6260-9b13-4ffc-d8e3-67a791a8ef8d"
   },
   "outputs": [
    {
     "name": "stdout",
     "output_type": "stream",
     "text": [
      "WARNING:tensorflow:Layer lstm_10 will not use cuDNN kernel since it doesn't meet the cuDNN kernel criteria. It will use generic GPU kernel as fallback when running on GPU\n",
      "WARNING:tensorflow:Layer lstm_11 will not use cuDNN kernel since it doesn't meet the cuDNN kernel criteria. It will use generic GPU kernel as fallback when running on GPU\n"
     ]
    }
   ],
   "source": [
    "class_number = len(all_words)\n",
    "\n",
    "    \n",
    "RNN_model = Sequential()\n",
    "# This time we will embed the words into a higher dimensional space, 300-dimensional\n",
    "RNN_model.add(Embedding(len(all_words), 50, input_length=SEQUENCE_LENGTH))\n",
    "\n",
    "RNN_model.add(LSTM(1024, activation='relu', return_sequences=True))\n",
    "RNN_model.add(Dropout(0.2))\n",
    "RNN_model.add(BatchNormalization())\n",
    "\n",
    "RNN_model.add(LSTM(612, activation='relu'))\n",
    "RNN_model.add(Dropout(0.2))\n",
    "RNN_model.add(BatchNormalization())\n",
    "\n",
    "RNN_model.add(Dense(32, activation='relu'))\n",
    "RNN_model.add(Dropout(0.1))\n",
    "\n",
    "RNN_model.add(Dense(class_number, activation='softmax'))\n",
    "\n",
    "# Compile model\n",
    "RNN_model.compile(loss='sparse_categorical_crossentropy',\n",
    "                  optimizer='Adam',\n",
    "                  metrics=['accuracy'])"
   ]
  },
  {
   "cell_type": "code",
   "execution_count": 55,
   "metadata": {
    "colab": {
     "base_uri": "https://localhost:8080/",
     "height": 1000
    },
    "colab_type": "code",
    "id": "MRho68lvCEh5",
    "outputId": "02c61a26-5206-4e47-b0e9-e285e6498493",
    "scrolled": false
   },
   "outputs": [
    {
     "name": "stdout",
     "output_type": "stream",
     "text": [
      "Epoch 1/40\n",
      "64/64 [==============================] - 7s 108ms/step - loss: 3.3045 - accuracy: 0.5035 - val_loss: 3.8706 - val_accuracy: 0.6425\n",
      "Epoch 2/40\n",
      "64/64 [==============================] - 7s 104ms/step - loss: 1.0351 - accuracy: 0.6340 - val_loss: 4.1147 - val_accuracy: 0.6425\n",
      "Epoch 3/40\n",
      "64/64 [==============================] - 7s 104ms/step - loss: 1.0139 - accuracy: 0.6343 - val_loss: 3.6411 - val_accuracy: 0.6425\n",
      "Epoch 4/40\n",
      "64/64 [==============================] - 7s 104ms/step - loss: 0.9905 - accuracy: 0.6343 - val_loss: 2.6812 - val_accuracy: 0.6425\n",
      "Epoch 5/40\n",
      "64/64 [==============================] - 7s 104ms/step - loss: 0.9737 - accuracy: 0.6348 - val_loss: 2.4183 - val_accuracy: 0.6425\n",
      "Epoch 6/40\n",
      "64/64 [==============================] - 7s 103ms/step - loss: 0.9435 - accuracy: 0.6412 - val_loss: 1.8040 - val_accuracy: 0.6425\n",
      "Epoch 7/40\n",
      "64/64 [==============================] - 7s 103ms/step - loss: 0.8995 - accuracy: 0.6517 - val_loss: 1.4412 - val_accuracy: 0.6425\n",
      "Epoch 8/40\n",
      "64/64 [==============================] - 7s 102ms/step - loss: 0.8445 - accuracy: 0.6623 - val_loss: 1.2998 - val_accuracy: 0.6419\n",
      "Epoch 9/40\n",
      "64/64 [==============================] - 6s 101ms/step - loss: 0.7816 - accuracy: 0.6809 - val_loss: 1.2333 - val_accuracy: 0.6304\n",
      "Epoch 10/40\n",
      "64/64 [==============================] - 6s 101ms/step - loss: 0.7221 - accuracy: 0.6986 - val_loss: 1.1878 - val_accuracy: 0.6222\n",
      "Epoch 11/40\n",
      "64/64 [==============================] - 7s 102ms/step - loss: 0.6471 - accuracy: 0.7327 - val_loss: 1.1784 - val_accuracy: 0.6072\n",
      "Epoch 12/40\n",
      "64/64 [==============================] - 7s 102ms/step - loss: 0.5663 - accuracy: 0.7716 - val_loss: 1.2564 - val_accuracy: 0.5784\n",
      "Epoch 13/40\n",
      "64/64 [==============================] - 7s 103ms/step - loss: 0.4933 - accuracy: 0.8041 - val_loss: 1.3581 - val_accuracy: 0.5564\n",
      "Epoch 14/40\n",
      "64/64 [==============================] - 7s 103ms/step - loss: 0.4229 - accuracy: 0.8354 - val_loss: 1.5738 - val_accuracy: 0.5370\n",
      "Epoch 15/40\n",
      "64/64 [==============================] - 7s 104ms/step - loss: 0.3721 - accuracy: 0.8570 - val_loss: 1.5796 - val_accuracy: 0.5611\n",
      "Epoch 16/40\n",
      "64/64 [==============================] - 7s 103ms/step - loss: 0.3230 - accuracy: 0.8783 - val_loss: 1.7560 - val_accuracy: 0.5373\n",
      "Epoch 17/40\n",
      "64/64 [==============================] - 7s 103ms/step - loss: 0.2837 - accuracy: 0.8938 - val_loss: 1.7609 - val_accuracy: 0.5623\n",
      "Epoch 18/40\n",
      "64/64 [==============================] - 7s 103ms/step - loss: 0.2511 - accuracy: 0.9067 - val_loss: 1.9516 - val_accuracy: 0.5076\n",
      "Epoch 19/40\n",
      "64/64 [==============================] - 7s 102ms/step - loss: 0.2217 - accuracy: 0.9183 - val_loss: 2.0542 - val_accuracy: 0.5285\n",
      "Epoch 20/40\n",
      "64/64 [==============================] - 7s 102ms/step - loss: 0.1988 - accuracy: 0.9275 - val_loss: 2.1024 - val_accuracy: 0.5347\n",
      "Epoch 21/40\n",
      "64/64 [==============================] - 6s 101ms/step - loss: 0.1801 - accuracy: 0.9343 - val_loss: 2.2035 - val_accuracy: 0.5667\n",
      "Epoch 22/40\n",
      "64/64 [==============================] - 7s 102ms/step - loss: 0.1684 - accuracy: 0.9375 - val_loss: 2.1734 - val_accuracy: 0.5170\n",
      "Epoch 23/40\n",
      "64/64 [==============================] - 7s 102ms/step - loss: 0.1434 - accuracy: 0.9482 - val_loss: 2.4083 - val_accuracy: 0.5308\n",
      "Epoch 24/40\n",
      "64/64 [==============================] - 7s 103ms/step - loss: 0.1237 - accuracy: 0.9539 - val_loss: 2.4312 - val_accuracy: 0.5226\n",
      "Epoch 25/40\n",
      "64/64 [==============================] - 7s 103ms/step - loss: 0.1201 - accuracy: 0.9578 - val_loss: 2.4830 - val_accuracy: 0.5388\n",
      "Epoch 26/40\n",
      "64/64 [==============================] - 7s 102ms/step - loss: 0.1063 - accuracy: 0.9614 - val_loss: 2.5932 - val_accuracy: 0.5179\n",
      "Epoch 27/40\n",
      "64/64 [==============================] - 7s 102ms/step - loss: 0.0976 - accuracy: 0.9651 - val_loss: 2.7564 - val_accuracy: 0.5347\n",
      "Epoch 28/40\n",
      "64/64 [==============================] - 7s 102ms/step - loss: 0.0882 - accuracy: 0.9688 - val_loss: 2.8412 - val_accuracy: 0.5355\n",
      "Epoch 29/40\n",
      "64/64 [==============================] - 7s 102ms/step - loss: 0.0770 - accuracy: 0.9732 - val_loss: 2.8936 - val_accuracy: 0.5238\n",
      "Epoch 30/40\n",
      "64/64 [==============================] - 7s 102ms/step - loss: 0.0734 - accuracy: 0.9747 - val_loss: 2.9843 - val_accuracy: 0.5526\n",
      "Epoch 31/40\n",
      "64/64 [==============================] - 6s 101ms/step - loss: 0.0607 - accuracy: 0.9798 - val_loss: 2.9052 - val_accuracy: 0.5361\n",
      "Epoch 32/40\n",
      "64/64 [==============================] - 6s 102ms/step - loss: 0.0562 - accuracy: 0.9819 - val_loss: 3.2042 - val_accuracy: 0.5376\n",
      "Epoch 33/40\n",
      "64/64 [==============================] - 7s 102ms/step - loss: 0.0542 - accuracy: 0.9821 - val_loss: 3.2641 - val_accuracy: 0.5435\n",
      "Epoch 34/40\n",
      "64/64 [==============================] - 7s 104ms/step - loss: 0.0575 - accuracy: 0.9813 - val_loss: 3.2583 - val_accuracy: 0.5435\n",
      "Epoch 35/40\n",
      "64/64 [==============================] - 7s 103ms/step - loss: 0.0426 - accuracy: 0.9865 - val_loss: 3.1215 - val_accuracy: 0.5494\n",
      "Epoch 36/40\n",
      "64/64 [==============================] - 7s 103ms/step - loss: 0.0486 - accuracy: 0.9839 - val_loss: 3.2699 - val_accuracy: 0.5259\n",
      "Epoch 37/40\n",
      "64/64 [==============================] - 7s 103ms/step - loss: 0.0429 - accuracy: 0.9869 - val_loss: 3.4214 - val_accuracy: 0.5206\n",
      "Epoch 38/40\n",
      "64/64 [==============================] - 7s 103ms/step - loss: 0.0376 - accuracy: 0.9885 - val_loss: 3.3856 - val_accuracy: 0.5350\n",
      "Epoch 39/40\n",
      "64/64 [==============================] - 7s 103ms/step - loss: 0.0318 - accuracy: 0.9900 - val_loss: 3.4356 - val_accuracy: 0.5432\n",
      "Epoch 40/40\n",
      "64/64 [==============================] - 7s 103ms/step - loss: 0.0296 - accuracy: 0.9912 - val_loss: 3.5382 - val_accuracy: 0.5402\n"
     ]
    }
   ],
   "source": [
    "import os\n",
    "if not os.path.exists('RNN_model.json'):\n",
    "    EPOCHS = 40       # NNs operate in epochs, meaning this is how many times the neural network will go through \n",
    "                      # the entire data\n",
    "    BATCH_SIZE = 480   # at each epoch, it will split the data into units of 48 samples, and train on those\n",
    "\n",
    "    train_X = train_X.reshape((-1, SEQUENCE_LENGTH))\n",
    "    RNN_model.fit(train_X, train_y,\n",
    "                   batch_size=BATCH_SIZE,\n",
    "                   epochs=EPOCHS,\n",
    "                   validation_data=(validation_X.reshape((-1, SEQUENCE_LENGTH)), validation_y))\n",
    "else:\n",
    "    print(\"Loading weights from h5 file\")\n",
    "    RNN_model.load_weights('RNN_model.h5')\n",
    "    print(\"Loaded weights from disk\")\n",
    "    print(\"No need to train, model is fully trained\")\n",
    "    loss_score, accuracy_score = RNN_model.evaluate(validation_X.reshape((-1, SEQUENCE_LENGTH)), \n",
    "                                                     validation_y, \n",
    "                                                     batch_size=480, \n",
    "                                                     verbose=1)\n",
    "    print(\"Accuracy score: \"+str(round(accuracy_score*100,2))+\"%\")\n",
    "    "
   ]
  },
  {
   "cell_type": "markdown",
   "metadata": {
    "colab_type": "text",
    "id": "o0K-yUL4bzZE"
   },
   "source": [
    "# Conclusion"
   ]
  },
  {
   "cell_type": "markdown",
   "metadata": {
    "colab_type": "text",
    "id": "UbzoXlntbzZF"
   },
   "source": [
    "This report presents a interpretable model to identify factors associated with positive or negative sentiment of customers about their orders left as a review score in an e-commerce setting to improve business processes and strategies. The data points are in form of transaction history where information about different aspects of the order exists in a seperate database. These databases are joined with the order database in the approperiate format to build the transaction history. The deliver delay and extra charge features are engineered based on intuitive relation with sentiment. Review scores are binned to binary variables to better represent the business problem and balance the dataset. VIF and L1 regularizations are used to filter for statistical significance. The results suggests that delay and overcharge have significant relationship with sentiment. \n",
    "\n",
    "To take accuracy of the model further, review comments are analyzed throught natural language processing techniques and machine learning algorithms. Initially, a logistic regression model is developed to identify the influential terms on review scores and create an accuracy baseline. To boost the prediction accuracy, advanced models are used. First, a random forest model is used to evaluate the accuracy of ensumble methods. The results suggested that using review comments a good or bad sentiment can be predicted with test accuracy of 89%! To push the prediction accuracy limits, deep learning is employed through neural networks algorithm that could achieve an accuracy of 96%! "
   ]
  }
 ],
 "metadata": {
  "colab": {
   "collapsed_sections": [
    "FSbjoRtZbzSq",
    "uIbjiuGnbzSx",
    "ofc4nBgHbzTn",
    "3UicNqhNbzVA",
    "sqfkiPtBbzWO",
    "kB3NXO_kbzWV",
    "vcJAyBuKbzW_"
   ],
   "name": "Sentiment Analysis.ipynb",
   "provenance": [],
   "toc_visible": true
  },
  "kernelspec": {
   "display_name": "Python 3",
   "language": "python",
   "name": "python3"
  },
  "language_info": {
   "codemirror_mode": {
    "name": "ipython",
    "version": 3
   },
   "file_extension": ".py",
   "mimetype": "text/x-python",
   "name": "python",
   "nbconvert_exporter": "python",
   "pygments_lexer": "ipython3",
   "version": "3.7.4"
  },
  "toc": {
   "base_numbering": 1,
   "nav_menu": {
    "height": "122px",
    "width": "170px"
   },
   "number_sections": true,
   "sideBar": true,
   "skip_h1_title": false,
   "title_cell": "Table of Contents",
   "title_sidebar": "Contents",
   "toc_cell": true,
   "toc_position": {
    "height": "calc(100% - 180px)",
    "left": "10px",
    "top": "150px",
    "width": "276px"
   },
   "toc_section_display": true,
   "toc_window_display": true
  }
 },
 "nbformat": 4,
 "nbformat_minor": 1
}
