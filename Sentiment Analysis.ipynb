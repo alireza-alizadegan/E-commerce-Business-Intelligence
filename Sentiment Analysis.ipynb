{
 "cells": [
  {
   "cell_type": "markdown",
   "metadata": {},
   "source": [
    "<img src='Cover Photo/Sentiment Analysis.png' style='height:450px'/>"
   ]
  },
  {
   "cell_type": "markdown",
   "metadata": {
    "toc": true
   },
   "source": [
    "<h1>Table of Contents<span class=\"tocSkip\"></span></h1>\n",
    "<div class=\"toc\"><ul class=\"toc-item\"><li><span><a href=\"#Problem-Statement\" data-toc-modified-id=\"Problem-Statement-1\"><span class=\"toc-item-num\">1&nbsp;&nbsp;</span>Problem Statement</a></span></li><li><span><a href=\"#Data-Cleaning\" data-toc-modified-id=\"Data-Cleaning-2\"><span class=\"toc-item-num\">2&nbsp;&nbsp;</span>Data Cleaning</a></span><ul class=\"toc-item\"><li><span><a href=\"#Order-Database\" data-toc-modified-id=\"Order-Database-2.1\"><span class=\"toc-item-num\">2.1&nbsp;&nbsp;</span>Order Database</a></span></li><li><span><a href=\"#Customer-Database\" data-toc-modified-id=\"Customer-Database-2.2\"><span class=\"toc-item-num\">2.2&nbsp;&nbsp;</span>Customer Database</a></span></li><li><span><a href=\"#Payment-Database\" data-toc-modified-id=\"Payment-Database-2.3\"><span class=\"toc-item-num\">2.3&nbsp;&nbsp;</span>Payment Database</a></span></li><li><span><a href=\"#Review-Database\" data-toc-modified-id=\"Review-Database-2.4\"><span class=\"toc-item-num\">2.4&nbsp;&nbsp;</span>Review Database</a></span></li><li><span><a href=\"#Item-Database\" data-toc-modified-id=\"Item-Database-2.5\"><span class=\"toc-item-num\">2.5&nbsp;&nbsp;</span>Item Database</a></span></li><li><span><a href=\"#Product-Database\" data-toc-modified-id=\"Product-Database-2.6\"><span class=\"toc-item-num\">2.6&nbsp;&nbsp;</span>Product Database</a></span></li><li><span><a href=\"#Translation-Database\" data-toc-modified-id=\"Translation-Database-2.7\"><span class=\"toc-item-num\">2.7&nbsp;&nbsp;</span>Translation Database</a></span></li><li><span><a href=\"#Seller-Database\" data-toc-modified-id=\"Seller-Database-2.8\"><span class=\"toc-item-num\">2.8&nbsp;&nbsp;</span>Seller Database</a></span></li><li><span><a href=\"#Database-Joins\" data-toc-modified-id=\"Database-Joins-2.9\"><span class=\"toc-item-num\">2.9&nbsp;&nbsp;</span>Database Joins</a></span></li></ul></li><li><span><a href=\"#Feature-Engineering\" data-toc-modified-id=\"Feature-Engineering-3\"><span class=\"toc-item-num\">3&nbsp;&nbsp;</span>Feature Engineering</a></span><ul class=\"toc-item\"><li><span><a href=\"#Delivery-Delay\" data-toc-modified-id=\"Delivery-Delay-3.1\"><span class=\"toc-item-num\">3.1&nbsp;&nbsp;</span>Delivery Delay</a></span></li><li><span><a href=\"#Extra-Charge\" data-toc-modified-id=\"Extra-Charge-3.2\"><span class=\"toc-item-num\">3.2&nbsp;&nbsp;</span>Extra Charge</a></span></li></ul></li><li><span><a href=\"#Exploratory-Data-Analytics\" data-toc-modified-id=\"Exploratory-Data-Analytics-4\"><span class=\"toc-item-num\">4&nbsp;&nbsp;</span>Exploratory Data Analytics</a></span><ul class=\"toc-item\"><li><span><a href=\"#Score-Distribution\" data-toc-modified-id=\"Score-Distribution-4.1\"><span class=\"toc-item-num\">4.1&nbsp;&nbsp;</span>Score Distribution</a></span></li><li><span><a href=\"#Delivery-Delay\" data-toc-modified-id=\"Delivery-Delay-4.2\"><span class=\"toc-item-num\">4.2&nbsp;&nbsp;</span>Delivery Delay</a></span></li><li><span><a href=\"#Overcharge\" data-toc-modified-id=\"Overcharge-4.3\"><span class=\"toc-item-num\">4.3&nbsp;&nbsp;</span>Overcharge</a></span></li><li><span><a href=\"#Review-Comment\" data-toc-modified-id=\"Review-Comment-4.4\"><span class=\"toc-item-num\">4.4&nbsp;&nbsp;</span>Review Comment</a></span></li><li><span><a href=\"#Price\" data-toc-modified-id=\"Price-4.5\"><span class=\"toc-item-num\">4.5&nbsp;&nbsp;</span>Price</a></span></li><li><span><a href=\"#Freight\" data-toc-modified-id=\"Freight-4.6\"><span class=\"toc-item-num\">4.6&nbsp;&nbsp;</span>Freight</a></span></li></ul></li><li><span><a href=\"#Correlation-Analysis\" data-toc-modified-id=\"Correlation-Analysis-5\"><span class=\"toc-item-num\">5&nbsp;&nbsp;</span>Correlation Analysis</a></span></li><li><span><a href=\"#Logistic-Regression\" data-toc-modified-id=\"Logistic-Regression-6\"><span class=\"toc-item-num\">6&nbsp;&nbsp;</span>Logistic Regression</a></span><ul class=\"toc-item\"><li><span><a href=\"#Baseline-model\" data-toc-modified-id=\"Baseline-model-6.1\"><span class=\"toc-item-num\">6.1&nbsp;&nbsp;</span>Baseline model</a></span></li><li><span><a href=\"#Variance-Inflation-Factor\" data-toc-modified-id=\"Variance-Inflation-Factor-6.2\"><span class=\"toc-item-num\">6.2&nbsp;&nbsp;</span>Variance Inflation Factor</a></span></li><li><span><a href=\"#L1-Regularization\" data-toc-modified-id=\"L1-Regularization-6.3\"><span class=\"toc-item-num\">6.3&nbsp;&nbsp;</span>L1 Regularization</a></span></li></ul></li><li><span><a href=\"#Natural-Language-Processing\" data-toc-modified-id=\"Natural-Language-Processing-7\"><span class=\"toc-item-num\">7&nbsp;&nbsp;</span>Natural Language Processing</a></span><ul class=\"toc-item\"><li><span><a href=\"#Text-Cleaning\" data-toc-modified-id=\"Text-Cleaning-7.1\"><span class=\"toc-item-num\">7.1&nbsp;&nbsp;</span>Text Cleaning</a></span></li><li><span><a href=\"#Logistic-Regression\" data-toc-modified-id=\"Logistic-Regression-7.2\"><span class=\"toc-item-num\">7.2&nbsp;&nbsp;</span>Logistic Regression</a></span></li><li><span><a href=\"#Random-Forest-Model\" data-toc-modified-id=\"Random-Forest-Model-7.3\"><span class=\"toc-item-num\">7.3&nbsp;&nbsp;</span>Random Forest Model</a></span></li><li><span><a href=\"#Multilayer-Perceptron\" data-toc-modified-id=\"Multilayer-Perceptron-7.4\"><span class=\"toc-item-num\">7.4&nbsp;&nbsp;</span>Multilayer Perceptron</a></span></li><li><span><a href=\"#Feed-Forward-Neural-Network\" data-toc-modified-id=\"Feed-Forward-Neural-Network-7.5\"><span class=\"toc-item-num\">7.5&nbsp;&nbsp;</span>Feed-Forward Neural Network</a></span></li><li><span><a href=\"#Recurrent-Neural-Network\" data-toc-modified-id=\"Recurrent-Neural-Network-7.6\"><span class=\"toc-item-num\">7.6&nbsp;&nbsp;</span>Recurrent Neural Network</a></span></li></ul></li><li><span><a href=\"#Conclusion\" data-toc-modified-id=\"Conclusion-8\"><span class=\"toc-item-num\">8&nbsp;&nbsp;</span>Conclusion</a></span></li></ul></div>"
   ]
  },
  {
   "cell_type": "markdown",
   "metadata": {},
   "source": [
    "# Problem Statement"
   ]
  },
  {
   "cell_type": "markdown",
   "metadata": {},
   "source": [
    "This report presents a interpretable model to identify factors associated with positive or negative sentiment of customers about their orders left as a review score in an e-commerce setting. These factors can be used to improve business processes and strategies. The data is obtained from a [public repository](https://www.kaggle.com/olistbr/brazilian-ecommerce) where information about the data can be found."
   ]
  },
  {
   "cell_type": "markdown",
   "metadata": {},
   "source": [
    "# Data Cleaning"
   ]
  },
  {
   "cell_type": "code",
   "execution_count": 3,
   "metadata": {
    "scrolled": true
   },
   "outputs": [],
   "source": [
    "# frequently used python libraries\n",
    "import numpy as np\n",
    "import pandas as pd\n",
    "import matplotlib.pyplot as plt\n",
    "import warnings\n",
    "warnings.filterwarnings('ignore')"
   ]
  },
  {
   "cell_type": "markdown",
   "metadata": {},
   "source": [
    "## Order Database"
   ]
  },
  {
   "cell_type": "code",
   "execution_count": 3,
   "metadata": {
    "scrolled": true
   },
   "outputs": [
    {
     "name": "stdout",
     "output_type": "stream",
     "text": [
      "<class 'pandas.core.frame.DataFrame'>\n",
      "RangeIndex: 99441 entries, 0 to 99440\n",
      "Data columns (total 8 columns):\n",
      "order_id                         99441 non-null object\n",
      "customer_id                      99441 non-null object\n",
      "order_status                     99441 non-null object\n",
      "order_purchase_timestamp         99441 non-null object\n",
      "order_approved_at                99281 non-null object\n",
      "order_delivered_carrier_date     97658 non-null object\n",
      "order_delivered_customer_date    96476 non-null object\n",
      "order_estimated_delivery_date    99441 non-null object\n",
      "dtypes: object(8)\n",
      "memory usage: 6.1+ MB\n"
     ]
    }
   ],
   "source": [
    "# read data and show its high-level information\n",
    "order_df = pd.read_csv('olist_orders_dataset.csv')\n",
    "order_df.info()"
   ]
  },
  {
   "cell_type": "code",
   "execution_count": 4,
   "metadata": {
    "scrolled": true
   },
   "outputs": [
    {
     "data": {
      "text/plain": [
       "Index(['order_id', 'customer_id', 'order_delivered_customer_date',\n",
       "       'order_estimated_delivery_date'],\n",
       "      dtype='object')"
      ]
     },
     "execution_count": 4,
     "metadata": {},
     "output_type": "execute_result"
    }
   ],
   "source": [
    "# drop irrelevant columns\n",
    "order_df.drop(['order_status',\n",
    "               'order_delivered_carrier_date',\n",
    "               'order_approved_at',\n",
    "               'order_purchase_timestamp'], axis='columns', inplace=True)\n",
    "order_df.columns"
   ]
  },
  {
   "cell_type": "code",
   "execution_count": 5,
   "metadata": {
    "scrolled": false
   },
   "outputs": [
    {
     "data": {
      "text/plain": [
       "order_id                                 object\n",
       "customer_id                              object\n",
       "order_delivered_customer_date    datetime64[ns]\n",
       "order_estimated_delivery_date    datetime64[ns]\n",
       "dtype: object"
      ]
     },
     "execution_count": 5,
     "metadata": {},
     "output_type": "execute_result"
    }
   ],
   "source": [
    "# assign datetime data type for date/time columns  \n",
    "from datetime import datetime, date\n",
    "for column in ['order_delivered_customer_date', 'order_estimated_delivery_date']:\n",
    "    order_df[column] = pd.to_datetime(order_df[column])\n",
    "order_df.dtypes"
   ]
  },
  {
   "cell_type": "code",
   "execution_count": 6,
   "metadata": {
    "scrolled": true
   },
   "outputs": [
    {
     "data": {
      "text/html": [
       "<div>\n",
       "<style scoped>\n",
       "    .dataframe tbody tr th:only-of-type {\n",
       "        vertical-align: middle;\n",
       "    }\n",
       "\n",
       "    .dataframe tbody tr th {\n",
       "        vertical-align: top;\n",
       "    }\n",
       "\n",
       "    .dataframe thead th {\n",
       "        text-align: right;\n",
       "    }\n",
       "</style>\n",
       "<table border=\"1\" class=\"dataframe\">\n",
       "  <thead>\n",
       "    <tr style=\"text-align: right;\">\n",
       "      <th></th>\n",
       "      <th>order_id</th>\n",
       "      <th>customer_id</th>\n",
       "      <th>order_delivered_customer_date</th>\n",
       "      <th>order_estimated_delivery_date</th>\n",
       "    </tr>\n",
       "  </thead>\n",
       "  <tbody>\n",
       "  </tbody>\n",
       "</table>\n",
       "</div>"
      ],
      "text/plain": [
       "Empty DataFrame\n",
       "Columns: [order_id, customer_id, order_delivered_customer_date, order_estimated_delivery_date]\n",
       "Index: []"
      ]
     },
     "execution_count": 6,
     "metadata": {},
     "output_type": "execute_result"
    }
   ],
   "source": [
    "# duplicate rows of dataframe\n",
    "order_df[order_df.duplicated()]"
   ]
  },
  {
   "cell_type": "code",
   "execution_count": 7,
   "metadata": {
    "scrolled": false
   },
   "outputs": [
    {
     "data": {
      "text/html": [
       "<div>\n",
       "<style scoped>\n",
       "    .dataframe tbody tr th:only-of-type {\n",
       "        vertical-align: middle;\n",
       "    }\n",
       "\n",
       "    .dataframe tbody tr th {\n",
       "        vertical-align: top;\n",
       "    }\n",
       "\n",
       "    .dataframe thead th {\n",
       "        text-align: right;\n",
       "    }\n",
       "</style>\n",
       "<table border=\"1\" class=\"dataframe\">\n",
       "  <thead>\n",
       "    <tr style=\"text-align: right;\">\n",
       "      <th></th>\n",
       "      <th>order_id</th>\n",
       "      <th>customer_id</th>\n",
       "      <th>order_delivered_customer_date</th>\n",
       "      <th>order_estimated_delivery_date</th>\n",
       "    </tr>\n",
       "  </thead>\n",
       "  <tbody>\n",
       "    <tr>\n",
       "      <td>0</td>\n",
       "      <td>e481f51cbdc54678b7cc49136f2d6af7</td>\n",
       "      <td>9ef432eb6251297304e76186b10a928d</td>\n",
       "      <td>2017-10-10 21:25:13</td>\n",
       "      <td>2017-10-18</td>\n",
       "    </tr>\n",
       "    <tr>\n",
       "      <td>1</td>\n",
       "      <td>53cdb2fc8bc7dce0b6741e2150273451</td>\n",
       "      <td>b0830fb4747a6c6d20dea0b8c802d7ef</td>\n",
       "      <td>2018-08-07 15:27:45</td>\n",
       "      <td>2018-08-13</td>\n",
       "    </tr>\n",
       "    <tr>\n",
       "      <td>2</td>\n",
       "      <td>47770eb9100c2d0c44946d9cf07ec65d</td>\n",
       "      <td>41ce2a54c0b03bf3443c3d931a367089</td>\n",
       "      <td>2018-08-17 18:06:29</td>\n",
       "      <td>2018-09-04</td>\n",
       "    </tr>\n",
       "    <tr>\n",
       "      <td>3</td>\n",
       "      <td>949d5b44dbf5de918fe9c16f97b45f8a</td>\n",
       "      <td>f88197465ea7920adcdbec7375364d82</td>\n",
       "      <td>2017-12-02 00:28:42</td>\n",
       "      <td>2017-12-15</td>\n",
       "    </tr>\n",
       "    <tr>\n",
       "      <td>4</td>\n",
       "      <td>ad21c59c0840e6cb83a9ceb5573f8159</td>\n",
       "      <td>8ab97904e6daea8866dbdbc4fb7aad2c</td>\n",
       "      <td>2018-02-16 18:17:02</td>\n",
       "      <td>2018-02-26</td>\n",
       "    </tr>\n",
       "  </tbody>\n",
       "</table>\n",
       "</div>"
      ],
      "text/plain": [
       "                           order_id                       customer_id  \\\n",
       "0  e481f51cbdc54678b7cc49136f2d6af7  9ef432eb6251297304e76186b10a928d   \n",
       "1  53cdb2fc8bc7dce0b6741e2150273451  b0830fb4747a6c6d20dea0b8c802d7ef   \n",
       "2  47770eb9100c2d0c44946d9cf07ec65d  41ce2a54c0b03bf3443c3d931a367089   \n",
       "3  949d5b44dbf5de918fe9c16f97b45f8a  f88197465ea7920adcdbec7375364d82   \n",
       "4  ad21c59c0840e6cb83a9ceb5573f8159  8ab97904e6daea8866dbdbc4fb7aad2c   \n",
       "\n",
       "  order_delivered_customer_date order_estimated_delivery_date  \n",
       "0           2017-10-10 21:25:13                    2017-10-18  \n",
       "1           2018-08-07 15:27:45                    2018-08-13  \n",
       "2           2018-08-17 18:06:29                    2018-09-04  \n",
       "3           2017-12-02 00:28:42                    2017-12-15  \n",
       "4           2018-02-16 18:17:02                    2018-02-26  "
      ]
     },
     "execution_count": 7,
     "metadata": {},
     "output_type": "execute_result"
    }
   ],
   "source": [
    "# head of values\n",
    "order_df.head()"
   ]
  },
  {
   "cell_type": "markdown",
   "metadata": {},
   "source": [
    "## Customer Database"
   ]
  },
  {
   "cell_type": "code",
   "execution_count": 8,
   "metadata": {
    "scrolled": true
   },
   "outputs": [
    {
     "name": "stdout",
     "output_type": "stream",
     "text": [
      "<class 'pandas.core.frame.DataFrame'>\n",
      "RangeIndex: 99441 entries, 0 to 99440\n",
      "Data columns (total 5 columns):\n",
      "customer_id                 99441 non-null object\n",
      "customer_unique_id          99441 non-null object\n",
      "customer_zip_code_prefix    99441 non-null int64\n",
      "customer_city               99441 non-null object\n",
      "customer_state              99441 non-null object\n",
      "dtypes: int64(1), object(4)\n",
      "memory usage: 3.8+ MB\n"
     ]
    }
   ],
   "source": [
    "# read data and show its high-level information\n",
    "customer_df = pd.read_csv('olist_customers_dataset.csv')\n",
    "customer_df.info()"
   ]
  },
  {
   "cell_type": "code",
   "execution_count": 9,
   "metadata": {
    "scrolled": false
   },
   "outputs": [],
   "source": [
    "# drop irrelevant columns\n",
    "customer_df.drop(['customer_zip_code_prefix',\n",
    "                  'customer_city'], axis='columns', inplace=True)"
   ]
  },
  {
   "cell_type": "code",
   "execution_count": 10,
   "metadata": {
    "scrolled": true
   },
   "outputs": [
    {
     "data": {
      "text/plain": [
       "customer_id           99441\n",
       "customer_unique_id    96096\n",
       "customer_state           27\n",
       "dtype: int64"
      ]
     },
     "execution_count": 10,
     "metadata": {},
     "output_type": "execute_result"
    }
   ],
   "source": [
    "customer_df.nunique()"
   ]
  },
  {
   "cell_type": "code",
   "execution_count": 11,
   "metadata": {
    "scrolled": true
   },
   "outputs": [
    {
     "data": {
      "text/html": [
       "<div>\n",
       "<style scoped>\n",
       "    .dataframe tbody tr th:only-of-type {\n",
       "        vertical-align: middle;\n",
       "    }\n",
       "\n",
       "    .dataframe tbody tr th {\n",
       "        vertical-align: top;\n",
       "    }\n",
       "\n",
       "    .dataframe thead th {\n",
       "        text-align: right;\n",
       "    }\n",
       "</style>\n",
       "<table border=\"1\" class=\"dataframe\">\n",
       "  <thead>\n",
       "    <tr style=\"text-align: right;\">\n",
       "      <th></th>\n",
       "      <th>customer_id</th>\n",
       "      <th>customer_unique_id</th>\n",
       "      <th>customer_state</th>\n",
       "    </tr>\n",
       "  </thead>\n",
       "  <tbody>\n",
       "  </tbody>\n",
       "</table>\n",
       "</div>"
      ],
      "text/plain": [
       "Empty DataFrame\n",
       "Columns: [customer_id, customer_unique_id, customer_state]\n",
       "Index: []"
      ]
     },
     "execution_count": 11,
     "metadata": {},
     "output_type": "execute_result"
    }
   ],
   "source": [
    "# duplicate rows of dataframe\n",
    "customer_df[customer_df.duplicated()]"
   ]
  },
  {
   "cell_type": "code",
   "execution_count": 12,
   "metadata": {
    "scrolled": true
   },
   "outputs": [
    {
     "data": {
      "text/html": [
       "<div>\n",
       "<style scoped>\n",
       "    .dataframe tbody tr th:only-of-type {\n",
       "        vertical-align: middle;\n",
       "    }\n",
       "\n",
       "    .dataframe tbody tr th {\n",
       "        vertical-align: top;\n",
       "    }\n",
       "\n",
       "    .dataframe thead th {\n",
       "        text-align: right;\n",
       "    }\n",
       "</style>\n",
       "<table border=\"1\" class=\"dataframe\">\n",
       "  <thead>\n",
       "    <tr style=\"text-align: right;\">\n",
       "      <th></th>\n",
       "      <th>customer_id</th>\n",
       "      <th>customer_unique_id</th>\n",
       "      <th>customer_state</th>\n",
       "    </tr>\n",
       "  </thead>\n",
       "  <tbody>\n",
       "    <tr>\n",
       "      <td>0</td>\n",
       "      <td>06b8999e2fba1a1fbc88172c00ba8bc7</td>\n",
       "      <td>861eff4711a542e4b93843c6dd7febb0</td>\n",
       "      <td>SP</td>\n",
       "    </tr>\n",
       "    <tr>\n",
       "      <td>1</td>\n",
       "      <td>18955e83d337fd6b2def6b18a428ac77</td>\n",
       "      <td>290c77bc529b7ac935b93aa66c333dc3</td>\n",
       "      <td>SP</td>\n",
       "    </tr>\n",
       "    <tr>\n",
       "      <td>2</td>\n",
       "      <td>4e7b3e00288586ebd08712fdd0374a03</td>\n",
       "      <td>060e732b5b29e8181a18229c7b0b2b5e</td>\n",
       "      <td>SP</td>\n",
       "    </tr>\n",
       "    <tr>\n",
       "      <td>3</td>\n",
       "      <td>b2b6027bc5c5109e529d4dc6358b12c3</td>\n",
       "      <td>259dac757896d24d7702b9acbbff3f3c</td>\n",
       "      <td>SP</td>\n",
       "    </tr>\n",
       "    <tr>\n",
       "      <td>4</td>\n",
       "      <td>4f2d8ab171c80ec8364f7c12e35b23ad</td>\n",
       "      <td>345ecd01c38d18a9036ed96c73b8d066</td>\n",
       "      <td>SP</td>\n",
       "    </tr>\n",
       "  </tbody>\n",
       "</table>\n",
       "</div>"
      ],
      "text/plain": [
       "                        customer_id                customer_unique_id  \\\n",
       "0  06b8999e2fba1a1fbc88172c00ba8bc7  861eff4711a542e4b93843c6dd7febb0   \n",
       "1  18955e83d337fd6b2def6b18a428ac77  290c77bc529b7ac935b93aa66c333dc3   \n",
       "2  4e7b3e00288586ebd08712fdd0374a03  060e732b5b29e8181a18229c7b0b2b5e   \n",
       "3  b2b6027bc5c5109e529d4dc6358b12c3  259dac757896d24d7702b9acbbff3f3c   \n",
       "4  4f2d8ab171c80ec8364f7c12e35b23ad  345ecd01c38d18a9036ed96c73b8d066   \n",
       "\n",
       "  customer_state  \n",
       "0             SP  \n",
       "1             SP  \n",
       "2             SP  \n",
       "3             SP  \n",
       "4             SP  "
      ]
     },
     "execution_count": 12,
     "metadata": {},
     "output_type": "execute_result"
    }
   ],
   "source": [
    "# head of values\n",
    "customer_df.head()"
   ]
  },
  {
   "cell_type": "markdown",
   "metadata": {},
   "source": [
    "## Payment Database"
   ]
  },
  {
   "cell_type": "code",
   "execution_count": 13,
   "metadata": {
    "scrolled": false
   },
   "outputs": [
    {
     "name": "stdout",
     "output_type": "stream",
     "text": [
      "<class 'pandas.core.frame.DataFrame'>\n",
      "RangeIndex: 103886 entries, 0 to 103885\n",
      "Data columns (total 5 columns):\n",
      "order_id                103886 non-null object\n",
      "payment_sequential      103886 non-null int64\n",
      "payment_type            103886 non-null object\n",
      "payment_installments    103886 non-null int64\n",
      "payment_value           103886 non-null float64\n",
      "dtypes: float64(1), int64(2), object(2)\n",
      "memory usage: 4.0+ MB\n"
     ]
    }
   ],
   "source": [
    "# read data and show its high-level information\n",
    "payment_df = pd.read_csv('olist_order_payments_dataset.csv')\n",
    "payment_df.info()"
   ]
  },
  {
   "cell_type": "code",
   "execution_count": 14,
   "metadata": {
    "scrolled": false
   },
   "outputs": [
    {
     "data": {
      "text/plain": [
       "99440"
      ]
     },
     "execution_count": 14,
     "metadata": {},
     "output_type": "execute_result"
    }
   ],
   "source": [
    "payment_df.order_id.nunique()"
   ]
  },
  {
   "cell_type": "code",
   "execution_count": 15,
   "metadata": {
    "scrolled": false
   },
   "outputs": [
    {
     "data": {
      "text/html": [
       "<div>\n",
       "<style scoped>\n",
       "    .dataframe tbody tr th:only-of-type {\n",
       "        vertical-align: middle;\n",
       "    }\n",
       "\n",
       "    .dataframe tbody tr th {\n",
       "        vertical-align: top;\n",
       "    }\n",
       "\n",
       "    .dataframe thead th {\n",
       "        text-align: right;\n",
       "    }\n",
       "</style>\n",
       "<table border=\"1\" class=\"dataframe\">\n",
       "  <thead>\n",
       "    <tr style=\"text-align: right;\">\n",
       "      <th></th>\n",
       "      <th>order_id</th>\n",
       "      <th>payment_sequential</th>\n",
       "      <th>payment_type</th>\n",
       "      <th>payment_installments</th>\n",
       "      <th>payment_value</th>\n",
       "    </tr>\n",
       "  </thead>\n",
       "  <tbody>\n",
       "    <tr>\n",
       "      <td>0</td>\n",
       "      <td>b81ef226f3fe1789b1e8b2acac839d17</td>\n",
       "      <td>1</td>\n",
       "      <td>credit_card</td>\n",
       "      <td>8</td>\n",
       "      <td>99.33</td>\n",
       "    </tr>\n",
       "    <tr>\n",
       "      <td>1</td>\n",
       "      <td>a9810da82917af2d9aefd1278f1dcfa0</td>\n",
       "      <td>1</td>\n",
       "      <td>credit_card</td>\n",
       "      <td>1</td>\n",
       "      <td>24.39</td>\n",
       "    </tr>\n",
       "    <tr>\n",
       "      <td>2</td>\n",
       "      <td>25e8ea4e93396b6fa0d3dd708e76c1bd</td>\n",
       "      <td>1</td>\n",
       "      <td>credit_card</td>\n",
       "      <td>1</td>\n",
       "      <td>65.71</td>\n",
       "    </tr>\n",
       "    <tr>\n",
       "      <td>3</td>\n",
       "      <td>ba78997921bbcdc1373bb41e913ab953</td>\n",
       "      <td>1</td>\n",
       "      <td>credit_card</td>\n",
       "      <td>8</td>\n",
       "      <td>107.78</td>\n",
       "    </tr>\n",
       "    <tr>\n",
       "      <td>4</td>\n",
       "      <td>42fdf880ba16b47b59251dd489d4441a</td>\n",
       "      <td>1</td>\n",
       "      <td>credit_card</td>\n",
       "      <td>2</td>\n",
       "      <td>128.45</td>\n",
       "    </tr>\n",
       "  </tbody>\n",
       "</table>\n",
       "</div>"
      ],
      "text/plain": [
       "                           order_id  payment_sequential payment_type  \\\n",
       "0  b81ef226f3fe1789b1e8b2acac839d17                   1  credit_card   \n",
       "1  a9810da82917af2d9aefd1278f1dcfa0                   1  credit_card   \n",
       "2  25e8ea4e93396b6fa0d3dd708e76c1bd                   1  credit_card   \n",
       "3  ba78997921bbcdc1373bb41e913ab953                   1  credit_card   \n",
       "4  42fdf880ba16b47b59251dd489d4441a                   1  credit_card   \n",
       "\n",
       "   payment_installments  payment_value  \n",
       "0                     8          99.33  \n",
       "1                     1          24.39  \n",
       "2                     1          65.71  \n",
       "3                     8         107.78  \n",
       "4                     2         128.45  "
      ]
     },
     "execution_count": 15,
     "metadata": {},
     "output_type": "execute_result"
    }
   ],
   "source": [
    "# head of values\n",
    "payment_df.head()"
   ]
  },
  {
   "cell_type": "code",
   "execution_count": 16,
   "metadata": {
    "scrolled": true
   },
   "outputs": [
    {
     "data": {
      "text/html": [
       "<div>\n",
       "<style scoped>\n",
       "    .dataframe tbody tr th:only-of-type {\n",
       "        vertical-align: middle;\n",
       "    }\n",
       "\n",
       "    .dataframe tbody tr th {\n",
       "        vertical-align: top;\n",
       "    }\n",
       "\n",
       "    .dataframe thead th {\n",
       "        text-align: right;\n",
       "    }\n",
       "</style>\n",
       "<table border=\"1\" class=\"dataframe\">\n",
       "  <thead>\n",
       "    <tr style=\"text-align: right;\">\n",
       "      <th></th>\n",
       "      <th>payment_sequential</th>\n",
       "      <th>payment_installments</th>\n",
       "      <th>payment_value</th>\n",
       "    </tr>\n",
       "  </thead>\n",
       "  <tbody>\n",
       "    <tr>\n",
       "      <td>count</td>\n",
       "      <td>103886.000000</td>\n",
       "      <td>103886.000000</td>\n",
       "      <td>103886.000000</td>\n",
       "    </tr>\n",
       "    <tr>\n",
       "      <td>mean</td>\n",
       "      <td>1.092679</td>\n",
       "      <td>2.853349</td>\n",
       "      <td>154.100380</td>\n",
       "    </tr>\n",
       "    <tr>\n",
       "      <td>std</td>\n",
       "      <td>0.706584</td>\n",
       "      <td>2.687051</td>\n",
       "      <td>217.494064</td>\n",
       "    </tr>\n",
       "    <tr>\n",
       "      <td>min</td>\n",
       "      <td>1.000000</td>\n",
       "      <td>0.000000</td>\n",
       "      <td>0.000000</td>\n",
       "    </tr>\n",
       "    <tr>\n",
       "      <td>25%</td>\n",
       "      <td>1.000000</td>\n",
       "      <td>1.000000</td>\n",
       "      <td>56.790000</td>\n",
       "    </tr>\n",
       "    <tr>\n",
       "      <td>50%</td>\n",
       "      <td>1.000000</td>\n",
       "      <td>1.000000</td>\n",
       "      <td>100.000000</td>\n",
       "    </tr>\n",
       "    <tr>\n",
       "      <td>75%</td>\n",
       "      <td>1.000000</td>\n",
       "      <td>4.000000</td>\n",
       "      <td>171.837500</td>\n",
       "    </tr>\n",
       "    <tr>\n",
       "      <td>max</td>\n",
       "      <td>29.000000</td>\n",
       "      <td>24.000000</td>\n",
       "      <td>13664.080000</td>\n",
       "    </tr>\n",
       "  </tbody>\n",
       "</table>\n",
       "</div>"
      ],
      "text/plain": [
       "       payment_sequential  payment_installments  payment_value\n",
       "count       103886.000000         103886.000000  103886.000000\n",
       "mean             1.092679              2.853349     154.100380\n",
       "std              0.706584              2.687051     217.494064\n",
       "min              1.000000              0.000000       0.000000\n",
       "25%              1.000000              1.000000      56.790000\n",
       "50%              1.000000              1.000000     100.000000\n",
       "75%              1.000000              4.000000     171.837500\n",
       "max             29.000000             24.000000   13664.080000"
      ]
     },
     "execution_count": 16,
     "metadata": {},
     "output_type": "execute_result"
    }
   ],
   "source": [
    "payment_df.describe()"
   ]
  },
  {
   "cell_type": "code",
   "execution_count": 17,
   "metadata": {
    "scrolled": false
   },
   "outputs": [
    {
     "data": {
      "text/plain": [
       "order_id                99440\n",
       "payment_sequential         29\n",
       "payment_type                5\n",
       "payment_installments       24\n",
       "payment_value           29077\n",
       "dtype: int64"
      ]
     },
     "execution_count": 17,
     "metadata": {},
     "output_type": "execute_result"
    }
   ],
   "source": [
    "payment_df.nunique()"
   ]
  },
  {
   "cell_type": "code",
   "execution_count": 18,
   "metadata": {
    "scrolled": true
   },
   "outputs": [
    {
     "data": {
      "text/html": [
       "<div>\n",
       "<style scoped>\n",
       "    .dataframe tbody tr th:only-of-type {\n",
       "        vertical-align: middle;\n",
       "    }\n",
       "\n",
       "    .dataframe tbody tr th {\n",
       "        vertical-align: top;\n",
       "    }\n",
       "\n",
       "    .dataframe thead th {\n",
       "        text-align: right;\n",
       "    }\n",
       "</style>\n",
       "<table border=\"1\" class=\"dataframe\">\n",
       "  <thead>\n",
       "    <tr style=\"text-align: right;\">\n",
       "      <th></th>\n",
       "      <th>order_id</th>\n",
       "      <th>payment_sequential</th>\n",
       "      <th>payment_type</th>\n",
       "      <th>payment_installments</th>\n",
       "      <th>payment_value</th>\n",
       "    </tr>\n",
       "  </thead>\n",
       "  <tbody>\n",
       "  </tbody>\n",
       "</table>\n",
       "</div>"
      ],
      "text/plain": [
       "Empty DataFrame\n",
       "Columns: [order_id, payment_sequential, payment_type, payment_installments, payment_value]\n",
       "Index: []"
      ]
     },
     "execution_count": 18,
     "metadata": {},
     "output_type": "execute_result"
    }
   ],
   "source": [
    "# duplicate rows of dataframe\n",
    "payment_df[payment_df.duplicated()]"
   ]
  },
  {
   "cell_type": "markdown",
   "metadata": {},
   "source": [
    "## Review Database"
   ]
  },
  {
   "cell_type": "code",
   "execution_count": 19,
   "metadata": {
    "scrolled": false
   },
   "outputs": [
    {
     "name": "stdout",
     "output_type": "stream",
     "text": [
      "<class 'pandas.core.frame.DataFrame'>\n",
      "RangeIndex: 100000 entries, 0 to 99999\n",
      "Data columns (total 7 columns):\n",
      "review_id                  100000 non-null object\n",
      "order_id                   100000 non-null object\n",
      "review_score               100000 non-null int64\n",
      "review_comment_title       11715 non-null object\n",
      "review_comment_message     41753 non-null object\n",
      "review_creation_date       100000 non-null object\n",
      "review_answer_timestamp    100000 non-null object\n",
      "dtypes: int64(1), object(6)\n",
      "memory usage: 5.3+ MB\n"
     ]
    }
   ],
   "source": [
    "# read data and show its high-level information\n",
    "review_df = pd.read_csv('olist_order_reviews_dataset.csv')\n",
    "review_df.info()"
   ]
  },
  {
   "cell_type": "code",
   "execution_count": 20,
   "metadata": {
    "scrolled": true
   },
   "outputs": [
    {
     "data": {
      "text/plain": [
       "Index(['order_id', 'review_score', 'review_comment_title',\n",
       "       'review_comment_message'],\n",
       "      dtype='object')"
      ]
     },
     "execution_count": 20,
     "metadata": {},
     "output_type": "execute_result"
    }
   ],
   "source": [
    "# drop irrelevant columns\n",
    "review_df.drop(['review_id',\n",
    "                'review_creation_date',\n",
    "                'review_answer_timestamp'], axis='columns', inplace=True)\n",
    "review_df.columns"
   ]
  },
  {
   "cell_type": "code",
   "execution_count": 21,
   "metadata": {
    "scrolled": true
   },
   "outputs": [
    {
     "name": "stdout",
     "output_type": "stream",
     "text": [
      "<class 'pandas.core.frame.DataFrame'>\n",
      "RangeIndex: 100000 entries, 0 to 99999\n",
      "Data columns (total 4 columns):\n",
      "order_id                  100000 non-null object\n",
      "review_score              100000 non-null int64\n",
      "review_comment_title      100000 non-null int64\n",
      "review_comment_message    100000 non-null int64\n",
      "dtypes: int64(3), object(1)\n",
      "memory usage: 3.1+ MB\n"
     ]
    }
   ],
   "source": [
    "for columns in ['review_comment_title', 'review_comment_message']:\n",
    "    # replace present values with 1\n",
    "    review_df.loc[review_df[columns].notnull(), columns] = 1\n",
    "    # replace null values with 0\n",
    "    review_df.loc[review_df[columns].isna(), columns] = 0\n",
    "review_df.info()"
   ]
  },
  {
   "cell_type": "code",
   "execution_count": 22,
   "metadata": {
    "scrolled": true
   },
   "outputs": [
    {
     "data": {
      "text/html": [
       "<div>\n",
       "<style scoped>\n",
       "    .dataframe tbody tr th:only-of-type {\n",
       "        vertical-align: middle;\n",
       "    }\n",
       "\n",
       "    .dataframe tbody tr th {\n",
       "        vertical-align: top;\n",
       "    }\n",
       "\n",
       "    .dataframe thead th {\n",
       "        text-align: right;\n",
       "    }\n",
       "</style>\n",
       "<table border=\"1\" class=\"dataframe\">\n",
       "  <thead>\n",
       "    <tr style=\"text-align: right;\">\n",
       "      <th></th>\n",
       "      <th>order_id</th>\n",
       "      <th>review_score</th>\n",
       "      <th>review_comment_title</th>\n",
       "      <th>review_comment_message</th>\n",
       "    </tr>\n",
       "  </thead>\n",
       "  <tbody>\n",
       "    <tr>\n",
       "      <td>1128</td>\n",
       "      <td>5040757d4e06a4be96d3827b860b4e7c</td>\n",
       "      <td>5</td>\n",
       "      <td>0</td>\n",
       "      <td>0</td>\n",
       "    </tr>\n",
       "    <tr>\n",
       "      <td>3127</td>\n",
       "      <td>cf73e2cb1f4a9480ed70c154da3d954a</td>\n",
       "      <td>5</td>\n",
       "      <td>0</td>\n",
       "      <td>0</td>\n",
       "    </tr>\n",
       "    <tr>\n",
       "      <td>9128</td>\n",
       "      <td>c7cfea0c153e6382e32e84c2a9dd7d2e</td>\n",
       "      <td>5</td>\n",
       "      <td>0</td>\n",
       "      <td>0</td>\n",
       "    </tr>\n",
       "    <tr>\n",
       "      <td>10652</td>\n",
       "      <td>0715dfcf2383aa72c181d8b47f6cb589</td>\n",
       "      <td>5</td>\n",
       "      <td>0</td>\n",
       "      <td>0</td>\n",
       "    </tr>\n",
       "    <tr>\n",
       "      <td>12682</td>\n",
       "      <td>f63a31c3349b87273468ff7e66852056</td>\n",
       "      <td>5</td>\n",
       "      <td>0</td>\n",
       "      <td>0</td>\n",
       "    </tr>\n",
       "    <tr>\n",
       "      <td>...</td>\n",
       "      <td>...</td>\n",
       "      <td>...</td>\n",
       "      <td>...</td>\n",
       "      <td>...</td>\n",
       "    </tr>\n",
       "    <tr>\n",
       "      <td>99422</td>\n",
       "      <td>1de86d094f7dd41cca13d246d3b7fd07</td>\n",
       "      <td>5</td>\n",
       "      <td>0</td>\n",
       "      <td>0</td>\n",
       "    </tr>\n",
       "    <tr>\n",
       "      <td>99445</td>\n",
       "      <td>baed56f3eda9223b74c6cf175f05678e</td>\n",
       "      <td>5</td>\n",
       "      <td>0</td>\n",
       "      <td>0</td>\n",
       "    </tr>\n",
       "    <tr>\n",
       "      <td>99536</td>\n",
       "      <td>f2f99bdf2e5cc73abc5e135a2ab1767e</td>\n",
       "      <td>5</td>\n",
       "      <td>0</td>\n",
       "      <td>1</td>\n",
       "    </tr>\n",
       "    <tr>\n",
       "      <td>99762</td>\n",
       "      <td>c0db7d31ace61fc360a3eaa34dd3457c</td>\n",
       "      <td>5</td>\n",
       "      <td>0</td>\n",
       "      <td>0</td>\n",
       "    </tr>\n",
       "    <tr>\n",
       "      <td>99939</td>\n",
       "      <td>c5334d330e36d2a810a7a13c72e135ee</td>\n",
       "      <td>5</td>\n",
       "      <td>0</td>\n",
       "      <td>1</td>\n",
       "    </tr>\n",
       "  </tbody>\n",
       "</table>\n",
       "<p>308 rows × 4 columns</p>\n",
       "</div>"
      ],
      "text/plain": [
       "                               order_id  review_score  review_comment_title  \\\n",
       "1128   5040757d4e06a4be96d3827b860b4e7c             5                     0   \n",
       "3127   cf73e2cb1f4a9480ed70c154da3d954a             5                     0   \n",
       "9128   c7cfea0c153e6382e32e84c2a9dd7d2e             5                     0   \n",
       "10652  0715dfcf2383aa72c181d8b47f6cb589             5                     0   \n",
       "12682  f63a31c3349b87273468ff7e66852056             5                     0   \n",
       "...                                 ...           ...                   ...   \n",
       "99422  1de86d094f7dd41cca13d246d3b7fd07             5                     0   \n",
       "99445  baed56f3eda9223b74c6cf175f05678e             5                     0   \n",
       "99536  f2f99bdf2e5cc73abc5e135a2ab1767e             5                     0   \n",
       "99762  c0db7d31ace61fc360a3eaa34dd3457c             5                     0   \n",
       "99939  c5334d330e36d2a810a7a13c72e135ee             5                     0   \n",
       "\n",
       "       review_comment_message  \n",
       "1128                        0  \n",
       "3127                        0  \n",
       "9128                        0  \n",
       "10652                       0  \n",
       "12682                       0  \n",
       "...                       ...  \n",
       "99422                       0  \n",
       "99445                       0  \n",
       "99536                       1  \n",
       "99762                       0  \n",
       "99939                       1  \n",
       "\n",
       "[308 rows x 4 columns]"
      ]
     },
     "execution_count": 22,
     "metadata": {},
     "output_type": "execute_result"
    }
   ],
   "source": [
    "# duplicate rows of dataframe\n",
    "review_df[review_df.duplicated()]"
   ]
  },
  {
   "cell_type": "code",
   "execution_count": 23,
   "metadata": {
    "scrolled": true
   },
   "outputs": [
    {
     "data": {
      "text/html": [
       "<div>\n",
       "<style scoped>\n",
       "    .dataframe tbody tr th:only-of-type {\n",
       "        vertical-align: middle;\n",
       "    }\n",
       "\n",
       "    .dataframe tbody tr th {\n",
       "        vertical-align: top;\n",
       "    }\n",
       "\n",
       "    .dataframe thead th {\n",
       "        text-align: right;\n",
       "    }\n",
       "</style>\n",
       "<table border=\"1\" class=\"dataframe\">\n",
       "  <thead>\n",
       "    <tr style=\"text-align: right;\">\n",
       "      <th></th>\n",
       "      <th>order_id</th>\n",
       "      <th>review_score</th>\n",
       "      <th>review_comment_title</th>\n",
       "      <th>review_comment_message</th>\n",
       "    </tr>\n",
       "  </thead>\n",
       "  <tbody>\n",
       "    <tr>\n",
       "      <td>0</td>\n",
       "      <td>73fc7af87114b39712e6da79b0a377eb</td>\n",
       "      <td>4</td>\n",
       "      <td>0</td>\n",
       "      <td>0</td>\n",
       "    </tr>\n",
       "    <tr>\n",
       "      <td>1</td>\n",
       "      <td>a548910a1c6147796b98fdf73dbeba33</td>\n",
       "      <td>5</td>\n",
       "      <td>0</td>\n",
       "      <td>0</td>\n",
       "    </tr>\n",
       "    <tr>\n",
       "      <td>2</td>\n",
       "      <td>f9e4b658b201a9f2ecdecbb34bed034b</td>\n",
       "      <td>5</td>\n",
       "      <td>0</td>\n",
       "      <td>0</td>\n",
       "    </tr>\n",
       "    <tr>\n",
       "      <td>3</td>\n",
       "      <td>658677c97b385a9be170737859d3511b</td>\n",
       "      <td>5</td>\n",
       "      <td>0</td>\n",
       "      <td>1</td>\n",
       "    </tr>\n",
       "    <tr>\n",
       "      <td>4</td>\n",
       "      <td>8e6bfb81e283fa7e4f11123a3fb894f1</td>\n",
       "      <td>5</td>\n",
       "      <td>0</td>\n",
       "      <td>1</td>\n",
       "    </tr>\n",
       "  </tbody>\n",
       "</table>\n",
       "</div>"
      ],
      "text/plain": [
       "                           order_id  review_score  review_comment_title  \\\n",
       "0  73fc7af87114b39712e6da79b0a377eb             4                     0   \n",
       "1  a548910a1c6147796b98fdf73dbeba33             5                     0   \n",
       "2  f9e4b658b201a9f2ecdecbb34bed034b             5                     0   \n",
       "3  658677c97b385a9be170737859d3511b             5                     0   \n",
       "4  8e6bfb81e283fa7e4f11123a3fb894f1             5                     0   \n",
       "\n",
       "   review_comment_message  \n",
       "0                       0  \n",
       "1                       0  \n",
       "2                       0  \n",
       "3                       1  \n",
       "4                       1  "
      ]
     },
     "execution_count": 23,
     "metadata": {},
     "output_type": "execute_result"
    }
   ],
   "source": [
    "# head of values\n",
    "review_df.head()"
   ]
  },
  {
   "cell_type": "markdown",
   "metadata": {},
   "source": [
    "## Item Database"
   ]
  },
  {
   "cell_type": "code",
   "execution_count": 24,
   "metadata": {
    "scrolled": true
   },
   "outputs": [
    {
     "name": "stdout",
     "output_type": "stream",
     "text": [
      "<class 'pandas.core.frame.DataFrame'>\n",
      "RangeIndex: 112650 entries, 0 to 112649\n",
      "Data columns (total 7 columns):\n",
      "order_id               112650 non-null object\n",
      "order_item_id          112650 non-null int64\n",
      "product_id             112650 non-null object\n",
      "seller_id              112650 non-null object\n",
      "shipping_limit_date    112650 non-null object\n",
      "price                  112650 non-null float64\n",
      "freight_value          112650 non-null float64\n",
      "dtypes: float64(2), int64(1), object(4)\n",
      "memory usage: 6.0+ MB\n"
     ]
    }
   ],
   "source": [
    "# read data and show its high-level information\n",
    "item_df = pd.read_csv('olist_order_items_dataset.csv')\n",
    "item_df.info()"
   ]
  },
  {
   "cell_type": "code",
   "execution_count": 25,
   "metadata": {
    "scrolled": false
   },
   "outputs": [
    {
     "data": {
      "text/html": [
       "<div>\n",
       "<style scoped>\n",
       "    .dataframe tbody tr th:only-of-type {\n",
       "        vertical-align: middle;\n",
       "    }\n",
       "\n",
       "    .dataframe tbody tr th {\n",
       "        vertical-align: top;\n",
       "    }\n",
       "\n",
       "    .dataframe thead th {\n",
       "        text-align: right;\n",
       "    }\n",
       "</style>\n",
       "<table border=\"1\" class=\"dataframe\">\n",
       "  <thead>\n",
       "    <tr style=\"text-align: right;\">\n",
       "      <th></th>\n",
       "      <th>order_id</th>\n",
       "      <th>order_item_id</th>\n",
       "      <th>product_id</th>\n",
       "      <th>seller_id</th>\n",
       "      <th>shipping_limit_date</th>\n",
       "      <th>price</th>\n",
       "      <th>freight_value</th>\n",
       "    </tr>\n",
       "  </thead>\n",
       "  <tbody>\n",
       "  </tbody>\n",
       "</table>\n",
       "</div>"
      ],
      "text/plain": [
       "Empty DataFrame\n",
       "Columns: [order_id, order_item_id, product_id, seller_id, shipping_limit_date, price, freight_value]\n",
       "Index: []"
      ]
     },
     "execution_count": 25,
     "metadata": {},
     "output_type": "execute_result"
    }
   ],
   "source": [
    "# duplicate rows of dataframe\n",
    "item_df[item_df.duplicated()]"
   ]
  },
  {
   "cell_type": "code",
   "execution_count": 26,
   "metadata": {
    "scrolled": true
   },
   "outputs": [
    {
     "data": {
      "text/html": [
       "<div>\n",
       "<style scoped>\n",
       "    .dataframe tbody tr th:only-of-type {\n",
       "        vertical-align: middle;\n",
       "    }\n",
       "\n",
       "    .dataframe tbody tr th {\n",
       "        vertical-align: top;\n",
       "    }\n",
       "\n",
       "    .dataframe thead th {\n",
       "        text-align: right;\n",
       "    }\n",
       "</style>\n",
       "<table border=\"1\" class=\"dataframe\">\n",
       "  <thead>\n",
       "    <tr style=\"text-align: right;\">\n",
       "      <th></th>\n",
       "      <th>order_id</th>\n",
       "      <th>order_item_id</th>\n",
       "      <th>product_id</th>\n",
       "      <th>seller_id</th>\n",
       "      <th>shipping_limit_date</th>\n",
       "      <th>price</th>\n",
       "      <th>freight_value</th>\n",
       "    </tr>\n",
       "  </thead>\n",
       "  <tbody>\n",
       "    <tr>\n",
       "      <td>0</td>\n",
       "      <td>00010242fe8c5a6d1ba2dd792cb16214</td>\n",
       "      <td>1</td>\n",
       "      <td>4244733e06e7ecb4970a6e2683c13e61</td>\n",
       "      <td>48436dade18ac8b2bce089ec2a041202</td>\n",
       "      <td>2017-09-19 09:45:35</td>\n",
       "      <td>58.90</td>\n",
       "      <td>13.29</td>\n",
       "    </tr>\n",
       "    <tr>\n",
       "      <td>1</td>\n",
       "      <td>00018f77f2f0320c557190d7a144bdd3</td>\n",
       "      <td>1</td>\n",
       "      <td>e5f2d52b802189ee658865ca93d83a8f</td>\n",
       "      <td>dd7ddc04e1b6c2c614352b383efe2d36</td>\n",
       "      <td>2017-05-03 11:05:13</td>\n",
       "      <td>239.90</td>\n",
       "      <td>19.93</td>\n",
       "    </tr>\n",
       "    <tr>\n",
       "      <td>2</td>\n",
       "      <td>000229ec398224ef6ca0657da4fc703e</td>\n",
       "      <td>1</td>\n",
       "      <td>c777355d18b72b67abbeef9df44fd0fd</td>\n",
       "      <td>5b51032eddd242adc84c38acab88f23d</td>\n",
       "      <td>2018-01-18 14:48:30</td>\n",
       "      <td>199.00</td>\n",
       "      <td>17.87</td>\n",
       "    </tr>\n",
       "    <tr>\n",
       "      <td>3</td>\n",
       "      <td>00024acbcdf0a6daa1e931b038114c75</td>\n",
       "      <td>1</td>\n",
       "      <td>7634da152a4610f1595efa32f14722fc</td>\n",
       "      <td>9d7a1d34a5052409006425275ba1c2b4</td>\n",
       "      <td>2018-08-15 10:10:18</td>\n",
       "      <td>12.99</td>\n",
       "      <td>12.79</td>\n",
       "    </tr>\n",
       "    <tr>\n",
       "      <td>4</td>\n",
       "      <td>00042b26cf59d7ce69dfabb4e55b4fd9</td>\n",
       "      <td>1</td>\n",
       "      <td>ac6c3623068f30de03045865e4e10089</td>\n",
       "      <td>df560393f3a51e74553ab94004ba5c87</td>\n",
       "      <td>2017-02-13 13:57:51</td>\n",
       "      <td>199.90</td>\n",
       "      <td>18.14</td>\n",
       "    </tr>\n",
       "  </tbody>\n",
       "</table>\n",
       "</div>"
      ],
      "text/plain": [
       "                           order_id  order_item_id  \\\n",
       "0  00010242fe8c5a6d1ba2dd792cb16214              1   \n",
       "1  00018f77f2f0320c557190d7a144bdd3              1   \n",
       "2  000229ec398224ef6ca0657da4fc703e              1   \n",
       "3  00024acbcdf0a6daa1e931b038114c75              1   \n",
       "4  00042b26cf59d7ce69dfabb4e55b4fd9              1   \n",
       "\n",
       "                         product_id                         seller_id  \\\n",
       "0  4244733e06e7ecb4970a6e2683c13e61  48436dade18ac8b2bce089ec2a041202   \n",
       "1  e5f2d52b802189ee658865ca93d83a8f  dd7ddc04e1b6c2c614352b383efe2d36   \n",
       "2  c777355d18b72b67abbeef9df44fd0fd  5b51032eddd242adc84c38acab88f23d   \n",
       "3  7634da152a4610f1595efa32f14722fc  9d7a1d34a5052409006425275ba1c2b4   \n",
       "4  ac6c3623068f30de03045865e4e10089  df560393f3a51e74553ab94004ba5c87   \n",
       "\n",
       "   shipping_limit_date   price  freight_value  \n",
       "0  2017-09-19 09:45:35   58.90          13.29  \n",
       "1  2017-05-03 11:05:13  239.90          19.93  \n",
       "2  2018-01-18 14:48:30  199.00          17.87  \n",
       "3  2018-08-15 10:10:18   12.99          12.79  \n",
       "4  2017-02-13 13:57:51  199.90          18.14  "
      ]
     },
     "execution_count": 26,
     "metadata": {},
     "output_type": "execute_result"
    }
   ],
   "source": [
    "# head of values\n",
    "item_df.head()"
   ]
  },
  {
   "cell_type": "markdown",
   "metadata": {},
   "source": [
    "## Product Database"
   ]
  },
  {
   "cell_type": "code",
   "execution_count": 27,
   "metadata": {
    "scrolled": true
   },
   "outputs": [
    {
     "name": "stdout",
     "output_type": "stream",
     "text": [
      "<class 'pandas.core.frame.DataFrame'>\n",
      "RangeIndex: 32951 entries, 0 to 32950\n",
      "Data columns (total 9 columns):\n",
      "product_id                    32951 non-null object\n",
      "product_category_name         32341 non-null object\n",
      "product_name_lenght           32341 non-null float64\n",
      "product_description_lenght    32341 non-null float64\n",
      "product_photos_qty            32341 non-null float64\n",
      "product_weight_g              32949 non-null float64\n",
      "product_length_cm             32949 non-null float64\n",
      "product_height_cm             32949 non-null float64\n",
      "product_width_cm              32949 non-null float64\n",
      "dtypes: float64(7), object(2)\n",
      "memory usage: 2.3+ MB\n"
     ]
    }
   ],
   "source": [
    "# read data and show its high-level information\n",
    "product_df = pd.read_csv('olist_products_dataset.csv')\n",
    "product_df.info()"
   ]
  },
  {
   "cell_type": "code",
   "execution_count": 28,
   "metadata": {
    "scrolled": true
   },
   "outputs": [
    {
     "name": "stdout",
     "output_type": "stream",
     "text": [
      "<class 'pandas.core.frame.DataFrame'>\n",
      "RangeIndex: 32951 entries, 0 to 32950\n",
      "Data columns (total 9 columns):\n",
      "product_id                    32951 non-null object\n",
      "product_category_name         32341 non-null object\n",
      "product_name_lenght           32951 non-null float64\n",
      "product_description_lenght    32951 non-null float64\n",
      "product_photos_qty            32951 non-null float64\n",
      "product_weight_g              32951 non-null float64\n",
      "product_length_cm             32951 non-null float64\n",
      "product_height_cm             32951 non-null float64\n",
      "product_width_cm              32951 non-null float64\n",
      "dtypes: float64(7), object(2)\n",
      "memory usage: 2.3+ MB\n"
     ]
    }
   ],
   "source": [
    "product_df.fillna(product_df.median(), inplace=True)\n",
    "product_df.info()"
   ]
  },
  {
   "cell_type": "code",
   "execution_count": 29,
   "metadata": {
    "scrolled": true
   },
   "outputs": [
    {
     "name": "stdout",
     "output_type": "stream",
     "text": [
      "<class 'pandas.core.frame.DataFrame'>\n",
      "RangeIndex: 32951 entries, 0 to 32950\n",
      "Data columns (total 9 columns):\n",
      "product_id                    32951 non-null object\n",
      "product_category_name         32951 non-null object\n",
      "product_name_lenght           32951 non-null float64\n",
      "product_description_lenght    32951 non-null float64\n",
      "product_photos_qty            32951 non-null float64\n",
      "product_weight_g              32951 non-null float64\n",
      "product_length_cm             32951 non-null float64\n",
      "product_height_cm             32951 non-null float64\n",
      "product_width_cm              32951 non-null float64\n",
      "dtypes: float64(7), object(2)\n",
      "memory usage: 2.3+ MB\n"
     ]
    }
   ],
   "source": [
    "product_df.fillna('other', inplace=True)\n",
    "product_df.info()"
   ]
  },
  {
   "cell_type": "code",
   "execution_count": 30,
   "metadata": {
    "scrolled": false
   },
   "outputs": [
    {
     "data": {
      "text/html": [
       "<div>\n",
       "<style scoped>\n",
       "    .dataframe tbody tr th:only-of-type {\n",
       "        vertical-align: middle;\n",
       "    }\n",
       "\n",
       "    .dataframe tbody tr th {\n",
       "        vertical-align: top;\n",
       "    }\n",
       "\n",
       "    .dataframe thead th {\n",
       "        text-align: right;\n",
       "    }\n",
       "</style>\n",
       "<table border=\"1\" class=\"dataframe\">\n",
       "  <thead>\n",
       "    <tr style=\"text-align: right;\">\n",
       "      <th></th>\n",
       "      <th>product_id</th>\n",
       "      <th>product_category_name</th>\n",
       "      <th>product_name_lenght</th>\n",
       "      <th>product_description_lenght</th>\n",
       "      <th>product_photos_qty</th>\n",
       "      <th>product_weight_g</th>\n",
       "      <th>product_length_cm</th>\n",
       "      <th>product_height_cm</th>\n",
       "      <th>product_width_cm</th>\n",
       "    </tr>\n",
       "  </thead>\n",
       "  <tbody>\n",
       "  </tbody>\n",
       "</table>\n",
       "</div>"
      ],
      "text/plain": [
       "Empty DataFrame\n",
       "Columns: [product_id, product_category_name, product_name_lenght, product_description_lenght, product_photos_qty, product_weight_g, product_length_cm, product_height_cm, product_width_cm]\n",
       "Index: []"
      ]
     },
     "execution_count": 30,
     "metadata": {},
     "output_type": "execute_result"
    }
   ],
   "source": [
    "# duplicate rows of dataframe\n",
    "product_df[product_df.duplicated()]"
   ]
  },
  {
   "cell_type": "code",
   "execution_count": 31,
   "metadata": {
    "scrolled": true
   },
   "outputs": [
    {
     "data": {
      "text/html": [
       "<div>\n",
       "<style scoped>\n",
       "    .dataframe tbody tr th:only-of-type {\n",
       "        vertical-align: middle;\n",
       "    }\n",
       "\n",
       "    .dataframe tbody tr th {\n",
       "        vertical-align: top;\n",
       "    }\n",
       "\n",
       "    .dataframe thead th {\n",
       "        text-align: right;\n",
       "    }\n",
       "</style>\n",
       "<table border=\"1\" class=\"dataframe\">\n",
       "  <thead>\n",
       "    <tr style=\"text-align: right;\">\n",
       "      <th></th>\n",
       "      <th>product_id</th>\n",
       "      <th>product_category_name</th>\n",
       "      <th>product_name_lenght</th>\n",
       "      <th>product_description_lenght</th>\n",
       "      <th>product_photos_qty</th>\n",
       "      <th>product_weight_g</th>\n",
       "      <th>product_length_cm</th>\n",
       "      <th>product_height_cm</th>\n",
       "      <th>product_width_cm</th>\n",
       "    </tr>\n",
       "  </thead>\n",
       "  <tbody>\n",
       "    <tr>\n",
       "      <td>0</td>\n",
       "      <td>1e9e8ef04dbcff4541ed26657ea517e5</td>\n",
       "      <td>perfumaria</td>\n",
       "      <td>40.0</td>\n",
       "      <td>287.0</td>\n",
       "      <td>1.0</td>\n",
       "      <td>225.0</td>\n",
       "      <td>16.0</td>\n",
       "      <td>10.0</td>\n",
       "      <td>14.0</td>\n",
       "    </tr>\n",
       "    <tr>\n",
       "      <td>1</td>\n",
       "      <td>3aa071139cb16b67ca9e5dea641aaa2f</td>\n",
       "      <td>artes</td>\n",
       "      <td>44.0</td>\n",
       "      <td>276.0</td>\n",
       "      <td>1.0</td>\n",
       "      <td>1000.0</td>\n",
       "      <td>30.0</td>\n",
       "      <td>18.0</td>\n",
       "      <td>20.0</td>\n",
       "    </tr>\n",
       "    <tr>\n",
       "      <td>2</td>\n",
       "      <td>96bd76ec8810374ed1b65e291975717f</td>\n",
       "      <td>esporte_lazer</td>\n",
       "      <td>46.0</td>\n",
       "      <td>250.0</td>\n",
       "      <td>1.0</td>\n",
       "      <td>154.0</td>\n",
       "      <td>18.0</td>\n",
       "      <td>9.0</td>\n",
       "      <td>15.0</td>\n",
       "    </tr>\n",
       "    <tr>\n",
       "      <td>3</td>\n",
       "      <td>cef67bcfe19066a932b7673e239eb23d</td>\n",
       "      <td>bebes</td>\n",
       "      <td>27.0</td>\n",
       "      <td>261.0</td>\n",
       "      <td>1.0</td>\n",
       "      <td>371.0</td>\n",
       "      <td>26.0</td>\n",
       "      <td>4.0</td>\n",
       "      <td>26.0</td>\n",
       "    </tr>\n",
       "    <tr>\n",
       "      <td>4</td>\n",
       "      <td>9dc1a7de274444849c219cff195d0b71</td>\n",
       "      <td>utilidades_domesticas</td>\n",
       "      <td>37.0</td>\n",
       "      <td>402.0</td>\n",
       "      <td>4.0</td>\n",
       "      <td>625.0</td>\n",
       "      <td>20.0</td>\n",
       "      <td>17.0</td>\n",
       "      <td>13.0</td>\n",
       "    </tr>\n",
       "  </tbody>\n",
       "</table>\n",
       "</div>"
      ],
      "text/plain": [
       "                         product_id  product_category_name  \\\n",
       "0  1e9e8ef04dbcff4541ed26657ea517e5             perfumaria   \n",
       "1  3aa071139cb16b67ca9e5dea641aaa2f                  artes   \n",
       "2  96bd76ec8810374ed1b65e291975717f          esporte_lazer   \n",
       "3  cef67bcfe19066a932b7673e239eb23d                  bebes   \n",
       "4  9dc1a7de274444849c219cff195d0b71  utilidades_domesticas   \n",
       "\n",
       "   product_name_lenght  product_description_lenght  product_photos_qty  \\\n",
       "0                 40.0                       287.0                 1.0   \n",
       "1                 44.0                       276.0                 1.0   \n",
       "2                 46.0                       250.0                 1.0   \n",
       "3                 27.0                       261.0                 1.0   \n",
       "4                 37.0                       402.0                 4.0   \n",
       "\n",
       "   product_weight_g  product_length_cm  product_height_cm  product_width_cm  \n",
       "0             225.0               16.0               10.0              14.0  \n",
       "1            1000.0               30.0               18.0              20.0  \n",
       "2             154.0               18.0                9.0              15.0  \n",
       "3             371.0               26.0                4.0              26.0  \n",
       "4             625.0               20.0               17.0              13.0  "
      ]
     },
     "execution_count": 31,
     "metadata": {},
     "output_type": "execute_result"
    }
   ],
   "source": [
    "product_df.head()"
   ]
  },
  {
   "cell_type": "markdown",
   "metadata": {},
   "source": [
    "## Translation Database"
   ]
  },
  {
   "cell_type": "code",
   "execution_count": 32,
   "metadata": {
    "scrolled": true
   },
   "outputs": [
    {
     "name": "stdout",
     "output_type": "stream",
     "text": [
      "<class 'pandas.core.frame.DataFrame'>\n",
      "RangeIndex: 71 entries, 0 to 70\n",
      "Data columns (total 2 columns):\n",
      "product_category_name            71 non-null object\n",
      "product_category_name_english    71 non-null object\n",
      "dtypes: object(2)\n",
      "memory usage: 1.2+ KB\n"
     ]
    },
    {
     "data": {
      "text/html": [
       "<div>\n",
       "<style scoped>\n",
       "    .dataframe tbody tr th:only-of-type {\n",
       "        vertical-align: middle;\n",
       "    }\n",
       "\n",
       "    .dataframe tbody tr th {\n",
       "        vertical-align: top;\n",
       "    }\n",
       "\n",
       "    .dataframe thead th {\n",
       "        text-align: right;\n",
       "    }\n",
       "</style>\n",
       "<table border=\"1\" class=\"dataframe\">\n",
       "  <thead>\n",
       "    <tr style=\"text-align: right;\">\n",
       "      <th></th>\n",
       "      <th>product_category_name</th>\n",
       "      <th>product_category_name_english</th>\n",
       "    </tr>\n",
       "  </thead>\n",
       "  <tbody>\n",
       "    <tr>\n",
       "      <td>0</td>\n",
       "      <td>beleza_saude</td>\n",
       "      <td>health_beauty</td>\n",
       "    </tr>\n",
       "    <tr>\n",
       "      <td>1</td>\n",
       "      <td>informatica_acessorios</td>\n",
       "      <td>computers_accessories</td>\n",
       "    </tr>\n",
       "    <tr>\n",
       "      <td>2</td>\n",
       "      <td>automotivo</td>\n",
       "      <td>auto</td>\n",
       "    </tr>\n",
       "    <tr>\n",
       "      <td>3</td>\n",
       "      <td>cama_mesa_banho</td>\n",
       "      <td>bed_bath_table</td>\n",
       "    </tr>\n",
       "    <tr>\n",
       "      <td>4</td>\n",
       "      <td>moveis_decoracao</td>\n",
       "      <td>furniture_decor</td>\n",
       "    </tr>\n",
       "  </tbody>\n",
       "</table>\n",
       "</div>"
      ],
      "text/plain": [
       "    product_category_name product_category_name_english\n",
       "0            beleza_saude                 health_beauty\n",
       "1  informatica_acessorios         computers_accessories\n",
       "2              automotivo                          auto\n",
       "3         cama_mesa_banho                bed_bath_table\n",
       "4        moveis_decoracao               furniture_decor"
      ]
     },
     "execution_count": 32,
     "metadata": {},
     "output_type": "execute_result"
    }
   ],
   "source": [
    "# read data and show its high-level information\n",
    "translation_df = pd.read_csv('product_category_name_translation.csv')\n",
    "translation_df.info()\n",
    "\n",
    "# head of values\n",
    "translation_df.head()"
   ]
  },
  {
   "cell_type": "markdown",
   "metadata": {},
   "source": [
    "## Seller Database"
   ]
  },
  {
   "cell_type": "code",
   "execution_count": 33,
   "metadata": {
    "scrolled": true
   },
   "outputs": [
    {
     "name": "stdout",
     "output_type": "stream",
     "text": [
      "<class 'pandas.core.frame.DataFrame'>\n",
      "RangeIndex: 3095 entries, 0 to 3094\n",
      "Data columns (total 4 columns):\n",
      "seller_id                 3095 non-null object\n",
      "seller_zip_code_prefix    3095 non-null int64\n",
      "seller_city               3095 non-null object\n",
      "seller_state              3095 non-null object\n",
      "dtypes: int64(1), object(3)\n",
      "memory usage: 96.8+ KB\n"
     ]
    }
   ],
   "source": [
    "# read data and show its high-level information\n",
    "seller_df = pd.read_csv('olist_sellers_dataset.csv')\n",
    "seller_df.info()"
   ]
  },
  {
   "cell_type": "code",
   "execution_count": 34,
   "metadata": {
    "scrolled": true
   },
   "outputs": [
    {
     "data": {
      "text/plain": [
       "Index(['seller_id', 'seller_state'], dtype='object')"
      ]
     },
     "execution_count": 34,
     "metadata": {},
     "output_type": "execute_result"
    }
   ],
   "source": [
    "# drop irrelevant columns\n",
    "seller_df.drop(['seller_zip_code_prefix',\n",
    "                'seller_city'], axis='columns', inplace=True)\n",
    "seller_df.columns"
   ]
  },
  {
   "cell_type": "markdown",
   "metadata": {},
   "source": [
    "## Database Joins"
   ]
  },
  {
   "cell_type": "code",
   "execution_count": 35,
   "metadata": {
    "scrolled": true
   },
   "outputs": [
    {
     "name": "stdout",
     "output_type": "stream",
     "text": [
      "<class 'pandas.core.frame.DataFrame'>\n",
      "Int64Index: 100000 entries, 0 to 99999\n",
      "Data columns (total 7 columns):\n",
      "order_id                         100000 non-null object\n",
      "review_score                     100000 non-null int64\n",
      "review_comment_title             100000 non-null int64\n",
      "review_comment_message           100000 non-null int64\n",
      "customer_id                      100000 non-null object\n",
      "order_delivered_customer_date    97013 non-null datetime64[ns]\n",
      "order_estimated_delivery_date    100000 non-null datetime64[ns]\n",
      "dtypes: datetime64[ns](2), int64(3), object(2)\n",
      "memory usage: 6.1+ MB\n"
     ]
    },
    {
     "data": {
      "text/html": [
       "<div>\n",
       "<style scoped>\n",
       "    .dataframe tbody tr th:only-of-type {\n",
       "        vertical-align: middle;\n",
       "    }\n",
       "\n",
       "    .dataframe tbody tr th {\n",
       "        vertical-align: top;\n",
       "    }\n",
       "\n",
       "    .dataframe thead th {\n",
       "        text-align: right;\n",
       "    }\n",
       "</style>\n",
       "<table border=\"1\" class=\"dataframe\">\n",
       "  <thead>\n",
       "    <tr style=\"text-align: right;\">\n",
       "      <th></th>\n",
       "      <th>order_id</th>\n",
       "      <th>review_score</th>\n",
       "      <th>review_comment_title</th>\n",
       "      <th>review_comment_message</th>\n",
       "      <th>customer_id</th>\n",
       "      <th>order_delivered_customer_date</th>\n",
       "      <th>order_estimated_delivery_date</th>\n",
       "    </tr>\n",
       "  </thead>\n",
       "  <tbody>\n",
       "    <tr>\n",
       "      <td>0</td>\n",
       "      <td>73fc7af87114b39712e6da79b0a377eb</td>\n",
       "      <td>4</td>\n",
       "      <td>0</td>\n",
       "      <td>0</td>\n",
       "      <td>41dcb106f807e993532d446263290104</td>\n",
       "      <td>2018-01-17 18:42:41</td>\n",
       "      <td>2018-02-02</td>\n",
       "    </tr>\n",
       "    <tr>\n",
       "      <td>1</td>\n",
       "      <td>a548910a1c6147796b98fdf73dbeba33</td>\n",
       "      <td>5</td>\n",
       "      <td>0</td>\n",
       "      <td>0</td>\n",
       "      <td>8a2e7ef9053dea531e4dc76bd6d853e6</td>\n",
       "      <td>2018-03-09 23:17:20</td>\n",
       "      <td>2018-03-14</td>\n",
       "    </tr>\n",
       "    <tr>\n",
       "      <td>2</td>\n",
       "      <td>f9e4b658b201a9f2ecdecbb34bed034b</td>\n",
       "      <td>5</td>\n",
       "      <td>0</td>\n",
       "      <td>0</td>\n",
       "      <td>e226dfed6544df5b7b87a48208690feb</td>\n",
       "      <td>2018-02-16 17:28:48</td>\n",
       "      <td>2018-03-09</td>\n",
       "    </tr>\n",
       "    <tr>\n",
       "      <td>3</td>\n",
       "      <td>658677c97b385a9be170737859d3511b</td>\n",
       "      <td>5</td>\n",
       "      <td>0</td>\n",
       "      <td>1</td>\n",
       "      <td>de6dff97e5f1ba84a3cd9a3bc97df5f6</td>\n",
       "      <td>2017-04-20 09:08:35</td>\n",
       "      <td>2017-05-10</td>\n",
       "    </tr>\n",
       "    <tr>\n",
       "      <td>4</td>\n",
       "      <td>8e6bfb81e283fa7e4f11123a3fb894f1</td>\n",
       "      <td>5</td>\n",
       "      <td>0</td>\n",
       "      <td>1</td>\n",
       "      <td>5986b333ca0d44534a156a52a8e33a83</td>\n",
       "      <td>2018-02-28 16:33:35</td>\n",
       "      <td>2018-03-09</td>\n",
       "    </tr>\n",
       "  </tbody>\n",
       "</table>\n",
       "</div>"
      ],
      "text/plain": [
       "                           order_id  review_score  review_comment_title  \\\n",
       "0  73fc7af87114b39712e6da79b0a377eb             4                     0   \n",
       "1  a548910a1c6147796b98fdf73dbeba33             5                     0   \n",
       "2  f9e4b658b201a9f2ecdecbb34bed034b             5                     0   \n",
       "3  658677c97b385a9be170737859d3511b             5                     0   \n",
       "4  8e6bfb81e283fa7e4f11123a3fb894f1             5                     0   \n",
       "\n",
       "   review_comment_message                       customer_id  \\\n",
       "0                       0  41dcb106f807e993532d446263290104   \n",
       "1                       0  8a2e7ef9053dea531e4dc76bd6d853e6   \n",
       "2                       0  e226dfed6544df5b7b87a48208690feb   \n",
       "3                       1  de6dff97e5f1ba84a3cd9a3bc97df5f6   \n",
       "4                       1  5986b333ca0d44534a156a52a8e33a83   \n",
       "\n",
       "  order_delivered_customer_date order_estimated_delivery_date  \n",
       "0           2018-01-17 18:42:41                    2018-02-02  \n",
       "1           2018-03-09 23:17:20                    2018-03-14  \n",
       "2           2018-02-16 17:28:48                    2018-03-09  \n",
       "3           2017-04-20 09:08:35                    2017-05-10  \n",
       "4           2018-02-28 16:33:35                    2018-03-09  "
      ]
     },
     "execution_count": 35,
     "metadata": {},
     "output_type": "execute_result"
    }
   ],
   "source": [
    "ro_df = pd.merge(review_df, order_df, how='left', on='order_id')\n",
    "ro_df.info()\n",
    "ro_df.head()"
   ]
  },
  {
   "cell_type": "code",
   "execution_count": 36,
   "metadata": {
    "scrolled": false
   },
   "outputs": [
    {
     "name": "stdout",
     "output_type": "stream",
     "text": [
      "<class 'pandas.core.frame.DataFrame'>\n",
      "Int64Index: 100000 entries, 0 to 99999\n",
      "Data columns (total 7 columns):\n",
      "order_id                         100000 non-null object\n",
      "review_score                     100000 non-null int64\n",
      "review_comment_title             100000 non-null int64\n",
      "review_comment_message           100000 non-null int64\n",
      "order_delivered_customer_date    97013 non-null datetime64[ns]\n",
      "order_estimated_delivery_date    100000 non-null datetime64[ns]\n",
      "customer_state                   100000 non-null object\n",
      "dtypes: datetime64[ns](2), int64(3), object(2)\n",
      "memory usage: 6.1+ MB\n"
     ]
    },
    {
     "data": {
      "text/html": [
       "<div>\n",
       "<style scoped>\n",
       "    .dataframe tbody tr th:only-of-type {\n",
       "        vertical-align: middle;\n",
       "    }\n",
       "\n",
       "    .dataframe tbody tr th {\n",
       "        vertical-align: top;\n",
       "    }\n",
       "\n",
       "    .dataframe thead th {\n",
       "        text-align: right;\n",
       "    }\n",
       "</style>\n",
       "<table border=\"1\" class=\"dataframe\">\n",
       "  <thead>\n",
       "    <tr style=\"text-align: right;\">\n",
       "      <th></th>\n",
       "      <th>order_id</th>\n",
       "      <th>review_score</th>\n",
       "      <th>review_comment_title</th>\n",
       "      <th>review_comment_message</th>\n",
       "      <th>order_delivered_customer_date</th>\n",
       "      <th>order_estimated_delivery_date</th>\n",
       "      <th>customer_state</th>\n",
       "    </tr>\n",
       "  </thead>\n",
       "  <tbody>\n",
       "    <tr>\n",
       "      <td>0</td>\n",
       "      <td>73fc7af87114b39712e6da79b0a377eb</td>\n",
       "      <td>4</td>\n",
       "      <td>0</td>\n",
       "      <td>0</td>\n",
       "      <td>2018-01-17 18:42:41</td>\n",
       "      <td>2018-02-02</td>\n",
       "      <td>SP</td>\n",
       "    </tr>\n",
       "    <tr>\n",
       "      <td>1</td>\n",
       "      <td>a548910a1c6147796b98fdf73dbeba33</td>\n",
       "      <td>5</td>\n",
       "      <td>0</td>\n",
       "      <td>0</td>\n",
       "      <td>2018-03-09 23:17:20</td>\n",
       "      <td>2018-03-14</td>\n",
       "      <td>SP</td>\n",
       "    </tr>\n",
       "    <tr>\n",
       "      <td>2</td>\n",
       "      <td>f9e4b658b201a9f2ecdecbb34bed034b</td>\n",
       "      <td>5</td>\n",
       "      <td>0</td>\n",
       "      <td>0</td>\n",
       "      <td>2018-02-16 17:28:48</td>\n",
       "      <td>2018-03-09</td>\n",
       "      <td>BA</td>\n",
       "    </tr>\n",
       "    <tr>\n",
       "      <td>3</td>\n",
       "      <td>658677c97b385a9be170737859d3511b</td>\n",
       "      <td>5</td>\n",
       "      <td>0</td>\n",
       "      <td>1</td>\n",
       "      <td>2017-04-20 09:08:35</td>\n",
       "      <td>2017-05-10</td>\n",
       "      <td>SC</td>\n",
       "    </tr>\n",
       "    <tr>\n",
       "      <td>4</td>\n",
       "      <td>8e6bfb81e283fa7e4f11123a3fb894f1</td>\n",
       "      <td>5</td>\n",
       "      <td>0</td>\n",
       "      <td>1</td>\n",
       "      <td>2018-02-28 16:33:35</td>\n",
       "      <td>2018-03-09</td>\n",
       "      <td>SC</td>\n",
       "    </tr>\n",
       "  </tbody>\n",
       "</table>\n",
       "</div>"
      ],
      "text/plain": [
       "                           order_id  review_score  review_comment_title  \\\n",
       "0  73fc7af87114b39712e6da79b0a377eb             4                     0   \n",
       "1  a548910a1c6147796b98fdf73dbeba33             5                     0   \n",
       "2  f9e4b658b201a9f2ecdecbb34bed034b             5                     0   \n",
       "3  658677c97b385a9be170737859d3511b             5                     0   \n",
       "4  8e6bfb81e283fa7e4f11123a3fb894f1             5                     0   \n",
       "\n",
       "   review_comment_message order_delivered_customer_date  \\\n",
       "0                       0           2018-01-17 18:42:41   \n",
       "1                       0           2018-03-09 23:17:20   \n",
       "2                       0           2018-02-16 17:28:48   \n",
       "3                       1           2017-04-20 09:08:35   \n",
       "4                       1           2018-02-28 16:33:35   \n",
       "\n",
       "  order_estimated_delivery_date customer_state  \n",
       "0                    2018-02-02             SP  \n",
       "1                    2018-03-14             SP  \n",
       "2                    2018-03-09             BA  \n",
       "3                    2017-05-10             SC  \n",
       "4                    2018-03-09             SC  "
      ]
     },
     "execution_count": 36,
     "metadata": {},
     "output_type": "execute_result"
    }
   ],
   "source": [
    "roc_df = pd.merge(ro_df, customer_df, how='left', on='customer_id')\n",
    "roc_df.drop(['customer_id', 'customer_unique_id'], axis='columns', inplace=True)\n",
    "roc_df.info()\n",
    "roc_df.head()"
   ]
  },
  {
   "cell_type": "code",
   "execution_count": 37,
   "metadata": {
    "scrolled": false
   },
   "outputs": [
    {
     "name": "stdout",
     "output_type": "stream",
     "text": [
      "<class 'pandas.core.frame.DataFrame'>\n",
      "Int64Index: 104485 entries, 0 to 104484\n",
      "Data columns (total 10 columns):\n",
      "order_id                         104485 non-null object\n",
      "review_score                     104485 non-null int64\n",
      "review_comment_title             104485 non-null int64\n",
      "review_comment_message           104485 non-null int64\n",
      "order_delivered_customer_date    101331 non-null datetime64[ns]\n",
      "order_estimated_delivery_date    104485 non-null datetime64[ns]\n",
      "customer_state                   104485 non-null object\n",
      "payment_type                     104485 non-null object\n",
      "payment_installments             104485 non-null int64\n",
      "payment_value                    104485 non-null float64\n",
      "dtypes: datetime64[ns](2), float64(1), int64(4), object(3)\n",
      "memory usage: 8.8+ MB\n"
     ]
    },
    {
     "data": {
      "text/html": [
       "<div>\n",
       "<style scoped>\n",
       "    .dataframe tbody tr th:only-of-type {\n",
       "        vertical-align: middle;\n",
       "    }\n",
       "\n",
       "    .dataframe tbody tr th {\n",
       "        vertical-align: top;\n",
       "    }\n",
       "\n",
       "    .dataframe thead th {\n",
       "        text-align: right;\n",
       "    }\n",
       "</style>\n",
       "<table border=\"1\" class=\"dataframe\">\n",
       "  <thead>\n",
       "    <tr style=\"text-align: right;\">\n",
       "      <th></th>\n",
       "      <th>order_id</th>\n",
       "      <th>review_score</th>\n",
       "      <th>review_comment_title</th>\n",
       "      <th>review_comment_message</th>\n",
       "      <th>order_delivered_customer_date</th>\n",
       "      <th>order_estimated_delivery_date</th>\n",
       "      <th>customer_state</th>\n",
       "      <th>payment_type</th>\n",
       "      <th>payment_installments</th>\n",
       "      <th>payment_value</th>\n",
       "    </tr>\n",
       "  </thead>\n",
       "  <tbody>\n",
       "    <tr>\n",
       "      <td>0</td>\n",
       "      <td>73fc7af87114b39712e6da79b0a377eb</td>\n",
       "      <td>4</td>\n",
       "      <td>0</td>\n",
       "      <td>0</td>\n",
       "      <td>2018-01-17 18:42:41</td>\n",
       "      <td>2018-02-02</td>\n",
       "      <td>SP</td>\n",
       "      <td>credit_card</td>\n",
       "      <td>8</td>\n",
       "      <td>397.26</td>\n",
       "    </tr>\n",
       "    <tr>\n",
       "      <td>1</td>\n",
       "      <td>a548910a1c6147796b98fdf73dbeba33</td>\n",
       "      <td>5</td>\n",
       "      <td>0</td>\n",
       "      <td>0</td>\n",
       "      <td>2018-03-09 23:17:20</td>\n",
       "      <td>2018-03-14</td>\n",
       "      <td>SP</td>\n",
       "      <td>credit_card</td>\n",
       "      <td>1</td>\n",
       "      <td>88.09</td>\n",
       "    </tr>\n",
       "    <tr>\n",
       "      <td>2</td>\n",
       "      <td>f9e4b658b201a9f2ecdecbb34bed034b</td>\n",
       "      <td>5</td>\n",
       "      <td>0</td>\n",
       "      <td>0</td>\n",
       "      <td>2018-02-16 17:28:48</td>\n",
       "      <td>2018-03-09</td>\n",
       "      <td>BA</td>\n",
       "      <td>credit_card</td>\n",
       "      <td>1</td>\n",
       "      <td>194.12</td>\n",
       "    </tr>\n",
       "    <tr>\n",
       "      <td>3</td>\n",
       "      <td>658677c97b385a9be170737859d3511b</td>\n",
       "      <td>5</td>\n",
       "      <td>0</td>\n",
       "      <td>1</td>\n",
       "      <td>2017-04-20 09:08:35</td>\n",
       "      <td>2017-05-10</td>\n",
       "      <td>SC</td>\n",
       "      <td>credit_card</td>\n",
       "      <td>1</td>\n",
       "      <td>222.84</td>\n",
       "    </tr>\n",
       "    <tr>\n",
       "      <td>4</td>\n",
       "      <td>8e6bfb81e283fa7e4f11123a3fb894f1</td>\n",
       "      <td>5</td>\n",
       "      <td>0</td>\n",
       "      <td>1</td>\n",
       "      <td>2018-02-28 16:33:35</td>\n",
       "      <td>2018-03-09</td>\n",
       "      <td>SC</td>\n",
       "      <td>credit_card</td>\n",
       "      <td>10</td>\n",
       "      <td>1333.25</td>\n",
       "    </tr>\n",
       "  </tbody>\n",
       "</table>\n",
       "</div>"
      ],
      "text/plain": [
       "                           order_id  review_score  review_comment_title  \\\n",
       "0  73fc7af87114b39712e6da79b0a377eb             4                     0   \n",
       "1  a548910a1c6147796b98fdf73dbeba33             5                     0   \n",
       "2  f9e4b658b201a9f2ecdecbb34bed034b             5                     0   \n",
       "3  658677c97b385a9be170737859d3511b             5                     0   \n",
       "4  8e6bfb81e283fa7e4f11123a3fb894f1             5                     0   \n",
       "\n",
       "   review_comment_message order_delivered_customer_date  \\\n",
       "0                       0           2018-01-17 18:42:41   \n",
       "1                       0           2018-03-09 23:17:20   \n",
       "2                       0           2018-02-16 17:28:48   \n",
       "3                       1           2017-04-20 09:08:35   \n",
       "4                       1           2018-02-28 16:33:35   \n",
       "\n",
       "  order_estimated_delivery_date customer_state payment_type  \\\n",
       "0                    2018-02-02             SP  credit_card   \n",
       "1                    2018-03-14             SP  credit_card   \n",
       "2                    2018-03-09             BA  credit_card   \n",
       "3                    2017-05-10             SC  credit_card   \n",
       "4                    2018-03-09             SC  credit_card   \n",
       "\n",
       "   payment_installments  payment_value  \n",
       "0                     8         397.26  \n",
       "1                     1          88.09  \n",
       "2                     1         194.12  \n",
       "3                     1         222.84  \n",
       "4                    10        1333.25  "
      ]
     },
     "execution_count": 37,
     "metadata": {},
     "output_type": "execute_result"
    }
   ],
   "source": [
    "rocp_df = pd.merge(roc_df, payment_df, on='order_id')\n",
    "rocp_df.drop('payment_sequential', axis='columns', inplace=True)\n",
    "rocp_df.info()\n",
    "rocp_df.head()"
   ]
  },
  {
   "cell_type": "code",
   "execution_count": 38,
   "metadata": {
    "scrolled": true
   },
   "outputs": [
    {
     "name": "stdout",
     "output_type": "stream",
     "text": [
      "<class 'pandas.core.frame.DataFrame'>\n",
      "Int64Index: 118315 entries, 0 to 118314\n",
      "Data columns (total 14 columns):\n",
      "order_id                         118315 non-null object\n",
      "review_score                     118315 non-null int64\n",
      "review_comment_title             118315 non-null int64\n",
      "review_comment_message           118315 non-null int64\n",
      "order_delivered_customer_date    115727 non-null datetime64[ns]\n",
      "order_estimated_delivery_date    118315 non-null datetime64[ns]\n",
      "customer_state                   118315 non-null object\n",
      "payment_type                     118315 non-null object\n",
      "payment_installments             118315 non-null int64\n",
      "payment_value                    118315 non-null float64\n",
      "product_id                       118315 non-null object\n",
      "seller_id                        118315 non-null object\n",
      "price                            118315 non-null float64\n",
      "freight_value                    118315 non-null float64\n",
      "dtypes: datetime64[ns](2), float64(3), int64(4), object(5)\n",
      "memory usage: 13.5+ MB\n"
     ]
    },
    {
     "data": {
      "text/html": [
       "<div>\n",
       "<style scoped>\n",
       "    .dataframe tbody tr th:only-of-type {\n",
       "        vertical-align: middle;\n",
       "    }\n",
       "\n",
       "    .dataframe tbody tr th {\n",
       "        vertical-align: top;\n",
       "    }\n",
       "\n",
       "    .dataframe thead th {\n",
       "        text-align: right;\n",
       "    }\n",
       "</style>\n",
       "<table border=\"1\" class=\"dataframe\">\n",
       "  <thead>\n",
       "    <tr style=\"text-align: right;\">\n",
       "      <th></th>\n",
       "      <th>order_id</th>\n",
       "      <th>review_score</th>\n",
       "      <th>review_comment_title</th>\n",
       "      <th>review_comment_message</th>\n",
       "      <th>order_delivered_customer_date</th>\n",
       "      <th>order_estimated_delivery_date</th>\n",
       "      <th>customer_state</th>\n",
       "      <th>payment_type</th>\n",
       "      <th>payment_installments</th>\n",
       "      <th>payment_value</th>\n",
       "      <th>product_id</th>\n",
       "      <th>seller_id</th>\n",
       "      <th>price</th>\n",
       "      <th>freight_value</th>\n",
       "    </tr>\n",
       "  </thead>\n",
       "  <tbody>\n",
       "    <tr>\n",
       "      <td>0</td>\n",
       "      <td>73fc7af87114b39712e6da79b0a377eb</td>\n",
       "      <td>4</td>\n",
       "      <td>0</td>\n",
       "      <td>0</td>\n",
       "      <td>2018-01-17 18:42:41</td>\n",
       "      <td>2018-02-02</td>\n",
       "      <td>SP</td>\n",
       "      <td>credit_card</td>\n",
       "      <td>8</td>\n",
       "      <td>397.26</td>\n",
       "      <td>fd25ab760bfbba13c198fa3b4f1a0cd3</td>\n",
       "      <td>6d803cb79cc31c41c4c789a75933b3c7</td>\n",
       "      <td>185.00</td>\n",
       "      <td>13.63</td>\n",
       "    </tr>\n",
       "    <tr>\n",
       "      <td>1</td>\n",
       "      <td>73fc7af87114b39712e6da79b0a377eb</td>\n",
       "      <td>4</td>\n",
       "      <td>0</td>\n",
       "      <td>0</td>\n",
       "      <td>2018-01-17 18:42:41</td>\n",
       "      <td>2018-02-02</td>\n",
       "      <td>SP</td>\n",
       "      <td>credit_card</td>\n",
       "      <td>8</td>\n",
       "      <td>397.26</td>\n",
       "      <td>fd25ab760bfbba13c198fa3b4f1a0cd3</td>\n",
       "      <td>6d803cb79cc31c41c4c789a75933b3c7</td>\n",
       "      <td>185.00</td>\n",
       "      <td>13.63</td>\n",
       "    </tr>\n",
       "    <tr>\n",
       "      <td>2</td>\n",
       "      <td>a548910a1c6147796b98fdf73dbeba33</td>\n",
       "      <td>5</td>\n",
       "      <td>0</td>\n",
       "      <td>0</td>\n",
       "      <td>2018-03-09 23:17:20</td>\n",
       "      <td>2018-03-14</td>\n",
       "      <td>SP</td>\n",
       "      <td>credit_card</td>\n",
       "      <td>1</td>\n",
       "      <td>88.09</td>\n",
       "      <td>be0dbdc3d67d55727a65d4cd696ca73c</td>\n",
       "      <td>8e6d7754bc7e0f22c96d255ebda59eba</td>\n",
       "      <td>79.79</td>\n",
       "      <td>8.30</td>\n",
       "    </tr>\n",
       "    <tr>\n",
       "      <td>3</td>\n",
       "      <td>f9e4b658b201a9f2ecdecbb34bed034b</td>\n",
       "      <td>5</td>\n",
       "      <td>0</td>\n",
       "      <td>0</td>\n",
       "      <td>2018-02-16 17:28:48</td>\n",
       "      <td>2018-03-09</td>\n",
       "      <td>BA</td>\n",
       "      <td>credit_card</td>\n",
       "      <td>1</td>\n",
       "      <td>194.12</td>\n",
       "      <td>d1c427060a0f73f6b889a5c7c61f2ac4</td>\n",
       "      <td>a1043bafd471dff536d0c462352beb48</td>\n",
       "      <td>149.00</td>\n",
       "      <td>45.12</td>\n",
       "    </tr>\n",
       "    <tr>\n",
       "      <td>4</td>\n",
       "      <td>658677c97b385a9be170737859d3511b</td>\n",
       "      <td>5</td>\n",
       "      <td>0</td>\n",
       "      <td>1</td>\n",
       "      <td>2017-04-20 09:08:35</td>\n",
       "      <td>2017-05-10</td>\n",
       "      <td>SC</td>\n",
       "      <td>credit_card</td>\n",
       "      <td>1</td>\n",
       "      <td>222.84</td>\n",
       "      <td>52c80cedd4e90108bf4fa6a206ef6b03</td>\n",
       "      <td>a1043bafd471dff536d0c462352beb48</td>\n",
       "      <td>179.99</td>\n",
       "      <td>42.85</td>\n",
       "    </tr>\n",
       "  </tbody>\n",
       "</table>\n",
       "</div>"
      ],
      "text/plain": [
       "                           order_id  review_score  review_comment_title  \\\n",
       "0  73fc7af87114b39712e6da79b0a377eb             4                     0   \n",
       "1  73fc7af87114b39712e6da79b0a377eb             4                     0   \n",
       "2  a548910a1c6147796b98fdf73dbeba33             5                     0   \n",
       "3  f9e4b658b201a9f2ecdecbb34bed034b             5                     0   \n",
       "4  658677c97b385a9be170737859d3511b             5                     0   \n",
       "\n",
       "   review_comment_message order_delivered_customer_date  \\\n",
       "0                       0           2018-01-17 18:42:41   \n",
       "1                       0           2018-01-17 18:42:41   \n",
       "2                       0           2018-03-09 23:17:20   \n",
       "3                       0           2018-02-16 17:28:48   \n",
       "4                       1           2017-04-20 09:08:35   \n",
       "\n",
       "  order_estimated_delivery_date customer_state payment_type  \\\n",
       "0                    2018-02-02             SP  credit_card   \n",
       "1                    2018-02-02             SP  credit_card   \n",
       "2                    2018-03-14             SP  credit_card   \n",
       "3                    2018-03-09             BA  credit_card   \n",
       "4                    2017-05-10             SC  credit_card   \n",
       "\n",
       "   payment_installments  payment_value                        product_id  \\\n",
       "0                     8         397.26  fd25ab760bfbba13c198fa3b4f1a0cd3   \n",
       "1                     8         397.26  fd25ab760bfbba13c198fa3b4f1a0cd3   \n",
       "2                     1          88.09  be0dbdc3d67d55727a65d4cd696ca73c   \n",
       "3                     1         194.12  d1c427060a0f73f6b889a5c7c61f2ac4   \n",
       "4                     1         222.84  52c80cedd4e90108bf4fa6a206ef6b03   \n",
       "\n",
       "                          seller_id   price  freight_value  \n",
       "0  6d803cb79cc31c41c4c789a75933b3c7  185.00          13.63  \n",
       "1  6d803cb79cc31c41c4c789a75933b3c7  185.00          13.63  \n",
       "2  8e6d7754bc7e0f22c96d255ebda59eba   79.79           8.30  \n",
       "3  a1043bafd471dff536d0c462352beb48  149.00          45.12  \n",
       "4  a1043bafd471dff536d0c462352beb48  179.99          42.85  "
      ]
     },
     "execution_count": 38,
     "metadata": {},
     "output_type": "execute_result"
    }
   ],
   "source": [
    "rocpi_df = pd.merge(rocp_df, item_df, on='order_id')\n",
    "rocpi_df.drop(['shipping_limit_date', 'order_item_id'], axis='columns', inplace=True)\n",
    "rocpi_df.info()\n",
    "rocpi_df.head()"
   ]
  },
  {
   "cell_type": "code",
   "execution_count": 39,
   "metadata": {
    "scrolled": true
   },
   "outputs": [
    {
     "name": "stdout",
     "output_type": "stream",
     "text": [
      "<class 'pandas.core.frame.DataFrame'>\n",
      "Int64Index: 118315 entries, 0 to 118314\n",
      "Data columns (total 21 columns):\n",
      "order_id                         118315 non-null object\n",
      "review_score                     118315 non-null int64\n",
      "review_comment_title             118315 non-null int64\n",
      "review_comment_message           118315 non-null int64\n",
      "order_delivered_customer_date    115727 non-null datetime64[ns]\n",
      "order_estimated_delivery_date    118315 non-null datetime64[ns]\n",
      "customer_state                   118315 non-null object\n",
      "payment_type                     118315 non-null object\n",
      "payment_installments             118315 non-null int64\n",
      "payment_value                    118315 non-null float64\n",
      "seller_id                        118315 non-null object\n",
      "price                            118315 non-null float64\n",
      "freight_value                    118315 non-null float64\n",
      "product_category_name            118315 non-null object\n",
      "product_name_lenght              118315 non-null float64\n",
      "product_description_lenght       118315 non-null float64\n",
      "product_photos_qty               118315 non-null float64\n",
      "product_weight_g                 118315 non-null float64\n",
      "product_length_cm                118315 non-null float64\n",
      "product_height_cm                118315 non-null float64\n",
      "product_width_cm                 118315 non-null float64\n",
      "dtypes: datetime64[ns](2), float64(10), int64(4), object(5)\n",
      "memory usage: 19.9+ MB\n"
     ]
    },
    {
     "data": {
      "text/html": [
       "<div>\n",
       "<style scoped>\n",
       "    .dataframe tbody tr th:only-of-type {\n",
       "        vertical-align: middle;\n",
       "    }\n",
       "\n",
       "    .dataframe tbody tr th {\n",
       "        vertical-align: top;\n",
       "    }\n",
       "\n",
       "    .dataframe thead th {\n",
       "        text-align: right;\n",
       "    }\n",
       "</style>\n",
       "<table border=\"1\" class=\"dataframe\">\n",
       "  <thead>\n",
       "    <tr style=\"text-align: right;\">\n",
       "      <th></th>\n",
       "      <th>order_id</th>\n",
       "      <th>review_score</th>\n",
       "      <th>review_comment_title</th>\n",
       "      <th>review_comment_message</th>\n",
       "      <th>order_delivered_customer_date</th>\n",
       "      <th>order_estimated_delivery_date</th>\n",
       "      <th>customer_state</th>\n",
       "      <th>payment_type</th>\n",
       "      <th>payment_installments</th>\n",
       "      <th>payment_value</th>\n",
       "      <th>...</th>\n",
       "      <th>price</th>\n",
       "      <th>freight_value</th>\n",
       "      <th>product_category_name</th>\n",
       "      <th>product_name_lenght</th>\n",
       "      <th>product_description_lenght</th>\n",
       "      <th>product_photos_qty</th>\n",
       "      <th>product_weight_g</th>\n",
       "      <th>product_length_cm</th>\n",
       "      <th>product_height_cm</th>\n",
       "      <th>product_width_cm</th>\n",
       "    </tr>\n",
       "  </thead>\n",
       "  <tbody>\n",
       "    <tr>\n",
       "      <td>0</td>\n",
       "      <td>73fc7af87114b39712e6da79b0a377eb</td>\n",
       "      <td>4</td>\n",
       "      <td>0</td>\n",
       "      <td>0</td>\n",
       "      <td>2018-01-17 18:42:41</td>\n",
       "      <td>2018-02-02</td>\n",
       "      <td>SP</td>\n",
       "      <td>credit_card</td>\n",
       "      <td>8</td>\n",
       "      <td>397.26</td>\n",
       "      <td>...</td>\n",
       "      <td>185.00</td>\n",
       "      <td>13.63</td>\n",
       "      <td>esporte_lazer</td>\n",
       "      <td>42.0</td>\n",
       "      <td>858.0</td>\n",
       "      <td>1.0</td>\n",
       "      <td>1300.0</td>\n",
       "      <td>30.0</td>\n",
       "      <td>30.0</td>\n",
       "      <td>35.0</td>\n",
       "    </tr>\n",
       "    <tr>\n",
       "      <td>1</td>\n",
       "      <td>73fc7af87114b39712e6da79b0a377eb</td>\n",
       "      <td>4</td>\n",
       "      <td>0</td>\n",
       "      <td>0</td>\n",
       "      <td>2018-01-17 18:42:41</td>\n",
       "      <td>2018-02-02</td>\n",
       "      <td>SP</td>\n",
       "      <td>credit_card</td>\n",
       "      <td>8</td>\n",
       "      <td>397.26</td>\n",
       "      <td>...</td>\n",
       "      <td>185.00</td>\n",
       "      <td>13.63</td>\n",
       "      <td>esporte_lazer</td>\n",
       "      <td>42.0</td>\n",
       "      <td>858.0</td>\n",
       "      <td>1.0</td>\n",
       "      <td>1300.0</td>\n",
       "      <td>30.0</td>\n",
       "      <td>30.0</td>\n",
       "      <td>35.0</td>\n",
       "    </tr>\n",
       "    <tr>\n",
       "      <td>2</td>\n",
       "      <td>19721d59a9764437477eff0730b48665</td>\n",
       "      <td>5</td>\n",
       "      <td>0</td>\n",
       "      <td>0</td>\n",
       "      <td>2018-04-09 21:53:23</td>\n",
       "      <td>2018-04-27</td>\n",
       "      <td>RS</td>\n",
       "      <td>credit_card</td>\n",
       "      <td>3</td>\n",
       "      <td>205.26</td>\n",
       "      <td>...</td>\n",
       "      <td>185.00</td>\n",
       "      <td>20.26</td>\n",
       "      <td>esporte_lazer</td>\n",
       "      <td>42.0</td>\n",
       "      <td>858.0</td>\n",
       "      <td>1.0</td>\n",
       "      <td>1300.0</td>\n",
       "      <td>30.0</td>\n",
       "      <td>30.0</td>\n",
       "      <td>35.0</td>\n",
       "    </tr>\n",
       "    <tr>\n",
       "      <td>3</td>\n",
       "      <td>efd626e6a12a82d76e456e34093f8356</td>\n",
       "      <td>5</td>\n",
       "      <td>0</td>\n",
       "      <td>0</td>\n",
       "      <td>2017-12-27 18:19:53</td>\n",
       "      <td>2018-01-08</td>\n",
       "      <td>MG</td>\n",
       "      <td>credit_card</td>\n",
       "      <td>2</td>\n",
       "      <td>202.05</td>\n",
       "      <td>...</td>\n",
       "      <td>185.00</td>\n",
       "      <td>17.05</td>\n",
       "      <td>esporte_lazer</td>\n",
       "      <td>42.0</td>\n",
       "      <td>858.0</td>\n",
       "      <td>1.0</td>\n",
       "      <td>1300.0</td>\n",
       "      <td>30.0</td>\n",
       "      <td>30.0</td>\n",
       "      <td>35.0</td>\n",
       "    </tr>\n",
       "    <tr>\n",
       "      <td>4</td>\n",
       "      <td>a548910a1c6147796b98fdf73dbeba33</td>\n",
       "      <td>5</td>\n",
       "      <td>0</td>\n",
       "      <td>0</td>\n",
       "      <td>2018-03-09 23:17:20</td>\n",
       "      <td>2018-03-14</td>\n",
       "      <td>SP</td>\n",
       "      <td>credit_card</td>\n",
       "      <td>1</td>\n",
       "      <td>88.09</td>\n",
       "      <td>...</td>\n",
       "      <td>79.79</td>\n",
       "      <td>8.30</td>\n",
       "      <td>informatica_acessorios</td>\n",
       "      <td>47.0</td>\n",
       "      <td>493.0</td>\n",
       "      <td>1.0</td>\n",
       "      <td>245.0</td>\n",
       "      <td>19.0</td>\n",
       "      <td>14.0</td>\n",
       "      <td>14.0</td>\n",
       "    </tr>\n",
       "  </tbody>\n",
       "</table>\n",
       "<p>5 rows × 21 columns</p>\n",
       "</div>"
      ],
      "text/plain": [
       "                           order_id  review_score  review_comment_title  \\\n",
       "0  73fc7af87114b39712e6da79b0a377eb             4                     0   \n",
       "1  73fc7af87114b39712e6da79b0a377eb             4                     0   \n",
       "2  19721d59a9764437477eff0730b48665             5                     0   \n",
       "3  efd626e6a12a82d76e456e34093f8356             5                     0   \n",
       "4  a548910a1c6147796b98fdf73dbeba33             5                     0   \n",
       "\n",
       "   review_comment_message order_delivered_customer_date  \\\n",
       "0                       0           2018-01-17 18:42:41   \n",
       "1                       0           2018-01-17 18:42:41   \n",
       "2                       0           2018-04-09 21:53:23   \n",
       "3                       0           2017-12-27 18:19:53   \n",
       "4                       0           2018-03-09 23:17:20   \n",
       "\n",
       "  order_estimated_delivery_date customer_state payment_type  \\\n",
       "0                    2018-02-02             SP  credit_card   \n",
       "1                    2018-02-02             SP  credit_card   \n",
       "2                    2018-04-27             RS  credit_card   \n",
       "3                    2018-01-08             MG  credit_card   \n",
       "4                    2018-03-14             SP  credit_card   \n",
       "\n",
       "   payment_installments  payment_value  ...   price  freight_value  \\\n",
       "0                     8         397.26  ...  185.00          13.63   \n",
       "1                     8         397.26  ...  185.00          13.63   \n",
       "2                     3         205.26  ...  185.00          20.26   \n",
       "3                     2         202.05  ...  185.00          17.05   \n",
       "4                     1          88.09  ...   79.79           8.30   \n",
       "\n",
       "    product_category_name product_name_lenght  product_description_lenght  \\\n",
       "0           esporte_lazer                42.0                       858.0   \n",
       "1           esporte_lazer                42.0                       858.0   \n",
       "2           esporte_lazer                42.0                       858.0   \n",
       "3           esporte_lazer                42.0                       858.0   \n",
       "4  informatica_acessorios                47.0                       493.0   \n",
       "\n",
       "   product_photos_qty  product_weight_g  product_length_cm  product_height_cm  \\\n",
       "0                 1.0            1300.0               30.0               30.0   \n",
       "1                 1.0            1300.0               30.0               30.0   \n",
       "2                 1.0            1300.0               30.0               30.0   \n",
       "3                 1.0            1300.0               30.0               30.0   \n",
       "4                 1.0             245.0               19.0               14.0   \n",
       "\n",
       "   product_width_cm  \n",
       "0              35.0  \n",
       "1              35.0  \n",
       "2              35.0  \n",
       "3              35.0  \n",
       "4              14.0  \n",
       "\n",
       "[5 rows x 21 columns]"
      ]
     },
     "execution_count": 39,
     "metadata": {},
     "output_type": "execute_result"
    }
   ],
   "source": [
    "rocpip_df = pd.merge(rocpi_df, product_df, on='product_id')\n",
    "rocpip_df.drop('product_id', axis='columns', inplace=True)\n",
    "rocpip_df.info()\n",
    "rocpip_df.head()"
   ]
  },
  {
   "cell_type": "code",
   "execution_count": 40,
   "metadata": {
    "scrolled": true
   },
   "outputs": [
    {
     "name": "stdout",
     "output_type": "stream",
     "text": [
      "<class 'pandas.core.frame.DataFrame'>\n",
      "Int64Index: 118315 entries, 0 to 118314\n",
      "Data columns (total 21 columns):\n",
      "order_id                         118315 non-null object\n",
      "review_score                     118315 non-null int64\n",
      "review_comment_title             118315 non-null int64\n",
      "review_comment_message           118315 non-null int64\n",
      "order_delivered_customer_date    115727 non-null datetime64[ns]\n",
      "order_estimated_delivery_date    118315 non-null datetime64[ns]\n",
      "customer_state                   118315 non-null object\n",
      "payment_type                     118315 non-null object\n",
      "payment_installments             118315 non-null int64\n",
      "payment_value                    118315 non-null float64\n",
      "price                            118315 non-null float64\n",
      "freight_value                    118315 non-null float64\n",
      "product_category_name            118315 non-null object\n",
      "product_name_lenght              118315 non-null float64\n",
      "product_description_lenght       118315 non-null float64\n",
      "product_photos_qty               118315 non-null float64\n",
      "product_weight_g                 118315 non-null float64\n",
      "product_length_cm                118315 non-null float64\n",
      "product_height_cm                118315 non-null float64\n",
      "product_width_cm                 118315 non-null float64\n",
      "seller_state                     118315 non-null object\n",
      "dtypes: datetime64[ns](2), float64(10), int64(4), object(5)\n",
      "memory usage: 19.9+ MB\n"
     ]
    },
    {
     "data": {
      "text/html": [
       "<div>\n",
       "<style scoped>\n",
       "    .dataframe tbody tr th:only-of-type {\n",
       "        vertical-align: middle;\n",
       "    }\n",
       "\n",
       "    .dataframe tbody tr th {\n",
       "        vertical-align: top;\n",
       "    }\n",
       "\n",
       "    .dataframe thead th {\n",
       "        text-align: right;\n",
       "    }\n",
       "</style>\n",
       "<table border=\"1\" class=\"dataframe\">\n",
       "  <thead>\n",
       "    <tr style=\"text-align: right;\">\n",
       "      <th></th>\n",
       "      <th>order_id</th>\n",
       "      <th>review_score</th>\n",
       "      <th>review_comment_title</th>\n",
       "      <th>review_comment_message</th>\n",
       "      <th>order_delivered_customer_date</th>\n",
       "      <th>order_estimated_delivery_date</th>\n",
       "      <th>customer_state</th>\n",
       "      <th>payment_type</th>\n",
       "      <th>payment_installments</th>\n",
       "      <th>payment_value</th>\n",
       "      <th>...</th>\n",
       "      <th>freight_value</th>\n",
       "      <th>product_category_name</th>\n",
       "      <th>product_name_lenght</th>\n",
       "      <th>product_description_lenght</th>\n",
       "      <th>product_photos_qty</th>\n",
       "      <th>product_weight_g</th>\n",
       "      <th>product_length_cm</th>\n",
       "      <th>product_height_cm</th>\n",
       "      <th>product_width_cm</th>\n",
       "      <th>seller_state</th>\n",
       "    </tr>\n",
       "  </thead>\n",
       "  <tbody>\n",
       "    <tr>\n",
       "      <td>0</td>\n",
       "      <td>73fc7af87114b39712e6da79b0a377eb</td>\n",
       "      <td>4</td>\n",
       "      <td>0</td>\n",
       "      <td>0</td>\n",
       "      <td>2018-01-17 18:42:41</td>\n",
       "      <td>2018-02-02</td>\n",
       "      <td>SP</td>\n",
       "      <td>credit_card</td>\n",
       "      <td>8</td>\n",
       "      <td>397.26</td>\n",
       "      <td>...</td>\n",
       "      <td>13.63</td>\n",
       "      <td>esporte_lazer</td>\n",
       "      <td>42.0</td>\n",
       "      <td>858.0</td>\n",
       "      <td>1.0</td>\n",
       "      <td>1300.0</td>\n",
       "      <td>30.0</td>\n",
       "      <td>30.0</td>\n",
       "      <td>35.0</td>\n",
       "      <td>SP</td>\n",
       "    </tr>\n",
       "    <tr>\n",
       "      <td>1</td>\n",
       "      <td>73fc7af87114b39712e6da79b0a377eb</td>\n",
       "      <td>4</td>\n",
       "      <td>0</td>\n",
       "      <td>0</td>\n",
       "      <td>2018-01-17 18:42:41</td>\n",
       "      <td>2018-02-02</td>\n",
       "      <td>SP</td>\n",
       "      <td>credit_card</td>\n",
       "      <td>8</td>\n",
       "      <td>397.26</td>\n",
       "      <td>...</td>\n",
       "      <td>13.63</td>\n",
       "      <td>esporte_lazer</td>\n",
       "      <td>42.0</td>\n",
       "      <td>858.0</td>\n",
       "      <td>1.0</td>\n",
       "      <td>1300.0</td>\n",
       "      <td>30.0</td>\n",
       "      <td>30.0</td>\n",
       "      <td>35.0</td>\n",
       "      <td>SP</td>\n",
       "    </tr>\n",
       "    <tr>\n",
       "      <td>2</td>\n",
       "      <td>19721d59a9764437477eff0730b48665</td>\n",
       "      <td>5</td>\n",
       "      <td>0</td>\n",
       "      <td>0</td>\n",
       "      <td>2018-04-09 21:53:23</td>\n",
       "      <td>2018-04-27</td>\n",
       "      <td>RS</td>\n",
       "      <td>credit_card</td>\n",
       "      <td>3</td>\n",
       "      <td>205.26</td>\n",
       "      <td>...</td>\n",
       "      <td>20.26</td>\n",
       "      <td>esporte_lazer</td>\n",
       "      <td>42.0</td>\n",
       "      <td>858.0</td>\n",
       "      <td>1.0</td>\n",
       "      <td>1300.0</td>\n",
       "      <td>30.0</td>\n",
       "      <td>30.0</td>\n",
       "      <td>35.0</td>\n",
       "      <td>SP</td>\n",
       "    </tr>\n",
       "    <tr>\n",
       "      <td>3</td>\n",
       "      <td>efd626e6a12a82d76e456e34093f8356</td>\n",
       "      <td>5</td>\n",
       "      <td>0</td>\n",
       "      <td>0</td>\n",
       "      <td>2017-12-27 18:19:53</td>\n",
       "      <td>2018-01-08</td>\n",
       "      <td>MG</td>\n",
       "      <td>credit_card</td>\n",
       "      <td>2</td>\n",
       "      <td>202.05</td>\n",
       "      <td>...</td>\n",
       "      <td>17.05</td>\n",
       "      <td>esporte_lazer</td>\n",
       "      <td>42.0</td>\n",
       "      <td>858.0</td>\n",
       "      <td>1.0</td>\n",
       "      <td>1300.0</td>\n",
       "      <td>30.0</td>\n",
       "      <td>30.0</td>\n",
       "      <td>35.0</td>\n",
       "      <td>SP</td>\n",
       "    </tr>\n",
       "    <tr>\n",
       "      <td>4</td>\n",
       "      <td>b0bc656fed47584c160f8cff2d7b8bbd</td>\n",
       "      <td>5</td>\n",
       "      <td>0</td>\n",
       "      <td>0</td>\n",
       "      <td>2018-03-16 14:16:19</td>\n",
       "      <td>2018-03-23</td>\n",
       "      <td>MG</td>\n",
       "      <td>credit_card</td>\n",
       "      <td>1</td>\n",
       "      <td>306.40</td>\n",
       "      <td>...</td>\n",
       "      <td>18.20</td>\n",
       "      <td>esporte_lazer</td>\n",
       "      <td>47.0</td>\n",
       "      <td>858.0</td>\n",
       "      <td>1.0</td>\n",
       "      <td>1600.0</td>\n",
       "      <td>30.0</td>\n",
       "      <td>30.0</td>\n",
       "      <td>35.0</td>\n",
       "      <td>SP</td>\n",
       "    </tr>\n",
       "  </tbody>\n",
       "</table>\n",
       "<p>5 rows × 21 columns</p>\n",
       "</div>"
      ],
      "text/plain": [
       "                           order_id  review_score  review_comment_title  \\\n",
       "0  73fc7af87114b39712e6da79b0a377eb             4                     0   \n",
       "1  73fc7af87114b39712e6da79b0a377eb             4                     0   \n",
       "2  19721d59a9764437477eff0730b48665             5                     0   \n",
       "3  efd626e6a12a82d76e456e34093f8356             5                     0   \n",
       "4  b0bc656fed47584c160f8cff2d7b8bbd             5                     0   \n",
       "\n",
       "   review_comment_message order_delivered_customer_date  \\\n",
       "0                       0           2018-01-17 18:42:41   \n",
       "1                       0           2018-01-17 18:42:41   \n",
       "2                       0           2018-04-09 21:53:23   \n",
       "3                       0           2017-12-27 18:19:53   \n",
       "4                       0           2018-03-16 14:16:19   \n",
       "\n",
       "  order_estimated_delivery_date customer_state payment_type  \\\n",
       "0                    2018-02-02             SP  credit_card   \n",
       "1                    2018-02-02             SP  credit_card   \n",
       "2                    2018-04-27             RS  credit_card   \n",
       "3                    2018-01-08             MG  credit_card   \n",
       "4                    2018-03-23             MG  credit_card   \n",
       "\n",
       "   payment_installments  payment_value  ...  freight_value  \\\n",
       "0                     8         397.26  ...          13.63   \n",
       "1                     8         397.26  ...          13.63   \n",
       "2                     3         205.26  ...          20.26   \n",
       "3                     2         202.05  ...          17.05   \n",
       "4                     1         306.40  ...          18.20   \n",
       "\n",
       "   product_category_name product_name_lenght  product_description_lenght  \\\n",
       "0          esporte_lazer                42.0                       858.0   \n",
       "1          esporte_lazer                42.0                       858.0   \n",
       "2          esporte_lazer                42.0                       858.0   \n",
       "3          esporte_lazer                42.0                       858.0   \n",
       "4          esporte_lazer                47.0                       858.0   \n",
       "\n",
       "   product_photos_qty  product_weight_g  product_length_cm  product_height_cm  \\\n",
       "0                 1.0            1300.0               30.0               30.0   \n",
       "1                 1.0            1300.0               30.0               30.0   \n",
       "2                 1.0            1300.0               30.0               30.0   \n",
       "3                 1.0            1300.0               30.0               30.0   \n",
       "4                 1.0            1600.0               30.0               30.0   \n",
       "\n",
       "   product_width_cm  seller_state  \n",
       "0              35.0            SP  \n",
       "1              35.0            SP  \n",
       "2              35.0            SP  \n",
       "3              35.0            SP  \n",
       "4              35.0            SP  \n",
       "\n",
       "[5 rows x 21 columns]"
      ]
     },
     "execution_count": 40,
     "metadata": {},
     "output_type": "execute_result"
    }
   ],
   "source": [
    "rocpips_df = pd.merge(rocpip_df, seller_df, on='seller_id')\n",
    "rocpips_df.drop('seller_id', axis='columns', inplace=True)\n",
    "rocpips_df.info()\n",
    "rocpips_df.head()"
   ]
  },
  {
   "cell_type": "markdown",
   "metadata": {},
   "source": [
    "# Feature Engineering"
   ]
  },
  {
   "cell_type": "markdown",
   "metadata": {},
   "source": [
    "## Delivery Delay"
   ]
  },
  {
   "cell_type": "code",
   "execution_count": 41,
   "metadata": {
    "scrolled": true
   },
   "outputs": [],
   "source": [
    "# create features and drop columns they were built on\n",
    "rocpips_df['delay'] = (rocpips_df.order_delivered_customer_date - rocpips_df.order_estimated_delivery_date).dt.days\n",
    "rocpips_df.drop(['order_delivered_customer_date', 'order_estimated_delivery_date'], axis='columns', inplace=True)\n",
    "rocpips_df.fillna(rocpips_df.median(), inplace=True)"
   ]
  },
  {
   "cell_type": "code",
   "execution_count": 42,
   "metadata": {
    "scrolled": false
   },
   "outputs": [
    {
     "data": {
      "text/html": [
       "<div>\n",
       "<style scoped>\n",
       "    .dataframe tbody tr th:only-of-type {\n",
       "        vertical-align: middle;\n",
       "    }\n",
       "\n",
       "    .dataframe tbody tr th {\n",
       "        vertical-align: top;\n",
       "    }\n",
       "\n",
       "    .dataframe thead th {\n",
       "        text-align: right;\n",
       "    }\n",
       "</style>\n",
       "<table border=\"1\" class=\"dataframe\">\n",
       "  <thead>\n",
       "    <tr style=\"text-align: right;\">\n",
       "      <th></th>\n",
       "      <th>order_id</th>\n",
       "      <th>review_score</th>\n",
       "      <th>review_comment_title</th>\n",
       "      <th>review_comment_message</th>\n",
       "      <th>customer_state</th>\n",
       "      <th>payment_type</th>\n",
       "      <th>payment_installments</th>\n",
       "      <th>payment_value</th>\n",
       "      <th>price</th>\n",
       "      <th>freight_value</th>\n",
       "      <th>product_category_name</th>\n",
       "      <th>product_name_lenght</th>\n",
       "      <th>product_description_lenght</th>\n",
       "      <th>product_photos_qty</th>\n",
       "      <th>product_weight_g</th>\n",
       "      <th>product_length_cm</th>\n",
       "      <th>product_height_cm</th>\n",
       "      <th>product_width_cm</th>\n",
       "      <th>seller_state</th>\n",
       "      <th>delay</th>\n",
       "    </tr>\n",
       "  </thead>\n",
       "  <tbody>\n",
       "    <tr>\n",
       "      <td>0</td>\n",
       "      <td>73fc7af87114b39712e6da79b0a377eb</td>\n",
       "      <td>4</td>\n",
       "      <td>0</td>\n",
       "      <td>0</td>\n",
       "      <td>SP</td>\n",
       "      <td>credit_card</td>\n",
       "      <td>8</td>\n",
       "      <td>397.26</td>\n",
       "      <td>185.0</td>\n",
       "      <td>13.63</td>\n",
       "      <td>esporte_lazer</td>\n",
       "      <td>42.0</td>\n",
       "      <td>858.0</td>\n",
       "      <td>1.0</td>\n",
       "      <td>1300.0</td>\n",
       "      <td>30.0</td>\n",
       "      <td>30.0</td>\n",
       "      <td>35.0</td>\n",
       "      <td>SP</td>\n",
       "      <td>-16.0</td>\n",
       "    </tr>\n",
       "    <tr>\n",
       "      <td>1</td>\n",
       "      <td>73fc7af87114b39712e6da79b0a377eb</td>\n",
       "      <td>4</td>\n",
       "      <td>0</td>\n",
       "      <td>0</td>\n",
       "      <td>SP</td>\n",
       "      <td>credit_card</td>\n",
       "      <td>8</td>\n",
       "      <td>397.26</td>\n",
       "      <td>185.0</td>\n",
       "      <td>13.63</td>\n",
       "      <td>esporte_lazer</td>\n",
       "      <td>42.0</td>\n",
       "      <td>858.0</td>\n",
       "      <td>1.0</td>\n",
       "      <td>1300.0</td>\n",
       "      <td>30.0</td>\n",
       "      <td>30.0</td>\n",
       "      <td>35.0</td>\n",
       "      <td>SP</td>\n",
       "      <td>-16.0</td>\n",
       "    </tr>\n",
       "    <tr>\n",
       "      <td>2</td>\n",
       "      <td>19721d59a9764437477eff0730b48665</td>\n",
       "      <td>5</td>\n",
       "      <td>0</td>\n",
       "      <td>0</td>\n",
       "      <td>RS</td>\n",
       "      <td>credit_card</td>\n",
       "      <td>3</td>\n",
       "      <td>205.26</td>\n",
       "      <td>185.0</td>\n",
       "      <td>20.26</td>\n",
       "      <td>esporte_lazer</td>\n",
       "      <td>42.0</td>\n",
       "      <td>858.0</td>\n",
       "      <td>1.0</td>\n",
       "      <td>1300.0</td>\n",
       "      <td>30.0</td>\n",
       "      <td>30.0</td>\n",
       "      <td>35.0</td>\n",
       "      <td>SP</td>\n",
       "      <td>-18.0</td>\n",
       "    </tr>\n",
       "    <tr>\n",
       "      <td>3</td>\n",
       "      <td>efd626e6a12a82d76e456e34093f8356</td>\n",
       "      <td>5</td>\n",
       "      <td>0</td>\n",
       "      <td>0</td>\n",
       "      <td>MG</td>\n",
       "      <td>credit_card</td>\n",
       "      <td>2</td>\n",
       "      <td>202.05</td>\n",
       "      <td>185.0</td>\n",
       "      <td>17.05</td>\n",
       "      <td>esporte_lazer</td>\n",
       "      <td>42.0</td>\n",
       "      <td>858.0</td>\n",
       "      <td>1.0</td>\n",
       "      <td>1300.0</td>\n",
       "      <td>30.0</td>\n",
       "      <td>30.0</td>\n",
       "      <td>35.0</td>\n",
       "      <td>SP</td>\n",
       "      <td>-12.0</td>\n",
       "    </tr>\n",
       "    <tr>\n",
       "      <td>4</td>\n",
       "      <td>b0bc656fed47584c160f8cff2d7b8bbd</td>\n",
       "      <td>5</td>\n",
       "      <td>0</td>\n",
       "      <td>0</td>\n",
       "      <td>MG</td>\n",
       "      <td>credit_card</td>\n",
       "      <td>1</td>\n",
       "      <td>306.40</td>\n",
       "      <td>135.0</td>\n",
       "      <td>18.20</td>\n",
       "      <td>esporte_lazer</td>\n",
       "      <td>47.0</td>\n",
       "      <td>858.0</td>\n",
       "      <td>1.0</td>\n",
       "      <td>1600.0</td>\n",
       "      <td>30.0</td>\n",
       "      <td>30.0</td>\n",
       "      <td>35.0</td>\n",
       "      <td>SP</td>\n",
       "      <td>-7.0</td>\n",
       "    </tr>\n",
       "    <tr>\n",
       "      <td>...</td>\n",
       "      <td>...</td>\n",
       "      <td>...</td>\n",
       "      <td>...</td>\n",
       "      <td>...</td>\n",
       "      <td>...</td>\n",
       "      <td>...</td>\n",
       "      <td>...</td>\n",
       "      <td>...</td>\n",
       "      <td>...</td>\n",
       "      <td>...</td>\n",
       "      <td>...</td>\n",
       "      <td>...</td>\n",
       "      <td>...</td>\n",
       "      <td>...</td>\n",
       "      <td>...</td>\n",
       "      <td>...</td>\n",
       "      <td>...</td>\n",
       "      <td>...</td>\n",
       "      <td>...</td>\n",
       "      <td>...</td>\n",
       "    </tr>\n",
       "    <tr>\n",
       "      <td>118310</td>\n",
       "      <td>8c1d27c10cc60cc369a428813bb71350</td>\n",
       "      <td>4</td>\n",
       "      <td>1</td>\n",
       "      <td>1</td>\n",
       "      <td>MG</td>\n",
       "      <td>credit_card</td>\n",
       "      <td>1</td>\n",
       "      <td>108.63</td>\n",
       "      <td>89.9</td>\n",
       "      <td>18.73</td>\n",
       "      <td>moveis_decoracao</td>\n",
       "      <td>50.0</td>\n",
       "      <td>1141.0</td>\n",
       "      <td>2.0</td>\n",
       "      <td>450.0</td>\n",
       "      <td>16.0</td>\n",
       "      <td>16.0</td>\n",
       "      <td>16.0</td>\n",
       "      <td>SP</td>\n",
       "      <td>-14.0</td>\n",
       "    </tr>\n",
       "    <tr>\n",
       "      <td>118311</td>\n",
       "      <td>80ba449ea98f8e879a829759b5a66294</td>\n",
       "      <td>5</td>\n",
       "      <td>0</td>\n",
       "      <td>0</td>\n",
       "      <td>GO</td>\n",
       "      <td>credit_card</td>\n",
       "      <td>4</td>\n",
       "      <td>327.25</td>\n",
       "      <td>289.9</td>\n",
       "      <td>37.35</td>\n",
       "      <td>beleza_saude</td>\n",
       "      <td>47.0</td>\n",
       "      <td>696.0</td>\n",
       "      <td>1.0</td>\n",
       "      <td>692.0</td>\n",
       "      <td>15.0</td>\n",
       "      <td>12.0</td>\n",
       "      <td>14.0</td>\n",
       "      <td>PR</td>\n",
       "      <td>-15.0</td>\n",
       "    </tr>\n",
       "    <tr>\n",
       "      <td>118312</td>\n",
       "      <td>5fd71cc4eb69ae6f65ac3acfcbc17ab5</td>\n",
       "      <td>5</td>\n",
       "      <td>0</td>\n",
       "      <td>0</td>\n",
       "      <td>RJ</td>\n",
       "      <td>credit_card</td>\n",
       "      <td>2</td>\n",
       "      <td>98.34</td>\n",
       "      <td>79.9</td>\n",
       "      <td>18.44</td>\n",
       "      <td>sinalizacao_e_seguranca</td>\n",
       "      <td>36.0</td>\n",
       "      <td>609.0</td>\n",
       "      <td>2.0</td>\n",
       "      <td>575.0</td>\n",
       "      <td>45.0</td>\n",
       "      <td>21.0</td>\n",
       "      <td>23.0</td>\n",
       "      <td>SP</td>\n",
       "      <td>-14.0</td>\n",
       "    </tr>\n",
       "    <tr>\n",
       "      <td>118313</td>\n",
       "      <td>61d5f1dcdf9b023ea7622b65d2362e4f</td>\n",
       "      <td>1</td>\n",
       "      <td>0</td>\n",
       "      <td>1</td>\n",
       "      <td>SP</td>\n",
       "      <td>credit_card</td>\n",
       "      <td>8</td>\n",
       "      <td>767.69</td>\n",
       "      <td>750.0</td>\n",
       "      <td>17.69</td>\n",
       "      <td>relogios_presentes</td>\n",
       "      <td>43.0</td>\n",
       "      <td>381.0</td>\n",
       "      <td>4.0</td>\n",
       "      <td>350.0</td>\n",
       "      <td>20.0</td>\n",
       "      <td>20.0</td>\n",
       "      <td>20.0</td>\n",
       "      <td>SP</td>\n",
       "      <td>-7.0</td>\n",
       "    </tr>\n",
       "    <tr>\n",
       "      <td>118314</td>\n",
       "      <td>5f4a120717a4d152577d7d2ec66c45be</td>\n",
       "      <td>5</td>\n",
       "      <td>0</td>\n",
       "      <td>0</td>\n",
       "      <td>RJ</td>\n",
       "      <td>credit_card</td>\n",
       "      <td>3</td>\n",
       "      <td>201.34</td>\n",
       "      <td>161.0</td>\n",
       "      <td>40.34</td>\n",
       "      <td>moveis_cozinha_area_de_servico_jantar_e_jardim</td>\n",
       "      <td>38.0</td>\n",
       "      <td>245.0</td>\n",
       "      <td>1.0</td>\n",
       "      <td>4000.0</td>\n",
       "      <td>31.0</td>\n",
       "      <td>42.0</td>\n",
       "      <td>43.0</td>\n",
       "      <td>PR</td>\n",
       "      <td>-24.0</td>\n",
       "    </tr>\n",
       "  </tbody>\n",
       "</table>\n",
       "<p>118315 rows × 20 columns</p>\n",
       "</div>"
      ],
      "text/plain": [
       "                                order_id  review_score  review_comment_title  \\\n",
       "0       73fc7af87114b39712e6da79b0a377eb             4                     0   \n",
       "1       73fc7af87114b39712e6da79b0a377eb             4                     0   \n",
       "2       19721d59a9764437477eff0730b48665             5                     0   \n",
       "3       efd626e6a12a82d76e456e34093f8356             5                     0   \n",
       "4       b0bc656fed47584c160f8cff2d7b8bbd             5                     0   \n",
       "...                                  ...           ...                   ...   \n",
       "118310  8c1d27c10cc60cc369a428813bb71350             4                     1   \n",
       "118311  80ba449ea98f8e879a829759b5a66294             5                     0   \n",
       "118312  5fd71cc4eb69ae6f65ac3acfcbc17ab5             5                     0   \n",
       "118313  61d5f1dcdf9b023ea7622b65d2362e4f             1                     0   \n",
       "118314  5f4a120717a4d152577d7d2ec66c45be             5                     0   \n",
       "\n",
       "        review_comment_message customer_state payment_type  \\\n",
       "0                            0             SP  credit_card   \n",
       "1                            0             SP  credit_card   \n",
       "2                            0             RS  credit_card   \n",
       "3                            0             MG  credit_card   \n",
       "4                            0             MG  credit_card   \n",
       "...                        ...            ...          ...   \n",
       "118310                       1             MG  credit_card   \n",
       "118311                       0             GO  credit_card   \n",
       "118312                       0             RJ  credit_card   \n",
       "118313                       1             SP  credit_card   \n",
       "118314                       0             RJ  credit_card   \n",
       "\n",
       "        payment_installments  payment_value  price  freight_value  \\\n",
       "0                          8         397.26  185.0          13.63   \n",
       "1                          8         397.26  185.0          13.63   \n",
       "2                          3         205.26  185.0          20.26   \n",
       "3                          2         202.05  185.0          17.05   \n",
       "4                          1         306.40  135.0          18.20   \n",
       "...                      ...            ...    ...            ...   \n",
       "118310                     1         108.63   89.9          18.73   \n",
       "118311                     4         327.25  289.9          37.35   \n",
       "118312                     2          98.34   79.9          18.44   \n",
       "118313                     8         767.69  750.0          17.69   \n",
       "118314                     3         201.34  161.0          40.34   \n",
       "\n",
       "                                 product_category_name  product_name_lenght  \\\n",
       "0                                        esporte_lazer                 42.0   \n",
       "1                                        esporte_lazer                 42.0   \n",
       "2                                        esporte_lazer                 42.0   \n",
       "3                                        esporte_lazer                 42.0   \n",
       "4                                        esporte_lazer                 47.0   \n",
       "...                                                ...                  ...   \n",
       "118310                                moveis_decoracao                 50.0   \n",
       "118311                                    beleza_saude                 47.0   \n",
       "118312                         sinalizacao_e_seguranca                 36.0   \n",
       "118313                              relogios_presentes                 43.0   \n",
       "118314  moveis_cozinha_area_de_servico_jantar_e_jardim                 38.0   \n",
       "\n",
       "        product_description_lenght  product_photos_qty  product_weight_g  \\\n",
       "0                            858.0                 1.0            1300.0   \n",
       "1                            858.0                 1.0            1300.0   \n",
       "2                            858.0                 1.0            1300.0   \n",
       "3                            858.0                 1.0            1300.0   \n",
       "4                            858.0                 1.0            1600.0   \n",
       "...                            ...                 ...               ...   \n",
       "118310                      1141.0                 2.0             450.0   \n",
       "118311                       696.0                 1.0             692.0   \n",
       "118312                       609.0                 2.0             575.0   \n",
       "118313                       381.0                 4.0             350.0   \n",
       "118314                       245.0                 1.0            4000.0   \n",
       "\n",
       "        product_length_cm  product_height_cm  product_width_cm seller_state  \\\n",
       "0                    30.0               30.0              35.0           SP   \n",
       "1                    30.0               30.0              35.0           SP   \n",
       "2                    30.0               30.0              35.0           SP   \n",
       "3                    30.0               30.0              35.0           SP   \n",
       "4                    30.0               30.0              35.0           SP   \n",
       "...                   ...                ...               ...          ...   \n",
       "118310               16.0               16.0              16.0           SP   \n",
       "118311               15.0               12.0              14.0           PR   \n",
       "118312               45.0               21.0              23.0           SP   \n",
       "118313               20.0               20.0              20.0           SP   \n",
       "118314               31.0               42.0              43.0           PR   \n",
       "\n",
       "        delay  \n",
       "0       -16.0  \n",
       "1       -16.0  \n",
       "2       -18.0  \n",
       "3       -12.0  \n",
       "4        -7.0  \n",
       "...       ...  \n",
       "118310  -14.0  \n",
       "118311  -15.0  \n",
       "118312  -14.0  \n",
       "118313   -7.0  \n",
       "118314  -24.0  \n",
       "\n",
       "[118315 rows x 20 columns]"
      ]
     },
     "execution_count": 42,
     "metadata": {},
     "output_type": "execute_result"
    }
   ],
   "source": [
    "rocpips_df"
   ]
  },
  {
   "cell_type": "markdown",
   "metadata": {},
   "source": [
    "## Extra Charge"
   ]
  },
  {
   "cell_type": "code",
   "execution_count": 43,
   "metadata": {
    "scrolled": false
   },
   "outputs": [
    {
     "data": {
      "text/html": [
       "<div>\n",
       "<style scoped>\n",
       "    .dataframe tbody tr th:only-of-type {\n",
       "        vertical-align: middle;\n",
       "    }\n",
       "\n",
       "    .dataframe tbody tr th {\n",
       "        vertical-align: top;\n",
       "    }\n",
       "\n",
       "    .dataframe thead th {\n",
       "        text-align: right;\n",
       "    }\n",
       "</style>\n",
       "<table border=\"1\" class=\"dataframe\">\n",
       "  <thead>\n",
       "    <tr style=\"text-align: right;\">\n",
       "      <th></th>\n",
       "      <th>payment_value</th>\n",
       "    </tr>\n",
       "    <tr>\n",
       "      <th>order_id</th>\n",
       "      <th></th>\n",
       "    </tr>\n",
       "  </thead>\n",
       "  <tbody>\n",
       "    <tr>\n",
       "      <td>00010242fe8c5a6d1ba2dd792cb16214</td>\n",
       "      <td>72.19</td>\n",
       "    </tr>\n",
       "    <tr>\n",
       "      <td>00018f77f2f0320c557190d7a144bdd3</td>\n",
       "      <td>259.83</td>\n",
       "    </tr>\n",
       "    <tr>\n",
       "      <td>000229ec398224ef6ca0657da4fc703e</td>\n",
       "      <td>216.87</td>\n",
       "    </tr>\n",
       "    <tr>\n",
       "      <td>00024acbcdf0a6daa1e931b038114c75</td>\n",
       "      <td>25.78</td>\n",
       "    </tr>\n",
       "    <tr>\n",
       "      <td>00042b26cf59d7ce69dfabb4e55b4fd9</td>\n",
       "      <td>218.04</td>\n",
       "    </tr>\n",
       "    <tr>\n",
       "      <td>...</td>\n",
       "      <td>...</td>\n",
       "    </tr>\n",
       "    <tr>\n",
       "      <td>fffc94f6ce00a00581880bf54a75a037</td>\n",
       "      <td>343.40</td>\n",
       "    </tr>\n",
       "    <tr>\n",
       "      <td>fffcd46ef2263f404302a634eb57f7eb</td>\n",
       "      <td>386.53</td>\n",
       "    </tr>\n",
       "    <tr>\n",
       "      <td>fffce4705a9662cd70adb13d4a31832d</td>\n",
       "      <td>116.85</td>\n",
       "    </tr>\n",
       "    <tr>\n",
       "      <td>fffe18544ffabc95dfada21779c9644f</td>\n",
       "      <td>64.71</td>\n",
       "    </tr>\n",
       "    <tr>\n",
       "      <td>fffe41c64501cc87c801fd61db3f6244</td>\n",
       "      <td>55.79</td>\n",
       "    </tr>\n",
       "  </tbody>\n",
       "</table>\n",
       "<p>99440 rows × 1 columns</p>\n",
       "</div>"
      ],
      "text/plain": [
       "                                  payment_value\n",
       "order_id                                       \n",
       "00010242fe8c5a6d1ba2dd792cb16214          72.19\n",
       "00018f77f2f0320c557190d7a144bdd3         259.83\n",
       "000229ec398224ef6ca0657da4fc703e         216.87\n",
       "00024acbcdf0a6daa1e931b038114c75          25.78\n",
       "00042b26cf59d7ce69dfabb4e55b4fd9         218.04\n",
       "...                                         ...\n",
       "fffc94f6ce00a00581880bf54a75a037         343.40\n",
       "fffcd46ef2263f404302a634eb57f7eb         386.53\n",
       "fffce4705a9662cd70adb13d4a31832d         116.85\n",
       "fffe18544ffabc95dfada21779c9644f          64.71\n",
       "fffe41c64501cc87c801fd61db3f6244          55.79\n",
       "\n",
       "[99440 rows x 1 columns]"
      ]
     },
     "execution_count": 43,
     "metadata": {},
     "output_type": "execute_result"
    }
   ],
   "source": [
    "# cumulative payment of multiple installments for order\n",
    "payment_value_df = pd.DataFrame(payment_df.groupby('order_id')['payment_value'].sum())\n",
    "payment_value_df"
   ]
  },
  {
   "cell_type": "code",
   "execution_count": 44,
   "metadata": {
    "scrolled": true
   },
   "outputs": [
    {
     "data": {
      "text/html": [
       "<div>\n",
       "<style scoped>\n",
       "    .dataframe tbody tr th:only-of-type {\n",
       "        vertical-align: middle;\n",
       "    }\n",
       "\n",
       "    .dataframe tbody tr th {\n",
       "        vertical-align: top;\n",
       "    }\n",
       "\n",
       "    .dataframe thead th {\n",
       "        text-align: right;\n",
       "    }\n",
       "</style>\n",
       "<table border=\"1\" class=\"dataframe\">\n",
       "  <thead>\n",
       "    <tr style=\"text-align: right;\">\n",
       "      <th></th>\n",
       "      <th>price</th>\n",
       "    </tr>\n",
       "    <tr>\n",
       "      <th>order_id</th>\n",
       "      <th></th>\n",
       "    </tr>\n",
       "  </thead>\n",
       "  <tbody>\n",
       "    <tr>\n",
       "      <td>00010242fe8c5a6d1ba2dd792cb16214</td>\n",
       "      <td>58.90</td>\n",
       "    </tr>\n",
       "    <tr>\n",
       "      <td>00018f77f2f0320c557190d7a144bdd3</td>\n",
       "      <td>239.90</td>\n",
       "    </tr>\n",
       "    <tr>\n",
       "      <td>000229ec398224ef6ca0657da4fc703e</td>\n",
       "      <td>199.00</td>\n",
       "    </tr>\n",
       "    <tr>\n",
       "      <td>00024acbcdf0a6daa1e931b038114c75</td>\n",
       "      <td>12.99</td>\n",
       "    </tr>\n",
       "    <tr>\n",
       "      <td>00042b26cf59d7ce69dfabb4e55b4fd9</td>\n",
       "      <td>199.90</td>\n",
       "    </tr>\n",
       "    <tr>\n",
       "      <td>...</td>\n",
       "      <td>...</td>\n",
       "    </tr>\n",
       "    <tr>\n",
       "      <td>fffc94f6ce00a00581880bf54a75a037</td>\n",
       "      <td>299.99</td>\n",
       "    </tr>\n",
       "    <tr>\n",
       "      <td>fffcd46ef2263f404302a634eb57f7eb</td>\n",
       "      <td>350.00</td>\n",
       "    </tr>\n",
       "    <tr>\n",
       "      <td>fffce4705a9662cd70adb13d4a31832d</td>\n",
       "      <td>99.90</td>\n",
       "    </tr>\n",
       "    <tr>\n",
       "      <td>fffe18544ffabc95dfada21779c9644f</td>\n",
       "      <td>55.99</td>\n",
       "    </tr>\n",
       "    <tr>\n",
       "      <td>fffe41c64501cc87c801fd61db3f6244</td>\n",
       "      <td>43.00</td>\n",
       "    </tr>\n",
       "  </tbody>\n",
       "</table>\n",
       "<p>98666 rows × 1 columns</p>\n",
       "</div>"
      ],
      "text/plain": [
       "                                   price\n",
       "order_id                                \n",
       "00010242fe8c5a6d1ba2dd792cb16214   58.90\n",
       "00018f77f2f0320c557190d7a144bdd3  239.90\n",
       "000229ec398224ef6ca0657da4fc703e  199.00\n",
       "00024acbcdf0a6daa1e931b038114c75   12.99\n",
       "00042b26cf59d7ce69dfabb4e55b4fd9  199.90\n",
       "...                                  ...\n",
       "fffc94f6ce00a00581880bf54a75a037  299.99\n",
       "fffcd46ef2263f404302a634eb57f7eb  350.00\n",
       "fffce4705a9662cd70adb13d4a31832d   99.90\n",
       "fffe18544ffabc95dfada21779c9644f   55.99\n",
       "fffe41c64501cc87c801fd61db3f6244   43.00\n",
       "\n",
       "[98666 rows x 1 columns]"
      ]
     },
     "execution_count": 44,
     "metadata": {},
     "output_type": "execute_result"
    }
   ],
   "source": [
    "# cumulative price of multiple items in order\n",
    "price_df = pd.DataFrame(item_df.groupby('order_id')['price'].sum())\n",
    "price_df"
   ]
  },
  {
   "cell_type": "code",
   "execution_count": 45,
   "metadata": {
    "scrolled": true
   },
   "outputs": [
    {
     "data": {
      "text/html": [
       "<div>\n",
       "<style scoped>\n",
       "    .dataframe tbody tr th:only-of-type {\n",
       "        vertical-align: middle;\n",
       "    }\n",
       "\n",
       "    .dataframe tbody tr th {\n",
       "        vertical-align: top;\n",
       "    }\n",
       "\n",
       "    .dataframe thead th {\n",
       "        text-align: right;\n",
       "    }\n",
       "</style>\n",
       "<table border=\"1\" class=\"dataframe\">\n",
       "  <thead>\n",
       "    <tr style=\"text-align: right;\">\n",
       "      <th></th>\n",
       "      <th>payment_value</th>\n",
       "      <th>price</th>\n",
       "      <th>overcharge</th>\n",
       "    </tr>\n",
       "    <tr>\n",
       "      <th>order_id</th>\n",
       "      <th></th>\n",
       "      <th></th>\n",
       "      <th></th>\n",
       "    </tr>\n",
       "  </thead>\n",
       "  <tbody>\n",
       "    <tr>\n",
       "      <td>00010242fe8c5a6d1ba2dd792cb16214</td>\n",
       "      <td>72.19</td>\n",
       "      <td>58.90</td>\n",
       "      <td>13.29</td>\n",
       "    </tr>\n",
       "    <tr>\n",
       "      <td>00018f77f2f0320c557190d7a144bdd3</td>\n",
       "      <td>259.83</td>\n",
       "      <td>239.90</td>\n",
       "      <td>19.93</td>\n",
       "    </tr>\n",
       "    <tr>\n",
       "      <td>000229ec398224ef6ca0657da4fc703e</td>\n",
       "      <td>216.87</td>\n",
       "      <td>199.00</td>\n",
       "      <td>17.87</td>\n",
       "    </tr>\n",
       "    <tr>\n",
       "      <td>00024acbcdf0a6daa1e931b038114c75</td>\n",
       "      <td>25.78</td>\n",
       "      <td>12.99</td>\n",
       "      <td>12.79</td>\n",
       "    </tr>\n",
       "    <tr>\n",
       "      <td>00042b26cf59d7ce69dfabb4e55b4fd9</td>\n",
       "      <td>218.04</td>\n",
       "      <td>199.90</td>\n",
       "      <td>18.14</td>\n",
       "    </tr>\n",
       "    <tr>\n",
       "      <td>...</td>\n",
       "      <td>...</td>\n",
       "      <td>...</td>\n",
       "      <td>...</td>\n",
       "    </tr>\n",
       "    <tr>\n",
       "      <td>fffc94f6ce00a00581880bf54a75a037</td>\n",
       "      <td>343.40</td>\n",
       "      <td>299.99</td>\n",
       "      <td>43.41</td>\n",
       "    </tr>\n",
       "    <tr>\n",
       "      <td>fffcd46ef2263f404302a634eb57f7eb</td>\n",
       "      <td>386.53</td>\n",
       "      <td>350.00</td>\n",
       "      <td>36.53</td>\n",
       "    </tr>\n",
       "    <tr>\n",
       "      <td>fffce4705a9662cd70adb13d4a31832d</td>\n",
       "      <td>116.85</td>\n",
       "      <td>99.90</td>\n",
       "      <td>16.95</td>\n",
       "    </tr>\n",
       "    <tr>\n",
       "      <td>fffe18544ffabc95dfada21779c9644f</td>\n",
       "      <td>64.71</td>\n",
       "      <td>55.99</td>\n",
       "      <td>8.72</td>\n",
       "    </tr>\n",
       "    <tr>\n",
       "      <td>fffe41c64501cc87c801fd61db3f6244</td>\n",
       "      <td>55.79</td>\n",
       "      <td>43.00</td>\n",
       "      <td>12.79</td>\n",
       "    </tr>\n",
       "  </tbody>\n",
       "</table>\n",
       "<p>99440 rows × 3 columns</p>\n",
       "</div>"
      ],
      "text/plain": [
       "                                  payment_value   price  overcharge\n",
       "order_id                                                           \n",
       "00010242fe8c5a6d1ba2dd792cb16214          72.19   58.90       13.29\n",
       "00018f77f2f0320c557190d7a144bdd3         259.83  239.90       19.93\n",
       "000229ec398224ef6ca0657da4fc703e         216.87  199.00       17.87\n",
       "00024acbcdf0a6daa1e931b038114c75          25.78   12.99       12.79\n",
       "00042b26cf59d7ce69dfabb4e55b4fd9         218.04  199.90       18.14\n",
       "...                                         ...     ...         ...\n",
       "fffc94f6ce00a00581880bf54a75a037         343.40  299.99       43.41\n",
       "fffcd46ef2263f404302a634eb57f7eb         386.53  350.00       36.53\n",
       "fffce4705a9662cd70adb13d4a31832d         116.85   99.90       16.95\n",
       "fffe18544ffabc95dfada21779c9644f          64.71   55.99        8.72\n",
       "fffe41c64501cc87c801fd61db3f6244          55.79   43.00       12.79\n",
       "\n",
       "[99440 rows x 3 columns]"
      ]
     },
     "execution_count": 45,
     "metadata": {},
     "output_type": "execute_result"
    }
   ],
   "source": [
    "# difference between payment and price in order\n",
    "payment_price_df = pd.merge(payment_value_df, price_df, how='left', left_index=True, right_index=True)\n",
    "payment_price_df['overcharge'] = payment_price_df.payment_value - payment_price_df.price\n",
    "payment_price_df"
   ]
  },
  {
   "cell_type": "code",
   "execution_count": 46,
   "metadata": {
    "scrolled": true
   },
   "outputs": [
    {
     "name": "stdout",
     "output_type": "stream",
     "text": [
      "<class 'pandas.core.frame.DataFrame'>\n",
      "Index: 99440 entries, 00010242fe8c5a6d1ba2dd792cb16214 to fffe41c64501cc87c801fd61db3f6244\n",
      "Data columns (total 3 columns):\n",
      "payment_value    99440 non-null float64\n",
      "price            98665 non-null float64\n",
      "overcharge       98665 non-null float64\n",
      "dtypes: float64(3)\n",
      "memory usage: 5.5+ MB\n"
     ]
    }
   ],
   "source": [
    "payment_price_df.info()"
   ]
  },
  {
   "cell_type": "code",
   "execution_count": 47,
   "metadata": {
    "scrolled": true
   },
   "outputs": [
    {
     "data": {
      "text/html": [
       "<div>\n",
       "<style scoped>\n",
       "    .dataframe tbody tr th:only-of-type {\n",
       "        vertical-align: middle;\n",
       "    }\n",
       "\n",
       "    .dataframe tbody tr th {\n",
       "        vertical-align: top;\n",
       "    }\n",
       "\n",
       "    .dataframe thead th {\n",
       "        text-align: right;\n",
       "    }\n",
       "</style>\n",
       "<table border=\"1\" class=\"dataframe\">\n",
       "  <thead>\n",
       "    <tr style=\"text-align: right;\">\n",
       "      <th></th>\n",
       "      <th>order_id</th>\n",
       "      <th>review_score</th>\n",
       "      <th>review_comment_title</th>\n",
       "      <th>review_comment_message</th>\n",
       "      <th>customer_state</th>\n",
       "      <th>payment_type</th>\n",
       "      <th>payment_installments</th>\n",
       "      <th>payment_value</th>\n",
       "      <th>price</th>\n",
       "      <th>freight_value</th>\n",
       "      <th>...</th>\n",
       "      <th>product_name_lenght</th>\n",
       "      <th>product_description_lenght</th>\n",
       "      <th>product_photos_qty</th>\n",
       "      <th>product_weight_g</th>\n",
       "      <th>product_length_cm</th>\n",
       "      <th>product_height_cm</th>\n",
       "      <th>product_width_cm</th>\n",
       "      <th>seller_state</th>\n",
       "      <th>delay</th>\n",
       "      <th>overcharge</th>\n",
       "    </tr>\n",
       "  </thead>\n",
       "  <tbody>\n",
       "    <tr>\n",
       "      <td>0</td>\n",
       "      <td>73fc7af87114b39712e6da79b0a377eb</td>\n",
       "      <td>4</td>\n",
       "      <td>0</td>\n",
       "      <td>0</td>\n",
       "      <td>SP</td>\n",
       "      <td>credit_card</td>\n",
       "      <td>8</td>\n",
       "      <td>397.26</td>\n",
       "      <td>185.0</td>\n",
       "      <td>13.63</td>\n",
       "      <td>...</td>\n",
       "      <td>42.0</td>\n",
       "      <td>858.0</td>\n",
       "      <td>1.0</td>\n",
       "      <td>1300.0</td>\n",
       "      <td>30.0</td>\n",
       "      <td>30.0</td>\n",
       "      <td>35.0</td>\n",
       "      <td>SP</td>\n",
       "      <td>-16.0</td>\n",
       "      <td>27.26</td>\n",
       "    </tr>\n",
       "    <tr>\n",
       "      <td>1</td>\n",
       "      <td>73fc7af87114b39712e6da79b0a377eb</td>\n",
       "      <td>4</td>\n",
       "      <td>0</td>\n",
       "      <td>0</td>\n",
       "      <td>SP</td>\n",
       "      <td>credit_card</td>\n",
       "      <td>8</td>\n",
       "      <td>397.26</td>\n",
       "      <td>185.0</td>\n",
       "      <td>13.63</td>\n",
       "      <td>...</td>\n",
       "      <td>42.0</td>\n",
       "      <td>858.0</td>\n",
       "      <td>1.0</td>\n",
       "      <td>1300.0</td>\n",
       "      <td>30.0</td>\n",
       "      <td>30.0</td>\n",
       "      <td>35.0</td>\n",
       "      <td>SP</td>\n",
       "      <td>-16.0</td>\n",
       "      <td>27.26</td>\n",
       "    </tr>\n",
       "    <tr>\n",
       "      <td>2</td>\n",
       "      <td>19721d59a9764437477eff0730b48665</td>\n",
       "      <td>5</td>\n",
       "      <td>0</td>\n",
       "      <td>0</td>\n",
       "      <td>RS</td>\n",
       "      <td>credit_card</td>\n",
       "      <td>3</td>\n",
       "      <td>205.26</td>\n",
       "      <td>185.0</td>\n",
       "      <td>20.26</td>\n",
       "      <td>...</td>\n",
       "      <td>42.0</td>\n",
       "      <td>858.0</td>\n",
       "      <td>1.0</td>\n",
       "      <td>1300.0</td>\n",
       "      <td>30.0</td>\n",
       "      <td>30.0</td>\n",
       "      <td>35.0</td>\n",
       "      <td>SP</td>\n",
       "      <td>-18.0</td>\n",
       "      <td>20.26</td>\n",
       "    </tr>\n",
       "    <tr>\n",
       "      <td>3</td>\n",
       "      <td>efd626e6a12a82d76e456e34093f8356</td>\n",
       "      <td>5</td>\n",
       "      <td>0</td>\n",
       "      <td>0</td>\n",
       "      <td>MG</td>\n",
       "      <td>credit_card</td>\n",
       "      <td>2</td>\n",
       "      <td>202.05</td>\n",
       "      <td>185.0</td>\n",
       "      <td>17.05</td>\n",
       "      <td>...</td>\n",
       "      <td>42.0</td>\n",
       "      <td>858.0</td>\n",
       "      <td>1.0</td>\n",
       "      <td>1300.0</td>\n",
       "      <td>30.0</td>\n",
       "      <td>30.0</td>\n",
       "      <td>35.0</td>\n",
       "      <td>SP</td>\n",
       "      <td>-12.0</td>\n",
       "      <td>17.05</td>\n",
       "    </tr>\n",
       "    <tr>\n",
       "      <td>4</td>\n",
       "      <td>b0bc656fed47584c160f8cff2d7b8bbd</td>\n",
       "      <td>5</td>\n",
       "      <td>0</td>\n",
       "      <td>0</td>\n",
       "      <td>MG</td>\n",
       "      <td>credit_card</td>\n",
       "      <td>1</td>\n",
       "      <td>306.40</td>\n",
       "      <td>135.0</td>\n",
       "      <td>18.20</td>\n",
       "      <td>...</td>\n",
       "      <td>47.0</td>\n",
       "      <td>858.0</td>\n",
       "      <td>1.0</td>\n",
       "      <td>1600.0</td>\n",
       "      <td>30.0</td>\n",
       "      <td>30.0</td>\n",
       "      <td>35.0</td>\n",
       "      <td>SP</td>\n",
       "      <td>-7.0</td>\n",
       "      <td>36.40</td>\n",
       "    </tr>\n",
       "    <tr>\n",
       "      <td>...</td>\n",
       "      <td>...</td>\n",
       "      <td>...</td>\n",
       "      <td>...</td>\n",
       "      <td>...</td>\n",
       "      <td>...</td>\n",
       "      <td>...</td>\n",
       "      <td>...</td>\n",
       "      <td>...</td>\n",
       "      <td>...</td>\n",
       "      <td>...</td>\n",
       "      <td>...</td>\n",
       "      <td>...</td>\n",
       "      <td>...</td>\n",
       "      <td>...</td>\n",
       "      <td>...</td>\n",
       "      <td>...</td>\n",
       "      <td>...</td>\n",
       "      <td>...</td>\n",
       "      <td>...</td>\n",
       "      <td>...</td>\n",
       "      <td>...</td>\n",
       "    </tr>\n",
       "    <tr>\n",
       "      <td>118310</td>\n",
       "      <td>8c1d27c10cc60cc369a428813bb71350</td>\n",
       "      <td>4</td>\n",
       "      <td>1</td>\n",
       "      <td>1</td>\n",
       "      <td>MG</td>\n",
       "      <td>credit_card</td>\n",
       "      <td>1</td>\n",
       "      <td>108.63</td>\n",
       "      <td>89.9</td>\n",
       "      <td>18.73</td>\n",
       "      <td>...</td>\n",
       "      <td>50.0</td>\n",
       "      <td>1141.0</td>\n",
       "      <td>2.0</td>\n",
       "      <td>450.0</td>\n",
       "      <td>16.0</td>\n",
       "      <td>16.0</td>\n",
       "      <td>16.0</td>\n",
       "      <td>SP</td>\n",
       "      <td>-14.0</td>\n",
       "      <td>18.73</td>\n",
       "    </tr>\n",
       "    <tr>\n",
       "      <td>118311</td>\n",
       "      <td>80ba449ea98f8e879a829759b5a66294</td>\n",
       "      <td>5</td>\n",
       "      <td>0</td>\n",
       "      <td>0</td>\n",
       "      <td>GO</td>\n",
       "      <td>credit_card</td>\n",
       "      <td>4</td>\n",
       "      <td>327.25</td>\n",
       "      <td>289.9</td>\n",
       "      <td>37.35</td>\n",
       "      <td>...</td>\n",
       "      <td>47.0</td>\n",
       "      <td>696.0</td>\n",
       "      <td>1.0</td>\n",
       "      <td>692.0</td>\n",
       "      <td>15.0</td>\n",
       "      <td>12.0</td>\n",
       "      <td>14.0</td>\n",
       "      <td>PR</td>\n",
       "      <td>-15.0</td>\n",
       "      <td>37.35</td>\n",
       "    </tr>\n",
       "    <tr>\n",
       "      <td>118312</td>\n",
       "      <td>5fd71cc4eb69ae6f65ac3acfcbc17ab5</td>\n",
       "      <td>5</td>\n",
       "      <td>0</td>\n",
       "      <td>0</td>\n",
       "      <td>RJ</td>\n",
       "      <td>credit_card</td>\n",
       "      <td>2</td>\n",
       "      <td>98.34</td>\n",
       "      <td>79.9</td>\n",
       "      <td>18.44</td>\n",
       "      <td>...</td>\n",
       "      <td>36.0</td>\n",
       "      <td>609.0</td>\n",
       "      <td>2.0</td>\n",
       "      <td>575.0</td>\n",
       "      <td>45.0</td>\n",
       "      <td>21.0</td>\n",
       "      <td>23.0</td>\n",
       "      <td>SP</td>\n",
       "      <td>-14.0</td>\n",
       "      <td>18.44</td>\n",
       "    </tr>\n",
       "    <tr>\n",
       "      <td>118313</td>\n",
       "      <td>61d5f1dcdf9b023ea7622b65d2362e4f</td>\n",
       "      <td>1</td>\n",
       "      <td>0</td>\n",
       "      <td>1</td>\n",
       "      <td>SP</td>\n",
       "      <td>credit_card</td>\n",
       "      <td>8</td>\n",
       "      <td>767.69</td>\n",
       "      <td>750.0</td>\n",
       "      <td>17.69</td>\n",
       "      <td>...</td>\n",
       "      <td>43.0</td>\n",
       "      <td>381.0</td>\n",
       "      <td>4.0</td>\n",
       "      <td>350.0</td>\n",
       "      <td>20.0</td>\n",
       "      <td>20.0</td>\n",
       "      <td>20.0</td>\n",
       "      <td>SP</td>\n",
       "      <td>-7.0</td>\n",
       "      <td>17.69</td>\n",
       "    </tr>\n",
       "    <tr>\n",
       "      <td>118314</td>\n",
       "      <td>5f4a120717a4d152577d7d2ec66c45be</td>\n",
       "      <td>5</td>\n",
       "      <td>0</td>\n",
       "      <td>0</td>\n",
       "      <td>RJ</td>\n",
       "      <td>credit_card</td>\n",
       "      <td>3</td>\n",
       "      <td>201.34</td>\n",
       "      <td>161.0</td>\n",
       "      <td>40.34</td>\n",
       "      <td>...</td>\n",
       "      <td>38.0</td>\n",
       "      <td>245.0</td>\n",
       "      <td>1.0</td>\n",
       "      <td>4000.0</td>\n",
       "      <td>31.0</td>\n",
       "      <td>42.0</td>\n",
       "      <td>43.0</td>\n",
       "      <td>PR</td>\n",
       "      <td>-24.0</td>\n",
       "      <td>40.34</td>\n",
       "    </tr>\n",
       "  </tbody>\n",
       "</table>\n",
       "<p>118315 rows × 21 columns</p>\n",
       "</div>"
      ],
      "text/plain": [
       "                                order_id  review_score  review_comment_title  \\\n",
       "0       73fc7af87114b39712e6da79b0a377eb             4                     0   \n",
       "1       73fc7af87114b39712e6da79b0a377eb             4                     0   \n",
       "2       19721d59a9764437477eff0730b48665             5                     0   \n",
       "3       efd626e6a12a82d76e456e34093f8356             5                     0   \n",
       "4       b0bc656fed47584c160f8cff2d7b8bbd             5                     0   \n",
       "...                                  ...           ...                   ...   \n",
       "118310  8c1d27c10cc60cc369a428813bb71350             4                     1   \n",
       "118311  80ba449ea98f8e879a829759b5a66294             5                     0   \n",
       "118312  5fd71cc4eb69ae6f65ac3acfcbc17ab5             5                     0   \n",
       "118313  61d5f1dcdf9b023ea7622b65d2362e4f             1                     0   \n",
       "118314  5f4a120717a4d152577d7d2ec66c45be             5                     0   \n",
       "\n",
       "        review_comment_message customer_state payment_type  \\\n",
       "0                            0             SP  credit_card   \n",
       "1                            0             SP  credit_card   \n",
       "2                            0             RS  credit_card   \n",
       "3                            0             MG  credit_card   \n",
       "4                            0             MG  credit_card   \n",
       "...                        ...            ...          ...   \n",
       "118310                       1             MG  credit_card   \n",
       "118311                       0             GO  credit_card   \n",
       "118312                       0             RJ  credit_card   \n",
       "118313                       1             SP  credit_card   \n",
       "118314                       0             RJ  credit_card   \n",
       "\n",
       "        payment_installments  payment_value  price  freight_value  ...  \\\n",
       "0                          8         397.26  185.0          13.63  ...   \n",
       "1                          8         397.26  185.0          13.63  ...   \n",
       "2                          3         205.26  185.0          20.26  ...   \n",
       "3                          2         202.05  185.0          17.05  ...   \n",
       "4                          1         306.40  135.0          18.20  ...   \n",
       "...                      ...            ...    ...            ...  ...   \n",
       "118310                     1         108.63   89.9          18.73  ...   \n",
       "118311                     4         327.25  289.9          37.35  ...   \n",
       "118312                     2          98.34   79.9          18.44  ...   \n",
       "118313                     8         767.69  750.0          17.69  ...   \n",
       "118314                     3         201.34  161.0          40.34  ...   \n",
       "\n",
       "       product_name_lenght  product_description_lenght  product_photos_qty  \\\n",
       "0                     42.0                       858.0                 1.0   \n",
       "1                     42.0                       858.0                 1.0   \n",
       "2                     42.0                       858.0                 1.0   \n",
       "3                     42.0                       858.0                 1.0   \n",
       "4                     47.0                       858.0                 1.0   \n",
       "...                    ...                         ...                 ...   \n",
       "118310                50.0                      1141.0                 2.0   \n",
       "118311                47.0                       696.0                 1.0   \n",
       "118312                36.0                       609.0                 2.0   \n",
       "118313                43.0                       381.0                 4.0   \n",
       "118314                38.0                       245.0                 1.0   \n",
       "\n",
       "        product_weight_g  product_length_cm  product_height_cm  \\\n",
       "0                 1300.0               30.0               30.0   \n",
       "1                 1300.0               30.0               30.0   \n",
       "2                 1300.0               30.0               30.0   \n",
       "3                 1300.0               30.0               30.0   \n",
       "4                 1600.0               30.0               30.0   \n",
       "...                  ...                ...                ...   \n",
       "118310             450.0               16.0               16.0   \n",
       "118311             692.0               15.0               12.0   \n",
       "118312             575.0               45.0               21.0   \n",
       "118313             350.0               20.0               20.0   \n",
       "118314            4000.0               31.0               42.0   \n",
       "\n",
       "        product_width_cm  seller_state delay  overcharge  \n",
       "0                   35.0            SP -16.0       27.26  \n",
       "1                   35.0            SP -16.0       27.26  \n",
       "2                   35.0            SP -18.0       20.26  \n",
       "3                   35.0            SP -12.0       17.05  \n",
       "4                   35.0            SP  -7.0       36.40  \n",
       "...                  ...           ...   ...         ...  \n",
       "118310              16.0            SP -14.0       18.73  \n",
       "118311              14.0            PR -15.0       37.35  \n",
       "118312              23.0            SP -14.0       18.44  \n",
       "118313              20.0            SP  -7.0       17.69  \n",
       "118314              43.0            PR -24.0       40.34  \n",
       "\n",
       "[118315 rows x 21 columns]"
      ]
     },
     "execution_count": 47,
     "metadata": {},
     "output_type": "execute_result"
    }
   ],
   "source": [
    "rocpipso_df = pd.merge(rocpips_df, pd.DataFrame(payment_price_df.overcharge), how='left', left_on='order_id', right_index=True)\n",
    "rocpipso_df"
   ]
  },
  {
   "cell_type": "code",
   "execution_count": 48,
   "metadata": {
    "scrolled": true
   },
   "outputs": [],
   "source": [
    "df = rocpipso_df.drop('order_id', axis='columns')\n"
   ]
  },
  {
   "cell_type": "code",
   "execution_count": 49,
   "metadata": {
    "scrolled": true
   },
   "outputs": [
    {
     "data": {
      "text/html": [
       "<div>\n",
       "<style scoped>\n",
       "    .dataframe tbody tr th:only-of-type {\n",
       "        vertical-align: middle;\n",
       "    }\n",
       "\n",
       "    .dataframe tbody tr th {\n",
       "        vertical-align: top;\n",
       "    }\n",
       "\n",
       "    .dataframe thead th {\n",
       "        text-align: right;\n",
       "    }\n",
       "</style>\n",
       "<table border=\"1\" class=\"dataframe\">\n",
       "  <thead>\n",
       "    <tr style=\"text-align: right;\">\n",
       "      <th></th>\n",
       "      <th>review_score</th>\n",
       "      <th>review_comment_title</th>\n",
       "      <th>review_comment_message</th>\n",
       "      <th>customer_state</th>\n",
       "      <th>payment_type</th>\n",
       "      <th>payment_installments</th>\n",
       "      <th>payment_value</th>\n",
       "      <th>price</th>\n",
       "      <th>freight_value</th>\n",
       "      <th>product_category_name</th>\n",
       "      <th>product_name_lenght</th>\n",
       "      <th>product_description_lenght</th>\n",
       "      <th>product_photos_qty</th>\n",
       "      <th>product_weight_g</th>\n",
       "      <th>product_length_cm</th>\n",
       "      <th>product_height_cm</th>\n",
       "      <th>product_width_cm</th>\n",
       "      <th>seller_state</th>\n",
       "      <th>delay</th>\n",
       "      <th>overcharge</th>\n",
       "    </tr>\n",
       "  </thead>\n",
       "  <tbody>\n",
       "    <tr>\n",
       "      <td>0</td>\n",
       "      <td>4</td>\n",
       "      <td>0</td>\n",
       "      <td>0</td>\n",
       "      <td>SP</td>\n",
       "      <td>credit_card</td>\n",
       "      <td>8</td>\n",
       "      <td>397.26</td>\n",
       "      <td>185.0</td>\n",
       "      <td>13.63</td>\n",
       "      <td>esporte_lazer</td>\n",
       "      <td>42.0</td>\n",
       "      <td>858.0</td>\n",
       "      <td>1.0</td>\n",
       "      <td>1300.0</td>\n",
       "      <td>30.0</td>\n",
       "      <td>30.0</td>\n",
       "      <td>35.0</td>\n",
       "      <td>SP</td>\n",
       "      <td>-16.0</td>\n",
       "      <td>27.26</td>\n",
       "    </tr>\n",
       "    <tr>\n",
       "      <td>1</td>\n",
       "      <td>4</td>\n",
       "      <td>0</td>\n",
       "      <td>0</td>\n",
       "      <td>SP</td>\n",
       "      <td>credit_card</td>\n",
       "      <td>8</td>\n",
       "      <td>397.26</td>\n",
       "      <td>185.0</td>\n",
       "      <td>13.63</td>\n",
       "      <td>esporte_lazer</td>\n",
       "      <td>42.0</td>\n",
       "      <td>858.0</td>\n",
       "      <td>1.0</td>\n",
       "      <td>1300.0</td>\n",
       "      <td>30.0</td>\n",
       "      <td>30.0</td>\n",
       "      <td>35.0</td>\n",
       "      <td>SP</td>\n",
       "      <td>-16.0</td>\n",
       "      <td>27.26</td>\n",
       "    </tr>\n",
       "    <tr>\n",
       "      <td>2</td>\n",
       "      <td>5</td>\n",
       "      <td>0</td>\n",
       "      <td>0</td>\n",
       "      <td>RS</td>\n",
       "      <td>credit_card</td>\n",
       "      <td>3</td>\n",
       "      <td>205.26</td>\n",
       "      <td>185.0</td>\n",
       "      <td>20.26</td>\n",
       "      <td>esporte_lazer</td>\n",
       "      <td>42.0</td>\n",
       "      <td>858.0</td>\n",
       "      <td>1.0</td>\n",
       "      <td>1300.0</td>\n",
       "      <td>30.0</td>\n",
       "      <td>30.0</td>\n",
       "      <td>35.0</td>\n",
       "      <td>SP</td>\n",
       "      <td>-18.0</td>\n",
       "      <td>20.26</td>\n",
       "    </tr>\n",
       "    <tr>\n",
       "      <td>3</td>\n",
       "      <td>5</td>\n",
       "      <td>0</td>\n",
       "      <td>0</td>\n",
       "      <td>MG</td>\n",
       "      <td>credit_card</td>\n",
       "      <td>2</td>\n",
       "      <td>202.05</td>\n",
       "      <td>185.0</td>\n",
       "      <td>17.05</td>\n",
       "      <td>esporte_lazer</td>\n",
       "      <td>42.0</td>\n",
       "      <td>858.0</td>\n",
       "      <td>1.0</td>\n",
       "      <td>1300.0</td>\n",
       "      <td>30.0</td>\n",
       "      <td>30.0</td>\n",
       "      <td>35.0</td>\n",
       "      <td>SP</td>\n",
       "      <td>-12.0</td>\n",
       "      <td>17.05</td>\n",
       "    </tr>\n",
       "    <tr>\n",
       "      <td>4</td>\n",
       "      <td>5</td>\n",
       "      <td>0</td>\n",
       "      <td>0</td>\n",
       "      <td>MG</td>\n",
       "      <td>credit_card</td>\n",
       "      <td>1</td>\n",
       "      <td>306.40</td>\n",
       "      <td>135.0</td>\n",
       "      <td>18.20</td>\n",
       "      <td>esporte_lazer</td>\n",
       "      <td>47.0</td>\n",
       "      <td>858.0</td>\n",
       "      <td>1.0</td>\n",
       "      <td>1600.0</td>\n",
       "      <td>30.0</td>\n",
       "      <td>30.0</td>\n",
       "      <td>35.0</td>\n",
       "      <td>SP</td>\n",
       "      <td>-7.0</td>\n",
       "      <td>36.40</td>\n",
       "    </tr>\n",
       "    <tr>\n",
       "      <td>...</td>\n",
       "      <td>...</td>\n",
       "      <td>...</td>\n",
       "      <td>...</td>\n",
       "      <td>...</td>\n",
       "      <td>...</td>\n",
       "      <td>...</td>\n",
       "      <td>...</td>\n",
       "      <td>...</td>\n",
       "      <td>...</td>\n",
       "      <td>...</td>\n",
       "      <td>...</td>\n",
       "      <td>...</td>\n",
       "      <td>...</td>\n",
       "      <td>...</td>\n",
       "      <td>...</td>\n",
       "      <td>...</td>\n",
       "      <td>...</td>\n",
       "      <td>...</td>\n",
       "      <td>...</td>\n",
       "      <td>...</td>\n",
       "    </tr>\n",
       "    <tr>\n",
       "      <td>118310</td>\n",
       "      <td>4</td>\n",
       "      <td>1</td>\n",
       "      <td>1</td>\n",
       "      <td>MG</td>\n",
       "      <td>credit_card</td>\n",
       "      <td>1</td>\n",
       "      <td>108.63</td>\n",
       "      <td>89.9</td>\n",
       "      <td>18.73</td>\n",
       "      <td>moveis_decoracao</td>\n",
       "      <td>50.0</td>\n",
       "      <td>1141.0</td>\n",
       "      <td>2.0</td>\n",
       "      <td>450.0</td>\n",
       "      <td>16.0</td>\n",
       "      <td>16.0</td>\n",
       "      <td>16.0</td>\n",
       "      <td>SP</td>\n",
       "      <td>-14.0</td>\n",
       "      <td>18.73</td>\n",
       "    </tr>\n",
       "    <tr>\n",
       "      <td>118311</td>\n",
       "      <td>5</td>\n",
       "      <td>0</td>\n",
       "      <td>0</td>\n",
       "      <td>GO</td>\n",
       "      <td>credit_card</td>\n",
       "      <td>4</td>\n",
       "      <td>327.25</td>\n",
       "      <td>289.9</td>\n",
       "      <td>37.35</td>\n",
       "      <td>beleza_saude</td>\n",
       "      <td>47.0</td>\n",
       "      <td>696.0</td>\n",
       "      <td>1.0</td>\n",
       "      <td>692.0</td>\n",
       "      <td>15.0</td>\n",
       "      <td>12.0</td>\n",
       "      <td>14.0</td>\n",
       "      <td>PR</td>\n",
       "      <td>-15.0</td>\n",
       "      <td>37.35</td>\n",
       "    </tr>\n",
       "    <tr>\n",
       "      <td>118312</td>\n",
       "      <td>5</td>\n",
       "      <td>0</td>\n",
       "      <td>0</td>\n",
       "      <td>RJ</td>\n",
       "      <td>credit_card</td>\n",
       "      <td>2</td>\n",
       "      <td>98.34</td>\n",
       "      <td>79.9</td>\n",
       "      <td>18.44</td>\n",
       "      <td>sinalizacao_e_seguranca</td>\n",
       "      <td>36.0</td>\n",
       "      <td>609.0</td>\n",
       "      <td>2.0</td>\n",
       "      <td>575.0</td>\n",
       "      <td>45.0</td>\n",
       "      <td>21.0</td>\n",
       "      <td>23.0</td>\n",
       "      <td>SP</td>\n",
       "      <td>-14.0</td>\n",
       "      <td>18.44</td>\n",
       "    </tr>\n",
       "    <tr>\n",
       "      <td>118313</td>\n",
       "      <td>1</td>\n",
       "      <td>0</td>\n",
       "      <td>1</td>\n",
       "      <td>SP</td>\n",
       "      <td>credit_card</td>\n",
       "      <td>8</td>\n",
       "      <td>767.69</td>\n",
       "      <td>750.0</td>\n",
       "      <td>17.69</td>\n",
       "      <td>relogios_presentes</td>\n",
       "      <td>43.0</td>\n",
       "      <td>381.0</td>\n",
       "      <td>4.0</td>\n",
       "      <td>350.0</td>\n",
       "      <td>20.0</td>\n",
       "      <td>20.0</td>\n",
       "      <td>20.0</td>\n",
       "      <td>SP</td>\n",
       "      <td>-7.0</td>\n",
       "      <td>17.69</td>\n",
       "    </tr>\n",
       "    <tr>\n",
       "      <td>118314</td>\n",
       "      <td>5</td>\n",
       "      <td>0</td>\n",
       "      <td>0</td>\n",
       "      <td>RJ</td>\n",
       "      <td>credit_card</td>\n",
       "      <td>3</td>\n",
       "      <td>201.34</td>\n",
       "      <td>161.0</td>\n",
       "      <td>40.34</td>\n",
       "      <td>moveis_cozinha_area_de_servico_jantar_e_jardim</td>\n",
       "      <td>38.0</td>\n",
       "      <td>245.0</td>\n",
       "      <td>1.0</td>\n",
       "      <td>4000.0</td>\n",
       "      <td>31.0</td>\n",
       "      <td>42.0</td>\n",
       "      <td>43.0</td>\n",
       "      <td>PR</td>\n",
       "      <td>-24.0</td>\n",
       "      <td>40.34</td>\n",
       "    </tr>\n",
       "  </tbody>\n",
       "</table>\n",
       "<p>118315 rows × 20 columns</p>\n",
       "</div>"
      ],
      "text/plain": [
       "        review_score  review_comment_title  review_comment_message  \\\n",
       "0                  4                     0                       0   \n",
       "1                  4                     0                       0   \n",
       "2                  5                     0                       0   \n",
       "3                  5                     0                       0   \n",
       "4                  5                     0                       0   \n",
       "...              ...                   ...                     ...   \n",
       "118310             4                     1                       1   \n",
       "118311             5                     0                       0   \n",
       "118312             5                     0                       0   \n",
       "118313             1                     0                       1   \n",
       "118314             5                     0                       0   \n",
       "\n",
       "       customer_state payment_type  payment_installments  payment_value  \\\n",
       "0                  SP  credit_card                     8         397.26   \n",
       "1                  SP  credit_card                     8         397.26   \n",
       "2                  RS  credit_card                     3         205.26   \n",
       "3                  MG  credit_card                     2         202.05   \n",
       "4                  MG  credit_card                     1         306.40   \n",
       "...               ...          ...                   ...            ...   \n",
       "118310             MG  credit_card                     1         108.63   \n",
       "118311             GO  credit_card                     4         327.25   \n",
       "118312             RJ  credit_card                     2          98.34   \n",
       "118313             SP  credit_card                     8         767.69   \n",
       "118314             RJ  credit_card                     3         201.34   \n",
       "\n",
       "        price  freight_value                           product_category_name  \\\n",
       "0       185.0          13.63                                   esporte_lazer   \n",
       "1       185.0          13.63                                   esporte_lazer   \n",
       "2       185.0          20.26                                   esporte_lazer   \n",
       "3       185.0          17.05                                   esporte_lazer   \n",
       "4       135.0          18.20                                   esporte_lazer   \n",
       "...       ...            ...                                             ...   \n",
       "118310   89.9          18.73                                moveis_decoracao   \n",
       "118311  289.9          37.35                                    beleza_saude   \n",
       "118312   79.9          18.44                         sinalizacao_e_seguranca   \n",
       "118313  750.0          17.69                              relogios_presentes   \n",
       "118314  161.0          40.34  moveis_cozinha_area_de_servico_jantar_e_jardim   \n",
       "\n",
       "        product_name_lenght  product_description_lenght  product_photos_qty  \\\n",
       "0                      42.0                       858.0                 1.0   \n",
       "1                      42.0                       858.0                 1.0   \n",
       "2                      42.0                       858.0                 1.0   \n",
       "3                      42.0                       858.0                 1.0   \n",
       "4                      47.0                       858.0                 1.0   \n",
       "...                     ...                         ...                 ...   \n",
       "118310                 50.0                      1141.0                 2.0   \n",
       "118311                 47.0                       696.0                 1.0   \n",
       "118312                 36.0                       609.0                 2.0   \n",
       "118313                 43.0                       381.0                 4.0   \n",
       "118314                 38.0                       245.0                 1.0   \n",
       "\n",
       "        product_weight_g  product_length_cm  product_height_cm  \\\n",
       "0                 1300.0               30.0               30.0   \n",
       "1                 1300.0               30.0               30.0   \n",
       "2                 1300.0               30.0               30.0   \n",
       "3                 1300.0               30.0               30.0   \n",
       "4                 1600.0               30.0               30.0   \n",
       "...                  ...                ...                ...   \n",
       "118310             450.0               16.0               16.0   \n",
       "118311             692.0               15.0               12.0   \n",
       "118312             575.0               45.0               21.0   \n",
       "118313             350.0               20.0               20.0   \n",
       "118314            4000.0               31.0               42.0   \n",
       "\n",
       "        product_width_cm seller_state  delay  overcharge  \n",
       "0                   35.0           SP  -16.0       27.26  \n",
       "1                   35.0           SP  -16.0       27.26  \n",
       "2                   35.0           SP  -18.0       20.26  \n",
       "3                   35.0           SP  -12.0       17.05  \n",
       "4                   35.0           SP   -7.0       36.40  \n",
       "...                  ...          ...    ...         ...  \n",
       "118310              16.0           SP  -14.0       18.73  \n",
       "118311              14.0           PR  -15.0       37.35  \n",
       "118312              23.0           SP  -14.0       18.44  \n",
       "118313              20.0           SP   -7.0       17.69  \n",
       "118314              43.0           PR  -24.0       40.34  \n",
       "\n",
       "[118315 rows x 20 columns]"
      ]
     },
     "execution_count": 49,
     "metadata": {},
     "output_type": "execute_result"
    }
   ],
   "source": [
    "df"
   ]
  },
  {
   "cell_type": "code",
   "execution_count": 50,
   "metadata": {
    "scrolled": true
   },
   "outputs": [
    {
     "data": {
      "text/html": [
       "<div>\n",
       "<style scoped>\n",
       "    .dataframe tbody tr th:only-of-type {\n",
       "        vertical-align: middle;\n",
       "    }\n",
       "\n",
       "    .dataframe tbody tr th {\n",
       "        vertical-align: top;\n",
       "    }\n",
       "\n",
       "    .dataframe thead th {\n",
       "        text-align: right;\n",
       "    }\n",
       "</style>\n",
       "<table border=\"1\" class=\"dataframe\">\n",
       "  <thead>\n",
       "    <tr style=\"text-align: right;\">\n",
       "      <th></th>\n",
       "      <th>review_comment_title</th>\n",
       "      <th>review_comment_message</th>\n",
       "      <th>customer_state</th>\n",
       "      <th>payment_type</th>\n",
       "      <th>payment_installments</th>\n",
       "      <th>payment_value</th>\n",
       "      <th>price</th>\n",
       "      <th>freight_value</th>\n",
       "      <th>product_category_name</th>\n",
       "      <th>product_name_lenght</th>\n",
       "      <th>product_description_lenght</th>\n",
       "      <th>product_photos_qty</th>\n",
       "      <th>product_weight_g</th>\n",
       "      <th>product_length_cm</th>\n",
       "      <th>product_height_cm</th>\n",
       "      <th>product_width_cm</th>\n",
       "      <th>seller_state</th>\n",
       "      <th>delay</th>\n",
       "      <th>overcharge</th>\n",
       "      <th>review_score</th>\n",
       "    </tr>\n",
       "  </thead>\n",
       "  <tbody>\n",
       "    <tr>\n",
       "      <td>0</td>\n",
       "      <td>0</td>\n",
       "      <td>0</td>\n",
       "      <td>SP</td>\n",
       "      <td>credit_card</td>\n",
       "      <td>8</td>\n",
       "      <td>397.26</td>\n",
       "      <td>185.0</td>\n",
       "      <td>13.63</td>\n",
       "      <td>esporte_lazer</td>\n",
       "      <td>42.0</td>\n",
       "      <td>858.0</td>\n",
       "      <td>1.0</td>\n",
       "      <td>1300.0</td>\n",
       "      <td>30.0</td>\n",
       "      <td>30.0</td>\n",
       "      <td>35.0</td>\n",
       "      <td>SP</td>\n",
       "      <td>-16.0</td>\n",
       "      <td>27.26</td>\n",
       "      <td>4</td>\n",
       "    </tr>\n",
       "    <tr>\n",
       "      <td>1</td>\n",
       "      <td>0</td>\n",
       "      <td>0</td>\n",
       "      <td>SP</td>\n",
       "      <td>credit_card</td>\n",
       "      <td>8</td>\n",
       "      <td>397.26</td>\n",
       "      <td>185.0</td>\n",
       "      <td>13.63</td>\n",
       "      <td>esporte_lazer</td>\n",
       "      <td>42.0</td>\n",
       "      <td>858.0</td>\n",
       "      <td>1.0</td>\n",
       "      <td>1300.0</td>\n",
       "      <td>30.0</td>\n",
       "      <td>30.0</td>\n",
       "      <td>35.0</td>\n",
       "      <td>SP</td>\n",
       "      <td>-16.0</td>\n",
       "      <td>27.26</td>\n",
       "      <td>4</td>\n",
       "    </tr>\n",
       "    <tr>\n",
       "      <td>2</td>\n",
       "      <td>0</td>\n",
       "      <td>0</td>\n",
       "      <td>RS</td>\n",
       "      <td>credit_card</td>\n",
       "      <td>3</td>\n",
       "      <td>205.26</td>\n",
       "      <td>185.0</td>\n",
       "      <td>20.26</td>\n",
       "      <td>esporte_lazer</td>\n",
       "      <td>42.0</td>\n",
       "      <td>858.0</td>\n",
       "      <td>1.0</td>\n",
       "      <td>1300.0</td>\n",
       "      <td>30.0</td>\n",
       "      <td>30.0</td>\n",
       "      <td>35.0</td>\n",
       "      <td>SP</td>\n",
       "      <td>-18.0</td>\n",
       "      <td>20.26</td>\n",
       "      <td>5</td>\n",
       "    </tr>\n",
       "    <tr>\n",
       "      <td>3</td>\n",
       "      <td>0</td>\n",
       "      <td>0</td>\n",
       "      <td>MG</td>\n",
       "      <td>credit_card</td>\n",
       "      <td>2</td>\n",
       "      <td>202.05</td>\n",
       "      <td>185.0</td>\n",
       "      <td>17.05</td>\n",
       "      <td>esporte_lazer</td>\n",
       "      <td>42.0</td>\n",
       "      <td>858.0</td>\n",
       "      <td>1.0</td>\n",
       "      <td>1300.0</td>\n",
       "      <td>30.0</td>\n",
       "      <td>30.0</td>\n",
       "      <td>35.0</td>\n",
       "      <td>SP</td>\n",
       "      <td>-12.0</td>\n",
       "      <td>17.05</td>\n",
       "      <td>5</td>\n",
       "    </tr>\n",
       "    <tr>\n",
       "      <td>4</td>\n",
       "      <td>0</td>\n",
       "      <td>0</td>\n",
       "      <td>MG</td>\n",
       "      <td>credit_card</td>\n",
       "      <td>1</td>\n",
       "      <td>306.40</td>\n",
       "      <td>135.0</td>\n",
       "      <td>18.20</td>\n",
       "      <td>esporte_lazer</td>\n",
       "      <td>47.0</td>\n",
       "      <td>858.0</td>\n",
       "      <td>1.0</td>\n",
       "      <td>1600.0</td>\n",
       "      <td>30.0</td>\n",
       "      <td>30.0</td>\n",
       "      <td>35.0</td>\n",
       "      <td>SP</td>\n",
       "      <td>-7.0</td>\n",
       "      <td>36.40</td>\n",
       "      <td>5</td>\n",
       "    </tr>\n",
       "  </tbody>\n",
       "</table>\n",
       "</div>"
      ],
      "text/plain": [
       "   review_comment_title  review_comment_message customer_state payment_type  \\\n",
       "0                     0                       0             SP  credit_card   \n",
       "1                     0                       0             SP  credit_card   \n",
       "2                     0                       0             RS  credit_card   \n",
       "3                     0                       0             MG  credit_card   \n",
       "4                     0                       0             MG  credit_card   \n",
       "\n",
       "   payment_installments  payment_value  price  freight_value  \\\n",
       "0                     8         397.26  185.0          13.63   \n",
       "1                     8         397.26  185.0          13.63   \n",
       "2                     3         205.26  185.0          20.26   \n",
       "3                     2         202.05  185.0          17.05   \n",
       "4                     1         306.40  135.0          18.20   \n",
       "\n",
       "  product_category_name  product_name_lenght  product_description_lenght  \\\n",
       "0         esporte_lazer                 42.0                       858.0   \n",
       "1         esporte_lazer                 42.0                       858.0   \n",
       "2         esporte_lazer                 42.0                       858.0   \n",
       "3         esporte_lazer                 42.0                       858.0   \n",
       "4         esporte_lazer                 47.0                       858.0   \n",
       "\n",
       "   product_photos_qty  product_weight_g  product_length_cm  product_height_cm  \\\n",
       "0                 1.0            1300.0               30.0               30.0   \n",
       "1                 1.0            1300.0               30.0               30.0   \n",
       "2                 1.0            1300.0               30.0               30.0   \n",
       "3                 1.0            1300.0               30.0               30.0   \n",
       "4                 1.0            1600.0               30.0               30.0   \n",
       "\n",
       "   product_width_cm seller_state  delay  overcharge  review_score  \n",
       "0              35.0           SP  -16.0       27.26             4  \n",
       "1              35.0           SP  -16.0       27.26             4  \n",
       "2              35.0           SP  -18.0       20.26             5  \n",
       "3              35.0           SP  -12.0       17.05             5  \n",
       "4              35.0           SP   -7.0       36.40             5  "
      ]
     },
     "execution_count": 50,
     "metadata": {},
     "output_type": "execute_result"
    }
   ],
   "source": [
    "target = df.review_score\n",
    "df = df.drop('review_score', axis='columns')\n",
    "df['review_score'] = target\n",
    "df.head()"
   ]
  },
  {
   "cell_type": "markdown",
   "metadata": {},
   "source": [
    "# Exploratory Data Analytics"
   ]
  },
  {
   "cell_type": "markdown",
   "metadata": {},
   "source": [
    "<a id='score'></a>\n",
    "## Score Distribution"
   ]
  },
  {
   "cell_type": "code",
   "execution_count": 51,
   "metadata": {
    "scrolled": false
   },
   "outputs": [
    {
     "data": {
      "image/png": "[encoded data removed]",
      "text/plain": [
       "<Figure size 432x288 with 1 Axes>"
      ]
     },
     "metadata": {
      "needs_background": "light"
     },
     "output_type": "display_data"
    }
   ],
   "source": [
    "plt.bar(df.review_score.value_counts().index, df.review_score.value_counts().values)\n",
    "plt.xlabel('rating')\n",
    "plt.ylabel('count');"
   ]
  },
  {
   "cell_type": "markdown",
   "metadata": {},
   "source": [
    "Score distribution is neither uniform nor normal. Most customers have rated their order with maximum rating while a few have lower rating. This indicates that customers tend not to rate low unless there has been a deficiency in order either with the product or the service."
   ]
  },
  {
   "cell_type": "markdown",
   "metadata": {},
   "source": [
    "Based on the results and discussion of the review score in [Score Distribution](#score) and given that the business goal is to identify the deficincy factors in orders it makes sense to bin ratings into binary classes with criteria being five or less than five."
   ]
  },
  {
   "cell_type": "code",
   "execution_count": 52,
   "metadata": {
    "scrolled": true
   },
   "outputs": [
    {
     "data": {
      "image/png": "[encoded data removed]",
      "text/plain": [
       "<Figure size 432x288 with 1 Axes>"
      ]
     },
     "metadata": {
      "needs_background": "light"
     },
     "output_type": "display_data"
    }
   ],
   "source": [
    "# bin review scores to binary classes\n",
    "df.loc[df.review_score < 5, 'review_score'] = 0\n",
    "df.loc[df.review_score == 5, 'review_score'] = 1\n",
    "plt.bar(df.review_score.value_counts().index, df.review_score.value_counts().values)\n",
    "plt.xlabel('rating')\n",
    "plt.ylabel('count');"
   ]
  },
  {
   "cell_type": "markdown",
   "metadata": {},
   "source": [
    "The secondary advantage of binning in this problem is that it reduced class imbalance. Even though there is still slight class imbalance between the two, it is good enough to proceed for an initial round of descriptive modeling."
   ]
  },
  {
   "cell_type": "markdown",
   "metadata": {},
   "source": [
    "<a id='delay'></a>\n",
    "## Delivery Delay"
   ]
  },
  {
   "cell_type": "code",
   "execution_count": 53,
   "metadata": {
    "scrolled": true
   },
   "outputs": [
    {
     "data": {
      "image/png": "[encoded data removed]",
      "text/plain": [
       "<Figure size 432x288 with 1 Axes>"
      ]
     },
     "metadata": {
      "needs_background": "light"
     },
     "output_type": "display_data"
    }
   ],
   "source": [
    "plt.hist(df.delay, bins=100)\n",
    "plt.xlabel('delay (days)')\n",
    "plt.ylabel('count');"
   ]
  },
  {
   "cell_type": "code",
   "execution_count": 54,
   "metadata": {
    "scrolled": false
   },
   "outputs": [
    {
     "data": {
      "text/plain": [
       "review_score\n",
       "0   -10.323380\n",
       "1   -13.438406\n",
       "Name: delay, dtype: float64"
      ]
     },
     "execution_count": 54,
     "metadata": {},
     "output_type": "execute_result"
    }
   ],
   "source": [
    "df.groupby('review_score')['delay'].mean()"
   ]
  },
  {
   "cell_type": "markdown",
   "metadata": {},
   "source": [
    "Negative values for delay means that the order has been delivered to the customer sooner than the estimated delivery date."
   ]
  },
  {
   "cell_type": "code",
   "execution_count": 55,
   "metadata": {
    "scrolled": false
   },
   "outputs": [
    {
     "data": {
      "image/png": "[encoded data removed]",
      "text/plain": [
       "<Figure size 432x288 with 1 Axes>"
      ]
     },
     "metadata": {
      "needs_background": "light"
     },
     "output_type": "display_data"
    }
   ],
   "source": [
    "for review_score in range(2):\n",
    "    plt.hist(df.loc[df['review_score']==review_score, 'delay'], bins=100, label=review_score)\n",
    "plt.legend()\n",
    "plt.xlabel('delay (days)')\n",
    "plt.ylabel('count');"
   ]
  },
  {
   "cell_type": "markdown",
   "metadata": {},
   "source": [
    "It is observed that the average delay is larger for lower ratings because more delay has negative impact in customer sentiment."
   ]
  },
  {
   "cell_type": "markdown",
   "metadata": {},
   "source": [
    "<a id='overcharge'></a>\n",
    "## Overcharge"
   ]
  },
  {
   "cell_type": "code",
   "execution_count": 56,
   "metadata": {
    "scrolled": false
   },
   "outputs": [
    {
     "data": {
      "image/png": "[encoded data removed]",
      "text/plain": [
       "<Figure size 432x288 with 1 Axes>"
      ]
     },
     "metadata": {
      "needs_background": "light"
     },
     "output_type": "display_data"
    }
   ],
   "source": [
    "plt.scatter(payment_price_df.payment_value, payment_price_df.price)\n",
    "plt.xlabel('price')\n",
    "plt.ylabel('payment');"
   ]
  },
  {
   "cell_type": "markdown",
   "metadata": {},
   "source": [
    "Even though there exists a high-correlation linear relationship between payment and price, they are not exactly the same in most cases. More specifically, the following histogram shows range and distribution of this difference."
   ]
  },
  {
   "cell_type": "code",
   "execution_count": 57,
   "metadata": {
    "scrolled": true
   },
   "outputs": [
    {
     "data": {
      "image/png": "[encoded data removed]",
      "text/plain": [
       "<Figure size 432x288 with 1 Axes>"
      ]
     },
     "metadata": {
      "needs_background": "light"
     },
     "output_type": "display_data"
    }
   ],
   "source": [
    "plt.hist(df.overcharge, bins=100);\n",
    "plt.xlabel('overcharge')\n",
    "plt.ylabel('count');"
   ]
  },
  {
   "cell_type": "markdown",
   "metadata": {},
   "source": [
    "A large number of orders have small difference between price and payment; however, there are a few orders with very large differece. More specifically, the minimum and maximum values of these differences are:"
   ]
  },
  {
   "cell_type": "code",
   "execution_count": 58,
   "metadata": {
    "scrolled": true
   },
   "outputs": [
    {
     "name": "stdout",
     "output_type": "stream",
     "text": [
      "-5.170000000000016\n",
      "1794.96\n"
     ]
    }
   ],
   "source": [
    "print(payment_price_df.overcharge.min())\n",
    "print(payment_price_df.overcharge.max())"
   ]
  },
  {
   "cell_type": "markdown",
   "metadata": {},
   "source": [
    "Based on the observed difference between price and payment as well as the intuition that extra charge may cause a negative sentiment of customers about their order, the difference is included as a feature to investigate potential association between the two. "
   ]
  },
  {
   "cell_type": "code",
   "execution_count": 59,
   "metadata": {
    "scrolled": false
   },
   "outputs": [
    {
     "data": {
      "text/plain": [
       "review_score\n",
       "0   -10.323380\n",
       "1   -13.438406\n",
       "Name: delay, dtype: float64"
      ]
     },
     "execution_count": 59,
     "metadata": {},
     "output_type": "execute_result"
    }
   ],
   "source": [
    "df.groupby('review_score')['delay'].mean()"
   ]
  },
  {
   "cell_type": "code",
   "execution_count": 60,
   "metadata": {
    "scrolled": false
   },
   "outputs": [
    {
     "data": {
      "image/png": "[encoded data removed]",
      "text/plain": [
       "<Figure size 432x288 with 1 Axes>"
      ]
     },
     "metadata": {
      "needs_background": "light"
     },
     "output_type": "display_data"
    }
   ],
   "source": [
    "for review_score in np.arange(2):\n",
    "    plt.hist(df.loc[df['review_score']==review_score, 'delay'], bins=100, label=review_score)\n",
    "plt.legend()\n",
    "plt.xlabel('delay (days)')\n",
    "plt.ylabel('count')\n",
    "plt.xlim(-50, 50);"
   ]
  },
  {
   "cell_type": "markdown",
   "metadata": {},
   "source": [
    "<a id='comment'></a>\n",
    "## Review Comment"
   ]
  },
  {
   "cell_type": "code",
   "execution_count": 61,
   "metadata": {
    "scrolled": true
   },
   "outputs": [
    {
     "data": {
      "image/png": "[encoded data removed]",
      "text/plain": [
       "<Figure size 432x288 with 1 Axes>"
      ]
     },
     "metadata": {
      "needs_background": "light"
     },
     "output_type": "display_data"
    }
   ],
   "source": [
    "avg_message = df.groupby('review_score')['review_comment_message'].mean()\n",
    "plt.bar(avg_message.index, avg_message.values)\n",
    "plt.xlabel('rating')\n",
    "plt.ylabel('average messages');"
   ]
  },
  {
   "cell_type": "markdown",
   "metadata": {},
   "source": [
    "The bar chart shows that customers leave messages more for orders that they were not satisfied with. Specifically, about half of orders with bad reviews have a message associated with them."
   ]
  },
  {
   "cell_type": "code",
   "execution_count": 62,
   "metadata": {
    "scrolled": false
   },
   "outputs": [
    {
     "data": {
      "image/png": "[encoded data removed]",
      "text/plain": [
       "<Figure size 432x288 with 1 Axes>"
      ]
     },
     "metadata": {
      "needs_background": "light"
     },
     "output_type": "display_data"
    }
   ],
   "source": [
    "avg_title = df.groupby('review_score')['review_comment_title'].mean()\n",
    "plt.bar(avg_title.index, avg_title.values)\n",
    "plt.xlabel('rating')\n",
    "plt.ylabel('average titles');"
   ]
  },
  {
   "cell_type": "markdown",
   "metadata": {},
   "source": [
    "<a id='price'></a>\n",
    "## Price"
   ]
  },
  {
   "cell_type": "code",
   "execution_count": 63,
   "metadata": {
    "scrolled": false
   },
   "outputs": [
    {
     "data": {
      "image/png": "[encoded data removed]",
      "text/plain": [
       "<Figure size 432x288 with 1 Axes>"
      ]
     },
     "metadata": {
      "needs_background": "light"
     },
     "output_type": "display_data"
    }
   ],
   "source": [
    "avg_price = df.groupby('review_score')['price'].mean()\n",
    "plt.bar(avg_price.index, avg_price.values)\n",
    "plt.xlabel('rating')\n",
    "plt.ylabel('average price');"
   ]
  },
  {
   "cell_type": "code",
   "execution_count": 64,
   "metadata": {
    "scrolled": true
   },
   "outputs": [
    {
     "data": {
      "image/png": "[encoded data removed]",
      "text/plain": [
       "<Figure size 432x288 with 1 Axes>"
      ]
     },
     "metadata": {
      "needs_background": "light"
     },
     "output_type": "display_data"
    }
   ],
   "source": [
    "for review_score in np.arange(2):\n",
    "    plt.hist(df.loc[df['review_score']==review_score, 'price'], bins=100, label=review_score)\n",
    "plt.legend()\n",
    "plt.xlabel('price')\n",
    "plt.ylabel('count');"
   ]
  },
  {
   "cell_type": "markdown",
   "metadata": {},
   "source": [
    "<a id='freight'></a>\n",
    "## Freight"
   ]
  },
  {
   "cell_type": "markdown",
   "metadata": {},
   "source": [
    "Freight value is the cost for shipping items of an order from the seller to the customer."
   ]
  },
  {
   "cell_type": "code",
   "execution_count": 65,
   "metadata": {
    "scrolled": false
   },
   "outputs": [
    {
     "data": {
      "image/png": "[encoded data removed]",
      "text/plain": [
       "<Figure size 432x288 with 1 Axes>"
      ]
     },
     "metadata": {
      "needs_background": "light"
     },
     "output_type": "display_data"
    }
   ],
   "source": [
    "avg_freight = df.groupby('review_score')['freight_value'].mean()\n",
    "plt.bar(avg_freight.index, avg_freight.values)\n",
    "plt.xlabel('rating')\n",
    "plt.ylabel('average freight');"
   ]
  },
  {
   "cell_type": "code",
   "execution_count": 66,
   "metadata": {
    "scrolled": true
   },
   "outputs": [
    {
     "data": {
      "image/png": "[encoded data removed]",
      "text/plain": [
       "<Figure size 432x288 with 1 Axes>"
      ]
     },
     "metadata": {
      "needs_background": "light"
     },
     "output_type": "display_data"
    }
   ],
   "source": [
    "for review_score in np.arange(2):\n",
    "    plt.hist(df.loc[df['review_score']==review_score, 'freight_value'], bins=100, label=review_score)\n",
    "plt.legend()\n",
    "plt.xlabel('freight')\n",
    "plt.ylabel('count');"
   ]
  },
  {
   "cell_type": "markdown",
   "metadata": {},
   "source": [
    "For price and freight it is hard to predict from raw data wether there is a relationship between them and review score."
   ]
  },
  {
   "cell_type": "code",
   "execution_count": 67,
   "metadata": {
    "scrolled": false
   },
   "outputs": [
    {
     "data": {
      "image/png": "[encoded data removed]",
      "text/plain": [
       "<Figure size 432x288 with 1 Axes>"
      ]
     },
     "metadata": {
      "needs_background": "light"
     },
     "output_type": "display_data"
    }
   ],
   "source": [
    "product_name_lenght_avg = df.groupby('review_score')['product_name_lenght'].mean()\n",
    "plt.bar(product_name_lenght_avg.index, product_name_lenght_avg.values)\n",
    "plt.xlabel('rating')\n",
    "plt.ylabel('average product name lenght');"
   ]
  },
  {
   "cell_type": "code",
   "execution_count": 68,
   "metadata": {
    "scrolled": true
   },
   "outputs": [
    {
     "data": {
      "image/png": "[encoded data removed]",
      "text/plain": [
       "<Figure size 432x288 with 1 Axes>"
      ]
     },
     "metadata": {
      "needs_background": "light"
     },
     "output_type": "display_data"
    }
   ],
   "source": [
    "for review_score in np.arange(2):\n",
    "    plt.hist(df.loc[df['review_score']==review_score, 'product_name_lenght'], bins=100, label=review_score)\n",
    "plt.legend()\n",
    "plt.xlabel('freight')\n",
    "plt.ylabel('count');"
   ]
  },
  {
   "cell_type": "markdown",
   "metadata": {},
   "source": [
    "# Correlation Analysis"
   ]
  },
  {
   "cell_type": "code",
   "execution_count": 69,
   "metadata": {
    "scrolled": true
   },
   "outputs": [],
   "source": [
    "# format dataframe for algorithmic consumption \n",
    "df = pd.get_dummies(df)\n",
    "target = df.review_score\n",
    "df = df.drop('review_score', axis='columns')\n",
    "df['review_score'] = target"
   ]
  },
  {
   "cell_type": "code",
   "execution_count": 70,
   "metadata": {
    "scrolled": true
   },
   "outputs": [
    {
     "data": {
      "text/html": [
       "<div>\n",
       "<style scoped>\n",
       "    .dataframe tbody tr th:only-of-type {\n",
       "        vertical-align: middle;\n",
       "    }\n",
       "\n",
       "    .dataframe tbody tr th {\n",
       "        vertical-align: top;\n",
       "    }\n",
       "\n",
       "    .dataframe thead th {\n",
       "        text-align: right;\n",
       "    }\n",
       "</style>\n",
       "<table border=\"1\" class=\"dataframe\">\n",
       "  <thead>\n",
       "    <tr style=\"text-align: right;\">\n",
       "      <th></th>\n",
       "      <th>feature</th>\n",
       "      <th>abs_corr</th>\n",
       "      <th>corr</th>\n",
       "      <th>p_value</th>\n",
       "    </tr>\n",
       "  </thead>\n",
       "  <tbody>\n",
       "    <tr>\n",
       "      <td>0</td>\n",
       "      <td>review_comment_message</td>\n",
       "      <td>0.160737</td>\n",
       "      <td>-0.160737</td>\n",
       "      <td>0.000000e+00</td>\n",
       "    </tr>\n",
       "    <tr>\n",
       "      <td>1</td>\n",
       "      <td>delay</td>\n",
       "      <td>0.153813</td>\n",
       "      <td>-0.153813</td>\n",
       "      <td>0.000000e+00</td>\n",
       "    </tr>\n",
       "    <tr>\n",
       "      <td>2</td>\n",
       "      <td>overcharge</td>\n",
       "      <td>0.091952</td>\n",
       "      <td>-0.091952</td>\n",
       "      <td>1.785200e-220</td>\n",
       "    </tr>\n",
       "    <tr>\n",
       "      <td>3</td>\n",
       "      <td>payment_value</td>\n",
       "      <td>0.049704</td>\n",
       "      <td>-0.049704</td>\n",
       "      <td>1.317843e-65</td>\n",
       "    </tr>\n",
       "    <tr>\n",
       "      <td>4</td>\n",
       "      <td>product_category_name_moveis_escritorio</td>\n",
       "      <td>0.045928</td>\n",
       "      <td>-0.045928</td>\n",
       "      <td>2.830051e-56</td>\n",
       "    </tr>\n",
       "    <tr>\n",
       "      <td>...</td>\n",
       "      <td>...</td>\n",
       "      <td>...</td>\n",
       "      <td>...</td>\n",
       "      <td>...</td>\n",
       "    </tr>\n",
       "    <tr>\n",
       "      <td>138</td>\n",
       "      <td>product_category_name_sinalizacao_e_seguranca</td>\n",
       "      <td>0.000311</td>\n",
       "      <td>-0.000311</td>\n",
       "      <td>9.147002e-01</td>\n",
       "    </tr>\n",
       "    <tr>\n",
       "      <td>139</td>\n",
       "      <td>seller_state_RO</td>\n",
       "      <td>0.000229</td>\n",
       "      <td>0.000229</td>\n",
       "      <td>9.370874e-01</td>\n",
       "    </tr>\n",
       "    <tr>\n",
       "      <td>140</td>\n",
       "      <td>product_category_name_artigos_de_festas</td>\n",
       "      <td>0.000169</td>\n",
       "      <td>0.000169</td>\n",
       "      <td>9.535951e-01</td>\n",
       "    </tr>\n",
       "    <tr>\n",
       "      <td>141</td>\n",
       "      <td>product_category_name_moveis_quarto</td>\n",
       "      <td>0.000167</td>\n",
       "      <td>0.000167</td>\n",
       "      <td>9.543074e-01</td>\n",
       "    </tr>\n",
       "    <tr>\n",
       "      <td>142</td>\n",
       "      <td>customer_state_RO</td>\n",
       "      <td>0.000151</td>\n",
       "      <td>-0.000151</td>\n",
       "      <td>9.586517e-01</td>\n",
       "    </tr>\n",
       "  </tbody>\n",
       "</table>\n",
       "<p>143 rows × 4 columns</p>\n",
       "</div>"
      ],
      "text/plain": [
       "                                           feature  abs_corr      corr  \\\n",
       "0                           review_comment_message  0.160737 -0.160737   \n",
       "1                                            delay  0.153813 -0.153813   \n",
       "2                                       overcharge  0.091952 -0.091952   \n",
       "3                                    payment_value  0.049704 -0.049704   \n",
       "4          product_category_name_moveis_escritorio  0.045928 -0.045928   \n",
       "..                                             ...       ...       ...   \n",
       "138  product_category_name_sinalizacao_e_seguranca  0.000311 -0.000311   \n",
       "139                                seller_state_RO  0.000229  0.000229   \n",
       "140        product_category_name_artigos_de_festas  0.000169  0.000169   \n",
       "141            product_category_name_moveis_quarto  0.000167  0.000167   \n",
       "142                              customer_state_RO  0.000151 -0.000151   \n",
       "\n",
       "           p_value  \n",
       "0     0.000000e+00  \n",
       "1     0.000000e+00  \n",
       "2    1.785200e-220  \n",
       "3     1.317843e-65  \n",
       "4     2.830051e-56  \n",
       "..             ...  \n",
       "138   9.147002e-01  \n",
       "139   9.370874e-01  \n",
       "140   9.535951e-01  \n",
       "141   9.543074e-01  \n",
       "142   9.586517e-01  \n",
       "\n",
       "[143 rows x 4 columns]"
      ]
     },
     "execution_count": 70,
     "metadata": {},
     "output_type": "execute_result"
    }
   ],
   "source": [
    "# dataframe of feature correlations with target sorted by absolute value\n",
    "from scipy import stats\n",
    "corr_array=[]\n",
    "for i in range(df.shape[1]-1):  \n",
    "    corr_array.append([df.columns[i],\n",
    "                       np.abs(stats.pearsonr(df[df.columns[i]], df[df.columns[-1]])[0]),\n",
    "                       stats.pearsonr(df[df.columns[i]], df[df.columns[-1]])[0],\n",
    "                       stats.pearsonr(df[df.columns[i]], df[df.columns[-1]])[1]])\n",
    "    \n",
    "corr_df = pd.DataFrame(corr_array, columns = ['feature', 'abs_corr', 'corr', 'p_value'])\n",
    "corr_df.sort_values(by='abs_corr', ascending=False, inplace=True)\n",
    "corr_df.reset_index(drop=True, inplace=True)\n",
    "corr_df"
   ]
  },
  {
   "cell_type": "code",
   "execution_count": 71,
   "metadata": {},
   "outputs": [
    {
     "data": {
      "text/html": [
       "<div>\n",
       "<style scoped>\n",
       "    .dataframe tbody tr th:only-of-type {\n",
       "        vertical-align: middle;\n",
       "    }\n",
       "\n",
       "    .dataframe tbody tr th {\n",
       "        vertical-align: top;\n",
       "    }\n",
       "\n",
       "    .dataframe thead th {\n",
       "        text-align: right;\n",
       "    }\n",
       "</style>\n",
       "<table border=\"1\" class=\"dataframe\">\n",
       "  <thead>\n",
       "    <tr style=\"text-align: right;\">\n",
       "      <th></th>\n",
       "      <th>feature</th>\n",
       "      <th>abs_corr</th>\n",
       "      <th>corr</th>\n",
       "      <th>p_value</th>\n",
       "    </tr>\n",
       "  </thead>\n",
       "  <tbody>\n",
       "    <tr>\n",
       "      <td>67</td>\n",
       "      <td>product_category_name_portateis_casa_forno_e_cafe</td>\n",
       "      <td>0.005471</td>\n",
       "      <td>0.005471</td>\n",
       "      <td>0.059863</td>\n",
       "    </tr>\n",
       "    <tr>\n",
       "      <td>68</td>\n",
       "      <td>customer_state_SE</td>\n",
       "      <td>0.005213</td>\n",
       "      <td>-0.005213</td>\n",
       "      <td>0.072949</td>\n",
       "    </tr>\n",
       "    <tr>\n",
       "      <td>69</td>\n",
       "      <td>product_category_name_fashion_roupa_infanto_ju...</td>\n",
       "      <td>0.005204</td>\n",
       "      <td>0.005204</td>\n",
       "      <td>0.073473</td>\n",
       "    </tr>\n",
       "    <tr>\n",
       "      <td>70</td>\n",
       "      <td>product_category_name_portateis_cozinha_e_prep...</td>\n",
       "      <td>0.005165</td>\n",
       "      <td>-0.005165</td>\n",
       "      <td>0.075643</td>\n",
       "    </tr>\n",
       "    <tr>\n",
       "      <td>71</td>\n",
       "      <td>seller_state_RN</td>\n",
       "      <td>0.005157</td>\n",
       "      <td>0.005157</td>\n",
       "      <td>0.076082</td>\n",
       "    </tr>\n",
       "    <tr>\n",
       "      <td>...</td>\n",
       "      <td>...</td>\n",
       "      <td>...</td>\n",
       "      <td>...</td>\n",
       "      <td>...</td>\n",
       "    </tr>\n",
       "    <tr>\n",
       "      <td>138</td>\n",
       "      <td>product_category_name_sinalizacao_e_seguranca</td>\n",
       "      <td>0.000311</td>\n",
       "      <td>-0.000311</td>\n",
       "      <td>0.914700</td>\n",
       "    </tr>\n",
       "    <tr>\n",
       "      <td>139</td>\n",
       "      <td>seller_state_RO</td>\n",
       "      <td>0.000229</td>\n",
       "      <td>0.000229</td>\n",
       "      <td>0.937087</td>\n",
       "    </tr>\n",
       "    <tr>\n",
       "      <td>140</td>\n",
       "      <td>product_category_name_artigos_de_festas</td>\n",
       "      <td>0.000169</td>\n",
       "      <td>0.000169</td>\n",
       "      <td>0.953595</td>\n",
       "    </tr>\n",
       "    <tr>\n",
       "      <td>141</td>\n",
       "      <td>product_category_name_moveis_quarto</td>\n",
       "      <td>0.000167</td>\n",
       "      <td>0.000167</td>\n",
       "      <td>0.954307</td>\n",
       "    </tr>\n",
       "    <tr>\n",
       "      <td>142</td>\n",
       "      <td>customer_state_RO</td>\n",
       "      <td>0.000151</td>\n",
       "      <td>-0.000151</td>\n",
       "      <td>0.958652</td>\n",
       "    </tr>\n",
       "  </tbody>\n",
       "</table>\n",
       "<p>76 rows × 4 columns</p>\n",
       "</div>"
      ],
      "text/plain": [
       "                                               feature  abs_corr      corr  \\\n",
       "67   product_category_name_portateis_casa_forno_e_cafe  0.005471  0.005471   \n",
       "68                                   customer_state_SE  0.005213 -0.005213   \n",
       "69   product_category_name_fashion_roupa_infanto_ju...  0.005204  0.005204   \n",
       "70   product_category_name_portateis_cozinha_e_prep...  0.005165 -0.005165   \n",
       "71                                     seller_state_RN  0.005157  0.005157   \n",
       "..                                                 ...       ...       ...   \n",
       "138      product_category_name_sinalizacao_e_seguranca  0.000311 -0.000311   \n",
       "139                                    seller_state_RO  0.000229  0.000229   \n",
       "140            product_category_name_artigos_de_festas  0.000169  0.000169   \n",
       "141                product_category_name_moveis_quarto  0.000167  0.000167   \n",
       "142                                  customer_state_RO  0.000151 -0.000151   \n",
       "\n",
       "      p_value  \n",
       "67   0.059863  \n",
       "68   0.072949  \n",
       "69   0.073473  \n",
       "70   0.075643  \n",
       "71   0.076082  \n",
       "..        ...  \n",
       "138  0.914700  \n",
       "139  0.937087  \n",
       "140  0.953595  \n",
       "141  0.954307  \n",
       "142  0.958652  \n",
       "\n",
       "[76 rows x 4 columns]"
      ]
     },
     "execution_count": 71,
     "metadata": {},
     "output_type": "execute_result"
    }
   ],
   "source": [
    "# statically insignificant correlations\n",
    "corr_df[corr_df['p_value']>=0.05]"
   ]
  },
  {
   "cell_type": "markdown",
   "metadata": {},
   "source": [
    "# Logistic Regression"
   ]
  },
  {
   "cell_type": "markdown",
   "metadata": {},
   "source": [
    "## Baseline model"
   ]
  },
  {
   "cell_type": "code",
   "execution_count": 72,
   "metadata": {
    "scrolled": false
   },
   "outputs": [
    {
     "name": "stdout",
     "output_type": "stream",
     "text": [
      "Warning: Maximum number of iterations has been exceeded.\n",
      "         Current function value: 0.649428\n",
      "         Iterations: 35\n"
     ]
    },
    {
     "name": "stderr",
     "output_type": "stream",
     "text": [
      "C:\\Users\\arali\\Anaconda3\\lib\\site-packages\\statsmodels\\base\\model.py:512: ConvergenceWarning: Maximum Likelihood optimization failed to converge. Check mle_retvals\n",
      "  \"Check mle_retvals\", ConvergenceWarning)\n"
     ]
    },
    {
     "data": {
      "text/html": [
       "<table class=\"simpletable\">\n",
       "<caption>Logit Regression Results</caption>\n",
       "<tr>\n",
       "  <th>Dep. Variable:</th>     <td>review_score</td>   <th>  No. Observations:  </th>  <td>118315</td> \n",
       "</tr>\n",
       "<tr>\n",
       "  <th>Model:</th>                 <td>Logit</td>      <th>  Df Residuals:      </th>  <td>118175</td> \n",
       "</tr>\n",
       "<tr>\n",
       "  <th>Method:</th>                 <td>MLE</td>       <th>  Df Model:          </th>  <td>   139</td> \n",
       "</tr>\n",
       "<tr>\n",
       "  <th>Date:</th>            <td>Fri, 03 Apr 2020</td> <th>  Pseudo R-squ.:     </th>  <td>0.05289</td>\n",
       "</tr>\n",
       "<tr>\n",
       "  <th>Time:</th>                <td>14:33:09</td>     <th>  Log-Likelihood:    </th> <td> -76837.</td>\n",
       "</tr>\n",
       "<tr>\n",
       "  <th>converged:</th>             <td>False</td>      <th>  LL-Null:           </th> <td> -81128.</td>\n",
       "</tr>\n",
       "<tr>\n",
       "  <th>Covariance Type:</th>     <td>nonrobust</td>    <th>  LLR p-value:       </th>  <td> 0.000</td> \n",
       "</tr>\n",
       "</table>"
      ],
      "text/plain": [
       "<class 'statsmodels.iolib.table.SimpleTable'>"
      ]
     },
     "metadata": {},
     "output_type": "display_data"
    },
    {
     "data": {
      "image/png": "[encoded data removed]",
      "text/plain": [
       "<Figure size 360x288 with 1 Axes>"
      ]
     },
     "metadata": {
      "needs_background": "light"
     },
     "output_type": "display_data"
    }
   ],
   "source": [
    "# seperate target from features\n",
    "X = df[df.columns[:-1]]\n",
    "y = df[df.columns[-1]]\n",
    "\n",
    "# scale data with standard scaler\n",
    "from sklearn.preprocessing import StandardScaler\n",
    "scaler = StandardScaler()\n",
    "X = pd.DataFrame(data=scaler.fit_transform(X), columns=X.columns)\n",
    "\n",
    "# fit logit function \n",
    "import statsmodels.api as sm\n",
    "X_withconstant = sm.add_constant(X)\n",
    "logit = sm.Logit(y, X_withconstant).fit()\n",
    "display(logit.summary().tables[0]) \n",
    "\n",
    "# table of significant coefficinets sorted by absolute value\n",
    "coef_table = logit.summary().tables[1]\n",
    "coef_df = pd.DataFrame(data=coef_table.data[1:], columns=coef_table.data[0])\n",
    "coef_df['coef'] = coef_df['coef'].astype(float)\n",
    "coef_df['P>|z|'] = coef_df['P>|z|'].astype(float)\n",
    "coef_df['abs_coef'] = np.abs(coef_df['coef'])\n",
    "coef_df.drop(0, axis='index', inplace=True)\n",
    "coefs_by_mag = coef_df.sort_values(by='abs_coef', ascending=False)\n",
    "coefs_by_mag = coefs_by_mag[coefs_by_mag['P>|z|'] <= 0.05]\n",
    "\n",
    "# bar chart of feature coefficients\n",
    "bar_names = coefs_by_mag['']\n",
    "bar_heights = coefs_by_mag['coef']\n",
    "bar_colors = np.where(bar_heights>0, 'blue', 'red')\n",
    "plt.figure(figsize=(5.0, 4.0))\n",
    "plt.barh(bar_names, bar_heights, color=bar_colors)\n",
    "plt.xlabel('normalized coefficient');"
   ]
  },
  {
   "cell_type": "markdown",
   "metadata": {},
   "source": [
    "Figure above shows the important factors in positive (blue) or negative (red) sentiment of a customer. Delivery delay and overcharge are the most important factors in negative sentiment because they are associated with a low quality purchase experience which is consistent with analytics in [Delivery Delay](#delay) and [Overcharge](#overcharge) sections. On the other hand, price and frieght value are the most important factors in positive sentiment because they are associated with a high quality product or service even though it was hard to guess from analytics results in [Price](#price) and [Freight](#freight) sections. \n",
    "\n",
    "Furthermore, it is notable that review message has a large negative coefficient while review title has a large positive coefficient. This indicates that customers only write messages when they have a negative sentiment; otherwise, they just leave a title.\n",
    "\n",
    "A surprising observation is that even though price, payment value, and overcharge are extremely correlated with one another, they all show up as a statistically significant factor in the results. To consider the high VIF of payment value, it has been dropped and logit function was refitted.\n",
    "\n",
    "By comparing degrees of freedom of the model from the results table with number of features in the figure it is shown that a large number of features do not have statistical significance which can be due to multicolinearity in large numbr of features. In the following sections, multicolinearity is dealt with two different approaches."
   ]
  },
  {
   "cell_type": "markdown",
   "metadata": {},
   "source": [
    "## Variance Inflation Factor"
   ]
  },
  {
   "cell_type": "code",
   "execution_count": 73,
   "metadata": {
    "scrolled": true
   },
   "outputs": [],
   "source": [
    "# seperate target from features\n",
    "X = df[df.columns[:-1]]\n",
    "y = df[df.columns[-1]]\n",
    "\n",
    "# variance inflation factors\n",
    "from statsmodels.stats.outliers_influence import variance_inflation_factor\n",
    "VIF_series = pd.Series([variance_inflation_factor(X.values, i) for i in range(X.shape[1])], index=X.columns)\n",
    "VIF_series.sort_values(ascending=False, inplace=True)\n",
    "VIF_series.to_csv('VIF_series.csv', index=True);"
   ]
  },
  {
   "cell_type": "code",
   "execution_count": 74,
   "metadata": {},
   "outputs": [
    {
     "data": {
      "text/html": [
       "<div>\n",
       "<style scoped>\n",
       "    .dataframe tbody tr th:only-of-type {\n",
       "        vertical-align: middle;\n",
       "    }\n",
       "\n",
       "    .dataframe tbody tr th {\n",
       "        vertical-align: top;\n",
       "    }\n",
       "\n",
       "    .dataframe thead th {\n",
       "        text-align: right;\n",
       "    }\n",
       "</style>\n",
       "<table border=\"1\" class=\"dataframe\">\n",
       "  <thead>\n",
       "    <tr style=\"text-align: right;\">\n",
       "      <th></th>\n",
       "      <th>vif</th>\n",
       "    </tr>\n",
       "  </thead>\n",
       "  <tbody>\n",
       "    <tr>\n",
       "      <td>seller_state_SP</td>\n",
       "      <td>inf</td>\n",
       "    </tr>\n",
       "    <tr>\n",
       "      <td>product_category_name_eletroportateis</td>\n",
       "      <td>inf</td>\n",
       "    </tr>\n",
       "    <tr>\n",
       "      <td>product_category_name_alimentos</td>\n",
       "      <td>inf</td>\n",
       "    </tr>\n",
       "    <tr>\n",
       "      <td>product_category_name_alimentos_bebidas</td>\n",
       "      <td>inf</td>\n",
       "    </tr>\n",
       "    <tr>\n",
       "      <td>product_category_name_artes</td>\n",
       "      <td>inf</td>\n",
       "    </tr>\n",
       "    <tr>\n",
       "      <td>...</td>\n",
       "      <td>...</td>\n",
       "    </tr>\n",
       "    <tr>\n",
       "      <td>product_photos_qty</td>\n",
       "      <td>1.174266</td>\n",
       "    </tr>\n",
       "    <tr>\n",
       "      <td>review_comment_title</td>\n",
       "      <td>1.148413</td>\n",
       "    </tr>\n",
       "    <tr>\n",
       "      <td>review_comment_message</td>\n",
       "      <td>1.140944</td>\n",
       "    </tr>\n",
       "    <tr>\n",
       "      <td>product_name_lenght</td>\n",
       "      <td>1.118501</td>\n",
       "    </tr>\n",
       "    <tr>\n",
       "      <td>delay</td>\n",
       "      <td>1.040642</td>\n",
       "    </tr>\n",
       "  </tbody>\n",
       "</table>\n",
       "<p>143 rows × 1 columns</p>\n",
       "</div>"
      ],
      "text/plain": [
       "                                              vif\n",
       "seller_state_SP                               inf\n",
       "product_category_name_eletroportateis         inf\n",
       "product_category_name_alimentos               inf\n",
       "product_category_name_alimentos_bebidas       inf\n",
       "product_category_name_artes                   inf\n",
       "...                                           ...\n",
       "product_photos_qty                       1.174266\n",
       "review_comment_title                     1.148413\n",
       "review_comment_message                   1.140944\n",
       "product_name_lenght                      1.118501\n",
       "delay                                    1.040642\n",
       "\n",
       "[143 rows x 1 columns]"
      ]
     },
     "execution_count": 74,
     "metadata": {},
     "output_type": "execute_result"
    }
   ],
   "source": [
    "VIF_df = pd.DataFrame(VIF_series, columns=['vif'])\n",
    "VIF_df"
   ]
  },
  {
   "cell_type": "code",
   "execution_count": 75,
   "metadata": {},
   "outputs": [
    {
     "data": {
      "text/html": [
       "<div>\n",
       "<style scoped>\n",
       "    .dataframe tbody tr th:only-of-type {\n",
       "        vertical-align: middle;\n",
       "    }\n",
       "\n",
       "    .dataframe tbody tr th {\n",
       "        vertical-align: top;\n",
       "    }\n",
       "\n",
       "    .dataframe thead th {\n",
       "        text-align: right;\n",
       "    }\n",
       "</style>\n",
       "<table border=\"1\" class=\"dataframe\">\n",
       "  <thead>\n",
       "    <tr style=\"text-align: right;\">\n",
       "      <th></th>\n",
       "      <th>vif</th>\n",
       "    </tr>\n",
       "  </thead>\n",
       "  <tbody>\n",
       "    <tr>\n",
       "      <td>seller_state_SP</td>\n",
       "      <td>inf</td>\n",
       "    </tr>\n",
       "    <tr>\n",
       "      <td>product_category_name_eletroportateis</td>\n",
       "      <td>inf</td>\n",
       "    </tr>\n",
       "    <tr>\n",
       "      <td>product_category_name_alimentos</td>\n",
       "      <td>inf</td>\n",
       "    </tr>\n",
       "    <tr>\n",
       "      <td>product_category_name_alimentos_bebidas</td>\n",
       "      <td>inf</td>\n",
       "    </tr>\n",
       "    <tr>\n",
       "      <td>product_category_name_artes</td>\n",
       "      <td>inf</td>\n",
       "    </tr>\n",
       "    <tr>\n",
       "      <td>...</td>\n",
       "      <td>...</td>\n",
       "    </tr>\n",
       "    <tr>\n",
       "      <td>product_photos_qty</td>\n",
       "      <td>1.174266</td>\n",
       "    </tr>\n",
       "    <tr>\n",
       "      <td>review_comment_title</td>\n",
       "      <td>1.148413</td>\n",
       "    </tr>\n",
       "    <tr>\n",
       "      <td>review_comment_message</td>\n",
       "      <td>1.140944</td>\n",
       "    </tr>\n",
       "    <tr>\n",
       "      <td>product_name_lenght</td>\n",
       "      <td>1.118501</td>\n",
       "    </tr>\n",
       "    <tr>\n",
       "      <td>delay</td>\n",
       "      <td>1.040642</td>\n",
       "    </tr>\n",
       "  </tbody>\n",
       "</table>\n",
       "<p>143 rows × 1 columns</p>\n",
       "</div>"
      ],
      "text/plain": [
       "                                              vif\n",
       "seller_state_SP                               inf\n",
       "product_category_name_eletroportateis         inf\n",
       "product_category_name_alimentos               inf\n",
       "product_category_name_alimentos_bebidas       inf\n",
       "product_category_name_artes                   inf\n",
       "...                                           ...\n",
       "product_photos_qty                       1.174266\n",
       "review_comment_title                     1.148413\n",
       "review_comment_message                   1.140944\n",
       "product_name_lenght                      1.118501\n",
       "delay                                    1.040642\n",
       "\n",
       "[143 rows x 1 columns]"
      ]
     },
     "execution_count": 75,
     "metadata": {},
     "output_type": "execute_result"
    }
   ],
   "source": [
    "# write/read computationally expensive data to/from csv\n",
    "#VIF_df.to_csv('VIF_df.csv', index=True);\n",
    "VIF_df = pd.read_csv('VIF_df.csv', index_col=0)\n",
    "VIF_df"
   ]
  },
  {
   "cell_type": "code",
   "execution_count": null,
   "metadata": {},
   "outputs": [],
   "source": [
    "# remove infinity VIF one by one \n",
    "while (VIF_series.values==float('inf')).any:\n",
    "    VIF_series = pd.Series([variance_inflation_factor(X.values, i) for i in range(X.shape[1])], index=X.columns)\n",
    "    VIF_series.sort_values(ascending=False, inplace=True)\n",
    "\n",
    "VIF_df = pd.DataFrame(VIF_series, columns=['vif'])\n",
    "VIF_df"
   ]
  },
  {
   "cell_type": "code",
   "execution_count": null,
   "metadata": {
    "scrolled": false
   },
   "outputs": [],
   "source": [
    "# finite variance inflation factors\n",
    "VIF_df[VIF_df.vif!=float('inf')]"
   ]
  },
  {
   "cell_type": "code",
   "execution_count": null,
   "metadata": {
    "scrolled": false
   },
   "outputs": [],
   "source": [
    "# seperate target from features\n",
    "X = df[VIF_df[VIF_df.vif!=float('inf')].index]\n",
    "y = df[df.columns[-1]]\n",
    "\n",
    "# scale data with standard scaler\n",
    "from sklearn.preprocessing import StandardScaler\n",
    "scaler = StandardScaler()\n",
    "X = pd.DataFrame(data=scaler.fit_transform(X), columns=X.columns)\n",
    "\n",
    "# fit logit function \n",
    "import statsmodels.api as sm\n",
    "X_withconstant = sm.add_constant(X)\n",
    "logit = sm.Logit(y, X_withconstant).fit()\n",
    "display(logit.summary()) \n",
    "\n",
    "# table of significant coefficinets sorted by absolute value\n",
    "coef_table = logit.summary().tables[1]\n",
    "coef_df = pd.DataFrame(data=coef_table.data[1:], columns=coef_table.data[0])\n",
    "coef_df['coef'] = coef_df['coef'].astype(float)\n",
    "coef_df['P>|z|'] = coef_df['P>|z|'].astype(float)\n",
    "coef_df['abs_coef'] = np.abs(coef_df['coef'])\n",
    "coef_df.drop(0, axis='index', inplace=True)\n",
    "coefs_by_mag = coef_df.sort_values(by='abs_coef', ascending=False)\n",
    "coefs_by_mag = coefs_by_mag[coefs_by_mag['P>|z|'] <= 0.05]\n",
    "\n",
    "# bar chart of feature coefficients\n",
    "bar_names = coefs_by_mag['']\n",
    "bar_heights = coefs_by_mag['coef']\n",
    "bar_colors = np.where(bar_heights>0, 'blue', 'red')\n",
    "plt.figure(figsize=(5.0, 4.0))\n",
    "plt.barh(bar_names, bar_heights, color=bar_colors)\n",
    "plt.xlabel('normalized coefficient')"
   ]
  },
  {
   "cell_type": "markdown",
   "metadata": {},
   "source": [
    "The number of descriptive factors has increase by one; however, the predictive performance of the model is slightly decreased."
   ]
  },
  {
   "cell_type": "code",
   "execution_count": null,
   "metadata": {
    "scrolled": false
   },
   "outputs": [],
   "source": [
    "# seperate target from features\n",
    "X = df[VIF_df[VIF_df.vif!=float('inf')].index].drop('payment_value', axis='columns')\n",
    "y = df[df.columns[-1]]\n",
    "\n",
    "# scale data with standard scaler\n",
    "from sklearn.preprocessing import StandardScaler\n",
    "scaler = StandardScaler()\n",
    "X = pd.DataFrame(data=scaler.fit_transform(X), columns=X.columns)\n",
    "\n",
    "# fit logit function \n",
    "import statsmodels.api as sm\n",
    "X_withconstant = sm.add_constant(X)\n",
    "logit = sm.Logit(y, X_withconstant).fit()\n",
    "display(logit.summary().tables[0]) \n",
    "\n",
    "# table of significant coefficinets sorted by absolute value\n",
    "coef_table = logit.summary().tables[1]\n",
    "coef_df = pd.DataFrame(data=coef_table.data[1:], columns=coef_table.data[0])\n",
    "coef_df['coef'] = coef_df['coef'].astype(float)\n",
    "coef_df['P>|z|'] = coef_df['P>|z|'].astype(float)\n",
    "coef_df['abs_coef'] = np.abs(coef_df['coef'])\n",
    "coef_df.drop(0, axis='index', inplace=True)\n",
    "coefs_by_mag = coef_df.sort_values(by='abs_coef', ascending=False)\n",
    "coefs_by_mag = coefs_by_mag[coefs_by_mag['P>|z|'] <= 0.05]\n",
    "\n",
    "# bar chart of feature coefficients\n",
    "plt.barh(coefs_by_mag[''], coefs_by_mag['coef'], color=np.where(coefs_by_mag['coef']>0, 'blue', 'red'))\n",
    "plt.xlabel('normalized coefficient');"
   ]
  },
  {
   "cell_type": "markdown",
   "metadata": {},
   "source": [
    "Figure shows that overcharge and price become more important by removal of payment value due to removal of colinearity."
   ]
  },
  {
   "cell_type": "markdown",
   "metadata": {},
   "source": [
    "## L1 Regularization"
   ]
  },
  {
   "cell_type": "code",
   "execution_count": null,
   "metadata": {
    "scrolled": false
   },
   "outputs": [],
   "source": [
    "# seperate target from features\n",
    "X = df[df.columns[:-1]].drop('payment_value', axis='columns')\n",
    "y = df[df.columns[-1]]\n",
    "\n",
    "# scale data with standard scaler\n",
    "from sklearn.preprocessing import StandardScaler\n",
    "scaler = StandardScaler()\n",
    "X = pd.DataFrame(data=scaler.fit_transform(X), columns=X.columns)\n",
    "\n",
    "# fit regularized logit function \n",
    "import statsmodels.api as sm\n",
    "X_withconstant = sm.add_constant(X)\n",
    "logit = sm.Logit(y, X_withconstant).fit_regularized(method='l1')\n",
    "display(logit.summary().tables[0]) \n",
    "\n",
    "# table of significant coefficinets sorted by absolute value\n",
    "coef_table = logit.summary().tables[1]\n",
    "coef_df = pd.DataFrame(data=coef_table.data[1:], columns=coef_table.data[0])\n",
    "coef_df['coef'] = coef_df['coef'].astype(float)\n",
    "coef_df['P>|z|'] = coef_df['P>|z|'].astype(float)\n",
    "coef_df['abs_coef'] = np.abs(coef_df['coef'])\n",
    "coef_df.drop(0, axis='index', inplace=True)\n",
    "coefs_by_mag = coef_df.sort_values(by='abs_coef', ascending=False)\n",
    "coefs_by_mag = coefs_by_mag[coefs_by_mag['P>|z|'] <= 0.05]\n",
    "\n",
    "# bar chart of feature coefficients\n",
    "plt.barh(coefs_by_mag[''], coefs_by_mag['coef'], color=np.where(coefs_by_mag['coef']>0, 'blue', 'red'))\n",
    "plt.xlabel('normalized coefficient')"
   ]
  },
  {
   "cell_type": "markdown",
   "metadata": {},
   "source": [
    "This approach can preserve the predictive performance of the baseline model and the descriptive factors are in general inline with VIF-based results; however, the number of descriptive factors is decreased back to the baseline model."
   ]
  },
  {
   "cell_type": "markdown",
   "metadata": {},
   "source": [
    "The features identified by l1 regularization are in general similar to ones identified by VIF; however, there are slight differences in the features involved and their order. The VIF-based model has 10 statistically significant features while l1-based model has 9. Product description length and weight exist in VIF-based model while they do not appear in l1-based model. Product height appears in l1 model while it is not statistically significant in VIF-basd model. Eventhough, the order of a few features has changed, it should be noted that the values for these features are very close to their neighbors. For this problem it is better to use VIF results becuase VIF is more tailored for descriptive problems while l1 regularization is more for predictive problems."
   ]
  },
  {
   "cell_type": "markdown",
   "metadata": {},
   "source": [
    "# Natural Language Processing "
   ]
  },
  {
   "cell_type": "markdown",
   "metadata": {},
   "source": [
    "## Text Cleaning "
   ]
  },
  {
   "cell_type": "code",
   "execution_count": 4,
   "metadata": {
    "scrolled": false
   },
   "outputs": [
    {
     "name": "stdout",
     "output_type": "stream",
     "text": [
      "<class 'pandas.core.frame.DataFrame'>\n",
      "Int64Index: 9986 entries, 9 to 99975\n",
      "Data columns (total 7 columns):\n",
      " #   Column                   Non-Null Count  Dtype \n",
      "---  ------                   --------------  ----- \n",
      " 0   review_id                9986 non-null   object\n",
      " 1   order_id                 9986 non-null   object\n",
      " 2   review_score             9986 non-null   int64 \n",
      " 3   review_comment_title     9986 non-null   object\n",
      " 4   review_comment_message   9986 non-null   object\n",
      " 5   review_creation_date     9986 non-null   object\n",
      " 6   review_answer_timestamp  9986 non-null   object\n",
      "dtypes: int64(1), object(6)\n",
      "memory usage: 624.1+ KB\n"
     ]
    }
   ],
   "source": [
    "# read data and show its high-level information\n",
    "order_reviews_df = pd.read_csv('olist_order_reviews_dataset.csv')\n",
    "order_reviews_df.dropna(how = 'any', inplace = True)\n",
    "order_reviews_df.info()"
   ]
  },
  {
   "cell_type": "markdown",
   "metadata": {},
   "source": [
    "The count of each word in comment messages is obtained using the count vectorizer as:"
   ]
  },
  {
   "cell_type": "code",
   "execution_count": 5,
   "metadata": {
    "scrolled": true
   },
   "outputs": [
    {
     "data": {
      "text/html": [
       "<div>\n",
       "<style scoped>\n",
       "    .dataframe tbody tr th:only-of-type {\n",
       "        vertical-align: middle;\n",
       "    }\n",
       "\n",
       "    .dataframe tbody tr th {\n",
       "        vertical-align: top;\n",
       "    }\n",
       "\n",
       "    .dataframe thead th {\n",
       "        text-align: right;\n",
       "    }\n",
       "</style>\n",
       "<table border=\"1\" class=\"dataframe\">\n",
       "  <thead>\n",
       "    <tr style=\"text-align: right;\">\n",
       "      <th></th>\n",
       "      <th>word</th>\n",
       "      <th>frequency</th>\n",
       "    </tr>\n",
       "  </thead>\n",
       "  <tbody>\n",
       "    <tr>\n",
       "      <th>0</th>\n",
       "      <td>produto</td>\n",
       "      <td>4573</td>\n",
       "    </tr>\n",
       "    <tr>\n",
       "      <th>1</th>\n",
       "      <td>não</td>\n",
       "      <td>2401</td>\n",
       "    </tr>\n",
       "    <tr>\n",
       "      <th>2</th>\n",
       "      <td>muito</td>\n",
       "      <td>2079</td>\n",
       "    </tr>\n",
       "    <tr>\n",
       "      <th>3</th>\n",
       "      <td>prazo</td>\n",
       "      <td>2064</td>\n",
       "    </tr>\n",
       "    <tr>\n",
       "      <th>4</th>\n",
       "      <td>que</td>\n",
       "      <td>2007</td>\n",
       "    </tr>\n",
       "  </tbody>\n",
       "</table>\n",
       "</div>"
      ],
      "text/plain": [
       "      word  frequency\n",
       "0  produto       4573\n",
       "1      não       2401\n",
       "2    muito       2079\n",
       "3    prazo       2064\n",
       "4      que       2007"
      ]
     },
     "execution_count": 5,
     "metadata": {},
     "output_type": "execute_result"
    }
   ],
   "source": [
    "from sklearn.feature_extraction.text import CountVectorizer\n",
    "cv = CountVectorizer(stop_words = 'english')\n",
    "words = cv.fit_transform(order_reviews_df['review_comment_message']) #learn a vocabulary\n",
    "words_sum = words.sum(axis=0)\n",
    "\n",
    "\n",
    "words_freq = [(word, words_sum[0, index]) for word, index in cv.vocabulary_.items()]\n",
    "words_freq = sorted(words_freq, key = lambda x: x[1], reverse = True)\n",
    "words_frequency = pd.DataFrame(words_freq, columns=['word', 'frequency'])\n",
    "words_frequency.head()"
   ]
  },
  {
   "cell_type": "code",
   "execution_count": 6,
   "metadata": {
    "scrolled": false
   },
   "outputs": [
    {
     "data": {
      "text/plain": [
       "<matplotlib.axes._subplots.AxesSubplot at 0x2378d8d7508>"
      ]
     },
     "execution_count": 6,
     "metadata": {},
     "output_type": "execute_result"
    },
    {
     "data": {
      "image/png": "[encoded data removed]",
      "text/plain": [
       "<Figure size 432x288 with 1 Axes>"
      ]
     },
     "metadata": {
      "needs_background": "light"
     },
     "output_type": "display_data"
    }
   ],
   "source": [
    "words_frequency[:10].plot(kind='bar')"
   ]
  },
  {
   "cell_type": "code",
   "execution_count": 6,
   "metadata": {
    "scrolled": true
   },
   "outputs": [
    {
     "name": "stderr",
     "output_type": "stream",
     "text": [
      "[nltk_data] Downloading package stopwords to\n",
      "[nltk_data]     C:\\Users\\arali\\AppData\\Roaming\\nltk_data...\n",
      "[nltk_data]   Package stopwords is already up-to-date!\n"
     ]
    },
    {
     "name": "stdout",
     "output_type": "stream",
     "text": [
      "Requirement already satisfied: en_core_web_md==2.2.5 from https://github.com/explosion/spacy-models/releases/download/en_core_web_md-2.2.5/en_core_web_md-2.2.5.tar.gz#egg=en_core_web_md==2.2.5 in c:\\users\\arali\\anaconda3\\envs\\deeplearning\\lib\\site-packages (2.2.5)\n",
      "Requirement already satisfied: spacy>=2.2.2 in c:\\users\\arali\\anaconda3\\envs\\deeplearning\\lib\\site-packages (from en_core_web_md==2.2.5) (2.2.2)\n",
      "Requirement already satisfied: thinc<7.4.0,>=7.3.0 in c:\\users\\arali\\anaconda3\\envs\\deeplearning\\lib\\site-packages (from spacy>=2.2.2->en_core_web_md==2.2.5) (7.3.0)\n",
      "Requirement already satisfied: preshed<3.1.0,>=3.0.2 in c:\\users\\arali\\anaconda3\\envs\\deeplearning\\lib\\site-packages (from spacy>=2.2.2->en_core_web_md==2.2.5) (3.0.2)\n",
      "Requirement already satisfied: plac<1.2.0,>=0.9.6 in c:\\users\\arali\\anaconda3\\envs\\deeplearning\\lib\\site-packages (from spacy>=2.2.2->en_core_web_md==2.2.5) (0.9.6)\n",
      "Requirement already satisfied: setuptools in c:\\users\\arali\\anaconda3\\envs\\deeplearning\\lib\\site-packages (from spacy>=2.2.2->en_core_web_md==2.2.5) (45.2.0.post20200210)\n",
      "Requirement already satisfied: blis<0.5.0,>=0.4.0 in c:\\users\\arali\\anaconda3\\envs\\deeplearning\\lib\\site-packages (from spacy>=2.2.2->en_core_web_md==2.2.5) (0.4.1)\n",
      "Requirement already satisfied: requests<3.0.0,>=2.13.0 in c:\\users\\arali\\anaconda3\\envs\\deeplearning\\lib\\site-packages (from spacy>=2.2.2->en_core_web_md==2.2.5) (2.22.0)\n",
      "Requirement already satisfied: cymem<2.1.0,>=2.0.2 in c:\\users\\arali\\anaconda3\\envs\\deeplearning\\lib\\site-packages (from spacy>=2.2.2->en_core_web_md==2.2.5) (2.0.3)\n",
      "Requirement already satisfied: importlib-metadata>=0.20; python_version < \"3.8\" in c:\\users\\arali\\anaconda3\\envs\\deeplearning\\lib\\site-packages (from spacy>=2.2.2->en_core_web_md==2.2.5) (1.5.0)\n",
      "Requirement already satisfied: wasabi<1.1.0,>=0.3.0 in c:\\users\\arali\\anaconda3\\envs\\deeplearning\\lib\\site-packages (from spacy>=2.2.2->en_core_web_md==2.2.5) (0.6.0)\n",
      "Requirement already satisfied: srsly<1.1.0,>=0.1.0 in c:\\users\\arali\\anaconda3\\envs\\deeplearning\\lib\\site-packages (from spacy>=2.2.2->en_core_web_md==2.2.5) (1.0.0)\n",
      "Requirement already satisfied: numpy>=1.15.0 in c:\\users\\arali\\anaconda3\\envs\\deeplearning\\lib\\site-packages (from spacy>=2.2.2->en_core_web_md==2.2.5) (1.16.4)\n",
      "Requirement already satisfied: murmurhash<1.1.0,>=0.28.0 in c:\\users\\arali\\anaconda3\\envs\\deeplearning\\lib\\site-packages (from spacy>=2.2.2->en_core_web_md==2.2.5) (1.0.0)\n",
      "Requirement already satisfied: tqdm<5.0.0,>=4.10.0 in c:\\users\\arali\\anaconda3\\envs\\deeplearning\\lib\\site-packages (from thinc<7.4.0,>=7.3.0->spacy>=2.2.2->en_core_web_md==2.2.5) (4.46.0)\n",
      "Requirement already satisfied: idna<2.9,>=2.5 in c:\\users\\arali\\anaconda3\\envs\\deeplearning\\lib\\site-packages (from requests<3.0.0,>=2.13.0->spacy>=2.2.2->en_core_web_md==2.2.5) (2.8)\n",
      "Requirement already satisfied: urllib3!=1.25.0,!=1.25.1,<1.26,>=1.21.1 in c:\\users\\arali\\anaconda3\\envs\\deeplearning\\lib\\site-packages (from requests<3.0.0,>=2.13.0->spacy>=2.2.2->en_core_web_md==2.2.5) (1.25.8)\n",
      "Requirement already satisfied: certifi>=2017.4.17 in c:\\users\\arali\\anaconda3\\envs\\deeplearning\\lib\\site-packages (from requests<3.0.0,>=2.13.0->spacy>=2.2.2->en_core_web_md==2.2.5) (2020.4.5.1)\n",
      "Requirement already satisfied: chardet<3.1.0,>=3.0.2 in c:\\users\\arali\\anaconda3\\envs\\deeplearning\\lib\\site-packages (from requests<3.0.0,>=2.13.0->spacy>=2.2.2->en_core_web_md==2.2.5) (3.0.4)\n",
      "Requirement already satisfied: zipp>=0.5 in c:\\users\\arali\\anaconda3\\envs\\deeplearning\\lib\\site-packages (from importlib-metadata>=0.20; python_version < \"3.8\"->spacy>=2.2.2->en_core_web_md==2.2.5) (2.2.0)\n",
      "[+] Download and installation successful\n",
      "You can now load the model via spacy.load('en_core_web_md')\n"
     ]
    }
   ],
   "source": [
    "import spacy\n",
    "import string\n",
    "import re\n",
    "import nltk\n",
    "nltk.download('stopwords')\n",
    "from nltk.corpus import stopwords\n",
    "\n",
    "!python -m spacy download en_core_web_md\n",
    "\n",
    "stopwords = stopwords.words('english')\n",
    "punctuations = string.punctuation\n",
    "import en_core_web_sm\n",
    "nlp = en_core_web_sm.load()\n"
   ]
  },
  {
   "cell_type": "markdown",
   "metadata": {},
   "source": [
    "A function is defined to clean the text for training through steps that are commented in the code below: "
   ]
  },
  {
   "cell_type": "code",
   "execution_count": 7,
   "metadata": {},
   "outputs": [],
   "source": [
    "def cleanup_text(docs, logging=False):\n",
    "    texts = []\n",
    "    counter = 1\n",
    "    \n",
    "    # remove punctuation marks   \n",
    "    table = str.maketrans({key: None for key in string.punctuation})\n",
    "\n",
    "    for doc in docs:\n",
    "        if counter % 1000 == 0 and logging:\n",
    "            print(\"Processed %d out of %d documents.\" % (counter, len(docs)))\n",
    "        counter += 1\n",
    "        doc = nlp(doc, disable=['parser', 'ner'])\n",
    "        \n",
    "        # convert to lowercase, strip whitespace, and remove personal pronouns\n",
    "        tokens = [tok.lemma_.lower().strip() for tok in doc if tok.lemma_ != '-PRON-']\n",
    "        \n",
    "        # remove stopwords\n",
    "        tokens = [tok.translate(table) for tok in tokens if tok not in stopwords ]\n",
    "        tokens = ' '.join(tokens)\n",
    "        \n",
    "        # remove whitespace\n",
    "        tokens = ' '.join(tokens.split())\n",
    "        texts.append(tokens)\n",
    "    return pd.Series(texts)"
   ]
  },
  {
   "cell_type": "code",
   "execution_count": 8,
   "metadata": {
    "scrolled": true
   },
   "outputs": [
    {
     "name": "stdout",
     "output_type": "stream",
     "text": [
      "Processed 1000 out of 9986 documents.\n",
      "Processed 2000 out of 9986 documents.\n",
      "Processed 3000 out of 9986 documents.\n",
      "Processed 4000 out of 9986 documents.\n",
      "Processed 5000 out of 9986 documents.\n",
      "Processed 6000 out of 9986 documents.\n",
      "Processed 7000 out of 9986 documents.\n",
      "Processed 8000 out of 9986 documents.\n",
      "Processed 9000 out of 9986 documents.\n"
     ]
    }
   ],
   "source": [
    "comment_series = cleanup_text(order_reviews_df[\"review_comment_message\"], logging=True)"
   ]
  },
  {
   "cell_type": "code",
   "execution_count": 9,
   "metadata": {},
   "outputs": [],
   "source": [
    "y = order_reviews_df['review_score'].values"
   ]
  },
  {
   "cell_type": "code",
   "execution_count": 10,
   "metadata": {},
   "outputs": [],
   "source": [
    "from sklearn.feature_extraction.text import CountVectorizer\n",
    "counter_vectorizer_model = CountVectorizer(max_features=4000, min_df=5, max_df=0.7)\n",
    "X_cv = counter_vectorizer_model.fit_transform(comment_series).toarray()"
   ]
  },
  {
   "cell_type": "code",
   "execution_count": 11,
   "metadata": {},
   "outputs": [
    {
     "data": {
      "text/html": [
       "<div>\n",
       "<style scoped>\n",
       "    .dataframe tbody tr th:only-of-type {\n",
       "        vertical-align: middle;\n",
       "    }\n",
       "\n",
       "    .dataframe tbody tr th {\n",
       "        vertical-align: top;\n",
       "    }\n",
       "\n",
       "    .dataframe thead th {\n",
       "        text-align: right;\n",
       "    }\n",
       "</style>\n",
       "<table border=\"1\" class=\"dataframe\">\n",
       "  <thead>\n",
       "    <tr style=\"text-align: right;\">\n",
       "      <th></th>\n",
       "      <th>word</th>\n",
       "      <th>count</th>\n",
       "    </tr>\n",
       "  </thead>\n",
       "  <tbody>\n",
       "    <tr>\n",
       "      <th>1158</th>\n",
       "      <td>produto</td>\n",
       "      <td>4567</td>\n",
       "    </tr>\n",
       "    <tr>\n",
       "      <th>411</th>\n",
       "      <td>de</td>\n",
       "      <td>2773</td>\n",
       "    </tr>\n",
       "    <tr>\n",
       "      <th>967</th>\n",
       "      <td>não</td>\n",
       "      <td>2397</td>\n",
       "    </tr>\n",
       "    <tr>\n",
       "      <th>922</th>\n",
       "      <td>muito</td>\n",
       "      <td>2073</td>\n",
       "    </tr>\n",
       "    <tr>\n",
       "      <th>1125</th>\n",
       "      <td>prazo</td>\n",
       "      <td>2062</td>\n",
       "    </tr>\n",
       "    <tr>\n",
       "      <th>1194</th>\n",
       "      <td>que</td>\n",
       "      <td>2007</td>\n",
       "    </tr>\n",
       "    <tr>\n",
       "      <th>535</th>\n",
       "      <td>entrega</td>\n",
       "      <td>1568</td>\n",
       "    </tr>\n",
       "    <tr>\n",
       "      <th>297</th>\n",
       "      <td>com</td>\n",
       "      <td>1493</td>\n",
       "    </tr>\n",
       "    <tr>\n",
       "      <th>99</th>\n",
       "      <td>ante</td>\n",
       "      <td>1404</td>\n",
       "    </tr>\n",
       "    <tr>\n",
       "      <th>270</th>\n",
       "      <td>chegou</td>\n",
       "      <td>1352</td>\n",
       "    </tr>\n",
       "  </tbody>\n",
       "</table>\n",
       "</div>"
      ],
      "text/plain": [
       "         word  count\n",
       "1158  produto   4567\n",
       "411        de   2773\n",
       "967       não   2397\n",
       "922     muito   2073\n",
       "1125    prazo   2062\n",
       "1194      que   2007\n",
       "535   entrega   1568\n",
       "297       com   1493\n",
       "99       ante   1404\n",
       "270    chegou   1352"
      ]
     },
     "execution_count": 11,
     "metadata": {},
     "output_type": "execute_result"
    }
   ],
   "source": [
    "word_counts = np.array(np.sum(X_cv, axis=0)).reshape((-1,))\n",
    "words = np.array(counter_vectorizer_model.get_feature_names())\n",
    "words_df = pd.DataFrame({\"word\":words, \n",
    "                         \"count\":word_counts})\n",
    "words_df.sort_values(by=\"count\", ascending=False).head(10)"
   ]
  },
  {
   "cell_type": "markdown",
   "metadata": {},
   "source": [
    "## Logistic Regression"
   ]
  },
  {
   "cell_type": "code",
   "execution_count": 33,
   "metadata": {
    "scrolled": false
   },
   "outputs": [
    {
     "data": {
      "text/html": [
       "<table class=\"simpletable\">\n",
       "<caption>OLS Regression Results</caption>\n",
       "<tr>\n",
       "  <th>Dep. Variable:</th>            <td>y</td>        <th>  R-squared:         </th> <td>   0.702</td> \n",
       "</tr>\n",
       "<tr>\n",
       "  <th>Model:</th>                   <td>OLS</td>       <th>  Adj. R-squared:    </th> <td>   0.647</td> \n",
       "</tr>\n",
       "<tr>\n",
       "  <th>Method:</th>             <td>Least Squares</td>  <th>  F-statistic:       </th> <td>   12.78</td> \n",
       "</tr>\n",
       "<tr>\n",
       "  <th>Date:</th>             <td>Sun, 10 May 2020</td> <th>  Prob (F-statistic):</th>  <td>  0.00</td>  \n",
       "</tr>\n",
       "<tr>\n",
       "  <th>Time:</th>                 <td>22:41:53</td>     <th>  Log-Likelihood:    </th> <td> -12634.</td> \n",
       "</tr>\n",
       "<tr>\n",
       "  <th>No. Observations:</th>      <td>  9986</td>      <th>  AIC:               </th> <td>2.837e+04</td>\n",
       "</tr>\n",
       "<tr>\n",
       "  <th>Df Residuals:</th>          <td>  8434</td>      <th>  BIC:               </th> <td>3.956e+04</td>\n",
       "</tr>\n",
       "<tr>\n",
       "  <th>Df Model:</th>              <td>  1551</td>      <th>                     </th>     <td> </td>    \n",
       "</tr>\n",
       "<tr>\n",
       "  <th>Covariance Type:</th>      <td>nonrobust</td>    <th>                     </th>     <td> </td>    \n",
       "</tr>\n",
       "</table>"
      ],
      "text/plain": [
       "<class 'statsmodels.iolib.table.SimpleTable'>"
      ]
     },
     "metadata": {},
     "output_type": "display_data"
    },
    {
     "data": {
      "image/png": "[encoded data removed]",
      "text/plain": [
       "<Figure size 432x288 with 1 Axes>"
      ]
     },
     "metadata": {
      "needs_background": "light"
     },
     "output_type": "display_data"
    }
   ],
   "source": [
    "# scale data with standard scaler\n",
    "from sklearn.preprocessing import StandardScaler\n",
    "scaler = StandardScaler()\n",
    "X = pd.DataFrame(data=scaler.fit_transform(X_cv), columns=counter_vectorizer_model.get_feature_names())\n",
    "\n",
    "# fit OLS function \n",
    "import statsmodels.api as sm\n",
    "X_withconstant = sm.add_constant(X)\n",
    "lr = sm.OLS(y, X_withconstant).fit()\n",
    "display(lr.summary().tables[0])\n",
    "\n",
    "# table of significant coefficinets sorted by absolute value\n",
    "coef_table = lr.summary().tables[1]\n",
    "coef_df = pd.DataFrame(data=coef_table.data[1:], columns=coef_table.data[0])\n",
    "coef_df['coef'] = coef_df['coef'].astype(float)\n",
    "coef_df['P>|t|'] = coef_df['P>|t|'].astype(float)\n",
    "coef_df['abs_coef'] = np.abs(coef_df['coef'])\n",
    "coef_df.drop(0, axis='index', inplace=True)\n",
    "coefs_by_mag = coef_df.sort_values(by='abs_coef', ascending=False)\n",
    "coefs_by_mag = coefs_by_mag[coefs_by_mag['P>|t|'] <= 0.05]\n",
    "\n",
    "# bar chart of feature coefficients\n",
    "plt.barh(coefs_by_mag[''][:10], coefs_by_mag['coef'][:10], color=np.where(coefs_by_mag['coef']>0, 'blue', 'red'))\n",
    "plt.xlabel('normalized coefficient');"
   ]
  },
  {
   "cell_type": "markdown",
   "metadata": {},
   "source": [
    "The negative sentiments are associated with negative words such as not (nao) but more importantly related to delivery (recebi) and product (produto). Positive sentiments are associated with positive comments such as excelente (excellent) and bom (good), but more importantly related to speed possible of delivery (rapida) and service (prazo)."
   ]
  },
  {
   "cell_type": "code",
   "execution_count": 22,
   "metadata": {},
   "outputs": [
    {
     "name": "stdout",
     "output_type": "stream",
     "text": [
      "(7988, 1552)\n",
      "(7988,)\n",
      "(1998, 1552)\n",
      "(1998,)\n"
     ]
    }
   ],
   "source": [
    "#training and testing\n",
    "from sklearn.model_selection import train_test_split\n",
    "X_train_cv, X_test_cv, y_train_cv, y_test_cv = train_test_split(X_cv, y, test_size = 0.2, random_state = 0)\n",
    "\n",
    "print(X_train_cv.shape)\n",
    "print(y_train_cv.shape)\n",
    "print(X_test_cv.shape)\n",
    "print(y_test_cv.shape)"
   ]
  },
  {
   "cell_type": "markdown",
   "metadata": {},
   "source": [
    "## Random Forest Model"
   ]
  },
  {
   "cell_type": "markdown",
   "metadata": {},
   "source": [
    "A random forest model is used to predict the review scores based on the review comments:"
   ]
  },
  {
   "cell_type": "code",
   "execution_count": 158,
   "metadata": {},
   "outputs": [
    {
     "name": "stdout",
     "output_type": "stream",
     "text": [
      "Training Accuracy using Counter Vectorizer : 0.9496745117676515\n",
      "Testing Accuracy using Counter Vectorizer: 0.6526526526526526\n",
      "[[294  10   7  10  37]\n",
      " [ 65   5   2   3  16]\n",
      " [ 68   5  12  14  47]\n",
      " [ 42   2  14  36 217]\n",
      " [ 52   1  10  72 957]]\n"
     ]
    }
   ],
   "source": [
    "random_forest_model = RandomForestClassifier()\n",
    "random_forest_model.fit(X_train_cv, y_train_cv)\n",
    "\n",
    "y_pred_cv = random_forest_model.predict(X_test_cv)\n",
    "\n",
    "print(\"Training Accuracy using Counter Vectorizer :\", random_forest_model.score(X_train_cv, y_train_cv))\n",
    "print(\"Testing Accuracy using Counter Vectorizer:\", random_forest_model.score(X_test_cv, y_test_cv))\n",
    "\n",
    "conf_matrix = confusion_matrix(y_test_cv, y_pred_cv)\n",
    "print(conf_matrix)"
   ]
  },
  {
   "cell_type": "markdown",
   "metadata": {},
   "source": [
    "We set the max_features parameter to 4000, which means that we want to use 4000 most occurring words (half of the whole datapoints) as features for training our classifier.  Because the words that have a very low frequency of occurrence are not a good parameter for classifying documents. min_df is corresponding to the minumum number of documents that should contain this feature and max_df means that we should include only those words that occur in a maximum of 70% of all the documents.  "
   ]
  },
  {
   "cell_type": "markdown",
   "metadata": {},
   "source": [
    "TF-IDF method is employed to count term frequency while giving more weight to special terms that appear that does not appear in many documents."
   ]
  },
  {
   "cell_type": "code",
   "execution_count": 159,
   "metadata": {},
   "outputs": [],
   "source": [
    "from sklearn.feature_extraction.text import TfidfTransformer\n",
    "tfidfconverter = TfidfTransformer()\n",
    "X_tfidf = tfidfconverter.fit_transform(X_cv).toarray()"
   ]
  },
  {
   "cell_type": "code",
   "execution_count": 160,
   "metadata": {},
   "outputs": [
    {
     "name": "stdout",
     "output_type": "stream",
     "text": [
      "(7988, 1555)\n",
      "(7988,)\n",
      "(1998, 1555)\n",
      "(1998,)\n"
     ]
    }
   ],
   "source": [
    "#training and testing\n",
    "X_train_tfidf, X_test_tfidf, y_train_tfidf, y_test_tfidf = train_test_split(X_tfidf, y, test_size = 0.2, random_state = 0)\n",
    "\n",
    "print(X_train_tfidf.shape)\n",
    "print(y_train_tfidf.shape)\n",
    "print(X_test_tfidf.shape)\n",
    "print(y_test_tfidf.shape)"
   ]
  },
  {
   "cell_type": "code",
   "execution_count": 161,
   "metadata": {},
   "outputs": [
    {
     "name": "stdout",
     "output_type": "stream",
     "text": [
      "Training Accuracy using TFIDF : 0.9508012018027041\n",
      "Testing Accuracy using TFIDF: 0.6756756756756757\n",
      "[[ 304    5   14    3   32]\n",
      " [  58    6    4    3   20]\n",
      " [  72    1   10   11   52]\n",
      " [  46    2   11   23  229]\n",
      " [  42    1    7   35 1007]]\n"
     ]
    }
   ],
   "source": [
    "random_forest_model = RandomForestClassifier()\n",
    "random_forest_model.fit(X_train_tfidf, y_train_tfidf)\n",
    "\n",
    "y_pred_tfidf = random_forest_model.predict(X_test_tfidf)\n",
    "\n",
    "print(\"Training Accuracy using TFIDF :\", random_forest_model.score(X_train_tfidf, y_train_tfidf))\n",
    "print(\"Testing Accuracy using TFIDF:\", random_forest_model.score(X_test_tfidf, y_test_tfidf))\n",
    "\n",
    "conf_matrix = confusion_matrix(y_test_tfidf, y_pred_tfidf)\n",
    "print(conf_matrix)\n"
   ]
  },
  {
   "cell_type": "markdown",
   "metadata": {},
   "source": [
    "To enhance the accuracy, the problem is modefied from a 5-class to a binary classification problem by combining reviews with score less than 3 to class 0 and others to class 1."
   ]
  },
  {
   "cell_type": "code",
   "execution_count": 162,
   "metadata": {},
   "outputs": [],
   "source": [
    "order_reviews_df['rating_binary'] = np.where(order_reviews_df['review_score'] >= 3, 1, 0)"
   ]
  },
  {
   "cell_type": "code",
   "execution_count": 163,
   "metadata": {},
   "outputs": [],
   "source": [
    "y_binary = order_reviews_df['rating_binary']"
   ]
  },
  {
   "cell_type": "code",
   "execution_count": 164,
   "metadata": {},
   "outputs": [
    {
     "name": "stdout",
     "output_type": "stream",
     "text": [
      "(7988, 1555)\n",
      "(7988,)\n",
      "(1998, 1555)\n",
      "(1998,)\n"
     ]
    }
   ],
   "source": [
    "#training and testing\n",
    "X_train_cv, X_test_cv, y_train_cv, y_test_cv = train_test_split(X_cv, y_binary, test_size = 0.2, random_state = 0)\n",
    "\n",
    "print(X_train_cv.shape)\n",
    "print(y_train_cv.shape)\n",
    "print(X_test_cv.shape)\n",
    "print(y_test_cv.shape)"
   ]
  },
  {
   "cell_type": "code",
   "execution_count": 165,
   "metadata": {},
   "outputs": [
    {
     "name": "stdout",
     "output_type": "stream",
     "text": [
      "Training Accuracy using Counter Vectorizer : 0.991862794191287\n",
      "Testing Accuracy using Counter Vectorizer: 0.8888888888888888\n"
     ]
    }
   ],
   "source": [
    "random_forest_model = RandomForestClassifier()\n",
    "random_forest_model.fit(X_train_cv, y_train_cv)\n",
    "\n",
    "y_pred_cv = random_forest_model.predict(X_test_cv)\n",
    "\n",
    "print(\"Training Accuracy using Counter Vectorizer :\", random_forest_model.score(X_train_cv, y_train_cv))\n",
    "print(\"Testing Accuracy using Counter Vectorizer:\", random_forest_model.score(X_test_cv, y_test_cv))"
   ]
  },
  {
   "cell_type": "markdown",
   "metadata": {},
   "source": [
    "The accuracis are improved significantly by this redefinition of the problem. The model is able use review comments to predict wether the user sentiment is good or bad with test accuracy of 89%!"
   ]
  },
  {
   "cell_type": "code",
   "execution_count": 166,
   "metadata": {},
   "outputs": [
    {
     "name": "stdout",
     "output_type": "stream",
     "text": [
      "[[ 357   92]\n",
      " [ 130 1419]]\n"
     ]
    }
   ],
   "source": [
    "conf_matrix = confusion_matrix(y_test_cv, y_pred_cv)\n",
    "print(conf_matrix)"
   ]
  },
  {
   "cell_type": "code",
   "execution_count": 167,
   "metadata": {},
   "outputs": [
    {
     "data": {
      "image/png": "[encoded data removed]",
      "text/plain": [
       "<Figure size 720x720 with 2 Axes>"
      ]
     },
     "metadata": {
      "needs_background": "light"
     },
     "output_type": "display_data"
    }
   ],
   "source": [
    "plt.figure(figsize = (10, 10));\n",
    "ax = sns.heatmap(conf_matrix, annot = True, fmt = '.2f', linewidths = 1, square = True, cmap = 'RdPu');\n",
    "plt.xlabel('Predicted Value');\n",
    "plt.ylabel('Actual Value');\n",
    "plt.title(f\"Accuracy score on testing data: {random_forest_model.score(X_test_cv, y_test_cv) : 0.3}\", size = 15)\n",
    "bottom, top = ax.get_ylim();\n",
    "ax.set_ylim(bottom + 0.5, top - 0.5);"
   ]
  },
  {
   "cell_type": "code",
   "execution_count": 21,
   "metadata": {},
   "outputs": [
    {
     "ename": "NameError",
     "evalue": "name 'X_tfidf' is not defined",
     "output_type": "error",
     "traceback": [
      "\u001b[1;31m---------------------------------------------------------------------------\u001b[0m",
      "\u001b[1;31mNameError\u001b[0m                                 Traceback (most recent call last)",
      "\u001b[1;32m<ipython-input-21-0c3dafe680fb>\u001b[0m in \u001b[0;36m<module>\u001b[1;34m\u001b[0m\n\u001b[0;32m      1\u001b[0m \u001b[1;31m#training and testing\u001b[0m\u001b[1;33m\u001b[0m\u001b[1;33m\u001b[0m\u001b[1;33m\u001b[0m\u001b[0m\n\u001b[1;32m----> 2\u001b[1;33m \u001b[0mX_train_tfidf\u001b[0m\u001b[1;33m,\u001b[0m \u001b[0mX_test_tfidf\u001b[0m\u001b[1;33m,\u001b[0m \u001b[0my_train_tfidf\u001b[0m\u001b[1;33m,\u001b[0m \u001b[0my_test_tfidf\u001b[0m \u001b[1;33m=\u001b[0m \u001b[0mtrain_test_split\u001b[0m\u001b[1;33m(\u001b[0m\u001b[0mX_tfidf\u001b[0m\u001b[1;33m,\u001b[0m \u001b[0my_binary\u001b[0m\u001b[1;33m,\u001b[0m \u001b[0mtest_size\u001b[0m \u001b[1;33m=\u001b[0m \u001b[1;36m0.2\u001b[0m\u001b[1;33m,\u001b[0m \u001b[0mrandom_state\u001b[0m \u001b[1;33m=\u001b[0m \u001b[1;36m0\u001b[0m\u001b[1;33m)\u001b[0m\u001b[1;33m\u001b[0m\u001b[1;33m\u001b[0m\u001b[0m\n\u001b[0m\u001b[0;32m      3\u001b[0m \u001b[1;33m\u001b[0m\u001b[0m\n\u001b[0;32m      4\u001b[0m \u001b[0mprint\u001b[0m\u001b[1;33m(\u001b[0m\u001b[0mX_train_tfidf\u001b[0m\u001b[1;33m.\u001b[0m\u001b[0mshape\u001b[0m\u001b[1;33m)\u001b[0m\u001b[1;33m\u001b[0m\u001b[1;33m\u001b[0m\u001b[0m\n\u001b[0;32m      5\u001b[0m \u001b[0mprint\u001b[0m\u001b[1;33m(\u001b[0m\u001b[0my_train_tfidf\u001b[0m\u001b[1;33m.\u001b[0m\u001b[0mshape\u001b[0m\u001b[1;33m)\u001b[0m\u001b[1;33m\u001b[0m\u001b[1;33m\u001b[0m\u001b[0m\n",
      "\u001b[1;31mNameError\u001b[0m: name 'X_tfidf' is not defined"
     ]
    }
   ],
   "source": [
    "#training and testing\n",
    "X_train_tfidf, X_test_tfidf, y_train_tfidf, y_test_tfidf = train_test_split(X_tfidf, y_binary, test_size = 0.2, random_state = 0)\n",
    "\n",
    "print(X_train_tfidf.shape)\n",
    "print(y_train_tfidf.shape)\n",
    "print(X_test_tfidf.shape)\n",
    "print(y_test_tfidf.shape)"
   ]
  },
  {
   "cell_type": "code",
   "execution_count": 169,
   "metadata": {},
   "outputs": [
    {
     "name": "stdout",
     "output_type": "stream",
     "text": [
      "Training Accuracy using TFIDF : 0.9902353530295444\n",
      "Testing Accuracy using TFIDF : 0.8853853853853854\n"
     ]
    }
   ],
   "source": [
    "random_forest_model = RandomForestClassifier()\n",
    "random_forest_model.fit(X_train_tfidf, y_train_tfidf)\n",
    "\n",
    "y_pred_tfidf = random_forest_model.predict(X_test_tfidf)\n",
    "\n",
    "print(\"Training Accuracy using TFIDF :\", random_forest_model.score(X_train_tfidf, y_train_tfidf))\n",
    "print(\"Testing Accuracy using TFIDF :\", random_forest_model.score(X_test_tfidf, y_test_tfidf))"
   ]
  },
  {
   "cell_type": "code",
   "execution_count": 170,
   "metadata": {},
   "outputs": [
    {
     "name": "stdout",
     "output_type": "stream",
     "text": [
      "[[ 346  103]\n",
      " [ 126 1423]]\n"
     ]
    }
   ],
   "source": [
    "conf_matrix = confusion_matrix(y_test_tfidf, y_pred_tfidf)\n",
    "print(conf_matrix)"
   ]
  },
  {
   "cell_type": "code",
   "execution_count": 171,
   "metadata": {},
   "outputs": [
    {
     "data": {
      "image/png": "[encoded data removed]",
      "text/plain": [
       "<Figure size 720x720 with 2 Axes>"
      ]
     },
     "metadata": {
      "needs_background": "light"
     },
     "output_type": "display_data"
    }
   ],
   "source": [
    "plt.figure(figsize = (10, 10));\n",
    "ax = sns.heatmap(conf_matrix, annot = True, fmt = '.2f', linewidths = 1, square = True, cmap = 'RdPu');\n",
    "plt.xlabel('Predicted Value');\n",
    "plt.ylabel('Actual Value');\n",
    "plt.title(f\"Accuracy score on testing data: {random_forest_model.score(X_test_tfidf, y_test_tfidf) : 0.3}\", size = 15)\n",
    "bottom, top = ax.get_ylim();\n",
    "ax.set_ylim(bottom + 0.5, top - 0.5);"
   ]
  },
  {
   "cell_type": "markdown",
   "metadata": {},
   "source": [
    "## Multilayer Perceptron"
   ]
  },
  {
   "cell_type": "markdown",
   "metadata": {},
   "source": [
    "Deep learning is employed to enhance the prediction accuracy. The simplest model is used as the first step to evaluate achievable improvements through deep learning. This model consists of a simple multi-layer perceptron with one hidden layer as:"
   ]
  },
  {
   "cell_type": "code",
   "execution_count": 23,
   "metadata": {},
   "outputs": [
    {
     "name": "stdout",
     "output_type": "stream",
     "text": [
      "0.7484977466199298\n",
      "0.6776776776776777\n"
     ]
    }
   ],
   "source": [
    "from sklearn.neural_network import MLPClassifier\n",
    "mlpc = MLPClassifier(hidden_layer_sizes=(1))\n",
    "mlpc.fit(X_train_cv, y_train_cv)\n",
    "print(mlpc.score(X_train_cv, y_train_cv))\n",
    "print(mlpc.score(X_test_cv, y_test_cv))"
   ]
  },
  {
   "cell_type": "markdown",
   "metadata": {},
   "source": [
    "The accuracy of this model makes sense. The model performs better than baseline logistic regression, but its performance is not as good as the logistic regression with hyperparameter optimization. To evaluate improvements in accuracies with addition of hidden layers, a model with three layers is built as:"
   ]
  },
  {
   "cell_type": "code",
   "execution_count": 26,
   "metadata": {
    "scrolled": true
   },
   "outputs": [
    {
     "name": "stdout",
     "output_type": "stream",
     "text": [
      "0.9111166750125188\n",
      "0.6281281281281281\n"
     ]
    }
   ],
   "source": [
    "from sklearn.neural_network import MLPClassifier\n",
    "mlpc = MLPClassifier(hidden_layer_sizes=(5, 10, 5))\n",
    "mlpc.fit(X_train_cv, y_train_cv)\n",
    "print(mlpc.score(X_train_cv, y_train_cv))\n",
    "print(mlpc.score(X_test_cv, y_test_cv))"
   ]
  },
  {
   "cell_type": "markdown",
   "metadata": {},
   "source": [
    "To achieve an optimal model, the multi-layer perceptron is optimized in a three fold cross validated grid search with optimization parameters selected as:"
   ]
  },
  {
   "cell_type": "code",
   "execution_count": 101,
   "metadata": {
    "scrolled": false
   },
   "outputs": [
    {
     "name": "stdout",
     "output_type": "stream",
     "text": [
      "Fitting 3 folds for each of 4320 candidates, totalling 12960 fits\n"
     ]
    },
    {
     "name": "stderr",
     "output_type": "stream",
     "text": [
      "[Parallel(n_jobs=-1)]: Using backend LokyBackend with 4 concurrent workers.\n",
      "[Parallel(n_jobs=-1)]: Done  42 tasks      | elapsed:   10.2s\n",
      "[Parallel(n_jobs=-1)]: Done 192 tasks      | elapsed:   23.6s\n",
      "[Parallel(n_jobs=-1)]: Done 442 tasks      | elapsed:  1.9min\n",
      "[Parallel(n_jobs=-1)]: Done 792 tasks      | elapsed:  4.4min\n",
      "[Parallel(n_jobs=-1)]: Done 1242 tasks      | elapsed:  6.6min\n",
      "[Parallel(n_jobs=-1)]: Done 1792 tasks      | elapsed:  8.7min\n",
      "[Parallel(n_jobs=-1)]: Done 2442 tasks      | elapsed: 12.9min\n",
      "[Parallel(n_jobs=-1)]: Done 3192 tasks      | elapsed: 16.3min\n",
      "[Parallel(n_jobs=-1)]: Done 4042 tasks      | elapsed: 22.4min\n",
      "[Parallel(n_jobs=-1)]: Done 4992 tasks      | elapsed: 28.4min\n",
      "[Parallel(n_jobs=-1)]: Done 6042 tasks      | elapsed: 34.2min\n",
      "[Parallel(n_jobs=-1)]: Done 7213 tasks      | elapsed: 38.6min\n",
      "[Parallel(n_jobs=-1)]: Done 8463 tasks      | elapsed: 43.4min\n",
      "[Parallel(n_jobs=-1)]: Done 9813 tasks      | elapsed: 49.8min\n",
      "[Parallel(n_jobs=-1)]: Done 11263 tasks      | elapsed: 58.1min\n",
      "[Parallel(n_jobs=-1)]: Done 12813 tasks      | elapsed: 65.8min\n",
      "[Parallel(n_jobs=-1)]: Done 12960 out of 12960 | elapsed: 66.5min finished\n"
     ]
    }
   ],
   "source": [
    "from sklearn.model_selection import GridSearchCV\n",
    "\n",
    "params = {'hidden_layer_sizes': [(5, 10, 5),\n",
    "                                 (50, 100, 50),\n",
    "                                 (5, 10, 10, 10, 5),\n",
    "                                 (50, 100, 100, 100, 50), \n",
    "                                 (5, 10, 10, 10, 10, 10, 5),\n",
    "                                 (10, 25, 25, 25, 25, 25, 10)],\n",
    "          'solver': ['lbfgs', 'sgd', 'adam'],\n",
    "          'activation': ['tanh', 'relu'],\n",
    "          'alpha': [0.0001, 0.01, 1, 100, 1000],\n",
    "          'learning_rate_init': [0.00001, 0.001, 0.1, 10],\n",
    "          'learning_rate': ['adaptive', 'invscaling'],\n",
    "          'momentum': [0.3, 0.6, 0.9]\n",
    "         }\n",
    "\n",
    "gsmlpc = GridSearchCV(MLPClassifier(), params, cv=3, n_jobs=-1, verbose=1)\n",
    "gsmlpc_results = gridsearch.fit(X, y)"
   ]
  },
  {
   "cell_type": "markdown",
   "metadata": {},
   "source": [
    "The best score achieved by grid search is significantly higher than the initial models used for evaluation. Furthermore, the best parameters found through grid search show that the best performance is achieved at an intermediat level for most of the hyperparameters which is consistent with basic hyperparameter optimization concept."
   ]
  },
  {
   "cell_type": "code",
   "execution_count": 104,
   "metadata": {},
   "outputs": [
    {
     "data": {
      "text/plain": [
       "0.6086261980830671"
      ]
     },
     "execution_count": 104,
     "metadata": {},
     "output_type": "execute_result"
    }
   ],
   "source": [
    "gsmlpc_results.best_score_"
   ]
  },
  {
   "cell_type": "code",
   "execution_count": 105,
   "metadata": {
    "scrolled": true
   },
   "outputs": [
    {
     "data": {
      "text/plain": [
       "{'activation': 'tanh',\n",
       " 'alpha': 0.0001,\n",
       " 'hidden_layer_sizes': (5, 10, 10, 10, 5),\n",
       " 'learning_rate': 'invscaling',\n",
       " 'learning_rate_init': 0.001,\n",
       " 'momentum': 0.9,\n",
       " 'solver': 'lbfgs'}"
      ]
     },
     "execution_count": 105,
     "metadata": {},
     "output_type": "execute_result"
    }
   ],
   "source": [
    "gsmlpc_results.best_params_"
   ]
  },
  {
   "cell_type": "markdown",
   "metadata": {},
   "source": [
    "A model is built based on the best parameters to evaluate the perfromance on the train and test sets that were chosen to represent the real world scenario"
   ]
  },
  {
   "cell_type": "code",
   "execution_count": 107,
   "metadata": {},
   "outputs": [
    {
     "name": "stdout",
     "output_type": "stream",
     "text": [
      "0.6268656716417911\n",
      "0.5859872611464968\n"
     ]
    }
   ],
   "source": [
    "omlpc = MLPClassifier(hidden_layer_sizes=gsmlpc_results.best_params_['hidden_layer_sizes'],\n",
    "                      activation=gsmlpc_results.best_params_['activation'], \n",
    "                      alpha=gsmlpc_results.best_params_['alpha'],\n",
    "                      learning_rate=gsmlpc_results.best_params_['learning_rate'],\n",
    "                      learning_rate_init=gsmlpc_results.best_params_['learning_rate_init'],\n",
    "                      momentum=gsmlpc_results.best_params_['momentum'],\n",
    "                      solver=gsmlpc_results.best_params_['solver'])\n",
    "omlpc.fit(X_train, y_train)\n",
    "print(omlpc.score(X_train, y_train))\n",
    "print(omlpc.score(X_test, y_test))"
   ]
  },
  {
   "cell_type": "markdown",
   "metadata": {},
   "source": [
    "The train accuracy is larger than the best score while the test accuracy is less verifying that the values are correct. Furthermore, the accuracies are slightly better than the baseline linear model which confirms performance improvement through deep learning."
   ]
  },
  {
   "cell_type": "markdown",
   "metadata": {},
   "source": [
    "The accuracies for both train and test sets have improved with about two percent. "
   ]
  },
  {
   "cell_type": "markdown",
   "metadata": {},
   "source": [
    "## Feed-Forward Neural Network"
   ]
  },
  {
   "cell_type": "code",
   "execution_count": 13,
   "metadata": {},
   "outputs": [],
   "source": [
    "# recurrent neural network\n",
    "from tensorflow.keras.layers import Dense, Dropout, BatchNormalization\n",
    "from tensorflow.keras.optimizers import SGD\n",
    "from tensorflow.keras.utils import plot_model\n",
    "from tensorflow.keras.models import model_from_json\n",
    "from tensorflow.keras.models import Sequential"
   ]
  },
  {
   "cell_type": "code",
   "execution_count": 48,
   "metadata": {},
   "outputs": [],
   "source": [
    "RNN_model = Sequential()\n",
    "\n",
    "RNN_model.add(Dense(1024, activation='relu', input_shape=(X_cv.shape[1:])))\n",
    "RNN_model.add(Dropout(0.2))\n",
    "RNN_model.add(BatchNormalization())\n",
    "\n",
    "RNN_model.add(Dense(612, activation='relu'))\n",
    "RNN_model.add(Dropout(0.2))\n",
    "RNN_model.add(BatchNormalization())\n",
    "\n",
    "RNN_model.add(Dense(32, activation='relu'))\n",
    "RNN_model.add(Dropout(0.1))\n",
    "\n",
    "RNN_model.add(Dense(6, activation='softmax'))\n",
    "\n",
    "\n",
    "# Compile model\n",
    "RNN_model.compile(loss='sparse_categorical_crossentropy',\n",
    "                  optimizer='Adam',\n",
    "                  metrics=['accuracy'])\n",
    "\n",
    "# Save an image of its architecture to file\n",
    "plot_model(RNN_model, to_file='RNN_model.png', show_shapes=True, show_layer_names=True)"
   ]
  },
  {
   "cell_type": "code",
   "execution_count": 49,
   "metadata": {
    "scrolled": false
   },
   "outputs": [
    {
     "name": "stdout",
     "output_type": "stream",
     "text": [
      "Train on 9986 samples, validate on 9986 samples\n",
      "Epoch 1/40\n",
      "9986/9986 [==============================] - 9s 950us/step - loss: 1.2849 - acc: 0.5780 - val_loss: 1.4858 - val_acc: 0.6885\n",
      "Epoch 2/40\n",
      "9986/9986 [==============================] - 8s 782us/step - loss: 0.7946 - acc: 0.7135 - val_loss: 1.2608 - val_acc: 0.6817\n",
      "Epoch 3/40\n",
      "9986/9986 [==============================] - 7s 727us/step - loss: 0.6124 - acc: 0.7785 - val_loss: 1.0948 - val_acc: 0.6477\n",
      "Epoch 4/40\n",
      "9986/9986 [==============================] - 8s 782us/step - loss: 0.4836 - acc: 0.8280 - val_loss: 1.0324 - val_acc: 0.6077\n",
      "Epoch 5/40\n",
      "9986/9986 [==============================] - 7s 715us/step - loss: 0.3924 - acc: 0.8595 - val_loss: 1.0350 - val_acc: 0.5910\n",
      "Epoch 6/40\n",
      "9986/9986 [==============================] - 8s 753us/step - loss: 0.3285 - acc: 0.8849 - val_loss: 1.1126 - val_acc: 0.5854\n",
      "Epoch 7/40\n",
      "9986/9986 [==============================] - 7s 736us/step - loss: 0.2877 - acc: 0.8989 - val_loss: 1.2009 - val_acc: 0.5732\n",
      "Epoch 8/40\n",
      "9986/9986 [==============================] - 8s 818us/step - loss: 0.2495 - acc: 0.9094 - val_loss: 1.2035 - val_acc: 0.5868\n",
      "Epoch 9/40\n",
      "9986/9986 [==============================] - 7s 748us/step - loss: 0.2240 - acc: 0.9214 - val_loss: 1.2902 - val_acc: 0.5932\n",
      "Epoch 10/40\n",
      "9986/9986 [==============================] - 7s 750us/step - loss: 0.2123 - acc: 0.9218 - val_loss: 1.2466 - val_acc: 0.5969\n",
      "Epoch 11/40\n",
      "9986/9986 [==============================] - 8s 756us/step - loss: 0.1912 - acc: 0.9302 - val_loss: 1.2239 - val_acc: 0.6147\n",
      "Epoch 12/40\n",
      "9986/9986 [==============================] - 7s 730us/step - loss: 0.1837 - acc: 0.9352 - val_loss: 1.1769 - val_acc: 0.6334\n",
      "Epoch 13/40\n",
      "9986/9986 [==============================] - 8s 801us/step - loss: 0.1781 - acc: 0.9341 - val_loss: 1.0382 - val_acc: 0.6547\n",
      "Epoch 14/40\n",
      "9986/9986 [==============================] - 7s 739us/step - loss: 0.1688 - acc: 0.9402 - val_loss: 0.9509 - val_acc: 0.6858\n",
      "Epoch 15/40\n",
      "9986/9986 [==============================] - 8s 778us/step - loss: 0.1647 - acc: 0.9401 - val_loss: 0.8194 - val_acc: 0.7084\n",
      "Epoch 16/40\n",
      "9986/9986 [==============================] - 7s 737us/step - loss: 0.1651 - acc: 0.9415 - val_loss: 0.7110 - val_acc: 0.7425\n",
      "Epoch 17/40\n",
      "9986/9986 [==============================] - 8s 771us/step - loss: 0.1615 - acc: 0.9400 - val_loss: 0.6863 - val_acc: 0.7589\n",
      "Epoch 18/40\n",
      "9986/9986 [==============================] - 7s 744us/step - loss: 0.1532 - acc: 0.9432 - val_loss: 0.5079 - val_acc: 0.7973\n",
      "Epoch 19/40\n",
      "9986/9986 [==============================] - 8s 770us/step - loss: 0.1523 - acc: 0.9421 - val_loss: 0.4699 - val_acc: 0.8092\n",
      "Epoch 20/40\n",
      "9986/9986 [==============================] - 7s 740us/step - loss: 0.1516 - acc: 0.9444 - val_loss: 0.3941 - val_acc: 0.8299\n",
      "Epoch 21/40\n",
      "9986/9986 [==============================] - 8s 772us/step - loss: 0.1408 - acc: 0.9476 - val_loss: 0.3697 - val_acc: 0.8474\n",
      "Epoch 22/40\n",
      "9986/9986 [==============================] - 7s 735us/step - loss: 0.1481 - acc: 0.9464 - val_loss: 0.3117 - val_acc: 0.8716\n",
      "Epoch 23/40\n",
      "9986/9986 [==============================] - 8s 769us/step - loss: 0.1404 - acc: 0.9469 - val_loss: 0.2552 - val_acc: 0.8898\n",
      "Epoch 24/40\n",
      "9986/9986 [==============================] - 8s 786us/step - loss: 0.1387 - acc: 0.9484 - val_loss: 0.2013 - val_acc: 0.9120\n",
      "Epoch 25/40\n",
      "9986/9986 [==============================] - 8s 761us/step - loss: 0.1367 - acc: 0.9496 - val_loss: 0.1667 - val_acc: 0.9327\n",
      "Epoch 26/40\n",
      "9986/9986 [==============================] - 7s 738us/step - loss: 0.1345 - acc: 0.9507 - val_loss: 0.1518 - val_acc: 0.9400\n",
      "Epoch 27/40\n",
      "9986/9986 [==============================] - 8s 752us/step - loss: 0.1326 - acc: 0.9494 - val_loss: 0.1356 - val_acc: 0.9461\n",
      "Epoch 28/40\n",
      "9986/9986 [==============================] - 8s 759us/step - loss: 0.1343 - acc: 0.9488 - val_loss: 0.1451 - val_acc: 0.9419\n",
      "Epoch 29/40\n",
      "9986/9986 [==============================] - 8s 764us/step - loss: 0.1286 - acc: 0.9508 - val_loss: 0.1237 - val_acc: 0.9524\n",
      "Epoch 30/40\n",
      "9986/9986 [==============================] - 8s 785us/step - loss: 0.1325 - acc: 0.9492 - val_loss: 0.1234 - val_acc: 0.9504\n",
      "Epoch 31/40\n",
      "9986/9986 [==============================] - 8s 752us/step - loss: 0.1341 - acc: 0.9496 - val_loss: 0.1165 - val_acc: 0.9531\n",
      "Epoch 32/40\n",
      "9986/9986 [==============================] - 8s 787us/step - loss: 0.1351 - acc: 0.9483 - val_loss: 0.1094 - val_acc: 0.9575\n",
      "Epoch 33/40\n",
      "9986/9986 [==============================] - 7s 740us/step - loss: 0.1331 - acc: 0.9504 - val_loss: 0.1109 - val_acc: 0.9571\n",
      "Epoch 34/40\n",
      "9986/9986 [==============================] - 8s 785us/step - loss: 0.1284 - acc: 0.9513 - val_loss: 0.1066 - val_acc: 0.9571\n",
      "Epoch 35/40\n",
      "9986/9986 [==============================] - 8s 754us/step - loss: 0.1285 - acc: 0.9502 - val_loss: 0.1092 - val_acc: 0.9566\n",
      "Epoch 36/40\n",
      "9986/9986 [==============================] - 8s 818us/step - loss: 0.1300 - acc: 0.9493 - val_loss: 0.1039 - val_acc: 0.9589\n",
      "Epoch 37/40\n",
      "9986/9986 [==============================] - 7s 737us/step - loss: 0.1240 - acc: 0.9526 - val_loss: 0.1014 - val_acc: 0.9593\n",
      "Epoch 38/40\n",
      "9986/9986 [==============================] - 8s 776us/step - loss: 0.1221 - acc: 0.9528 - val_loss: 0.1018 - val_acc: 0.9584\n",
      "Epoch 39/40\n",
      "9986/9986 [==============================] - 8s 761us/step - loss: 0.1262 - acc: 0.9498 - val_loss: 0.1025 - val_acc: 0.9590\n",
      "Epoch 40/40\n",
      "9986/9986 [==============================] - 8s 817us/step - loss: 0.1217 - acc: 0.9525 - val_loss: 0.1004 - val_acc: 0.9587\n"
     ]
    },
    {
     "data": {
      "text/plain": [
       "<tensorflow.python.keras.callbacks.History at 0x1af59202be0>"
      ]
     },
     "execution_count": 49,
     "metadata": {},
     "output_type": "execute_result"
    }
   ],
   "source": [
    "RNN_model.fit(X_cv, y, batch_size=480, epochs=40, verbose=1, validation_data = (X_cv, y))"
   ]
  },
  {
   "cell_type": "code",
   "execution_count": 51,
   "metadata": {},
   "outputs": [
    {
     "name": "stdout",
     "output_type": "stream",
     "text": [
      "9986/9986 [==============================] - 2s 184us/step\n",
      "Accuracy score: 95.87%\n"
     ]
    }
   ],
   "source": [
    "loss_score, accuracy_score = RNN_model.evaluate(X_cv, y, batch_size=480, verbose=1)\n",
    "print(\"Accuracy score: \"+str(round(accuracy_score*100,2))+\"%\")"
   ]
  },
  {
   "cell_type": "markdown",
   "metadata": {},
   "source": [
    "The recurrent neural network achieves incredible accuracy of 96% highlighting the effectiveness of deep learning in the world of data."
   ]
  },
  {
   "cell_type": "markdown",
   "metadata": {},
   "source": [
    "## Recurrent Neural Network"
   ]
  },
  {
   "cell_type": "markdown",
   "metadata": {},
   "source": [
    "The data in this problem is review comments which is text data. Text data is a common type of ordered dependent data. This order may be utilized to enhance prediction accuracies. More specifically, it is possible for each neoron in neural network learn not only from each word but also from the words prior to it as they carry information in text data like review comments while they have no further info to add in generic dataset where data points are independent (e.g., outcome of coin flips)."
   ]
  },
  {
   "cell_type": "code",
   "execution_count": 167,
   "metadata": {
    "colab": {
     "base_uri": "https://localhost:8080/",
     "height": 204
    },
    "colab_type": "code",
    "executionInfo": {
     "elapsed": 1487,
     "status": "ok",
     "timestamp": 1589355828148,
     "user": {
      "displayName": "Alireza Alizadegan",
      "photoUrl": "https://lh3.googleusercontent.com/a-/AOh14Gh8fWhCGtIKGZFs_No9wCdeJEckXH9nCuNF62DyMA=s64",
      "userId": "13297984721075910182"
     },
     "user_tz": 420
    },
    "id": "wGQySVXxJRHz",
    "outputId": "9a69e143-1061-480b-d161-077183cbb40b",
    "scrolled": true
   },
   "outputs": [
    {
     "data": {
      "text/html": [
       "<div>\n",
       "<style scoped>\n",
       "    .dataframe tbody tr th:only-of-type {\n",
       "        vertical-align: middle;\n",
       "    }\n",
       "\n",
       "    .dataframe tbody tr th {\n",
       "        vertical-align: top;\n",
       "    }\n",
       "\n",
       "    .dataframe thead th {\n",
       "        text-align: right;\n",
       "    }\n",
       "</style>\n",
       "<table border=\"1\" class=\"dataframe\">\n",
       "  <thead>\n",
       "    <tr style=\"text-align: right;\">\n",
       "      <th></th>\n",
       "      <th>word</th>\n",
       "      <th>frequency</th>\n",
       "    </tr>\n",
       "  </thead>\n",
       "  <tbody>\n",
       "    <tr>\n",
       "      <th>0</th>\n",
       "      <td>produto</td>\n",
       "      <td>4573</td>\n",
       "    </tr>\n",
       "    <tr>\n",
       "      <th>1</th>\n",
       "      <td>não</td>\n",
       "      <td>2401</td>\n",
       "    </tr>\n",
       "    <tr>\n",
       "      <th>2</th>\n",
       "      <td>muito</td>\n",
       "      <td>2079</td>\n",
       "    </tr>\n",
       "    <tr>\n",
       "      <th>3</th>\n",
       "      <td>prazo</td>\n",
       "      <td>2064</td>\n",
       "    </tr>\n",
       "    <tr>\n",
       "      <th>4</th>\n",
       "      <td>que</td>\n",
       "      <td>2007</td>\n",
       "    </tr>\n",
       "  </tbody>\n",
       "</table>\n",
       "</div>"
      ],
      "text/plain": [
       "      word  frequency\n",
       "0  produto       4573\n",
       "1      não       2401\n",
       "2    muito       2079\n",
       "3    prazo       2064\n",
       "4      que       2007"
      ]
     },
     "execution_count": 167,
     "metadata": {
      "tags": []
     },
     "output_type": "execute_result"
    }
   ],
   "source": [
    "from sklearn.feature_extraction.text import CountVectorizer\n",
    "cv = CountVectorizer(stop_words = 'english')\n",
    "words = cv.fit_transform(order_reviews_df['review_comment_message']) #learn a vocabulary\n",
    "words_sum = words.sum(axis=0)\n",
    "\n",
    "\n",
    "words_freq = [(word, words_sum[0, index]) for word, index in cv.vocabulary_.items()]\n",
    "words_freq = sorted(words_freq, key = lambda x: x[1], reverse = True)\n",
    "words_frequency = pd.DataFrame(words_freq, columns=['word', 'frequency'])\n",
    "words_frequency.head()"
   ]
  },
  {
   "cell_type": "code",
   "execution_count": 168,
   "metadata": {
    "colab": {
     "base_uri": "https://localhost:8080/",
     "height": 462
    },
    "colab_type": "code",
    "executionInfo": {
     "elapsed": 5702,
     "status": "ok",
     "timestamp": 1589355832369,
     "user": {
      "displayName": "Alireza Alizadegan",
      "photoUrl": "https://lh3.googleusercontent.com/a-/AOh14Gh8fWhCGtIKGZFs_No9wCdeJEckXH9nCuNF62DyMA=s64",
      "userId": "13297984721075910182"
     },
     "user_tz": 420
    },
    "id": "TAABpNU5JRH6",
    "outputId": "404ef8d0-4c5e-4346-f79a-73f88f195106",
    "scrolled": true
   },
   "outputs": [
    {
     "name": "stdout",
     "output_type": "stream",
     "text": [
      "[nltk_data] Downloading package stopwords to /root/nltk_data...\n",
      "[nltk_data]   Package stopwords is already up-to-date!\n",
      "Requirement already satisfied: en_core_web_md==2.2.5 from https://github.com/explosion/spacy-models/releases/download/en_core_web_md-2.2.5/en_core_web_md-2.2.5.tar.gz#egg=en_core_web_md==2.2.5 in /usr/local/lib/python3.6/dist-packages (2.2.5)\n",
      "Requirement already satisfied: spacy>=2.2.2 in /usr/local/lib/python3.6/dist-packages (from en_core_web_md==2.2.5) (2.2.4)\n",
      "Requirement already satisfied: plac<1.2.0,>=0.9.6 in /usr/local/lib/python3.6/dist-packages (from spacy>=2.2.2->en_core_web_md==2.2.5) (1.1.3)\n",
      "Requirement already satisfied: murmurhash<1.1.0,>=0.28.0 in /usr/local/lib/python3.6/dist-packages (from spacy>=2.2.2->en_core_web_md==2.2.5) (1.0.2)\n",
      "Requirement already satisfied: requests<3.0.0,>=2.13.0 in /usr/local/lib/python3.6/dist-packages (from spacy>=2.2.2->en_core_web_md==2.2.5) (2.23.0)\n",
      "Requirement already satisfied: preshed<3.1.0,>=3.0.2 in /usr/local/lib/python3.6/dist-packages (from spacy>=2.2.2->en_core_web_md==2.2.5) (3.0.2)\n",
      "Requirement already satisfied: cymem<2.1.0,>=2.0.2 in /usr/local/lib/python3.6/dist-packages (from spacy>=2.2.2->en_core_web_md==2.2.5) (2.0.3)\n",
      "Requirement already satisfied: blis<0.5.0,>=0.4.0 in /usr/local/lib/python3.6/dist-packages (from spacy>=2.2.2->en_core_web_md==2.2.5) (0.4.1)\n",
      "Requirement already satisfied: tqdm<5.0.0,>=4.38.0 in /usr/local/lib/python3.6/dist-packages (from spacy>=2.2.2->en_core_web_md==2.2.5) (4.41.1)\n",
      "Requirement already satisfied: setuptools in /usr/local/lib/python3.6/dist-packages (from spacy>=2.2.2->en_core_web_md==2.2.5) (46.1.3)\n",
      "Requirement already satisfied: srsly<1.1.0,>=1.0.2 in /usr/local/lib/python3.6/dist-packages (from spacy>=2.2.2->en_core_web_md==2.2.5) (1.0.2)\n",
      "Requirement already satisfied: numpy>=1.15.0 in /usr/local/lib/python3.6/dist-packages (from spacy>=2.2.2->en_core_web_md==2.2.5) (1.18.4)\n",
      "Requirement already satisfied: wasabi<1.1.0,>=0.4.0 in /usr/local/lib/python3.6/dist-packages (from spacy>=2.2.2->en_core_web_md==2.2.5) (0.6.0)\n",
      "Requirement already satisfied: catalogue<1.1.0,>=0.0.7 in /usr/local/lib/python3.6/dist-packages (from spacy>=2.2.2->en_core_web_md==2.2.5) (1.0.0)\n",
      "Requirement already satisfied: thinc==7.4.0 in /usr/local/lib/python3.6/dist-packages (from spacy>=2.2.2->en_core_web_md==2.2.5) (7.4.0)\n",
      "Requirement already satisfied: chardet<4,>=3.0.2 in /usr/local/lib/python3.6/dist-packages (from requests<3.0.0,>=2.13.0->spacy>=2.2.2->en_core_web_md==2.2.5) (3.0.4)\n",
      "Requirement already satisfied: idna<3,>=2.5 in /usr/local/lib/python3.6/dist-packages (from requests<3.0.0,>=2.13.0->spacy>=2.2.2->en_core_web_md==2.2.5) (2.9)\n",
      "Requirement already satisfied: certifi>=2017.4.17 in /usr/local/lib/python3.6/dist-packages (from requests<3.0.0,>=2.13.0->spacy>=2.2.2->en_core_web_md==2.2.5) (2020.4.5.1)\n",
      "Requirement already satisfied: urllib3!=1.25.0,!=1.25.1,<1.26,>=1.21.1 in /usr/local/lib/python3.6/dist-packages (from requests<3.0.0,>=2.13.0->spacy>=2.2.2->en_core_web_md==2.2.5) (1.24.3)\n",
      "Requirement already satisfied: importlib-metadata>=0.20; python_version < \"3.8\" in /usr/local/lib/python3.6/dist-packages (from catalogue<1.1.0,>=0.0.7->spacy>=2.2.2->en_core_web_md==2.2.5) (1.6.0)\n",
      "Requirement already satisfied: zipp>=0.5 in /usr/local/lib/python3.6/dist-packages (from importlib-metadata>=0.20; python_version < \"3.8\"->catalogue<1.1.0,>=0.0.7->spacy>=2.2.2->en_core_web_md==2.2.5) (3.1.0)\n",
      "\u001b[38;5;2m✔ Download and installation successful\u001b[0m\n",
      "You can now load the model via spacy.load('en_core_web_md')\n"
     ]
    }
   ],
   "source": [
    "import spacy\n",
    "import string\n",
    "import re\n",
    "import nltk\n",
    "nltk.download('stopwords')\n",
    "from nltk.corpus import stopwords\n",
    "\n",
    "!python -m spacy download en_core_web_md\n",
    "\n",
    "stopwords = stopwords.words('english')\n",
    "punctuations = string.punctuation\n",
    "import en_core_web_sm\n",
    "nlp = en_core_web_sm.load()\n"
   ]
  },
  {
   "cell_type": "markdown",
   "metadata": {
    "colab_type": "text",
    "id": "dCdUAcq6JRIA"
   },
   "source": [
    "A function is defined to clean the text for training through steps that are commented in the code below: "
   ]
  },
  {
   "cell_type": "code",
   "execution_count": 0,
   "metadata": {
    "colab": {},
    "colab_type": "code",
    "id": "PbFlGGlLJRIB"
   },
   "outputs": [],
   "source": [
    "def cleanup_text(docs, logging=False):\n",
    "    texts = []\n",
    "    counter = 1\n",
    "    \n",
    "    # remove punctuation marks   \n",
    "    table = str.maketrans({key: None for key in string.punctuation})\n",
    "\n",
    "    for doc in docs:\n",
    "        if counter % 1000 == 0 and logging:\n",
    "            print(\"Processed %d out of %d documents.\" % (counter, len(docs)))\n",
    "        counter += 1\n",
    "        doc = nlp(doc, disable=['parser', 'ner'])\n",
    "        \n",
    "        # convert to lowercase, strip whitespace, and remove personal pronouns\n",
    "        tokens = [tok.lemma_.lower().strip() for tok in doc if tok.lemma_ != '-PRON-']\n",
    "        \n",
    "        # remove stopwords\n",
    "        tokens = [tok.translate(table) for tok in tokens if tok not in stopwords ]\n",
    "        tokens = ' '.join(tokens)\n",
    "        \n",
    "        # remove whitespace\n",
    "        tokens = ' '.join(tokens.split())\n",
    "        texts.append(tokens)\n",
    "    return pd.Series(texts)"
   ]
  },
  {
   "cell_type": "code",
   "execution_count": 170,
   "metadata": {
    "colab": {
     "base_uri": "https://localhost:8080/",
     "height": 170
    },
    "colab_type": "code",
    "executionInfo": {
     "elapsed": 29518,
     "status": "ok",
     "timestamp": 1589355856210,
     "user": {
      "displayName": "Alireza Alizadegan",
      "photoUrl": "https://lh3.googleusercontent.com/a-/AOh14Gh8fWhCGtIKGZFs_No9wCdeJEckXH9nCuNF62DyMA=s64",
      "userId": "13297984721075910182"
     },
     "user_tz": 420
    },
    "id": "axuak2IuJRIE",
    "outputId": "db37fc65-4793-4287-b7f3-1533ec1d1239",
    "scrolled": false
   },
   "outputs": [
    {
     "name": "stdout",
     "output_type": "stream",
     "text": [
      "Processed 1000 out of 9986 documents.\n",
      "Processed 2000 out of 9986 documents.\n",
      "Processed 3000 out of 9986 documents.\n",
      "Processed 4000 out of 9986 documents.\n",
      "Processed 5000 out of 9986 documents.\n",
      "Processed 6000 out of 9986 documents.\n",
      "Processed 7000 out of 9986 documents.\n",
      "Processed 8000 out of 9986 documents.\n",
      "Processed 9000 out of 9986 documents.\n"
     ]
    }
   ],
   "source": [
    "comment_series = cleanup_text(order_reviews_df[\"review_comment_message\"], logging=True)"
   ]
  },
  {
   "cell_type": "code",
   "execution_count": 171,
   "metadata": {
    "colab": {
     "base_uri": "https://localhost:8080/",
     "height": 68
    },
    "colab_type": "code",
    "executionInfo": {
     "elapsed": 29512,
     "status": "ok",
     "timestamp": 1589355856214,
     "user": {
      "displayName": "Alireza Alizadegan",
      "photoUrl": "https://lh3.googleusercontent.com/a-/AOh14Gh8fWhCGtIKGZFs_No9wCdeJEckXH9nCuNF62DyMA=s64",
      "userId": "13297984721075910182"
     },
     "user_tz": 420
    },
    "id": "F32aljGiiVeu",
    "outputId": "577aa5da-b2a3-4b77-ca67-e77f512ee4d8",
    "scrolled": true
   },
   "outputs": [
    {
     "data": {
      "text/plain": [
       "0    aparelho eficiente site marca aparelho esta im...\n",
       "1    vendedor confiável produto ok e entrega ante p...\n",
       "dtype: object"
      ]
     },
     "execution_count": 171,
     "metadata": {
      "tags": []
     },
     "output_type": "execute_result"
    }
   ],
   "source": [
    "comment_series[:2]"
   ]
  },
  {
   "cell_type": "code",
   "execution_count": 0,
   "metadata": {
    "colab": {},
    "colab_type": "code",
    "id": "mTPzLCW-JRIH"
   },
   "outputs": [],
   "source": [
    "y = order_reviews_df['review_score'].values"
   ]
  },
  {
   "cell_type": "code",
   "execution_count": 0,
   "metadata": {
    "colab": {},
    "colab_type": "code",
    "id": "YLBFamiBJRIK"
   },
   "outputs": [],
   "source": [
    "from sklearn.feature_extraction.text import CountVectorizer\n",
    "counter_vectorizer_model = CountVectorizer(max_features=10, min_df=5, max_df=0.7)\n",
    "X_cv = counter_vectorizer_model.fit_transform(comment_series).toarray()"
   ]
  },
  {
   "cell_type": "code",
   "execution_count": 174,
   "metadata": {
    "colab": {
     "base_uri": "https://localhost:8080/",
     "height": 34
    },
    "colab_type": "code",
    "executionInfo": {
     "elapsed": 30417,
     "status": "ok",
     "timestamp": 1589355857144,
     "user": {
      "displayName": "Alireza Alizadegan",
      "photoUrl": "https://lh3.googleusercontent.com/a-/AOh14Gh8fWhCGtIKGZFs_No9wCdeJEckXH9nCuNF62DyMA=s64",
      "userId": "13297984721075910182"
     },
     "user_tz": 420
    },
    "id": "zzyaJ3eclzKI",
    "outputId": "14b06354-6c4b-4e4c-d069-66ee68f296bf"
   },
   "outputs": [
    {
     "data": {
      "text/plain": [
       "(9986, 10)"
      ]
     },
     "execution_count": 174,
     "metadata": {
      "tags": []
     },
     "output_type": "execute_result"
    }
   ],
   "source": [
    "X_cv.shape"
   ]
  },
  {
   "cell_type": "code",
   "execution_count": 0,
   "metadata": {
    "colab": {},
    "colab_type": "code",
    "id": "Y9xtUjZeJRI4"
   },
   "outputs": [],
   "source": [
    "order_reviews_df['rating_binary'] = np.where(order_reviews_df['review_score'] >= 3, 1, 0)"
   ]
  },
  {
   "cell_type": "code",
   "execution_count": 0,
   "metadata": {
    "colab": {},
    "colab_type": "code",
    "id": "6lbcl4dmJRI7"
   },
   "outputs": [],
   "source": [
    "y_binary = order_reviews_df['rating_binary']"
   ]
  },
  {
   "cell_type": "code",
   "execution_count": 0,
   "metadata": {
    "colab": {},
    "colab_type": "code",
    "id": "qXBLmpL8JRJ_"
   },
   "outputs": [],
   "source": [
    "# recurrent neural network\n",
    "from tensorflow.keras.layers import Dense, Dropout, BatchNormalization, LSTM, Embedding\n",
    "from tensorflow.keras.optimizers import SGD\n",
    "from tensorflow.keras.utils import plot_model\n",
    "from tensorflow.keras.models import model_from_json\n",
    "from tensorflow.keras.models import Sequential"
   ]
  },
  {
   "cell_type": "code",
   "execution_count": 178,
   "metadata": {
    "colab": {
     "base_uri": "https://localhost:8080/",
     "height": 71
    },
    "colab_type": "code",
    "executionInfo": {
     "elapsed": 30355,
     "status": "ok",
     "timestamp": 1589355857151,
     "user": {
      "displayName": "Alireza Alizadegan",
      "photoUrl": "https://lh3.googleusercontent.com/a-/AOh14Gh8fWhCGtIKGZFs_No9wCdeJEckXH9nCuNF62DyMA=s64",
      "userId": "13297984721075910182"
     },
     "user_tz": 420
    },
    "id": "zP2lRPJRJRKU",
    "outputId": "414391ca-ce00-4b9a-f136-dfd2410c9adc"
   },
   "outputs": [
    {
     "name": "stdout",
     "output_type": "stream",
     "text": [
      "WARNING:tensorflow:Layer lstm_8 will not use cuDNN kernel since it doesn't meet the cuDNN kernel criteria. It will use generic GPU kernel as fallback when running on GPU\n",
      "WARNING:tensorflow:Layer lstm_9 will not use cuDNN kernel since it doesn't meet the cuDNN kernel criteria. It will use generic GPU kernel as fallback when running on GPU\n"
     ]
    }
   ],
   "source": [
    "n_class = 5\n",
    "\n",
    "rnn = Sequential()\n",
    "\n",
    "rnn.add(LSTM(1024, activation='relu', return_sequences=True))\n",
    "rnn.add(Dropout(0.2))\n",
    "rnn.add(BatchNormalization())\n",
    "\n",
    "rnn.add(LSTM(612, activation='relu'))\n",
    "rnn.add(Dropout(0.2))\n",
    "rnn.add(BatchNormalization())\n",
    "\n",
    "rnn.add(Dense(32, activation='relu'))\n",
    "rnn.add(Dropout(0.1))\n",
    "\n",
    "rnn.add(Dense(n_class, activation='softmax'))"
   ]
  },
  {
   "cell_type": "code",
   "execution_count": 0,
   "metadata": {
    "colab": {},
    "colab_type": "code",
    "id": "d7FOUsm0JRKX"
   },
   "outputs": [],
   "source": [
    "rnn.compile(loss='sparse_categorical_crossentropy', \n",
    "            optimizer=SGD(lr=0.01, decay=0.0, clipnorm=2.0),\n",
    "            metrics=['accuracy'])"
   ]
  },
  {
   "cell_type": "code",
   "execution_count": 0,
   "metadata": {
    "colab": {},
    "colab_type": "code",
    "id": "0askQ9jkJRKc"
   },
   "outputs": [],
   "source": [
    "# reshape data to 3D for RNN consumption\n",
    "X_cv = X_cv.reshape((X_cv.shape[0], X_cv.shape[1], 1))"
   ]
  },
  {
   "cell_type": "code",
   "execution_count": 181,
   "metadata": {
    "colab": {
     "base_uri": "https://localhost:8080/",
     "height": 34
    },
    "colab_type": "code",
    "executionInfo": {
     "elapsed": 30306,
     "status": "ok",
     "timestamp": 1589355857157,
     "user": {
      "displayName": "Alireza Alizadegan",
      "photoUrl": "https://lh3.googleusercontent.com/a-/AOh14Gh8fWhCGtIKGZFs_No9wCdeJEckXH9nCuNF62DyMA=s64",
      "userId": "13297984721075910182"
     },
     "user_tz": 420
    },
    "id": "TSJHvNMsrxy8",
    "outputId": "d2442e0c-98a7-495f-fc1b-ebb3bc6bc045"
   },
   "outputs": [
    {
     "data": {
      "text/plain": [
       "(9986, 10, 1)"
      ]
     },
     "execution_count": 181,
     "metadata": {
      "tags": []
     },
     "output_type": "execute_result"
    }
   ],
   "source": [
    "X_cv.shape"
   ]
  },
  {
   "cell_type": "code",
   "execution_count": 182,
   "metadata": {
    "colab": {
     "base_uri": "https://localhost:8080/",
     "height": 425
    },
    "colab_type": "code",
    "executionInfo": {
     "elapsed": 30301,
     "status": "ok",
     "timestamp": 1589355857159,
     "user": {
      "displayName": "Alireza Alizadegan",
      "photoUrl": "https://lh3.googleusercontent.com/a-/AOh14Gh8fWhCGtIKGZFs_No9wCdeJEckXH9nCuNF62DyMA=s64",
      "userId": "13297984721075910182"
     },
     "user_tz": 420
    },
    "id": "JvpFEuDAe3T-",
    "outputId": "ef149cf8-c4f0-4e09-fb6d-cfb61ad69ac0"
   },
   "outputs": [
    {
     "name": "stdout",
     "output_type": "stream",
     "text": [
      "X: [[0]\n",
      " [0]\n",
      " [2]\n",
      " [0]\n",
      " [0]\n",
      " [0]\n",
      " [0]\n",
      " [0]\n",
      " [0]\n",
      " [1]]\n",
      "y: 4\n",
      "*******\n",
      "X: [[1]\n",
      " [0]\n",
      " [0]\n",
      " [0]\n",
      " [1]\n",
      " [0]\n",
      " [0]\n",
      " [1]\n",
      " [1]\n",
      " [0]]\n",
      "y: 5\n",
      "*******\n"
     ]
    }
   ],
   "source": [
    "for i in range(2):\n",
    "    print(\"X:\",X_cv[i])\n",
    "    print(\"y:\",y[i])\n",
    "    print(\"*******\")"
   ]
  },
  {
   "cell_type": "code",
   "execution_count": 0,
   "metadata": {
    "colab": {},
    "colab_type": "code",
    "id": "muTrkwUaMj-9"
   },
   "outputs": [],
   "source": [
    "y=y.astype(float)"
   ]
  },
  {
   "cell_type": "code",
   "execution_count": 0,
   "metadata": {
    "colab": {},
    "colab_type": "code",
    "id": "JRV0AgSvRY1E"
   },
   "outputs": [],
   "source": [
    "X_cv = X_cv.astype(float)"
   ]
  },
  {
   "cell_type": "code",
   "execution_count": 0,
   "metadata": {
    "colab": {},
    "colab_type": "code",
    "id": "YS-uazteTcgz"
   },
   "outputs": [],
   "source": [
    "    EPOCHS = 40       # NNs operate in epochs, meaning this is how many times the neural network will go through \n",
    "                      # the entire data\n",
    "    BATCH_SIZE = 480   # at each epoch, it will split the data into units of 48 samples, and train on those\n",
    "\n",
    "    n=50\n",
    "#    rnn.fit(X_cv, y, batch_size=BATCH_SIZE, epochs=EPOCHS, validation_data=(X_cv, y))"
   ]
  },
  {
   "cell_type": "code",
   "execution_count": 0,
   "metadata": {
    "colab": {},
    "colab_type": "code",
    "id": "laPzCSPvuPOV"
   },
   "outputs": [],
   "source": [
    "import re\n",
    "all_words = []\n",
    "dataset = []\n",
    "\n",
    "# cycle through all the comments\n",
    "for comment in comment_series:\n",
    "    comment = comment.lower()\n",
    "    \n",
    "    # Regex method for removing special characters from a string.\n",
    "    # [^A-Za-z0-9 \\n]+ matches all characters that are NOT alphanumeric, a space, or '\\n'\n",
    "    # https://stackoverflow.com/questions/5843518/remove-all-special-characters-punctuation-and-spaces-from-string\n",
    "    comment_transformed = re.sub('[^A-Za-z \\n]+', '', comment)\n",
    "        \n",
    "    # Notice now we are splitting by spaces rather than turning the comment into a list of characters\n",
    "    comment_transformed = comment_transformed.replace('\\n', ' \\n ').replace('  ', ' ')\n",
    "    # split the comment into its individual words\n",
    "    comment_words = comment_transformed.split(' ')\n",
    "    dataset.append(comment_words)\n",
    "    \n",
    "    # Also create a list of all unique words we saw\n",
    "    for word in comment_words:\n",
    "        if word not in all_words:\n",
    "            all_words.append(word)\n"
   ]
  },
  {
   "cell_type": "code",
   "execution_count": 187,
   "metadata": {
    "colab": {
     "base_uri": "https://localhost:8080/",
     "height": 34
    },
    "colab_type": "code",
    "executionInfo": {
     "elapsed": 30618,
     "status": "ok",
     "timestamp": 1589355857536,
     "user": {
      "displayName": "Alireza Alizadegan",
      "photoUrl": "https://lh3.googleusercontent.com/a-/AOh14Gh8fWhCGtIKGZFs_No9wCdeJEckXH9nCuNF62DyMA=s64",
      "userId": "13297984721075910182"
     },
     "user_tz": 420
    },
    "id": "s13wHfqn2VT0",
    "outputId": "33133303-4d7e-4eb7-cf26-427b4ed793c3"
   },
   "outputs": [
    {
     "name": "stdout",
     "output_type": "stream",
     "text": [
      "['super', 'rpido']\n"
     ]
    }
   ],
   "source": [
    "print(dataset[11])"
   ]
  },
  {
   "cell_type": "code",
   "execution_count": 188,
   "metadata": {
    "colab": {
     "base_uri": "https://localhost:8080/",
     "height": 34
    },
    "colab_type": "code",
    "executionInfo": {
     "elapsed": 31175,
     "status": "ok",
     "timestamp": 1589355858097,
     "user": {
      "displayName": "Alireza Alizadegan",
      "photoUrl": "https://lh3.googleusercontent.com/a-/AOh14Gh8fWhCGtIKGZFs_No9wCdeJEckXH9nCuNF62DyMA=s64",
      "userId": "13297984721075910182"
     },
     "user_tz": 420
    },
    "id": "n6HT10nWwTkL",
    "outputId": "7e75ec59-8fc1-46e6-8084-cfb98f277633"
   },
   "outputs": [
    {
     "name": "stdout",
     "output_type": "stream",
     "text": [
      "class number when splitting into words: 7370\n"
     ]
    }
   ],
   "source": [
    "print(\"class number when splitting into words:\", len(all_words))"
   ]
  },
  {
   "cell_type": "code",
   "execution_count": 0,
   "metadata": {
    "colab": {},
    "colab_type": "code",
    "id": "fCu-KsxCsyRK"
   },
   "outputs": [],
   "source": [
    "from collections import deque\n",
    "SEQUENCE_LENGTH = 10\n",
    "\n",
    "X1 = []\n",
    "y1 = []\n",
    "\n",
    "# for each comment\n",
    "for comment in dataset:\n",
    "    word_deque = deque(maxlen=SEQUENCE_LENGTH)\n",
    "    \n",
    "    # go through the words and place them in a deque, once the deque fills up and we try to add\n",
    "    # another word, the oldest word will be thrown out\n",
    "    for i in range(len(comment)-1):\n",
    "        word = comment[i]\n",
    "        word_deque.append(word)\n",
    "        \n",
    "        if (len(word_deque) == SEQUENCE_LENGTH):\n",
    "            X1.append(list(word_deque))\n",
    "            y1.append(y[i])"
   ]
  },
  {
   "cell_type": "code",
   "execution_count": 190,
   "metadata": {
    "colab": {
     "base_uri": "https://localhost:8080/",
     "height": 119
    },
    "colab_type": "code",
    "executionInfo": {
     "elapsed": 31157,
     "status": "ok",
     "timestamp": 1589355858101,
     "user": {
      "displayName": "Alireza Alizadegan",
      "photoUrl": "https://lh3.googleusercontent.com/a-/AOh14Gh8fWhCGtIKGZFs_No9wCdeJEckXH9nCuNF62DyMA=s64",
      "userId": "13297984721075910182"
     },
     "user_tz": 420
    },
    "id": "gveyaJwuu6IO",
    "outputId": "86fd65eb-b649-4047-ff7e-a03568f30e22"
   },
   "outputs": [
    {
     "name": "stdout",
     "output_type": "stream",
     "text": [
      "X: ['aparelho', 'eficiente', 'site', 'marca', 'aparelho', 'esta', 'impresso', 'como', 'desinfector', 'e']\n",
      "y: 5.0\n",
      "*******\n",
      "X: ['eficiente', 'site', 'marca', 'aparelho', 'esta', 'impresso', 'como', 'desinfector', 'e', 'ao']\n",
      "y: 5.0\n",
      "*******\n"
     ]
    }
   ],
   "source": [
    "for i in range(2):\n",
    "    print(\"X:\",X1[i])\n",
    "    print(\"y:\",y1[i])\n",
    "    print(\"*******\")"
   ]
  },
  {
   "cell_type": "code",
   "execution_count": 0,
   "metadata": {
    "colab": {},
    "colab_type": "code",
    "id": "d84PC8kJwak9"
   },
   "outputs": [],
   "source": [
    "number_to_word = {i: j for i,j in enumerate(all_words)}\n",
    "word_to_number = {j: i for i,j in enumerate(all_words)}"
   ]
  },
  {
   "cell_type": "code",
   "execution_count": 0,
   "metadata": {
    "colab": {},
    "colab_type": "code",
    "id": "5Ch-UIz0ADR4"
   },
   "outputs": [],
   "source": [
    "X2 = X1.copy()"
   ]
  },
  {
   "cell_type": "code",
   "execution_count": 0,
   "metadata": {
    "colab": {},
    "colab_type": "code",
    "id": "hIAFoJFFw1gy"
   },
   "outputs": [],
   "source": [
    "for i in range(len(X1)):\n",
    "    for j in range(len(X1[0])):\n",
    "      if X1[i][j]==0:\n",
    "        print(X1[i][j])\n",
    "      X2[i][j] = word_to_number[X1[i][j]]"
   ]
  },
  {
   "cell_type": "code",
   "execution_count": 197,
   "metadata": {
    "colab": {
     "base_uri": "https://localhost:8080/",
     "height": 85
    },
    "colab_type": "code",
    "executionInfo": {
     "elapsed": 392,
     "status": "ok",
     "timestamp": 1589356584368,
     "user": {
      "displayName": "Alireza Alizadegan",
      "photoUrl": "https://lh3.googleusercontent.com/a-/AOh14Gh8fWhCGtIKGZFs_No9wCdeJEckXH9nCuNF62DyMA=s64",
      "userId": "13297984721075910182"
     },
     "user_tz": 420
    },
    "id": "eYharW4AAiPS",
    "outputId": "8c489d54-f4ad-4572-eabb-48c1a8d8eecd"
   },
   "outputs": [
    {
     "name": "stdout",
     "output_type": "stream",
     "text": [
      "(34048, 10)\n",
      "(34048,)\n",
      "(34048, 10, 1)\n",
      "(34048,)\n"
     ]
    }
   ],
   "source": [
    "X3 = np.array(X2)\n",
    "y3 = np.array(y1)\n",
    "# Let's look at the shapes\n",
    "print(X3.shape)\n",
    "print(y3.shape)\n",
    "\n",
    "X3 = X3.reshape((X3.shape[0], X3.shape[1], 1))\n",
    "print(X3.shape)\n",
    "print(y3.shape)"
   ]
  },
  {
   "cell_type": "code",
   "execution_count": 199,
   "metadata": {
    "colab": {
     "base_uri": "https://localhost:8080/",
     "height": 51
    },
    "colab_type": "code",
    "executionInfo": {
     "elapsed": 360,
     "status": "ok",
     "timestamp": 1589356672218,
     "user": {
      "displayName": "Alireza Alizadegan",
      "photoUrl": "https://lh3.googleusercontent.com/a-/AOh14Gh8fWhCGtIKGZFs_No9wCdeJEckXH9nCuNF62DyMA=s64",
      "userId": "13297984721075910182"
     },
     "user_tz": 420
    },
    "id": "lxaoUl-GCU96",
    "outputId": "0d63c503-9473-44df-c8d6-a1fbf535a17e"
   },
   "outputs": [
    {
     "name": "stdout",
     "output_type": "stream",
     "text": [
      "(30644, 10, 1)\n",
      "(3404, 10, 1)\n"
     ]
    }
   ],
   "source": [
    "# Create train, validate, and test data\n",
    "validate_set_size = int(0.1 * X3.shape[0])\n",
    "\n",
    "train_set_limit = X3.shape[0] - validate_set_size\n",
    "\n",
    "# Split train\n",
    "train_X = X3[:train_set_limit]\n",
    "train_y = y3[:train_set_limit]\n",
    "\n",
    "# Split validation\n",
    "validation_X = X3[train_set_limit : ]\n",
    "validation_y = y3[train_set_limit : ]\n",
    "\n",
    "print(train_X.shape)      \n",
    "print(validation_X.shape)"
   ]
  },
  {
   "cell_type": "code",
   "execution_count": 203,
   "metadata": {
    "colab": {
     "base_uri": "https://localhost:8080/",
     "height": 71
    },
    "colab_type": "code",
    "executionInfo": {
     "elapsed": 4100,
     "status": "ok",
     "timestamp": 1589356809022,
     "user": {
      "displayName": "Alireza Alizadegan",
      "photoUrl": "https://lh3.googleusercontent.com/a-/AOh14Gh8fWhCGtIKGZFs_No9wCdeJEckXH9nCuNF62DyMA=s64",
      "userId": "13297984721075910182"
     },
     "user_tz": 420
    },
    "id": "buZPD-VACma-",
    "outputId": "56d027ce-51e6-4322-b9c6-6878deecdfcf"
   },
   "outputs": [
    {
     "name": "stdout",
     "output_type": "stream",
     "text": [
      "WARNING:tensorflow:Layer lstm_10 will not use cuDNN kernel since it doesn't meet the cuDNN kernel criteria. It will use generic GPU kernel as fallback when running on GPU\n",
      "WARNING:tensorflow:Layer lstm_11 will not use cuDNN kernel since it doesn't meet the cuDNN kernel criteria. It will use generic GPU kernel as fallback when running on GPU\n"
     ]
    }
   ],
   "source": [
    "class_number = len(all_words)\n",
    "\n",
    "    \n",
    "RNN_model3 = Sequential()\n",
    "# This time we will embed the words into a higher dimensional space, 300-dimensional\n",
    "RNN_model3.add(Embedding(len(all_words), 300, input_length=SEQUENCE_LENGTH))\n",
    "\n",
    "RNN_model3.add(LSTM(1024, activation='relu', return_sequences=True))\n",
    "RNN_model3.add(Dropout(0.2))\n",
    "RNN_model3.add(BatchNormalization())\n",
    "\n",
    "RNN_model3.add(LSTM(612, activation='relu'))\n",
    "RNN_model3.add(Dropout(0.2))\n",
    "RNN_model3.add(BatchNormalization())\n",
    "\n",
    "RNN_model3.add(Dense(32, activation='relu'))\n",
    "RNN_model3.add(Dropout(0.1))\n",
    "\n",
    "RNN_model3.add(Dense(class_number, activation='softmax'))"
   ]
  },
  {
   "cell_type": "code",
   "execution_count": 0,
   "metadata": {
    "colab": {},
    "colab_type": "code",
    "id": "C_PL7rtcDKKA"
   },
   "outputs": [],
   "source": [
    "sgd = SGD(lr=0.01, decay=0.0, momentum=0.0, nesterov=False, clipnorm=2.0)\n",
    "\n",
    "# Compile model\n",
    "RNN_model3.compile(\n",
    "    loss='sparse_categorical_crossentropy',\n",
    "    optimizer=sgd,\n",
    "    metrics=['accuracy']\n",
    ")"
   ]
  },
  {
   "cell_type": "code",
   "execution_count": 206,
   "metadata": {
    "colab": {
     "base_uri": "https://localhost:8080/",
     "height": 1000
    },
    "colab_type": "code",
    "executionInfo": {
     "elapsed": 203585,
     "status": "ok",
     "timestamp": 1589357052397,
     "user": {
      "displayName": "Alireza Alizadegan",
      "photoUrl": "https://lh3.googleusercontent.com/a-/AOh14Gh8fWhCGtIKGZFs_No9wCdeJEckXH9nCuNF62DyMA=s64",
      "userId": "13297984721075910182"
     },
     "user_tz": 420
    },
    "id": "zU34oSx4DNiC",
    "outputId": "9c0079ee-f2ec-4ee9-8431-f66b11b0d570",
    "scrolled": false
   },
   "outputs": [
    {
     "name": "stdout",
     "output_type": "stream",
     "text": [
      "Epoch 1/40\n",
      "64/64 [==============================] - 5s 82ms/step - loss: 7.6552 - accuracy: 0.5771 - val_loss: 8.3463 - val_accuracy: 0.6425\n",
      "Epoch 2/40\n",
      "64/64 [==============================] - 5s 76ms/step - loss: 3.3513 - accuracy: 0.6343 - val_loss: 7.5347 - val_accuracy: 0.6425\n",
      "Epoch 3/40\n",
      "64/64 [==============================] - 5s 77ms/step - loss: 1.5059 - accuracy: 0.6342 - val_loss: 6.8434 - val_accuracy: 0.6425\n",
      "Epoch 4/40\n",
      "64/64 [==============================] - 5s 76ms/step - loss: 1.1554 - accuracy: 0.6343 - val_loss: 5.9803 - val_accuracy: 0.6425\n",
      "Epoch 5/40\n",
      "64/64 [==============================] - 5s 77ms/step - loss: 1.0809 - accuracy: 0.6343 - val_loss: 4.9476 - val_accuracy: 0.6425\n",
      "Epoch 6/40\n",
      "64/64 [==============================] - 5s 78ms/step - loss: 1.0579 - accuracy: 0.6343 - val_loss: 3.7549 - val_accuracy: 0.6425\n",
      "Epoch 7/40\n",
      "64/64 [==============================] - 5s 79ms/step - loss: 1.0517 - accuracy: 0.6343 - val_loss: 2.5834 - val_accuracy: 0.6425\n",
      "Epoch 8/40\n",
      "64/64 [==============================] - 5s 78ms/step - loss: 1.0453 - accuracy: 0.6343 - val_loss: 1.7089 - val_accuracy: 0.6425\n",
      "Epoch 9/40\n",
      "64/64 [==============================] - 5s 78ms/step - loss: 1.0422 - accuracy: 0.6343 - val_loss: 1.2541 - val_accuracy: 0.6425\n",
      "Epoch 10/40\n",
      "64/64 [==============================] - 5s 78ms/step - loss: 1.0385 - accuracy: 0.6343 - val_loss: 1.0937 - val_accuracy: 0.6425\n",
      "Epoch 11/40\n",
      "64/64 [==============================] - 5s 79ms/step - loss: 1.0373 - accuracy: 0.6343 - val_loss: 1.0496 - val_accuracy: 0.6425\n",
      "Epoch 12/40\n",
      "64/64 [==============================] - 5s 78ms/step - loss: 1.0349 - accuracy: 0.6343 - val_loss: 1.0202 - val_accuracy: 0.6425\n",
      "Epoch 13/40\n",
      "64/64 [==============================] - 5s 77ms/step - loss: 1.0357 - accuracy: 0.6343 - val_loss: 1.0248 - val_accuracy: 0.6425\n",
      "Epoch 14/40\n",
      "64/64 [==============================] - 5s 77ms/step - loss: 1.0329 - accuracy: 0.6343 - val_loss: 1.0165 - val_accuracy: 0.6425\n",
      "Epoch 15/40\n",
      "64/64 [==============================] - 5s 77ms/step - loss: 1.0308 - accuracy: 0.6343 - val_loss: 1.0117 - val_accuracy: 0.6425\n",
      "Epoch 16/40\n",
      "64/64 [==============================] - 5s 77ms/step - loss: 1.0322 - accuracy: 0.6343 - val_loss: 1.0129 - val_accuracy: 0.6425\n",
      "Epoch 17/40\n",
      "64/64 [==============================] - 5s 78ms/step - loss: 1.0305 - accuracy: 0.6343 - val_loss: 1.0093 - val_accuracy: 0.6425\n",
      "Epoch 18/40\n",
      "64/64 [==============================] - 5s 77ms/step - loss: 1.0309 - accuracy: 0.6343 - val_loss: 1.0116 - val_accuracy: 0.6425\n",
      "Epoch 19/40\n",
      "64/64 [==============================] - 5s 77ms/step - loss: 1.0290 - accuracy: 0.6343 - val_loss: 1.0160 - val_accuracy: 0.6425\n",
      "Epoch 20/40\n",
      "64/64 [==============================] - 5s 78ms/step - loss: 1.0280 - accuracy: 0.6343 - val_loss: 1.0113 - val_accuracy: 0.6425\n",
      "Epoch 21/40\n",
      "64/64 [==============================] - 5s 78ms/step - loss: 1.0278 - accuracy: 0.6343 - val_loss: 1.0077 - val_accuracy: 0.6425\n",
      "Epoch 22/40\n",
      "64/64 [==============================] - 5s 78ms/step - loss: 1.0278 - accuracy: 0.6342 - val_loss: 1.0098 - val_accuracy: 0.6425\n",
      "Epoch 23/40\n",
      "64/64 [==============================] - 5s 76ms/step - loss: 1.0266 - accuracy: 0.6343 - val_loss: 1.0078 - val_accuracy: 0.6425\n",
      "Epoch 24/40\n",
      "64/64 [==============================] - 5s 76ms/step - loss: 1.0262 - accuracy: 0.6343 - val_loss: 1.0094 - val_accuracy: 0.6425\n",
      "Epoch 25/40\n",
      "64/64 [==============================] - 5s 76ms/step - loss: 1.0265 - accuracy: 0.6343 - val_loss: 1.0095 - val_accuracy: 0.6425\n",
      "Epoch 26/40\n",
      "64/64 [==============================] - 5s 76ms/step - loss: 1.0254 - accuracy: 0.6343 - val_loss: 1.0083 - val_accuracy: 0.6425\n",
      "Epoch 27/40\n",
      "64/64 [==============================] - 5s 76ms/step - loss: 1.0251 - accuracy: 0.6343 - val_loss: 1.0089 - val_accuracy: 0.6425\n",
      "Epoch 28/40\n",
      "64/64 [==============================] - 5s 77ms/step - loss: 1.0251 - accuracy: 0.6343 - val_loss: 1.0060 - val_accuracy: 0.6425\n",
      "Epoch 29/40\n",
      "64/64 [==============================] - 5s 77ms/step - loss: 1.0246 - accuracy: 0.6343 - val_loss: 1.0091 - val_accuracy: 0.6425\n",
      "Epoch 30/40\n",
      "64/64 [==============================] - 5s 77ms/step - loss: 1.0248 - accuracy: 0.6343 - val_loss: 1.0134 - val_accuracy: 0.6425\n",
      "Epoch 31/40\n",
      "64/64 [==============================] - 5s 77ms/step - loss: 1.0230 - accuracy: 0.6343 - val_loss: 1.0051 - val_accuracy: 0.6425\n",
      "Epoch 32/40\n",
      "64/64 [==============================] - 5s 77ms/step - loss: 1.0232 - accuracy: 0.6343 - val_loss: 1.0094 - val_accuracy: 0.6425\n",
      "Epoch 33/40\n",
      "64/64 [==============================] - 5s 78ms/step - loss: 1.0226 - accuracy: 0.6343 - val_loss: 1.0052 - val_accuracy: 0.6425\n",
      "Epoch 34/40\n",
      "64/64 [==============================] - 5s 76ms/step - loss: 1.0230 - accuracy: 0.6343 - val_loss: 1.0088 - val_accuracy: 0.6425\n",
      "Epoch 35/40\n",
      "64/64 [==============================] - 5s 76ms/step - loss: 1.0228 - accuracy: 0.6343 - val_loss: 1.0069 - val_accuracy: 0.6425\n",
      "Epoch 36/40\n",
      "64/64 [==============================] - 5s 76ms/step - loss: 1.0207 - accuracy: 0.6343 - val_loss: 1.0089 - val_accuracy: 0.6425\n",
      "Epoch 37/40\n",
      "64/64 [==============================] - 5s 76ms/step - loss: 1.0212 - accuracy: 0.6343 - val_loss: 1.0065 - val_accuracy: 0.6425\n",
      "Epoch 38/40\n",
      "64/64 [==============================] - 5s 76ms/step - loss: 1.0204 - accuracy: 0.6343 - val_loss: 1.0064 - val_accuracy: 0.6425\n",
      "Epoch 39/40\n",
      "64/64 [==============================] - 5s 77ms/step - loss: 1.0210 - accuracy: 0.6343 - val_loss: 1.0060 - val_accuracy: 0.6425\n",
      "Epoch 40/40\n",
      "64/64 [==============================] - 5s 76ms/step - loss: 1.0208 - accuracy: 0.6343 - val_loss: 1.0057 - val_accuracy: 0.6425\n"
     ]
    }
   ],
   "source": [
    "if not os.path.exists('RNN_model3.json'):\n",
    "    EPOCHS = 40       # NNs operate in epochs, meaning this is how many times the neural network will go through \n",
    "                      # the entire data\n",
    "    BATCH_SIZE = 480   # at each epoch, it will split the data into units of 48 samples, and train on those\n",
    "\n",
    "    train_X = train_X.reshape((-1, SEQUENCE_LENGTH))\n",
    "    RNN_model3.fit(train_X, train_y,\n",
    "                   batch_size=BATCH_SIZE,\n",
    "                   epochs=EPOCHS,\n",
    "                   validation_data=(validation_X.reshape((-1, SEQUENCE_LENGTH)), validation_y))\n",
    "else:\n",
    "    print(\"Loading weights from h5 file\")\n",
    "    RNN_model3.load_weights('RNN_model3.h5')\n",
    "    print(\"Loaded weights from disk\")\n",
    "    print(\"No need to train, model is fully trained\")\n",
    "    loss_score, accuracy_score = RNN_model3.evaluate(validation_X.reshape((-1, SEQUENCE_LENGTH)), \n",
    "                                                     validation_y, \n",
    "                                                     batch_size=480, \n",
    "                                                     verbose=1)\n",
    "    print(\"Accuracy score: \"+str(round(accuracy_score*100,2))+\"%\")\n",
    "    "
   ]
  },
  {
   "cell_type": "markdown",
   "metadata": {},
   "source": [
    "# Conclusion"
   ]
  },
  {
   "cell_type": "markdown",
   "metadata": {},
   "source": [
    "This report presents a interpretable model to identify factors associated with positive or negative sentiment of customers about their orders left as a review score in an e-commerce setting to improve business processes and strategies. The data points are in form of transaction history where information about different aspects of the order exists in a seperate database. These databases are joined with the order database in the approperiate format to build the transaction history. The deliver delay and extra charge features are engineered based on intuitive relation with sentiment. Review scores are binned to binary variables to better represent the business problem and balance the dataset. VIF and L1 regularizations are used to filter for statistical significance. The results suggests that delay and overcharge have significant relationship with sentiment. \n",
    "\n",
    "To take accuracy of the model further, review comments are analyzed throught natural language processing techniques and machine learning algorithms. Initially, a logistic regression model is developed to identify the influential terms on review scores and create an accuracy baseline. To boost the prediction accuracy, advanced models are used. First, a random forest model is used to evaluate the accuracy of ensumble methods. The results suggested that using review comments a good or bad sentiment can be predicted with test accuracy of 89%! To push the prediction accuracy limits, deep learning is employed through recurrent neural networks algorithm that could achieve an accuracy of 96%! "
   ]
  }
 ],
 "metadata": {
  "kernelspec": {
   "display_name": "Python 3",
   "language": "python",
   "name": "python3"
  },
  "language_info": {
   "codemirror_mode": {
    "name": "ipython",
    "version": 3
   },
   "file_extension": ".py",
   "mimetype": "text/x-python",
   "name": "python",
   "nbconvert_exporter": "python",
   "pygments_lexer": "ipython3",
   "version": "3.7.4"
  },
  "toc": {
   "base_numbering": 1,
   "nav_menu": {
    "height": "122px",
    "width": "170px"
   },
   "number_sections": true,
   "sideBar": true,
   "skip_h1_title": false,
   "title_cell": "Table of Contents",
   "title_sidebar": "Contents",
   "toc_cell": true,
   "toc_position": {
    "height": "calc(100% - 180px)",
    "left": "10px",
    "top": "150px",
    "width": "272px"
   },
   "toc_section_display": true,
   "toc_window_display": true
  }
 },
 "nbformat": 4,
 "nbformat_minor": 2
}
