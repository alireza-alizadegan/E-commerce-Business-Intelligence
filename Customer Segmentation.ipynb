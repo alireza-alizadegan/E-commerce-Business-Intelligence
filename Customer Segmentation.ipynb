{
 "cells": [
  {
   "cell_type": "markdown",
   "metadata": {},
   "source": [
    "<img src='Cover Photo/Customer Segmentation.jpg' style='height:500px'/>"
   ]
  },
  {
   "cell_type": "markdown",
   "metadata": {
    "toc": true
   },
   "source": [
    "<h1>Table of Contents<span class=\"tocSkip\"></span></h1>\n",
    "<div class=\"toc\"><ul class=\"toc-item\"><li><span><a href=\"#Problem-Statement\" data-toc-modified-id=\"Problem-Statement-1\"><span class=\"toc-item-num\">1&nbsp;&nbsp;</span>Problem Statement</a></span></li><li><span><a href=\"#Data-Cleaning\" data-toc-modified-id=\"Data-Cleaning-2\"><span class=\"toc-item-num\">2&nbsp;&nbsp;</span>Data Cleaning</a></span><ul class=\"toc-item\"><li><span><a href=\"#Order-Database\" data-toc-modified-id=\"Order-Database-2.1\"><span class=\"toc-item-num\">2.1&nbsp;&nbsp;</span>Order Database</a></span></li><li><span><a href=\"#Customer-Database\" data-toc-modified-id=\"Customer-Database-2.2\"><span class=\"toc-item-num\">2.2&nbsp;&nbsp;</span>Customer Database</a></span></li><li><span><a href=\"#Payment-Database\" data-toc-modified-id=\"Payment-Database-2.3\"><span class=\"toc-item-num\">2.3&nbsp;&nbsp;</span>Payment Database</a></span></li><li><span><a href=\"#Item-Database\" data-toc-modified-id=\"Item-Database-2.4\"><span class=\"toc-item-num\">2.4&nbsp;&nbsp;</span>Item Database</a></span></li><li><span><a href=\"#Product-Database\" data-toc-modified-id=\"Product-Database-2.5\"><span class=\"toc-item-num\">2.5&nbsp;&nbsp;</span>Product Database</a></span></li><li><span><a href=\"#Translation-Database\" data-toc-modified-id=\"Translation-Database-2.6\"><span class=\"toc-item-num\">2.6&nbsp;&nbsp;</span>Translation Database</a></span></li><li><span><a href=\"#Review-Database\" data-toc-modified-id=\"Review-Database-2.7\"><span class=\"toc-item-num\">2.7&nbsp;&nbsp;</span>Review Database</a></span></li><li><span><a href=\"#Seller-Database\" data-toc-modified-id=\"Seller-Database-2.8\"><span class=\"toc-item-num\">2.8&nbsp;&nbsp;</span>Seller Database</a></span></li><li><span><a href=\"#Database-Joins\" data-toc-modified-id=\"Database-Joins-2.9\"><span class=\"toc-item-num\">2.9&nbsp;&nbsp;</span>Database Joins</a></span></li></ul></li><li><span><a href=\"#Feature-Engineering\" data-toc-modified-id=\"Feature-Engineering-3\"><span class=\"toc-item-num\">3&nbsp;&nbsp;</span>Feature Engineering</a></span></li><li><span><a href=\"#Exploratory-Data-Analytics\" data-toc-modified-id=\"Exploratory-Data-Analytics-4\"><span class=\"toc-item-num\">4&nbsp;&nbsp;</span>Exploratory Data Analytics</a></span></li><li><span><a href=\"#PCA-based-Clustering\" data-toc-modified-id=\"PCA-based-Clustering-5\"><span class=\"toc-item-num\">5&nbsp;&nbsp;</span>PCA-based Clustering</a></span><ul class=\"toc-item\"><li><span><a href=\"#Standard-Scaler\" data-toc-modified-id=\"Standard-Scaler-5.1\"><span class=\"toc-item-num\">5.1&nbsp;&nbsp;</span>Standard Scaler</a></span></li><li><span><a href=\"#Elbow-Diagram\" data-toc-modified-id=\"Elbow-Diagram-5.2\"><span class=\"toc-item-num\">5.2&nbsp;&nbsp;</span>Elbow Diagram</a></span></li><li><span><a href=\"#Principle-Component-Analysis\" data-toc-modified-id=\"Principle-Component-Analysis-5.3\"><span class=\"toc-item-num\">5.3&nbsp;&nbsp;</span>Principle Component Analysis</a></span></li><li><span><a href=\"#K-means-Clusters\" data-toc-modified-id=\"K-means-Clusters-5.4\"><span class=\"toc-item-num\">5.4&nbsp;&nbsp;</span>K-means Clusters</a></span></li></ul></li><li><span><a href=\"#RFM-based-Clustering\" data-toc-modified-id=\"RFM-based-Clustering-6\"><span class=\"toc-item-num\">6&nbsp;&nbsp;</span>RFM-based Clustering</a></span><ul class=\"toc-item\"><li><span><a href=\"#Standard-Scaler\" data-toc-modified-id=\"Standard-Scaler-6.1\"><span class=\"toc-item-num\">6.1&nbsp;&nbsp;</span>Standard Scaler</a></span></li><li><span><a href=\"#Elbow-Diagram\" data-toc-modified-id=\"Elbow-Diagram-6.2\"><span class=\"toc-item-num\">6.2&nbsp;&nbsp;</span>Elbow Diagram</a></span></li><li><span><a href=\"#K-means-Clustering\" data-toc-modified-id=\"K-means-Clustering-6.3\"><span class=\"toc-item-num\">6.3&nbsp;&nbsp;</span>K-means Clustering</a></span></li></ul></li><li><span><a href=\"#Conclusion\" data-toc-modified-id=\"Conclusion-7\"><span class=\"toc-item-num\">7&nbsp;&nbsp;</span>Conclusion</a></span></li></ul></div>"
   ]
  },
  {
   "cell_type": "markdown",
   "metadata": {},
   "source": [
    "# Problem Statement"
   ]
  },
  {
   "cell_type": "markdown",
   "metadata": {},
   "source": [
    "This report presents a method to segment customerce into groups based on their shopping behavior to be used to design distinct marketing strategies. The data is obtained from a [public repository](https://www.kaggle.com/olistbr/brazilian-ecommerce) where information about the data can be found."
   ]
  },
  {
   "cell_type": "markdown",
   "metadata": {},
   "source": [
    "# Data Cleaning"
   ]
  },
  {
   "cell_type": "code",
   "execution_count": 2,
   "metadata": {
    "scrolled": false
   },
   "outputs": [],
   "source": [
    "# frequently used libraries\n",
    "import numpy as np\n",
    "import pandas as pd\n",
    "import matplotlib.pyplot as plt\n",
    "import warnings\n",
    "warnings.filterwarnings('ignore')\n",
    "from datetime import date\n",
    "from sklearn.preprocessing import StandardScaler\n",
    "from sklearn.decomposition import PCA\n",
    "from sklearn.cluster import KMeans\n",
    "from sklearn.manifold import TSNE\n"
   ]
  },
  {
   "cell_type": "markdown",
   "metadata": {},
   "source": [
    "## Order Database"
   ]
  },
  {
   "cell_type": "code",
   "execution_count": 3,
   "metadata": {
    "scrolled": false
   },
   "outputs": [
    {
     "name": "stdout",
     "output_type": "stream",
     "text": [
      "<class 'pandas.core.frame.DataFrame'>\n",
      "RangeIndex: 99441 entries, 0 to 99440\n",
      "Data columns (total 8 columns):\n",
      "order_id                         99441 non-null object\n",
      "customer_id                      99441 non-null object\n",
      "order_status                     99441 non-null object\n",
      "order_purchase_timestamp         99441 non-null object\n",
      "order_approved_at                99281 non-null object\n",
      "order_delivered_carrier_date     97658 non-null object\n",
      "order_delivered_customer_date    96476 non-null object\n",
      "order_estimated_delivery_date    99441 non-null object\n",
      "dtypes: object(8)\n",
      "memory usage: 6.1+ MB\n"
     ]
    }
   ],
   "source": [
    "# read data and show its high-level information\n",
    "order_df = pd.read_csv('olist_orders_dataset.csv')\n",
    "order_df.info()"
   ]
  },
  {
   "cell_type": "code",
   "execution_count": 5,
   "metadata": {
    "scrolled": false
   },
   "outputs": [],
   "source": [
    "# drop irrelevant columns\n",
    "order_df.drop(['order_status',\n",
    "               'order_delivered_carrier_date',\n",
    "               'order_approved_at',\n",
    "               'order_delivered_customer_date',\n",
    "               'order_estimated_delivery_date'], axis='columns', inplace=True)\n",
    "order_df.columns"
   ]
  },
  {
   "cell_type": "code",
   "execution_count": null,
   "metadata": {
    "scrolled": false
   },
   "outputs": [],
   "source": [
    "# assign datetime data type for date/time columns  \n",
    "order_df.order_purchase_timestamp = pd.to_datetime(order_df.order_purchase_timestamp)\n",
    "order_df.dtypes"
   ]
  },
  {
   "cell_type": "code",
   "execution_count": null,
   "metadata": {
    "scrolled": false
   },
   "outputs": [],
   "source": [
    "order_df.order_purchase_timestamp = order_df.order_purchase_timestamp.dt.date\n",
    "#pocipr_df['order_purchase_timestamp'] = pocipr_df['order_purchase_timestamp'].dt.date"
   ]
  },
  {
   "cell_type": "code",
   "execution_count": 4,
   "metadata": {
    "scrolled": false
   },
   "outputs": [
    {
     "data": {
      "text/html": [
       "<div>\n",
       "<style scoped>\n",
       "    .dataframe tbody tr th:only-of-type {\n",
       "        vertical-align: middle;\n",
       "    }\n",
       "\n",
       "    .dataframe tbody tr th {\n",
       "        vertical-align: top;\n",
       "    }\n",
       "\n",
       "    .dataframe thead th {\n",
       "        text-align: right;\n",
       "    }\n",
       "</style>\n",
       "<table border=\"1\" class=\"dataframe\">\n",
       "  <thead>\n",
       "    <tr style=\"text-align: right;\">\n",
       "      <th></th>\n",
       "      <th>order_id</th>\n",
       "      <th>customer_id</th>\n",
       "      <th>order_status</th>\n",
       "      <th>order_purchase_timestamp</th>\n",
       "      <th>order_approved_at</th>\n",
       "      <th>order_delivered_carrier_date</th>\n",
       "      <th>order_delivered_customer_date</th>\n",
       "      <th>order_estimated_delivery_date</th>\n",
       "    </tr>\n",
       "  </thead>\n",
       "  <tbody>\n",
       "  </tbody>\n",
       "</table>\n",
       "</div>"
      ],
      "text/plain": [
       "Empty DataFrame\n",
       "Columns: [order_id, customer_id, order_status, order_purchase_timestamp, order_approved_at, order_delivered_carrier_date, order_delivered_customer_date, order_estimated_delivery_date]\n",
       "Index: []"
      ]
     },
     "execution_count": 4,
     "metadata": {},
     "output_type": "execute_result"
    }
   ],
   "source": [
    "# duplicate rows of dataframe\n",
    "order_df[order_df.duplicated()]"
   ]
  },
  {
   "cell_type": "code",
   "execution_count": 6,
   "metadata": {
    "scrolled": false
   },
   "outputs": [
    {
     "data": {
      "text/html": [
       "<div>\n",
       "<style scoped>\n",
       "    .dataframe tbody tr th:only-of-type {\n",
       "        vertical-align: middle;\n",
       "    }\n",
       "\n",
       "    .dataframe tbody tr th {\n",
       "        vertical-align: top;\n",
       "    }\n",
       "\n",
       "    .dataframe thead th {\n",
       "        text-align: right;\n",
       "    }\n",
       "</style>\n",
       "<table border=\"1\" class=\"dataframe\">\n",
       "  <thead>\n",
       "    <tr style=\"text-align: right;\">\n",
       "      <th></th>\n",
       "      <th>order_id</th>\n",
       "      <th>customer_id</th>\n",
       "      <th>order_purchase_timestamp</th>\n",
       "    </tr>\n",
       "  </thead>\n",
       "  <tbody>\n",
       "    <tr>\n",
       "      <td>0</td>\n",
       "      <td>e481f51cbdc54678b7cc49136f2d6af7</td>\n",
       "      <td>9ef432eb6251297304e76186b10a928d</td>\n",
       "      <td>2017-10-02</td>\n",
       "    </tr>\n",
       "    <tr>\n",
       "      <td>1</td>\n",
       "      <td>53cdb2fc8bc7dce0b6741e2150273451</td>\n",
       "      <td>b0830fb4747a6c6d20dea0b8c802d7ef</td>\n",
       "      <td>2018-07-24</td>\n",
       "    </tr>\n",
       "    <tr>\n",
       "      <td>2</td>\n",
       "      <td>47770eb9100c2d0c44946d9cf07ec65d</td>\n",
       "      <td>41ce2a54c0b03bf3443c3d931a367089</td>\n",
       "      <td>2018-08-08</td>\n",
       "    </tr>\n",
       "    <tr>\n",
       "      <td>3</td>\n",
       "      <td>949d5b44dbf5de918fe9c16f97b45f8a</td>\n",
       "      <td>f88197465ea7920adcdbec7375364d82</td>\n",
       "      <td>2017-11-18</td>\n",
       "    </tr>\n",
       "    <tr>\n",
       "      <td>4</td>\n",
       "      <td>ad21c59c0840e6cb83a9ceb5573f8159</td>\n",
       "      <td>8ab97904e6daea8866dbdbc4fb7aad2c</td>\n",
       "      <td>2018-02-13</td>\n",
       "    </tr>\n",
       "  </tbody>\n",
       "</table>\n",
       "</div>"
      ],
      "text/plain": [
       "                           order_id                       customer_id  \\\n",
       "0  e481f51cbdc54678b7cc49136f2d6af7  9ef432eb6251297304e76186b10a928d   \n",
       "1  53cdb2fc8bc7dce0b6741e2150273451  b0830fb4747a6c6d20dea0b8c802d7ef   \n",
       "2  47770eb9100c2d0c44946d9cf07ec65d  41ce2a54c0b03bf3443c3d931a367089   \n",
       "3  949d5b44dbf5de918fe9c16f97b45f8a  f88197465ea7920adcdbec7375364d82   \n",
       "4  ad21c59c0840e6cb83a9ceb5573f8159  8ab97904e6daea8866dbdbc4fb7aad2c   \n",
       "\n",
       "  order_purchase_timestamp  \n",
       "0               2017-10-02  \n",
       "1               2018-07-24  \n",
       "2               2018-08-08  \n",
       "3               2017-11-18  \n",
       "4               2018-02-13  "
      ]
     },
     "execution_count": 6,
     "metadata": {},
     "output_type": "execute_result"
    }
   ],
   "source": [
    "# head of values\n",
    "order_df.head()"
   ]
  },
  {
   "cell_type": "markdown",
   "metadata": {},
   "source": [
    "## Customer Database"
   ]
  },
  {
   "cell_type": "code",
   "execution_count": 7,
   "metadata": {
    "scrolled": false
   },
   "outputs": [
    {
     "name": "stdout",
     "output_type": "stream",
     "text": [
      "<class 'pandas.core.frame.DataFrame'>\n",
      "RangeIndex: 99441 entries, 0 to 99440\n",
      "Data columns (total 5 columns):\n",
      "customer_id                 99441 non-null object\n",
      "customer_unique_id          99441 non-null object\n",
      "customer_zip_code_prefix    99441 non-null int64\n",
      "customer_city               99441 non-null object\n",
      "customer_state              99441 non-null object\n",
      "dtypes: int64(1), object(4)\n",
      "memory usage: 3.8+ MB\n"
     ]
    }
   ],
   "source": [
    "# read data and show its high-level information\n",
    "customer_df = pd.read_csv('olist_customers_dataset.csv')\n",
    "customer_df.info()"
   ]
  },
  {
   "cell_type": "code",
   "execution_count": 9,
   "metadata": {
    "scrolled": false
   },
   "outputs": [],
   "source": [
    "# drop irrelevant columns\n",
    "customer_df.drop(['customer_zip_code_prefix',\n",
    "                  'customer_city'], axis='columns', inplace=True)"
   ]
  },
  {
   "cell_type": "code",
   "execution_count": 10,
   "metadata": {
    "scrolled": false
   },
   "outputs": [
    {
     "data": {
      "text/plain": [
       "customer_id           99441\n",
       "customer_unique_id    96096\n",
       "customer_state           27\n",
       "dtype: int64"
      ]
     },
     "execution_count": 10,
     "metadata": {},
     "output_type": "execute_result"
    }
   ],
   "source": [
    "customer_df.nunique()"
   ]
  },
  {
   "cell_type": "code",
   "execution_count": 8,
   "metadata": {
    "scrolled": false
   },
   "outputs": [
    {
     "data": {
      "text/html": [
       "<div>\n",
       "<style scoped>\n",
       "    .dataframe tbody tr th:only-of-type {\n",
       "        vertical-align: middle;\n",
       "    }\n",
       "\n",
       "    .dataframe tbody tr th {\n",
       "        vertical-align: top;\n",
       "    }\n",
       "\n",
       "    .dataframe thead th {\n",
       "        text-align: right;\n",
       "    }\n",
       "</style>\n",
       "<table border=\"1\" class=\"dataframe\">\n",
       "  <thead>\n",
       "    <tr style=\"text-align: right;\">\n",
       "      <th></th>\n",
       "      <th>customer_id</th>\n",
       "      <th>customer_unique_id</th>\n",
       "      <th>customer_zip_code_prefix</th>\n",
       "      <th>customer_city</th>\n",
       "      <th>customer_state</th>\n",
       "    </tr>\n",
       "  </thead>\n",
       "  <tbody>\n",
       "  </tbody>\n",
       "</table>\n",
       "</div>"
      ],
      "text/plain": [
       "Empty DataFrame\n",
       "Columns: [customer_id, customer_unique_id, customer_zip_code_prefix, customer_city, customer_state]\n",
       "Index: []"
      ]
     },
     "execution_count": 8,
     "metadata": {},
     "output_type": "execute_result"
    }
   ],
   "source": [
    "# duplicate rows of dataframe\n",
    "customer_df[customer_df.duplicated()]"
   ]
  },
  {
   "cell_type": "code",
   "execution_count": 11,
   "metadata": {
    "scrolled": false
   },
   "outputs": [
    {
     "data": {
      "text/html": [
       "<div>\n",
       "<style scoped>\n",
       "    .dataframe tbody tr th:only-of-type {\n",
       "        vertical-align: middle;\n",
       "    }\n",
       "\n",
       "    .dataframe tbody tr th {\n",
       "        vertical-align: top;\n",
       "    }\n",
       "\n",
       "    .dataframe thead th {\n",
       "        text-align: right;\n",
       "    }\n",
       "</style>\n",
       "<table border=\"1\" class=\"dataframe\">\n",
       "  <thead>\n",
       "    <tr style=\"text-align: right;\">\n",
       "      <th></th>\n",
       "      <th>customer_id</th>\n",
       "      <th>customer_unique_id</th>\n",
       "      <th>customer_state</th>\n",
       "    </tr>\n",
       "  </thead>\n",
       "  <tbody>\n",
       "    <tr>\n",
       "      <td>0</td>\n",
       "      <td>06b8999e2fba1a1fbc88172c00ba8bc7</td>\n",
       "      <td>861eff4711a542e4b93843c6dd7febb0</td>\n",
       "      <td>SP</td>\n",
       "    </tr>\n",
       "    <tr>\n",
       "      <td>1</td>\n",
       "      <td>18955e83d337fd6b2def6b18a428ac77</td>\n",
       "      <td>290c77bc529b7ac935b93aa66c333dc3</td>\n",
       "      <td>SP</td>\n",
       "    </tr>\n",
       "    <tr>\n",
       "      <td>2</td>\n",
       "      <td>4e7b3e00288586ebd08712fdd0374a03</td>\n",
       "      <td>060e732b5b29e8181a18229c7b0b2b5e</td>\n",
       "      <td>SP</td>\n",
       "    </tr>\n",
       "    <tr>\n",
       "      <td>3</td>\n",
       "      <td>b2b6027bc5c5109e529d4dc6358b12c3</td>\n",
       "      <td>259dac757896d24d7702b9acbbff3f3c</td>\n",
       "      <td>SP</td>\n",
       "    </tr>\n",
       "    <tr>\n",
       "      <td>4</td>\n",
       "      <td>4f2d8ab171c80ec8364f7c12e35b23ad</td>\n",
       "      <td>345ecd01c38d18a9036ed96c73b8d066</td>\n",
       "      <td>SP</td>\n",
       "    </tr>\n",
       "  </tbody>\n",
       "</table>\n",
       "</div>"
      ],
      "text/plain": [
       "                        customer_id                customer_unique_id  \\\n",
       "0  06b8999e2fba1a1fbc88172c00ba8bc7  861eff4711a542e4b93843c6dd7febb0   \n",
       "1  18955e83d337fd6b2def6b18a428ac77  290c77bc529b7ac935b93aa66c333dc3   \n",
       "2  4e7b3e00288586ebd08712fdd0374a03  060e732b5b29e8181a18229c7b0b2b5e   \n",
       "3  b2b6027bc5c5109e529d4dc6358b12c3  259dac757896d24d7702b9acbbff3f3c   \n",
       "4  4f2d8ab171c80ec8364f7c12e35b23ad  345ecd01c38d18a9036ed96c73b8d066   \n",
       "\n",
       "  customer_state  \n",
       "0             SP  \n",
       "1             SP  \n",
       "2             SP  \n",
       "3             SP  \n",
       "4             SP  "
      ]
     },
     "execution_count": 11,
     "metadata": {},
     "output_type": "execute_result"
    }
   ],
   "source": [
    "# head of values\n",
    "customer_df.head()"
   ]
  },
  {
   "cell_type": "markdown",
   "metadata": {},
   "source": [
    "## Payment Database"
   ]
  },
  {
   "cell_type": "code",
   "execution_count": 12,
   "metadata": {
    "scrolled": false
   },
   "outputs": [
    {
     "name": "stdout",
     "output_type": "stream",
     "text": [
      "<class 'pandas.core.frame.DataFrame'>\n",
      "RangeIndex: 103886 entries, 0 to 103885\n",
      "Data columns (total 5 columns):\n",
      "order_id                103886 non-null object\n",
      "payment_sequential      103886 non-null int64\n",
      "payment_type            103886 non-null object\n",
      "payment_installments    103886 non-null int64\n",
      "payment_value           103886 non-null float64\n",
      "dtypes: float64(1), int64(2), object(2)\n",
      "memory usage: 4.0+ MB\n"
     ]
    }
   ],
   "source": [
    "# read data and show its high-level information\n",
    "payment_df = pd.read_csv('olist_order_payments_dataset.csv')\n",
    "payment_df.info()"
   ]
  },
  {
   "cell_type": "code",
   "execution_count": 13,
   "metadata": {
    "scrolled": false
   },
   "outputs": [],
   "source": [
    "# drop irrelevant columns\n",
    "payment_df.drop('payment_sequential', axis='columns', inplace=True)"
   ]
  },
  {
   "cell_type": "code",
   "execution_count": 15,
   "metadata": {
    "scrolled": false
   },
   "outputs": [
    {
     "data": {
      "text/html": [
       "<div>\n",
       "<style scoped>\n",
       "    .dataframe tbody tr th:only-of-type {\n",
       "        vertical-align: middle;\n",
       "    }\n",
       "\n",
       "    .dataframe tbody tr th {\n",
       "        vertical-align: top;\n",
       "    }\n",
       "\n",
       "    .dataframe thead th {\n",
       "        text-align: right;\n",
       "    }\n",
       "</style>\n",
       "<table border=\"1\" class=\"dataframe\">\n",
       "  <thead>\n",
       "    <tr style=\"text-align: right;\">\n",
       "      <th></th>\n",
       "      <th>order_id</th>\n",
       "      <th>payment_type</th>\n",
       "      <th>payment_installments</th>\n",
       "      <th>payment_value</th>\n",
       "    </tr>\n",
       "  </thead>\n",
       "  <tbody>\n",
       "    <tr>\n",
       "      <td>0</td>\n",
       "      <td>b81ef226f3fe1789b1e8b2acac839d17</td>\n",
       "      <td>credit_card</td>\n",
       "      <td>8</td>\n",
       "      <td>99.33</td>\n",
       "    </tr>\n",
       "    <tr>\n",
       "      <td>1</td>\n",
       "      <td>a9810da82917af2d9aefd1278f1dcfa0</td>\n",
       "      <td>credit_card</td>\n",
       "      <td>1</td>\n",
       "      <td>24.39</td>\n",
       "    </tr>\n",
       "    <tr>\n",
       "      <td>2</td>\n",
       "      <td>25e8ea4e93396b6fa0d3dd708e76c1bd</td>\n",
       "      <td>credit_card</td>\n",
       "      <td>1</td>\n",
       "      <td>65.71</td>\n",
       "    </tr>\n",
       "    <tr>\n",
       "      <td>3</td>\n",
       "      <td>ba78997921bbcdc1373bb41e913ab953</td>\n",
       "      <td>credit_card</td>\n",
       "      <td>8</td>\n",
       "      <td>107.78</td>\n",
       "    </tr>\n",
       "    <tr>\n",
       "      <td>4</td>\n",
       "      <td>42fdf880ba16b47b59251dd489d4441a</td>\n",
       "      <td>credit_card</td>\n",
       "      <td>2</td>\n",
       "      <td>128.45</td>\n",
       "    </tr>\n",
       "  </tbody>\n",
       "</table>\n",
       "</div>"
      ],
      "text/plain": [
       "                           order_id payment_type  payment_installments  \\\n",
       "0  b81ef226f3fe1789b1e8b2acac839d17  credit_card                     8   \n",
       "1  a9810da82917af2d9aefd1278f1dcfa0  credit_card                     1   \n",
       "2  25e8ea4e93396b6fa0d3dd708e76c1bd  credit_card                     1   \n",
       "3  ba78997921bbcdc1373bb41e913ab953  credit_card                     8   \n",
       "4  42fdf880ba16b47b59251dd489d4441a  credit_card                     2   \n",
       "\n",
       "   payment_value  \n",
       "0          99.33  \n",
       "1          24.39  \n",
       "2          65.71  \n",
       "3         107.78  \n",
       "4         128.45  "
      ]
     },
     "execution_count": 15,
     "metadata": {},
     "output_type": "execute_result"
    }
   ],
   "source": [
    "# head of values\n",
    "payment_df.head()"
   ]
  },
  {
   "cell_type": "code",
   "execution_count": 14,
   "metadata": {
    "scrolled": false
   },
   "outputs": [
    {
     "data": {
      "text/html": [
       "<div>\n",
       "<style scoped>\n",
       "    .dataframe tbody tr th:only-of-type {\n",
       "        vertical-align: middle;\n",
       "    }\n",
       "\n",
       "    .dataframe tbody tr th {\n",
       "        vertical-align: top;\n",
       "    }\n",
       "\n",
       "    .dataframe thead th {\n",
       "        text-align: right;\n",
       "    }\n",
       "</style>\n",
       "<table border=\"1\" class=\"dataframe\">\n",
       "  <thead>\n",
       "    <tr style=\"text-align: right;\">\n",
       "      <th></th>\n",
       "      <th>order_id</th>\n",
       "      <th>payment_type</th>\n",
       "      <th>payment_installments</th>\n",
       "      <th>payment_value</th>\n",
       "    </tr>\n",
       "  </thead>\n",
       "  <tbody>\n",
       "    <tr>\n",
       "      <td>3675</td>\n",
       "      <td>8ca5bdac5ebe8f2d6fc9171d5ebc906a</td>\n",
       "      <td>voucher</td>\n",
       "      <td>1</td>\n",
       "      <td>15.00</td>\n",
       "    </tr>\n",
       "    <tr>\n",
       "      <td>4829</td>\n",
       "      <td>59d02be1c50fb6e6930cafd6ff6a31e5</td>\n",
       "      <td>voucher</td>\n",
       "      <td>1</td>\n",
       "      <td>20.00</td>\n",
       "    </tr>\n",
       "    <tr>\n",
       "      <td>5091</td>\n",
       "      <td>4689b1816de42507a7d63a4617383c59</td>\n",
       "      <td>voucher</td>\n",
       "      <td>1</td>\n",
       "      <td>56.42</td>\n",
       "    </tr>\n",
       "    <tr>\n",
       "      <td>6940</td>\n",
       "      <td>cf101c3abd3c061ca9f78c1bbb1125af</td>\n",
       "      <td>voucher</td>\n",
       "      <td>1</td>\n",
       "      <td>8.46</td>\n",
       "    </tr>\n",
       "    <tr>\n",
       "      <td>7441</td>\n",
       "      <td>d744783ed2ace06cac647a9e64dcbcfd</td>\n",
       "      <td>voucher</td>\n",
       "      <td>1</td>\n",
       "      <td>1.47</td>\n",
       "    </tr>\n",
       "    <tr>\n",
       "      <td>...</td>\n",
       "      <td>...</td>\n",
       "      <td>...</td>\n",
       "      <td>...</td>\n",
       "      <td>...</td>\n",
       "    </tr>\n",
       "    <tr>\n",
       "      <td>102942</td>\n",
       "      <td>dbc097913df341f30b9f9e92f459cee2</td>\n",
       "      <td>voucher</td>\n",
       "      <td>1</td>\n",
       "      <td>50.00</td>\n",
       "    </tr>\n",
       "    <tr>\n",
       "      <td>103046</td>\n",
       "      <td>c5fd5386640ddd76adc482b72d24a02b</td>\n",
       "      <td>voucher</td>\n",
       "      <td>1</td>\n",
       "      <td>5.79</td>\n",
       "    </tr>\n",
       "    <tr>\n",
       "      <td>103216</td>\n",
       "      <td>4d9190887b47ff1b89c657c788c038f6</td>\n",
       "      <td>voucher</td>\n",
       "      <td>1</td>\n",
       "      <td>12.80</td>\n",
       "    </tr>\n",
       "    <tr>\n",
       "      <td>103551</td>\n",
       "      <td>1ea11b975aea60ca92fa0559184d3d34</td>\n",
       "      <td>voucher</td>\n",
       "      <td>1</td>\n",
       "      <td>12.69</td>\n",
       "    </tr>\n",
       "    <tr>\n",
       "      <td>103747</td>\n",
       "      <td>cf101c3abd3c061ca9f78c1bbb1125af</td>\n",
       "      <td>voucher</td>\n",
       "      <td>1</td>\n",
       "      <td>8.46</td>\n",
       "    </tr>\n",
       "  </tbody>\n",
       "</table>\n",
       "<p>614 rows × 4 columns</p>\n",
       "</div>"
      ],
      "text/plain": [
       "                                order_id payment_type  payment_installments  \\\n",
       "3675    8ca5bdac5ebe8f2d6fc9171d5ebc906a      voucher                     1   \n",
       "4829    59d02be1c50fb6e6930cafd6ff6a31e5      voucher                     1   \n",
       "5091    4689b1816de42507a7d63a4617383c59      voucher                     1   \n",
       "6940    cf101c3abd3c061ca9f78c1bbb1125af      voucher                     1   \n",
       "7441    d744783ed2ace06cac647a9e64dcbcfd      voucher                     1   \n",
       "...                                  ...          ...                   ...   \n",
       "102942  dbc097913df341f30b9f9e92f459cee2      voucher                     1   \n",
       "103046  c5fd5386640ddd76adc482b72d24a02b      voucher                     1   \n",
       "103216  4d9190887b47ff1b89c657c788c038f6      voucher                     1   \n",
       "103551  1ea11b975aea60ca92fa0559184d3d34      voucher                     1   \n",
       "103747  cf101c3abd3c061ca9f78c1bbb1125af      voucher                     1   \n",
       "\n",
       "        payment_value  \n",
       "3675            15.00  \n",
       "4829            20.00  \n",
       "5091            56.42  \n",
       "6940             8.46  \n",
       "7441             1.47  \n",
       "...               ...  \n",
       "102942          50.00  \n",
       "103046           5.79  \n",
       "103216          12.80  \n",
       "103551          12.69  \n",
       "103747           8.46  \n",
       "\n",
       "[614 rows x 4 columns]"
      ]
     },
     "execution_count": 14,
     "metadata": {},
     "output_type": "execute_result"
    }
   ],
   "source": [
    "# duplicate rows of dataframe\n",
    "payment_df[payment_df.duplicated()]"
   ]
  },
  {
   "cell_type": "markdown",
   "metadata": {},
   "source": [
    "## Item Database"
   ]
  },
  {
   "cell_type": "code",
   "execution_count": 17,
   "metadata": {
    "scrolled": false
   },
   "outputs": [],
   "source": [
    "# read data and show its high-level information\n",
    "item_df = pd.read_csv('olist_order_items_dataset.csv')"
   ]
  },
  {
   "cell_type": "code",
   "execution_count": 18,
   "metadata": {
    "scrolled": false
   },
   "outputs": [
    {
     "name": "stdout",
     "output_type": "stream",
     "text": [
      "<class 'pandas.core.frame.DataFrame'>\n",
      "RangeIndex: 112650 entries, 0 to 112649\n",
      "Data columns (total 7 columns):\n",
      "order_id               112650 non-null object\n",
      "order_item_id          112650 non-null int64\n",
      "product_id             112650 non-null object\n",
      "seller_id              112650 non-null object\n",
      "shipping_limit_date    112650 non-null object\n",
      "price                  112650 non-null float64\n",
      "freight_value          112650 non-null float64\n",
      "dtypes: float64(2), int64(1), object(4)\n",
      "memory usage: 6.0+ MB\n"
     ]
    }
   ],
   "source": [
    "item_df.info()"
   ]
  },
  {
   "cell_type": "code",
   "execution_count": 19,
   "metadata": {
    "scrolled": false
   },
   "outputs": [],
   "source": [
    "# drop irrelevant columns\n",
    "item_df.drop('order_item_id', axis='columns', inplace=True)"
   ]
  },
  {
   "cell_type": "code",
   "execution_count": 21,
   "metadata": {
    "scrolled": false
   },
   "outputs": [
    {
     "data": {
      "text/plain": [
       "Index(['order_id', 'product_id', 'price', 'freight_value'], dtype='object')"
      ]
     },
     "execution_count": 21,
     "metadata": {},
     "output_type": "execute_result"
    }
   ],
   "source": [
    "# drop irrelevant columns\n",
    "item_df.drop(['seller_id',\n",
    "              'shipping_limit_date'], axis='columns', inplace=True)\n",
    "item_df.columns"
   ]
  },
  {
   "cell_type": "code",
   "execution_count": 20,
   "metadata": {
    "scrolled": false
   },
   "outputs": [
    {
     "data": {
      "text/html": [
       "<div>\n",
       "<style scoped>\n",
       "    .dataframe tbody tr th:only-of-type {\n",
       "        vertical-align: middle;\n",
       "    }\n",
       "\n",
       "    .dataframe tbody tr th {\n",
       "        vertical-align: top;\n",
       "    }\n",
       "\n",
       "    .dataframe thead th {\n",
       "        text-align: right;\n",
       "    }\n",
       "</style>\n",
       "<table border=\"1\" class=\"dataframe\">\n",
       "  <thead>\n",
       "    <tr style=\"text-align: right;\">\n",
       "      <th></th>\n",
       "      <th>order_id</th>\n",
       "      <th>product_id</th>\n",
       "      <th>seller_id</th>\n",
       "      <th>shipping_limit_date</th>\n",
       "      <th>price</th>\n",
       "      <th>freight_value</th>\n",
       "    </tr>\n",
       "  </thead>\n",
       "  <tbody>\n",
       "    <tr>\n",
       "      <td>14</td>\n",
       "      <td>0008288aa423d2a3f00fcb17cd7d8719</td>\n",
       "      <td>368c6c730842d78016ad823897a372db</td>\n",
       "      <td>1f50f920176fa81dab994f9023523100</td>\n",
       "      <td>2018-02-21 02:55:52</td>\n",
       "      <td>49.90</td>\n",
       "      <td>13.37</td>\n",
       "    </tr>\n",
       "    <tr>\n",
       "      <td>33</td>\n",
       "      <td>00143d0f86d6fbd9f9b38ab440ac16f5</td>\n",
       "      <td>e95ee6822b66ac6058e2e4aff656071a</td>\n",
       "      <td>a17f621c590ea0fab3d5d883e1630ec6</td>\n",
       "      <td>2017-10-20 16:07:52</td>\n",
       "      <td>21.33</td>\n",
       "      <td>15.10</td>\n",
       "    </tr>\n",
       "    <tr>\n",
       "      <td>34</td>\n",
       "      <td>00143d0f86d6fbd9f9b38ab440ac16f5</td>\n",
       "      <td>e95ee6822b66ac6058e2e4aff656071a</td>\n",
       "      <td>a17f621c590ea0fab3d5d883e1630ec6</td>\n",
       "      <td>2017-10-20 16:07:52</td>\n",
       "      <td>21.33</td>\n",
       "      <td>15.10</td>\n",
       "    </tr>\n",
       "    <tr>\n",
       "      <td>43</td>\n",
       "      <td>001ab0a7578dd66cd4b0a71f5b6e1e41</td>\n",
       "      <td>0b0172eb0fd18479d29c3bc122c058c2</td>\n",
       "      <td>5656537e588803a555b8eb41f07a944b</td>\n",
       "      <td>2018-01-04 02:33:42</td>\n",
       "      <td>24.89</td>\n",
       "      <td>17.63</td>\n",
       "    </tr>\n",
       "    <tr>\n",
       "      <td>44</td>\n",
       "      <td>001ab0a7578dd66cd4b0a71f5b6e1e41</td>\n",
       "      <td>0b0172eb0fd18479d29c3bc122c058c2</td>\n",
       "      <td>5656537e588803a555b8eb41f07a944b</td>\n",
       "      <td>2018-01-04 02:33:42</td>\n",
       "      <td>24.89</td>\n",
       "      <td>17.63</td>\n",
       "    </tr>\n",
       "    <tr>\n",
       "      <td>...</td>\n",
       "      <td>...</td>\n",
       "      <td>...</td>\n",
       "      <td>...</td>\n",
       "      <td>...</td>\n",
       "      <td>...</td>\n",
       "      <td>...</td>\n",
       "    </tr>\n",
       "    <tr>\n",
       "      <td>112617</td>\n",
       "      <td>ffecd5a79a0084f6a592288c67e3c298</td>\n",
       "      <td>50fd2b788dc166edd20512370dac54df</td>\n",
       "      <td>8b321bb669392f5163d04c59e235e066</td>\n",
       "      <td>2018-03-05 20:15:27</td>\n",
       "      <td>21.90</td>\n",
       "      <td>15.79</td>\n",
       "    </tr>\n",
       "    <tr>\n",
       "      <td>112635</td>\n",
       "      <td>fff8287bbae429a99bb7e8c21d151c41</td>\n",
       "      <td>bee2e070c39f3dd2f6883a17a5f0da45</td>\n",
       "      <td>4e922959ae960d389249c378d1c939f5</td>\n",
       "      <td>2018-03-27 12:29:22</td>\n",
       "      <td>180.00</td>\n",
       "      <td>48.14</td>\n",
       "    </tr>\n",
       "    <tr>\n",
       "      <td>112641</td>\n",
       "      <td>fffb9224b6fc7c43ebb0904318b10b5f</td>\n",
       "      <td>43423cdffde7fda63d0414ed38c11a73</td>\n",
       "      <td>b1fc4f64df5a0e8b6913ab38803c57a9</td>\n",
       "      <td>2017-11-03 02:55:58</td>\n",
       "      <td>55.00</td>\n",
       "      <td>34.19</td>\n",
       "    </tr>\n",
       "    <tr>\n",
       "      <td>112642</td>\n",
       "      <td>fffb9224b6fc7c43ebb0904318b10b5f</td>\n",
       "      <td>43423cdffde7fda63d0414ed38c11a73</td>\n",
       "      <td>b1fc4f64df5a0e8b6913ab38803c57a9</td>\n",
       "      <td>2017-11-03 02:55:58</td>\n",
       "      <td>55.00</td>\n",
       "      <td>34.19</td>\n",
       "    </tr>\n",
       "    <tr>\n",
       "      <td>112643</td>\n",
       "      <td>fffb9224b6fc7c43ebb0904318b10b5f</td>\n",
       "      <td>43423cdffde7fda63d0414ed38c11a73</td>\n",
       "      <td>b1fc4f64df5a0e8b6913ab38803c57a9</td>\n",
       "      <td>2017-11-03 02:55:58</td>\n",
       "      <td>55.00</td>\n",
       "      <td>34.19</td>\n",
       "    </tr>\n",
       "  </tbody>\n",
       "</table>\n",
       "<p>10225 rows × 6 columns</p>\n",
       "</div>"
      ],
      "text/plain": [
       "                                order_id                        product_id  \\\n",
       "14      0008288aa423d2a3f00fcb17cd7d8719  368c6c730842d78016ad823897a372db   \n",
       "33      00143d0f86d6fbd9f9b38ab440ac16f5  e95ee6822b66ac6058e2e4aff656071a   \n",
       "34      00143d0f86d6fbd9f9b38ab440ac16f5  e95ee6822b66ac6058e2e4aff656071a   \n",
       "43      001ab0a7578dd66cd4b0a71f5b6e1e41  0b0172eb0fd18479d29c3bc122c058c2   \n",
       "44      001ab0a7578dd66cd4b0a71f5b6e1e41  0b0172eb0fd18479d29c3bc122c058c2   \n",
       "...                                  ...                               ...   \n",
       "112617  ffecd5a79a0084f6a592288c67e3c298  50fd2b788dc166edd20512370dac54df   \n",
       "112635  fff8287bbae429a99bb7e8c21d151c41  bee2e070c39f3dd2f6883a17a5f0da45   \n",
       "112641  fffb9224b6fc7c43ebb0904318b10b5f  43423cdffde7fda63d0414ed38c11a73   \n",
       "112642  fffb9224b6fc7c43ebb0904318b10b5f  43423cdffde7fda63d0414ed38c11a73   \n",
       "112643  fffb9224b6fc7c43ebb0904318b10b5f  43423cdffde7fda63d0414ed38c11a73   \n",
       "\n",
       "                               seller_id  shipping_limit_date   price  \\\n",
       "14      1f50f920176fa81dab994f9023523100  2018-02-21 02:55:52   49.90   \n",
       "33      a17f621c590ea0fab3d5d883e1630ec6  2017-10-20 16:07:52   21.33   \n",
       "34      a17f621c590ea0fab3d5d883e1630ec6  2017-10-20 16:07:52   21.33   \n",
       "43      5656537e588803a555b8eb41f07a944b  2018-01-04 02:33:42   24.89   \n",
       "44      5656537e588803a555b8eb41f07a944b  2018-01-04 02:33:42   24.89   \n",
       "...                                  ...                  ...     ...   \n",
       "112617  8b321bb669392f5163d04c59e235e066  2018-03-05 20:15:27   21.90   \n",
       "112635  4e922959ae960d389249c378d1c939f5  2018-03-27 12:29:22  180.00   \n",
       "112641  b1fc4f64df5a0e8b6913ab38803c57a9  2017-11-03 02:55:58   55.00   \n",
       "112642  b1fc4f64df5a0e8b6913ab38803c57a9  2017-11-03 02:55:58   55.00   \n",
       "112643  b1fc4f64df5a0e8b6913ab38803c57a9  2017-11-03 02:55:58   55.00   \n",
       "\n",
       "        freight_value  \n",
       "14              13.37  \n",
       "33              15.10  \n",
       "34              15.10  \n",
       "43              17.63  \n",
       "44              17.63  \n",
       "...               ...  \n",
       "112617          15.79  \n",
       "112635          48.14  \n",
       "112641          34.19  \n",
       "112642          34.19  \n",
       "112643          34.19  \n",
       "\n",
       "[10225 rows x 6 columns]"
      ]
     },
     "execution_count": 20,
     "metadata": {},
     "output_type": "execute_result"
    }
   ],
   "source": [
    "# duplicate rows of dataframe\n",
    "item_df[item_df.duplicated()]"
   ]
  },
  {
   "cell_type": "code",
   "execution_count": 22,
   "metadata": {
    "scrolled": false
   },
   "outputs": [
    {
     "data": {
      "text/html": [
       "<div>\n",
       "<style scoped>\n",
       "    .dataframe tbody tr th:only-of-type {\n",
       "        vertical-align: middle;\n",
       "    }\n",
       "\n",
       "    .dataframe tbody tr th {\n",
       "        vertical-align: top;\n",
       "    }\n",
       "\n",
       "    .dataframe thead th {\n",
       "        text-align: right;\n",
       "    }\n",
       "</style>\n",
       "<table border=\"1\" class=\"dataframe\">\n",
       "  <thead>\n",
       "    <tr style=\"text-align: right;\">\n",
       "      <th></th>\n",
       "      <th>order_id</th>\n",
       "      <th>product_id</th>\n",
       "      <th>price</th>\n",
       "      <th>freight_value</th>\n",
       "    </tr>\n",
       "  </thead>\n",
       "  <tbody>\n",
       "    <tr>\n",
       "      <td>0</td>\n",
       "      <td>00010242fe8c5a6d1ba2dd792cb16214</td>\n",
       "      <td>4244733e06e7ecb4970a6e2683c13e61</td>\n",
       "      <td>58.90</td>\n",
       "      <td>13.29</td>\n",
       "    </tr>\n",
       "    <tr>\n",
       "      <td>1</td>\n",
       "      <td>00018f77f2f0320c557190d7a144bdd3</td>\n",
       "      <td>e5f2d52b802189ee658865ca93d83a8f</td>\n",
       "      <td>239.90</td>\n",
       "      <td>19.93</td>\n",
       "    </tr>\n",
       "    <tr>\n",
       "      <td>2</td>\n",
       "      <td>000229ec398224ef6ca0657da4fc703e</td>\n",
       "      <td>c777355d18b72b67abbeef9df44fd0fd</td>\n",
       "      <td>199.00</td>\n",
       "      <td>17.87</td>\n",
       "    </tr>\n",
       "    <tr>\n",
       "      <td>3</td>\n",
       "      <td>00024acbcdf0a6daa1e931b038114c75</td>\n",
       "      <td>7634da152a4610f1595efa32f14722fc</td>\n",
       "      <td>12.99</td>\n",
       "      <td>12.79</td>\n",
       "    </tr>\n",
       "    <tr>\n",
       "      <td>4</td>\n",
       "      <td>00042b26cf59d7ce69dfabb4e55b4fd9</td>\n",
       "      <td>ac6c3623068f30de03045865e4e10089</td>\n",
       "      <td>199.90</td>\n",
       "      <td>18.14</td>\n",
       "    </tr>\n",
       "  </tbody>\n",
       "</table>\n",
       "</div>"
      ],
      "text/plain": [
       "                           order_id                        product_id   price  \\\n",
       "0  00010242fe8c5a6d1ba2dd792cb16214  4244733e06e7ecb4970a6e2683c13e61   58.90   \n",
       "1  00018f77f2f0320c557190d7a144bdd3  e5f2d52b802189ee658865ca93d83a8f  239.90   \n",
       "2  000229ec398224ef6ca0657da4fc703e  c777355d18b72b67abbeef9df44fd0fd  199.00   \n",
       "3  00024acbcdf0a6daa1e931b038114c75  7634da152a4610f1595efa32f14722fc   12.99   \n",
       "4  00042b26cf59d7ce69dfabb4e55b4fd9  ac6c3623068f30de03045865e4e10089  199.90   \n",
       "\n",
       "   freight_value  \n",
       "0          13.29  \n",
       "1          19.93  \n",
       "2          17.87  \n",
       "3          12.79  \n",
       "4          18.14  "
      ]
     },
     "execution_count": 22,
     "metadata": {},
     "output_type": "execute_result"
    }
   ],
   "source": [
    "# head of values\n",
    "item_df.head()"
   ]
  },
  {
   "cell_type": "markdown",
   "metadata": {},
   "source": [
    "## Product Database"
   ]
  },
  {
   "cell_type": "code",
   "execution_count": 23,
   "metadata": {
    "scrolled": false
   },
   "outputs": [],
   "source": [
    "# read data and show its high-level information\n",
    "product_df = pd.read_csv('olist_products_dataset.csv')"
   ]
  },
  {
   "cell_type": "code",
   "execution_count": 24,
   "metadata": {
    "scrolled": false
   },
   "outputs": [
    {
     "name": "stdout",
     "output_type": "stream",
     "text": [
      "<class 'pandas.core.frame.DataFrame'>\n",
      "RangeIndex: 32951 entries, 0 to 32950\n",
      "Data columns (total 9 columns):\n",
      "product_id                    32951 non-null object\n",
      "product_category_name         32341 non-null object\n",
      "product_name_lenght           32341 non-null float64\n",
      "product_description_lenght    32341 non-null float64\n",
      "product_photos_qty            32341 non-null float64\n",
      "product_weight_g              32949 non-null float64\n",
      "product_length_cm             32949 non-null float64\n",
      "product_height_cm             32949 non-null float64\n",
      "product_width_cm              32949 non-null float64\n",
      "dtypes: float64(7), object(2)\n",
      "memory usage: 2.3+ MB\n"
     ]
    }
   ],
   "source": [
    "product_df.info()"
   ]
  },
  {
   "cell_type": "code",
   "execution_count": 26,
   "metadata": {
    "scrolled": false
   },
   "outputs": [
    {
     "name": "stdout",
     "output_type": "stream",
     "text": [
      "<class 'pandas.core.frame.DataFrame'>\n",
      "RangeIndex: 32951 entries, 0 to 32950\n",
      "Data columns (total 9 columns):\n",
      "product_id                    32951 non-null object\n",
      "product_category_name         32341 non-null object\n",
      "product_name_lenght           32951 non-null float64\n",
      "product_description_lenght    32951 non-null float64\n",
      "product_photos_qty            32951 non-null float64\n",
      "product_weight_g              32951 non-null float64\n",
      "product_length_cm             32951 non-null float64\n",
      "product_height_cm             32951 non-null float64\n",
      "product_width_cm              32951 non-null float64\n",
      "dtypes: float64(7), object(2)\n",
      "memory usage: 2.3+ MB\n"
     ]
    }
   ],
   "source": [
    "product_df.fillna(product_df.median(), inplace=True)\n",
    "product_df.info()"
   ]
  },
  {
   "cell_type": "code",
   "execution_count": 27,
   "metadata": {
    "scrolled": false
   },
   "outputs": [
    {
     "name": "stdout",
     "output_type": "stream",
     "text": [
      "<class 'pandas.core.frame.DataFrame'>\n",
      "RangeIndex: 32951 entries, 0 to 32950\n",
      "Data columns (total 9 columns):\n",
      "product_id                    32951 non-null object\n",
      "product_category_name         32951 non-null object\n",
      "product_name_lenght           32951 non-null float64\n",
      "product_description_lenght    32951 non-null float64\n",
      "product_photos_qty            32951 non-null float64\n",
      "product_weight_g              32951 non-null float64\n",
      "product_length_cm             32951 non-null float64\n",
      "product_height_cm             32951 non-null float64\n",
      "product_width_cm              32951 non-null float64\n",
      "dtypes: float64(7), object(2)\n",
      "memory usage: 2.3+ MB\n"
     ]
    }
   ],
   "source": [
    "product_df.fillna('other', inplace=True)\n",
    "product_df.info()"
   ]
  },
  {
   "cell_type": "code",
   "execution_count": 25,
   "metadata": {
    "scrolled": false
   },
   "outputs": [
    {
     "data": {
      "text/html": [
       "<div>\n",
       "<style scoped>\n",
       "    .dataframe tbody tr th:only-of-type {\n",
       "        vertical-align: middle;\n",
       "    }\n",
       "\n",
       "    .dataframe tbody tr th {\n",
       "        vertical-align: top;\n",
       "    }\n",
       "\n",
       "    .dataframe thead th {\n",
       "        text-align: right;\n",
       "    }\n",
       "</style>\n",
       "<table border=\"1\" class=\"dataframe\">\n",
       "  <thead>\n",
       "    <tr style=\"text-align: right;\">\n",
       "      <th></th>\n",
       "      <th>product_id</th>\n",
       "      <th>product_category_name</th>\n",
       "      <th>product_name_lenght</th>\n",
       "      <th>product_description_lenght</th>\n",
       "      <th>product_photos_qty</th>\n",
       "      <th>product_weight_g</th>\n",
       "      <th>product_length_cm</th>\n",
       "      <th>product_height_cm</th>\n",
       "      <th>product_width_cm</th>\n",
       "    </tr>\n",
       "  </thead>\n",
       "  <tbody>\n",
       "  </tbody>\n",
       "</table>\n",
       "</div>"
      ],
      "text/plain": [
       "Empty DataFrame\n",
       "Columns: [product_id, product_category_name, product_name_lenght, product_description_lenght, product_photos_qty, product_weight_g, product_length_cm, product_height_cm, product_width_cm]\n",
       "Index: []"
      ]
     },
     "execution_count": 25,
     "metadata": {},
     "output_type": "execute_result"
    }
   ],
   "source": [
    "# duplicate rows of dataframe\n",
    "product_df[product_df.duplicated()]"
   ]
  },
  {
   "cell_type": "code",
   "execution_count": 28,
   "metadata": {
    "scrolled": false
   },
   "outputs": [
    {
     "data": {
      "text/html": [
       "<div>\n",
       "<style scoped>\n",
       "    .dataframe tbody tr th:only-of-type {\n",
       "        vertical-align: middle;\n",
       "    }\n",
       "\n",
       "    .dataframe tbody tr th {\n",
       "        vertical-align: top;\n",
       "    }\n",
       "\n",
       "    .dataframe thead th {\n",
       "        text-align: right;\n",
       "    }\n",
       "</style>\n",
       "<table border=\"1\" class=\"dataframe\">\n",
       "  <thead>\n",
       "    <tr style=\"text-align: right;\">\n",
       "      <th></th>\n",
       "      <th>product_id</th>\n",
       "      <th>product_category_name</th>\n",
       "      <th>product_name_lenght</th>\n",
       "      <th>product_description_lenght</th>\n",
       "      <th>product_photos_qty</th>\n",
       "      <th>product_weight_g</th>\n",
       "      <th>product_length_cm</th>\n",
       "      <th>product_height_cm</th>\n",
       "      <th>product_width_cm</th>\n",
       "    </tr>\n",
       "  </thead>\n",
       "  <tbody>\n",
       "    <tr>\n",
       "      <td>0</td>\n",
       "      <td>1e9e8ef04dbcff4541ed26657ea517e5</td>\n",
       "      <td>perfumaria</td>\n",
       "      <td>40.0</td>\n",
       "      <td>287.0</td>\n",
       "      <td>1.0</td>\n",
       "      <td>225.0</td>\n",
       "      <td>16.0</td>\n",
       "      <td>10.0</td>\n",
       "      <td>14.0</td>\n",
       "    </tr>\n",
       "    <tr>\n",
       "      <td>1</td>\n",
       "      <td>3aa071139cb16b67ca9e5dea641aaa2f</td>\n",
       "      <td>artes</td>\n",
       "      <td>44.0</td>\n",
       "      <td>276.0</td>\n",
       "      <td>1.0</td>\n",
       "      <td>1000.0</td>\n",
       "      <td>30.0</td>\n",
       "      <td>18.0</td>\n",
       "      <td>20.0</td>\n",
       "    </tr>\n",
       "    <tr>\n",
       "      <td>2</td>\n",
       "      <td>96bd76ec8810374ed1b65e291975717f</td>\n",
       "      <td>esporte_lazer</td>\n",
       "      <td>46.0</td>\n",
       "      <td>250.0</td>\n",
       "      <td>1.0</td>\n",
       "      <td>154.0</td>\n",
       "      <td>18.0</td>\n",
       "      <td>9.0</td>\n",
       "      <td>15.0</td>\n",
       "    </tr>\n",
       "    <tr>\n",
       "      <td>3</td>\n",
       "      <td>cef67bcfe19066a932b7673e239eb23d</td>\n",
       "      <td>bebes</td>\n",
       "      <td>27.0</td>\n",
       "      <td>261.0</td>\n",
       "      <td>1.0</td>\n",
       "      <td>371.0</td>\n",
       "      <td>26.0</td>\n",
       "      <td>4.0</td>\n",
       "      <td>26.0</td>\n",
       "    </tr>\n",
       "    <tr>\n",
       "      <td>4</td>\n",
       "      <td>9dc1a7de274444849c219cff195d0b71</td>\n",
       "      <td>utilidades_domesticas</td>\n",
       "      <td>37.0</td>\n",
       "      <td>402.0</td>\n",
       "      <td>4.0</td>\n",
       "      <td>625.0</td>\n",
       "      <td>20.0</td>\n",
       "      <td>17.0</td>\n",
       "      <td>13.0</td>\n",
       "    </tr>\n",
       "  </tbody>\n",
       "</table>\n",
       "</div>"
      ],
      "text/plain": [
       "                         product_id  product_category_name  \\\n",
       "0  1e9e8ef04dbcff4541ed26657ea517e5             perfumaria   \n",
       "1  3aa071139cb16b67ca9e5dea641aaa2f                  artes   \n",
       "2  96bd76ec8810374ed1b65e291975717f          esporte_lazer   \n",
       "3  cef67bcfe19066a932b7673e239eb23d                  bebes   \n",
       "4  9dc1a7de274444849c219cff195d0b71  utilidades_domesticas   \n",
       "\n",
       "   product_name_lenght  product_description_lenght  product_photos_qty  \\\n",
       "0                 40.0                       287.0                 1.0   \n",
       "1                 44.0                       276.0                 1.0   \n",
       "2                 46.0                       250.0                 1.0   \n",
       "3                 27.0                       261.0                 1.0   \n",
       "4                 37.0                       402.0                 4.0   \n",
       "\n",
       "   product_weight_g  product_length_cm  product_height_cm  product_width_cm  \n",
       "0             225.0               16.0               10.0              14.0  \n",
       "1            1000.0               30.0               18.0              20.0  \n",
       "2             154.0               18.0                9.0              15.0  \n",
       "3             371.0               26.0                4.0              26.0  \n",
       "4             625.0               20.0               17.0              13.0  "
      ]
     },
     "execution_count": 28,
     "metadata": {},
     "output_type": "execute_result"
    }
   ],
   "source": [
    "# head of values\n",
    "product_df.head()"
   ]
  },
  {
   "cell_type": "markdown",
   "metadata": {},
   "source": [
    "## Translation Database"
   ]
  },
  {
   "cell_type": "code",
   "execution_count": 30,
   "metadata": {
    "scrolled": false
   },
   "outputs": [
    {
     "name": "stdout",
     "output_type": "stream",
     "text": [
      "<class 'pandas.core.frame.DataFrame'>\n",
      "RangeIndex: 71 entries, 0 to 70\n",
      "Data columns (total 2 columns):\n",
      "product_category_name            71 non-null object\n",
      "product_category_name_english    71 non-null object\n",
      "dtypes: object(2)\n",
      "memory usage: 1.2+ KB\n"
     ]
    },
    {
     "data": {
      "text/html": [
       "<div>\n",
       "<style scoped>\n",
       "    .dataframe tbody tr th:only-of-type {\n",
       "        vertical-align: middle;\n",
       "    }\n",
       "\n",
       "    .dataframe tbody tr th {\n",
       "        vertical-align: top;\n",
       "    }\n",
       "\n",
       "    .dataframe thead th {\n",
       "        text-align: right;\n",
       "    }\n",
       "</style>\n",
       "<table border=\"1\" class=\"dataframe\">\n",
       "  <thead>\n",
       "    <tr style=\"text-align: right;\">\n",
       "      <th></th>\n",
       "      <th>product_category_name</th>\n",
       "      <th>product_category_name_english</th>\n",
       "    </tr>\n",
       "  </thead>\n",
       "  <tbody>\n",
       "    <tr>\n",
       "      <td>0</td>\n",
       "      <td>beleza_saude</td>\n",
       "      <td>health_beauty</td>\n",
       "    </tr>\n",
       "    <tr>\n",
       "      <td>1</td>\n",
       "      <td>informatica_acessorios</td>\n",
       "      <td>computers_accessories</td>\n",
       "    </tr>\n",
       "    <tr>\n",
       "      <td>2</td>\n",
       "      <td>automotivo</td>\n",
       "      <td>auto</td>\n",
       "    </tr>\n",
       "    <tr>\n",
       "      <td>3</td>\n",
       "      <td>cama_mesa_banho</td>\n",
       "      <td>bed_bath_table</td>\n",
       "    </tr>\n",
       "    <tr>\n",
       "      <td>4</td>\n",
       "      <td>moveis_decoracao</td>\n",
       "      <td>furniture_decor</td>\n",
       "    </tr>\n",
       "  </tbody>\n",
       "</table>\n",
       "</div>"
      ],
      "text/plain": [
       "    product_category_name product_category_name_english\n",
       "0            beleza_saude                 health_beauty\n",
       "1  informatica_acessorios         computers_accessories\n",
       "2              automotivo                          auto\n",
       "3         cama_mesa_banho                bed_bath_table\n",
       "4        moveis_decoracao               furniture_decor"
      ]
     },
     "execution_count": 30,
     "metadata": {},
     "output_type": "execute_result"
    }
   ],
   "source": [
    "# read data and show its high-level information\n",
    "translation_df = pd.read_csv('product_category_name_translation.csv')\n",
    "translation_df.info()\n",
    "\n",
    "# head of values\n",
    "translation_df.head()"
   ]
  },
  {
   "cell_type": "markdown",
   "metadata": {},
   "source": [
    "## Review Database"
   ]
  },
  {
   "cell_type": "code",
   "execution_count": 31,
   "metadata": {
    "scrolled": false
   },
   "outputs": [
    {
     "name": "stdout",
     "output_type": "stream",
     "text": [
      "<class 'pandas.core.frame.DataFrame'>\n",
      "RangeIndex: 100000 entries, 0 to 99999\n",
      "Data columns (total 7 columns):\n",
      "review_id                  100000 non-null object\n",
      "order_id                   100000 non-null object\n",
      "review_score               100000 non-null int64\n",
      "review_comment_title       11715 non-null object\n",
      "review_comment_message     41753 non-null object\n",
      "review_creation_date       100000 non-null object\n",
      "review_answer_timestamp    100000 non-null object\n",
      "dtypes: int64(1), object(6)\n",
      "memory usage: 5.3+ MB\n"
     ]
    }
   ],
   "source": [
    "# read data and show its high-level information\n",
    "review_df = pd.read_csv('olist_order_reviews_dataset.csv')\n",
    "review_df.info()"
   ]
  },
  {
   "cell_type": "code",
   "execution_count": 33,
   "metadata": {
    "scrolled": false
   },
   "outputs": [
    {
     "data": {
      "text/plain": [
       "Index(['order_id', 'review_score', 'review_comment_title',\n",
       "       'review_comment_message'],\n",
       "      dtype='object')"
      ]
     },
     "execution_count": 33,
     "metadata": {},
     "output_type": "execute_result"
    }
   ],
   "source": [
    "# drop irrelevant columns\n",
    "review_df.drop(['review_id',\n",
    "                'review_creation_date',\n",
    "                'review_answer_timestamp'], axis='columns', inplace=True)\n",
    "review_df.columns"
   ]
  },
  {
   "cell_type": "code",
   "execution_count": 34,
   "metadata": {
    "scrolled": false
   },
   "outputs": [
    {
     "name": "stdout",
     "output_type": "stream",
     "text": [
      "<class 'pandas.core.frame.DataFrame'>\n",
      "RangeIndex: 100000 entries, 0 to 99999\n",
      "Data columns (total 4 columns):\n",
      "order_id                  100000 non-null object\n",
      "review_score              100000 non-null int64\n",
      "review_comment_title      100000 non-null int64\n",
      "review_comment_message    100000 non-null int64\n",
      "dtypes: int64(3), object(1)\n",
      "memory usage: 3.1+ MB\n"
     ]
    }
   ],
   "source": [
    "for columns in ['review_comment_title', 'review_comment_message']:\n",
    "    # replace present values with 1\n",
    "    review_df.loc[review_df[columns].notnull(), columns] = 1\n",
    "    # replace null values with 0\n",
    "    review_df.loc[review_df[columns].isna(), columns] = 0\n",
    "review_df.info()"
   ]
  },
  {
   "cell_type": "code",
   "execution_count": 32,
   "metadata": {
    "scrolled": false
   },
   "outputs": [
    {
     "data": {
      "text/html": [
       "<div>\n",
       "<style scoped>\n",
       "    .dataframe tbody tr th:only-of-type {\n",
       "        vertical-align: middle;\n",
       "    }\n",
       "\n",
       "    .dataframe tbody tr th {\n",
       "        vertical-align: top;\n",
       "    }\n",
       "\n",
       "    .dataframe thead th {\n",
       "        text-align: right;\n",
       "    }\n",
       "</style>\n",
       "<table border=\"1\" class=\"dataframe\">\n",
       "  <thead>\n",
       "    <tr style=\"text-align: right;\">\n",
       "      <th></th>\n",
       "      <th>review_id</th>\n",
       "      <th>order_id</th>\n",
       "      <th>review_score</th>\n",
       "      <th>review_comment_title</th>\n",
       "      <th>review_comment_message</th>\n",
       "      <th>review_creation_date</th>\n",
       "      <th>review_answer_timestamp</th>\n",
       "    </tr>\n",
       "  </thead>\n",
       "  <tbody>\n",
       "  </tbody>\n",
       "</table>\n",
       "</div>"
      ],
      "text/plain": [
       "Empty DataFrame\n",
       "Columns: [review_id, order_id, review_score, review_comment_title, review_comment_message, review_creation_date, review_answer_timestamp]\n",
       "Index: []"
      ]
     },
     "execution_count": 32,
     "metadata": {},
     "output_type": "execute_result"
    }
   ],
   "source": [
    "# duplicate rows of dataframe\n",
    "review_df[review_df.duplicated()]"
   ]
  },
  {
   "cell_type": "code",
   "execution_count": 35,
   "metadata": {
    "scrolled": false
   },
   "outputs": [
    {
     "data": {
      "text/html": [
       "<div>\n",
       "<style scoped>\n",
       "    .dataframe tbody tr th:only-of-type {\n",
       "        vertical-align: middle;\n",
       "    }\n",
       "\n",
       "    .dataframe tbody tr th {\n",
       "        vertical-align: top;\n",
       "    }\n",
       "\n",
       "    .dataframe thead th {\n",
       "        text-align: right;\n",
       "    }\n",
       "</style>\n",
       "<table border=\"1\" class=\"dataframe\">\n",
       "  <thead>\n",
       "    <tr style=\"text-align: right;\">\n",
       "      <th></th>\n",
       "      <th>order_id</th>\n",
       "      <th>review_score</th>\n",
       "      <th>review_comment_title</th>\n",
       "      <th>review_comment_message</th>\n",
       "    </tr>\n",
       "  </thead>\n",
       "  <tbody>\n",
       "    <tr>\n",
       "      <td>0</td>\n",
       "      <td>73fc7af87114b39712e6da79b0a377eb</td>\n",
       "      <td>4</td>\n",
       "      <td>0</td>\n",
       "      <td>0</td>\n",
       "    </tr>\n",
       "    <tr>\n",
       "      <td>1</td>\n",
       "      <td>a548910a1c6147796b98fdf73dbeba33</td>\n",
       "      <td>5</td>\n",
       "      <td>0</td>\n",
       "      <td>0</td>\n",
       "    </tr>\n",
       "    <tr>\n",
       "      <td>2</td>\n",
       "      <td>f9e4b658b201a9f2ecdecbb34bed034b</td>\n",
       "      <td>5</td>\n",
       "      <td>0</td>\n",
       "      <td>0</td>\n",
       "    </tr>\n",
       "    <tr>\n",
       "      <td>3</td>\n",
       "      <td>658677c97b385a9be170737859d3511b</td>\n",
       "      <td>5</td>\n",
       "      <td>0</td>\n",
       "      <td>1</td>\n",
       "    </tr>\n",
       "    <tr>\n",
       "      <td>4</td>\n",
       "      <td>8e6bfb81e283fa7e4f11123a3fb894f1</td>\n",
       "      <td>5</td>\n",
       "      <td>0</td>\n",
       "      <td>1</td>\n",
       "    </tr>\n",
       "  </tbody>\n",
       "</table>\n",
       "</div>"
      ],
      "text/plain": [
       "                           order_id  review_score  review_comment_title  \\\n",
       "0  73fc7af87114b39712e6da79b0a377eb             4                     0   \n",
       "1  a548910a1c6147796b98fdf73dbeba33             5                     0   \n",
       "2  f9e4b658b201a9f2ecdecbb34bed034b             5                     0   \n",
       "3  658677c97b385a9be170737859d3511b             5                     0   \n",
       "4  8e6bfb81e283fa7e4f11123a3fb894f1             5                     0   \n",
       "\n",
       "   review_comment_message  \n",
       "0                       0  \n",
       "1                       0  \n",
       "2                       0  \n",
       "3                       1  \n",
       "4                       1  "
      ]
     },
     "execution_count": 35,
     "metadata": {},
     "output_type": "execute_result"
    }
   ],
   "source": [
    "# head of values\n",
    "review_df.head()"
   ]
  },
  {
   "cell_type": "markdown",
   "metadata": {},
   "source": [
    "## Seller Database"
   ]
  },
  {
   "cell_type": "code",
   "execution_count": 39,
   "metadata": {
    "scrolled": false
   },
   "outputs": [
    {
     "name": "stdout",
     "output_type": "stream",
     "text": [
      "<class 'pandas.core.frame.DataFrame'>\n",
      "RangeIndex: 3095 entries, 0 to 3094\n",
      "Data columns (total 4 columns):\n",
      "seller_id                 3095 non-null object\n",
      "seller_zip_code_prefix    3095 non-null int64\n",
      "seller_city               3095 non-null object\n",
      "seller_state              3095 non-null object\n",
      "dtypes: int64(1), object(3)\n",
      "memory usage: 96.8+ KB\n"
     ]
    }
   ],
   "source": [
    "# read data and show its high-level information\n",
    "seller_df = pd.read_csv('olist_sellers_dataset.csv')\n",
    "seller_df.info()"
   ]
  },
  {
   "cell_type": "code",
   "execution_count": 40,
   "metadata": {
    "scrolled": false
   },
   "outputs": [
    {
     "data": {
      "text/plain": [
       "Index(['seller_id', 'seller_state'], dtype='object')"
      ]
     },
     "execution_count": 40,
     "metadata": {},
     "output_type": "execute_result"
    }
   ],
   "source": [
    "# drop irrelevant columns\n",
    "seller_df.drop(['seller_zip_code_prefix',\n",
    "                'seller_city'], axis='columns', inplace=True)\n",
    "seller_df.columns"
   ]
  },
  {
   "cell_type": "code",
   "execution_count": 32,
   "metadata": {
    "scrolled": false
   },
   "outputs": [
    {
     "data": {
      "text/html": [
       "<div>\n",
       "<style scoped>\n",
       "    .dataframe tbody tr th:only-of-type {\n",
       "        vertical-align: middle;\n",
       "    }\n",
       "\n",
       "    .dataframe tbody tr th {\n",
       "        vertical-align: top;\n",
       "    }\n",
       "\n",
       "    .dataframe thead th {\n",
       "        text-align: right;\n",
       "    }\n",
       "</style>\n",
       "<table border=\"1\" class=\"dataframe\">\n",
       "  <thead>\n",
       "    <tr style=\"text-align: right;\">\n",
       "      <th></th>\n",
       "      <th>review_id</th>\n",
       "      <th>order_id</th>\n",
       "      <th>review_score</th>\n",
       "      <th>review_comment_title</th>\n",
       "      <th>review_comment_message</th>\n",
       "      <th>review_creation_date</th>\n",
       "      <th>review_answer_timestamp</th>\n",
       "    </tr>\n",
       "  </thead>\n",
       "  <tbody>\n",
       "  </tbody>\n",
       "</table>\n",
       "</div>"
      ],
      "text/plain": [
       "Empty DataFrame\n",
       "Columns: [review_id, order_id, review_score, review_comment_title, review_comment_message, review_creation_date, review_answer_timestamp]\n",
       "Index: []"
      ]
     },
     "execution_count": 32,
     "metadata": {},
     "output_type": "execute_result"
    }
   ],
   "source": [
    "# duplicate rows of dataframe\n",
    "seller_df[seller_df.duplicated()]"
   ]
  },
  {
   "cell_type": "code",
   "execution_count": 35,
   "metadata": {
    "scrolled": false
   },
   "outputs": [
    {
     "data": {
      "text/html": [
       "<div>\n",
       "<style scoped>\n",
       "    .dataframe tbody tr th:only-of-type {\n",
       "        vertical-align: middle;\n",
       "    }\n",
       "\n",
       "    .dataframe tbody tr th {\n",
       "        vertical-align: top;\n",
       "    }\n",
       "\n",
       "    .dataframe thead th {\n",
       "        text-align: right;\n",
       "    }\n",
       "</style>\n",
       "<table border=\"1\" class=\"dataframe\">\n",
       "  <thead>\n",
       "    <tr style=\"text-align: right;\">\n",
       "      <th></th>\n",
       "      <th>order_id</th>\n",
       "      <th>review_score</th>\n",
       "      <th>review_comment_title</th>\n",
       "      <th>review_comment_message</th>\n",
       "    </tr>\n",
       "  </thead>\n",
       "  <tbody>\n",
       "    <tr>\n",
       "      <td>0</td>\n",
       "      <td>73fc7af87114b39712e6da79b0a377eb</td>\n",
       "      <td>4</td>\n",
       "      <td>0</td>\n",
       "      <td>0</td>\n",
       "    </tr>\n",
       "    <tr>\n",
       "      <td>1</td>\n",
       "      <td>a548910a1c6147796b98fdf73dbeba33</td>\n",
       "      <td>5</td>\n",
       "      <td>0</td>\n",
       "      <td>0</td>\n",
       "    </tr>\n",
       "    <tr>\n",
       "      <td>2</td>\n",
       "      <td>f9e4b658b201a9f2ecdecbb34bed034b</td>\n",
       "      <td>5</td>\n",
       "      <td>0</td>\n",
       "      <td>0</td>\n",
       "    </tr>\n",
       "    <tr>\n",
       "      <td>3</td>\n",
       "      <td>658677c97b385a9be170737859d3511b</td>\n",
       "      <td>5</td>\n",
       "      <td>0</td>\n",
       "      <td>1</td>\n",
       "    </tr>\n",
       "    <tr>\n",
       "      <td>4</td>\n",
       "      <td>8e6bfb81e283fa7e4f11123a3fb894f1</td>\n",
       "      <td>5</td>\n",
       "      <td>0</td>\n",
       "      <td>1</td>\n",
       "    </tr>\n",
       "  </tbody>\n",
       "</table>\n",
       "</div>"
      ],
      "text/plain": [
       "                           order_id  review_score  review_comment_title  \\\n",
       "0  73fc7af87114b39712e6da79b0a377eb             4                     0   \n",
       "1  a548910a1c6147796b98fdf73dbeba33             5                     0   \n",
       "2  f9e4b658b201a9f2ecdecbb34bed034b             5                     0   \n",
       "3  658677c97b385a9be170737859d3511b             5                     0   \n",
       "4  8e6bfb81e283fa7e4f11123a3fb894f1             5                     0   \n",
       "\n",
       "   review_comment_message  \n",
       "0                       0  \n",
       "1                       0  \n",
       "2                       0  \n",
       "3                       1  \n",
       "4                       1  "
      ]
     },
     "execution_count": 35,
     "metadata": {},
     "output_type": "execute_result"
    }
   ],
   "source": [
    "# head of values\n",
    "seller_df.head()"
   ]
  },
  {
   "cell_type": "markdown",
   "metadata": {},
   "source": [
    "## Database Joins"
   ]
  },
  {
   "cell_type": "code",
   "execution_count": 41,
   "metadata": {
    "scrolled": false
   },
   "outputs": [
    {
     "name": "stdout",
     "output_type": "stream",
     "text": [
      "<class 'pandas.core.frame.DataFrame'>\n",
      "Int64Index: 99441 entries, 0 to 99440\n",
      "Data columns (total 4 columns):\n",
      "order_id                    99441 non-null object\n",
      "order_purchase_timestamp    99441 non-null object\n",
      "customer_unique_id          99441 non-null object\n",
      "customer_state              99441 non-null object\n",
      "dtypes: object(4)\n",
      "memory usage: 3.8+ MB\n"
     ]
    }
   ],
   "source": [
    "oc_df = pd.merge(order_df, customer_df, how='left', on='customer_id')\n",
    "oc_df.drop('customer_id', axis='columns', inplace=True)\n",
    "oc_df.info()"
   ]
  },
  {
   "cell_type": "code",
   "execution_count": 42,
   "metadata": {
    "scrolled": false
   },
   "outputs": [
    {
     "name": "stdout",
     "output_type": "stream",
     "text": [
      "<class 'pandas.core.frame.DataFrame'>\n",
      "Int64Index: 103887 entries, 0 to 103886\n",
      "Data columns (total 7 columns):\n",
      "order_id                    103887 non-null object\n",
      "order_purchase_timestamp    103887 non-null object\n",
      "customer_unique_id          103887 non-null object\n",
      "customer_state              103887 non-null object\n",
      "payment_type                103886 non-null object\n",
      "payment_installments        103886 non-null float64\n",
      "payment_value               103886 non-null float64\n",
      "dtypes: float64(2), object(5)\n",
      "memory usage: 6.3+ MB\n"
     ]
    }
   ],
   "source": [
    "ocp_df = pd.merge(oc_df, payment_df, how='left', on='order_id')\n",
    "ocp_df.info()"
   ]
  },
  {
   "cell_type": "code",
   "execution_count": 43,
   "metadata": {
    "scrolled": false
   },
   "outputs": [
    {
     "name": "stdout",
     "output_type": "stream",
     "text": [
      "<class 'pandas.core.frame.DataFrame'>\n",
      "Int64Index: 104486 entries, 0 to 104485\n",
      "Data columns (total 10 columns):\n",
      "order_id                    104486 non-null object\n",
      "order_purchase_timestamp    104486 non-null object\n",
      "customer_unique_id          104486 non-null object\n",
      "customer_state              104486 non-null object\n",
      "payment_type                104485 non-null object\n",
      "payment_installments        104485 non-null float64\n",
      "payment_value               104485 non-null float64\n",
      "review_score                104486 non-null int64\n",
      "review_comment_title        104486 non-null int64\n",
      "review_comment_message      104486 non-null int64\n",
      "dtypes: float64(2), int64(3), object(5)\n",
      "memory usage: 8.8+ MB\n"
     ]
    }
   ],
   "source": [
    "ocpr_df = pd.merge(ocp_df, review_df, how='left', on='order_id')\n",
    "ocpr_df.info()"
   ]
  },
  {
   "cell_type": "code",
   "execution_count": 44,
   "metadata": {
    "scrolled": false
   },
   "outputs": [
    {
     "name": "stdout",
     "output_type": "stream",
     "text": [
      "<class 'pandas.core.frame.DataFrame'>\n",
      "Int64Index: 119151 entries, 0 to 119150\n",
      "Data columns (total 13 columns):\n",
      "order_id                    119151 non-null object\n",
      "order_purchase_timestamp    119151 non-null object\n",
      "customer_unique_id          119151 non-null object\n",
      "customer_state              119151 non-null object\n",
      "payment_type                119148 non-null object\n",
      "payment_installments        119148 non-null float64\n",
      "payment_value               119148 non-null float64\n",
      "review_score                119151 non-null int64\n",
      "review_comment_title        119151 non-null int64\n",
      "review_comment_message      119151 non-null int64\n",
      "product_id                  118318 non-null object\n",
      "price                       118318 non-null float64\n",
      "freight_value               118318 non-null float64\n",
      "dtypes: float64(4), int64(3), object(6)\n",
      "memory usage: 12.7+ MB\n"
     ]
    }
   ],
   "source": [
    "ocpri_df = pd.merge(ocpr_df, item_df, how='left', on='order_id')\n",
    "ocpri_df.info()"
   ]
  },
  {
   "cell_type": "code",
   "execution_count": 45,
   "metadata": {
    "scrolled": false
   },
   "outputs": [
    {
     "name": "stdout",
     "output_type": "stream",
     "text": [
      "<class 'pandas.core.frame.DataFrame'>\n",
      "Int64Index: 119151 entries, 0 to 119150\n",
      "Data columns (total 20 columns):\n",
      "order_id                      119151 non-null object\n",
      "order_purchase_timestamp      119151 non-null object\n",
      "customer_unique_id            119151 non-null object\n",
      "customer_state                119151 non-null object\n",
      "payment_type                  119148 non-null object\n",
      "payment_installments          119148 non-null float64\n",
      "payment_value                 119148 non-null float64\n",
      "review_score                  119151 non-null int64\n",
      "review_comment_title          119151 non-null int64\n",
      "review_comment_message        119151 non-null int64\n",
      "price                         118318 non-null float64\n",
      "freight_value                 118318 non-null float64\n",
      "product_category_name         118318 non-null object\n",
      "product_name_lenght           118318 non-null float64\n",
      "product_description_lenght    118318 non-null float64\n",
      "product_photos_qty            118318 non-null float64\n",
      "product_weight_g              118318 non-null float64\n",
      "product_length_cm             118318 non-null float64\n",
      "product_height_cm             118318 non-null float64\n",
      "product_width_cm              118318 non-null float64\n",
      "dtypes: float64(11), int64(3), object(6)\n",
      "memory usage: 19.1+ MB\n"
     ]
    }
   ],
   "source": [
    "ocprip_df = pd.merge(ocpri_df, product_df, how='left', on='product_id')\n",
    "ocprip_df.drop('product_id', axis='columns', inplace=True)\n",
    "ocprip_df.info()"
   ]
  },
  {
   "cell_type": "code",
   "execution_count": 46,
   "metadata": {
    "scrolled": false
   },
   "outputs": [],
   "source": [
    "ocprip_df.fillna(ocprip_df.median(), inplace=True)"
   ]
  },
  {
   "cell_type": "code",
   "execution_count": 47,
   "metadata": {
    "scrolled": false
   },
   "outputs": [],
   "source": [
    "for column in ['payment_type', 'product_category_name']:\n",
    "    ocprip_df[column].fillna(ocprip_df[column].value_counts().index[0], inplace=True)"
   ]
  },
  {
   "cell_type": "code",
   "execution_count": 48,
   "metadata": {
    "scrolled": false
   },
   "outputs": [
    {
     "name": "stdout",
     "output_type": "stream",
     "text": [
      "<class 'pandas.core.frame.DataFrame'>\n",
      "Int64Index: 119151 entries, 0 to 119150\n",
      "Data columns (total 20 columns):\n",
      "order_id                      119151 non-null object\n",
      "order_purchase_timestamp      119151 non-null object\n",
      "customer_unique_id            119151 non-null object\n",
      "customer_state                119151 non-null object\n",
      "payment_type                  119151 non-null object\n",
      "payment_installments          119151 non-null float64\n",
      "payment_value                 119151 non-null float64\n",
      "review_score                  119151 non-null int64\n",
      "review_comment_title          119151 non-null int64\n",
      "review_comment_message        119151 non-null int64\n",
      "price                         119151 non-null float64\n",
      "freight_value                 119151 non-null float64\n",
      "product_category_name         119151 non-null object\n",
      "product_name_lenght           119151 non-null float64\n",
      "product_description_lenght    119151 non-null float64\n",
      "product_photos_qty            119151 non-null float64\n",
      "product_weight_g              119151 non-null float64\n",
      "product_length_cm             119151 non-null float64\n",
      "product_height_cm             119151 non-null float64\n",
      "product_width_cm              119151 non-null float64\n",
      "dtypes: float64(11), int64(3), object(6)\n",
      "memory usage: 19.1+ MB\n"
     ]
    }
   ],
   "source": [
    "ocprip_df.info()"
   ]
  },
  {
   "cell_type": "markdown",
   "metadata": {},
   "source": [
    "# Feature Engineering"
   ]
  },
  {
   "cell_type": "code",
   "execution_count": 49,
   "metadata": {
    "scrolled": false
   },
   "outputs": [
    {
     "data": {
      "text/html": [
       "<div>\n",
       "<style scoped>\n",
       "    .dataframe tbody tr th:only-of-type {\n",
       "        vertical-align: middle;\n",
       "    }\n",
       "\n",
       "    .dataframe tbody tr th {\n",
       "        vertical-align: top;\n",
       "    }\n",
       "\n",
       "    .dataframe thead th {\n",
       "        text-align: right;\n",
       "    }\n",
       "</style>\n",
       "<table border=\"1\" class=\"dataframe\">\n",
       "  <thead>\n",
       "    <tr style=\"text-align: right;\">\n",
       "      <th></th>\n",
       "      <th>order_id</th>\n",
       "      <th>payment_value</th>\n",
       "      <th>payment_installments</th>\n",
       "      <th>review_score</th>\n",
       "      <th>price</th>\n",
       "      <th>freight_value</th>\n",
       "      <th>product_name_lenght</th>\n",
       "      <th>product_description_lenght</th>\n",
       "      <th>product_photos_qty</th>\n",
       "      <th>product_length_cm</th>\n",
       "      <th>product_height_cm</th>\n",
       "      <th>product_width_cm</th>\n",
       "      <th>review_comment_title</th>\n",
       "      <th>review_comment_message</th>\n",
       "      <th>payment_type</th>\n",
       "      <th>product_category_name</th>\n",
       "      <th>customer_state</th>\n",
       "      <th>order_purchase_timestamp</th>\n",
       "    </tr>\n",
       "    <tr>\n",
       "      <th>customer_unique_id</th>\n",
       "      <th></th>\n",
       "      <th></th>\n",
       "      <th></th>\n",
       "      <th></th>\n",
       "      <th></th>\n",
       "      <th></th>\n",
       "      <th></th>\n",
       "      <th></th>\n",
       "      <th></th>\n",
       "      <th></th>\n",
       "      <th></th>\n",
       "      <th></th>\n",
       "      <th></th>\n",
       "      <th></th>\n",
       "      <th></th>\n",
       "      <th></th>\n",
       "      <th></th>\n",
       "      <th></th>\n",
       "    </tr>\n",
       "  </thead>\n",
       "  <tbody>\n",
       "    <tr>\n",
       "      <td>0000366f3b9a7992bf8c76cfdf3221e2</td>\n",
       "      <td>1</td>\n",
       "      <td>141.90</td>\n",
       "      <td>8.0</td>\n",
       "      <td>5.0</td>\n",
       "      <td>129.90</td>\n",
       "      <td>12.00</td>\n",
       "      <td>60.0</td>\n",
       "      <td>236.0</td>\n",
       "      <td>1.0</td>\n",
       "      <td>34.0</td>\n",
       "      <td>7.0</td>\n",
       "      <td>32.0</td>\n",
       "      <td>1.0</td>\n",
       "      <td>1.0</td>\n",
       "      <td>credit_card</td>\n",
       "      <td>cama_mesa_banho</td>\n",
       "      <td>SP</td>\n",
       "      <td>160</td>\n",
       "    </tr>\n",
       "    <tr>\n",
       "      <td>0000b849f77a49e4a4ce2b2a4ca5be3f</td>\n",
       "      <td>1</td>\n",
       "      <td>27.19</td>\n",
       "      <td>1.0</td>\n",
       "      <td>4.0</td>\n",
       "      <td>18.90</td>\n",
       "      <td>8.29</td>\n",
       "      <td>56.0</td>\n",
       "      <td>635.0</td>\n",
       "      <td>1.0</td>\n",
       "      <td>26.0</td>\n",
       "      <td>11.0</td>\n",
       "      <td>18.0</td>\n",
       "      <td>0.0</td>\n",
       "      <td>0.0</td>\n",
       "      <td>credit_card</td>\n",
       "      <td>beleza_saude</td>\n",
       "      <td>SP</td>\n",
       "      <td>163</td>\n",
       "    </tr>\n",
       "    <tr>\n",
       "      <td>0000f46a3911fa3c0805444483337064</td>\n",
       "      <td>1</td>\n",
       "      <td>86.22</td>\n",
       "      <td>8.0</td>\n",
       "      <td>3.0</td>\n",
       "      <td>69.00</td>\n",
       "      <td>17.22</td>\n",
       "      <td>49.0</td>\n",
       "      <td>177.0</td>\n",
       "      <td>3.0</td>\n",
       "      <td>25.0</td>\n",
       "      <td>50.0</td>\n",
       "      <td>35.0</td>\n",
       "      <td>0.0</td>\n",
       "      <td>0.0</td>\n",
       "      <td>credit_card</td>\n",
       "      <td>papelaria</td>\n",
       "      <td>SC</td>\n",
       "      <td>586</td>\n",
       "    </tr>\n",
       "    <tr>\n",
       "      <td>0000f6ccb0745a6a4b88665a16c9f078</td>\n",
       "      <td>1</td>\n",
       "      <td>43.62</td>\n",
       "      <td>4.0</td>\n",
       "      <td>4.0</td>\n",
       "      <td>25.99</td>\n",
       "      <td>17.63</td>\n",
       "      <td>43.0</td>\n",
       "      <td>1741.0</td>\n",
       "      <td>5.0</td>\n",
       "      <td>19.0</td>\n",
       "      <td>5.0</td>\n",
       "      <td>11.0</td>\n",
       "      <td>0.0</td>\n",
       "      <td>1.0</td>\n",
       "      <td>credit_card</td>\n",
       "      <td>telefonia</td>\n",
       "      <td>PA</td>\n",
       "      <td>370</td>\n",
       "    </tr>\n",
       "    <tr>\n",
       "      <td>0004aac84e0df4da2b147fca70cf8255</td>\n",
       "      <td>1</td>\n",
       "      <td>196.89</td>\n",
       "      <td>6.0</td>\n",
       "      <td>5.0</td>\n",
       "      <td>180.00</td>\n",
       "      <td>16.89</td>\n",
       "      <td>58.0</td>\n",
       "      <td>794.0</td>\n",
       "      <td>3.0</td>\n",
       "      <td>16.0</td>\n",
       "      <td>3.0</td>\n",
       "      <td>11.0</td>\n",
       "      <td>0.0</td>\n",
       "      <td>0.0</td>\n",
       "      <td>credit_card</td>\n",
       "      <td>telefonia</td>\n",
       "      <td>SP</td>\n",
       "      <td>337</td>\n",
       "    </tr>\n",
       "    <tr>\n",
       "      <td>...</td>\n",
       "      <td>...</td>\n",
       "      <td>...</td>\n",
       "      <td>...</td>\n",
       "      <td>...</td>\n",
       "      <td>...</td>\n",
       "      <td>...</td>\n",
       "      <td>...</td>\n",
       "      <td>...</td>\n",
       "      <td>...</td>\n",
       "      <td>...</td>\n",
       "      <td>...</td>\n",
       "      <td>...</td>\n",
       "      <td>...</td>\n",
       "      <td>...</td>\n",
       "      <td>...</td>\n",
       "      <td>...</td>\n",
       "      <td>...</td>\n",
       "      <td>...</td>\n",
       "    </tr>\n",
       "    <tr>\n",
       "      <td>fffcf5a5ff07b0908bd4e2dbc735a684</td>\n",
       "      <td>2</td>\n",
       "      <td>4134.84</td>\n",
       "      <td>10.0</td>\n",
       "      <td>5.0</td>\n",
       "      <td>785.00</td>\n",
       "      <td>248.71</td>\n",
       "      <td>54.0</td>\n",
       "      <td>478.5</td>\n",
       "      <td>1.0</td>\n",
       "      <td>55.0</td>\n",
       "      <td>75.0</td>\n",
       "      <td>61.0</td>\n",
       "      <td>0.0</td>\n",
       "      <td>0.0</td>\n",
       "      <td>credit_card</td>\n",
       "      <td>beleza_saude</td>\n",
       "      <td>PE</td>\n",
       "      <td>496</td>\n",
       "    </tr>\n",
       "    <tr>\n",
       "      <td>fffea47cd6d3cc0a88bd621562a9d061</td>\n",
       "      <td>1</td>\n",
       "      <td>84.58</td>\n",
       "      <td>1.0</td>\n",
       "      <td>4.0</td>\n",
       "      <td>64.89</td>\n",
       "      <td>19.69</td>\n",
       "      <td>37.0</td>\n",
       "      <td>506.0</td>\n",
       "      <td>2.0</td>\n",
       "      <td>33.0</td>\n",
       "      <td>36.0</td>\n",
       "      <td>27.0</td>\n",
       "      <td>0.0</td>\n",
       "      <td>0.0</td>\n",
       "      <td>credit_card</td>\n",
       "      <td>bebes</td>\n",
       "      <td>BA</td>\n",
       "      <td>311</td>\n",
       "    </tr>\n",
       "    <tr>\n",
       "      <td>ffff371b4d645b6ecea244b27531430a</td>\n",
       "      <td>1</td>\n",
       "      <td>112.46</td>\n",
       "      <td>1.0</td>\n",
       "      <td>5.0</td>\n",
       "      <td>89.90</td>\n",
       "      <td>22.56</td>\n",
       "      <td>57.0</td>\n",
       "      <td>716.0</td>\n",
       "      <td>5.0</td>\n",
       "      <td>17.0</td>\n",
       "      <td>15.0</td>\n",
       "      <td>13.0</td>\n",
       "      <td>0.0</td>\n",
       "      <td>0.0</td>\n",
       "      <td>credit_card</td>\n",
       "      <td>automotivo</td>\n",
       "      <td>MT</td>\n",
       "      <td>617</td>\n",
       "    </tr>\n",
       "    <tr>\n",
       "      <td>ffff5962728ec6157033ef9805bacc48</td>\n",
       "      <td>1</td>\n",
       "      <td>133.69</td>\n",
       "      <td>5.0</td>\n",
       "      <td>5.0</td>\n",
       "      <td>115.00</td>\n",
       "      <td>18.69</td>\n",
       "      <td>35.0</td>\n",
       "      <td>591.0</td>\n",
       "      <td>3.0</td>\n",
       "      <td>20.0</td>\n",
       "      <td>14.0</td>\n",
       "      <td>16.0</td>\n",
       "      <td>1.0</td>\n",
       "      <td>1.0</td>\n",
       "      <td>credit_card</td>\n",
       "      <td>relogios_presentes</td>\n",
       "      <td>ES</td>\n",
       "      <td>168</td>\n",
       "    </tr>\n",
       "    <tr>\n",
       "      <td>ffffd2657e2aad2907e67c3e9daecbeb</td>\n",
       "      <td>1</td>\n",
       "      <td>71.56</td>\n",
       "      <td>4.0</td>\n",
       "      <td>5.0</td>\n",
       "      <td>56.99</td>\n",
       "      <td>14.57</td>\n",
       "      <td>45.0</td>\n",
       "      <td>1003.0</td>\n",
       "      <td>2.0</td>\n",
       "      <td>18.0</td>\n",
       "      <td>11.0</td>\n",
       "      <td>11.0</td>\n",
       "      <td>0.0</td>\n",
       "      <td>0.0</td>\n",
       "      <td>credit_card</td>\n",
       "      <td>perfumaria</td>\n",
       "      <td>PR</td>\n",
       "      <td>533</td>\n",
       "    </tr>\n",
       "  </tbody>\n",
       "</table>\n",
       "<p>96096 rows × 18 columns</p>\n",
       "</div>"
      ],
      "text/plain": [
       "                                  order_id  payment_value  \\\n",
       "customer_unique_id                                          \n",
       "0000366f3b9a7992bf8c76cfdf3221e2         1         141.90   \n",
       "0000b849f77a49e4a4ce2b2a4ca5be3f         1          27.19   \n",
       "0000f46a3911fa3c0805444483337064         1          86.22   \n",
       "0000f6ccb0745a6a4b88665a16c9f078         1          43.62   \n",
       "0004aac84e0df4da2b147fca70cf8255         1         196.89   \n",
       "...                                    ...            ...   \n",
       "fffcf5a5ff07b0908bd4e2dbc735a684         2        4134.84   \n",
       "fffea47cd6d3cc0a88bd621562a9d061         1          84.58   \n",
       "ffff371b4d645b6ecea244b27531430a         1         112.46   \n",
       "ffff5962728ec6157033ef9805bacc48         1         133.69   \n",
       "ffffd2657e2aad2907e67c3e9daecbeb         1          71.56   \n",
       "\n",
       "                                  payment_installments  review_score   price  \\\n",
       "customer_unique_id                                                             \n",
       "0000366f3b9a7992bf8c76cfdf3221e2                   8.0           5.0  129.90   \n",
       "0000b849f77a49e4a4ce2b2a4ca5be3f                   1.0           4.0   18.90   \n",
       "0000f46a3911fa3c0805444483337064                   8.0           3.0   69.00   \n",
       "0000f6ccb0745a6a4b88665a16c9f078                   4.0           4.0   25.99   \n",
       "0004aac84e0df4da2b147fca70cf8255                   6.0           5.0  180.00   \n",
       "...                                                ...           ...     ...   \n",
       "fffcf5a5ff07b0908bd4e2dbc735a684                  10.0           5.0  785.00   \n",
       "fffea47cd6d3cc0a88bd621562a9d061                   1.0           4.0   64.89   \n",
       "ffff371b4d645b6ecea244b27531430a                   1.0           5.0   89.90   \n",
       "ffff5962728ec6157033ef9805bacc48                   5.0           5.0  115.00   \n",
       "ffffd2657e2aad2907e67c3e9daecbeb                   4.0           5.0   56.99   \n",
       "\n",
       "                                  freight_value  product_name_lenght  \\\n",
       "customer_unique_id                                                     \n",
       "0000366f3b9a7992bf8c76cfdf3221e2          12.00                 60.0   \n",
       "0000b849f77a49e4a4ce2b2a4ca5be3f           8.29                 56.0   \n",
       "0000f46a3911fa3c0805444483337064          17.22                 49.0   \n",
       "0000f6ccb0745a6a4b88665a16c9f078          17.63                 43.0   \n",
       "0004aac84e0df4da2b147fca70cf8255          16.89                 58.0   \n",
       "...                                         ...                  ...   \n",
       "fffcf5a5ff07b0908bd4e2dbc735a684         248.71                 54.0   \n",
       "fffea47cd6d3cc0a88bd621562a9d061          19.69                 37.0   \n",
       "ffff371b4d645b6ecea244b27531430a          22.56                 57.0   \n",
       "ffff5962728ec6157033ef9805bacc48          18.69                 35.0   \n",
       "ffffd2657e2aad2907e67c3e9daecbeb          14.57                 45.0   \n",
       "\n",
       "                                  product_description_lenght  \\\n",
       "customer_unique_id                                             \n",
       "0000366f3b9a7992bf8c76cfdf3221e2                       236.0   \n",
       "0000b849f77a49e4a4ce2b2a4ca5be3f                       635.0   \n",
       "0000f46a3911fa3c0805444483337064                       177.0   \n",
       "0000f6ccb0745a6a4b88665a16c9f078                      1741.0   \n",
       "0004aac84e0df4da2b147fca70cf8255                       794.0   \n",
       "...                                                      ...   \n",
       "fffcf5a5ff07b0908bd4e2dbc735a684                       478.5   \n",
       "fffea47cd6d3cc0a88bd621562a9d061                       506.0   \n",
       "ffff371b4d645b6ecea244b27531430a                       716.0   \n",
       "ffff5962728ec6157033ef9805bacc48                       591.0   \n",
       "ffffd2657e2aad2907e67c3e9daecbeb                      1003.0   \n",
       "\n",
       "                                  product_photos_qty  product_length_cm  \\\n",
       "customer_unique_id                                                        \n",
       "0000366f3b9a7992bf8c76cfdf3221e2                 1.0               34.0   \n",
       "0000b849f77a49e4a4ce2b2a4ca5be3f                 1.0               26.0   \n",
       "0000f46a3911fa3c0805444483337064                 3.0               25.0   \n",
       "0000f6ccb0745a6a4b88665a16c9f078                 5.0               19.0   \n",
       "0004aac84e0df4da2b147fca70cf8255                 3.0               16.0   \n",
       "...                                              ...                ...   \n",
       "fffcf5a5ff07b0908bd4e2dbc735a684                 1.0               55.0   \n",
       "fffea47cd6d3cc0a88bd621562a9d061                 2.0               33.0   \n",
       "ffff371b4d645b6ecea244b27531430a                 5.0               17.0   \n",
       "ffff5962728ec6157033ef9805bacc48                 3.0               20.0   \n",
       "ffffd2657e2aad2907e67c3e9daecbeb                 2.0               18.0   \n",
       "\n",
       "                                  product_height_cm  product_width_cm  \\\n",
       "customer_unique_id                                                      \n",
       "0000366f3b9a7992bf8c76cfdf3221e2                7.0              32.0   \n",
       "0000b849f77a49e4a4ce2b2a4ca5be3f               11.0              18.0   \n",
       "0000f46a3911fa3c0805444483337064               50.0              35.0   \n",
       "0000f6ccb0745a6a4b88665a16c9f078                5.0              11.0   \n",
       "0004aac84e0df4da2b147fca70cf8255                3.0              11.0   \n",
       "...                                             ...               ...   \n",
       "fffcf5a5ff07b0908bd4e2dbc735a684               75.0              61.0   \n",
       "fffea47cd6d3cc0a88bd621562a9d061               36.0              27.0   \n",
       "ffff371b4d645b6ecea244b27531430a               15.0              13.0   \n",
       "ffff5962728ec6157033ef9805bacc48               14.0              16.0   \n",
       "ffffd2657e2aad2907e67c3e9daecbeb               11.0              11.0   \n",
       "\n",
       "                                  review_comment_title  \\\n",
       "customer_unique_id                                       \n",
       "0000366f3b9a7992bf8c76cfdf3221e2                   1.0   \n",
       "0000b849f77a49e4a4ce2b2a4ca5be3f                   0.0   \n",
       "0000f46a3911fa3c0805444483337064                   0.0   \n",
       "0000f6ccb0745a6a4b88665a16c9f078                   0.0   \n",
       "0004aac84e0df4da2b147fca70cf8255                   0.0   \n",
       "...                                                ...   \n",
       "fffcf5a5ff07b0908bd4e2dbc735a684                   0.0   \n",
       "fffea47cd6d3cc0a88bd621562a9d061                   0.0   \n",
       "ffff371b4d645b6ecea244b27531430a                   0.0   \n",
       "ffff5962728ec6157033ef9805bacc48                   1.0   \n",
       "ffffd2657e2aad2907e67c3e9daecbeb                   0.0   \n",
       "\n",
       "                                  review_comment_message payment_type  \\\n",
       "customer_unique_id                                                      \n",
       "0000366f3b9a7992bf8c76cfdf3221e2                     1.0  credit_card   \n",
       "0000b849f77a49e4a4ce2b2a4ca5be3f                     0.0  credit_card   \n",
       "0000f46a3911fa3c0805444483337064                     0.0  credit_card   \n",
       "0000f6ccb0745a6a4b88665a16c9f078                     1.0  credit_card   \n",
       "0004aac84e0df4da2b147fca70cf8255                     0.0  credit_card   \n",
       "...                                                  ...          ...   \n",
       "fffcf5a5ff07b0908bd4e2dbc735a684                     0.0  credit_card   \n",
       "fffea47cd6d3cc0a88bd621562a9d061                     0.0  credit_card   \n",
       "ffff371b4d645b6ecea244b27531430a                     0.0  credit_card   \n",
       "ffff5962728ec6157033ef9805bacc48                     1.0  credit_card   \n",
       "ffffd2657e2aad2907e67c3e9daecbeb                     0.0  credit_card   \n",
       "\n",
       "                                 product_category_name customer_state  \\\n",
       "customer_unique_id                                                      \n",
       "0000366f3b9a7992bf8c76cfdf3221e2       cama_mesa_banho             SP   \n",
       "0000b849f77a49e4a4ce2b2a4ca5be3f          beleza_saude             SP   \n",
       "0000f46a3911fa3c0805444483337064             papelaria             SC   \n",
       "0000f6ccb0745a6a4b88665a16c9f078             telefonia             PA   \n",
       "0004aac84e0df4da2b147fca70cf8255             telefonia             SP   \n",
       "...                                                ...            ...   \n",
       "fffcf5a5ff07b0908bd4e2dbc735a684          beleza_saude             PE   \n",
       "fffea47cd6d3cc0a88bd621562a9d061                 bebes             BA   \n",
       "ffff371b4d645b6ecea244b27531430a            automotivo             MT   \n",
       "ffff5962728ec6157033ef9805bacc48    relogios_presentes             ES   \n",
       "ffffd2657e2aad2907e67c3e9daecbeb            perfumaria             PR   \n",
       "\n",
       "                                  order_purchase_timestamp  \n",
       "customer_unique_id                                          \n",
       "0000366f3b9a7992bf8c76cfdf3221e2                       160  \n",
       "0000b849f77a49e4a4ce2b2a4ca5be3f                       163  \n",
       "0000f46a3911fa3c0805444483337064                       586  \n",
       "0000f6ccb0745a6a4b88665a16c9f078                       370  \n",
       "0004aac84e0df4da2b147fca70cf8255                       337  \n",
       "...                                                    ...  \n",
       "fffcf5a5ff07b0908bd4e2dbc735a684                       496  \n",
       "fffea47cd6d3cc0a88bd621562a9d061                       311  \n",
       "ffff371b4d645b6ecea244b27531430a                       617  \n",
       "ffff5962728ec6157033ef9805bacc48                       168  \n",
       "ffffd2657e2aad2907e67c3e9daecbeb                       533  \n",
       "\n",
       "[96096 rows x 18 columns]"
      ]
     },
     "execution_count": 49,
     "metadata": {},
     "output_type": "execute_result"
    }
   ],
   "source": [
    "# group features by customer with approperiate metric\n",
    "df = ocprip_df.groupby('customer_unique_id').agg({'order_id': 'count',\n",
    "                                                  'payment_value': 'sum',\n",
    "                                                  'payment_installments': 'mean',\n",
    "                                                  'review_score': 'mean',\n",
    "                                                  'price': 'mean',\n",
    "                                                  'freight_value': 'mean',\n",
    "                                                  'product_name_lenght': 'mean',\n",
    "                                                  'product_description_lenght': 'mean',\n",
    "                                                  'product_photos_qty': 'mean',\n",
    "                                                  'product_length_cm': 'mean',\n",
    "                                                  'product_height_cm': 'mean',\n",
    "                                                  'product_width_cm': 'mean',\n",
    "                                                  'review_comment_title': 'mean',\n",
    "                                                  'review_comment_message': 'mean',\n",
    "                                                  'payment_type': lambda x: x.value_counts().index[0],\n",
    "                                                  'product_category_name': lambda x: x.value_counts().index[0],\n",
    "                                                  'customer_state': lambda x: x.value_counts().index[0],\n",
    "                                                  'order_purchase_timestamp': lambda x: min((max(ocprip_df.order_purchase_timestamp)-x).dt.days)})\n",
    "df"
   ]
  },
  {
   "cell_type": "code",
   "execution_count": 22,
   "metadata": {
    "scrolled": false
   },
   "outputs": [
    {
     "data": {
      "text/html": [
       "<div>\n",
       "<style scoped>\n",
       "    .dataframe tbody tr th:only-of-type {\n",
       "        vertical-align: middle;\n",
       "    }\n",
       "\n",
       "    .dataframe tbody tr th {\n",
       "        vertical-align: top;\n",
       "    }\n",
       "\n",
       "    .dataframe thead th {\n",
       "        text-align: right;\n",
       "    }\n",
       "</style>\n",
       "<table border=\"1\" class=\"dataframe\">\n",
       "  <thead>\n",
       "    <tr style=\"text-align: right;\">\n",
       "      <th></th>\n",
       "      <th>order_id</th>\n",
       "      <th>payment_value</th>\n",
       "      <th>payment_installments</th>\n",
       "      <th>review_score</th>\n",
       "      <th>price</th>\n",
       "      <th>freight_value</th>\n",
       "      <th>product_name_lenght</th>\n",
       "      <th>product_description_lenght</th>\n",
       "      <th>product_photos_qty</th>\n",
       "      <th>product_length_cm</th>\n",
       "      <th>product_height_cm</th>\n",
       "      <th>product_width_cm</th>\n",
       "      <th>review_comment_title</th>\n",
       "      <th>review_comment_message</th>\n",
       "      <th>payment_type</th>\n",
       "      <th>product_category_name</th>\n",
       "      <th>customer_state</th>\n",
       "      <th>order_purchase_timestamp</th>\n",
       "    </tr>\n",
       "    <tr>\n",
       "      <th>customer_unique_id</th>\n",
       "      <th></th>\n",
       "      <th></th>\n",
       "      <th></th>\n",
       "      <th></th>\n",
       "      <th></th>\n",
       "      <th></th>\n",
       "      <th></th>\n",
       "      <th></th>\n",
       "      <th></th>\n",
       "      <th></th>\n",
       "      <th></th>\n",
       "      <th></th>\n",
       "      <th></th>\n",
       "      <th></th>\n",
       "      <th></th>\n",
       "      <th></th>\n",
       "      <th></th>\n",
       "      <th></th>\n",
       "    </tr>\n",
       "  </thead>\n",
       "  <tbody>\n",
       "    <tr>\n",
       "      <td>0000366f3b9a7992bf8c76cfdf3221e2</td>\n",
       "      <td>1</td>\n",
       "      <td>141.90</td>\n",
       "      <td>8.0</td>\n",
       "      <td>5.0</td>\n",
       "      <td>129.90</td>\n",
       "      <td>12.00</td>\n",
       "      <td>60.0</td>\n",
       "      <td>236.0</td>\n",
       "      <td>1.0</td>\n",
       "      <td>34.0</td>\n",
       "      <td>7.0</td>\n",
       "      <td>32.0</td>\n",
       "      <td>1.0</td>\n",
       "      <td>1.0</td>\n",
       "      <td>credit_card</td>\n",
       "      <td>cama_mesa_banho</td>\n",
       "      <td>SP</td>\n",
       "      <td>160</td>\n",
       "    </tr>\n",
       "    <tr>\n",
       "      <td>0000b849f77a49e4a4ce2b2a4ca5be3f</td>\n",
       "      <td>1</td>\n",
       "      <td>27.19</td>\n",
       "      <td>1.0</td>\n",
       "      <td>4.0</td>\n",
       "      <td>18.90</td>\n",
       "      <td>8.29</td>\n",
       "      <td>56.0</td>\n",
       "      <td>635.0</td>\n",
       "      <td>1.0</td>\n",
       "      <td>26.0</td>\n",
       "      <td>11.0</td>\n",
       "      <td>18.0</td>\n",
       "      <td>0.0</td>\n",
       "      <td>0.0</td>\n",
       "      <td>credit_card</td>\n",
       "      <td>beleza_saude</td>\n",
       "      <td>SP</td>\n",
       "      <td>163</td>\n",
       "    </tr>\n",
       "    <tr>\n",
       "      <td>0000f46a3911fa3c0805444483337064</td>\n",
       "      <td>1</td>\n",
       "      <td>86.22</td>\n",
       "      <td>8.0</td>\n",
       "      <td>3.0</td>\n",
       "      <td>69.00</td>\n",
       "      <td>17.22</td>\n",
       "      <td>49.0</td>\n",
       "      <td>177.0</td>\n",
       "      <td>3.0</td>\n",
       "      <td>25.0</td>\n",
       "      <td>50.0</td>\n",
       "      <td>35.0</td>\n",
       "      <td>0.0</td>\n",
       "      <td>0.0</td>\n",
       "      <td>credit_card</td>\n",
       "      <td>papelaria</td>\n",
       "      <td>SC</td>\n",
       "      <td>586</td>\n",
       "    </tr>\n",
       "    <tr>\n",
       "      <td>0000f6ccb0745a6a4b88665a16c9f078</td>\n",
       "      <td>1</td>\n",
       "      <td>43.62</td>\n",
       "      <td>4.0</td>\n",
       "      <td>4.0</td>\n",
       "      <td>25.99</td>\n",
       "      <td>17.63</td>\n",
       "      <td>43.0</td>\n",
       "      <td>1741.0</td>\n",
       "      <td>5.0</td>\n",
       "      <td>19.0</td>\n",
       "      <td>5.0</td>\n",
       "      <td>11.0</td>\n",
       "      <td>0.0</td>\n",
       "      <td>1.0</td>\n",
       "      <td>credit_card</td>\n",
       "      <td>telefonia</td>\n",
       "      <td>PA</td>\n",
       "      <td>370</td>\n",
       "    </tr>\n",
       "    <tr>\n",
       "      <td>0004aac84e0df4da2b147fca70cf8255</td>\n",
       "      <td>1</td>\n",
       "      <td>196.89</td>\n",
       "      <td>6.0</td>\n",
       "      <td>5.0</td>\n",
       "      <td>180.00</td>\n",
       "      <td>16.89</td>\n",
       "      <td>58.0</td>\n",
       "      <td>794.0</td>\n",
       "      <td>3.0</td>\n",
       "      <td>16.0</td>\n",
       "      <td>3.0</td>\n",
       "      <td>11.0</td>\n",
       "      <td>0.0</td>\n",
       "      <td>0.0</td>\n",
       "      <td>credit_card</td>\n",
       "      <td>telefonia</td>\n",
       "      <td>SP</td>\n",
       "      <td>337</td>\n",
       "    </tr>\n",
       "    <tr>\n",
       "      <td>...</td>\n",
       "      <td>...</td>\n",
       "      <td>...</td>\n",
       "      <td>...</td>\n",
       "      <td>...</td>\n",
       "      <td>...</td>\n",
       "      <td>...</td>\n",
       "      <td>...</td>\n",
       "      <td>...</td>\n",
       "      <td>...</td>\n",
       "      <td>...</td>\n",
       "      <td>...</td>\n",
       "      <td>...</td>\n",
       "      <td>...</td>\n",
       "      <td>...</td>\n",
       "      <td>...</td>\n",
       "      <td>...</td>\n",
       "      <td>...</td>\n",
       "      <td>...</td>\n",
       "    </tr>\n",
       "    <tr>\n",
       "      <td>fffcf5a5ff07b0908bd4e2dbc735a684</td>\n",
       "      <td>2</td>\n",
       "      <td>4134.84</td>\n",
       "      <td>10.0</td>\n",
       "      <td>5.0</td>\n",
       "      <td>785.00</td>\n",
       "      <td>248.71</td>\n",
       "      <td>54.0</td>\n",
       "      <td>478.5</td>\n",
       "      <td>1.0</td>\n",
       "      <td>55.0</td>\n",
       "      <td>75.0</td>\n",
       "      <td>61.0</td>\n",
       "      <td>0.0</td>\n",
       "      <td>0.0</td>\n",
       "      <td>credit_card</td>\n",
       "      <td>beleza_saude</td>\n",
       "      <td>PE</td>\n",
       "      <td>496</td>\n",
       "    </tr>\n",
       "    <tr>\n",
       "      <td>fffea47cd6d3cc0a88bd621562a9d061</td>\n",
       "      <td>1</td>\n",
       "      <td>84.58</td>\n",
       "      <td>1.0</td>\n",
       "      <td>4.0</td>\n",
       "      <td>64.89</td>\n",
       "      <td>19.69</td>\n",
       "      <td>37.0</td>\n",
       "      <td>506.0</td>\n",
       "      <td>2.0</td>\n",
       "      <td>33.0</td>\n",
       "      <td>36.0</td>\n",
       "      <td>27.0</td>\n",
       "      <td>0.0</td>\n",
       "      <td>0.0</td>\n",
       "      <td>credit_card</td>\n",
       "      <td>bebes</td>\n",
       "      <td>BA</td>\n",
       "      <td>311</td>\n",
       "    </tr>\n",
       "    <tr>\n",
       "      <td>ffff371b4d645b6ecea244b27531430a</td>\n",
       "      <td>1</td>\n",
       "      <td>112.46</td>\n",
       "      <td>1.0</td>\n",
       "      <td>5.0</td>\n",
       "      <td>89.90</td>\n",
       "      <td>22.56</td>\n",
       "      <td>57.0</td>\n",
       "      <td>716.0</td>\n",
       "      <td>5.0</td>\n",
       "      <td>17.0</td>\n",
       "      <td>15.0</td>\n",
       "      <td>13.0</td>\n",
       "      <td>0.0</td>\n",
       "      <td>0.0</td>\n",
       "      <td>credit_card</td>\n",
       "      <td>automotivo</td>\n",
       "      <td>MT</td>\n",
       "      <td>617</td>\n",
       "    </tr>\n",
       "    <tr>\n",
       "      <td>ffff5962728ec6157033ef9805bacc48</td>\n",
       "      <td>1</td>\n",
       "      <td>133.69</td>\n",
       "      <td>5.0</td>\n",
       "      <td>5.0</td>\n",
       "      <td>115.00</td>\n",
       "      <td>18.69</td>\n",
       "      <td>35.0</td>\n",
       "      <td>591.0</td>\n",
       "      <td>3.0</td>\n",
       "      <td>20.0</td>\n",
       "      <td>14.0</td>\n",
       "      <td>16.0</td>\n",
       "      <td>1.0</td>\n",
       "      <td>1.0</td>\n",
       "      <td>credit_card</td>\n",
       "      <td>relogios_presentes</td>\n",
       "      <td>ES</td>\n",
       "      <td>168</td>\n",
       "    </tr>\n",
       "    <tr>\n",
       "      <td>ffffd2657e2aad2907e67c3e9daecbeb</td>\n",
       "      <td>1</td>\n",
       "      <td>71.56</td>\n",
       "      <td>4.0</td>\n",
       "      <td>5.0</td>\n",
       "      <td>56.99</td>\n",
       "      <td>14.57</td>\n",
       "      <td>45.0</td>\n",
       "      <td>1003.0</td>\n",
       "      <td>2.0</td>\n",
       "      <td>18.0</td>\n",
       "      <td>11.0</td>\n",
       "      <td>11.0</td>\n",
       "      <td>0.0</td>\n",
       "      <td>0.0</td>\n",
       "      <td>credit_card</td>\n",
       "      <td>perfumaria</td>\n",
       "      <td>PR</td>\n",
       "      <td>533</td>\n",
       "    </tr>\n",
       "  </tbody>\n",
       "</table>\n",
       "<p>96096 rows × 18 columns</p>\n",
       "</div>"
      ],
      "text/plain": [
       "                                  order_id  payment_value  \\\n",
       "customer_unique_id                                          \n",
       "0000366f3b9a7992bf8c76cfdf3221e2         1         141.90   \n",
       "0000b849f77a49e4a4ce2b2a4ca5be3f         1          27.19   \n",
       "0000f46a3911fa3c0805444483337064         1          86.22   \n",
       "0000f6ccb0745a6a4b88665a16c9f078         1          43.62   \n",
       "0004aac84e0df4da2b147fca70cf8255         1         196.89   \n",
       "...                                    ...            ...   \n",
       "fffcf5a5ff07b0908bd4e2dbc735a684         2        4134.84   \n",
       "fffea47cd6d3cc0a88bd621562a9d061         1          84.58   \n",
       "ffff371b4d645b6ecea244b27531430a         1         112.46   \n",
       "ffff5962728ec6157033ef9805bacc48         1         133.69   \n",
       "ffffd2657e2aad2907e67c3e9daecbeb         1          71.56   \n",
       "\n",
       "                                  payment_installments  review_score   price  \\\n",
       "customer_unique_id                                                             \n",
       "0000366f3b9a7992bf8c76cfdf3221e2                   8.0           5.0  129.90   \n",
       "0000b849f77a49e4a4ce2b2a4ca5be3f                   1.0           4.0   18.90   \n",
       "0000f46a3911fa3c0805444483337064                   8.0           3.0   69.00   \n",
       "0000f6ccb0745a6a4b88665a16c9f078                   4.0           4.0   25.99   \n",
       "0004aac84e0df4da2b147fca70cf8255                   6.0           5.0  180.00   \n",
       "...                                                ...           ...     ...   \n",
       "fffcf5a5ff07b0908bd4e2dbc735a684                  10.0           5.0  785.00   \n",
       "fffea47cd6d3cc0a88bd621562a9d061                   1.0           4.0   64.89   \n",
       "ffff371b4d645b6ecea244b27531430a                   1.0           5.0   89.90   \n",
       "ffff5962728ec6157033ef9805bacc48                   5.0           5.0  115.00   \n",
       "ffffd2657e2aad2907e67c3e9daecbeb                   4.0           5.0   56.99   \n",
       "\n",
       "                                  freight_value  product_name_lenght  \\\n",
       "customer_unique_id                                                     \n",
       "0000366f3b9a7992bf8c76cfdf3221e2          12.00                 60.0   \n",
       "0000b849f77a49e4a4ce2b2a4ca5be3f           8.29                 56.0   \n",
       "0000f46a3911fa3c0805444483337064          17.22                 49.0   \n",
       "0000f6ccb0745a6a4b88665a16c9f078          17.63                 43.0   \n",
       "0004aac84e0df4da2b147fca70cf8255          16.89                 58.0   \n",
       "...                                         ...                  ...   \n",
       "fffcf5a5ff07b0908bd4e2dbc735a684         248.71                 54.0   \n",
       "fffea47cd6d3cc0a88bd621562a9d061          19.69                 37.0   \n",
       "ffff371b4d645b6ecea244b27531430a          22.56                 57.0   \n",
       "ffff5962728ec6157033ef9805bacc48          18.69                 35.0   \n",
       "ffffd2657e2aad2907e67c3e9daecbeb          14.57                 45.0   \n",
       "\n",
       "                                  product_description_lenght  \\\n",
       "customer_unique_id                                             \n",
       "0000366f3b9a7992bf8c76cfdf3221e2                       236.0   \n",
       "0000b849f77a49e4a4ce2b2a4ca5be3f                       635.0   \n",
       "0000f46a3911fa3c0805444483337064                       177.0   \n",
       "0000f6ccb0745a6a4b88665a16c9f078                      1741.0   \n",
       "0004aac84e0df4da2b147fca70cf8255                       794.0   \n",
       "...                                                      ...   \n",
       "fffcf5a5ff07b0908bd4e2dbc735a684                       478.5   \n",
       "fffea47cd6d3cc0a88bd621562a9d061                       506.0   \n",
       "ffff371b4d645b6ecea244b27531430a                       716.0   \n",
       "ffff5962728ec6157033ef9805bacc48                       591.0   \n",
       "ffffd2657e2aad2907e67c3e9daecbeb                      1003.0   \n",
       "\n",
       "                                  product_photos_qty  product_length_cm  \\\n",
       "customer_unique_id                                                        \n",
       "0000366f3b9a7992bf8c76cfdf3221e2                 1.0               34.0   \n",
       "0000b849f77a49e4a4ce2b2a4ca5be3f                 1.0               26.0   \n",
       "0000f46a3911fa3c0805444483337064                 3.0               25.0   \n",
       "0000f6ccb0745a6a4b88665a16c9f078                 5.0               19.0   \n",
       "0004aac84e0df4da2b147fca70cf8255                 3.0               16.0   \n",
       "...                                              ...                ...   \n",
       "fffcf5a5ff07b0908bd4e2dbc735a684                 1.0               55.0   \n",
       "fffea47cd6d3cc0a88bd621562a9d061                 2.0               33.0   \n",
       "ffff371b4d645b6ecea244b27531430a                 5.0               17.0   \n",
       "ffff5962728ec6157033ef9805bacc48                 3.0               20.0   \n",
       "ffffd2657e2aad2907e67c3e9daecbeb                 2.0               18.0   \n",
       "\n",
       "                                  product_height_cm  product_width_cm  \\\n",
       "customer_unique_id                                                      \n",
       "0000366f3b9a7992bf8c76cfdf3221e2                7.0              32.0   \n",
       "0000b849f77a49e4a4ce2b2a4ca5be3f               11.0              18.0   \n",
       "0000f46a3911fa3c0805444483337064               50.0              35.0   \n",
       "0000f6ccb0745a6a4b88665a16c9f078                5.0              11.0   \n",
       "0004aac84e0df4da2b147fca70cf8255                3.0              11.0   \n",
       "...                                             ...               ...   \n",
       "fffcf5a5ff07b0908bd4e2dbc735a684               75.0              61.0   \n",
       "fffea47cd6d3cc0a88bd621562a9d061               36.0              27.0   \n",
       "ffff371b4d645b6ecea244b27531430a               15.0              13.0   \n",
       "ffff5962728ec6157033ef9805bacc48               14.0              16.0   \n",
       "ffffd2657e2aad2907e67c3e9daecbeb               11.0              11.0   \n",
       "\n",
       "                                  review_comment_title  \\\n",
       "customer_unique_id                                       \n",
       "0000366f3b9a7992bf8c76cfdf3221e2                   1.0   \n",
       "0000b849f77a49e4a4ce2b2a4ca5be3f                   0.0   \n",
       "0000f46a3911fa3c0805444483337064                   0.0   \n",
       "0000f6ccb0745a6a4b88665a16c9f078                   0.0   \n",
       "0004aac84e0df4da2b147fca70cf8255                   0.0   \n",
       "...                                                ...   \n",
       "fffcf5a5ff07b0908bd4e2dbc735a684                   0.0   \n",
       "fffea47cd6d3cc0a88bd621562a9d061                   0.0   \n",
       "ffff371b4d645b6ecea244b27531430a                   0.0   \n",
       "ffff5962728ec6157033ef9805bacc48                   1.0   \n",
       "ffffd2657e2aad2907e67c3e9daecbeb                   0.0   \n",
       "\n",
       "                                  review_comment_message payment_type  \\\n",
       "customer_unique_id                                                      \n",
       "0000366f3b9a7992bf8c76cfdf3221e2                     1.0  credit_card   \n",
       "0000b849f77a49e4a4ce2b2a4ca5be3f                     0.0  credit_card   \n",
       "0000f46a3911fa3c0805444483337064                     0.0  credit_card   \n",
       "0000f6ccb0745a6a4b88665a16c9f078                     1.0  credit_card   \n",
       "0004aac84e0df4da2b147fca70cf8255                     0.0  credit_card   \n",
       "...                                                  ...          ...   \n",
       "fffcf5a5ff07b0908bd4e2dbc735a684                     0.0  credit_card   \n",
       "fffea47cd6d3cc0a88bd621562a9d061                     0.0  credit_card   \n",
       "ffff371b4d645b6ecea244b27531430a                     0.0  credit_card   \n",
       "ffff5962728ec6157033ef9805bacc48                     1.0  credit_card   \n",
       "ffffd2657e2aad2907e67c3e9daecbeb                     0.0  credit_card   \n",
       "\n",
       "                                 product_category_name customer_state  \\\n",
       "customer_unique_id                                                      \n",
       "0000366f3b9a7992bf8c76cfdf3221e2       cama_mesa_banho             SP   \n",
       "0000b849f77a49e4a4ce2b2a4ca5be3f          beleza_saude             SP   \n",
       "0000f46a3911fa3c0805444483337064             papelaria             SC   \n",
       "0000f6ccb0745a6a4b88665a16c9f078             telefonia             PA   \n",
       "0004aac84e0df4da2b147fca70cf8255             telefonia             SP   \n",
       "...                                                ...            ...   \n",
       "fffcf5a5ff07b0908bd4e2dbc735a684          beleza_saude             PE   \n",
       "fffea47cd6d3cc0a88bd621562a9d061                 bebes             BA   \n",
       "ffff371b4d645b6ecea244b27531430a            automotivo             MT   \n",
       "ffff5962728ec6157033ef9805bacc48    relogios_presentes             ES   \n",
       "ffffd2657e2aad2907e67c3e9daecbeb            perfumaria             PR   \n",
       "\n",
       "                                  order_purchase_timestamp  \n",
       "customer_unique_id                                          \n",
       "0000366f3b9a7992bf8c76cfdf3221e2                       160  \n",
       "0000b849f77a49e4a4ce2b2a4ca5be3f                       163  \n",
       "0000f46a3911fa3c0805444483337064                       586  \n",
       "0000f6ccb0745a6a4b88665a16c9f078                       370  \n",
       "0004aac84e0df4da2b147fca70cf8255                       337  \n",
       "...                                                    ...  \n",
       "fffcf5a5ff07b0908bd4e2dbc735a684                       496  \n",
       "fffea47cd6d3cc0a88bd621562a9d061                       311  \n",
       "ffff371b4d645b6ecea244b27531430a                       617  \n",
       "ffff5962728ec6157033ef9805bacc48                       168  \n",
       "ffffd2657e2aad2907e67c3e9daecbeb                       533  \n",
       "\n",
       "[96096 rows x 18 columns]"
      ]
     },
     "execution_count": 22,
     "metadata": {},
     "output_type": "execute_result"
    }
   ],
   "source": [
    "# write/read computationally expensive data to/from csv\n",
    "#df.to_csv('df.csv', index=True);\n",
    "df = pd.read_csv('df.csv', index_col=0)\n",
    "df"
   ]
  },
  {
   "cell_type": "markdown",
   "metadata": {},
   "source": [
    "# Exploratory Data Analytics"
   ]
  },
  {
   "cell_type": "code",
   "execution_count": 6,
   "metadata": {
    "scrolled": false
   },
   "outputs": [
    {
     "data": {
      "image/png": "[encoded data removed]",
      "text/plain": [
       "<Figure size 432x288 with 1 Axes>"
      ]
     },
     "metadata": {
      "needs_background": "light"
     },
     "output_type": "display_data"
    }
   ],
   "source": [
    "plt.bar(df.payment_installments.value_counts().index, df.payment_installments.value_counts().values);\n",
    "plt.xlabel('installments')\n",
    "plt.ylabel('count');"
   ]
  },
  {
   "cell_type": "code",
   "execution_count": 7,
   "metadata": {
    "scrolled": false
   },
   "outputs": [
    {
     "data": {
      "image/png": "[encoded data removed]",
      "text/plain": [
       "<Figure size 432x288 with 1 Axes>"
      ]
     },
     "metadata": {
      "needs_background": "light"
     },
     "output_type": "display_data"
    }
   ],
   "source": [
    "plt.bar(df.review_score.value_counts().index, df.review_score.value_counts().values);\n",
    "plt.xlabel('rating')\n",
    "plt.ylabel('count');"
   ]
  },
  {
   "cell_type": "code",
   "execution_count": 8,
   "metadata": {
    "scrolled": false
   },
   "outputs": [
    {
     "data": {
      "image/png": "[encoded data removed]",
      "text/plain": [
       "<Figure size 432x288 with 1 Axes>"
      ]
     },
     "metadata": {
      "needs_background": "light"
     },
     "output_type": "display_data"
    }
   ],
   "source": [
    "plt.hist(df.price, bins=100)\n",
    "plt.xlabel('price')\n",
    "plt.ylabel('count');"
   ]
  },
  {
   "cell_type": "code",
   "execution_count": 9,
   "metadata": {
    "scrolled": false
   },
   "outputs": [
    {
     "data": {
      "image/png": "[encoded data removed]",
      "text/plain": [
       "<Figure size 432x288 with 1 Axes>"
      ]
     },
     "metadata": {
      "needs_background": "light"
     },
     "output_type": "display_data"
    }
   ],
   "source": [
    "plt.hist(df.freight_value, bins=50)\n",
    "plt.xlabel('freight')\n",
    "plt.ylabel('count');"
   ]
  },
  {
   "cell_type": "code",
   "execution_count": 10,
   "metadata": {
    "scrolled": false
   },
   "outputs": [
    {
     "data": {
      "image/png": "[encoded data removed]",
      "text/plain": [
       "<Figure size 432x288 with 1 Axes>"
      ]
     },
     "metadata": {
      "needs_background": "light"
     },
     "output_type": "display_data"
    }
   ],
   "source": [
    "plt.hist(df.product_name_lenght, bins=50)\n",
    "plt.xlabel('product_name_lenght')\n",
    "plt.ylabel('count');"
   ]
  },
  {
   "cell_type": "code",
   "execution_count": 20,
   "metadata": {
    "scrolled": false
   },
   "outputs": [
    {
     "data": {
      "image/png": "[encoded data removed]",
      "text/plain": [
       "<Figure size 432x288 with 1 Axes>"
      ]
     },
     "metadata": {
      "needs_background": "light"
     },
     "output_type": "display_data"
    }
   ],
   "source": [
    "plt.hist(np.power(df.product_name_lenght, 3), bins=50)\n",
    "plt.xlabel('product_name_lenght^3')\n",
    "plt.ylabel('count');"
   ]
  },
  {
   "cell_type": "code",
   "execution_count": 12,
   "metadata": {
    "scrolled": false
   },
   "outputs": [
    {
     "data": {
      "image/png": "[encoded data removed]",
      "text/plain": [
       "<Figure size 432x288 with 1 Axes>"
      ]
     },
     "metadata": {
      "needs_background": "light"
     },
     "output_type": "display_data"
    }
   ],
   "source": [
    "plt.hist(df.product_description_lenght, bins=50)\n",
    "plt.xlabel('product_description_lenght')\n",
    "plt.ylabel('count');"
   ]
  },
  {
   "cell_type": "code",
   "execution_count": 13,
   "metadata": {
    "scrolled": false
   },
   "outputs": [
    {
     "data": {
      "image/png": "[encoded data removed]",
      "text/plain": [
       "<Figure size 432x288 with 1 Axes>"
      ]
     },
     "metadata": {
      "needs_background": "light"
     },
     "output_type": "display_data"
    }
   ],
   "source": [
    "plt.bar(df.product_photos_qty.value_counts().index, df.product_photos_qty.value_counts().values)\n",
    "plt.xlabel('product_photos_qty')\n",
    "plt.ylabel('count');"
   ]
  },
  {
   "cell_type": "code",
   "execution_count": 14,
   "metadata": {
    "scrolled": false
   },
   "outputs": [
    {
     "data": {
      "image/png": "[encoded data removed]",
      "text/plain": [
       "<Figure size 432x288 with 1 Axes>"
      ]
     },
     "metadata": {
      "needs_background": "light"
     },
     "output_type": "display_data"
    }
   ],
   "source": [
    "plt.hist(df.product_length_cm, bins=50)\n",
    "plt.xlabel('product_length_cm')\n",
    "plt.ylabel('count');"
   ]
  },
  {
   "cell_type": "code",
   "execution_count": 16,
   "metadata": {
    "scrolled": false
   },
   "outputs": [
    {
     "data": {
      "image/png": "[encoded data removed]",
      "text/plain": [
       "<Figure size 432x288 with 1 Axes>"
      ]
     },
     "metadata": {
      "needs_background": "light"
     },
     "output_type": "display_data"
    }
   ],
   "source": [
    "plt.hist(df.product_height_cm, bins=50)\n",
    "plt.xlabel('product_height_cm')\n",
    "plt.ylabel('count');"
   ]
  },
  {
   "cell_type": "code",
   "execution_count": 17,
   "metadata": {
    "scrolled": false
   },
   "outputs": [
    {
     "data": {
      "image/png": "[encoded data removed]",
      "text/plain": [
       "<Figure size 432x288 with 1 Axes>"
      ]
     },
     "metadata": {
      "needs_background": "light"
     },
     "output_type": "display_data"
    }
   ],
   "source": [
    "plt.hist(df.product_width_cm, bins=50)\n",
    "plt.xlabel('product_width_cm')\n",
    "plt.ylabel('count');"
   ]
  },
  {
   "cell_type": "code",
   "execution_count": 18,
   "metadata": {
    "scrolled": false
   },
   "outputs": [
    {
     "data": {
      "image/png": "[encoded data removed]",
      "text/plain": [
       "<Figure size 432x288 with 1 Axes>"
      ]
     },
     "metadata": {
      "needs_background": "light"
     },
     "output_type": "display_data"
    }
   ],
   "source": [
    "plt.hist(np.log(df.product_width_cm), bins=50)\n",
    "plt.xlabel('log of product_width_cm')\n",
    "plt.ylabel('count');"
   ]
  },
  {
   "cell_type": "code",
   "execution_count": 119,
   "metadata": {
    "scrolled": false
   },
   "outputs": [
    {
     "data": {
      "text/plain": [
       "4"
      ]
     },
     "execution_count": 119,
     "metadata": {},
     "output_type": "execute_result"
    }
   ],
   "source": [
    "pocipr_df.payment_type.nunique()"
   ]
  },
  {
   "cell_type": "code",
   "execution_count": 120,
   "metadata": {
    "scrolled": false
   },
   "outputs": [
    {
     "data": {
      "text/plain": [
       "72"
      ]
     },
     "execution_count": 120,
     "metadata": {},
     "output_type": "execute_result"
    }
   ],
   "source": [
    "pocipr_df.product_category_name_english.nunique()"
   ]
  },
  {
   "cell_type": "code",
   "execution_count": 121,
   "metadata": {
    "scrolled": false
   },
   "outputs": [
    {
     "data": {
      "text/plain": [
       "27"
      ]
     },
     "execution_count": 121,
     "metadata": {},
     "output_type": "execute_result"
    }
   ],
   "source": [
    "pocipr_df.customer_state.nunique()"
   ]
  },
  {
   "cell_type": "markdown",
   "metadata": {},
   "source": [
    "The number of unique values for categorical features are not very large. Therefore, it is decided to one hot encode all of them for the first modeling round."
   ]
  },
  {
   "cell_type": "markdown",
   "metadata": {},
   "source": [
    "# PCA-based Clustering"
   ]
  },
  {
   "cell_type": "code",
   "execution_count": 23,
   "metadata": {
    "scrolled": false
   },
   "outputs": [
    {
     "data": {
      "text/html": [
       "<div>\n",
       "<style scoped>\n",
       "    .dataframe tbody tr th:only-of-type {\n",
       "        vertical-align: middle;\n",
       "    }\n",
       "\n",
       "    .dataframe tbody tr th {\n",
       "        vertical-align: top;\n",
       "    }\n",
       "\n",
       "    .dataframe thead th {\n",
       "        text-align: right;\n",
       "    }\n",
       "</style>\n",
       "<table border=\"1\" class=\"dataframe\">\n",
       "  <thead>\n",
       "    <tr style=\"text-align: right;\">\n",
       "      <th></th>\n",
       "      <th>order_id</th>\n",
       "      <th>payment_value</th>\n",
       "      <th>payment_installments</th>\n",
       "      <th>review_score</th>\n",
       "      <th>price</th>\n",
       "      <th>freight_value</th>\n",
       "      <th>product_name_lenght</th>\n",
       "      <th>product_description_lenght</th>\n",
       "      <th>product_photos_qty</th>\n",
       "      <th>product_length_cm</th>\n",
       "      <th>...</th>\n",
       "      <th>customer_state_PR</th>\n",
       "      <th>customer_state_RJ</th>\n",
       "      <th>customer_state_RN</th>\n",
       "      <th>customer_state_RO</th>\n",
       "      <th>customer_state_RR</th>\n",
       "      <th>customer_state_RS</th>\n",
       "      <th>customer_state_SC</th>\n",
       "      <th>customer_state_SE</th>\n",
       "      <th>customer_state_SP</th>\n",
       "      <th>customer_state_TO</th>\n",
       "    </tr>\n",
       "    <tr>\n",
       "      <th>customer_unique_id</th>\n",
       "      <th></th>\n",
       "      <th></th>\n",
       "      <th></th>\n",
       "      <th></th>\n",
       "      <th></th>\n",
       "      <th></th>\n",
       "      <th></th>\n",
       "      <th></th>\n",
       "      <th></th>\n",
       "      <th></th>\n",
       "      <th></th>\n",
       "      <th></th>\n",
       "      <th></th>\n",
       "      <th></th>\n",
       "      <th></th>\n",
       "      <th></th>\n",
       "      <th></th>\n",
       "      <th></th>\n",
       "      <th></th>\n",
       "      <th></th>\n",
       "      <th></th>\n",
       "    </tr>\n",
       "  </thead>\n",
       "  <tbody>\n",
       "    <tr>\n",
       "      <td>0000366f3b9a7992bf8c76cfdf3221e2</td>\n",
       "      <td>1</td>\n",
       "      <td>141.90</td>\n",
       "      <td>8.0</td>\n",
       "      <td>5.0</td>\n",
       "      <td>129.90</td>\n",
       "      <td>12.00</td>\n",
       "      <td>60.0</td>\n",
       "      <td>236.0</td>\n",
       "      <td>1.0</td>\n",
       "      <td>34.0</td>\n",
       "      <td>...</td>\n",
       "      <td>0</td>\n",
       "      <td>0</td>\n",
       "      <td>0</td>\n",
       "      <td>0</td>\n",
       "      <td>0</td>\n",
       "      <td>0</td>\n",
       "      <td>0</td>\n",
       "      <td>0</td>\n",
       "      <td>1</td>\n",
       "      <td>0</td>\n",
       "    </tr>\n",
       "    <tr>\n",
       "      <td>0000b849f77a49e4a4ce2b2a4ca5be3f</td>\n",
       "      <td>1</td>\n",
       "      <td>27.19</td>\n",
       "      <td>1.0</td>\n",
       "      <td>4.0</td>\n",
       "      <td>18.90</td>\n",
       "      <td>8.29</td>\n",
       "      <td>56.0</td>\n",
       "      <td>635.0</td>\n",
       "      <td>1.0</td>\n",
       "      <td>26.0</td>\n",
       "      <td>...</td>\n",
       "      <td>0</td>\n",
       "      <td>0</td>\n",
       "      <td>0</td>\n",
       "      <td>0</td>\n",
       "      <td>0</td>\n",
       "      <td>0</td>\n",
       "      <td>0</td>\n",
       "      <td>0</td>\n",
       "      <td>1</td>\n",
       "      <td>0</td>\n",
       "    </tr>\n",
       "    <tr>\n",
       "      <td>0000f46a3911fa3c0805444483337064</td>\n",
       "      <td>1</td>\n",
       "      <td>86.22</td>\n",
       "      <td>8.0</td>\n",
       "      <td>3.0</td>\n",
       "      <td>69.00</td>\n",
       "      <td>17.22</td>\n",
       "      <td>49.0</td>\n",
       "      <td>177.0</td>\n",
       "      <td>3.0</td>\n",
       "      <td>25.0</td>\n",
       "      <td>...</td>\n",
       "      <td>0</td>\n",
       "      <td>0</td>\n",
       "      <td>0</td>\n",
       "      <td>0</td>\n",
       "      <td>0</td>\n",
       "      <td>0</td>\n",
       "      <td>1</td>\n",
       "      <td>0</td>\n",
       "      <td>0</td>\n",
       "      <td>0</td>\n",
       "    </tr>\n",
       "    <tr>\n",
       "      <td>0000f6ccb0745a6a4b88665a16c9f078</td>\n",
       "      <td>1</td>\n",
       "      <td>43.62</td>\n",
       "      <td>4.0</td>\n",
       "      <td>4.0</td>\n",
       "      <td>25.99</td>\n",
       "      <td>17.63</td>\n",
       "      <td>43.0</td>\n",
       "      <td>1741.0</td>\n",
       "      <td>5.0</td>\n",
       "      <td>19.0</td>\n",
       "      <td>...</td>\n",
       "      <td>0</td>\n",
       "      <td>0</td>\n",
       "      <td>0</td>\n",
       "      <td>0</td>\n",
       "      <td>0</td>\n",
       "      <td>0</td>\n",
       "      <td>0</td>\n",
       "      <td>0</td>\n",
       "      <td>0</td>\n",
       "      <td>0</td>\n",
       "    </tr>\n",
       "    <tr>\n",
       "      <td>0004aac84e0df4da2b147fca70cf8255</td>\n",
       "      <td>1</td>\n",
       "      <td>196.89</td>\n",
       "      <td>6.0</td>\n",
       "      <td>5.0</td>\n",
       "      <td>180.00</td>\n",
       "      <td>16.89</td>\n",
       "      <td>58.0</td>\n",
       "      <td>794.0</td>\n",
       "      <td>3.0</td>\n",
       "      <td>16.0</td>\n",
       "      <td>...</td>\n",
       "      <td>0</td>\n",
       "      <td>0</td>\n",
       "      <td>0</td>\n",
       "      <td>0</td>\n",
       "      <td>0</td>\n",
       "      <td>0</td>\n",
       "      <td>0</td>\n",
       "      <td>0</td>\n",
       "      <td>1</td>\n",
       "      <td>0</td>\n",
       "    </tr>\n",
       "    <tr>\n",
       "      <td>...</td>\n",
       "      <td>...</td>\n",
       "      <td>...</td>\n",
       "      <td>...</td>\n",
       "      <td>...</td>\n",
       "      <td>...</td>\n",
       "      <td>...</td>\n",
       "      <td>...</td>\n",
       "      <td>...</td>\n",
       "      <td>...</td>\n",
       "      <td>...</td>\n",
       "      <td>...</td>\n",
       "      <td>...</td>\n",
       "      <td>...</td>\n",
       "      <td>...</td>\n",
       "      <td>...</td>\n",
       "      <td>...</td>\n",
       "      <td>...</td>\n",
       "      <td>...</td>\n",
       "      <td>...</td>\n",
       "      <td>...</td>\n",
       "      <td>...</td>\n",
       "    </tr>\n",
       "    <tr>\n",
       "      <td>fffcf5a5ff07b0908bd4e2dbc735a684</td>\n",
       "      <td>2</td>\n",
       "      <td>4134.84</td>\n",
       "      <td>10.0</td>\n",
       "      <td>5.0</td>\n",
       "      <td>785.00</td>\n",
       "      <td>248.71</td>\n",
       "      <td>54.0</td>\n",
       "      <td>478.5</td>\n",
       "      <td>1.0</td>\n",
       "      <td>55.0</td>\n",
       "      <td>...</td>\n",
       "      <td>0</td>\n",
       "      <td>0</td>\n",
       "      <td>0</td>\n",
       "      <td>0</td>\n",
       "      <td>0</td>\n",
       "      <td>0</td>\n",
       "      <td>0</td>\n",
       "      <td>0</td>\n",
       "      <td>0</td>\n",
       "      <td>0</td>\n",
       "    </tr>\n",
       "    <tr>\n",
       "      <td>fffea47cd6d3cc0a88bd621562a9d061</td>\n",
       "      <td>1</td>\n",
       "      <td>84.58</td>\n",
       "      <td>1.0</td>\n",
       "      <td>4.0</td>\n",
       "      <td>64.89</td>\n",
       "      <td>19.69</td>\n",
       "      <td>37.0</td>\n",
       "      <td>506.0</td>\n",
       "      <td>2.0</td>\n",
       "      <td>33.0</td>\n",
       "      <td>...</td>\n",
       "      <td>0</td>\n",
       "      <td>0</td>\n",
       "      <td>0</td>\n",
       "      <td>0</td>\n",
       "      <td>0</td>\n",
       "      <td>0</td>\n",
       "      <td>0</td>\n",
       "      <td>0</td>\n",
       "      <td>0</td>\n",
       "      <td>0</td>\n",
       "    </tr>\n",
       "    <tr>\n",
       "      <td>ffff371b4d645b6ecea244b27531430a</td>\n",
       "      <td>1</td>\n",
       "      <td>112.46</td>\n",
       "      <td>1.0</td>\n",
       "      <td>5.0</td>\n",
       "      <td>89.90</td>\n",
       "      <td>22.56</td>\n",
       "      <td>57.0</td>\n",
       "      <td>716.0</td>\n",
       "      <td>5.0</td>\n",
       "      <td>17.0</td>\n",
       "      <td>...</td>\n",
       "      <td>0</td>\n",
       "      <td>0</td>\n",
       "      <td>0</td>\n",
       "      <td>0</td>\n",
       "      <td>0</td>\n",
       "      <td>0</td>\n",
       "      <td>0</td>\n",
       "      <td>0</td>\n",
       "      <td>0</td>\n",
       "      <td>0</td>\n",
       "    </tr>\n",
       "    <tr>\n",
       "      <td>ffff5962728ec6157033ef9805bacc48</td>\n",
       "      <td>1</td>\n",
       "      <td>133.69</td>\n",
       "      <td>5.0</td>\n",
       "      <td>5.0</td>\n",
       "      <td>115.00</td>\n",
       "      <td>18.69</td>\n",
       "      <td>35.0</td>\n",
       "      <td>591.0</td>\n",
       "      <td>3.0</td>\n",
       "      <td>20.0</td>\n",
       "      <td>...</td>\n",
       "      <td>0</td>\n",
       "      <td>0</td>\n",
       "      <td>0</td>\n",
       "      <td>0</td>\n",
       "      <td>0</td>\n",
       "      <td>0</td>\n",
       "      <td>0</td>\n",
       "      <td>0</td>\n",
       "      <td>0</td>\n",
       "      <td>0</td>\n",
       "    </tr>\n",
       "    <tr>\n",
       "      <td>ffffd2657e2aad2907e67c3e9daecbeb</td>\n",
       "      <td>1</td>\n",
       "      <td>71.56</td>\n",
       "      <td>4.0</td>\n",
       "      <td>5.0</td>\n",
       "      <td>56.99</td>\n",
       "      <td>14.57</td>\n",
       "      <td>45.0</td>\n",
       "      <td>1003.0</td>\n",
       "      <td>2.0</td>\n",
       "      <td>18.0</td>\n",
       "      <td>...</td>\n",
       "      <td>1</td>\n",
       "      <td>0</td>\n",
       "      <td>0</td>\n",
       "      <td>0</td>\n",
       "      <td>0</td>\n",
       "      <td>0</td>\n",
       "      <td>0</td>\n",
       "      <td>0</td>\n",
       "      <td>0</td>\n",
       "      <td>0</td>\n",
       "    </tr>\n",
       "  </tbody>\n",
       "</table>\n",
       "<p>96096 rows × 121 columns</p>\n",
       "</div>"
      ],
      "text/plain": [
       "                                  order_id  payment_value  \\\n",
       "customer_unique_id                                          \n",
       "0000366f3b9a7992bf8c76cfdf3221e2         1         141.90   \n",
       "0000b849f77a49e4a4ce2b2a4ca5be3f         1          27.19   \n",
       "0000f46a3911fa3c0805444483337064         1          86.22   \n",
       "0000f6ccb0745a6a4b88665a16c9f078         1          43.62   \n",
       "0004aac84e0df4da2b147fca70cf8255         1         196.89   \n",
       "...                                    ...            ...   \n",
       "fffcf5a5ff07b0908bd4e2dbc735a684         2        4134.84   \n",
       "fffea47cd6d3cc0a88bd621562a9d061         1          84.58   \n",
       "ffff371b4d645b6ecea244b27531430a         1         112.46   \n",
       "ffff5962728ec6157033ef9805bacc48         1         133.69   \n",
       "ffffd2657e2aad2907e67c3e9daecbeb         1          71.56   \n",
       "\n",
       "                                  payment_installments  review_score   price  \\\n",
       "customer_unique_id                                                             \n",
       "0000366f3b9a7992bf8c76cfdf3221e2                   8.0           5.0  129.90   \n",
       "0000b849f77a49e4a4ce2b2a4ca5be3f                   1.0           4.0   18.90   \n",
       "0000f46a3911fa3c0805444483337064                   8.0           3.0   69.00   \n",
       "0000f6ccb0745a6a4b88665a16c9f078                   4.0           4.0   25.99   \n",
       "0004aac84e0df4da2b147fca70cf8255                   6.0           5.0  180.00   \n",
       "...                                                ...           ...     ...   \n",
       "fffcf5a5ff07b0908bd4e2dbc735a684                  10.0           5.0  785.00   \n",
       "fffea47cd6d3cc0a88bd621562a9d061                   1.0           4.0   64.89   \n",
       "ffff371b4d645b6ecea244b27531430a                   1.0           5.0   89.90   \n",
       "ffff5962728ec6157033ef9805bacc48                   5.0           5.0  115.00   \n",
       "ffffd2657e2aad2907e67c3e9daecbeb                   4.0           5.0   56.99   \n",
       "\n",
       "                                  freight_value  product_name_lenght  \\\n",
       "customer_unique_id                                                     \n",
       "0000366f3b9a7992bf8c76cfdf3221e2          12.00                 60.0   \n",
       "0000b849f77a49e4a4ce2b2a4ca5be3f           8.29                 56.0   \n",
       "0000f46a3911fa3c0805444483337064          17.22                 49.0   \n",
       "0000f6ccb0745a6a4b88665a16c9f078          17.63                 43.0   \n",
       "0004aac84e0df4da2b147fca70cf8255          16.89                 58.0   \n",
       "...                                         ...                  ...   \n",
       "fffcf5a5ff07b0908bd4e2dbc735a684         248.71                 54.0   \n",
       "fffea47cd6d3cc0a88bd621562a9d061          19.69                 37.0   \n",
       "ffff371b4d645b6ecea244b27531430a          22.56                 57.0   \n",
       "ffff5962728ec6157033ef9805bacc48          18.69                 35.0   \n",
       "ffffd2657e2aad2907e67c3e9daecbeb          14.57                 45.0   \n",
       "\n",
       "                                  product_description_lenght  \\\n",
       "customer_unique_id                                             \n",
       "0000366f3b9a7992bf8c76cfdf3221e2                       236.0   \n",
       "0000b849f77a49e4a4ce2b2a4ca5be3f                       635.0   \n",
       "0000f46a3911fa3c0805444483337064                       177.0   \n",
       "0000f6ccb0745a6a4b88665a16c9f078                      1741.0   \n",
       "0004aac84e0df4da2b147fca70cf8255                       794.0   \n",
       "...                                                      ...   \n",
       "fffcf5a5ff07b0908bd4e2dbc735a684                       478.5   \n",
       "fffea47cd6d3cc0a88bd621562a9d061                       506.0   \n",
       "ffff371b4d645b6ecea244b27531430a                       716.0   \n",
       "ffff5962728ec6157033ef9805bacc48                       591.0   \n",
       "ffffd2657e2aad2907e67c3e9daecbeb                      1003.0   \n",
       "\n",
       "                                  product_photos_qty  product_length_cm  ...  \\\n",
       "customer_unique_id                                                       ...   \n",
       "0000366f3b9a7992bf8c76cfdf3221e2                 1.0               34.0  ...   \n",
       "0000b849f77a49e4a4ce2b2a4ca5be3f                 1.0               26.0  ...   \n",
       "0000f46a3911fa3c0805444483337064                 3.0               25.0  ...   \n",
       "0000f6ccb0745a6a4b88665a16c9f078                 5.0               19.0  ...   \n",
       "0004aac84e0df4da2b147fca70cf8255                 3.0               16.0  ...   \n",
       "...                                              ...                ...  ...   \n",
       "fffcf5a5ff07b0908bd4e2dbc735a684                 1.0               55.0  ...   \n",
       "fffea47cd6d3cc0a88bd621562a9d061                 2.0               33.0  ...   \n",
       "ffff371b4d645b6ecea244b27531430a                 5.0               17.0  ...   \n",
       "ffff5962728ec6157033ef9805bacc48                 3.0               20.0  ...   \n",
       "ffffd2657e2aad2907e67c3e9daecbeb                 2.0               18.0  ...   \n",
       "\n",
       "                                  customer_state_PR  customer_state_RJ  \\\n",
       "customer_unique_id                                                       \n",
       "0000366f3b9a7992bf8c76cfdf3221e2                  0                  0   \n",
       "0000b849f77a49e4a4ce2b2a4ca5be3f                  0                  0   \n",
       "0000f46a3911fa3c0805444483337064                  0                  0   \n",
       "0000f6ccb0745a6a4b88665a16c9f078                  0                  0   \n",
       "0004aac84e0df4da2b147fca70cf8255                  0                  0   \n",
       "...                                             ...                ...   \n",
       "fffcf5a5ff07b0908bd4e2dbc735a684                  0                  0   \n",
       "fffea47cd6d3cc0a88bd621562a9d061                  0                  0   \n",
       "ffff371b4d645b6ecea244b27531430a                  0                  0   \n",
       "ffff5962728ec6157033ef9805bacc48                  0                  0   \n",
       "ffffd2657e2aad2907e67c3e9daecbeb                  1                  0   \n",
       "\n",
       "                                  customer_state_RN  customer_state_RO  \\\n",
       "customer_unique_id                                                       \n",
       "0000366f3b9a7992bf8c76cfdf3221e2                  0                  0   \n",
       "0000b849f77a49e4a4ce2b2a4ca5be3f                  0                  0   \n",
       "0000f46a3911fa3c0805444483337064                  0                  0   \n",
       "0000f6ccb0745a6a4b88665a16c9f078                  0                  0   \n",
       "0004aac84e0df4da2b147fca70cf8255                  0                  0   \n",
       "...                                             ...                ...   \n",
       "fffcf5a5ff07b0908bd4e2dbc735a684                  0                  0   \n",
       "fffea47cd6d3cc0a88bd621562a9d061                  0                  0   \n",
       "ffff371b4d645b6ecea244b27531430a                  0                  0   \n",
       "ffff5962728ec6157033ef9805bacc48                  0                  0   \n",
       "ffffd2657e2aad2907e67c3e9daecbeb                  0                  0   \n",
       "\n",
       "                                  customer_state_RR  customer_state_RS  \\\n",
       "customer_unique_id                                                       \n",
       "0000366f3b9a7992bf8c76cfdf3221e2                  0                  0   \n",
       "0000b849f77a49e4a4ce2b2a4ca5be3f                  0                  0   \n",
       "0000f46a3911fa3c0805444483337064                  0                  0   \n",
       "0000f6ccb0745a6a4b88665a16c9f078                  0                  0   \n",
       "0004aac84e0df4da2b147fca70cf8255                  0                  0   \n",
       "...                                             ...                ...   \n",
       "fffcf5a5ff07b0908bd4e2dbc735a684                  0                  0   \n",
       "fffea47cd6d3cc0a88bd621562a9d061                  0                  0   \n",
       "ffff371b4d645b6ecea244b27531430a                  0                  0   \n",
       "ffff5962728ec6157033ef9805bacc48                  0                  0   \n",
       "ffffd2657e2aad2907e67c3e9daecbeb                  0                  0   \n",
       "\n",
       "                                  customer_state_SC  customer_state_SE  \\\n",
       "customer_unique_id                                                       \n",
       "0000366f3b9a7992bf8c76cfdf3221e2                  0                  0   \n",
       "0000b849f77a49e4a4ce2b2a4ca5be3f                  0                  0   \n",
       "0000f46a3911fa3c0805444483337064                  1                  0   \n",
       "0000f6ccb0745a6a4b88665a16c9f078                  0                  0   \n",
       "0004aac84e0df4da2b147fca70cf8255                  0                  0   \n",
       "...                                             ...                ...   \n",
       "fffcf5a5ff07b0908bd4e2dbc735a684                  0                  0   \n",
       "fffea47cd6d3cc0a88bd621562a9d061                  0                  0   \n",
       "ffff371b4d645b6ecea244b27531430a                  0                  0   \n",
       "ffff5962728ec6157033ef9805bacc48                  0                  0   \n",
       "ffffd2657e2aad2907e67c3e9daecbeb                  0                  0   \n",
       "\n",
       "                                  customer_state_SP  customer_state_TO  \n",
       "customer_unique_id                                                      \n",
       "0000366f3b9a7992bf8c76cfdf3221e2                  1                  0  \n",
       "0000b849f77a49e4a4ce2b2a4ca5be3f                  1                  0  \n",
       "0000f46a3911fa3c0805444483337064                  0                  0  \n",
       "0000f6ccb0745a6a4b88665a16c9f078                  0                  0  \n",
       "0004aac84e0df4da2b147fca70cf8255                  1                  0  \n",
       "...                                             ...                ...  \n",
       "fffcf5a5ff07b0908bd4e2dbc735a684                  0                  0  \n",
       "fffea47cd6d3cc0a88bd621562a9d061                  0                  0  \n",
       "ffff371b4d645b6ecea244b27531430a                  0                  0  \n",
       "ffff5962728ec6157033ef9805bacc48                  0                  0  \n",
       "ffffd2657e2aad2907e67c3e9daecbeb                  0                  0  \n",
       "\n",
       "[96096 rows x 121 columns]"
      ]
     },
     "execution_count": 23,
     "metadata": {},
     "output_type": "execute_result"
    }
   ],
   "source": [
    "df = pd.get_dummies(df)\n",
    "df"
   ]
  },
  {
   "cell_type": "markdown",
   "metadata": {},
   "source": [
    "## Standard Scaler"
   ]
  },
  {
   "cell_type": "code",
   "execution_count": 186,
   "metadata": {
    "scrolled": false
   },
   "outputs": [],
   "source": [
    "#df = df.sample(frac=0.1)"
   ]
  },
  {
   "cell_type": "code",
   "execution_count": 31,
   "metadata": {
    "scrolled": false
   },
   "outputs": [],
   "source": [
    "# standard scaler\n",
    "scaler = StandardScaler()\n",
    "X = scaler.fit_transform(df)"
   ]
  },
  {
   "cell_type": "markdown",
   "metadata": {},
   "source": [
    "## Elbow Diagram"
   ]
  },
  {
   "cell_type": "code",
   "execution_count": 188,
   "metadata": {
    "scrolled": false
   },
   "outputs": [
    {
     "data": {
      "image/png": "[encoded data removed]",
      "text/plain": [
       "<Figure size 432x288 with 1 Axes>"
      ]
     },
     "metadata": {
      "needs_background": "light"
     },
     "output_type": "display_data"
    }
   ],
   "source": [
    "# elbow diagram\n",
    "inertia_dict = {}\n",
    "for k in range(1,15):\n",
    "    km = KMeans(n_clusters=k).fit(X)\n",
    "    inertia_dict[k] = km.inertia_    \n",
    "plt.scatter(inertia_dict.keys(), inertia_dict.values())\n",
    "plt.xlabel('Clusters')\n",
    "plt.ylabel('Inertia');"
   ]
  },
  {
   "cell_type": "markdown",
   "metadata": {},
   "source": [
    "## Principle Component Analysis"
   ]
  },
  {
   "cell_type": "code",
   "execution_count": 14,
   "metadata": {
    "scrolled": false
   },
   "outputs": [
    {
     "data": {
      "text/plain": [
       "Text(0, 0.5, 'explained variance')"
      ]
     },
     "execution_count": 14,
     "metadata": {},
     "output_type": "execute_result"
    },
    {
     "data": {
      "image/png": "[encoded data removed]",
      "text/plain": [
       "<Figure size 432x288 with 1 Axes>"
      ]
     },
     "metadata": {
      "needs_background": "light"
     },
     "output_type": "display_data"
    }
   ],
   "source": [
    "# cumulative sum explained variance ratio plot\n",
    "pca = PCA(n_components=X.shape[1])\n",
    "X_pca = pca.fit_transform(X)\n",
    "plt.plot(range(1, X.shape[1]+1), pca.explained_variance_ratio_.cumsum(), marker='.');\n",
    "plt.xlabel('principle component')\n",
    "plt.ylabel('explained variance')"
   ]
  },
  {
   "cell_type": "markdown",
   "metadata": {},
   "source": [
    "The explained variance curve suggests that the features are uncorrelated with one another in general; however, a few important ones should be chosen to achieve a reasonable segmentation."
   ]
  },
  {
   "cell_type": "code",
   "execution_count": 36,
   "metadata": {
    "scrolled": false
   },
   "outputs": [],
   "source": [
    "# principle component analysis\n",
    "from sklearn.decomposition import PCA\n",
    "pca = PCA(n_components=3)\n",
    "X_pca = pca.fit_transform(X)"
   ]
  },
  {
   "cell_type": "code",
   "execution_count": 190,
   "metadata": {
    "scrolled": true
   },
   "outputs": [
    {
     "data": {
      "image/png": "[encoded data removed]",
      "text/plain": [
       "<Figure size 432x288 with 1 Axes>"
      ]
     },
     "metadata": {
      "needs_background": "light"
     },
     "output_type": "display_data"
    }
   ],
   "source": [
    "# elbow diagram\n",
    "inertia_dict = {}\n",
    "for k in range(1,15):\n",
    "    km = KMeans(n_clusters=k).fit(X_pca)\n",
    "    inertia_dict[k] = km.inertia_\n",
    "    \n",
    "plt.scatter(inertia_dict.keys(), inertia_dict.values())\n",
    "plt.xlabel('Clusters')\n",
    "plt.ylabel('Inertia');"
   ]
  },
  {
   "cell_type": "markdown",
   "metadata": {},
   "source": [
    "For 3 features, elbow diagram suggests that the slope of diagram starts reducing starting at 4 clusters. Furthermore, low number of segments is desirable in marketing because it makes it easier to keep track of the implemented strategies. As a result, four clusters are chosen for start."
   ]
  },
  {
   "cell_type": "code",
   "execution_count": 208,
   "metadata": {
    "scrolled": false
   },
   "outputs": [
    {
     "data": {
      "text/plain": [
       "<matplotlib.collections.PathCollection at 0x1d1de423b88>"
      ]
     },
     "execution_count": 208,
     "metadata": {},
     "output_type": "execute_result"
    },
    {
     "data": {
      "image/png": "[encoded data removed]",
      "text/plain": [
       "<Figure size 432x288 with 1 Axes>"
      ]
     },
     "metadata": {
      "needs_background": "light"
     },
     "output_type": "display_data"
    }
   ],
   "source": [
    "plt.scatter(X_pca[:,0],X_pca[:,1])"
   ]
  },
  {
   "cell_type": "code",
   "execution_count": 204,
   "metadata": {
    "scrolled": false
   },
   "outputs": [
    {
     "data": {
      "text/plain": [
       "<matplotlib.collections.PathCollection at 0x1d1de3bb7c8>"
      ]
     },
     "execution_count": 204,
     "metadata": {},
     "output_type": "execute_result"
    },
    {
     "data": {
      "image/png": "[encoded data removed]",
      "text/plain": [
       "<Figure size 432x288 with 1 Axes>"
      ]
     },
     "metadata": {
      "needs_background": "light"
     },
     "output_type": "display_data"
    }
   ],
   "source": [
    "plt.scatter(X_pca[:,1],X_pca[:,2])"
   ]
  },
  {
   "cell_type": "markdown",
   "metadata": {},
   "source": [
    "## K-means Clusters"
   ]
  },
  {
   "cell_type": "code",
   "execution_count": 37,
   "metadata": {
    "scrolled": false
   },
   "outputs": [],
   "source": [
    "km = KMeans(n_clusters=4).fit(X_pca)"
   ]
  },
  {
   "cell_type": "code",
   "execution_count": 41,
   "metadata": {
    "scrolled": false
   },
   "outputs": [
    {
     "data": {
      "image/png": "[encoded data removed]",
      "text/plain": [
       "<Figure size 432x288 with 1 Axes>"
      ]
     },
     "metadata": {
      "needs_background": "light"
     },
     "output_type": "display_data"
    }
   ],
   "source": [
    "plt.scatter(X_pca[:,0], X_pca[:,1], c=km.labels_)\n",
    "plt.xlabel('PCA 1')\n",
    "plt.ylabel('PCA 2');"
   ]
  },
  {
   "cell_type": "code",
   "execution_count": 42,
   "metadata": {
    "scrolled": false
   },
   "outputs": [
    {
     "data": {
      "image/png": "[encoded data removed]",
      "text/plain": [
       "<Figure size 432x288 with 1 Axes>"
      ]
     },
     "metadata": {
      "needs_background": "light"
     },
     "output_type": "display_data"
    }
   ],
   "source": [
    "plt.scatter(X_pca[:,1], X_pca[:,2], c=km.labels_)\n",
    "plt.xlabel('PCA 2')\n",
    "plt.ylabel('PCA 3');"
   ]
  },
  {
   "cell_type": "markdown",
   "metadata": {},
   "source": [
    "The selected four clusters are visible in both views of data; however, there are quite a lot of interference between points from different clusters specially in the second view."
   ]
  },
  {
   "cell_type": "code",
   "execution_count": 193,
   "metadata": {
    "scrolled": false
   },
   "outputs": [
    {
     "data": {
      "text/plain": [
       "array([23264, 40364, 27102,  5366], dtype=int64)"
      ]
     },
     "execution_count": 193,
     "metadata": {},
     "output_type": "execute_result"
    }
   ],
   "source": [
    "np.bincount(km.labels_)"
   ]
  },
  {
   "cell_type": "code",
   "execution_count": 16,
   "metadata": {
    "scrolled": false
   },
   "outputs": [
    {
     "data": {
      "text/html": [
       "<div>\n",
       "<style scoped>\n",
       "    .dataframe tbody tr th:only-of-type {\n",
       "        vertical-align: middle;\n",
       "    }\n",
       "\n",
       "    .dataframe tbody tr th {\n",
       "        vertical-align: top;\n",
       "    }\n",
       "\n",
       "    .dataframe thead th {\n",
       "        text-align: right;\n",
       "    }\n",
       "</style>\n",
       "<table border=\"1\" class=\"dataframe\">\n",
       "  <thead>\n",
       "    <tr style=\"text-align: right;\">\n",
       "      <th></th>\n",
       "      <th>feature</th>\n",
       "      <th>abs_corr</th>\n",
       "      <th>corr</th>\n",
       "      <th>p_value</th>\n",
       "    </tr>\n",
       "  </thead>\n",
       "  <tbody>\n",
       "    <tr>\n",
       "      <td>0</td>\n",
       "      <td>freight_value</td>\n",
       "      <td>0.693182</td>\n",
       "      <td>0.693182</td>\n",
       "      <td>0.000000</td>\n",
       "    </tr>\n",
       "    <tr>\n",
       "      <td>1</td>\n",
       "      <td>product_width_cm</td>\n",
       "      <td>0.629904</td>\n",
       "      <td>0.629904</td>\n",
       "      <td>0.000000</td>\n",
       "    </tr>\n",
       "    <tr>\n",
       "      <td>2</td>\n",
       "      <td>product_length_cm</td>\n",
       "      <td>0.590800</td>\n",
       "      <td>0.590800</td>\n",
       "      <td>0.000000</td>\n",
       "    </tr>\n",
       "    <tr>\n",
       "      <td>3</td>\n",
       "      <td>product_height_cm</td>\n",
       "      <td>0.578383</td>\n",
       "      <td>0.578383</td>\n",
       "      <td>0.000000</td>\n",
       "    </tr>\n",
       "    <tr>\n",
       "      <td>4</td>\n",
       "      <td>price</td>\n",
       "      <td>0.572685</td>\n",
       "      <td>0.572685</td>\n",
       "      <td>0.000000</td>\n",
       "    </tr>\n",
       "    <tr>\n",
       "      <td>...</td>\n",
       "      <td>...</td>\n",
       "      <td>...</td>\n",
       "      <td>...</td>\n",
       "      <td>...</td>\n",
       "    </tr>\n",
       "    <tr>\n",
       "      <td>115</td>\n",
       "      <td>product_category_name_cds_dvds_musicais</td>\n",
       "      <td>0.002814</td>\n",
       "      <td>-0.002814</td>\n",
       "      <td>0.383008</td>\n",
       "    </tr>\n",
       "    <tr>\n",
       "      <td>116</td>\n",
       "      <td>customer_state_PR</td>\n",
       "      <td>0.001783</td>\n",
       "      <td>-0.001783</td>\n",
       "      <td>0.580466</td>\n",
       "    </tr>\n",
       "    <tr>\n",
       "      <td>117</td>\n",
       "      <td>product_category_name_construcao_ferramentas_s...</td>\n",
       "      <td>0.001626</td>\n",
       "      <td>0.001626</td>\n",
       "      <td>0.614164</td>\n",
       "    </tr>\n",
       "    <tr>\n",
       "      <td>118</td>\n",
       "      <td>product_category_name_artigos_de_natal</td>\n",
       "      <td>0.000982</td>\n",
       "      <td>-0.000982</td>\n",
       "      <td>0.760772</td>\n",
       "    </tr>\n",
       "    <tr>\n",
       "      <td>119</td>\n",
       "      <td>product_category_name_seguros_e_servicos</td>\n",
       "      <td>0.000718</td>\n",
       "      <td>-0.000718</td>\n",
       "      <td>0.823881</td>\n",
       "    </tr>\n",
       "  </tbody>\n",
       "</table>\n",
       "<p>120 rows × 4 columns</p>\n",
       "</div>"
      ],
      "text/plain": [
       "                                               feature  abs_corr      corr  \\\n",
       "0                                        freight_value  0.693182  0.693182   \n",
       "1                                     product_width_cm  0.629904  0.629904   \n",
       "2                                    product_length_cm  0.590800  0.590800   \n",
       "3                                    product_height_cm  0.578383  0.578383   \n",
       "4                                                price  0.572685  0.572685   \n",
       "..                                                 ...       ...       ...   \n",
       "115            product_category_name_cds_dvds_musicais  0.002814 -0.002814   \n",
       "116                                  customer_state_PR  0.001783 -0.001783   \n",
       "117  product_category_name_construcao_ferramentas_s...  0.001626  0.001626   \n",
       "118             product_category_name_artigos_de_natal  0.000982 -0.000982   \n",
       "119           product_category_name_seguros_e_servicos  0.000718 -0.000718   \n",
       "\n",
       "      p_value  \n",
       "0    0.000000  \n",
       "1    0.000000  \n",
       "2    0.000000  \n",
       "3    0.000000  \n",
       "4    0.000000  \n",
       "..        ...  \n",
       "115  0.383008  \n",
       "116  0.580466  \n",
       "117  0.614164  \n",
       "118  0.760772  \n",
       "119  0.823881  \n",
       "\n",
       "[120 rows x 4 columns]"
      ]
     },
     "execution_count": 16,
     "metadata": {},
     "output_type": "execute_result"
    }
   ],
   "source": [
    "from scipy import stats\n",
    "corr_array=[]\n",
    "for i in range(df.shape[1]-1):  \n",
    "    corr_array.append([df.columns[i],\n",
    "                       np.abs(stats.pearsonr(df[df.columns[i]], X_pca[:,0])[0]),\n",
    "                       stats.pearsonr(df[df.columns[i]], X_pca[:,0])[0],\n",
    "                       stats.pearsonr(df[df.columns[i]], X_pca[:,0])[1]])\n",
    "    \n",
    "corr_df = pd.DataFrame(corr_array, columns = ['feature', 'abs_corr', 'corr', 'p_value'])\n",
    "corr_df.sort_values(by='abs_corr', ascending=False, inplace=True)\n",
    "corr_df.reset_index(drop=True, inplace=True)\n",
    "corr_df"
   ]
  },
  {
   "cell_type": "code",
   "execution_count": 49,
   "metadata": {
    "scrolled": false
   },
   "outputs": [
    {
     "data": {
      "text/plain": [
       "Text(0.5, 0, 'normalized coefficient')"
      ]
     },
     "execution_count": 49,
     "metadata": {},
     "output_type": "execute_result"
    },
    {
     "data": {
      "image/png": "[encoded data removed]",
      "text/plain": [
       "<Figure size 432x288 with 1 Axes>"
      ]
     },
     "metadata": {
      "needs_background": "light"
     },
     "output_type": "display_data"
    }
   ],
   "source": [
    "X=df\n",
    "y=X_pca[:,0]\n",
    "\n",
    "# scale data with standard scaler\n",
    "scaler = StandardScaler()\n",
    "X = pd.DataFrame(data=scaler.fit_transform(X), columns=X.columns)\n",
    "\n",
    "# fit logit function \n",
    "import statsmodels.api as sm\n",
    "X_withconstant = sm.add_constant(X)\n",
    "logit = sm.OLS(y, X_withconstant).fit()\n",
    "#display(logit.summary()) \n",
    "\n",
    "# table of significant coefficinets sorted by absolute value\n",
    "coef_table = logit.summary().tables[1]\n",
    "coef_df = pd.DataFrame(data=coef_table.data[1:], columns=coef_table.data[0])\n",
    "coef_df['coef'] = coef_df['coef'].astype(float)\n",
    "coef_df['P>|t|'] = coef_df['P>|t|'].astype(float)\n",
    "coef_df['abs_coef'] = np.abs(coef_df['coef'])\n",
    "coef_df.drop(0, axis='index', inplace=True)\n",
    "coefs_by_mag = coef_df.sort_values(by='abs_coef', ascending=False)\n",
    "coefs_by_mag = coefs_by_mag[coefs_by_mag['P>|t|'] <= 0.05]\n",
    "\n",
    "# bar chart of feature coefficients\n",
    "bar_names = coefs_by_mag['']\n",
    "bar_heights = coefs_by_mag['coef']\n",
    "bar_colors = np.where(bar_heights>0, 'blue', 'red')\n",
    "#plt.figure(figsize=(5.0, 20))\n",
    "plt.barh(bar_names[:10], bar_heights[:10], color=bar_colors)\n",
    "plt.xlabel('normalized coefficient')"
   ]
  },
  {
   "cell_type": "markdown",
   "metadata": {},
   "source": [
    "There are very many factors related to these principle components that it is difficult to interprete the cluster results based on original features"
   ]
  },
  {
   "cell_type": "code",
   "execution_count": 201,
   "metadata": {
    "scrolled": false
   },
   "outputs": [
    {
     "data": {
      "text/plain": [
       "['churned | regular | high value',\n",
       " 'churned | one time | high value',\n",
       " 'current | one time | low value',\n",
       " 'current | regular | high value']"
      ]
     },
     "execution_count": 201,
     "metadata": {},
     "output_type": "execute_result"
    }
   ],
   "source": [
    "# cluster description list \n",
    "customer_segment_list = []\n",
    "for cluster in range(4):\n",
    "    if km.cluster_centers_[cluster, 0] > 0:\n",
    "        customer_segment_list.append('current | ')\n",
    "    else:\n",
    "        customer_segment_list.append('churned | ')\n",
    "    if km.cluster_centers_[cluster, 1] > 0:\n",
    "        customer_segment_list[cluster] += 'regular | '\n",
    "    else:\n",
    "        customer_segment_list[cluster] += 'one time | '\n",
    "    if km.cluster_centers_[cluster, 2] > 0:\n",
    "        customer_segment_list[cluster] += 'high value'\n",
    "    else:\n",
    "        customer_segment_list[cluster] += 'low value'\n",
    "\n",
    "customer_segment_list"
   ]
  },
  {
   "cell_type": "code",
   "execution_count": 202,
   "metadata": {
    "scrolled": false
   },
   "outputs": [
    {
     "data": {
      "image/png": "[encoded data removed]",
      "text/plain": [
       "<Figure size 432x288 with 2 Axes>"
      ]
     },
     "metadata": {
      "needs_background": "light"
     },
     "output_type": "display_data"
    }
   ],
   "source": [
    "# cluster characteristic heatmap \n",
    "import seaborn as sns\n",
    "sns.heatmap(km.cluster_centers_, cmap='GnBu', \n",
    "            xticklabels=rfm_df.columns,\n",
    "            yticklabels=customer_segment_list);"
   ]
  },
  {
   "cell_type": "code",
   "execution_count": 161,
   "metadata": {
    "scrolled": true
   },
   "outputs": [
    {
     "data": {
      "text/plain": [
       "Text(0, 0.5, 'TSNE 2')"
      ]
     },
     "execution_count": 161,
     "metadata": {},
     "output_type": "execute_result"
    },
    {
     "data": {
      "image/png": "[encoded data removed]",
      "text/plain": [
       "<Figure size 432x288 with 1 Axes>"
      ]
     },
     "metadata": {
      "needs_background": "light"
     },
     "output_type": "display_data"
    }
   ],
   "source": [
    "# TSNE plot of clusters\n",
    "tsne = TSNE(n_components=2)\n",
    "X_tsne = tsne.fit_transform(X)\n",
    "plt.scatter(X_tsne[:,0], X_tsne[:,1], c=km.labels_)\n",
    "plt.xlabel('TSNE 1')\n",
    "plt.ylabel('TSNE 2')"
   ]
  },
  {
   "cell_type": "markdown",
   "metadata": {},
   "source": [
    "TSNE plot for this clustering verifies that the uniformity of clusters are not acceptable."
   ]
  },
  {
   "cell_type": "code",
   "execution_count": 38,
   "metadata": {
    "scrolled": true
   },
   "outputs": [
    {
     "data": {
      "text/plain": [
       "-0.004697534550971745"
      ]
     },
     "execution_count": 38,
     "metadata": {},
     "output_type": "execute_result"
    }
   ],
   "source": [
    "from sklearn.metrics import silhouette_score\n",
    "silhouette_score(X, km.labels_)"
   ]
  },
  {
   "cell_type": "markdown",
   "metadata": {},
   "source": [
    "The small silhouette score verifies the overlapping clusters. The negative sign indicates that in average data points have been assigned to the wrong cluster while they would be more similar to a different cluster."
   ]
  },
  {
   "cell_type": "code",
   "execution_count": 34,
   "metadata": {
    "scrolled": false
   },
   "outputs": [],
   "source": [
    "km = KMeans(n_clusters=2).fit(X_pca)"
   ]
  },
  {
   "cell_type": "code",
   "execution_count": 229,
   "metadata": {
    "scrolled": false
   },
   "outputs": [
    {
     "data": {
      "image/png": "[encoded data removed]",
      "text/plain": [
       "<Figure size 432x288 with 1 Axes>"
      ]
     },
     "metadata": {
      "needs_background": "light"
     },
     "output_type": "display_data"
    }
   ],
   "source": [
    "plt.scatter(X_pca[:,0], X_pca[:,1], c=km.labels_)\n",
    "plt.xlabel('PCA 1')\n",
    "plt.ylabel('PCA 2');"
   ]
  },
  {
   "cell_type": "code",
   "execution_count": 230,
   "metadata": {
    "scrolled": false
   },
   "outputs": [
    {
     "data": {
      "image/png": "[encoded data removed]",
      "text/plain": [
       "<Figure size 432x288 with 1 Axes>"
      ]
     },
     "metadata": {
      "needs_background": "light"
     },
     "output_type": "display_data"
    }
   ],
   "source": [
    "plt.scatter(X_pca[:,1], X_pca[:,2], c=km.labels_)\n",
    "plt.xlabel('PCA 2')\n",
    "plt.ylabel('PCA 3');"
   ]
  },
  {
   "cell_type": "markdown",
   "metadata": {},
   "source": [
    "There is a good seperation in case of two clusters. Furthermore, visualization of clusters along principle components suggests that the main difference between two clusters is based on PCA 2."
   ]
  },
  {
   "cell_type": "code",
   "execution_count": 231,
   "metadata": {
    "scrolled": false
   },
   "outputs": [
    {
     "data": {
      "text/plain": [
       "array([24292, 71804], dtype=int64)"
      ]
     },
     "execution_count": 231,
     "metadata": {},
     "output_type": "execute_result"
    }
   ],
   "source": [
    "np.bincount(km.labels_)"
   ]
  },
  {
   "cell_type": "code",
   "execution_count": 54,
   "metadata": {
    "scrolled": true
   },
   "outputs": [
    {
     "data": {
      "image/png": "[encoded data removed]",
      "text/plain": [
       "<Figure size 432x288 with 1 Axes>"
      ]
     },
     "metadata": {
      "needs_background": "light"
     },
     "output_type": "display_data"
    }
   ],
   "source": [
    "X=df\n",
    "y=X_pca[:,1]\n",
    "\n",
    "# scale data with standard scaler\n",
    "scaler = StandardScaler()\n",
    "X = pd.DataFrame(data=scaler.fit_transform(X), columns=X.columns)\n",
    "\n",
    "# fit logit function \n",
    "import statsmodels.api as sm\n",
    "X_withconstant = sm.add_constant(X)\n",
    "logit = sm.OLS(y, X_withconstant).fit()\n",
    "# display(logit.summary()) \n",
    "\n",
    "# table of significant coefficinets sorted by absolute value\n",
    "coef_table = logit.summary().tables[1]\n",
    "coef_df = pd.DataFrame(data=coef_table.data[1:], columns=coef_table.data[0])\n",
    "coef_df['coef'] = coef_df['coef'].astype(float)\n",
    "coef_df['P>|t|'] = coef_df['P>|t|'].astype(float)\n",
    "coef_df['abs_coef'] = np.abs(coef_df['coef'])\n",
    "coef_df.drop(0, axis='index', inplace=True)\n",
    "coefs_by_mag = coef_df.sort_values(by='abs_coef', ascending=False)\n",
    "coefs_by_mag = coefs_by_mag[coefs_by_mag['P>|t|'] <= 0.05]\n",
    "\n",
    "# bar chart of feature coefficients\n",
    "bar_names = coefs_by_mag['']\n",
    "bar_heights = coefs_by_mag['coef']\n",
    "bar_colors = np.where(bar_heights>0, 'blue', 'red')\n",
    "plt.barh(bar_names[:10], bar_heights[:10], color=bar_colors)\n",
    "plt.xlabel('normalized coefficient');"
   ]
  },
  {
   "cell_type": "markdown",
   "metadata": {},
   "source": [
    "Even though PCA 2 is still a linear combination of a number of features, but the bar chart suggests that it many of the important factors are payment methods. Specifically, the negative direction on this dimension is associated with credit card while the positive direction is associated with boleto, voucher, and debit card. Given that the main distinction of clusters is along PCA 2, it can be concluded that the clusters essentially are just showing a pattern in payment method."
   ]
  },
  {
   "cell_type": "code",
   "execution_count": 31,
   "metadata": {
    "scrolled": false
   },
   "outputs": [
    {
     "data": {
      "image/png": "[encoded data removed]",
      "text/plain": [
       "<Figure size 720x720 with 4 Axes>"
      ]
     },
     "metadata": {
      "needs_background": "light"
     },
     "output_type": "display_data"
    }
   ],
   "source": [
    "df['cluster_label'] = km.labels_\n",
    "\n",
    "plt.figure(figsize=(10, 10))\n",
    "\n",
    "plt.subplot(2, 2, 1)\n",
    "df.groupby('cluster_label').sum()['payment_type_boleto'].plot(kind='bar')\n",
    "plt.title('Billet')\n",
    "plt.xlabel('segment')\n",
    "plt.ylabel('count') \n",
    "\n",
    "plt.subplot(2, 2, 2)\n",
    "df.groupby('cluster_label').sum()['payment_type_voucher'].plot(kind='bar')\n",
    "plt.title('Voucher')\n",
    "plt.xlabel('segment')\n",
    "plt.ylabel('count') \n",
    "\n",
    "plt.subplot(2, 2, 3)\n",
    "df.groupby('cluster_label').sum()['payment_type_debit_card'].plot(kind='bar')\n",
    "plt.title('Debit')\n",
    "plt.xlabel('segment')\n",
    "plt.ylabel('count') \n",
    "\n",
    "plt.subplot(2, 2, 4)\n",
    "df.groupby('cluster_label').sum()['payment_type_credit_card'].plot(kind='bar')\n",
    "plt.title('Credit')\n",
    "plt.xlabel('segment')\n",
    "plt.ylabel('count');"
   ]
  },
  {
   "cell_type": "markdown",
   "metadata": {},
   "source": [
    "The bar charts suggests that segment 0 is almost exclusivly using credit card while the other segment 1 uses non-credit payment methods which confirms the results from the logistic regression."
   ]
  },
  {
   "cell_type": "code",
   "execution_count": 35,
   "metadata": {
    "scrolled": false
   },
   "outputs": [
    {
     "data": {
      "text/plain": [
       "0.057528798804422084"
      ]
     },
     "execution_count": 35,
     "metadata": {},
     "output_type": "execute_result"
    }
   ],
   "source": [
    "from sklearn.metrics import silhouette_score\n",
    "silhouette_score(X, km.labels_)"
   ]
  },
  {
   "cell_type": "markdown",
   "metadata": {},
   "source": [
    "There is a slight improvement in silhouette score compared to complete feature set; however, still it has a small value."
   ]
  },
  {
   "cell_type": "markdown",
   "metadata": {},
   "source": [
    "# RFM-based Clustering"
   ]
  },
  {
   "cell_type": "code",
   "execution_count": 162,
   "metadata": {
    "scrolled": false
   },
   "outputs": [
    {
     "data": {
      "text/html": [
       "<div>\n",
       "<style scoped>\n",
       "    .dataframe tbody tr th:only-of-type {\n",
       "        vertical-align: middle;\n",
       "    }\n",
       "\n",
       "    .dataframe tbody tr th {\n",
       "        vertical-align: top;\n",
       "    }\n",
       "\n",
       "    .dataframe thead th {\n",
       "        text-align: right;\n",
       "    }\n",
       "</style>\n",
       "<table border=\"1\" class=\"dataframe\">\n",
       "  <thead>\n",
       "    <tr style=\"text-align: right;\">\n",
       "      <th></th>\n",
       "      <th>order_id</th>\n",
       "      <th>payment_value</th>\n",
       "      <th>payment_installments</th>\n",
       "      <th>review_score</th>\n",
       "      <th>price</th>\n",
       "      <th>freight_value</th>\n",
       "      <th>product_name_lenght</th>\n",
       "      <th>product_description_lenght</th>\n",
       "      <th>product_photos_qty</th>\n",
       "      <th>product_length_cm</th>\n",
       "      <th>...</th>\n",
       "      <th>customer_state_PR</th>\n",
       "      <th>customer_state_RJ</th>\n",
       "      <th>customer_state_RN</th>\n",
       "      <th>customer_state_RO</th>\n",
       "      <th>customer_state_RR</th>\n",
       "      <th>customer_state_RS</th>\n",
       "      <th>customer_state_SC</th>\n",
       "      <th>customer_state_SE</th>\n",
       "      <th>customer_state_SP</th>\n",
       "      <th>customer_state_TO</th>\n",
       "    </tr>\n",
       "    <tr>\n",
       "      <th>customer_unique_id</th>\n",
       "      <th></th>\n",
       "      <th></th>\n",
       "      <th></th>\n",
       "      <th></th>\n",
       "      <th></th>\n",
       "      <th></th>\n",
       "      <th></th>\n",
       "      <th></th>\n",
       "      <th></th>\n",
       "      <th></th>\n",
       "      <th></th>\n",
       "      <th></th>\n",
       "      <th></th>\n",
       "      <th></th>\n",
       "      <th></th>\n",
       "      <th></th>\n",
       "      <th></th>\n",
       "      <th></th>\n",
       "      <th></th>\n",
       "      <th></th>\n",
       "      <th></th>\n",
       "    </tr>\n",
       "  </thead>\n",
       "  <tbody>\n",
       "    <tr>\n",
       "      <td>0000366f3b9a7992bf8c76cfdf3221e2</td>\n",
       "      <td>1</td>\n",
       "      <td>141.90</td>\n",
       "      <td>8.0</td>\n",
       "      <td>5.0</td>\n",
       "      <td>129.90</td>\n",
       "      <td>12.00</td>\n",
       "      <td>60.0</td>\n",
       "      <td>236.0</td>\n",
       "      <td>1.0</td>\n",
       "      <td>34.0</td>\n",
       "      <td>...</td>\n",
       "      <td>0</td>\n",
       "      <td>0</td>\n",
       "      <td>0</td>\n",
       "      <td>0</td>\n",
       "      <td>0</td>\n",
       "      <td>0</td>\n",
       "      <td>0</td>\n",
       "      <td>0</td>\n",
       "      <td>1</td>\n",
       "      <td>0</td>\n",
       "    </tr>\n",
       "    <tr>\n",
       "      <td>0000b849f77a49e4a4ce2b2a4ca5be3f</td>\n",
       "      <td>1</td>\n",
       "      <td>27.19</td>\n",
       "      <td>1.0</td>\n",
       "      <td>4.0</td>\n",
       "      <td>18.90</td>\n",
       "      <td>8.29</td>\n",
       "      <td>56.0</td>\n",
       "      <td>635.0</td>\n",
       "      <td>1.0</td>\n",
       "      <td>26.0</td>\n",
       "      <td>...</td>\n",
       "      <td>0</td>\n",
       "      <td>0</td>\n",
       "      <td>0</td>\n",
       "      <td>0</td>\n",
       "      <td>0</td>\n",
       "      <td>0</td>\n",
       "      <td>0</td>\n",
       "      <td>0</td>\n",
       "      <td>1</td>\n",
       "      <td>0</td>\n",
       "    </tr>\n",
       "    <tr>\n",
       "      <td>0000f46a3911fa3c0805444483337064</td>\n",
       "      <td>1</td>\n",
       "      <td>86.22</td>\n",
       "      <td>8.0</td>\n",
       "      <td>3.0</td>\n",
       "      <td>69.00</td>\n",
       "      <td>17.22</td>\n",
       "      <td>49.0</td>\n",
       "      <td>177.0</td>\n",
       "      <td>3.0</td>\n",
       "      <td>25.0</td>\n",
       "      <td>...</td>\n",
       "      <td>0</td>\n",
       "      <td>0</td>\n",
       "      <td>0</td>\n",
       "      <td>0</td>\n",
       "      <td>0</td>\n",
       "      <td>0</td>\n",
       "      <td>1</td>\n",
       "      <td>0</td>\n",
       "      <td>0</td>\n",
       "      <td>0</td>\n",
       "    </tr>\n",
       "    <tr>\n",
       "      <td>0000f6ccb0745a6a4b88665a16c9f078</td>\n",
       "      <td>1</td>\n",
       "      <td>43.62</td>\n",
       "      <td>4.0</td>\n",
       "      <td>4.0</td>\n",
       "      <td>25.99</td>\n",
       "      <td>17.63</td>\n",
       "      <td>43.0</td>\n",
       "      <td>1741.0</td>\n",
       "      <td>5.0</td>\n",
       "      <td>19.0</td>\n",
       "      <td>...</td>\n",
       "      <td>0</td>\n",
       "      <td>0</td>\n",
       "      <td>0</td>\n",
       "      <td>0</td>\n",
       "      <td>0</td>\n",
       "      <td>0</td>\n",
       "      <td>0</td>\n",
       "      <td>0</td>\n",
       "      <td>0</td>\n",
       "      <td>0</td>\n",
       "    </tr>\n",
       "    <tr>\n",
       "      <td>0004aac84e0df4da2b147fca70cf8255</td>\n",
       "      <td>1</td>\n",
       "      <td>196.89</td>\n",
       "      <td>6.0</td>\n",
       "      <td>5.0</td>\n",
       "      <td>180.00</td>\n",
       "      <td>16.89</td>\n",
       "      <td>58.0</td>\n",
       "      <td>794.0</td>\n",
       "      <td>3.0</td>\n",
       "      <td>16.0</td>\n",
       "      <td>...</td>\n",
       "      <td>0</td>\n",
       "      <td>0</td>\n",
       "      <td>0</td>\n",
       "      <td>0</td>\n",
       "      <td>0</td>\n",
       "      <td>0</td>\n",
       "      <td>0</td>\n",
       "      <td>0</td>\n",
       "      <td>1</td>\n",
       "      <td>0</td>\n",
       "    </tr>\n",
       "    <tr>\n",
       "      <td>...</td>\n",
       "      <td>...</td>\n",
       "      <td>...</td>\n",
       "      <td>...</td>\n",
       "      <td>...</td>\n",
       "      <td>...</td>\n",
       "      <td>...</td>\n",
       "      <td>...</td>\n",
       "      <td>...</td>\n",
       "      <td>...</td>\n",
       "      <td>...</td>\n",
       "      <td>...</td>\n",
       "      <td>...</td>\n",
       "      <td>...</td>\n",
       "      <td>...</td>\n",
       "      <td>...</td>\n",
       "      <td>...</td>\n",
       "      <td>...</td>\n",
       "      <td>...</td>\n",
       "      <td>...</td>\n",
       "      <td>...</td>\n",
       "      <td>...</td>\n",
       "    </tr>\n",
       "    <tr>\n",
       "      <td>fffcf5a5ff07b0908bd4e2dbc735a684</td>\n",
       "      <td>2</td>\n",
       "      <td>4134.84</td>\n",
       "      <td>10.0</td>\n",
       "      <td>5.0</td>\n",
       "      <td>785.00</td>\n",
       "      <td>248.71</td>\n",
       "      <td>54.0</td>\n",
       "      <td>478.5</td>\n",
       "      <td>1.0</td>\n",
       "      <td>55.0</td>\n",
       "      <td>...</td>\n",
       "      <td>0</td>\n",
       "      <td>0</td>\n",
       "      <td>0</td>\n",
       "      <td>0</td>\n",
       "      <td>0</td>\n",
       "      <td>0</td>\n",
       "      <td>0</td>\n",
       "      <td>0</td>\n",
       "      <td>0</td>\n",
       "      <td>0</td>\n",
       "    </tr>\n",
       "    <tr>\n",
       "      <td>fffea47cd6d3cc0a88bd621562a9d061</td>\n",
       "      <td>1</td>\n",
       "      <td>84.58</td>\n",
       "      <td>1.0</td>\n",
       "      <td>4.0</td>\n",
       "      <td>64.89</td>\n",
       "      <td>19.69</td>\n",
       "      <td>37.0</td>\n",
       "      <td>506.0</td>\n",
       "      <td>2.0</td>\n",
       "      <td>33.0</td>\n",
       "      <td>...</td>\n",
       "      <td>0</td>\n",
       "      <td>0</td>\n",
       "      <td>0</td>\n",
       "      <td>0</td>\n",
       "      <td>0</td>\n",
       "      <td>0</td>\n",
       "      <td>0</td>\n",
       "      <td>0</td>\n",
       "      <td>0</td>\n",
       "      <td>0</td>\n",
       "    </tr>\n",
       "    <tr>\n",
       "      <td>ffff371b4d645b6ecea244b27531430a</td>\n",
       "      <td>1</td>\n",
       "      <td>112.46</td>\n",
       "      <td>1.0</td>\n",
       "      <td>5.0</td>\n",
       "      <td>89.90</td>\n",
       "      <td>22.56</td>\n",
       "      <td>57.0</td>\n",
       "      <td>716.0</td>\n",
       "      <td>5.0</td>\n",
       "      <td>17.0</td>\n",
       "      <td>...</td>\n",
       "      <td>0</td>\n",
       "      <td>0</td>\n",
       "      <td>0</td>\n",
       "      <td>0</td>\n",
       "      <td>0</td>\n",
       "      <td>0</td>\n",
       "      <td>0</td>\n",
       "      <td>0</td>\n",
       "      <td>0</td>\n",
       "      <td>0</td>\n",
       "    </tr>\n",
       "    <tr>\n",
       "      <td>ffff5962728ec6157033ef9805bacc48</td>\n",
       "      <td>1</td>\n",
       "      <td>133.69</td>\n",
       "      <td>5.0</td>\n",
       "      <td>5.0</td>\n",
       "      <td>115.00</td>\n",
       "      <td>18.69</td>\n",
       "      <td>35.0</td>\n",
       "      <td>591.0</td>\n",
       "      <td>3.0</td>\n",
       "      <td>20.0</td>\n",
       "      <td>...</td>\n",
       "      <td>0</td>\n",
       "      <td>0</td>\n",
       "      <td>0</td>\n",
       "      <td>0</td>\n",
       "      <td>0</td>\n",
       "      <td>0</td>\n",
       "      <td>0</td>\n",
       "      <td>0</td>\n",
       "      <td>0</td>\n",
       "      <td>0</td>\n",
       "    </tr>\n",
       "    <tr>\n",
       "      <td>ffffd2657e2aad2907e67c3e9daecbeb</td>\n",
       "      <td>1</td>\n",
       "      <td>71.56</td>\n",
       "      <td>4.0</td>\n",
       "      <td>5.0</td>\n",
       "      <td>56.99</td>\n",
       "      <td>14.57</td>\n",
       "      <td>45.0</td>\n",
       "      <td>1003.0</td>\n",
       "      <td>2.0</td>\n",
       "      <td>18.0</td>\n",
       "      <td>...</td>\n",
       "      <td>1</td>\n",
       "      <td>0</td>\n",
       "      <td>0</td>\n",
       "      <td>0</td>\n",
       "      <td>0</td>\n",
       "      <td>0</td>\n",
       "      <td>0</td>\n",
       "      <td>0</td>\n",
       "      <td>0</td>\n",
       "      <td>0</td>\n",
       "    </tr>\n",
       "  </tbody>\n",
       "</table>\n",
       "<p>96096 rows × 121 columns</p>\n",
       "</div>"
      ],
      "text/plain": [
       "                                  order_id  payment_value  \\\n",
       "customer_unique_id                                          \n",
       "0000366f3b9a7992bf8c76cfdf3221e2         1         141.90   \n",
       "0000b849f77a49e4a4ce2b2a4ca5be3f         1          27.19   \n",
       "0000f46a3911fa3c0805444483337064         1          86.22   \n",
       "0000f6ccb0745a6a4b88665a16c9f078         1          43.62   \n",
       "0004aac84e0df4da2b147fca70cf8255         1         196.89   \n",
       "...                                    ...            ...   \n",
       "fffcf5a5ff07b0908bd4e2dbc735a684         2        4134.84   \n",
       "fffea47cd6d3cc0a88bd621562a9d061         1          84.58   \n",
       "ffff371b4d645b6ecea244b27531430a         1         112.46   \n",
       "ffff5962728ec6157033ef9805bacc48         1         133.69   \n",
       "ffffd2657e2aad2907e67c3e9daecbeb         1          71.56   \n",
       "\n",
       "                                  payment_installments  review_score   price  \\\n",
       "customer_unique_id                                                             \n",
       "0000366f3b9a7992bf8c76cfdf3221e2                   8.0           5.0  129.90   \n",
       "0000b849f77a49e4a4ce2b2a4ca5be3f                   1.0           4.0   18.90   \n",
       "0000f46a3911fa3c0805444483337064                   8.0           3.0   69.00   \n",
       "0000f6ccb0745a6a4b88665a16c9f078                   4.0           4.0   25.99   \n",
       "0004aac84e0df4da2b147fca70cf8255                   6.0           5.0  180.00   \n",
       "...                                                ...           ...     ...   \n",
       "fffcf5a5ff07b0908bd4e2dbc735a684                  10.0           5.0  785.00   \n",
       "fffea47cd6d3cc0a88bd621562a9d061                   1.0           4.0   64.89   \n",
       "ffff371b4d645b6ecea244b27531430a                   1.0           5.0   89.90   \n",
       "ffff5962728ec6157033ef9805bacc48                   5.0           5.0  115.00   \n",
       "ffffd2657e2aad2907e67c3e9daecbeb                   4.0           5.0   56.99   \n",
       "\n",
       "                                  freight_value  product_name_lenght  \\\n",
       "customer_unique_id                                                     \n",
       "0000366f3b9a7992bf8c76cfdf3221e2          12.00                 60.0   \n",
       "0000b849f77a49e4a4ce2b2a4ca5be3f           8.29                 56.0   \n",
       "0000f46a3911fa3c0805444483337064          17.22                 49.0   \n",
       "0000f6ccb0745a6a4b88665a16c9f078          17.63                 43.0   \n",
       "0004aac84e0df4da2b147fca70cf8255          16.89                 58.0   \n",
       "...                                         ...                  ...   \n",
       "fffcf5a5ff07b0908bd4e2dbc735a684         248.71                 54.0   \n",
       "fffea47cd6d3cc0a88bd621562a9d061          19.69                 37.0   \n",
       "ffff371b4d645b6ecea244b27531430a          22.56                 57.0   \n",
       "ffff5962728ec6157033ef9805bacc48          18.69                 35.0   \n",
       "ffffd2657e2aad2907e67c3e9daecbeb          14.57                 45.0   \n",
       "\n",
       "                                  product_description_lenght  \\\n",
       "customer_unique_id                                             \n",
       "0000366f3b9a7992bf8c76cfdf3221e2                       236.0   \n",
       "0000b849f77a49e4a4ce2b2a4ca5be3f                       635.0   \n",
       "0000f46a3911fa3c0805444483337064                       177.0   \n",
       "0000f6ccb0745a6a4b88665a16c9f078                      1741.0   \n",
       "0004aac84e0df4da2b147fca70cf8255                       794.0   \n",
       "...                                                      ...   \n",
       "fffcf5a5ff07b0908bd4e2dbc735a684                       478.5   \n",
       "fffea47cd6d3cc0a88bd621562a9d061                       506.0   \n",
       "ffff371b4d645b6ecea244b27531430a                       716.0   \n",
       "ffff5962728ec6157033ef9805bacc48                       591.0   \n",
       "ffffd2657e2aad2907e67c3e9daecbeb                      1003.0   \n",
       "\n",
       "                                  product_photos_qty  product_length_cm  ...  \\\n",
       "customer_unique_id                                                       ...   \n",
       "0000366f3b9a7992bf8c76cfdf3221e2                 1.0               34.0  ...   \n",
       "0000b849f77a49e4a4ce2b2a4ca5be3f                 1.0               26.0  ...   \n",
       "0000f46a3911fa3c0805444483337064                 3.0               25.0  ...   \n",
       "0000f6ccb0745a6a4b88665a16c9f078                 5.0               19.0  ...   \n",
       "0004aac84e0df4da2b147fca70cf8255                 3.0               16.0  ...   \n",
       "...                                              ...                ...  ...   \n",
       "fffcf5a5ff07b0908bd4e2dbc735a684                 1.0               55.0  ...   \n",
       "fffea47cd6d3cc0a88bd621562a9d061                 2.0               33.0  ...   \n",
       "ffff371b4d645b6ecea244b27531430a                 5.0               17.0  ...   \n",
       "ffff5962728ec6157033ef9805bacc48                 3.0               20.0  ...   \n",
       "ffffd2657e2aad2907e67c3e9daecbeb                 2.0               18.0  ...   \n",
       "\n",
       "                                  customer_state_PR  customer_state_RJ  \\\n",
       "customer_unique_id                                                       \n",
       "0000366f3b9a7992bf8c76cfdf3221e2                  0                  0   \n",
       "0000b849f77a49e4a4ce2b2a4ca5be3f                  0                  0   \n",
       "0000f46a3911fa3c0805444483337064                  0                  0   \n",
       "0000f6ccb0745a6a4b88665a16c9f078                  0                  0   \n",
       "0004aac84e0df4da2b147fca70cf8255                  0                  0   \n",
       "...                                             ...                ...   \n",
       "fffcf5a5ff07b0908bd4e2dbc735a684                  0                  0   \n",
       "fffea47cd6d3cc0a88bd621562a9d061                  0                  0   \n",
       "ffff371b4d645b6ecea244b27531430a                  0                  0   \n",
       "ffff5962728ec6157033ef9805bacc48                  0                  0   \n",
       "ffffd2657e2aad2907e67c3e9daecbeb                  1                  0   \n",
       "\n",
       "                                  customer_state_RN  customer_state_RO  \\\n",
       "customer_unique_id                                                       \n",
       "0000366f3b9a7992bf8c76cfdf3221e2                  0                  0   \n",
       "0000b849f77a49e4a4ce2b2a4ca5be3f                  0                  0   \n",
       "0000f46a3911fa3c0805444483337064                  0                  0   \n",
       "0000f6ccb0745a6a4b88665a16c9f078                  0                  0   \n",
       "0004aac84e0df4da2b147fca70cf8255                  0                  0   \n",
       "...                                             ...                ...   \n",
       "fffcf5a5ff07b0908bd4e2dbc735a684                  0                  0   \n",
       "fffea47cd6d3cc0a88bd621562a9d061                  0                  0   \n",
       "ffff371b4d645b6ecea244b27531430a                  0                  0   \n",
       "ffff5962728ec6157033ef9805bacc48                  0                  0   \n",
       "ffffd2657e2aad2907e67c3e9daecbeb                  0                  0   \n",
       "\n",
       "                                  customer_state_RR  customer_state_RS  \\\n",
       "customer_unique_id                                                       \n",
       "0000366f3b9a7992bf8c76cfdf3221e2                  0                  0   \n",
       "0000b849f77a49e4a4ce2b2a4ca5be3f                  0                  0   \n",
       "0000f46a3911fa3c0805444483337064                  0                  0   \n",
       "0000f6ccb0745a6a4b88665a16c9f078                  0                  0   \n",
       "0004aac84e0df4da2b147fca70cf8255                  0                  0   \n",
       "...                                             ...                ...   \n",
       "fffcf5a5ff07b0908bd4e2dbc735a684                  0                  0   \n",
       "fffea47cd6d3cc0a88bd621562a9d061                  0                  0   \n",
       "ffff371b4d645b6ecea244b27531430a                  0                  0   \n",
       "ffff5962728ec6157033ef9805bacc48                  0                  0   \n",
       "ffffd2657e2aad2907e67c3e9daecbeb                  0                  0   \n",
       "\n",
       "                                  customer_state_SC  customer_state_SE  \\\n",
       "customer_unique_id                                                       \n",
       "0000366f3b9a7992bf8c76cfdf3221e2                  0                  0   \n",
       "0000b849f77a49e4a4ce2b2a4ca5be3f                  0                  0   \n",
       "0000f46a3911fa3c0805444483337064                  1                  0   \n",
       "0000f6ccb0745a6a4b88665a16c9f078                  0                  0   \n",
       "0004aac84e0df4da2b147fca70cf8255                  0                  0   \n",
       "...                                             ...                ...   \n",
       "fffcf5a5ff07b0908bd4e2dbc735a684                  0                  0   \n",
       "fffea47cd6d3cc0a88bd621562a9d061                  0                  0   \n",
       "ffff371b4d645b6ecea244b27531430a                  0                  0   \n",
       "ffff5962728ec6157033ef9805bacc48                  0                  0   \n",
       "ffffd2657e2aad2907e67c3e9daecbeb                  0                  0   \n",
       "\n",
       "                                  customer_state_SP  customer_state_TO  \n",
       "customer_unique_id                                                      \n",
       "0000366f3b9a7992bf8c76cfdf3221e2                  1                  0  \n",
       "0000b849f77a49e4a4ce2b2a4ca5be3f                  1                  0  \n",
       "0000f46a3911fa3c0805444483337064                  0                  0  \n",
       "0000f6ccb0745a6a4b88665a16c9f078                  0                  0  \n",
       "0004aac84e0df4da2b147fca70cf8255                  1                  0  \n",
       "...                                             ...                ...  \n",
       "fffcf5a5ff07b0908bd4e2dbc735a684                  0                  0  \n",
       "fffea47cd6d3cc0a88bd621562a9d061                  0                  0  \n",
       "ffff371b4d645b6ecea244b27531430a                  0                  0  \n",
       "ffff5962728ec6157033ef9805bacc48                  0                  0  \n",
       "ffffd2657e2aad2907e67c3e9daecbeb                  0                  0  \n",
       "\n",
       "[96096 rows x 121 columns]"
      ]
     },
     "execution_count": 162,
     "metadata": {},
     "output_type": "execute_result"
    }
   ],
   "source": [
    "df"
   ]
  },
  {
   "cell_type": "markdown",
   "metadata": {},
   "source": [
    "## Standard Scaler"
   ]
  },
  {
   "cell_type": "code",
   "execution_count": 25,
   "metadata": {
    "scrolled": false
   },
   "outputs": [],
   "source": [
    "# rfm model\n",
    "rfm_df = df[['order_purchase_timestamp', 'order_id', 'payment_value']]\n",
    "rfm_df.columns = ['recency', 'frequency', 'monetary']\n",
    "rfm_df = rfm_df.sample(frac=0.1)"
   ]
  },
  {
   "cell_type": "code",
   "execution_count": 26,
   "metadata": {
    "scrolled": false
   },
   "outputs": [],
   "source": [
    "# standard scaler\n",
    "scaler = StandardScaler()\n",
    "X = scaler.fit_transform(rfm_df)"
   ]
  },
  {
   "cell_type": "markdown",
   "metadata": {},
   "source": [
    "## Elbow Diagram"
   ]
  },
  {
   "cell_type": "code",
   "execution_count": 254,
   "metadata": {
    "scrolled": false
   },
   "outputs": [
    {
     "data": {
      "image/png": "[encoded data removed]",
      "text/plain": [
       "<Figure size 432x288 with 1 Axes>"
      ]
     },
     "metadata": {
      "needs_background": "light"
     },
     "output_type": "display_data"
    }
   ],
   "source": [
    "# elbow diagram\n",
    "from sklearn.cluster import KMeans\n",
    "inertia_dict = {}\n",
    "for k in range(1,15):\n",
    "    rfm_km = KMeans(n_clusters=k).fit(X)\n",
    "    inertia_dict[k] = rfm_km.inertia_\n",
    "plt.scatter(inertia_dict.keys(), inertia_dict.values())\n",
    "plt.xlabel('Clusters')\n",
    "plt.ylabel('Inertia');"
   ]
  },
  {
   "cell_type": "markdown",
   "metadata": {},
   "source": [
    "In elbow diagram the slope of the curve starts to decrease from four clusters on. Furthermore, low number of clusters is better from marketing perspective because it is easier to keep track of the customer segments. Therefore, four clusters are selected as hyperparameters of the algorithm."
   ]
  },
  {
   "cell_type": "code",
   "execution_count": 28,
   "metadata": {
    "scrolled": false
   },
   "outputs": [],
   "source": [
    "n_clusters = 4"
   ]
  },
  {
   "cell_type": "markdown",
   "metadata": {},
   "source": [
    "## K-means Clustering"
   ]
  },
  {
   "cell_type": "code",
   "execution_count": 29,
   "metadata": {
    "scrolled": false
   },
   "outputs": [],
   "source": [
    "km = KMeans(n_clusters=n_clusters).fit(X)\n",
    "labels = km.labels_"
   ]
  },
  {
   "cell_type": "code",
   "execution_count": 257,
   "metadata": {
    "scrolled": false
   },
   "outputs": [
    {
     "data": {
      "text/plain": [
       "array([3938, 5286,  385,    1], dtype=int64)"
      ]
     },
     "execution_count": 257,
     "metadata": {},
     "output_type": "execute_result"
    }
   ],
   "source": [
    "np.bincount(labels)"
   ]
  },
  {
   "cell_type": "code",
   "execution_count": 258,
   "metadata": {
    "scrolled": false
   },
   "outputs": [],
   "source": [
    "label_count_df = pd.DataFrame(labels)"
   ]
  },
  {
   "cell_type": "code",
   "execution_count": 259,
   "metadata": {
    "scrolled": false
   },
   "outputs": [
    {
     "data": {
      "text/plain": [
       "array([[ 9.72509722e-01, -1.61650068e-01, -4.13464249e-02],\n",
       "       [-7.28055559e-01, -1.49111309e-01, -4.22110557e-02],\n",
       "       [ 4.71068978e-02,  3.67823170e+00,  7.69865501e-01],\n",
       "       [ 6.22245795e-01,  8.66114137e+00,  8.95516437e+01]])"
      ]
     },
     "execution_count": 259,
     "metadata": {},
     "output_type": "execute_result"
    }
   ],
   "source": [
    "km.cluster_centers_"
   ]
  },
  {
   "cell_type": "code",
   "execution_count": 260,
   "metadata": {
    "scrolled": false
   },
   "outputs": [
    {
     "data": {
      "text/plain": [
       "-0.14911130873240794"
      ]
     },
     "execution_count": 260,
     "metadata": {},
     "output_type": "execute_result"
    }
   ],
   "source": [
    "km.cluster_centers_[1,1]"
   ]
  },
  {
   "cell_type": "code",
   "execution_count": 261,
   "metadata": {
    "scrolled": false
   },
   "outputs": [
    {
     "data": {
      "text/plain": [
       "4"
      ]
     },
     "execution_count": 261,
     "metadata": {},
     "output_type": "execute_result"
    }
   ],
   "source": [
    "n_clusters"
   ]
  },
  {
   "cell_type": "code",
   "execution_count": 262,
   "metadata": {
    "scrolled": false
   },
   "outputs": [
    {
     "data": {
      "text/plain": [
       "Text(0, 0.5, 'Monetary')"
      ]
     },
     "execution_count": 262,
     "metadata": {},
     "output_type": "execute_result"
    },
    {
     "data": {
      "image/png": "[encoded data removed]",
      "text/plain": [
       "<Figure size 432x288 with 1 Axes>"
      ]
     },
     "metadata": {
      "needs_background": "light"
     },
     "output_type": "display_data"
    }
   ],
   "source": [
    "plt.scatter(rfm_df.recency, rfm_df.monetary, c=labels)\n",
    "plt.xlabel('Recency')\n",
    "plt.ylabel('Monetary')"
   ]
  },
  {
   "cell_type": "code",
   "execution_count": 263,
   "metadata": {
    "scrolled": false
   },
   "outputs": [
    {
     "data": {
      "text/plain": [
       "Text(0, 0.5, 'Monetary')"
      ]
     },
     "execution_count": 263,
     "metadata": {},
     "output_type": "execute_result"
    },
    {
     "data": {
      "image/png": "[encoded data removed]",
      "text/plain": [
       "<Figure size 432x288 with 1 Axes>"
      ]
     },
     "metadata": {
      "needs_background": "light"
     },
     "output_type": "display_data"
    }
   ],
   "source": [
    "plt.scatter(rfm_df.frequency, rfm_df.monetary, c=labels)\n",
    "plt.xlabel('Frequency')\n",
    "plt.ylabel('Monetary')"
   ]
  },
  {
   "cell_type": "markdown",
   "metadata": {},
   "source": [
    "This result suggests that customers grouped in this manner are objectively more simmilar within each group than any other four segmented groupings."
   ]
  },
  {
   "cell_type": "code",
   "execution_count": 264,
   "metadata": {
    "scrolled": false
   },
   "outputs": [
    {
     "data": {
      "text/plain": [
       "['current | one time | low value',\n",
       " 'churned | one time | low value',\n",
       " 'current | regular | high value',\n",
       " 'current | regular | high value']"
      ]
     },
     "execution_count": 264,
     "metadata": {},
     "output_type": "execute_result"
    }
   ],
   "source": [
    "# cluster description list \n",
    "customer_segment_list = []\n",
    "for cluster in range(n_clusters):\n",
    "    if km.cluster_centers_[cluster, 0] > 0:\n",
    "        customer_segment_list.append('current | ')\n",
    "    else:\n",
    "        customer_segment_list.append('churned | ')\n",
    "    if km.cluster_centers_[cluster, 1] > 0:\n",
    "        customer_segment_list[cluster] += 'regular | '\n",
    "    else:\n",
    "        customer_segment_list[cluster] += 'one time | '\n",
    "    if km.cluster_centers_[cluster, 2] > 0:\n",
    "        customer_segment_list[cluster] += 'high value'\n",
    "    else:\n",
    "        customer_segment_list[cluster] += 'low value'\n",
    "\n",
    "customer_segment_list"
   ]
  },
  {
   "cell_type": "code",
   "execution_count": 265,
   "metadata": {
    "scrolled": false
   },
   "outputs": [
    {
     "data": {
      "image/png": "[encoded data removed]",
      "text/plain": [
       "<Figure size 432x288 with 2 Axes>"
      ]
     },
     "metadata": {
      "needs_background": "light"
     },
     "output_type": "display_data"
    }
   ],
   "source": [
    "# cluster characteristic heatmap \n",
    "import seaborn as sns\n",
    "sns.heatmap(km.cluster_centers_, cmap='GnBu', \n",
    "            xticklabels=rfm_df.columns,\n",
    "            yticklabels=customer_segment_list);"
   ]
  },
  {
   "cell_type": "markdown",
   "metadata": {},
   "source": [
    "Heat map shows clusters segment customers to quite diverse groups. The descriptions inferred for these groups can be used to created customer personas and propose marketing strategies using [RFM model](https://docs.oracle.com/en/cloud/saas/marketing/responsys-user/RFM_TerminologyMechanics.htm) as shown in the table below:\n",
    "\n",
    "|Recency|Frequency|Monetary|Persona|Marketing Strategies|\n",
    "|-|-|-|-|-|\n",
    "|Churned|One Time|Low Value |Lost|No attempt to reaqcuire|\n",
    "|Churned|Regular |High Value|Champion|Loyalty Reward|\n",
    "|Current|One Time|Low Value |New|Welcome Offer|\n",
    "|Churned|Regular |High Value|Can't Lose|Aggressive Incentives|\n"
   ]
  },
  {
   "cell_type": "code",
   "execution_count": 266,
   "metadata": {
    "scrolled": false
   },
   "outputs": [
    {
     "data": {
      "text/plain": [
       "Text(0, 0.5, 'TSNE 2')"
      ]
     },
     "execution_count": 266,
     "metadata": {},
     "output_type": "execute_result"
    },
    {
     "data": {
      "image/png": "[encoded data removed]",
      "text/plain": [
       "<Figure size 432x288 with 1 Axes>"
      ]
     },
     "metadata": {
      "needs_background": "light"
     },
     "output_type": "display_data"
    }
   ],
   "source": [
    "# TSNE plot of clusters\n",
    "from sklearn.manifold import TSNE\n",
    "tsne = TSNE(n_components=2)\n",
    "X_tsne = tsne.fit_transform(X)\n",
    "plt.scatter(X_tsne[:,0], X_tsne[:,1], c=labels)\n",
    "plt.xlabel('TSNE 1')\n",
    "plt.ylabel('TSNE 2')"
   ]
  },
  {
   "cell_type": "markdown",
   "metadata": {},
   "source": [
    "TSNE visualization verifies that RFM-based clusters have better uniformity than PCA-based clusters as well."
   ]
  },
  {
   "cell_type": "code",
   "execution_count": 30,
   "metadata": {
    "scrolled": false
   },
   "outputs": [
    {
     "data": {
      "text/plain": [
       "0.47001388446563297"
      ]
     },
     "execution_count": 30,
     "metadata": {},
     "output_type": "execute_result"
    }
   ],
   "source": [
    "from sklearn.metrics import silhouette_score\n",
    "silhouette_score(X, km.labels_)"
   ]
  },
  {
   "cell_type": "markdown",
   "metadata": {},
   "source": [
    "Silhouette score has significantly improved suggesting more consistent clusters. In other words, data points are considerably more similar to data points that belong to the same cluster than data points in different clusters."
   ]
  },
  {
   "cell_type": "markdown",
   "metadata": {},
   "source": [
    "# Conclusion"
   ]
  },
  {
   "cell_type": "markdown",
   "metadata": {},
   "source": [
    "This report presents a method to segment customerce into groups based on their shopping behavior to be used to design distinct marketing strategies. E-commerce data from a public repository is used as an example. The data points are in form of transaction history where information about different aspects of the order exists in a seperate database. These databases are joined with the order database in the approperiate format to build the transaction history. The dataset used for customer segmentation is generated by grouping transaction information by unique customer IDs. Exploration of the dataset suggests that many of the features have skewed distribution. These skewed features are transformed using logarithm to capture more information. Clustering is initially performed based on the complete feature set; however, results suggests that the number of features are too large to create decent clusters specially given the marketing limitations for number of clusters. The number of features is initially reduced by PCA; however, it is hard to interprete the clusters after PCA. In another approach, RFM model is used to represent the data with three features of recency, frequency, and monetary value. Four clusters are selected by strking a balance between ease of marketing and uniformity of clusters. The results suggests that this approach leads to good clusters. A description for each cluster is generated by evaluating feature values at the center of clusters. These descriptions are used to create customer persona and propose marketing strategies."
   ]
  }
 ],
 "metadata": {
  "kernelspec": {
   "display_name": "Python 3",
   "language": "python",
   "name": "python3"
  },
  "language_info": {
   "codemirror_mode": {
    "name": "ipython",
    "version": 3
   },
   "file_extension": ".py",
   "mimetype": "text/x-python",
   "name": "python",
   "nbconvert_exporter": "python",
   "pygments_lexer": "ipython3",
   "version": "3.7.4"
  },
  "toc": {
   "base_numbering": 1,
   "nav_menu": {},
   "number_sections": true,
   "sideBar": true,
   "skip_h1_title": false,
   "title_cell": "Table of Contents",
   "title_sidebar": "Contents",
   "toc_cell": true,
   "toc_position": {},
   "toc_section_display": true,
   "toc_window_display": true
  }
 },
 "nbformat": 4,
 "nbformat_minor": 2
}
